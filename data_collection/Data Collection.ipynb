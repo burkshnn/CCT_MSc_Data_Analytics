{
 "cells": [
  {
   "cell_type": "code",
   "execution_count": 1,
   "id": "8636f2d2",
   "metadata": {},
   "outputs": [],
   "source": [
    "import snscrape.modules.twitter as sntw\n",
    "from datetime import date, timedelta\n",
    "import pandas as pd"
   ]
  },
  {
   "cell_type": "code",
   "execution_count": 2,
   "id": "0e9be186",
   "metadata": {},
   "outputs": [
    {
     "name": "stdout",
     "output_type": "stream",
     "text": [
      "Query will start from 2020-02-11 to 2023-05-24\n"
     ]
    }
   ],
   "source": [
    "# create query date list\n",
    "query_dates = []\n",
    "start_date = date(2020, 2, 11)\n",
    "for i in range(365*3+30*3+14):\n",
    "    iter_date = start_date + timedelta(i)\n",
    "    query_dates.append(iter_date.strftime(\"%Y-%m-%d\"))\n",
    "    \n",
    "print('Query will start from %s to %s' % (query_dates[0], query_dates[-1]))"
   ]
  },
  {
   "cell_type": "code",
   "execution_count": 3,
   "id": "20af3327",
   "metadata": {},
   "outputs": [],
   "source": [
    "def tweet_to_columns(tweet):\n",
    "    # Tweet based columns\n",
    "    tweet_has_links = len(tweet.links)>0 if tweet.links is not None else False\n",
    "    tweet_has_media = len(tweet.media)>0 if tweet.media is not None else False\n",
    "    tweet_has_mentions = len(tweet.mentionedUsers)>0 if tweet.mentionedUsers is not None else False\n",
    "    tweet_has_hashtags = len(tweet.hashtags)>1 if tweet.hashtags is not None else False # other than covid\n",
    "    tweet_columns = [tweet.id, tweet.date.strftime(\"%Y-%m-%d\"), tweet.url, len(tweet.rawContent), tweet.replyCount,\n",
    "                     tweet.retweetCount, tweet.likeCount, tweet.quoteCount, tweet.lang, tweet_has_links, tweet_has_media,\n",
    "                     tweet.retweetedTweet is not None, tweet.quotedTweet is not None, tweet.viewCount, tweet.bookmarkCount,\n",
    "                     tweet_has_hashtags]\n",
    "    # User based columns\n",
    "    user = tweet.user\n",
    "    user_columns = [user.id, user.displayname, user.rawDescription, user.verified, user.created.strftime(\"%Y-%m-%d\"),\n",
    "                    user.followersCount, user.friendsCount, user.location]\n",
    "    tweet_columns.extend(user_columns)\n",
    "    # Add tweet content as last column\n",
    "    tweet_columns.append(tweet.rawContent)\n",
    "    # Column names\n",
    "    col_names = ['id', 'date', 'url', 'lenContent', 'replyCount', 'retweetCount', 'likeCount', 'quoteCount', 'lang',\n",
    "             'hasLinks', 'hasMedia', 'isRetweeted', 'isQuoted', 'viewCount', 'bookmarkCount', 'hasHashtags',\n",
    "             'userId', 'displayName', 'userDescription', 'verified', 'createDate', 'followerCount', 'friendCount',\n",
    "             'userLocation', 'rawContent']\n",
    "    return {name: field for name, field in zip(col_names, tweet_columns)}"
   ]
  },
  {
   "cell_type": "code",
   "execution_count": 4,
   "id": "8964bab3",
   "metadata": {},
   "outputs": [
    {
     "name": "stdout",
     "output_type": "stream",
     "text": [
      "Running twitter query: \"(#covid) min_faves:50 lang:en until:2020-02-12 since:2020-02-11\"\n"
     ]
    },
    {
     "name": "stderr",
     "output_type": "stream",
     "text": [
      "Stopping after 20 empty pages\n"
     ]
    },
    {
     "name": "stdout",
     "output_type": "stream",
     "text": [
      "Collected 1 tweets at 2020-02-11.\n",
      "Running twitter query: \"(#covid) min_faves:50 lang:en until:2020-02-13 since:2020-02-12\"\n"
     ]
    },
    {
     "name": "stderr",
     "output_type": "stream",
     "text": [
      "Stopping after 20 empty pages\n"
     ]
    },
    {
     "name": "stdout",
     "output_type": "stream",
     "text": [
      "Collected 3 tweets at 2020-02-12.\n",
      "Running twitter query: \"(#covid) min_faves:50 lang:en until:2020-02-14 since:2020-02-13\"\n"
     ]
    },
    {
     "name": "stderr",
     "output_type": "stream",
     "text": [
      "Stopping after 20 empty pages\n"
     ]
    },
    {
     "name": "stdout",
     "output_type": "stream",
     "text": [
      "Collected 2 tweets at 2020-02-13.\n",
      "Running twitter query: \"(#covid) min_faves:50 lang:en until:2020-02-15 since:2020-02-14\"\n"
     ]
    },
    {
     "name": "stderr",
     "output_type": "stream",
     "text": [
      "Stopping after 20 empty pages\n"
     ]
    },
    {
     "name": "stdout",
     "output_type": "stream",
     "text": [
      "Collected 1 tweets at 2020-02-14.\n",
      "Running twitter query: \"(#covid) min_faves:50 lang:en until:2020-02-16 since:2020-02-15\"\n"
     ]
    },
    {
     "name": "stderr",
     "output_type": "stream",
     "text": [
      "Stopping after 20 empty pages\n"
     ]
    },
    {
     "name": "stdout",
     "output_type": "stream",
     "text": [
      "Collected 0 tweets at 2020-02-15.\n",
      "Running twitter query: \"(#covid) min_faves:50 lang:en until:2020-02-17 since:2020-02-16\"\n"
     ]
    },
    {
     "name": "stderr",
     "output_type": "stream",
     "text": [
      "Stopping after 20 empty pages\n"
     ]
    },
    {
     "name": "stdout",
     "output_type": "stream",
     "text": [
      "Collected 1 tweets at 2020-02-16.\n",
      "Running twitter query: \"(#covid) min_faves:50 lang:en until:2020-02-18 since:2020-02-17\"\n"
     ]
    },
    {
     "name": "stderr",
     "output_type": "stream",
     "text": [
      "Stopping after 20 empty pages\n"
     ]
    },
    {
     "name": "stdout",
     "output_type": "stream",
     "text": [
      "Collected 6 tweets at 2020-02-17.\n",
      "Running twitter query: \"(#covid) min_faves:50 lang:en until:2020-02-19 since:2020-02-18\"\n"
     ]
    },
    {
     "name": "stderr",
     "output_type": "stream",
     "text": [
      "Stopping after 20 empty pages\n"
     ]
    },
    {
     "name": "stdout",
     "output_type": "stream",
     "text": [
      "Collected 2 tweets at 2020-02-18.\n",
      "Running twitter query: \"(#covid) min_faves:50 lang:en until:2020-02-20 since:2020-02-19\"\n"
     ]
    },
    {
     "name": "stderr",
     "output_type": "stream",
     "text": [
      "Stopping after 20 empty pages\n"
     ]
    },
    {
     "name": "stdout",
     "output_type": "stream",
     "text": [
      "Collected 3 tweets at 2020-02-19.\n",
      "Running twitter query: \"(#covid) min_faves:50 lang:en until:2020-02-21 since:2020-02-20\"\n"
     ]
    },
    {
     "name": "stderr",
     "output_type": "stream",
     "text": [
      "Stopping after 20 empty pages\n"
     ]
    },
    {
     "name": "stdout",
     "output_type": "stream",
     "text": [
      "Collected 2 tweets at 2020-02-20.\n",
      "Running twitter query: \"(#covid) min_faves:50 lang:en until:2020-02-22 since:2020-02-21\"\n"
     ]
    },
    {
     "name": "stderr",
     "output_type": "stream",
     "text": [
      "Stopping after 20 empty pages\n"
     ]
    },
    {
     "name": "stdout",
     "output_type": "stream",
     "text": [
      "Collected 3 tweets at 2020-02-21.\n",
      "Running twitter query: \"(#covid) min_faves:50 lang:en until:2020-02-23 since:2020-02-22\"\n"
     ]
    },
    {
     "name": "stderr",
     "output_type": "stream",
     "text": [
      "Stopping after 20 empty pages\n"
     ]
    },
    {
     "name": "stdout",
     "output_type": "stream",
     "text": [
      "Collected 3 tweets at 2020-02-22.\n",
      "Running twitter query: \"(#covid) min_faves:50 lang:en until:2020-02-24 since:2020-02-23\"\n"
     ]
    },
    {
     "name": "stderr",
     "output_type": "stream",
     "text": [
      "Stopping after 20 empty pages\n"
     ]
    },
    {
     "name": "stdout",
     "output_type": "stream",
     "text": [
      "Collected 9 tweets at 2020-02-23.\n",
      "Running twitter query: \"(#covid) min_faves:50 lang:en until:2020-02-25 since:2020-02-24\"\n"
     ]
    },
    {
     "name": "stderr",
     "output_type": "stream",
     "text": [
      "Stopping after 20 empty pages\n"
     ]
    },
    {
     "name": "stdout",
     "output_type": "stream",
     "text": [
      "Collected 10 tweets at 2020-02-24.\n",
      "Running twitter query: \"(#covid) min_faves:50 lang:en until:2020-02-26 since:2020-02-25\"\n"
     ]
    },
    {
     "name": "stderr",
     "output_type": "stream",
     "text": [
      "Stopping after 20 empty pages\n"
     ]
    },
    {
     "name": "stdout",
     "output_type": "stream",
     "text": [
      "Collected 14 tweets at 2020-02-25.\n",
      "Running twitter query: \"(#covid) min_faves:50 lang:en until:2020-02-27 since:2020-02-26\"\n"
     ]
    },
    {
     "name": "stderr",
     "output_type": "stream",
     "text": [
      "Stopping after 20 empty pages\n"
     ]
    },
    {
     "name": "stdout",
     "output_type": "stream",
     "text": [
      "Collected 8 tweets at 2020-02-26.\n",
      "Running twitter query: \"(#covid) min_faves:50 lang:en until:2020-02-28 since:2020-02-27\"\n"
     ]
    },
    {
     "name": "stderr",
     "output_type": "stream",
     "text": [
      "Stopping after 20 empty pages\n"
     ]
    },
    {
     "name": "stdout",
     "output_type": "stream",
     "text": [
      "Collected 24 tweets at 2020-02-27.\n",
      "Running twitter query: \"(#covid) min_faves:50 lang:en until:2020-02-29 since:2020-02-28\"\n"
     ]
    },
    {
     "name": "stderr",
     "output_type": "stream",
     "text": [
      "Stopping after 20 empty pages\n"
     ]
    },
    {
     "name": "stdout",
     "output_type": "stream",
     "text": [
      "Collected 13 tweets at 2020-02-28.\n",
      "Running twitter query: \"(#covid) min_faves:50 lang:en until:2020-03-01 since:2020-02-29\"\n"
     ]
    },
    {
     "name": "stderr",
     "output_type": "stream",
     "text": [
      "Stopping after 20 empty pages\n"
     ]
    },
    {
     "name": "stdout",
     "output_type": "stream",
     "text": [
      "Collected 21 tweets at 2020-02-29.\n",
      "Saving 141 tweets at 2020-02.\n",
      "Running twitter query: \"(#covid) min_faves:50 lang:en until:2020-03-02 since:2020-03-01\"\n"
     ]
    },
    {
     "name": "stderr",
     "output_type": "stream",
     "text": [
      "Stopping after 20 empty pages\n"
     ]
    },
    {
     "name": "stdout",
     "output_type": "stream",
     "text": [
      "Collected 37 tweets at 2020-03-01.\n",
      "Running twitter query: \"(#covid) min_faves:50 lang:en until:2020-03-03 since:2020-03-02\"\n"
     ]
    },
    {
     "name": "stderr",
     "output_type": "stream",
     "text": [
      "Stopping after 20 empty pages\n"
     ]
    },
    {
     "name": "stdout",
     "output_type": "stream",
     "text": [
      "Collected 22 tweets at 2020-03-02.\n",
      "Running twitter query: \"(#covid) min_faves:50 lang:en until:2020-03-04 since:2020-03-03\"\n"
     ]
    },
    {
     "name": "stderr",
     "output_type": "stream",
     "text": [
      "Stopping after 20 empty pages\n"
     ]
    },
    {
     "name": "stdout",
     "output_type": "stream",
     "text": [
      "Collected 12 tweets at 2020-03-03.\n",
      "Running twitter query: \"(#covid) min_faves:50 lang:en until:2020-03-05 since:2020-03-04\"\n"
     ]
    },
    {
     "name": "stderr",
     "output_type": "stream",
     "text": [
      "Stopping after 20 empty pages\n"
     ]
    },
    {
     "name": "stdout",
     "output_type": "stream",
     "text": [
      "Collected 27 tweets at 2020-03-04.\n",
      "Running twitter query: \"(#covid) min_faves:50 lang:en until:2020-03-06 since:2020-03-05\"\n"
     ]
    },
    {
     "name": "stderr",
     "output_type": "stream",
     "text": [
      "Stopping after 20 empty pages\n"
     ]
    },
    {
     "name": "stdout",
     "output_type": "stream",
     "text": [
      "Collected 19 tweets at 2020-03-05.\n",
      "Running twitter query: \"(#covid) min_faves:50 lang:en until:2020-03-07 since:2020-03-06\"\n"
     ]
    },
    {
     "name": "stderr",
     "output_type": "stream",
     "text": [
      "Stopping after 20 empty pages\n"
     ]
    },
    {
     "name": "stdout",
     "output_type": "stream",
     "text": [
      "Collected 33 tweets at 2020-03-06.\n",
      "Running twitter query: \"(#covid) min_faves:50 lang:en until:2020-03-08 since:2020-03-07\"\n"
     ]
    },
    {
     "name": "stderr",
     "output_type": "stream",
     "text": [
      "Stopping after 20 empty pages\n"
     ]
    },
    {
     "name": "stdout",
     "output_type": "stream",
     "text": [
      "Collected 30 tweets at 2020-03-07.\n",
      "Running twitter query: \"(#covid) min_faves:50 lang:en until:2020-03-09 since:2020-03-08\"\n"
     ]
    },
    {
     "name": "stderr",
     "output_type": "stream",
     "text": [
      "Stopping after 20 empty pages\n"
     ]
    },
    {
     "name": "stdout",
     "output_type": "stream",
     "text": [
      "Collected 33 tweets at 2020-03-08.\n",
      "Running twitter query: \"(#covid) min_faves:50 lang:en until:2020-03-10 since:2020-03-09\"\n"
     ]
    },
    {
     "name": "stderr",
     "output_type": "stream",
     "text": [
      "Stopping after 20 empty pages\n"
     ]
    },
    {
     "name": "stdout",
     "output_type": "stream",
     "text": [
      "Collected 58 tweets at 2020-03-09.\n",
      "Running twitter query: \"(#covid) min_faves:50 lang:en until:2020-03-11 since:2020-03-10\"\n"
     ]
    },
    {
     "name": "stderr",
     "output_type": "stream",
     "text": [
      "Stopping after 20 empty pages\n"
     ]
    },
    {
     "name": "stdout",
     "output_type": "stream",
     "text": [
      "Collected 50 tweets at 2020-03-10.\n",
      "Running twitter query: \"(#covid) min_faves:50 lang:en until:2020-03-12 since:2020-03-11\"\n"
     ]
    },
    {
     "name": "stderr",
     "output_type": "stream",
     "text": [
      "Stopping after 20 empty pages\n"
     ]
    },
    {
     "name": "stdout",
     "output_type": "stream",
     "text": [
      "Collected 57 tweets at 2020-03-11.\n",
      "Running twitter query: \"(#covid) min_faves:50 lang:en until:2020-03-13 since:2020-03-12\"\n"
     ]
    },
    {
     "name": "stderr",
     "output_type": "stream",
     "text": [
      "Stopping after 20 empty pages\n"
     ]
    },
    {
     "name": "stdout",
     "output_type": "stream",
     "text": [
      "Collected 115 tweets at 2020-03-12.\n",
      "Running twitter query: \"(#covid) min_faves:50 lang:en until:2020-03-14 since:2020-03-13\"\n"
     ]
    },
    {
     "name": "stderr",
     "output_type": "stream",
     "text": [
      "Stopping after 20 empty pages\n"
     ]
    },
    {
     "name": "stdout",
     "output_type": "stream",
     "text": [
      "Collected 163 tweets at 2020-03-13.\n",
      "Running twitter query: \"(#covid) min_faves:50 lang:en until:2020-03-15 since:2020-03-14\"\n"
     ]
    },
    {
     "name": "stderr",
     "output_type": "stream",
     "text": [
      "Stopping after 20 empty pages\n"
     ]
    },
    {
     "name": "stdout",
     "output_type": "stream",
     "text": [
      "Collected 164 tweets at 2020-03-14.\n",
      "Running twitter query: \"(#covid) min_faves:50 lang:en until:2020-03-16 since:2020-03-15\"\n"
     ]
    },
    {
     "name": "stderr",
     "output_type": "stream",
     "text": [
      "Stopping after 20 empty pages\n"
     ]
    },
    {
     "name": "stdout",
     "output_type": "stream",
     "text": [
      "Collected 146 tweets at 2020-03-15.\n",
      "Running twitter query: \"(#covid) min_faves:50 lang:en until:2020-03-17 since:2020-03-16\"\n"
     ]
    },
    {
     "name": "stderr",
     "output_type": "stream",
     "text": [
      "Stopping after 20 empty pages\n"
     ]
    },
    {
     "name": "stdout",
     "output_type": "stream",
     "text": [
      "Collected 174 tweets at 2020-03-16.\n",
      "Running twitter query: \"(#covid) min_faves:50 lang:en until:2020-03-18 since:2020-03-17\"\n"
     ]
    },
    {
     "name": "stderr",
     "output_type": "stream",
     "text": [
      "Stopping after 20 empty pages\n"
     ]
    },
    {
     "name": "stdout",
     "output_type": "stream",
     "text": [
      "Collected 183 tweets at 2020-03-17.\n",
      "Running twitter query: \"(#covid) min_faves:50 lang:en until:2020-03-19 since:2020-03-18\"\n"
     ]
    },
    {
     "name": "stderr",
     "output_type": "stream",
     "text": [
      "Stopping after 20 empty pages\n"
     ]
    },
    {
     "name": "stdout",
     "output_type": "stream",
     "text": [
      "Collected 175 tweets at 2020-03-18.\n",
      "Running twitter query: \"(#covid) min_faves:50 lang:en until:2020-03-20 since:2020-03-19\"\n"
     ]
    },
    {
     "name": "stderr",
     "output_type": "stream",
     "text": [
      "Stopping after 20 empty pages\n"
     ]
    },
    {
     "name": "stdout",
     "output_type": "stream",
     "text": [
      "Collected 247 tweets at 2020-03-19.\n",
      "Running twitter query: \"(#covid) min_faves:50 lang:en until:2020-03-21 since:2020-03-20\"\n"
     ]
    },
    {
     "name": "stderr",
     "output_type": "stream",
     "text": [
      "Stopping after 20 empty pages\n"
     ]
    },
    {
     "name": "stdout",
     "output_type": "stream",
     "text": [
      "Collected 300 tweets at 2020-03-20.\n",
      "Running twitter query: \"(#covid) min_faves:50 lang:en until:2020-03-22 since:2020-03-21\"\n"
     ]
    },
    {
     "name": "stderr",
     "output_type": "stream",
     "text": [
      "Stopping after 20 empty pages\n"
     ]
    },
    {
     "name": "stdout",
     "output_type": "stream",
     "text": [
      "Collected 211 tweets at 2020-03-21.\n",
      "Running twitter query: \"(#covid) min_faves:50 lang:en until:2020-03-23 since:2020-03-22\"\n"
     ]
    },
    {
     "name": "stderr",
     "output_type": "stream",
     "text": [
      "Stopping after 20 empty pages\n"
     ]
    },
    {
     "name": "stdout",
     "output_type": "stream",
     "text": [
      "Collected 183 tweets at 2020-03-22.\n",
      "Running twitter query: \"(#covid) min_faves:50 lang:en until:2020-03-24 since:2020-03-23\"\n"
     ]
    },
    {
     "name": "stderr",
     "output_type": "stream",
     "text": [
      "Stopping after 20 empty pages\n"
     ]
    },
    {
     "name": "stdout",
     "output_type": "stream",
     "text": [
      "Collected 207 tweets at 2020-03-23.\n",
      "Running twitter query: \"(#covid) min_faves:50 lang:en until:2020-03-25 since:2020-03-24\"\n"
     ]
    },
    {
     "name": "stderr",
     "output_type": "stream",
     "text": [
      "Stopping after 20 empty pages\n"
     ]
    },
    {
     "name": "stdout",
     "output_type": "stream",
     "text": [
      "Collected 245 tweets at 2020-03-24.\n",
      "Running twitter query: \"(#covid) min_faves:50 lang:en until:2020-03-26 since:2020-03-25\"\n"
     ]
    },
    {
     "name": "stderr",
     "output_type": "stream",
     "text": [
      "Stopping after 20 empty pages\n"
     ]
    },
    {
     "name": "stdout",
     "output_type": "stream",
     "text": [
      "Collected 230 tweets at 2020-03-25.\n",
      "Running twitter query: \"(#covid) min_faves:50 lang:en until:2020-03-27 since:2020-03-26\"\n"
     ]
    },
    {
     "name": "stderr",
     "output_type": "stream",
     "text": [
      "Stopping after 20 empty pages\n"
     ]
    },
    {
     "name": "stdout",
     "output_type": "stream",
     "text": [
      "Collected 265 tweets at 2020-03-26.\n",
      "Running twitter query: \"(#covid) min_faves:50 lang:en until:2020-03-28 since:2020-03-27\"\n"
     ]
    },
    {
     "name": "stderr",
     "output_type": "stream",
     "text": [
      "Stopping after 20 empty pages\n"
     ]
    },
    {
     "name": "stdout",
     "output_type": "stream",
     "text": [
      "Collected 273 tweets at 2020-03-27.\n",
      "Running twitter query: \"(#covid) min_faves:50 lang:en until:2020-03-29 since:2020-03-28\"\n"
     ]
    },
    {
     "name": "stderr",
     "output_type": "stream",
     "text": [
      "Stopping after 20 empty pages\n"
     ]
    },
    {
     "name": "stdout",
     "output_type": "stream",
     "text": [
      "Collected 224 tweets at 2020-03-28.\n",
      "Running twitter query: \"(#covid) min_faves:50 lang:en until:2020-03-30 since:2020-03-29\"\n"
     ]
    },
    {
     "name": "stderr",
     "output_type": "stream",
     "text": [
      "Stopping after 20 empty pages\n"
     ]
    },
    {
     "name": "stdout",
     "output_type": "stream",
     "text": [
      "Collected 190 tweets at 2020-03-29.\n",
      "Running twitter query: \"(#covid) min_faves:50 lang:en until:2020-03-31 since:2020-03-30\"\n"
     ]
    },
    {
     "name": "stderr",
     "output_type": "stream",
     "text": [
      "Stopping after 20 empty pages\n"
     ]
    },
    {
     "name": "stdout",
     "output_type": "stream",
     "text": [
      "Collected 202 tweets at 2020-03-30.\n",
      "Running twitter query: \"(#covid) min_faves:50 lang:en until:2020-04-01 since:2020-03-31\"\n"
     ]
    },
    {
     "name": "stderr",
     "output_type": "stream",
     "text": [
      "Stopping after 20 empty pages\n"
     ]
    },
    {
     "name": "stdout",
     "output_type": "stream",
     "text": [
      "Collected 295 tweets at 2020-03-31.\n",
      "Saving 4601 tweets at 2020-03.\n",
      "Running twitter query: \"(#covid) min_faves:50 lang:en until:2020-04-02 since:2020-04-01\"\n"
     ]
    },
    {
     "name": "stderr",
     "output_type": "stream",
     "text": [
      "Stopping after 20 empty pages\n"
     ]
    },
    {
     "name": "stdout",
     "output_type": "stream",
     "text": [
      "Collected 251 tweets at 2020-04-01.\n",
      "Running twitter query: \"(#covid) min_faves:50 lang:en until:2020-04-03 since:2020-04-02\"\n"
     ]
    },
    {
     "name": "stderr",
     "output_type": "stream",
     "text": [
      "Stopping after 20 empty pages\n"
     ]
    },
    {
     "name": "stdout",
     "output_type": "stream",
     "text": [
      "Collected 235 tweets at 2020-04-02.\n",
      "Running twitter query: \"(#covid) min_faves:50 lang:en until:2020-04-04 since:2020-04-03\"\n"
     ]
    },
    {
     "name": "stderr",
     "output_type": "stream",
     "text": [
      "Stopping after 20 empty pages\n"
     ]
    },
    {
     "name": "stdout",
     "output_type": "stream",
     "text": [
      "Collected 204 tweets at 2020-04-03.\n",
      "Running twitter query: \"(#covid) min_faves:50 lang:en until:2020-04-05 since:2020-04-04\"\n"
     ]
    },
    {
     "name": "stderr",
     "output_type": "stream",
     "text": [
      "Stopping after 20 empty pages\n"
     ]
    },
    {
     "name": "stdout",
     "output_type": "stream",
     "text": [
      "Collected 160 tweets at 2020-04-04.\n",
      "Running twitter query: \"(#covid) min_faves:50 lang:en until:2020-04-06 since:2020-04-05\"\n"
     ]
    },
    {
     "name": "stderr",
     "output_type": "stream",
     "text": [
      "Stopping after 20 empty pages\n"
     ]
    },
    {
     "name": "stdout",
     "output_type": "stream",
     "text": [
      "Collected 177 tweets at 2020-04-05.\n",
      "Running twitter query: \"(#covid) min_faves:50 lang:en until:2020-04-07 since:2020-04-06\"\n"
     ]
    },
    {
     "name": "stderr",
     "output_type": "stream",
     "text": [
      "Stopping after 20 empty pages\n"
     ]
    },
    {
     "name": "stdout",
     "output_type": "stream",
     "text": [
      "Collected 196 tweets at 2020-04-06.\n",
      "Running twitter query: \"(#covid) min_faves:50 lang:en until:2020-04-08 since:2020-04-07\"\n"
     ]
    },
    {
     "name": "stderr",
     "output_type": "stream",
     "text": [
      "Stopping after 20 empty pages\n"
     ]
    },
    {
     "name": "stdout",
     "output_type": "stream",
     "text": [
      "Collected 187 tweets at 2020-04-07.\n",
      "Running twitter query: \"(#covid) min_faves:50 lang:en until:2020-04-09 since:2020-04-08\"\n"
     ]
    },
    {
     "name": "stderr",
     "output_type": "stream",
     "text": [
      "Stopping after 20 empty pages\n"
     ]
    },
    {
     "name": "stdout",
     "output_type": "stream",
     "text": [
      "Collected 259 tweets at 2020-04-08.\n",
      "Running twitter query: \"(#covid) min_faves:50 lang:en until:2020-04-10 since:2020-04-09\"\n"
     ]
    },
    {
     "name": "stderr",
     "output_type": "stream",
     "text": [
      "Stopping after 20 empty pages\n"
     ]
    },
    {
     "name": "stdout",
     "output_type": "stream",
     "text": [
      "Collected 324 tweets at 2020-04-09.\n",
      "Running twitter query: \"(#covid) min_faves:50 lang:en until:2020-04-11 since:2020-04-10\"\n"
     ]
    },
    {
     "name": "stderr",
     "output_type": "stream",
     "text": [
      "Stopping after 20 empty pages\n"
     ]
    },
    {
     "name": "stdout",
     "output_type": "stream",
     "text": [
      "Collected 209 tweets at 2020-04-10.\n",
      "Running twitter query: \"(#covid) min_faves:50 lang:en until:2020-04-12 since:2020-04-11\"\n"
     ]
    },
    {
     "name": "stderr",
     "output_type": "stream",
     "text": [
      "Stopping after 20 empty pages\n"
     ]
    },
    {
     "name": "stdout",
     "output_type": "stream",
     "text": [
      "Collected 154 tweets at 2020-04-11.\n",
      "Running twitter query: \"(#covid) min_faves:50 lang:en until:2020-04-13 since:2020-04-12\"\n"
     ]
    },
    {
     "name": "stderr",
     "output_type": "stream",
     "text": [
      "Stopping after 20 empty pages\n"
     ]
    },
    {
     "name": "stdout",
     "output_type": "stream",
     "text": [
      "Collected 143 tweets at 2020-04-12.\n",
      "Running twitter query: \"(#covid) min_faves:50 lang:en until:2020-04-14 since:2020-04-13\"\n"
     ]
    },
    {
     "name": "stderr",
     "output_type": "stream",
     "text": [
      "Stopping after 20 empty pages\n"
     ]
    },
    {
     "name": "stdout",
     "output_type": "stream",
     "text": [
      "Collected 130 tweets at 2020-04-13.\n",
      "Running twitter query: \"(#covid) min_faves:50 lang:en until:2020-04-15 since:2020-04-14\"\n"
     ]
    },
    {
     "name": "stderr",
     "output_type": "stream",
     "text": [
      "Stopping after 20 empty pages\n"
     ]
    },
    {
     "name": "stdout",
     "output_type": "stream",
     "text": [
      "Collected 189 tweets at 2020-04-14.\n",
      "Running twitter query: \"(#covid) min_faves:50 lang:en until:2020-04-16 since:2020-04-15\"\n"
     ]
    },
    {
     "name": "stderr",
     "output_type": "stream",
     "text": [
      "Stopping after 20 empty pages\n"
     ]
    },
    {
     "name": "stdout",
     "output_type": "stream",
     "text": [
      "Collected 166 tweets at 2020-04-15.\n",
      "Running twitter query: \"(#covid) min_faves:50 lang:en until:2020-04-17 since:2020-04-16\"\n"
     ]
    },
    {
     "name": "stderr",
     "output_type": "stream",
     "text": [
      "Stopping after 20 empty pages\n"
     ]
    },
    {
     "name": "stdout",
     "output_type": "stream",
     "text": [
      "Collected 165 tweets at 2020-04-16.\n",
      "Running twitter query: \"(#covid) min_faves:50 lang:en until:2020-04-18 since:2020-04-17\"\n"
     ]
    },
    {
     "name": "stderr",
     "output_type": "stream",
     "text": [
      "Stopping after 20 empty pages\n"
     ]
    },
    {
     "name": "stdout",
     "output_type": "stream",
     "text": [
      "Collected 153 tweets at 2020-04-17.\n",
      "Running twitter query: \"(#covid) min_faves:50 lang:en until:2020-04-19 since:2020-04-18\"\n"
     ]
    },
    {
     "name": "stderr",
     "output_type": "stream",
     "text": [
      "Stopping after 20 empty pages\n"
     ]
    },
    {
     "name": "stdout",
     "output_type": "stream",
     "text": [
      "Collected 339 tweets at 2020-04-18.\n",
      "Running twitter query: \"(#covid) min_faves:50 lang:en until:2020-04-20 since:2020-04-19\"\n"
     ]
    },
    {
     "name": "stderr",
     "output_type": "stream",
     "text": [
      "Unavailable user in card on tweet 1251706008675790848\n",
      "User 1396778846041481218 not found in user refs in card on tweet 1251706008675790848\n",
      "Stopping after 20 empty pages\n"
     ]
    },
    {
     "name": "stdout",
     "output_type": "stream",
     "text": [
      "Collected 265 tweets at 2020-04-19.\n",
      "Running twitter query: \"(#covid) min_faves:50 lang:en until:2020-04-21 since:2020-04-20\"\n"
     ]
    },
    {
     "name": "stderr",
     "output_type": "stream",
     "text": [
      "Stopping after 20 empty pages\n"
     ]
    },
    {
     "name": "stdout",
     "output_type": "stream",
     "text": [
      "Collected 185 tweets at 2020-04-20.\n",
      "Running twitter query: \"(#covid) min_faves:50 lang:en until:2020-04-22 since:2020-04-21\"\n"
     ]
    },
    {
     "name": "stderr",
     "output_type": "stream",
     "text": [
      "Stopping after 20 empty pages\n"
     ]
    },
    {
     "name": "stdout",
     "output_type": "stream",
     "text": [
      "Collected 142 tweets at 2020-04-21.\n",
      "Running twitter query: \"(#covid) min_faves:50 lang:en until:2020-04-23 since:2020-04-22\"\n"
     ]
    },
    {
     "name": "stderr",
     "output_type": "stream",
     "text": [
      "Stopping after 20 empty pages\n"
     ]
    },
    {
     "name": "stdout",
     "output_type": "stream",
     "text": [
      "Collected 151 tweets at 2020-04-22.\n",
      "Running twitter query: \"(#covid) min_faves:50 lang:en until:2020-04-24 since:2020-04-23\"\n"
     ]
    },
    {
     "name": "stderr",
     "output_type": "stream",
     "text": [
      "Stopping after 20 empty pages\n"
     ]
    },
    {
     "name": "stdout",
     "output_type": "stream",
     "text": [
      "Collected 135 tweets at 2020-04-23.\n",
      "Running twitter query: \"(#covid) min_faves:50 lang:en until:2020-04-25 since:2020-04-24\"\n"
     ]
    },
    {
     "name": "stderr",
     "output_type": "stream",
     "text": [
      "Stopping after 20 empty pages\n"
     ]
    },
    {
     "name": "stdout",
     "output_type": "stream",
     "text": [
      "Collected 137 tweets at 2020-04-24.\n",
      "Running twitter query: \"(#covid) min_faves:50 lang:en until:2020-04-26 since:2020-04-25\"\n"
     ]
    },
    {
     "name": "stderr",
     "output_type": "stream",
     "text": [
      "Stopping after 20 empty pages\n"
     ]
    },
    {
     "name": "stdout",
     "output_type": "stream",
     "text": [
      "Collected 147 tweets at 2020-04-25.\n",
      "Running twitter query: \"(#covid) min_faves:50 lang:en until:2020-04-27 since:2020-04-26\"\n"
     ]
    },
    {
     "name": "stderr",
     "output_type": "stream",
     "text": [
      "Stopping after 20 empty pages\n"
     ]
    },
    {
     "name": "stdout",
     "output_type": "stream",
     "text": [
      "Collected 80 tweets at 2020-04-26.\n",
      "Running twitter query: \"(#covid) min_faves:50 lang:en until:2020-04-28 since:2020-04-27\"\n"
     ]
    },
    {
     "name": "stderr",
     "output_type": "stream",
     "text": [
      "Stopping after 20 empty pages\n"
     ]
    },
    {
     "name": "stdout",
     "output_type": "stream",
     "text": [
      "Collected 144 tweets at 2020-04-27.\n",
      "Running twitter query: \"(#covid) min_faves:50 lang:en until:2020-04-29 since:2020-04-28\"\n"
     ]
    },
    {
     "name": "stderr",
     "output_type": "stream",
     "text": [
      "Stopping after 20 empty pages\n"
     ]
    },
    {
     "name": "stdout",
     "output_type": "stream",
     "text": [
      "Collected 139 tweets at 2020-04-28.\n",
      "Running twitter query: \"(#covid) min_faves:50 lang:en until:2020-04-30 since:2020-04-29\"\n"
     ]
    },
    {
     "name": "stderr",
     "output_type": "stream",
     "text": [
      "Stopping after 20 empty pages\n"
     ]
    },
    {
     "name": "stdout",
     "output_type": "stream",
     "text": [
      "Collected 108 tweets at 2020-04-29.\n",
      "Running twitter query: \"(#covid) min_faves:50 lang:en until:2020-05-01 since:2020-04-30\"\n"
     ]
    },
    {
     "name": "stderr",
     "output_type": "stream",
     "text": [
      "Stopping after 20 empty pages\n"
     ]
    },
    {
     "name": "stdout",
     "output_type": "stream",
     "text": [
      "Collected 134 tweets at 2020-04-30.\n",
      "Saving 5438 tweets at 2020-04.\n",
      "Running twitter query: \"(#covid) min_faves:50 lang:en until:2020-05-02 since:2020-05-01\"\n"
     ]
    },
    {
     "name": "stderr",
     "output_type": "stream",
     "text": [
      "Stopping after 20 empty pages\n"
     ]
    },
    {
     "name": "stdout",
     "output_type": "stream",
     "text": [
      "Collected 190 tweets at 2020-05-01.\n",
      "Running twitter query: \"(#covid) min_faves:50 lang:en until:2020-05-03 since:2020-05-02\"\n"
     ]
    },
    {
     "name": "stderr",
     "output_type": "stream",
     "text": [
      "Stopping after 20 empty pages\n"
     ]
    },
    {
     "name": "stdout",
     "output_type": "stream",
     "text": [
      "Collected 118 tweets at 2020-05-02.\n",
      "Running twitter query: \"(#covid) min_faves:50 lang:en until:2020-05-04 since:2020-05-03\"\n"
     ]
    },
    {
     "name": "stderr",
     "output_type": "stream",
     "text": [
      "Stopping after 20 empty pages\n"
     ]
    },
    {
     "name": "stdout",
     "output_type": "stream",
     "text": [
      "Collected 122 tweets at 2020-05-03.\n",
      "Running twitter query: \"(#covid) min_faves:50 lang:en until:2020-05-05 since:2020-05-04\"\n"
     ]
    },
    {
     "name": "stderr",
     "output_type": "stream",
     "text": [
      "Stopping after 20 empty pages\n"
     ]
    },
    {
     "name": "stdout",
     "output_type": "stream",
     "text": [
      "Collected 114 tweets at 2020-05-04.\n",
      "Running twitter query: \"(#covid) min_faves:50 lang:en until:2020-05-06 since:2020-05-05\"\n"
     ]
    },
    {
     "name": "stderr",
     "output_type": "stream",
     "text": [
      "Stopping after 20 empty pages\n"
     ]
    },
    {
     "name": "stdout",
     "output_type": "stream",
     "text": [
      "Collected 116 tweets at 2020-05-05.\n",
      "Running twitter query: \"(#covid) min_faves:50 lang:en until:2020-05-07 since:2020-05-06\"\n"
     ]
    },
    {
     "name": "stderr",
     "output_type": "stream",
     "text": [
      "Stopping after 20 empty pages\n"
     ]
    },
    {
     "name": "stdout",
     "output_type": "stream",
     "text": [
      "Collected 96 tweets at 2020-05-06.\n",
      "Running twitter query: \"(#covid) min_faves:50 lang:en until:2020-05-08 since:2020-05-07\"\n"
     ]
    },
    {
     "name": "stderr",
     "output_type": "stream",
     "text": [
      "Stopping after 20 empty pages\n"
     ]
    },
    {
     "name": "stdout",
     "output_type": "stream",
     "text": [
      "Collected 98 tweets at 2020-05-07.\n",
      "Running twitter query: \"(#covid) min_faves:50 lang:en until:2020-05-09 since:2020-05-08\"\n"
     ]
    },
    {
     "name": "stderr",
     "output_type": "stream",
     "text": [
      "Stopping after 20 empty pages\n"
     ]
    },
    {
     "name": "stdout",
     "output_type": "stream",
     "text": [
      "Collected 90 tweets at 2020-05-08.\n",
      "Running twitter query: \"(#covid) min_faves:50 lang:en until:2020-05-10 since:2020-05-09\"\n"
     ]
    },
    {
     "name": "stderr",
     "output_type": "stream",
     "text": [
      "Stopping after 20 empty pages\n"
     ]
    },
    {
     "name": "stdout",
     "output_type": "stream",
     "text": [
      "Collected 113 tweets at 2020-05-09.\n",
      "Running twitter query: \"(#covid) min_faves:50 lang:en until:2020-05-11 since:2020-05-10\"\n"
     ]
    },
    {
     "name": "stderr",
     "output_type": "stream",
     "text": [
      "Stopping after 20 empty pages\n"
     ]
    },
    {
     "name": "stdout",
     "output_type": "stream",
     "text": [
      "Collected 93 tweets at 2020-05-10.\n",
      "Running twitter query: \"(#covid) min_faves:50 lang:en until:2020-05-12 since:2020-05-11\"\n"
     ]
    },
    {
     "name": "stderr",
     "output_type": "stream",
     "text": [
      "Stopping after 20 empty pages\n"
     ]
    },
    {
     "name": "stdout",
     "output_type": "stream",
     "text": [
      "Collected 144 tweets at 2020-05-11.\n",
      "Running twitter query: \"(#covid) min_faves:50 lang:en until:2020-05-13 since:2020-05-12\"\n"
     ]
    },
    {
     "name": "stderr",
     "output_type": "stream",
     "text": [
      "Stopping after 20 empty pages\n"
     ]
    },
    {
     "name": "stdout",
     "output_type": "stream",
     "text": [
      "Collected 130 tweets at 2020-05-12.\n",
      "Running twitter query: \"(#covid) min_faves:50 lang:en until:2020-05-14 since:2020-05-13\"\n"
     ]
    },
    {
     "name": "stderr",
     "output_type": "stream",
     "text": [
      "Stopping after 20 empty pages\n"
     ]
    },
    {
     "name": "stdout",
     "output_type": "stream",
     "text": [
      "Collected 96 tweets at 2020-05-13.\n",
      "Running twitter query: \"(#covid) min_faves:50 lang:en until:2020-05-15 since:2020-05-14\"\n"
     ]
    },
    {
     "name": "stderr",
     "output_type": "stream",
     "text": [
      "Stopping after 20 empty pages\n"
     ]
    },
    {
     "name": "stdout",
     "output_type": "stream",
     "text": [
      "Collected 141 tweets at 2020-05-14.\n",
      "Running twitter query: \"(#covid) min_faves:50 lang:en until:2020-05-16 since:2020-05-15\"\n"
     ]
    },
    {
     "name": "stderr",
     "output_type": "stream",
     "text": [
      "Stopping after 20 empty pages\n"
     ]
    },
    {
     "name": "stdout",
     "output_type": "stream",
     "text": [
      "Collected 136 tweets at 2020-05-15.\n",
      "Running twitter query: \"(#covid) min_faves:50 lang:en until:2020-05-17 since:2020-05-16\"\n"
     ]
    },
    {
     "name": "stderr",
     "output_type": "stream",
     "text": [
      "Stopping after 20 empty pages\n"
     ]
    },
    {
     "name": "stdout",
     "output_type": "stream",
     "text": [
      "Collected 107 tweets at 2020-05-16.\n",
      "Running twitter query: \"(#covid) min_faves:50 lang:en until:2020-05-18 since:2020-05-17\"\n"
     ]
    },
    {
     "name": "stderr",
     "output_type": "stream",
     "text": [
      "Stopping after 20 empty pages\n"
     ]
    },
    {
     "name": "stdout",
     "output_type": "stream",
     "text": [
      "Collected 103 tweets at 2020-05-17.\n",
      "Running twitter query: \"(#covid) min_faves:50 lang:en until:2020-05-19 since:2020-05-18\"\n"
     ]
    },
    {
     "name": "stderr",
     "output_type": "stream",
     "text": [
      "Stopping after 20 empty pages\n"
     ]
    },
    {
     "name": "stdout",
     "output_type": "stream",
     "text": [
      "Collected 135 tweets at 2020-05-18.\n",
      "Running twitter query: \"(#covid) min_faves:50 lang:en until:2020-05-20 since:2020-05-19\"\n"
     ]
    },
    {
     "name": "stderr",
     "output_type": "stream",
     "text": [
      "Stopping after 20 empty pages\n"
     ]
    },
    {
     "name": "stdout",
     "output_type": "stream",
     "text": [
      "Collected 87 tweets at 2020-05-19.\n",
      "Running twitter query: \"(#covid) min_faves:50 lang:en until:2020-05-21 since:2020-05-20\"\n"
     ]
    },
    {
     "name": "stderr",
     "output_type": "stream",
     "text": [
      "Stopping after 20 empty pages\n"
     ]
    },
    {
     "name": "stdout",
     "output_type": "stream",
     "text": [
      "Collected 116 tweets at 2020-05-20.\n",
      "Running twitter query: \"(#covid) min_faves:50 lang:en until:2020-05-22 since:2020-05-21\"\n"
     ]
    },
    {
     "name": "stderr",
     "output_type": "stream",
     "text": [
      "Stopping after 20 empty pages\n"
     ]
    },
    {
     "name": "stdout",
     "output_type": "stream",
     "text": [
      "Collected 100 tweets at 2020-05-21.\n",
      "Running twitter query: \"(#covid) min_faves:50 lang:en until:2020-05-23 since:2020-05-22\"\n"
     ]
    },
    {
     "name": "stderr",
     "output_type": "stream",
     "text": [
      "Stopping after 20 empty pages\n"
     ]
    },
    {
     "name": "stdout",
     "output_type": "stream",
     "text": [
      "Collected 92 tweets at 2020-05-22.\n",
      "Running twitter query: \"(#covid) min_faves:50 lang:en until:2020-05-24 since:2020-05-23\"\n"
     ]
    },
    {
     "name": "stderr",
     "output_type": "stream",
     "text": [
      "Stopping after 20 empty pages\n"
     ]
    },
    {
     "name": "stdout",
     "output_type": "stream",
     "text": [
      "Collected 92 tweets at 2020-05-23.\n",
      "Running twitter query: \"(#covid) min_faves:50 lang:en until:2020-05-25 since:2020-05-24\"\n"
     ]
    },
    {
     "name": "stderr",
     "output_type": "stream",
     "text": [
      "Stopping after 20 empty pages\n"
     ]
    },
    {
     "name": "stdout",
     "output_type": "stream",
     "text": [
      "Collected 106 tweets at 2020-05-24.\n",
      "Running twitter query: \"(#covid) min_faves:50 lang:en until:2020-05-26 since:2020-05-25\"\n"
     ]
    },
    {
     "name": "stderr",
     "output_type": "stream",
     "text": [
      "Stopping after 20 empty pages\n"
     ]
    },
    {
     "name": "stdout",
     "output_type": "stream",
     "text": [
      "Collected 116 tweets at 2020-05-25.\n",
      "Running twitter query: \"(#covid) min_faves:50 lang:en until:2020-05-27 since:2020-05-26\"\n"
     ]
    },
    {
     "name": "stderr",
     "output_type": "stream",
     "text": [
      "Stopping after 20 empty pages\n"
     ]
    },
    {
     "name": "stdout",
     "output_type": "stream",
     "text": [
      "Collected 123 tweets at 2020-05-26.\n",
      "Running twitter query: \"(#covid) min_faves:50 lang:en until:2020-05-28 since:2020-05-27\"\n"
     ]
    },
    {
     "name": "stderr",
     "output_type": "stream",
     "text": [
      "Stopping after 20 empty pages\n"
     ]
    },
    {
     "name": "stdout",
     "output_type": "stream",
     "text": [
      "Collected 114 tweets at 2020-05-27.\n",
      "Running twitter query: \"(#covid) min_faves:50 lang:en until:2020-05-29 since:2020-05-28\"\n"
     ]
    },
    {
     "name": "stderr",
     "output_type": "stream",
     "text": [
      "Stopping after 20 empty pages\n"
     ]
    },
    {
     "name": "stdout",
     "output_type": "stream",
     "text": [
      "Collected 97 tweets at 2020-05-28.\n",
      "Running twitter query: \"(#covid) min_faves:50 lang:en until:2020-05-30 since:2020-05-29\"\n"
     ]
    },
    {
     "name": "stderr",
     "output_type": "stream",
     "text": [
      "Stopping after 20 empty pages\n"
     ]
    },
    {
     "name": "stdout",
     "output_type": "stream",
     "text": [
      "Collected 86 tweets at 2020-05-29.\n",
      "Running twitter query: \"(#covid) min_faves:50 lang:en until:2020-05-31 since:2020-05-30\"\n"
     ]
    },
    {
     "name": "stderr",
     "output_type": "stream",
     "text": [
      "Stopping after 20 empty pages\n"
     ]
    },
    {
     "name": "stdout",
     "output_type": "stream",
     "text": [
      "Collected 77 tweets at 2020-05-30.\n",
      "Running twitter query: \"(#covid) min_faves:50 lang:en until:2020-06-01 since:2020-05-31\"\n"
     ]
    },
    {
     "name": "stderr",
     "output_type": "stream",
     "text": [
      "Stopping after 20 empty pages\n"
     ]
    },
    {
     "name": "stdout",
     "output_type": "stream",
     "text": [
      "Collected 80 tweets at 2020-05-31.\n",
      "Saving 3459 tweets at 2020-05.\n",
      "Running twitter query: \"(#covid) min_faves:50 lang:en until:2020-06-02 since:2020-06-01\"\n"
     ]
    },
    {
     "name": "stderr",
     "output_type": "stream",
     "text": [
      "Stopping after 20 empty pages\n"
     ]
    },
    {
     "name": "stdout",
     "output_type": "stream",
     "text": [
      "Collected 80 tweets at 2020-06-01.\n",
      "Running twitter query: \"(#covid) min_faves:50 lang:en until:2020-06-03 since:2020-06-02\"\n"
     ]
    },
    {
     "name": "stderr",
     "output_type": "stream",
     "text": [
      "Stopping after 20 empty pages\n"
     ]
    },
    {
     "name": "stdout",
     "output_type": "stream",
     "text": [
      "Collected 64 tweets at 2020-06-02.\n",
      "Running twitter query: \"(#covid) min_faves:50 lang:en until:2020-06-04 since:2020-06-03\"\n"
     ]
    },
    {
     "name": "stderr",
     "output_type": "stream",
     "text": [
      "Stopping after 20 empty pages\n"
     ]
    },
    {
     "name": "stdout",
     "output_type": "stream",
     "text": [
      "Collected 53 tweets at 2020-06-03.\n",
      "Running twitter query: \"(#covid) min_faves:50 lang:en until:2020-06-05 since:2020-06-04\"\n"
     ]
    },
    {
     "name": "stderr",
     "output_type": "stream",
     "text": [
      "Stopping after 20 empty pages\n"
     ]
    },
    {
     "name": "stdout",
     "output_type": "stream",
     "text": [
      "Collected 73 tweets at 2020-06-04.\n",
      "Running twitter query: \"(#covid) min_faves:50 lang:en until:2020-06-06 since:2020-06-05\"\n"
     ]
    },
    {
     "name": "stderr",
     "output_type": "stream",
     "text": [
      "Stopping after 20 empty pages\n"
     ]
    },
    {
     "name": "stdout",
     "output_type": "stream",
     "text": [
      "Collected 72 tweets at 2020-06-05.\n",
      "Running twitter query: \"(#covid) min_faves:50 lang:en until:2020-06-07 since:2020-06-06\"\n"
     ]
    },
    {
     "name": "stderr",
     "output_type": "stream",
     "text": [
      "Stopping after 20 empty pages\n"
     ]
    },
    {
     "name": "stdout",
     "output_type": "stream",
     "text": [
      "Collected 94 tweets at 2020-06-06.\n",
      "Running twitter query: \"(#covid) min_faves:50 lang:en until:2020-06-08 since:2020-06-07\"\n"
     ]
    },
    {
     "name": "stderr",
     "output_type": "stream",
     "text": [
      "Stopping after 20 empty pages\n"
     ]
    },
    {
     "name": "stdout",
     "output_type": "stream",
     "text": [
      "Collected 66 tweets at 2020-06-07.\n",
      "Running twitter query: \"(#covid) min_faves:50 lang:en until:2020-06-09 since:2020-06-08\"\n"
     ]
    },
    {
     "name": "stderr",
     "output_type": "stream",
     "text": [
      "Stopping after 20 empty pages\n"
     ]
    },
    {
     "name": "stdout",
     "output_type": "stream",
     "text": [
      "Collected 82 tweets at 2020-06-08.\n",
      "Running twitter query: \"(#covid) min_faves:50 lang:en until:2020-06-10 since:2020-06-09\"\n"
     ]
    },
    {
     "name": "stderr",
     "output_type": "stream",
     "text": [
      "Stopping after 20 empty pages\n"
     ]
    },
    {
     "name": "stdout",
     "output_type": "stream",
     "text": [
      "Collected 85 tweets at 2020-06-09.\n",
      "Running twitter query: \"(#covid) min_faves:50 lang:en until:2020-06-11 since:2020-06-10\"\n"
     ]
    },
    {
     "name": "stderr",
     "output_type": "stream",
     "text": [
      "Stopping after 20 empty pages\n"
     ]
    },
    {
     "name": "stdout",
     "output_type": "stream",
     "text": [
      "Collected 85 tweets at 2020-06-10.\n",
      "Running twitter query: \"(#covid) min_faves:50 lang:en until:2020-06-12 since:2020-06-11\"\n"
     ]
    },
    {
     "name": "stderr",
     "output_type": "stream",
     "text": [
      "Stopping after 20 empty pages\n"
     ]
    },
    {
     "name": "stdout",
     "output_type": "stream",
     "text": [
      "Collected 87 tweets at 2020-06-11.\n",
      "Running twitter query: \"(#covid) min_faves:50 lang:en until:2020-06-13 since:2020-06-12\"\n"
     ]
    },
    {
     "name": "stderr",
     "output_type": "stream",
     "text": [
      "Stopping after 20 empty pages\n"
     ]
    },
    {
     "name": "stdout",
     "output_type": "stream",
     "text": [
      "Collected 79 tweets at 2020-06-12.\n",
      "Running twitter query: \"(#covid) min_faves:50 lang:en until:2020-06-14 since:2020-06-13\"\n"
     ]
    },
    {
     "name": "stderr",
     "output_type": "stream",
     "text": [
      "Stopping after 20 empty pages\n"
     ]
    },
    {
     "name": "stdout",
     "output_type": "stream",
     "text": [
      "Collected 87 tweets at 2020-06-13.\n",
      "Running twitter query: \"(#covid) min_faves:50 lang:en until:2020-06-15 since:2020-06-14\"\n"
     ]
    },
    {
     "name": "stderr",
     "output_type": "stream",
     "text": [
      "Stopping after 20 empty pages\n"
     ]
    },
    {
     "name": "stdout",
     "output_type": "stream",
     "text": [
      "Collected 77 tweets at 2020-06-14.\n",
      "Running twitter query: \"(#covid) min_faves:50 lang:en until:2020-06-16 since:2020-06-15\"\n"
     ]
    },
    {
     "name": "stderr",
     "output_type": "stream",
     "text": [
      "Stopping after 20 empty pages\n"
     ]
    },
    {
     "name": "stdout",
     "output_type": "stream",
     "text": [
      "Collected 74 tweets at 2020-06-15.\n",
      "Running twitter query: \"(#covid) min_faves:50 lang:en until:2020-06-17 since:2020-06-16\"\n"
     ]
    },
    {
     "name": "stderr",
     "output_type": "stream",
     "text": [
      "Stopping after 20 empty pages\n"
     ]
    },
    {
     "name": "stdout",
     "output_type": "stream",
     "text": [
      "Collected 89 tweets at 2020-06-16.\n",
      "Running twitter query: \"(#covid) min_faves:50 lang:en until:2020-06-18 since:2020-06-17\"\n"
     ]
    },
    {
     "name": "stderr",
     "output_type": "stream",
     "text": [
      "Stopping after 20 empty pages\n"
     ]
    },
    {
     "name": "stdout",
     "output_type": "stream",
     "text": [
      "Collected 89 tweets at 2020-06-17.\n",
      "Running twitter query: \"(#covid) min_faves:50 lang:en until:2020-06-19 since:2020-06-18\"\n"
     ]
    },
    {
     "name": "stderr",
     "output_type": "stream",
     "text": [
      "Stopping after 20 empty pages\n"
     ]
    },
    {
     "name": "stdout",
     "output_type": "stream",
     "text": [
      "Collected 78 tweets at 2020-06-18.\n",
      "Running twitter query: \"(#covid) min_faves:50 lang:en until:2020-06-20 since:2020-06-19\"\n"
     ]
    },
    {
     "name": "stderr",
     "output_type": "stream",
     "text": [
      "Stopping after 20 empty pages\n"
     ]
    },
    {
     "name": "stdout",
     "output_type": "stream",
     "text": [
      "Collected 71 tweets at 2020-06-19.\n",
      "Running twitter query: \"(#covid) min_faves:50 lang:en until:2020-06-21 since:2020-06-20\"\n"
     ]
    },
    {
     "name": "stderr",
     "output_type": "stream",
     "text": [
      "Stopping after 20 empty pages\n"
     ]
    },
    {
     "name": "stdout",
     "output_type": "stream",
     "text": [
      "Collected 70 tweets at 2020-06-20.\n",
      "Running twitter query: \"(#covid) min_faves:50 lang:en until:2020-06-22 since:2020-06-21\"\n"
     ]
    },
    {
     "name": "stderr",
     "output_type": "stream",
     "text": [
      "Unavailable user in card on tweet 1274621041172713472\n",
      "User 69834140 not found in user refs in card on tweet 1274621041172713472\n",
      "Stopping after 20 empty pages\n"
     ]
    },
    {
     "name": "stdout",
     "output_type": "stream",
     "text": [
      "Collected 66 tweets at 2020-06-21.\n",
      "Running twitter query: \"(#covid) min_faves:50 lang:en until:2020-06-23 since:2020-06-22\"\n"
     ]
    },
    {
     "name": "stderr",
     "output_type": "stream",
     "text": [
      "Stopping after 20 empty pages\n"
     ]
    },
    {
     "name": "stdout",
     "output_type": "stream",
     "text": [
      "Collected 76 tweets at 2020-06-22.\n",
      "Running twitter query: \"(#covid) min_faves:50 lang:en until:2020-06-24 since:2020-06-23\"\n"
     ]
    },
    {
     "name": "stderr",
     "output_type": "stream",
     "text": [
      "Stopping after 20 empty pages\n"
     ]
    },
    {
     "name": "stdout",
     "output_type": "stream",
     "text": [
      "Collected 79 tweets at 2020-06-23.\n",
      "Running twitter query: \"(#covid) min_faves:50 lang:en until:2020-06-25 since:2020-06-24\"\n"
     ]
    },
    {
     "name": "stderr",
     "output_type": "stream",
     "text": [
      "Stopping after 20 empty pages\n"
     ]
    },
    {
     "name": "stdout",
     "output_type": "stream",
     "text": [
      "Collected 86 tweets at 2020-06-24.\n",
      "Running twitter query: \"(#covid) min_faves:50 lang:en until:2020-06-26 since:2020-06-25\"\n"
     ]
    },
    {
     "name": "stderr",
     "output_type": "stream",
     "text": [
      "Stopping after 20 empty pages\n"
     ]
    },
    {
     "name": "stdout",
     "output_type": "stream",
     "text": [
      "Collected 81 tweets at 2020-06-25.\n",
      "Running twitter query: \"(#covid) min_faves:50 lang:en until:2020-06-27 since:2020-06-26\"\n"
     ]
    },
    {
     "name": "stderr",
     "output_type": "stream",
     "text": [
      "Stopping after 20 empty pages\n"
     ]
    },
    {
     "name": "stdout",
     "output_type": "stream",
     "text": [
      "Collected 113 tweets at 2020-06-26.\n",
      "Running twitter query: \"(#covid) min_faves:50 lang:en until:2020-06-28 since:2020-06-27\"\n"
     ]
    },
    {
     "name": "stderr",
     "output_type": "stream",
     "text": [
      "Stopping after 20 empty pages\n"
     ]
    },
    {
     "name": "stdout",
     "output_type": "stream",
     "text": [
      "Collected 79 tweets at 2020-06-27.\n",
      "Running twitter query: \"(#covid) min_faves:50 lang:en until:2020-06-29 since:2020-06-28\"\n"
     ]
    },
    {
     "name": "stderr",
     "output_type": "stream",
     "text": [
      "Stopping after 20 empty pages\n"
     ]
    },
    {
     "name": "stdout",
     "output_type": "stream",
     "text": [
      "Collected 88 tweets at 2020-06-28.\n",
      "Running twitter query: \"(#covid) min_faves:50 lang:en until:2020-06-30 since:2020-06-29\"\n"
     ]
    },
    {
     "name": "stderr",
     "output_type": "stream",
     "text": [
      "Stopping after 20 empty pages\n"
     ]
    },
    {
     "name": "stdout",
     "output_type": "stream",
     "text": [
      "Collected 96 tweets at 2020-06-29.\n",
      "Running twitter query: \"(#covid) min_faves:50 lang:en until:2020-07-01 since:2020-06-30\"\n"
     ]
    },
    {
     "name": "stderr",
     "output_type": "stream",
     "text": [
      "Stopping after 20 empty pages\n"
     ]
    },
    {
     "name": "stdout",
     "output_type": "stream",
     "text": [
      "Collected 105 tweets at 2020-06-30.\n",
      "Saving 2454 tweets at 2020-06.\n",
      "Running twitter query: \"(#covid) min_faves:50 lang:en until:2020-07-02 since:2020-07-01\"\n"
     ]
    },
    {
     "name": "stderr",
     "output_type": "stream",
     "text": [
      "Stopping after 20 empty pages\n"
     ]
    },
    {
     "name": "stdout",
     "output_type": "stream",
     "text": [
      "Collected 102 tweets at 2020-07-01.\n",
      "Running twitter query: \"(#covid) min_faves:50 lang:en until:2020-07-03 since:2020-07-02\"\n"
     ]
    },
    {
     "name": "stderr",
     "output_type": "stream",
     "text": [
      "Stopping after 20 empty pages\n"
     ]
    },
    {
     "name": "stdout",
     "output_type": "stream",
     "text": [
      "Collected 81 tweets at 2020-07-02.\n",
      "Running twitter query: \"(#covid) min_faves:50 lang:en until:2020-07-04 since:2020-07-03\"\n"
     ]
    },
    {
     "name": "stderr",
     "output_type": "stream",
     "text": [
      "Stopping after 20 empty pages\n"
     ]
    },
    {
     "name": "stdout",
     "output_type": "stream",
     "text": [
      "Collected 101 tweets at 2020-07-03.\n",
      "Running twitter query: \"(#covid) min_faves:50 lang:en until:2020-07-05 since:2020-07-04\"\n"
     ]
    },
    {
     "name": "stderr",
     "output_type": "stream",
     "text": [
      "Stopping after 20 empty pages\n"
     ]
    },
    {
     "name": "stdout",
     "output_type": "stream",
     "text": [
      "Collected 77 tweets at 2020-07-04.\n",
      "Running twitter query: \"(#covid) min_faves:50 lang:en until:2020-07-06 since:2020-07-05\"\n"
     ]
    },
    {
     "name": "stderr",
     "output_type": "stream",
     "text": [
      "Stopping after 20 empty pages\n"
     ]
    },
    {
     "name": "stdout",
     "output_type": "stream",
     "text": [
      "Collected 83 tweets at 2020-07-05.\n",
      "Running twitter query: \"(#covid) min_faves:50 lang:en until:2020-07-07 since:2020-07-06\"\n"
     ]
    },
    {
     "name": "stderr",
     "output_type": "stream",
     "text": [
      "Stopping after 20 empty pages\n"
     ]
    },
    {
     "name": "stdout",
     "output_type": "stream",
     "text": [
      "Collected 126 tweets at 2020-07-06.\n",
      "Running twitter query: \"(#covid) min_faves:50 lang:en until:2020-07-08 since:2020-07-07\"\n"
     ]
    },
    {
     "name": "stderr",
     "output_type": "stream",
     "text": [
      "Stopping after 20 empty pages\n"
     ]
    },
    {
     "name": "stdout",
     "output_type": "stream",
     "text": [
      "Collected 132 tweets at 2020-07-07.\n",
      "Running twitter query: \"(#covid) min_faves:50 lang:en until:2020-07-09 since:2020-07-08\"\n"
     ]
    },
    {
     "name": "stderr",
     "output_type": "stream",
     "text": [
      "Stopping after 20 empty pages\n"
     ]
    },
    {
     "name": "stdout",
     "output_type": "stream",
     "text": [
      "Collected 95 tweets at 2020-07-08.\n",
      "Running twitter query: \"(#covid) min_faves:50 lang:en until:2020-07-10 since:2020-07-09\"\n"
     ]
    },
    {
     "name": "stderr",
     "output_type": "stream",
     "text": [
      "Stopping after 20 empty pages\n"
     ]
    },
    {
     "name": "stdout",
     "output_type": "stream",
     "text": [
      "Collected 120 tweets at 2020-07-09.\n",
      "Running twitter query: \"(#covid) min_faves:50 lang:en until:2020-07-11 since:2020-07-10\"\n"
     ]
    },
    {
     "name": "stderr",
     "output_type": "stream",
     "text": [
      "Stopping after 20 empty pages\n"
     ]
    },
    {
     "name": "stdout",
     "output_type": "stream",
     "text": [
      "Collected 105 tweets at 2020-07-10.\n",
      "Running twitter query: \"(#covid) min_faves:50 lang:en until:2020-07-12 since:2020-07-11\"\n"
     ]
    },
    {
     "name": "stderr",
     "output_type": "stream",
     "text": [
      "Stopping after 20 empty pages\n"
     ]
    },
    {
     "name": "stdout",
     "output_type": "stream",
     "text": [
      "Collected 119 tweets at 2020-07-11.\n",
      "Running twitter query: \"(#covid) min_faves:50 lang:en until:2020-07-13 since:2020-07-12\"\n"
     ]
    },
    {
     "name": "stderr",
     "output_type": "stream",
     "text": [
      "Stopping after 20 empty pages\n"
     ]
    },
    {
     "name": "stdout",
     "output_type": "stream",
     "text": [
      "Collected 129 tweets at 2020-07-12.\n",
      "Running twitter query: \"(#covid) min_faves:50 lang:en until:2020-07-14 since:2020-07-13\"\n"
     ]
    },
    {
     "name": "stderr",
     "output_type": "stream",
     "text": [
      "Stopping after 20 empty pages\n"
     ]
    },
    {
     "name": "stdout",
     "output_type": "stream",
     "text": [
      "Collected 83 tweets at 2020-07-13.\n",
      "Running twitter query: \"(#covid) min_faves:50 lang:en until:2020-07-15 since:2020-07-14\"\n"
     ]
    },
    {
     "name": "stderr",
     "output_type": "stream",
     "text": [
      "Stopping after 20 empty pages\n"
     ]
    },
    {
     "name": "stdout",
     "output_type": "stream",
     "text": [
      "Collected 110 tweets at 2020-07-14.\n",
      "Running twitter query: \"(#covid) min_faves:50 lang:en until:2020-07-16 since:2020-07-15\"\n"
     ]
    },
    {
     "name": "stderr",
     "output_type": "stream",
     "text": [
      "Stopping after 20 empty pages\n"
     ]
    },
    {
     "name": "stdout",
     "output_type": "stream",
     "text": [
      "Collected 99 tweets at 2020-07-15.\n",
      "Running twitter query: \"(#covid) min_faves:50 lang:en until:2020-07-17 since:2020-07-16\"\n"
     ]
    },
    {
     "name": "stderr",
     "output_type": "stream",
     "text": [
      "Stopping after 20 empty pages\n"
     ]
    },
    {
     "name": "stdout",
     "output_type": "stream",
     "text": [
      "Collected 82 tweets at 2020-07-16.\n",
      "Running twitter query: \"(#covid) min_faves:50 lang:en until:2020-07-18 since:2020-07-17\"\n"
     ]
    },
    {
     "name": "stderr",
     "output_type": "stream",
     "text": [
      "Stopping after 20 empty pages\n"
     ]
    },
    {
     "name": "stdout",
     "output_type": "stream",
     "text": [
      "Collected 107 tweets at 2020-07-17.\n",
      "Running twitter query: \"(#covid) min_faves:50 lang:en until:2020-07-19 since:2020-07-18\"\n"
     ]
    },
    {
     "name": "stderr",
     "output_type": "stream",
     "text": [
      "Stopping after 20 empty pages\n"
     ]
    },
    {
     "name": "stdout",
     "output_type": "stream",
     "text": [
      "Collected 69 tweets at 2020-07-18.\n",
      "Running twitter query: \"(#covid) min_faves:50 lang:en until:2020-07-20 since:2020-07-19\"\n"
     ]
    },
    {
     "name": "stderr",
     "output_type": "stream",
     "text": [
      "Stopping after 20 empty pages\n"
     ]
    },
    {
     "name": "stdout",
     "output_type": "stream",
     "text": [
      "Collected 83 tweets at 2020-07-19.\n",
      "Running twitter query: \"(#covid) min_faves:50 lang:en until:2020-07-21 since:2020-07-20\"\n"
     ]
    },
    {
     "name": "stderr",
     "output_type": "stream",
     "text": [
      "Stopping after 20 empty pages\n"
     ]
    },
    {
     "name": "stdout",
     "output_type": "stream",
     "text": [
      "Collected 87 tweets at 2020-07-20.\n",
      "Running twitter query: \"(#covid) min_faves:50 lang:en until:2020-07-22 since:2020-07-21\"\n"
     ]
    },
    {
     "name": "stderr",
     "output_type": "stream",
     "text": [
      "Stopping after 20 empty pages\n"
     ]
    },
    {
     "name": "stdout",
     "output_type": "stream",
     "text": [
      "Collected 93 tweets at 2020-07-21.\n",
      "Running twitter query: \"(#covid) min_faves:50 lang:en until:2020-07-23 since:2020-07-22\"\n"
     ]
    },
    {
     "name": "stderr",
     "output_type": "stream",
     "text": [
      "Stopping after 20 empty pages\n"
     ]
    },
    {
     "name": "stdout",
     "output_type": "stream",
     "text": [
      "Collected 90 tweets at 2020-07-22.\n",
      "Running twitter query: \"(#covid) min_faves:50 lang:en until:2020-07-24 since:2020-07-23\"\n"
     ]
    },
    {
     "name": "stderr",
     "output_type": "stream",
     "text": [
      "Stopping after 20 empty pages\n"
     ]
    },
    {
     "name": "stdout",
     "output_type": "stream",
     "text": [
      "Collected 85 tweets at 2020-07-23.\n",
      "Running twitter query: \"(#covid) min_faves:50 lang:en until:2020-07-25 since:2020-07-24\"\n"
     ]
    },
    {
     "name": "stderr",
     "output_type": "stream",
     "text": [
      "Stopping after 20 empty pages\n"
     ]
    },
    {
     "name": "stdout",
     "output_type": "stream",
     "text": [
      "Collected 85 tweets at 2020-07-24.\n",
      "Running twitter query: \"(#covid) min_faves:50 lang:en until:2020-07-26 since:2020-07-25\"\n"
     ]
    },
    {
     "name": "stderr",
     "output_type": "stream",
     "text": [
      "Stopping after 20 empty pages\n"
     ]
    },
    {
     "name": "stdout",
     "output_type": "stream",
     "text": [
      "Collected 79 tweets at 2020-07-25.\n",
      "Running twitter query: \"(#covid) min_faves:50 lang:en until:2020-07-27 since:2020-07-26\"\n"
     ]
    },
    {
     "name": "stderr",
     "output_type": "stream",
     "text": [
      "Stopping after 20 empty pages\n"
     ]
    },
    {
     "name": "stdout",
     "output_type": "stream",
     "text": [
      "Collected 59 tweets at 2020-07-26.\n",
      "Running twitter query: \"(#covid) min_faves:50 lang:en until:2020-07-28 since:2020-07-27\"\n"
     ]
    },
    {
     "name": "stderr",
     "output_type": "stream",
     "text": [
      "Stopping after 20 empty pages\n"
     ]
    },
    {
     "name": "stdout",
     "output_type": "stream",
     "text": [
      "Collected 115 tweets at 2020-07-27.\n",
      "Running twitter query: \"(#covid) min_faves:50 lang:en until:2020-07-29 since:2020-07-28\"\n"
     ]
    },
    {
     "name": "stderr",
     "output_type": "stream",
     "text": [
      "Stopping after 20 empty pages\n"
     ]
    },
    {
     "name": "stdout",
     "output_type": "stream",
     "text": [
      "Collected 84 tweets at 2020-07-28.\n",
      "Running twitter query: \"(#covid) min_faves:50 lang:en until:2020-07-30 since:2020-07-29\"\n"
     ]
    },
    {
     "name": "stderr",
     "output_type": "stream",
     "text": [
      "Stopping after 20 empty pages\n"
     ]
    },
    {
     "name": "stdout",
     "output_type": "stream",
     "text": [
      "Collected 92 tweets at 2020-07-29.\n",
      "Running twitter query: \"(#covid) min_faves:50 lang:en until:2020-07-31 since:2020-07-30\"\n"
     ]
    },
    {
     "name": "stderr",
     "output_type": "stream",
     "text": [
      "Stopping after 20 empty pages\n"
     ]
    },
    {
     "name": "stdout",
     "output_type": "stream",
     "text": [
      "Collected 86 tweets at 2020-07-30.\n",
      "Running twitter query: \"(#covid) min_faves:50 lang:en until:2020-08-01 since:2020-07-31\"\n"
     ]
    },
    {
     "name": "stderr",
     "output_type": "stream",
     "text": [
      "Stopping after 20 empty pages\n"
     ]
    },
    {
     "name": "stdout",
     "output_type": "stream",
     "text": [
      "Collected 115 tweets at 2020-07-31.\n",
      "Saving 3004 tweets at 2020-07.\n",
      "Running twitter query: \"(#covid) min_faves:50 lang:en until:2020-08-02 since:2020-08-01\"\n"
     ]
    },
    {
     "name": "stderr",
     "output_type": "stream",
     "text": [
      "Stopping after 20 empty pages\n"
     ]
    },
    {
     "name": "stdout",
     "output_type": "stream",
     "text": [
      "Collected 77 tweets at 2020-08-01.\n",
      "Running twitter query: \"(#covid) min_faves:50 lang:en until:2020-08-03 since:2020-08-02\"\n"
     ]
    },
    {
     "name": "stderr",
     "output_type": "stream",
     "text": [
      "Stopping after 20 empty pages\n"
     ]
    },
    {
     "name": "stdout",
     "output_type": "stream",
     "text": [
      "Collected 82 tweets at 2020-08-02.\n",
      "Running twitter query: \"(#covid) min_faves:50 lang:en until:2020-08-04 since:2020-08-03\"\n"
     ]
    },
    {
     "name": "stderr",
     "output_type": "stream",
     "text": [
      "Stopping after 20 empty pages\n"
     ]
    },
    {
     "name": "stdout",
     "output_type": "stream",
     "text": [
      "Collected 65 tweets at 2020-08-03.\n",
      "Running twitter query: \"(#covid) min_faves:50 lang:en until:2020-08-05 since:2020-08-04\"\n"
     ]
    },
    {
     "name": "stderr",
     "output_type": "stream",
     "text": [
      "Stopping after 20 empty pages\n"
     ]
    },
    {
     "name": "stdout",
     "output_type": "stream",
     "text": [
      "Collected 66 tweets at 2020-08-04.\n",
      "Running twitter query: \"(#covid) min_faves:50 lang:en until:2020-08-06 since:2020-08-05\"\n"
     ]
    },
    {
     "name": "stderr",
     "output_type": "stream",
     "text": [
      "Stopping after 20 empty pages\n"
     ]
    },
    {
     "name": "stdout",
     "output_type": "stream",
     "text": [
      "Collected 61 tweets at 2020-08-05.\n",
      "Running twitter query: \"(#covid) min_faves:50 lang:en until:2020-08-07 since:2020-08-06\"\n"
     ]
    },
    {
     "name": "stderr",
     "output_type": "stream",
     "text": [
      "Stopping after 20 empty pages\n"
     ]
    },
    {
     "name": "stdout",
     "output_type": "stream",
     "text": [
      "Collected 70 tweets at 2020-08-06.\n",
      "Running twitter query: \"(#covid) min_faves:50 lang:en until:2020-08-08 since:2020-08-07\"\n"
     ]
    },
    {
     "name": "stderr",
     "output_type": "stream",
     "text": [
      "Stopping after 20 empty pages\n"
     ]
    },
    {
     "name": "stdout",
     "output_type": "stream",
     "text": [
      "Collected 69 tweets at 2020-08-07.\n",
      "Running twitter query: \"(#covid) min_faves:50 lang:en until:2020-08-09 since:2020-08-08\"\n"
     ]
    },
    {
     "name": "stderr",
     "output_type": "stream",
     "text": [
      "Stopping after 20 empty pages\n"
     ]
    },
    {
     "name": "stdout",
     "output_type": "stream",
     "text": [
      "Collected 64 tweets at 2020-08-08.\n",
      "Running twitter query: \"(#covid) min_faves:50 lang:en until:2020-08-10 since:2020-08-09\"\n"
     ]
    },
    {
     "name": "stderr",
     "output_type": "stream",
     "text": [
      "Stopping after 20 empty pages\n"
     ]
    },
    {
     "name": "stdout",
     "output_type": "stream",
     "text": [
      "Collected 54 tweets at 2020-08-09.\n",
      "Running twitter query: \"(#covid) min_faves:50 lang:en until:2020-08-11 since:2020-08-10\"\n"
     ]
    },
    {
     "name": "stderr",
     "output_type": "stream",
     "text": [
      "Stopping after 20 empty pages\n"
     ]
    },
    {
     "name": "stdout",
     "output_type": "stream",
     "text": [
      "Collected 69 tweets at 2020-08-10.\n",
      "Running twitter query: \"(#covid) min_faves:50 lang:en until:2020-08-12 since:2020-08-11\"\n"
     ]
    },
    {
     "name": "stderr",
     "output_type": "stream",
     "text": [
      "Stopping after 20 empty pages\n"
     ]
    },
    {
     "name": "stdout",
     "output_type": "stream",
     "text": [
      "Collected 69 tweets at 2020-08-11.\n",
      "Running twitter query: \"(#covid) min_faves:50 lang:en until:2020-08-13 since:2020-08-12\"\n"
     ]
    },
    {
     "name": "stderr",
     "output_type": "stream",
     "text": [
      "Stopping after 20 empty pages\n"
     ]
    },
    {
     "name": "stdout",
     "output_type": "stream",
     "text": [
      "Collected 78 tweets at 2020-08-12.\n",
      "Running twitter query: \"(#covid) min_faves:50 lang:en until:2020-08-14 since:2020-08-13\"\n"
     ]
    },
    {
     "name": "stderr",
     "output_type": "stream",
     "text": [
      "Stopping after 20 empty pages\n"
     ]
    },
    {
     "name": "stdout",
     "output_type": "stream",
     "text": [
      "Collected 61 tweets at 2020-08-13.\n",
      "Running twitter query: \"(#covid) min_faves:50 lang:en until:2020-08-15 since:2020-08-14\"\n"
     ]
    },
    {
     "name": "stderr",
     "output_type": "stream",
     "text": [
      "Stopping after 20 empty pages\n"
     ]
    },
    {
     "name": "stdout",
     "output_type": "stream",
     "text": [
      "Collected 84 tweets at 2020-08-14.\n",
      "Running twitter query: \"(#covid) min_faves:50 lang:en until:2020-08-16 since:2020-08-15\"\n"
     ]
    },
    {
     "name": "stderr",
     "output_type": "stream",
     "text": [
      "Stopping after 20 empty pages\n"
     ]
    },
    {
     "name": "stdout",
     "output_type": "stream",
     "text": [
      "Collected 59 tweets at 2020-08-15.\n",
      "Running twitter query: \"(#covid) min_faves:50 lang:en until:2020-08-17 since:2020-08-16\"\n"
     ]
    },
    {
     "name": "stderr",
     "output_type": "stream",
     "text": [
      "Stopping after 20 empty pages\n"
     ]
    },
    {
     "name": "stdout",
     "output_type": "stream",
     "text": [
      "Collected 50 tweets at 2020-08-16.\n",
      "Running twitter query: \"(#covid) min_faves:50 lang:en until:2020-08-18 since:2020-08-17\"\n"
     ]
    },
    {
     "name": "stderr",
     "output_type": "stream",
     "text": [
      "Stopping after 20 empty pages\n"
     ]
    },
    {
     "name": "stdout",
     "output_type": "stream",
     "text": [
      "Collected 56 tweets at 2020-08-17.\n",
      "Running twitter query: \"(#covid) min_faves:50 lang:en until:2020-08-19 since:2020-08-18\"\n"
     ]
    },
    {
     "name": "stderr",
     "output_type": "stream",
     "text": [
      "Stopping after 20 empty pages\n"
     ]
    },
    {
     "name": "stdout",
     "output_type": "stream",
     "text": [
      "Collected 69 tweets at 2020-08-18.\n",
      "Running twitter query: \"(#covid) min_faves:50 lang:en until:2020-08-20 since:2020-08-19\"\n"
     ]
    },
    {
     "name": "stderr",
     "output_type": "stream",
     "text": [
      "Stopping after 20 empty pages\n"
     ]
    },
    {
     "name": "stdout",
     "output_type": "stream",
     "text": [
      "Collected 52 tweets at 2020-08-19.\n",
      "Running twitter query: \"(#covid) min_faves:50 lang:en until:2020-08-21 since:2020-08-20\"\n"
     ]
    },
    {
     "name": "stderr",
     "output_type": "stream",
     "text": [
      "Stopping after 20 empty pages\n"
     ]
    },
    {
     "name": "stdout",
     "output_type": "stream",
     "text": [
      "Collected 67 tweets at 2020-08-20.\n",
      "Running twitter query: \"(#covid) min_faves:50 lang:en until:2020-08-22 since:2020-08-21\"\n"
     ]
    },
    {
     "name": "stderr",
     "output_type": "stream",
     "text": [
      "Stopping after 20 empty pages\n"
     ]
    },
    {
     "name": "stdout",
     "output_type": "stream",
     "text": [
      "Collected 62 tweets at 2020-08-21.\n",
      "Running twitter query: \"(#covid) min_faves:50 lang:en until:2020-08-23 since:2020-08-22\"\n"
     ]
    },
    {
     "name": "stderr",
     "output_type": "stream",
     "text": [
      "Stopping after 20 empty pages\n"
     ]
    },
    {
     "name": "stdout",
     "output_type": "stream",
     "text": [
      "Collected 53 tweets at 2020-08-22.\n",
      "Running twitter query: \"(#covid) min_faves:50 lang:en until:2020-08-24 since:2020-08-23\"\n"
     ]
    },
    {
     "name": "stderr",
     "output_type": "stream",
     "text": [
      "Stopping after 20 empty pages\n"
     ]
    },
    {
     "name": "stdout",
     "output_type": "stream",
     "text": [
      "Collected 57 tweets at 2020-08-23.\n",
      "Running twitter query: \"(#covid) min_faves:50 lang:en until:2020-08-25 since:2020-08-24\"\n"
     ]
    },
    {
     "name": "stderr",
     "output_type": "stream",
     "text": [
      "Stopping after 20 empty pages\n"
     ]
    },
    {
     "name": "stdout",
     "output_type": "stream",
     "text": [
      "Collected 54 tweets at 2020-08-24.\n",
      "Running twitter query: \"(#covid) min_faves:50 lang:en until:2020-08-26 since:2020-08-25\"\n"
     ]
    },
    {
     "name": "stderr",
     "output_type": "stream",
     "text": [
      "Stopping after 20 empty pages\n"
     ]
    },
    {
     "name": "stdout",
     "output_type": "stream",
     "text": [
      "Collected 53 tweets at 2020-08-25.\n",
      "Running twitter query: \"(#covid) min_faves:50 lang:en until:2020-08-27 since:2020-08-26\"\n"
     ]
    },
    {
     "name": "stderr",
     "output_type": "stream",
     "text": [
      "Stopping after 20 empty pages\n"
     ]
    },
    {
     "name": "stdout",
     "output_type": "stream",
     "text": [
      "Collected 83 tweets at 2020-08-26.\n",
      "Running twitter query: \"(#covid) min_faves:50 lang:en until:2020-08-28 since:2020-08-27\"\n"
     ]
    },
    {
     "name": "stderr",
     "output_type": "stream",
     "text": [
      "Stopping after 20 empty pages\n"
     ]
    },
    {
     "name": "stdout",
     "output_type": "stream",
     "text": [
      "Collected 56 tweets at 2020-08-27.\n",
      "Running twitter query: \"(#covid) min_faves:50 lang:en until:2020-08-29 since:2020-08-28\"\n"
     ]
    },
    {
     "name": "stderr",
     "output_type": "stream",
     "text": [
      "Stopping after 20 empty pages\n"
     ]
    },
    {
     "name": "stdout",
     "output_type": "stream",
     "text": [
      "Collected 71 tweets at 2020-08-28.\n",
      "Running twitter query: \"(#covid) min_faves:50 lang:en until:2020-08-30 since:2020-08-29\"\n"
     ]
    },
    {
     "name": "stderr",
     "output_type": "stream",
     "text": [
      "Stopping after 20 empty pages\n"
     ]
    },
    {
     "name": "stdout",
     "output_type": "stream",
     "text": [
      "Collected 67 tweets at 2020-08-29.\n",
      "Running twitter query: \"(#covid) min_faves:50 lang:en until:2020-08-31 since:2020-08-30\"\n"
     ]
    },
    {
     "name": "stderr",
     "output_type": "stream",
     "text": [
      "Stopping after 20 empty pages\n"
     ]
    },
    {
     "name": "stdout",
     "output_type": "stream",
     "text": [
      "Collected 60 tweets at 2020-08-30.\n",
      "Running twitter query: \"(#covid) min_faves:50 lang:en until:2020-09-01 since:2020-08-31\"\n"
     ]
    },
    {
     "name": "stderr",
     "output_type": "stream",
     "text": [
      "Stopping after 20 empty pages\n"
     ]
    },
    {
     "name": "stdout",
     "output_type": "stream",
     "text": [
      "Collected 80 tweets at 2020-08-31.\n",
      "Saving 2049 tweets at 2020-08.\n",
      "Running twitter query: \"(#covid) min_faves:50 lang:en until:2020-09-02 since:2020-09-01\"\n"
     ]
    },
    {
     "name": "stderr",
     "output_type": "stream",
     "text": [
      "Stopping after 20 empty pages\n"
     ]
    },
    {
     "name": "stdout",
     "output_type": "stream",
     "text": [
      "Collected 80 tweets at 2020-09-01.\n",
      "Running twitter query: \"(#covid) min_faves:50 lang:en until:2020-09-03 since:2020-09-02\"\n"
     ]
    },
    {
     "name": "stderr",
     "output_type": "stream",
     "text": [
      "Stopping after 20 empty pages\n"
     ]
    },
    {
     "name": "stdout",
     "output_type": "stream",
     "text": [
      "Collected 72 tweets at 2020-09-02.\n",
      "Running twitter query: \"(#covid) min_faves:50 lang:en until:2020-09-04 since:2020-09-03\"\n"
     ]
    },
    {
     "name": "stderr",
     "output_type": "stream",
     "text": [
      "Stopping after 20 empty pages\n"
     ]
    },
    {
     "name": "stdout",
     "output_type": "stream",
     "text": [
      "Collected 61 tweets at 2020-09-03.\n",
      "Running twitter query: \"(#covid) min_faves:50 lang:en until:2020-09-05 since:2020-09-04\"\n"
     ]
    },
    {
     "name": "stderr",
     "output_type": "stream",
     "text": [
      "Stopping after 20 empty pages\n"
     ]
    },
    {
     "name": "stdout",
     "output_type": "stream",
     "text": [
      "Collected 63 tweets at 2020-09-04.\n",
      "Running twitter query: \"(#covid) min_faves:50 lang:en until:2020-09-06 since:2020-09-05\"\n"
     ]
    },
    {
     "name": "stderr",
     "output_type": "stream",
     "text": [
      "Stopping after 20 empty pages\n"
     ]
    },
    {
     "name": "stdout",
     "output_type": "stream",
     "text": [
      "Collected 61 tweets at 2020-09-05.\n",
      "Running twitter query: \"(#covid) min_faves:50 lang:en until:2020-09-07 since:2020-09-06\"\n"
     ]
    },
    {
     "name": "stderr",
     "output_type": "stream",
     "text": [
      "Stopping after 20 empty pages\n"
     ]
    },
    {
     "name": "stdout",
     "output_type": "stream",
     "text": [
      "Collected 42 tweets at 2020-09-06.\n",
      "Running twitter query: \"(#covid) min_faves:50 lang:en until:2020-09-08 since:2020-09-07\"\n"
     ]
    },
    {
     "name": "stderr",
     "output_type": "stream",
     "text": [
      "Stopping after 20 empty pages\n"
     ]
    },
    {
     "name": "stdout",
     "output_type": "stream",
     "text": [
      "Collected 65 tweets at 2020-09-07.\n",
      "Running twitter query: \"(#covid) min_faves:50 lang:en until:2020-09-09 since:2020-09-08\"\n"
     ]
    },
    {
     "name": "stderr",
     "output_type": "stream",
     "text": [
      "Stopping after 20 empty pages\n"
     ]
    },
    {
     "name": "stdout",
     "output_type": "stream",
     "text": [
      "Collected 67 tweets at 2020-09-08.\n",
      "Running twitter query: \"(#covid) min_faves:50 lang:en until:2020-09-10 since:2020-09-09\"\n"
     ]
    },
    {
     "name": "stderr",
     "output_type": "stream",
     "text": [
      "Stopping after 20 empty pages\n"
     ]
    },
    {
     "name": "stdout",
     "output_type": "stream",
     "text": [
      "Collected 87 tweets at 2020-09-09.\n",
      "Running twitter query: \"(#covid) min_faves:50 lang:en until:2020-09-11 since:2020-09-10\"\n"
     ]
    },
    {
     "name": "stderr",
     "output_type": "stream",
     "text": [
      "Stopping after 20 empty pages\n"
     ]
    },
    {
     "name": "stdout",
     "output_type": "stream",
     "text": [
      "Collected 99 tweets at 2020-09-10.\n",
      "Running twitter query: \"(#covid) min_faves:50 lang:en until:2020-09-12 since:2020-09-11\"\n"
     ]
    },
    {
     "name": "stderr",
     "output_type": "stream",
     "text": [
      "Stopping after 20 empty pages\n"
     ]
    },
    {
     "name": "stdout",
     "output_type": "stream",
     "text": [
      "Collected 68 tweets at 2020-09-11.\n",
      "Running twitter query: \"(#covid) min_faves:50 lang:en until:2020-09-13 since:2020-09-12\"\n"
     ]
    },
    {
     "name": "stderr",
     "output_type": "stream",
     "text": [
      "Stopping after 20 empty pages\n"
     ]
    },
    {
     "name": "stdout",
     "output_type": "stream",
     "text": [
      "Collected 65 tweets at 2020-09-12.\n",
      "Running twitter query: \"(#covid) min_faves:50 lang:en until:2020-09-14 since:2020-09-13\"\n"
     ]
    },
    {
     "name": "stderr",
     "output_type": "stream",
     "text": [
      "Stopping after 20 empty pages\n"
     ]
    },
    {
     "name": "stdout",
     "output_type": "stream",
     "text": [
      "Collected 65 tweets at 2020-09-13.\n",
      "Running twitter query: \"(#covid) min_faves:50 lang:en until:2020-09-15 since:2020-09-14\"\n"
     ]
    },
    {
     "name": "stderr",
     "output_type": "stream",
     "text": [
      "Stopping after 20 empty pages\n"
     ]
    },
    {
     "name": "stdout",
     "output_type": "stream",
     "text": [
      "Collected 73 tweets at 2020-09-14.\n",
      "Running twitter query: \"(#covid) min_faves:50 lang:en until:2020-09-16 since:2020-09-15\"\n"
     ]
    },
    {
     "name": "stderr",
     "output_type": "stream",
     "text": [
      "Stopping after 20 empty pages\n"
     ]
    },
    {
     "name": "stdout",
     "output_type": "stream",
     "text": [
      "Collected 62 tweets at 2020-09-15.\n",
      "Running twitter query: \"(#covid) min_faves:50 lang:en until:2020-09-17 since:2020-09-16\"\n"
     ]
    },
    {
     "name": "stderr",
     "output_type": "stream",
     "text": [
      "Stopping after 20 empty pages\n"
     ]
    },
    {
     "name": "stdout",
     "output_type": "stream",
     "text": [
      "Collected 69 tweets at 2020-09-16.\n",
      "Running twitter query: \"(#covid) min_faves:50 lang:en until:2020-09-18 since:2020-09-17\"\n"
     ]
    },
    {
     "name": "stderr",
     "output_type": "stream",
     "text": [
      "Stopping after 20 empty pages\n"
     ]
    },
    {
     "name": "stdout",
     "output_type": "stream",
     "text": [
      "Collected 65 tweets at 2020-09-17.\n",
      "Running twitter query: \"(#covid) min_faves:50 lang:en until:2020-09-19 since:2020-09-18\"\n"
     ]
    },
    {
     "name": "stderr",
     "output_type": "stream",
     "text": [
      "Stopping after 20 empty pages\n"
     ]
    },
    {
     "name": "stdout",
     "output_type": "stream",
     "text": [
      "Collected 60 tweets at 2020-09-18.\n",
      "Running twitter query: \"(#covid) min_faves:50 lang:en until:2020-09-20 since:2020-09-19\"\n"
     ]
    },
    {
     "name": "stderr",
     "output_type": "stream",
     "text": [
      "Stopping after 20 empty pages\n"
     ]
    },
    {
     "name": "stdout",
     "output_type": "stream",
     "text": [
      "Collected 50 tweets at 2020-09-19.\n",
      "Running twitter query: \"(#covid) min_faves:50 lang:en until:2020-09-21 since:2020-09-20\"\n"
     ]
    },
    {
     "name": "stderr",
     "output_type": "stream",
     "text": [
      "Stopping after 20 empty pages\n"
     ]
    },
    {
     "name": "stdout",
     "output_type": "stream",
     "text": [
      "Collected 57 tweets at 2020-09-20.\n",
      "Running twitter query: \"(#covid) min_faves:50 lang:en until:2020-09-22 since:2020-09-21\"\n"
     ]
    },
    {
     "name": "stderr",
     "output_type": "stream",
     "text": [
      "Stopping after 20 empty pages\n"
     ]
    },
    {
     "name": "stdout",
     "output_type": "stream",
     "text": [
      "Collected 91 tweets at 2020-09-21.\n",
      "Running twitter query: \"(#covid) min_faves:50 lang:en until:2020-09-23 since:2020-09-22\"\n"
     ]
    },
    {
     "name": "stderr",
     "output_type": "stream",
     "text": [
      "Stopping after 20 empty pages\n"
     ]
    },
    {
     "name": "stdout",
     "output_type": "stream",
     "text": [
      "Collected 92 tweets at 2020-09-22.\n",
      "Running twitter query: \"(#covid) min_faves:50 lang:en until:2020-09-24 since:2020-09-23\"\n"
     ]
    },
    {
     "name": "stderr",
     "output_type": "stream",
     "text": [
      "Stopping after 20 empty pages\n"
     ]
    },
    {
     "name": "stdout",
     "output_type": "stream",
     "text": [
      "Collected 75 tweets at 2020-09-23.\n",
      "Running twitter query: \"(#covid) min_faves:50 lang:en until:2020-09-25 since:2020-09-24\"\n"
     ]
    },
    {
     "name": "stderr",
     "output_type": "stream",
     "text": [
      "Stopping after 20 empty pages\n"
     ]
    },
    {
     "name": "stdout",
     "output_type": "stream",
     "text": [
      "Collected 61 tweets at 2020-09-24.\n",
      "Running twitter query: \"(#covid) min_faves:50 lang:en until:2020-09-26 since:2020-09-25\"\n"
     ]
    },
    {
     "name": "stderr",
     "output_type": "stream",
     "text": [
      "Stopping after 20 empty pages\n"
     ]
    },
    {
     "name": "stdout",
     "output_type": "stream",
     "text": [
      "Collected 63 tweets at 2020-09-25.\n",
      "Running twitter query: \"(#covid) min_faves:50 lang:en until:2020-09-27 since:2020-09-26\"\n"
     ]
    },
    {
     "name": "stderr",
     "output_type": "stream",
     "text": [
      "Stopping after 20 empty pages\n"
     ]
    },
    {
     "name": "stdout",
     "output_type": "stream",
     "text": [
      "Collected 41 tweets at 2020-09-26.\n",
      "Running twitter query: \"(#covid) min_faves:50 lang:en until:2020-09-28 since:2020-09-27\"\n"
     ]
    },
    {
     "name": "stderr",
     "output_type": "stream",
     "text": [
      "Stopping after 20 empty pages\n"
     ]
    },
    {
     "name": "stdout",
     "output_type": "stream",
     "text": [
      "Collected 40 tweets at 2020-09-27.\n",
      "Running twitter query: \"(#covid) min_faves:50 lang:en until:2020-09-29 since:2020-09-28\"\n"
     ]
    },
    {
     "name": "stderr",
     "output_type": "stream",
     "text": [
      "Stopping after 20 empty pages\n"
     ]
    },
    {
     "name": "stdout",
     "output_type": "stream",
     "text": [
      "Collected 39 tweets at 2020-09-28.\n",
      "Running twitter query: \"(#covid) min_faves:50 lang:en until:2020-09-30 since:2020-09-29\"\n"
     ]
    },
    {
     "name": "stderr",
     "output_type": "stream",
     "text": [
      "Stopping after 20 empty pages\n"
     ]
    },
    {
     "name": "stdout",
     "output_type": "stream",
     "text": [
      "Collected 49 tweets at 2020-09-29.\n",
      "Running twitter query: \"(#covid) min_faves:50 lang:en until:2020-10-01 since:2020-09-30\"\n"
     ]
    },
    {
     "name": "stderr",
     "output_type": "stream",
     "text": [
      "Stopping after 20 empty pages\n"
     ]
    },
    {
     "name": "stdout",
     "output_type": "stream",
     "text": [
      "Collected 59 tweets at 2020-09-30.\n",
      "Saving 1971 tweets at 2020-09.\n",
      "Running twitter query: \"(#covid) min_faves:50 lang:en until:2020-10-02 since:2020-10-01\"\n"
     ]
    },
    {
     "name": "stderr",
     "output_type": "stream",
     "text": [
      "Stopping after 20 empty pages\n"
     ]
    },
    {
     "name": "stdout",
     "output_type": "stream",
     "text": [
      "Collected 62 tweets at 2020-10-01.\n",
      "Running twitter query: \"(#covid) min_faves:50 lang:en until:2020-10-03 since:2020-10-02\"\n"
     ]
    },
    {
     "name": "stderr",
     "output_type": "stream",
     "text": [
      "Stopping after 20 empty pages\n"
     ]
    },
    {
     "name": "stdout",
     "output_type": "stream",
     "text": [
      "Collected 134 tweets at 2020-10-02.\n",
      "Running twitter query: \"(#covid) min_faves:50 lang:en until:2020-10-04 since:2020-10-03\"\n"
     ]
    },
    {
     "name": "stderr",
     "output_type": "stream",
     "text": [
      "Stopping after 20 empty pages\n"
     ]
    },
    {
     "name": "stdout",
     "output_type": "stream",
     "text": [
      "Collected 119 tweets at 2020-10-03.\n",
      "Running twitter query: \"(#covid) min_faves:50 lang:en until:2020-10-05 since:2020-10-04\"\n"
     ]
    },
    {
     "name": "stderr",
     "output_type": "stream",
     "text": [
      "Stopping after 20 empty pages\n"
     ]
    },
    {
     "name": "stdout",
     "output_type": "stream",
     "text": [
      "Collected 103 tweets at 2020-10-04.\n",
      "Running twitter query: \"(#covid) min_faves:50 lang:en until:2020-10-06 since:2020-10-05\"\n"
     ]
    },
    {
     "name": "stderr",
     "output_type": "stream",
     "text": [
      "Stopping after 20 empty pages\n"
     ]
    },
    {
     "name": "stdout",
     "output_type": "stream",
     "text": [
      "Collected 129 tweets at 2020-10-05.\n",
      "Running twitter query: \"(#covid) min_faves:50 lang:en until:2020-10-07 since:2020-10-06\"\n"
     ]
    },
    {
     "name": "stderr",
     "output_type": "stream",
     "text": [
      "Stopping after 20 empty pages\n"
     ]
    },
    {
     "name": "stdout",
     "output_type": "stream",
     "text": [
      "Collected 132 tweets at 2020-10-06.\n",
      "Running twitter query: \"(#covid) min_faves:50 lang:en until:2020-10-08 since:2020-10-07\"\n"
     ]
    },
    {
     "name": "stderr",
     "output_type": "stream",
     "text": [
      "Stopping after 20 empty pages\n"
     ]
    },
    {
     "name": "stdout",
     "output_type": "stream",
     "text": [
      "Collected 116 tweets at 2020-10-07.\n",
      "Running twitter query: \"(#covid) min_faves:50 lang:en until:2020-10-09 since:2020-10-08\"\n"
     ]
    },
    {
     "name": "stderr",
     "output_type": "stream",
     "text": [
      "Stopping after 20 empty pages\n"
     ]
    },
    {
     "name": "stdout",
     "output_type": "stream",
     "text": [
      "Collected 123 tweets at 2020-10-08.\n",
      "Running twitter query: \"(#covid) min_faves:50 lang:en until:2020-10-10 since:2020-10-09\"\n"
     ]
    },
    {
     "name": "stderr",
     "output_type": "stream",
     "text": [
      "Stopping after 20 empty pages\n"
     ]
    },
    {
     "name": "stdout",
     "output_type": "stream",
     "text": [
      "Collected 83 tweets at 2020-10-09.\n",
      "Running twitter query: \"(#covid) min_faves:50 lang:en until:2020-10-11 since:2020-10-10\"\n"
     ]
    },
    {
     "name": "stderr",
     "output_type": "stream",
     "text": [
      "Stopping after 20 empty pages\n"
     ]
    },
    {
     "name": "stdout",
     "output_type": "stream",
     "text": [
      "Collected 68 tweets at 2020-10-10.\n",
      "Running twitter query: \"(#covid) min_faves:50 lang:en until:2020-10-12 since:2020-10-11\"\n"
     ]
    },
    {
     "name": "stderr",
     "output_type": "stream",
     "text": [
      "Stopping after 20 empty pages\n"
     ]
    },
    {
     "name": "stdout",
     "output_type": "stream",
     "text": [
      "Collected 56 tweets at 2020-10-11.\n",
      "Running twitter query: \"(#covid) min_faves:50 lang:en until:2020-10-13 since:2020-10-12\"\n"
     ]
    },
    {
     "name": "stderr",
     "output_type": "stream",
     "text": [
      "Stopping after 20 empty pages\n"
     ]
    },
    {
     "name": "stdout",
     "output_type": "stream",
     "text": [
      "Collected 63 tweets at 2020-10-12.\n",
      "Running twitter query: \"(#covid) min_faves:50 lang:en until:2020-10-14 since:2020-10-13\"\n"
     ]
    },
    {
     "name": "stderr",
     "output_type": "stream",
     "text": [
      "Stopping after 20 empty pages\n"
     ]
    },
    {
     "name": "stdout",
     "output_type": "stream",
     "text": [
      "Collected 67 tweets at 2020-10-13.\n",
      "Running twitter query: \"(#covid) min_faves:50 lang:en until:2020-10-15 since:2020-10-14\"\n"
     ]
    },
    {
     "name": "stderr",
     "output_type": "stream",
     "text": [
      "Stopping after 20 empty pages\n"
     ]
    },
    {
     "name": "stdout",
     "output_type": "stream",
     "text": [
      "Collected 83 tweets at 2020-10-14.\n",
      "Running twitter query: \"(#covid) min_faves:50 lang:en until:2020-10-16 since:2020-10-15\"\n"
     ]
    },
    {
     "name": "stderr",
     "output_type": "stream",
     "text": [
      "Stopping after 20 empty pages\n"
     ]
    },
    {
     "name": "stdout",
     "output_type": "stream",
     "text": [
      "Collected 93 tweets at 2020-10-15.\n",
      "Running twitter query: \"(#covid) min_faves:50 lang:en until:2020-10-17 since:2020-10-16\"\n"
     ]
    },
    {
     "name": "stderr",
     "output_type": "stream",
     "text": [
      "Stopping after 20 empty pages\n"
     ]
    },
    {
     "name": "stdout",
     "output_type": "stream",
     "text": [
      "Collected 79 tweets at 2020-10-16.\n",
      "Running twitter query: \"(#covid) min_faves:50 lang:en until:2020-10-18 since:2020-10-17\"\n"
     ]
    },
    {
     "name": "stderr",
     "output_type": "stream",
     "text": [
      "Stopping after 20 empty pages\n"
     ]
    },
    {
     "name": "stdout",
     "output_type": "stream",
     "text": [
      "Collected 53 tweets at 2020-10-17.\n",
      "Running twitter query: \"(#covid) min_faves:50 lang:en until:2020-10-19 since:2020-10-18\"\n"
     ]
    },
    {
     "name": "stderr",
     "output_type": "stream",
     "text": [
      "Stopping after 20 empty pages\n"
     ]
    },
    {
     "name": "stdout",
     "output_type": "stream",
     "text": [
      "Collected 47 tweets at 2020-10-18.\n",
      "Running twitter query: \"(#covid) min_faves:50 lang:en until:2020-10-20 since:2020-10-19\"\n"
     ]
    },
    {
     "name": "stderr",
     "output_type": "stream",
     "text": [
      "Stopping after 20 empty pages\n"
     ]
    },
    {
     "name": "stdout",
     "output_type": "stream",
     "text": [
      "Collected 57 tweets at 2020-10-19.\n",
      "Running twitter query: \"(#covid) min_faves:50 lang:en until:2020-10-21 since:2020-10-20\"\n"
     ]
    },
    {
     "name": "stderr",
     "output_type": "stream",
     "text": [
      "Stopping after 20 empty pages\n"
     ]
    },
    {
     "name": "stdout",
     "output_type": "stream",
     "text": [
      "Collected 69 tweets at 2020-10-20.\n",
      "Running twitter query: \"(#covid) min_faves:50 lang:en until:2020-10-22 since:2020-10-21\"\n"
     ]
    },
    {
     "name": "stderr",
     "output_type": "stream",
     "text": [
      "Stopping after 20 empty pages\n"
     ]
    },
    {
     "name": "stdout",
     "output_type": "stream",
     "text": [
      "Collected 50 tweets at 2020-10-21.\n",
      "Running twitter query: \"(#covid) min_faves:50 lang:en until:2020-10-23 since:2020-10-22\"\n"
     ]
    },
    {
     "name": "stderr",
     "output_type": "stream",
     "text": [
      "Stopping after 20 empty pages\n"
     ]
    },
    {
     "name": "stdout",
     "output_type": "stream",
     "text": [
      "Collected 67 tweets at 2020-10-22.\n",
      "Running twitter query: \"(#covid) min_faves:50 lang:en until:2020-10-24 since:2020-10-23\"\n"
     ]
    },
    {
     "name": "stderr",
     "output_type": "stream",
     "text": [
      "Stopping after 20 empty pages\n"
     ]
    },
    {
     "name": "stdout",
     "output_type": "stream",
     "text": [
      "Collected 61 tweets at 2020-10-23.\n",
      "Running twitter query: \"(#covid) min_faves:50 lang:en until:2020-10-25 since:2020-10-24\"\n"
     ]
    },
    {
     "name": "stderr",
     "output_type": "stream",
     "text": [
      "Stopping after 20 empty pages\n"
     ]
    },
    {
     "name": "stdout",
     "output_type": "stream",
     "text": [
      "Collected 72 tweets at 2020-10-24.\n",
      "Running twitter query: \"(#covid) min_faves:50 lang:en until:2020-10-26 since:2020-10-25\"\n"
     ]
    },
    {
     "name": "stderr",
     "output_type": "stream",
     "text": [
      "Stopping after 20 empty pages\n"
     ]
    },
    {
     "name": "stdout",
     "output_type": "stream",
     "text": [
      "Collected 58 tweets at 2020-10-25.\n",
      "Running twitter query: \"(#covid) min_faves:50 lang:en until:2020-10-27 since:2020-10-26\"\n"
     ]
    },
    {
     "name": "stderr",
     "output_type": "stream",
     "text": [
      "Stopping after 20 empty pages\n"
     ]
    },
    {
     "name": "stdout",
     "output_type": "stream",
     "text": [
      "Collected 78 tweets at 2020-10-26.\n",
      "Running twitter query: \"(#covid) min_faves:50 lang:en until:2020-10-28 since:2020-10-27\"\n"
     ]
    },
    {
     "name": "stderr",
     "output_type": "stream",
     "text": [
      "Stopping after 20 empty pages\n"
     ]
    },
    {
     "name": "stdout",
     "output_type": "stream",
     "text": [
      "Collected 66 tweets at 2020-10-27.\n",
      "Running twitter query: \"(#covid) min_faves:50 lang:en until:2020-10-29 since:2020-10-28\"\n"
     ]
    },
    {
     "name": "stderr",
     "output_type": "stream",
     "text": [
      "Stopping after 20 empty pages\n"
     ]
    },
    {
     "name": "stdout",
     "output_type": "stream",
     "text": [
      "Collected 120 tweets at 2020-10-28.\n",
      "Running twitter query: \"(#covid) min_faves:50 lang:en until:2020-10-30 since:2020-10-29\"\n"
     ]
    },
    {
     "name": "stderr",
     "output_type": "stream",
     "text": [
      "Stopping after 20 empty pages\n"
     ]
    },
    {
     "name": "stdout",
     "output_type": "stream",
     "text": [
      "Collected 61 tweets at 2020-10-29.\n",
      "Running twitter query: \"(#covid) min_faves:50 lang:en until:2020-10-31 since:2020-10-30\"\n"
     ]
    },
    {
     "name": "stderr",
     "output_type": "stream",
     "text": [
      "Stopping after 20 empty pages\n"
     ]
    },
    {
     "name": "stdout",
     "output_type": "stream",
     "text": [
      "Collected 68 tweets at 2020-10-30.\n",
      "Running twitter query: \"(#covid) min_faves:50 lang:en until:2020-11-01 since:2020-10-31\"\n"
     ]
    },
    {
     "name": "stderr",
     "output_type": "stream",
     "text": [
      "Stopping after 20 empty pages\n"
     ]
    },
    {
     "name": "stdout",
     "output_type": "stream",
     "text": [
      "Collected 94 tweets at 2020-10-31.\n",
      "Saving 2562 tweets at 2020-10.\n",
      "Running twitter query: \"(#covid) min_faves:50 lang:en until:2020-11-02 since:2020-11-01\"\n"
     ]
    },
    {
     "name": "stderr",
     "output_type": "stream",
     "text": [
      "Stopping after 20 empty pages\n"
     ]
    },
    {
     "name": "stdout",
     "output_type": "stream",
     "text": [
      "Collected 64 tweets at 2020-11-01.\n",
      "Running twitter query: \"(#covid) min_faves:50 lang:en until:2020-11-03 since:2020-11-02\"\n"
     ]
    },
    {
     "name": "stderr",
     "output_type": "stream",
     "text": [
      "Stopping after 20 empty pages\n"
     ]
    },
    {
     "name": "stdout",
     "output_type": "stream",
     "text": [
      "Collected 75 tweets at 2020-11-02.\n",
      "Running twitter query: \"(#covid) min_faves:50 lang:en until:2020-11-04 since:2020-11-03\"\n"
     ]
    },
    {
     "name": "stderr",
     "output_type": "stream",
     "text": [
      "Stopping after 20 empty pages\n"
     ]
    },
    {
     "name": "stdout",
     "output_type": "stream",
     "text": [
      "Collected 52 tweets at 2020-11-03.\n",
      "Running twitter query: \"(#covid) min_faves:50 lang:en until:2020-11-05 since:2020-11-04\"\n"
     ]
    },
    {
     "name": "stderr",
     "output_type": "stream",
     "text": [
      "Stopping after 20 empty pages\n"
     ]
    },
    {
     "name": "stdout",
     "output_type": "stream",
     "text": [
      "Collected 50 tweets at 2020-11-04.\n",
      "Running twitter query: \"(#covid) min_faves:50 lang:en until:2020-11-06 since:2020-11-05\"\n"
     ]
    },
    {
     "name": "stderr",
     "output_type": "stream",
     "text": [
      "Stopping after 20 empty pages\n"
     ]
    },
    {
     "name": "stdout",
     "output_type": "stream",
     "text": [
      "Collected 58 tweets at 2020-11-05.\n",
      "Running twitter query: \"(#covid) min_faves:50 lang:en until:2020-11-07 since:2020-11-06\"\n"
     ]
    },
    {
     "name": "stderr",
     "output_type": "stream",
     "text": [
      "Stopping after 20 empty pages\n"
     ]
    },
    {
     "name": "stdout",
     "output_type": "stream",
     "text": [
      "Collected 57 tweets at 2020-11-06.\n",
      "Running twitter query: \"(#covid) min_faves:50 lang:en until:2020-11-08 since:2020-11-07\"\n"
     ]
    },
    {
     "name": "stderr",
     "output_type": "stream",
     "text": [
      "Stopping after 20 empty pages\n"
     ]
    },
    {
     "name": "stdout",
     "output_type": "stream",
     "text": [
      "Collected 58 tweets at 2020-11-07.\n",
      "Running twitter query: \"(#covid) min_faves:50 lang:en until:2020-11-09 since:2020-11-08\"\n"
     ]
    },
    {
     "name": "stderr",
     "output_type": "stream",
     "text": [
      "Stopping after 20 empty pages\n"
     ]
    },
    {
     "name": "stdout",
     "output_type": "stream",
     "text": [
      "Collected 64 tweets at 2020-11-08.\n",
      "Running twitter query: \"(#covid) min_faves:50 lang:en until:2020-11-10 since:2020-11-09\"\n"
     ]
    },
    {
     "name": "stderr",
     "output_type": "stream",
     "text": [
      "Stopping after 20 empty pages\n"
     ]
    },
    {
     "name": "stdout",
     "output_type": "stream",
     "text": [
      "Collected 81 tweets at 2020-11-09.\n",
      "Running twitter query: \"(#covid) min_faves:50 lang:en until:2020-11-11 since:2020-11-10\"\n"
     ]
    },
    {
     "name": "stderr",
     "output_type": "stream",
     "text": [
      "Stopping after 20 empty pages\n"
     ]
    },
    {
     "name": "stdout",
     "output_type": "stream",
     "text": [
      "Collected 75 tweets at 2020-11-10.\n",
      "Running twitter query: \"(#covid) min_faves:50 lang:en until:2020-11-12 since:2020-11-11\"\n"
     ]
    },
    {
     "name": "stderr",
     "output_type": "stream",
     "text": [
      "Stopping after 20 empty pages\n"
     ]
    },
    {
     "name": "stdout",
     "output_type": "stream",
     "text": [
      "Collected 58 tweets at 2020-11-11.\n",
      "Running twitter query: \"(#covid) min_faves:50 lang:en until:2020-11-13 since:2020-11-12\"\n"
     ]
    },
    {
     "name": "stderr",
     "output_type": "stream",
     "text": [
      "Stopping after 20 empty pages\n"
     ]
    },
    {
     "name": "stdout",
     "output_type": "stream",
     "text": [
      "Collected 109 tweets at 2020-11-12.\n",
      "Running twitter query: \"(#covid) min_faves:50 lang:en until:2020-11-14 since:2020-11-13\"\n"
     ]
    },
    {
     "name": "stderr",
     "output_type": "stream",
     "text": [
      "Stopping after 20 empty pages\n"
     ]
    },
    {
     "name": "stdout",
     "output_type": "stream",
     "text": [
      "Collected 81 tweets at 2020-11-13.\n",
      "Running twitter query: \"(#covid) min_faves:50 lang:en until:2020-11-15 since:2020-11-14\"\n"
     ]
    },
    {
     "name": "stderr",
     "output_type": "stream",
     "text": [
      "Stopping after 20 empty pages\n"
     ]
    },
    {
     "name": "stdout",
     "output_type": "stream",
     "text": [
      "Collected 76 tweets at 2020-11-14.\n",
      "Running twitter query: \"(#covid) min_faves:50 lang:en until:2020-11-16 since:2020-11-15\"\n"
     ]
    },
    {
     "name": "stderr",
     "output_type": "stream",
     "text": [
      "Stopping after 20 empty pages\n"
     ]
    },
    {
     "name": "stdout",
     "output_type": "stream",
     "text": [
      "Collected 70 tweets at 2020-11-15.\n",
      "Running twitter query: \"(#covid) min_faves:50 lang:en until:2020-11-17 since:2020-11-16\"\n"
     ]
    },
    {
     "name": "stderr",
     "output_type": "stream",
     "text": [
      "Stopping after 20 empty pages\n"
     ]
    },
    {
     "name": "stdout",
     "output_type": "stream",
     "text": [
      "Collected 82 tweets at 2020-11-16.\n",
      "Running twitter query: \"(#covid) min_faves:50 lang:en until:2020-11-18 since:2020-11-17\"\n"
     ]
    },
    {
     "name": "stderr",
     "output_type": "stream",
     "text": [
      "Stopping after 20 empty pages\n"
     ]
    },
    {
     "name": "stdout",
     "output_type": "stream",
     "text": [
      "Collected 95 tweets at 2020-11-17.\n",
      "Running twitter query: \"(#covid) min_faves:50 lang:en until:2020-11-19 since:2020-11-18\"\n"
     ]
    },
    {
     "name": "stderr",
     "output_type": "stream",
     "text": [
      "Stopping after 20 empty pages\n"
     ]
    },
    {
     "name": "stdout",
     "output_type": "stream",
     "text": [
      "Collected 58 tweets at 2020-11-18.\n",
      "Running twitter query: \"(#covid) min_faves:50 lang:en until:2020-11-20 since:2020-11-19\"\n"
     ]
    },
    {
     "name": "stderr",
     "output_type": "stream",
     "text": [
      "Stopping after 20 empty pages\n"
     ]
    },
    {
     "name": "stdout",
     "output_type": "stream",
     "text": [
      "Collected 87 tweets at 2020-11-19.\n",
      "Running twitter query: \"(#covid) min_faves:50 lang:en until:2020-11-21 since:2020-11-20\"\n"
     ]
    },
    {
     "name": "stderr",
     "output_type": "stream",
     "text": [
      "Stopping after 20 empty pages\n"
     ]
    },
    {
     "name": "stdout",
     "output_type": "stream",
     "text": [
      "Collected 101 tweets at 2020-11-20.\n",
      "Running twitter query: \"(#covid) min_faves:50 lang:en until:2020-11-22 since:2020-11-21\"\n"
     ]
    },
    {
     "name": "stderr",
     "output_type": "stream",
     "text": [
      "Stopping after 20 empty pages\n"
     ]
    },
    {
     "name": "stdout",
     "output_type": "stream",
     "text": [
      "Collected 80 tweets at 2020-11-21.\n",
      "Running twitter query: \"(#covid) min_faves:50 lang:en until:2020-11-23 since:2020-11-22\"\n"
     ]
    },
    {
     "name": "stderr",
     "output_type": "stream",
     "text": [
      "Stopping after 20 empty pages\n"
     ]
    },
    {
     "name": "stdout",
     "output_type": "stream",
     "text": [
      "Collected 140 tweets at 2020-11-22.\n",
      "Running twitter query: \"(#covid) min_faves:50 lang:en until:2020-11-24 since:2020-11-23\"\n"
     ]
    },
    {
     "name": "stderr",
     "output_type": "stream",
     "text": [
      "Stopping after 20 empty pages\n"
     ]
    },
    {
     "name": "stdout",
     "output_type": "stream",
     "text": [
      "Collected 69 tweets at 2020-11-23.\n",
      "Running twitter query: \"(#covid) min_faves:50 lang:en until:2020-11-25 since:2020-11-24\"\n"
     ]
    },
    {
     "name": "stderr",
     "output_type": "stream",
     "text": [
      "Stopping after 20 empty pages\n"
     ]
    },
    {
     "name": "stdout",
     "output_type": "stream",
     "text": [
      "Collected 86 tweets at 2020-11-24.\n",
      "Running twitter query: \"(#covid) min_faves:50 lang:en until:2020-11-26 since:2020-11-25\"\n"
     ]
    },
    {
     "name": "stderr",
     "output_type": "stream",
     "text": [
      "Stopping after 20 empty pages\n"
     ]
    },
    {
     "name": "stdout",
     "output_type": "stream",
     "text": [
      "Collected 113 tweets at 2020-11-25.\n",
      "Running twitter query: \"(#covid) min_faves:50 lang:en until:2020-11-27 since:2020-11-26\"\n"
     ]
    },
    {
     "name": "stderr",
     "output_type": "stream",
     "text": [
      "Stopping after 20 empty pages\n"
     ]
    },
    {
     "name": "stdout",
     "output_type": "stream",
     "text": [
      "Collected 115 tweets at 2020-11-26.\n",
      "Running twitter query: \"(#covid) min_faves:50 lang:en until:2020-11-28 since:2020-11-27\"\n"
     ]
    },
    {
     "name": "stderr",
     "output_type": "stream",
     "text": [
      "Stopping after 20 empty pages\n"
     ]
    },
    {
     "name": "stdout",
     "output_type": "stream",
     "text": [
      "Collected 64 tweets at 2020-11-27.\n",
      "Running twitter query: \"(#covid) min_faves:50 lang:en until:2020-11-29 since:2020-11-28\"\n"
     ]
    },
    {
     "name": "stderr",
     "output_type": "stream",
     "text": [
      "Stopping after 20 empty pages\n"
     ]
    },
    {
     "name": "stdout",
     "output_type": "stream",
     "text": [
      "Collected 64 tweets at 2020-11-28.\n",
      "Running twitter query: \"(#covid) min_faves:50 lang:en until:2020-11-30 since:2020-11-29\"\n"
     ]
    },
    {
     "name": "stderr",
     "output_type": "stream",
     "text": [
      "Stopping after 20 empty pages\n"
     ]
    },
    {
     "name": "stdout",
     "output_type": "stream",
     "text": [
      "Collected 65 tweets at 2020-11-29.\n",
      "Running twitter query: \"(#covid) min_faves:50 lang:en until:2020-12-01 since:2020-11-30\"\n"
     ]
    },
    {
     "name": "stderr",
     "output_type": "stream",
     "text": [
      "Stopping after 20 empty pages\n"
     ]
    },
    {
     "name": "stdout",
     "output_type": "stream",
     "text": [
      "Collected 74 tweets at 2020-11-30.\n",
      "Saving 2351 tweets at 2020-11.\n",
      "Running twitter query: \"(#covid) min_faves:50 lang:en until:2020-12-02 since:2020-12-01\"\n"
     ]
    },
    {
     "name": "stderr",
     "output_type": "stream",
     "text": [
      "Stopping after 20 empty pages\n"
     ]
    },
    {
     "name": "stdout",
     "output_type": "stream",
     "text": [
      "Collected 77 tweets at 2020-12-01.\n",
      "Running twitter query: \"(#covid) min_faves:50 lang:en until:2020-12-03 since:2020-12-02\"\n"
     ]
    },
    {
     "name": "stderr",
     "output_type": "stream",
     "text": [
      "Stopping after 20 empty pages\n"
     ]
    },
    {
     "name": "stdout",
     "output_type": "stream",
     "text": [
      "Collected 67 tweets at 2020-12-02.\n",
      "Running twitter query: \"(#covid) min_faves:50 lang:en until:2020-12-04 since:2020-12-03\"\n"
     ]
    },
    {
     "name": "stderr",
     "output_type": "stream",
     "text": [
      "Stopping after 20 empty pages\n"
     ]
    },
    {
     "name": "stdout",
     "output_type": "stream",
     "text": [
      "Collected 54 tweets at 2020-12-03.\n",
      "Running twitter query: \"(#covid) min_faves:50 lang:en until:2020-12-05 since:2020-12-04\"\n"
     ]
    },
    {
     "name": "stderr",
     "output_type": "stream",
     "text": [
      "Stopping after 20 empty pages\n"
     ]
    },
    {
     "name": "stdout",
     "output_type": "stream",
     "text": [
      "Collected 67 tweets at 2020-12-04.\n",
      "Running twitter query: \"(#covid) min_faves:50 lang:en until:2020-12-06 since:2020-12-05\"\n"
     ]
    },
    {
     "name": "stderr",
     "output_type": "stream",
     "text": [
      "Stopping after 20 empty pages\n"
     ]
    },
    {
     "name": "stdout",
     "output_type": "stream",
     "text": [
      "Collected 52 tweets at 2020-12-05.\n",
      "Running twitter query: \"(#covid) min_faves:50 lang:en until:2020-12-07 since:2020-12-06\"\n"
     ]
    },
    {
     "name": "stderr",
     "output_type": "stream",
     "text": [
      "Stopping after 20 empty pages\n"
     ]
    },
    {
     "name": "stdout",
     "output_type": "stream",
     "text": [
      "Collected 81 tweets at 2020-12-06.\n",
      "Running twitter query: \"(#covid) min_faves:50 lang:en until:2020-12-08 since:2020-12-07\"\n"
     ]
    },
    {
     "name": "stderr",
     "output_type": "stream",
     "text": [
      "Stopping after 20 empty pages\n"
     ]
    },
    {
     "name": "stdout",
     "output_type": "stream",
     "text": [
      "Collected 82 tweets at 2020-12-07.\n",
      "Running twitter query: \"(#covid) min_faves:50 lang:en until:2020-12-09 since:2020-12-08\"\n"
     ]
    },
    {
     "name": "stderr",
     "output_type": "stream",
     "text": [
      "Stopping after 20 empty pages\n"
     ]
    },
    {
     "name": "stdout",
     "output_type": "stream",
     "text": [
      "Collected 91 tweets at 2020-12-08.\n",
      "Running twitter query: \"(#covid) min_faves:50 lang:en until:2020-12-10 since:2020-12-09\"\n"
     ]
    },
    {
     "name": "stderr",
     "output_type": "stream",
     "text": [
      "Stopping after 20 empty pages\n"
     ]
    },
    {
     "name": "stdout",
     "output_type": "stream",
     "text": [
      "Collected 87 tweets at 2020-12-09.\n",
      "Running twitter query: \"(#covid) min_faves:50 lang:en until:2020-12-11 since:2020-12-10\"\n"
     ]
    },
    {
     "name": "stderr",
     "output_type": "stream",
     "text": [
      "Stopping after 20 empty pages\n"
     ]
    },
    {
     "name": "stdout",
     "output_type": "stream",
     "text": [
      "Collected 81 tweets at 2020-12-10.\n",
      "Running twitter query: \"(#covid) min_faves:50 lang:en until:2020-12-12 since:2020-12-11\"\n"
     ]
    },
    {
     "name": "stderr",
     "output_type": "stream",
     "text": [
      "Stopping after 20 empty pages\n"
     ]
    },
    {
     "name": "stdout",
     "output_type": "stream",
     "text": [
      "Collected 72 tweets at 2020-12-11.\n",
      "Running twitter query: \"(#covid) min_faves:50 lang:en until:2020-12-13 since:2020-12-12\"\n"
     ]
    },
    {
     "name": "stderr",
     "output_type": "stream",
     "text": [
      "Stopping after 20 empty pages\n"
     ]
    },
    {
     "name": "stdout",
     "output_type": "stream",
     "text": [
      "Collected 49 tweets at 2020-12-12.\n",
      "Running twitter query: \"(#covid) min_faves:50 lang:en until:2020-12-14 since:2020-12-13\"\n"
     ]
    },
    {
     "name": "stderr",
     "output_type": "stream",
     "text": [
      "Stopping after 20 empty pages\n"
     ]
    },
    {
     "name": "stdout",
     "output_type": "stream",
     "text": [
      "Collected 84 tweets at 2020-12-13.\n",
      "Running twitter query: \"(#covid) min_faves:50 lang:en until:2020-12-15 since:2020-12-14\"\n"
     ]
    },
    {
     "name": "stderr",
     "output_type": "stream",
     "text": [
      "Stopping after 20 empty pages\n"
     ]
    },
    {
     "name": "stdout",
     "output_type": "stream",
     "text": [
      "Collected 77 tweets at 2020-12-14.\n",
      "Running twitter query: \"(#covid) min_faves:50 lang:en until:2020-12-16 since:2020-12-15\"\n"
     ]
    },
    {
     "name": "stderr",
     "output_type": "stream",
     "text": [
      "Stopping after 20 empty pages\n"
     ]
    },
    {
     "name": "stdout",
     "output_type": "stream",
     "text": [
      "Collected 75 tweets at 2020-12-15.\n",
      "Running twitter query: \"(#covid) min_faves:50 lang:en until:2020-12-17 since:2020-12-16\"\n"
     ]
    },
    {
     "name": "stderr",
     "output_type": "stream",
     "text": [
      "Stopping after 20 empty pages\n"
     ]
    },
    {
     "name": "stdout",
     "output_type": "stream",
     "text": [
      "Collected 76 tweets at 2020-12-16.\n",
      "Running twitter query: \"(#covid) min_faves:50 lang:en until:2020-12-18 since:2020-12-17\"\n"
     ]
    },
    {
     "name": "stderr",
     "output_type": "stream",
     "text": [
      "Stopping after 20 empty pages\n"
     ]
    },
    {
     "name": "stdout",
     "output_type": "stream",
     "text": [
      "Collected 93 tweets at 2020-12-17.\n",
      "Running twitter query: \"(#covid) min_faves:50 lang:en until:2020-12-19 since:2020-12-18\"\n"
     ]
    },
    {
     "name": "stderr",
     "output_type": "stream",
     "text": [
      "Stopping after 20 empty pages\n"
     ]
    },
    {
     "name": "stdout",
     "output_type": "stream",
     "text": [
      "Collected 80 tweets at 2020-12-18.\n",
      "Running twitter query: \"(#covid) min_faves:50 lang:en until:2020-12-20 since:2020-12-19\"\n"
     ]
    },
    {
     "name": "stderr",
     "output_type": "stream",
     "text": [
      "Stopping after 20 empty pages\n"
     ]
    },
    {
     "name": "stdout",
     "output_type": "stream",
     "text": [
      "Collected 99 tweets at 2020-12-19.\n",
      "Running twitter query: \"(#covid) min_faves:50 lang:en until:2020-12-21 since:2020-12-20\"\n"
     ]
    },
    {
     "name": "stderr",
     "output_type": "stream",
     "text": [
      "Stopping after 20 empty pages\n"
     ]
    },
    {
     "name": "stdout",
     "output_type": "stream",
     "text": [
      "Collected 103 tweets at 2020-12-20.\n",
      "Running twitter query: \"(#covid) min_faves:50 lang:en until:2020-12-22 since:2020-12-21\"\n"
     ]
    },
    {
     "name": "stderr",
     "output_type": "stream",
     "text": [
      "Stopping after 20 empty pages\n"
     ]
    },
    {
     "name": "stdout",
     "output_type": "stream",
     "text": [
      "Collected 99 tweets at 2020-12-21.\n",
      "Running twitter query: \"(#covid) min_faves:50 lang:en until:2020-12-23 since:2020-12-22\"\n"
     ]
    },
    {
     "name": "stderr",
     "output_type": "stream",
     "text": [
      "Stopping after 20 empty pages\n"
     ]
    },
    {
     "name": "stdout",
     "output_type": "stream",
     "text": [
      "Collected 86 tweets at 2020-12-22.\n",
      "Running twitter query: \"(#covid) min_faves:50 lang:en until:2020-12-24 since:2020-12-23\"\n"
     ]
    },
    {
     "name": "stderr",
     "output_type": "stream",
     "text": [
      "Stopping after 20 empty pages\n"
     ]
    },
    {
     "name": "stdout",
     "output_type": "stream",
     "text": [
      "Collected 77 tweets at 2020-12-23.\n",
      "Running twitter query: \"(#covid) min_faves:50 lang:en until:2020-12-25 since:2020-12-24\"\n"
     ]
    },
    {
     "name": "stderr",
     "output_type": "stream",
     "text": [
      "Stopping after 20 empty pages\n"
     ]
    },
    {
     "name": "stdout",
     "output_type": "stream",
     "text": [
      "Collected 64 tweets at 2020-12-24.\n",
      "Running twitter query: \"(#covid) min_faves:50 lang:en until:2020-12-26 since:2020-12-25\"\n"
     ]
    },
    {
     "name": "stderr",
     "output_type": "stream",
     "text": [
      "Stopping after 20 empty pages\n"
     ]
    },
    {
     "name": "stdout",
     "output_type": "stream",
     "text": [
      "Collected 49 tweets at 2020-12-25.\n",
      "Running twitter query: \"(#covid) min_faves:50 lang:en until:2020-12-27 since:2020-12-26\"\n"
     ]
    },
    {
     "name": "stderr",
     "output_type": "stream",
     "text": [
      "Stopping after 20 empty pages\n"
     ]
    },
    {
     "name": "stdout",
     "output_type": "stream",
     "text": [
      "Collected 74 tweets at 2020-12-26.\n",
      "Running twitter query: \"(#covid) min_faves:50 lang:en until:2020-12-28 since:2020-12-27\"\n"
     ]
    },
    {
     "name": "stderr",
     "output_type": "stream",
     "text": [
      "Stopping after 20 empty pages\n"
     ]
    },
    {
     "name": "stdout",
     "output_type": "stream",
     "text": [
      "Collected 68 tweets at 2020-12-27.\n",
      "Running twitter query: \"(#covid) min_faves:50 lang:en until:2020-12-29 since:2020-12-28\"\n"
     ]
    },
    {
     "name": "stderr",
     "output_type": "stream",
     "text": [
      "Stopping after 20 empty pages\n"
     ]
    },
    {
     "name": "stdout",
     "output_type": "stream",
     "text": [
      "Collected 75 tweets at 2020-12-28.\n",
      "Running twitter query: \"(#covid) min_faves:50 lang:en until:2020-12-30 since:2020-12-29\"\n"
     ]
    },
    {
     "name": "stderr",
     "output_type": "stream",
     "text": [
      "Stopping after 20 empty pages\n"
     ]
    },
    {
     "name": "stdout",
     "output_type": "stream",
     "text": [
      "Collected 95 tweets at 2020-12-29.\n",
      "Running twitter query: \"(#covid) min_faves:50 lang:en until:2020-12-31 since:2020-12-30\"\n"
     ]
    },
    {
     "name": "stderr",
     "output_type": "stream",
     "text": [
      "Stopping after 20 empty pages\n"
     ]
    },
    {
     "name": "stdout",
     "output_type": "stream",
     "text": [
      "Collected 105 tweets at 2020-12-30.\n",
      "Running twitter query: \"(#covid) min_faves:50 lang:en until:2021-01-01 since:2020-12-31\"\n"
     ]
    },
    {
     "name": "stderr",
     "output_type": "stream",
     "text": [
      "Stopping after 20 empty pages\n"
     ]
    },
    {
     "name": "stdout",
     "output_type": "stream",
     "text": [
      "Collected 95 tweets at 2020-12-31.\n",
      "Saving 2465 tweets at 2020-12.\n",
      "Running twitter query: \"(#covid) min_faves:50 lang:en until:2021-01-02 since:2021-01-01\"\n"
     ]
    },
    {
     "name": "stderr",
     "output_type": "stream",
     "text": [
      "Stopping after 20 empty pages\n"
     ]
    },
    {
     "name": "stdout",
     "output_type": "stream",
     "text": [
      "Collected 84 tweets at 2021-01-01.\n",
      "Running twitter query: \"(#covid) min_faves:50 lang:en until:2021-01-03 since:2021-01-02\"\n"
     ]
    },
    {
     "name": "stderr",
     "output_type": "stream",
     "text": [
      "Stopping after 20 empty pages\n"
     ]
    },
    {
     "name": "stdout",
     "output_type": "stream",
     "text": [
      "Collected 116 tweets at 2021-01-02.\n",
      "Running twitter query: \"(#covid) min_faves:50 lang:en until:2021-01-04 since:2021-01-03\"\n"
     ]
    },
    {
     "name": "stderr",
     "output_type": "stream",
     "text": [
      "Stopping after 20 empty pages\n"
     ]
    },
    {
     "name": "stdout",
     "output_type": "stream",
     "text": [
      "Collected 94 tweets at 2021-01-03.\n",
      "Running twitter query: \"(#covid) min_faves:50 lang:en until:2021-01-05 since:2021-01-04\"\n"
     ]
    },
    {
     "name": "stderr",
     "output_type": "stream",
     "text": [
      "Stopping after 20 empty pages\n"
     ]
    },
    {
     "name": "stdout",
     "output_type": "stream",
     "text": [
      "Collected 116 tweets at 2021-01-04.\n",
      "Running twitter query: \"(#covid) min_faves:50 lang:en until:2021-01-06 since:2021-01-05\"\n"
     ]
    },
    {
     "name": "stderr",
     "output_type": "stream",
     "text": [
      "Stopping after 20 empty pages\n"
     ]
    },
    {
     "name": "stdout",
     "output_type": "stream",
     "text": [
      "Collected 69 tweets at 2021-01-05.\n",
      "Running twitter query: \"(#covid) min_faves:50 lang:en until:2021-01-07 since:2021-01-06\"\n"
     ]
    },
    {
     "name": "stderr",
     "output_type": "stream",
     "text": [
      "Stopping after 20 empty pages\n"
     ]
    },
    {
     "name": "stdout",
     "output_type": "stream",
     "text": [
      "Collected 60 tweets at 2021-01-06.\n",
      "Running twitter query: \"(#covid) min_faves:50 lang:en until:2021-01-08 since:2021-01-07\"\n"
     ]
    },
    {
     "name": "stderr",
     "output_type": "stream",
     "text": [
      "Stopping after 20 empty pages\n"
     ]
    },
    {
     "name": "stdout",
     "output_type": "stream",
     "text": [
      "Collected 63 tweets at 2021-01-07.\n",
      "Running twitter query: \"(#covid) min_faves:50 lang:en until:2021-01-09 since:2021-01-08\"\n"
     ]
    },
    {
     "name": "stderr",
     "output_type": "stream",
     "text": [
      "Stopping after 20 empty pages\n"
     ]
    },
    {
     "name": "stdout",
     "output_type": "stream",
     "text": [
      "Collected 79 tweets at 2021-01-08.\n",
      "Running twitter query: \"(#covid) min_faves:50 lang:en until:2021-01-10 since:2021-01-09\"\n"
     ]
    },
    {
     "name": "stderr",
     "output_type": "stream",
     "text": [
      "Stopping after 20 empty pages\n"
     ]
    },
    {
     "name": "stdout",
     "output_type": "stream",
     "text": [
      "Collected 100 tweets at 2021-01-09.\n",
      "Running twitter query: \"(#covid) min_faves:50 lang:en until:2021-01-11 since:2021-01-10\"\n"
     ]
    },
    {
     "name": "stderr",
     "output_type": "stream",
     "text": [
      "Stopping after 20 empty pages\n"
     ]
    },
    {
     "name": "stdout",
     "output_type": "stream",
     "text": [
      "Collected 65 tweets at 2021-01-10.\n",
      "Running twitter query: \"(#covid) min_faves:50 lang:en until:2021-01-12 since:2021-01-11\"\n"
     ]
    },
    {
     "name": "stderr",
     "output_type": "stream",
     "text": [
      "Stopping after 20 empty pages\n"
     ]
    },
    {
     "name": "stdout",
     "output_type": "stream",
     "text": [
      "Collected 74 tweets at 2021-01-11.\n",
      "Running twitter query: \"(#covid) min_faves:50 lang:en until:2021-01-13 since:2021-01-12\"\n"
     ]
    },
    {
     "name": "stderr",
     "output_type": "stream",
     "text": [
      "Stopping after 20 empty pages\n"
     ]
    },
    {
     "name": "stdout",
     "output_type": "stream",
     "text": [
      "Collected 70 tweets at 2021-01-12.\n",
      "Running twitter query: \"(#covid) min_faves:50 lang:en until:2021-01-14 since:2021-01-13\"\n"
     ]
    },
    {
     "name": "stderr",
     "output_type": "stream",
     "text": [
      "Stopping after 20 empty pages\n"
     ]
    },
    {
     "name": "stdout",
     "output_type": "stream",
     "text": [
      "Collected 90 tweets at 2021-01-13.\n",
      "Running twitter query: \"(#covid) min_faves:50 lang:en until:2021-01-15 since:2021-01-14\"\n"
     ]
    },
    {
     "name": "stderr",
     "output_type": "stream",
     "text": [
      "Stopping after 20 empty pages\n"
     ]
    },
    {
     "name": "stdout",
     "output_type": "stream",
     "text": [
      "Collected 85 tweets at 2021-01-14.\n",
      "Running twitter query: \"(#covid) min_faves:50 lang:en until:2021-01-16 since:2021-01-15\"\n"
     ]
    },
    {
     "name": "stderr",
     "output_type": "stream",
     "text": [
      "Stopping after 20 empty pages\n"
     ]
    },
    {
     "name": "stdout",
     "output_type": "stream",
     "text": [
      "Collected 80 tweets at 2021-01-15.\n",
      "Running twitter query: \"(#covid) min_faves:50 lang:en until:2021-01-17 since:2021-01-16\"\n"
     ]
    },
    {
     "name": "stderr",
     "output_type": "stream",
     "text": [
      "Stopping after 20 empty pages\n"
     ]
    },
    {
     "name": "stdout",
     "output_type": "stream",
     "text": [
      "Collected 84 tweets at 2021-01-16.\n",
      "Running twitter query: \"(#covid) min_faves:50 lang:en until:2021-01-18 since:2021-01-17\"\n"
     ]
    },
    {
     "name": "stderr",
     "output_type": "stream",
     "text": [
      "Stopping after 20 empty pages\n"
     ]
    },
    {
     "name": "stdout",
     "output_type": "stream",
     "text": [
      "Collected 64 tweets at 2021-01-17.\n",
      "Running twitter query: \"(#covid) min_faves:50 lang:en until:2021-01-19 since:2021-01-18\"\n"
     ]
    },
    {
     "name": "stderr",
     "output_type": "stream",
     "text": [
      "Stopping after 20 empty pages\n"
     ]
    },
    {
     "name": "stdout",
     "output_type": "stream",
     "text": [
      "Collected 55 tweets at 2021-01-18.\n",
      "Running twitter query: \"(#covid) min_faves:50 lang:en until:2021-01-20 since:2021-01-19\"\n"
     ]
    },
    {
     "name": "stderr",
     "output_type": "stream",
     "text": [
      "Stopping after 20 empty pages\n"
     ]
    },
    {
     "name": "stdout",
     "output_type": "stream",
     "text": [
      "Collected 71 tweets at 2021-01-19.\n",
      "Running twitter query: \"(#covid) min_faves:50 lang:en until:2021-01-21 since:2021-01-20\"\n"
     ]
    },
    {
     "name": "stderr",
     "output_type": "stream",
     "text": [
      "Stopping after 20 empty pages\n"
     ]
    },
    {
     "name": "stdout",
     "output_type": "stream",
     "text": [
      "Collected 57 tweets at 2021-01-20.\n",
      "Running twitter query: \"(#covid) min_faves:50 lang:en until:2021-01-22 since:2021-01-21\"\n"
     ]
    },
    {
     "name": "stderr",
     "output_type": "stream",
     "text": [
      "Stopping after 20 empty pages\n"
     ]
    },
    {
     "name": "stdout",
     "output_type": "stream",
     "text": [
      "Collected 74 tweets at 2021-01-21.\n",
      "Running twitter query: \"(#covid) min_faves:50 lang:en until:2021-01-23 since:2021-01-22\"\n"
     ]
    },
    {
     "name": "stderr",
     "output_type": "stream",
     "text": [
      "Stopping after 20 empty pages\n"
     ]
    },
    {
     "name": "stdout",
     "output_type": "stream",
     "text": [
      "Collected 68 tweets at 2021-01-22.\n",
      "Running twitter query: \"(#covid) min_faves:50 lang:en until:2021-01-24 since:2021-01-23\"\n"
     ]
    },
    {
     "name": "stderr",
     "output_type": "stream",
     "text": [
      "Stopping after 20 empty pages\n"
     ]
    },
    {
     "name": "stdout",
     "output_type": "stream",
     "text": [
      "Collected 93 tweets at 2021-01-23.\n",
      "Running twitter query: \"(#covid) min_faves:50 lang:en until:2021-01-25 since:2021-01-24\"\n"
     ]
    },
    {
     "name": "stderr",
     "output_type": "stream",
     "text": [
      "Stopping after 20 empty pages\n"
     ]
    },
    {
     "name": "stdout",
     "output_type": "stream",
     "text": [
      "Collected 66 tweets at 2021-01-24.\n",
      "Running twitter query: \"(#covid) min_faves:50 lang:en until:2021-01-26 since:2021-01-25\"\n"
     ]
    },
    {
     "name": "stderr",
     "output_type": "stream",
     "text": [
      "Stopping after 20 empty pages\n"
     ]
    },
    {
     "name": "stdout",
     "output_type": "stream",
     "text": [
      "Collected 81 tweets at 2021-01-25.\n",
      "Running twitter query: \"(#covid) min_faves:50 lang:en until:2021-01-27 since:2021-01-26\"\n"
     ]
    },
    {
     "name": "stderr",
     "output_type": "stream",
     "text": [
      "Stopping after 20 empty pages\n"
     ]
    },
    {
     "name": "stdout",
     "output_type": "stream",
     "text": [
      "Collected 80 tweets at 2021-01-26.\n",
      "Running twitter query: \"(#covid) min_faves:50 lang:en until:2021-01-28 since:2021-01-27\"\n"
     ]
    },
    {
     "name": "stderr",
     "output_type": "stream",
     "text": [
      "Stopping after 20 empty pages\n"
     ]
    },
    {
     "name": "stdout",
     "output_type": "stream",
     "text": [
      "Collected 71 tweets at 2021-01-27.\n",
      "Running twitter query: \"(#covid) min_faves:50 lang:en until:2021-01-29 since:2021-01-28\"\n"
     ]
    },
    {
     "name": "stderr",
     "output_type": "stream",
     "text": [
      "Stopping after 20 empty pages\n"
     ]
    },
    {
     "name": "stdout",
     "output_type": "stream",
     "text": [
      "Collected 83 tweets at 2021-01-28.\n",
      "Running twitter query: \"(#covid) min_faves:50 lang:en until:2021-01-30 since:2021-01-29\"\n"
     ]
    },
    {
     "name": "stderr",
     "output_type": "stream",
     "text": [
      "Stopping after 20 empty pages\n"
     ]
    },
    {
     "name": "stdout",
     "output_type": "stream",
     "text": [
      "Collected 71 tweets at 2021-01-29.\n",
      "Running twitter query: \"(#covid) min_faves:50 lang:en until:2021-01-31 since:2021-01-30\"\n"
     ]
    },
    {
     "name": "stderr",
     "output_type": "stream",
     "text": [
      "Stopping after 20 empty pages\n"
     ]
    },
    {
     "name": "stdout",
     "output_type": "stream",
     "text": [
      "Collected 70 tweets at 2021-01-30.\n",
      "Running twitter query: \"(#covid) min_faves:50 lang:en until:2021-02-01 since:2021-01-31\"\n"
     ]
    },
    {
     "name": "stderr",
     "output_type": "stream",
     "text": [
      "Stopping after 20 empty pages\n"
     ]
    },
    {
     "name": "stdout",
     "output_type": "stream",
     "text": [
      "Collected 82 tweets at 2021-01-31.\n",
      "Saving 2446 tweets at 2021-01.\n",
      "Running twitter query: \"(#covid) min_faves:50 lang:en until:2021-02-02 since:2021-02-01\"\n"
     ]
    },
    {
     "name": "stderr",
     "output_type": "stream",
     "text": [
      "Stopping after 20 empty pages\n"
     ]
    },
    {
     "name": "stdout",
     "output_type": "stream",
     "text": [
      "Collected 62 tweets at 2021-02-01.\n",
      "Running twitter query: \"(#covid) min_faves:50 lang:en until:2021-02-03 since:2021-02-02\"\n"
     ]
    },
    {
     "name": "stderr",
     "output_type": "stream",
     "text": [
      "Stopping after 20 empty pages\n"
     ]
    },
    {
     "name": "stdout",
     "output_type": "stream",
     "text": [
      "Collected 65 tweets at 2021-02-02.\n",
      "Running twitter query: \"(#covid) min_faves:50 lang:en until:2021-02-04 since:2021-02-03\"\n"
     ]
    },
    {
     "name": "stderr",
     "output_type": "stream",
     "text": [
      "Stopping after 20 empty pages\n"
     ]
    },
    {
     "name": "stdout",
     "output_type": "stream",
     "text": [
      "Collected 59 tweets at 2021-02-03.\n",
      "Running twitter query: \"(#covid) min_faves:50 lang:en until:2021-02-05 since:2021-02-04\"\n"
     ]
    },
    {
     "name": "stderr",
     "output_type": "stream",
     "text": [
      "Stopping after 20 empty pages\n"
     ]
    },
    {
     "name": "stdout",
     "output_type": "stream",
     "text": [
      "Collected 65 tweets at 2021-02-04.\n",
      "Running twitter query: \"(#covid) min_faves:50 lang:en until:2021-02-06 since:2021-02-05\"\n"
     ]
    },
    {
     "name": "stderr",
     "output_type": "stream",
     "text": [
      "Stopping after 20 empty pages\n"
     ]
    },
    {
     "name": "stdout",
     "output_type": "stream",
     "text": [
      "Collected 52 tweets at 2021-02-05.\n",
      "Running twitter query: \"(#covid) min_faves:50 lang:en until:2021-02-07 since:2021-02-06\"\n"
     ]
    },
    {
     "name": "stderr",
     "output_type": "stream",
     "text": [
      "Stopping after 20 empty pages\n"
     ]
    },
    {
     "name": "stdout",
     "output_type": "stream",
     "text": [
      "Collected 41 tweets at 2021-02-06.\n",
      "Running twitter query: \"(#covid) min_faves:50 lang:en until:2021-02-08 since:2021-02-07\"\n"
     ]
    },
    {
     "name": "stderr",
     "output_type": "stream",
     "text": [
      "Stopping after 20 empty pages\n"
     ]
    },
    {
     "name": "stdout",
     "output_type": "stream",
     "text": [
      "Collected 45 tweets at 2021-02-07.\n",
      "Running twitter query: \"(#covid) min_faves:50 lang:en until:2021-02-09 since:2021-02-08\"\n"
     ]
    },
    {
     "name": "stderr",
     "output_type": "stream",
     "text": [
      "Stopping after 20 empty pages\n"
     ]
    },
    {
     "name": "stdout",
     "output_type": "stream",
     "text": [
      "Collected 74 tweets at 2021-02-08.\n",
      "Running twitter query: \"(#covid) min_faves:50 lang:en until:2021-02-10 since:2021-02-09\"\n"
     ]
    },
    {
     "name": "stderr",
     "output_type": "stream",
     "text": [
      "Stopping after 20 empty pages\n"
     ]
    },
    {
     "name": "stdout",
     "output_type": "stream",
     "text": [
      "Collected 45 tweets at 2021-02-09.\n",
      "Running twitter query: \"(#covid) min_faves:50 lang:en until:2021-02-11 since:2021-02-10\"\n"
     ]
    },
    {
     "name": "stderr",
     "output_type": "stream",
     "text": [
      "Stopping after 20 empty pages\n"
     ]
    },
    {
     "name": "stdout",
     "output_type": "stream",
     "text": [
      "Collected 61 tweets at 2021-02-10.\n",
      "Running twitter query: \"(#covid) min_faves:50 lang:en until:2021-02-12 since:2021-02-11\"\n"
     ]
    },
    {
     "name": "stderr",
     "output_type": "stream",
     "text": [
      "Stopping after 20 empty pages\n"
     ]
    },
    {
     "name": "stdout",
     "output_type": "stream",
     "text": [
      "Collected 42 tweets at 2021-02-11.\n",
      "Running twitter query: \"(#covid) min_faves:50 lang:en until:2021-02-13 since:2021-02-12\"\n"
     ]
    },
    {
     "name": "stderr",
     "output_type": "stream",
     "text": [
      "Stopping after 20 empty pages\n"
     ]
    },
    {
     "name": "stdout",
     "output_type": "stream",
     "text": [
      "Collected 45 tweets at 2021-02-12.\n",
      "Running twitter query: \"(#covid) min_faves:50 lang:en until:2021-02-14 since:2021-02-13\"\n"
     ]
    },
    {
     "name": "stderr",
     "output_type": "stream",
     "text": [
      "Stopping after 20 empty pages\n"
     ]
    },
    {
     "name": "stdout",
     "output_type": "stream",
     "text": [
      "Collected 54 tweets at 2021-02-13.\n",
      "Running twitter query: \"(#covid) min_faves:50 lang:en until:2021-02-15 since:2021-02-14\"\n"
     ]
    },
    {
     "name": "stderr",
     "output_type": "stream",
     "text": [
      "Stopping after 20 empty pages\n"
     ]
    },
    {
     "name": "stdout",
     "output_type": "stream",
     "text": [
      "Collected 37 tweets at 2021-02-14.\n",
      "Running twitter query: \"(#covid) min_faves:50 lang:en until:2021-02-16 since:2021-02-15\"\n"
     ]
    },
    {
     "name": "stderr",
     "output_type": "stream",
     "text": [
      "Stopping after 20 empty pages\n"
     ]
    },
    {
     "name": "stdout",
     "output_type": "stream",
     "text": [
      "Collected 50 tweets at 2021-02-15.\n",
      "Running twitter query: \"(#covid) min_faves:50 lang:en until:2021-02-17 since:2021-02-16\"\n"
     ]
    },
    {
     "name": "stderr",
     "output_type": "stream",
     "text": [
      "Stopping after 20 empty pages\n"
     ]
    },
    {
     "name": "stdout",
     "output_type": "stream",
     "text": [
      "Collected 52 tweets at 2021-02-16.\n",
      "Running twitter query: \"(#covid) min_faves:50 lang:en until:2021-02-18 since:2021-02-17\"\n"
     ]
    },
    {
     "name": "stderr",
     "output_type": "stream",
     "text": [
      "Stopping after 20 empty pages\n"
     ]
    },
    {
     "name": "stdout",
     "output_type": "stream",
     "text": [
      "Collected 38 tweets at 2021-02-17.\n",
      "Running twitter query: \"(#covid) min_faves:50 lang:en until:2021-02-19 since:2021-02-18\"\n"
     ]
    },
    {
     "name": "stderr",
     "output_type": "stream",
     "text": [
      "Stopping after 20 empty pages\n"
     ]
    },
    {
     "name": "stdout",
     "output_type": "stream",
     "text": [
      "Collected 47 tweets at 2021-02-18.\n",
      "Running twitter query: \"(#covid) min_faves:50 lang:en until:2021-02-20 since:2021-02-19\"\n"
     ]
    },
    {
     "name": "stderr",
     "output_type": "stream",
     "text": [
      "Stopping after 20 empty pages\n"
     ]
    },
    {
     "name": "stdout",
     "output_type": "stream",
     "text": [
      "Collected 55 tweets at 2021-02-19.\n",
      "Running twitter query: \"(#covid) min_faves:50 lang:en until:2021-02-21 since:2021-02-20\"\n"
     ]
    },
    {
     "name": "stderr",
     "output_type": "stream",
     "text": [
      "Stopping after 20 empty pages\n"
     ]
    },
    {
     "name": "stdout",
     "output_type": "stream",
     "text": [
      "Collected 60 tweets at 2021-02-20.\n",
      "Running twitter query: \"(#covid) min_faves:50 lang:en until:2021-02-22 since:2021-02-21\"\n"
     ]
    },
    {
     "name": "stderr",
     "output_type": "stream",
     "text": [
      "Stopping after 20 empty pages\n"
     ]
    },
    {
     "name": "stdout",
     "output_type": "stream",
     "text": [
      "Collected 53 tweets at 2021-02-21.\n",
      "Running twitter query: \"(#covid) min_faves:50 lang:en until:2021-02-23 since:2021-02-22\"\n"
     ]
    },
    {
     "name": "stderr",
     "output_type": "stream",
     "text": [
      "Stopping after 20 empty pages\n"
     ]
    },
    {
     "name": "stdout",
     "output_type": "stream",
     "text": [
      "Collected 67 tweets at 2021-02-22.\n",
      "Running twitter query: \"(#covid) min_faves:50 lang:en until:2021-02-24 since:2021-02-23\"\n"
     ]
    },
    {
     "name": "stderr",
     "output_type": "stream",
     "text": [
      "Stopping after 20 empty pages\n"
     ]
    },
    {
     "name": "stdout",
     "output_type": "stream",
     "text": [
      "Collected 59 tweets at 2021-02-23.\n",
      "Running twitter query: \"(#covid) min_faves:50 lang:en until:2021-02-25 since:2021-02-24\"\n"
     ]
    },
    {
     "name": "stderr",
     "output_type": "stream",
     "text": [
      "Stopping after 20 empty pages\n"
     ]
    },
    {
     "name": "stdout",
     "output_type": "stream",
     "text": [
      "Collected 67 tweets at 2021-02-24.\n",
      "Running twitter query: \"(#covid) min_faves:50 lang:en until:2021-02-26 since:2021-02-25\"\n"
     ]
    },
    {
     "name": "stderr",
     "output_type": "stream",
     "text": [
      "Stopping after 20 empty pages\n"
     ]
    },
    {
     "name": "stdout",
     "output_type": "stream",
     "text": [
      "Collected 69 tweets at 2021-02-25.\n",
      "Running twitter query: \"(#covid) min_faves:50 lang:en until:2021-02-27 since:2021-02-26\"\n"
     ]
    },
    {
     "name": "stderr",
     "output_type": "stream",
     "text": [
      "Unavailable user in card on tweet 1365438285162508289\n",
      "User 3562471 not found in user refs in card on tweet 1365438285162508289\n",
      "Stopping after 20 empty pages\n"
     ]
    },
    {
     "name": "stdout",
     "output_type": "stream",
     "text": [
      "Collected 39 tweets at 2021-02-26.\n",
      "Running twitter query: \"(#covid) min_faves:50 lang:en until:2021-02-28 since:2021-02-27\"\n"
     ]
    },
    {
     "name": "stderr",
     "output_type": "stream",
     "text": [
      "Stopping after 20 empty pages\n"
     ]
    },
    {
     "name": "stdout",
     "output_type": "stream",
     "text": [
      "Collected 71 tweets at 2021-02-27.\n",
      "Running twitter query: \"(#covid) min_faves:50 lang:en until:2021-03-01 since:2021-02-28\"\n"
     ]
    },
    {
     "name": "stderr",
     "output_type": "stream",
     "text": [
      "Stopping after 20 empty pages\n"
     ]
    },
    {
     "name": "stdout",
     "output_type": "stream",
     "text": [
      "Collected 42 tweets at 2021-02-28.\n",
      "Saving 1544 tweets at 2021-02.\n",
      "Running twitter query: \"(#covid) min_faves:50 lang:en until:2021-03-02 since:2021-03-01\"\n"
     ]
    },
    {
     "name": "stderr",
     "output_type": "stream",
     "text": [
      "Stopping after 20 empty pages\n"
     ]
    },
    {
     "name": "stdout",
     "output_type": "stream",
     "text": [
      "Collected 62 tweets at 2021-03-01.\n",
      "Running twitter query: \"(#covid) min_faves:50 lang:en until:2021-03-03 since:2021-03-02\"\n"
     ]
    },
    {
     "name": "stderr",
     "output_type": "stream",
     "text": [
      "Stopping after 20 empty pages\n"
     ]
    },
    {
     "name": "stdout",
     "output_type": "stream",
     "text": [
      "Collected 68 tweets at 2021-03-02.\n",
      "Running twitter query: \"(#covid) min_faves:50 lang:en until:2021-03-04 since:2021-03-03\"\n"
     ]
    },
    {
     "name": "stderr",
     "output_type": "stream",
     "text": [
      "Stopping after 20 empty pages\n"
     ]
    },
    {
     "name": "stdout",
     "output_type": "stream",
     "text": [
      "Collected 75 tweets at 2021-03-03.\n",
      "Running twitter query: \"(#covid) min_faves:50 lang:en until:2021-03-05 since:2021-03-04\"\n"
     ]
    },
    {
     "name": "stderr",
     "output_type": "stream",
     "text": [
      "Stopping after 20 empty pages\n"
     ]
    },
    {
     "name": "stdout",
     "output_type": "stream",
     "text": [
      "Collected 82 tweets at 2021-03-04.\n",
      "Running twitter query: \"(#covid) min_faves:50 lang:en until:2021-03-06 since:2021-03-05\"\n"
     ]
    },
    {
     "name": "stderr",
     "output_type": "stream",
     "text": [
      "Stopping after 20 empty pages\n"
     ]
    },
    {
     "name": "stdout",
     "output_type": "stream",
     "text": [
      "Collected 73 tweets at 2021-03-05.\n",
      "Running twitter query: \"(#covid) min_faves:50 lang:en until:2021-03-07 since:2021-03-06\"\n"
     ]
    },
    {
     "name": "stderr",
     "output_type": "stream",
     "text": [
      "Stopping after 20 empty pages\n"
     ]
    },
    {
     "name": "stdout",
     "output_type": "stream",
     "text": [
      "Collected 63 tweets at 2021-03-06.\n",
      "Running twitter query: \"(#covid) min_faves:50 lang:en until:2021-03-08 since:2021-03-07\"\n"
     ]
    },
    {
     "name": "stderr",
     "output_type": "stream",
     "text": [
      "Stopping after 20 empty pages\n"
     ]
    },
    {
     "name": "stdout",
     "output_type": "stream",
     "text": [
      "Collected 57 tweets at 2021-03-07.\n",
      "Running twitter query: \"(#covid) min_faves:50 lang:en until:2021-03-09 since:2021-03-08\"\n"
     ]
    },
    {
     "name": "stderr",
     "output_type": "stream",
     "text": [
      "Stopping after 20 empty pages\n"
     ]
    },
    {
     "name": "stdout",
     "output_type": "stream",
     "text": [
      "Collected 55 tweets at 2021-03-08.\n",
      "Running twitter query: \"(#covid) min_faves:50 lang:en until:2021-03-10 since:2021-03-09\"\n"
     ]
    },
    {
     "name": "stderr",
     "output_type": "stream",
     "text": [
      "Stopping after 20 empty pages\n"
     ]
    },
    {
     "name": "stdout",
     "output_type": "stream",
     "text": [
      "Collected 57 tweets at 2021-03-09.\n",
      "Running twitter query: \"(#covid) min_faves:50 lang:en until:2021-03-11 since:2021-03-10\"\n"
     ]
    },
    {
     "name": "stderr",
     "output_type": "stream",
     "text": [
      "Stopping after 20 empty pages\n"
     ]
    },
    {
     "name": "stdout",
     "output_type": "stream",
     "text": [
      "Collected 61 tweets at 2021-03-10.\n",
      "Running twitter query: \"(#covid) min_faves:50 lang:en until:2021-03-12 since:2021-03-11\"\n"
     ]
    },
    {
     "name": "stderr",
     "output_type": "stream",
     "text": [
      "Stopping after 20 empty pages\n"
     ]
    },
    {
     "name": "stdout",
     "output_type": "stream",
     "text": [
      "Collected 64 tweets at 2021-03-11.\n",
      "Running twitter query: \"(#covid) min_faves:50 lang:en until:2021-03-13 since:2021-03-12\"\n"
     ]
    },
    {
     "name": "stderr",
     "output_type": "stream",
     "text": [
      "Stopping after 20 empty pages\n"
     ]
    },
    {
     "name": "stdout",
     "output_type": "stream",
     "text": [
      "Collected 52 tweets at 2021-03-12.\n",
      "Running twitter query: \"(#covid) min_faves:50 lang:en until:2021-03-14 since:2021-03-13\"\n"
     ]
    },
    {
     "name": "stderr",
     "output_type": "stream",
     "text": [
      "Stopping after 20 empty pages\n"
     ]
    },
    {
     "name": "stdout",
     "output_type": "stream",
     "text": [
      "Collected 55 tweets at 2021-03-13.\n",
      "Running twitter query: \"(#covid) min_faves:50 lang:en until:2021-03-15 since:2021-03-14\"\n"
     ]
    },
    {
     "name": "stderr",
     "output_type": "stream",
     "text": [
      "Stopping after 20 empty pages\n"
     ]
    },
    {
     "name": "stdout",
     "output_type": "stream",
     "text": [
      "Collected 46 tweets at 2021-03-14.\n",
      "Running twitter query: \"(#covid) min_faves:50 lang:en until:2021-03-16 since:2021-03-15\"\n"
     ]
    },
    {
     "name": "stderr",
     "output_type": "stream",
     "text": [
      "Stopping after 20 empty pages\n"
     ]
    },
    {
     "name": "stdout",
     "output_type": "stream",
     "text": [
      "Collected 56 tweets at 2021-03-15.\n",
      "Running twitter query: \"(#covid) min_faves:50 lang:en until:2021-03-17 since:2021-03-16\"\n"
     ]
    },
    {
     "name": "stderr",
     "output_type": "stream",
     "text": [
      "Stopping after 20 empty pages\n"
     ]
    },
    {
     "name": "stdout",
     "output_type": "stream",
     "text": [
      "Collected 47 tweets at 2021-03-16.\n",
      "Running twitter query: \"(#covid) min_faves:50 lang:en until:2021-03-18 since:2021-03-17\"\n"
     ]
    },
    {
     "name": "stderr",
     "output_type": "stream",
     "text": [
      "Stopping after 20 empty pages\n"
     ]
    },
    {
     "name": "stdout",
     "output_type": "stream",
     "text": [
      "Collected 57 tweets at 2021-03-17.\n",
      "Running twitter query: \"(#covid) min_faves:50 lang:en until:2021-03-19 since:2021-03-18\"\n"
     ]
    },
    {
     "name": "stderr",
     "output_type": "stream",
     "text": [
      "Stopping after 20 empty pages\n"
     ]
    },
    {
     "name": "stdout",
     "output_type": "stream",
     "text": [
      "Collected 50 tweets at 2021-03-18.\n",
      "Running twitter query: \"(#covid) min_faves:50 lang:en until:2021-03-20 since:2021-03-19\"\n"
     ]
    },
    {
     "name": "stderr",
     "output_type": "stream",
     "text": [
      "Stopping after 20 empty pages\n"
     ]
    },
    {
     "name": "stdout",
     "output_type": "stream",
     "text": [
      "Collected 68 tweets at 2021-03-19.\n",
      "Running twitter query: \"(#covid) min_faves:50 lang:en until:2021-03-21 since:2021-03-20\"\n"
     ]
    },
    {
     "name": "stderr",
     "output_type": "stream",
     "text": [
      "Stopping after 20 empty pages\n"
     ]
    },
    {
     "name": "stdout",
     "output_type": "stream",
     "text": [
      "Collected 56 tweets at 2021-03-20.\n",
      "Running twitter query: \"(#covid) min_faves:50 lang:en until:2021-03-22 since:2021-03-21\"\n"
     ]
    },
    {
     "name": "stderr",
     "output_type": "stream",
     "text": [
      "Stopping after 20 empty pages\n"
     ]
    },
    {
     "name": "stdout",
     "output_type": "stream",
     "text": [
      "Collected 54 tweets at 2021-03-21.\n",
      "Running twitter query: \"(#covid) min_faves:50 lang:en until:2021-03-23 since:2021-03-22\"\n"
     ]
    },
    {
     "name": "stderr",
     "output_type": "stream",
     "text": [
      "Stopping after 20 empty pages\n"
     ]
    },
    {
     "name": "stdout",
     "output_type": "stream",
     "text": [
      "Collected 45 tweets at 2021-03-22.\n",
      "Running twitter query: \"(#covid) min_faves:50 lang:en until:2021-03-24 since:2021-03-23\"\n"
     ]
    },
    {
     "name": "stderr",
     "output_type": "stream",
     "text": [
      "Stopping after 20 empty pages\n"
     ]
    },
    {
     "name": "stdout",
     "output_type": "stream",
     "text": [
      "Collected 68 tweets at 2021-03-23.\n",
      "Running twitter query: \"(#covid) min_faves:50 lang:en until:2021-03-25 since:2021-03-24\"\n"
     ]
    },
    {
     "name": "stderr",
     "output_type": "stream",
     "text": [
      "Stopping after 20 empty pages\n"
     ]
    },
    {
     "name": "stdout",
     "output_type": "stream",
     "text": [
      "Collected 49 tweets at 2021-03-24.\n",
      "Running twitter query: \"(#covid) min_faves:50 lang:en until:2021-03-26 since:2021-03-25\"\n"
     ]
    },
    {
     "name": "stderr",
     "output_type": "stream",
     "text": [
      "Stopping after 20 empty pages\n"
     ]
    },
    {
     "name": "stdout",
     "output_type": "stream",
     "text": [
      "Collected 64 tweets at 2021-03-25.\n",
      "Running twitter query: \"(#covid) min_faves:50 lang:en until:2021-03-27 since:2021-03-26\"\n"
     ]
    },
    {
     "name": "stderr",
     "output_type": "stream",
     "text": [
      "Stopping after 20 empty pages\n"
     ]
    },
    {
     "name": "stdout",
     "output_type": "stream",
     "text": [
      "Collected 54 tweets at 2021-03-26.\n",
      "Running twitter query: \"(#covid) min_faves:50 lang:en until:2021-03-28 since:2021-03-27\"\n"
     ]
    },
    {
     "name": "stderr",
     "output_type": "stream",
     "text": [
      "Stopping after 20 empty pages\n"
     ]
    },
    {
     "name": "stdout",
     "output_type": "stream",
     "text": [
      "Collected 56 tweets at 2021-03-27.\n",
      "Running twitter query: \"(#covid) min_faves:50 lang:en until:2021-03-29 since:2021-03-28\"\n"
     ]
    },
    {
     "name": "stderr",
     "output_type": "stream",
     "text": [
      "Stopping after 20 empty pages\n"
     ]
    },
    {
     "name": "stdout",
     "output_type": "stream",
     "text": [
      "Collected 55 tweets at 2021-03-28.\n",
      "Running twitter query: \"(#covid) min_faves:50 lang:en until:2021-03-30 since:2021-03-29\"\n"
     ]
    },
    {
     "name": "stderr",
     "output_type": "stream",
     "text": [
      "Stopping after 20 empty pages\n"
     ]
    },
    {
     "name": "stdout",
     "output_type": "stream",
     "text": [
      "Collected 57 tweets at 2021-03-29.\n",
      "Running twitter query: \"(#covid) min_faves:50 lang:en until:2021-03-31 since:2021-03-30\"\n"
     ]
    },
    {
     "name": "stderr",
     "output_type": "stream",
     "text": [
      "Stopping after 20 empty pages\n"
     ]
    },
    {
     "name": "stdout",
     "output_type": "stream",
     "text": [
      "Collected 60 tweets at 2021-03-30.\n",
      "Running twitter query: \"(#covid) min_faves:50 lang:en until:2021-04-01 since:2021-03-31\"\n"
     ]
    },
    {
     "name": "stderr",
     "output_type": "stream",
     "text": [
      "Stopping after 20 empty pages\n"
     ]
    },
    {
     "name": "stdout",
     "output_type": "stream",
     "text": [
      "Collected 64 tweets at 2021-03-31.\n",
      "Saving 1861 tweets at 2021-03.\n",
      "Running twitter query: \"(#covid) min_faves:50 lang:en until:2021-04-02 since:2021-04-01\"\n"
     ]
    },
    {
     "name": "stderr",
     "output_type": "stream",
     "text": [
      "Stopping after 20 empty pages\n"
     ]
    },
    {
     "name": "stdout",
     "output_type": "stream",
     "text": [
      "Collected 61 tweets at 2021-04-01.\n",
      "Running twitter query: \"(#covid) min_faves:50 lang:en until:2021-04-03 since:2021-04-02\"\n"
     ]
    },
    {
     "name": "stderr",
     "output_type": "stream",
     "text": [
      "Stopping after 20 empty pages\n"
     ]
    },
    {
     "name": "stdout",
     "output_type": "stream",
     "text": [
      "Collected 65 tweets at 2021-04-02.\n",
      "Running twitter query: \"(#covid) min_faves:50 lang:en until:2021-04-04 since:2021-04-03\"\n"
     ]
    },
    {
     "name": "stderr",
     "output_type": "stream",
     "text": [
      "Stopping after 20 empty pages\n"
     ]
    },
    {
     "name": "stdout",
     "output_type": "stream",
     "text": [
      "Collected 67 tweets at 2021-04-03.\n",
      "Running twitter query: \"(#covid) min_faves:50 lang:en until:2021-04-05 since:2021-04-04\"\n"
     ]
    },
    {
     "name": "stderr",
     "output_type": "stream",
     "text": [
      "Stopping after 20 empty pages\n"
     ]
    },
    {
     "name": "stdout",
     "output_type": "stream",
     "text": [
      "Collected 53 tweets at 2021-04-04.\n",
      "Running twitter query: \"(#covid) min_faves:50 lang:en until:2021-04-06 since:2021-04-05\"\n"
     ]
    },
    {
     "name": "stderr",
     "output_type": "stream",
     "text": [
      "Stopping after 20 empty pages\n"
     ]
    },
    {
     "name": "stdout",
     "output_type": "stream",
     "text": [
      "Collected 77 tweets at 2021-04-05.\n",
      "Running twitter query: \"(#covid) min_faves:50 lang:en until:2021-04-07 since:2021-04-06\"\n"
     ]
    },
    {
     "name": "stderr",
     "output_type": "stream",
     "text": [
      "Stopping after 20 empty pages\n"
     ]
    },
    {
     "name": "stdout",
     "output_type": "stream",
     "text": [
      "Collected 68 tweets at 2021-04-06.\n",
      "Running twitter query: \"(#covid) min_faves:50 lang:en until:2021-04-08 since:2021-04-07\"\n"
     ]
    },
    {
     "name": "stderr",
     "output_type": "stream",
     "text": [
      "Stopping after 20 empty pages\n"
     ]
    },
    {
     "name": "stdout",
     "output_type": "stream",
     "text": [
      "Collected 80 tweets at 2021-04-07.\n",
      "Running twitter query: \"(#covid) min_faves:50 lang:en until:2021-04-09 since:2021-04-08\"\n"
     ]
    },
    {
     "name": "stderr",
     "output_type": "stream",
     "text": [
      "Stopping after 20 empty pages\n"
     ]
    },
    {
     "name": "stdout",
     "output_type": "stream",
     "text": [
      "Collected 84 tweets at 2021-04-08.\n",
      "Running twitter query: \"(#covid) min_faves:50 lang:en until:2021-04-10 since:2021-04-09\"\n"
     ]
    },
    {
     "name": "stderr",
     "output_type": "stream",
     "text": [
      "Stopping after 20 empty pages\n"
     ]
    },
    {
     "name": "stdout",
     "output_type": "stream",
     "text": [
      "Collected 83 tweets at 2021-04-09.\n",
      "Running twitter query: \"(#covid) min_faves:50 lang:en until:2021-04-11 since:2021-04-10\"\n"
     ]
    },
    {
     "name": "stderr",
     "output_type": "stream",
     "text": [
      "Stopping after 20 empty pages\n"
     ]
    },
    {
     "name": "stdout",
     "output_type": "stream",
     "text": [
      "Collected 63 tweets at 2021-04-10.\n",
      "Running twitter query: \"(#covid) min_faves:50 lang:en until:2021-04-12 since:2021-04-11\"\n"
     ]
    },
    {
     "name": "stderr",
     "output_type": "stream",
     "text": [
      "Stopping after 20 empty pages\n"
     ]
    },
    {
     "name": "stdout",
     "output_type": "stream",
     "text": [
      "Collected 75 tweets at 2021-04-11.\n",
      "Running twitter query: \"(#covid) min_faves:50 lang:en until:2021-04-13 since:2021-04-12\"\n"
     ]
    },
    {
     "name": "stderr",
     "output_type": "stream",
     "text": [
      "Stopping after 20 empty pages\n"
     ]
    },
    {
     "name": "stdout",
     "output_type": "stream",
     "text": [
      "Collected 97 tweets at 2021-04-12.\n",
      "Running twitter query: \"(#covid) min_faves:50 lang:en until:2021-04-14 since:2021-04-13\"\n"
     ]
    },
    {
     "name": "stderr",
     "output_type": "stream",
     "text": [
      "Stopping after 20 empty pages\n"
     ]
    },
    {
     "name": "stdout",
     "output_type": "stream",
     "text": [
      "Collected 78 tweets at 2021-04-13.\n",
      "Running twitter query: \"(#covid) min_faves:50 lang:en until:2021-04-15 since:2021-04-14\"\n"
     ]
    },
    {
     "name": "stderr",
     "output_type": "stream",
     "text": [
      "Stopping after 20 empty pages\n"
     ]
    },
    {
     "name": "stdout",
     "output_type": "stream",
     "text": [
      "Collected 55 tweets at 2021-04-14.\n",
      "Running twitter query: \"(#covid) min_faves:50 lang:en until:2021-04-16 since:2021-04-15\"\n"
     ]
    },
    {
     "name": "stderr",
     "output_type": "stream",
     "text": [
      "Stopping after 20 empty pages\n"
     ]
    },
    {
     "name": "stdout",
     "output_type": "stream",
     "text": [
      "Collected 117 tweets at 2021-04-15.\n",
      "Running twitter query: \"(#covid) min_faves:50 lang:en until:2021-04-17 since:2021-04-16\"\n"
     ]
    },
    {
     "name": "stderr",
     "output_type": "stream",
     "text": [
      "Stopping after 20 empty pages\n"
     ]
    },
    {
     "name": "stdout",
     "output_type": "stream",
     "text": [
      "Collected 99 tweets at 2021-04-16.\n",
      "Running twitter query: \"(#covid) min_faves:50 lang:en until:2021-04-18 since:2021-04-17\"\n"
     ]
    },
    {
     "name": "stderr",
     "output_type": "stream",
     "text": [
      "Stopping after 20 empty pages\n"
     ]
    },
    {
     "name": "stdout",
     "output_type": "stream",
     "text": [
      "Collected 126 tweets at 2021-04-17.\n",
      "Running twitter query: \"(#covid) min_faves:50 lang:en until:2021-04-19 since:2021-04-18\"\n"
     ]
    },
    {
     "name": "stderr",
     "output_type": "stream",
     "text": [
      "Stopping after 20 empty pages\n"
     ]
    },
    {
     "name": "stdout",
     "output_type": "stream",
     "text": [
      "Collected 122 tweets at 2021-04-18.\n",
      "Running twitter query: \"(#covid) min_faves:50 lang:en until:2021-04-20 since:2021-04-19\"\n"
     ]
    },
    {
     "name": "stderr",
     "output_type": "stream",
     "text": [
      "Stopping after 20 empty pages\n"
     ]
    },
    {
     "name": "stdout",
     "output_type": "stream",
     "text": [
      "Collected 99 tweets at 2021-04-19.\n",
      "Running twitter query: \"(#covid) min_faves:50 lang:en until:2021-04-21 since:2021-04-20\"\n"
     ]
    },
    {
     "name": "stderr",
     "output_type": "stream",
     "text": [
      "Stopping after 20 empty pages\n"
     ]
    },
    {
     "name": "stdout",
     "output_type": "stream",
     "text": [
      "Collected 138 tweets at 2021-04-20.\n",
      "Running twitter query: \"(#covid) min_faves:50 lang:en until:2021-04-22 since:2021-04-21\"\n"
     ]
    },
    {
     "name": "stderr",
     "output_type": "stream",
     "text": [
      "Stopping after 20 empty pages\n"
     ]
    },
    {
     "name": "stdout",
     "output_type": "stream",
     "text": [
      "Collected 156 tweets at 2021-04-21.\n",
      "Running twitter query: \"(#covid) min_faves:50 lang:en until:2021-04-23 since:2021-04-22\"\n"
     ]
    },
    {
     "name": "stderr",
     "output_type": "stream",
     "text": [
      "Stopping after 20 empty pages\n"
     ]
    },
    {
     "name": "stdout",
     "output_type": "stream",
     "text": [
      "Collected 171 tweets at 2021-04-22.\n",
      "Running twitter query: \"(#covid) min_faves:50 lang:en until:2021-04-24 since:2021-04-23\"\n"
     ]
    },
    {
     "name": "stderr",
     "output_type": "stream",
     "text": [
      "Stopping after 20 empty pages\n"
     ]
    },
    {
     "name": "stdout",
     "output_type": "stream",
     "text": [
      "Collected 141 tweets at 2021-04-23.\n",
      "Running twitter query: \"(#covid) min_faves:50 lang:en until:2021-04-25 since:2021-04-24\"\n"
     ]
    },
    {
     "name": "stderr",
     "output_type": "stream",
     "text": [
      "Stopping after 20 empty pages\n"
     ]
    },
    {
     "name": "stdout",
     "output_type": "stream",
     "text": [
      "Collected 121 tweets at 2021-04-24.\n",
      "Running twitter query: \"(#covid) min_faves:50 lang:en until:2021-04-26 since:2021-04-25\"\n"
     ]
    },
    {
     "name": "stderr",
     "output_type": "stream",
     "text": [
      "Stopping after 20 empty pages\n"
     ]
    },
    {
     "name": "stdout",
     "output_type": "stream",
     "text": [
      "Collected 185 tweets at 2021-04-25.\n",
      "Running twitter query: \"(#covid) min_faves:50 lang:en until:2021-04-27 since:2021-04-26\"\n"
     ]
    },
    {
     "name": "stderr",
     "output_type": "stream",
     "text": [
      "Stopping after 20 empty pages\n"
     ]
    },
    {
     "name": "stdout",
     "output_type": "stream",
     "text": [
      "Collected 141 tweets at 2021-04-26.\n",
      "Running twitter query: \"(#covid) min_faves:50 lang:en until:2021-04-28 since:2021-04-27\"\n"
     ]
    },
    {
     "name": "stderr",
     "output_type": "stream",
     "text": [
      "Stopping after 20 empty pages\n"
     ]
    },
    {
     "name": "stdout",
     "output_type": "stream",
     "text": [
      "Collected 178 tweets at 2021-04-27.\n",
      "Running twitter query: \"(#covid) min_faves:50 lang:en until:2021-04-29 since:2021-04-28\"\n"
     ]
    },
    {
     "name": "stderr",
     "output_type": "stream",
     "text": [
      "Stopping after 20 empty pages\n"
     ]
    },
    {
     "name": "stdout",
     "output_type": "stream",
     "text": [
      "Collected 157 tweets at 2021-04-28.\n",
      "Running twitter query: \"(#covid) min_faves:50 lang:en until:2021-04-30 since:2021-04-29\"\n"
     ]
    },
    {
     "name": "stderr",
     "output_type": "stream",
     "text": [
      "Stopping after 20 empty pages\n"
     ]
    },
    {
     "name": "stdout",
     "output_type": "stream",
     "text": [
      "Collected 129 tweets at 2021-04-29.\n",
      "Running twitter query: \"(#covid) min_faves:50 lang:en until:2021-05-01 since:2021-04-30\"\n"
     ]
    },
    {
     "name": "stderr",
     "output_type": "stream",
     "text": [
      "Stopping after 20 empty pages\n"
     ]
    },
    {
     "name": "stdout",
     "output_type": "stream",
     "text": [
      "Collected 141 tweets at 2021-04-30.\n",
      "Saving 3257 tweets at 2021-04.\n",
      "Running twitter query: \"(#covid) min_faves:50 lang:en until:2021-05-02 since:2021-05-01\"\n"
     ]
    },
    {
     "name": "stderr",
     "output_type": "stream",
     "text": [
      "Stopping after 20 empty pages\n"
     ]
    },
    {
     "name": "stdout",
     "output_type": "stream",
     "text": [
      "Collected 139 tweets at 2021-05-01.\n",
      "Running twitter query: \"(#covid) min_faves:50 lang:en until:2021-05-03 since:2021-05-02\"\n"
     ]
    },
    {
     "name": "stderr",
     "output_type": "stream",
     "text": [
      "Stopping after 20 empty pages\n"
     ]
    },
    {
     "name": "stdout",
     "output_type": "stream",
     "text": [
      "Collected 104 tweets at 2021-05-02.\n",
      "Running twitter query: \"(#covid) min_faves:50 lang:en until:2021-05-04 since:2021-05-03\"\n"
     ]
    },
    {
     "name": "stderr",
     "output_type": "stream",
     "text": [
      "Stopping after 20 empty pages\n"
     ]
    },
    {
     "name": "stdout",
     "output_type": "stream",
     "text": [
      "Collected 119 tweets at 2021-05-03.\n",
      "Running twitter query: \"(#covid) min_faves:50 lang:en until:2021-05-05 since:2021-05-04\"\n"
     ]
    },
    {
     "name": "stderr",
     "output_type": "stream",
     "text": [
      "Stopping after 20 empty pages\n"
     ]
    },
    {
     "name": "stdout",
     "output_type": "stream",
     "text": [
      "Collected 127 tweets at 2021-05-04.\n",
      "Running twitter query: \"(#covid) min_faves:50 lang:en until:2021-05-06 since:2021-05-05\"\n"
     ]
    },
    {
     "name": "stderr",
     "output_type": "stream",
     "text": [
      "Stopping after 20 empty pages\n"
     ]
    },
    {
     "name": "stdout",
     "output_type": "stream",
     "text": [
      "Collected 134 tweets at 2021-05-05.\n",
      "Running twitter query: \"(#covid) min_faves:50 lang:en until:2021-05-07 since:2021-05-06\"\n"
     ]
    },
    {
     "name": "stderr",
     "output_type": "stream",
     "text": [
      "Stopping after 20 empty pages\n"
     ]
    },
    {
     "name": "stdout",
     "output_type": "stream",
     "text": [
      "Collected 108 tweets at 2021-05-06.\n",
      "Running twitter query: \"(#covid) min_faves:50 lang:en until:2021-05-08 since:2021-05-07\"\n"
     ]
    },
    {
     "name": "stderr",
     "output_type": "stream",
     "text": [
      "Stopping after 20 empty pages\n"
     ]
    },
    {
     "name": "stdout",
     "output_type": "stream",
     "text": [
      "Collected 118 tweets at 2021-05-07.\n",
      "Running twitter query: \"(#covid) min_faves:50 lang:en until:2021-05-09 since:2021-05-08\"\n"
     ]
    },
    {
     "name": "stderr",
     "output_type": "stream",
     "text": [
      "Stopping after 20 empty pages\n"
     ]
    },
    {
     "name": "stdout",
     "output_type": "stream",
     "text": [
      "Collected 111 tweets at 2021-05-08.\n",
      "Running twitter query: \"(#covid) min_faves:50 lang:en until:2021-05-10 since:2021-05-09\"\n"
     ]
    },
    {
     "name": "stderr",
     "output_type": "stream",
     "text": [
      "Stopping after 20 empty pages\n"
     ]
    },
    {
     "name": "stdout",
     "output_type": "stream",
     "text": [
      "Collected 109 tweets at 2021-05-09.\n",
      "Running twitter query: \"(#covid) min_faves:50 lang:en until:2021-05-11 since:2021-05-10\"\n"
     ]
    },
    {
     "name": "stderr",
     "output_type": "stream",
     "text": [
      "Stopping after 20 empty pages\n"
     ]
    },
    {
     "name": "stdout",
     "output_type": "stream",
     "text": [
      "Collected 119 tweets at 2021-05-10.\n",
      "Running twitter query: \"(#covid) min_faves:50 lang:en until:2021-05-12 since:2021-05-11\"\n"
     ]
    },
    {
     "name": "stderr",
     "output_type": "stream",
     "text": [
      "Stopping after 20 empty pages\n"
     ]
    },
    {
     "name": "stdout",
     "output_type": "stream",
     "text": [
      "Collected 92 tweets at 2021-05-11.\n",
      "Running twitter query: \"(#covid) min_faves:50 lang:en until:2021-05-13 since:2021-05-12\"\n"
     ]
    },
    {
     "name": "stderr",
     "output_type": "stream",
     "text": [
      "Stopping after 20 empty pages\n"
     ]
    },
    {
     "name": "stdout",
     "output_type": "stream",
     "text": [
      "Collected 110 tweets at 2021-05-12.\n",
      "Running twitter query: \"(#covid) min_faves:50 lang:en until:2021-05-14 since:2021-05-13\"\n"
     ]
    },
    {
     "name": "stderr",
     "output_type": "stream",
     "text": [
      "Stopping after 20 empty pages\n"
     ]
    },
    {
     "name": "stdout",
     "output_type": "stream",
     "text": [
      "Collected 107 tweets at 2021-05-13.\n",
      "Running twitter query: \"(#covid) min_faves:50 lang:en until:2021-05-15 since:2021-05-14\"\n"
     ]
    },
    {
     "name": "stderr",
     "output_type": "stream",
     "text": [
      "Stopping after 20 empty pages\n"
     ]
    },
    {
     "name": "stdout",
     "output_type": "stream",
     "text": [
      "Collected 115 tweets at 2021-05-14.\n",
      "Running twitter query: \"(#covid) min_faves:50 lang:en until:2021-05-16 since:2021-05-15\"\n"
     ]
    },
    {
     "name": "stderr",
     "output_type": "stream",
     "text": [
      "Stopping after 20 empty pages\n"
     ]
    },
    {
     "name": "stdout",
     "output_type": "stream",
     "text": [
      "Collected 83 tweets at 2021-05-15.\n",
      "Running twitter query: \"(#covid) min_faves:50 lang:en until:2021-05-17 since:2021-05-16\"\n"
     ]
    },
    {
     "name": "stderr",
     "output_type": "stream",
     "text": [
      "Stopping after 20 empty pages\n"
     ]
    },
    {
     "name": "stdout",
     "output_type": "stream",
     "text": [
      "Collected 85 tweets at 2021-05-16.\n",
      "Running twitter query: \"(#covid) min_faves:50 lang:en until:2021-05-18 since:2021-05-17\"\n"
     ]
    },
    {
     "name": "stderr",
     "output_type": "stream",
     "text": [
      "Stopping after 20 empty pages\n"
     ]
    },
    {
     "name": "stdout",
     "output_type": "stream",
     "text": [
      "Collected 105 tweets at 2021-05-17.\n",
      "Running twitter query: \"(#covid) min_faves:50 lang:en until:2021-05-19 since:2021-05-18\"\n"
     ]
    },
    {
     "name": "stderr",
     "output_type": "stream",
     "text": [
      "Stopping after 20 empty pages\n"
     ]
    },
    {
     "name": "stdout",
     "output_type": "stream",
     "text": [
      "Collected 88 tweets at 2021-05-18.\n",
      "Running twitter query: \"(#covid) min_faves:50 lang:en until:2021-05-20 since:2021-05-19\"\n"
     ]
    },
    {
     "name": "stderr",
     "output_type": "stream",
     "text": [
      "Stopping after 20 empty pages\n"
     ]
    },
    {
     "name": "stdout",
     "output_type": "stream",
     "text": [
      "Collected 100 tweets at 2021-05-19.\n",
      "Running twitter query: \"(#covid) min_faves:50 lang:en until:2021-05-21 since:2021-05-20\"\n"
     ]
    },
    {
     "name": "stderr",
     "output_type": "stream",
     "text": [
      "Stopping after 20 empty pages\n"
     ]
    },
    {
     "name": "stdout",
     "output_type": "stream",
     "text": [
      "Collected 77 tweets at 2021-05-20.\n",
      "Running twitter query: \"(#covid) min_faves:50 lang:en until:2021-05-22 since:2021-05-21\"\n"
     ]
    },
    {
     "name": "stderr",
     "output_type": "stream",
     "text": [
      "Stopping after 20 empty pages\n"
     ]
    },
    {
     "name": "stdout",
     "output_type": "stream",
     "text": [
      "Collected 75 tweets at 2021-05-21.\n",
      "Running twitter query: \"(#covid) min_faves:50 lang:en until:2021-05-23 since:2021-05-22\"\n"
     ]
    },
    {
     "name": "stderr",
     "output_type": "stream",
     "text": [
      "Stopping after 20 empty pages\n"
     ]
    },
    {
     "name": "stdout",
     "output_type": "stream",
     "text": [
      "Collected 76 tweets at 2021-05-22.\n",
      "Running twitter query: \"(#covid) min_faves:50 lang:en until:2021-05-24 since:2021-05-23\"\n"
     ]
    },
    {
     "name": "stderr",
     "output_type": "stream",
     "text": [
      "Stopping after 20 empty pages\n"
     ]
    },
    {
     "name": "stdout",
     "output_type": "stream",
     "text": [
      "Collected 82 tweets at 2021-05-23.\n",
      "Running twitter query: \"(#covid) min_faves:50 lang:en until:2021-05-25 since:2021-05-24\"\n"
     ]
    },
    {
     "name": "stderr",
     "output_type": "stream",
     "text": [
      "Stopping after 20 empty pages\n"
     ]
    },
    {
     "name": "stdout",
     "output_type": "stream",
     "text": [
      "Collected 77 tweets at 2021-05-24.\n",
      "Running twitter query: \"(#covid) min_faves:50 lang:en until:2021-05-26 since:2021-05-25\"\n"
     ]
    },
    {
     "name": "stderr",
     "output_type": "stream",
     "text": [
      "Stopping after 20 empty pages\n"
     ]
    },
    {
     "name": "stdout",
     "output_type": "stream",
     "text": [
      "Collected 62 tweets at 2021-05-25.\n",
      "Running twitter query: \"(#covid) min_faves:50 lang:en until:2021-05-27 since:2021-05-26\"\n"
     ]
    },
    {
     "name": "stderr",
     "output_type": "stream",
     "text": [
      "Stopping after 20 empty pages\n"
     ]
    },
    {
     "name": "stdout",
     "output_type": "stream",
     "text": [
      "Collected 75 tweets at 2021-05-26.\n",
      "Running twitter query: \"(#covid) min_faves:50 lang:en until:2021-05-28 since:2021-05-27\"\n"
     ]
    },
    {
     "name": "stderr",
     "output_type": "stream",
     "text": [
      "Stopping after 20 empty pages\n"
     ]
    },
    {
     "name": "stdout",
     "output_type": "stream",
     "text": [
      "Collected 71 tweets at 2021-05-27.\n",
      "Running twitter query: \"(#covid) min_faves:50 lang:en until:2021-05-29 since:2021-05-28\"\n"
     ]
    },
    {
     "name": "stderr",
     "output_type": "stream",
     "text": [
      "Stopping after 20 empty pages\n"
     ]
    },
    {
     "name": "stdout",
     "output_type": "stream",
     "text": [
      "Collected 84 tweets at 2021-05-28.\n",
      "Running twitter query: \"(#covid) min_faves:50 lang:en until:2021-05-30 since:2021-05-29\"\n"
     ]
    },
    {
     "name": "stderr",
     "output_type": "stream",
     "text": [
      "Stopping after 20 empty pages\n"
     ]
    },
    {
     "name": "stdout",
     "output_type": "stream",
     "text": [
      "Collected 59 tweets at 2021-05-29.\n",
      "Running twitter query: \"(#covid) min_faves:50 lang:en until:2021-05-31 since:2021-05-30\"\n"
     ]
    },
    {
     "name": "stderr",
     "output_type": "stream",
     "text": [
      "Stopping after 20 empty pages\n"
     ]
    },
    {
     "name": "stdout",
     "output_type": "stream",
     "text": [
      "Collected 69 tweets at 2021-05-30.\n",
      "Running twitter query: \"(#covid) min_faves:50 lang:en until:2021-06-01 since:2021-05-31\"\n"
     ]
    },
    {
     "name": "stderr",
     "output_type": "stream",
     "text": [
      "Stopping after 20 empty pages\n"
     ]
    },
    {
     "name": "stdout",
     "output_type": "stream",
     "text": [
      "Collected 65 tweets at 2021-05-31.\n",
      "Saving 2976 tweets at 2021-05.\n",
      "Running twitter query: \"(#covid) min_faves:50 lang:en until:2021-06-02 since:2021-06-01\"\n"
     ]
    },
    {
     "name": "stderr",
     "output_type": "stream",
     "text": [
      "Stopping after 20 empty pages\n"
     ]
    },
    {
     "name": "stdout",
     "output_type": "stream",
     "text": [
      "Collected 77 tweets at 2021-06-01.\n",
      "Running twitter query: \"(#covid) min_faves:50 lang:en until:2021-06-03 since:2021-06-02\"\n"
     ]
    },
    {
     "name": "stderr",
     "output_type": "stream",
     "text": [
      "Stopping after 20 empty pages\n"
     ]
    },
    {
     "name": "stdout",
     "output_type": "stream",
     "text": [
      "Collected 64 tweets at 2021-06-02.\n",
      "Running twitter query: \"(#covid) min_faves:50 lang:en until:2021-06-04 since:2021-06-03\"\n"
     ]
    },
    {
     "name": "stderr",
     "output_type": "stream",
     "text": [
      "Stopping after 20 empty pages\n"
     ]
    },
    {
     "name": "stdout",
     "output_type": "stream",
     "text": [
      "Collected 75 tweets at 2021-06-03.\n",
      "Running twitter query: \"(#covid) min_faves:50 lang:en until:2021-06-05 since:2021-06-04\"\n"
     ]
    },
    {
     "name": "stderr",
     "output_type": "stream",
     "text": [
      "Stopping after 20 empty pages\n"
     ]
    },
    {
     "name": "stdout",
     "output_type": "stream",
     "text": [
      "Collected 62 tweets at 2021-06-04.\n",
      "Running twitter query: \"(#covid) min_faves:50 lang:en until:2021-06-06 since:2021-06-05\"\n"
     ]
    },
    {
     "name": "stderr",
     "output_type": "stream",
     "text": [
      "Stopping after 20 empty pages\n"
     ]
    },
    {
     "name": "stdout",
     "output_type": "stream",
     "text": [
      "Collected 42 tweets at 2021-06-05.\n",
      "Running twitter query: \"(#covid) min_faves:50 lang:en until:2021-06-07 since:2021-06-06\"\n"
     ]
    },
    {
     "name": "stderr",
     "output_type": "stream",
     "text": [
      "Stopping after 20 empty pages\n"
     ]
    },
    {
     "name": "stdout",
     "output_type": "stream",
     "text": [
      "Collected 36 tweets at 2021-06-06.\n",
      "Running twitter query: \"(#covid) min_faves:50 lang:en until:2021-06-08 since:2021-06-07\"\n"
     ]
    },
    {
     "name": "stderr",
     "output_type": "stream",
     "text": [
      "Stopping after 20 empty pages\n"
     ]
    },
    {
     "name": "stdout",
     "output_type": "stream",
     "text": [
      "Collected 58 tweets at 2021-06-07.\n",
      "Running twitter query: \"(#covid) min_faves:50 lang:en until:2021-06-09 since:2021-06-08\"\n"
     ]
    },
    {
     "name": "stderr",
     "output_type": "stream",
     "text": [
      "Stopping after 20 empty pages\n"
     ]
    },
    {
     "name": "stdout",
     "output_type": "stream",
     "text": [
      "Collected 49 tweets at 2021-06-08.\n",
      "Running twitter query: \"(#covid) min_faves:50 lang:en until:2021-06-10 since:2021-06-09\"\n"
     ]
    },
    {
     "name": "stderr",
     "output_type": "stream",
     "text": [
      "Stopping after 20 empty pages\n"
     ]
    },
    {
     "name": "stdout",
     "output_type": "stream",
     "text": [
      "Collected 49 tweets at 2021-06-09.\n",
      "Running twitter query: \"(#covid) min_faves:50 lang:en until:2021-06-11 since:2021-06-10\"\n"
     ]
    },
    {
     "name": "stderr",
     "output_type": "stream",
     "text": [
      "Stopping after 20 empty pages\n"
     ]
    },
    {
     "name": "stdout",
     "output_type": "stream",
     "text": [
      "Collected 63 tweets at 2021-06-10.\n",
      "Running twitter query: \"(#covid) min_faves:50 lang:en until:2021-06-12 since:2021-06-11\"\n"
     ]
    },
    {
     "name": "stderr",
     "output_type": "stream",
     "text": [
      "Stopping after 20 empty pages\n"
     ]
    },
    {
     "name": "stdout",
     "output_type": "stream",
     "text": [
      "Collected 51 tweets at 2021-06-11.\n",
      "Running twitter query: \"(#covid) min_faves:50 lang:en until:2021-06-13 since:2021-06-12\"\n"
     ]
    },
    {
     "name": "stderr",
     "output_type": "stream",
     "text": [
      "Stopping after 20 empty pages\n"
     ]
    },
    {
     "name": "stdout",
     "output_type": "stream",
     "text": [
      "Collected 39 tweets at 2021-06-12.\n",
      "Running twitter query: \"(#covid) min_faves:50 lang:en until:2021-06-14 since:2021-06-13\"\n"
     ]
    },
    {
     "name": "stderr",
     "output_type": "stream",
     "text": [
      "Stopping after 20 empty pages\n"
     ]
    },
    {
     "name": "stdout",
     "output_type": "stream",
     "text": [
      "Collected 43 tweets at 2021-06-13.\n",
      "Running twitter query: \"(#covid) min_faves:50 lang:en until:2021-06-15 since:2021-06-14\"\n"
     ]
    },
    {
     "name": "stderr",
     "output_type": "stream",
     "text": [
      "Stopping after 20 empty pages\n"
     ]
    },
    {
     "name": "stdout",
     "output_type": "stream",
     "text": [
      "Collected 58 tweets at 2021-06-14.\n",
      "Running twitter query: \"(#covid) min_faves:50 lang:en until:2021-06-16 since:2021-06-15\"\n"
     ]
    },
    {
     "name": "stderr",
     "output_type": "stream",
     "text": [
      "Stopping after 20 empty pages\n"
     ]
    },
    {
     "name": "stdout",
     "output_type": "stream",
     "text": [
      "Collected 55 tweets at 2021-06-15.\n",
      "Running twitter query: \"(#covid) min_faves:50 lang:en until:2021-06-17 since:2021-06-16\"\n"
     ]
    },
    {
     "name": "stderr",
     "output_type": "stream",
     "text": [
      "Stopping after 20 empty pages\n"
     ]
    },
    {
     "name": "stdout",
     "output_type": "stream",
     "text": [
      "Collected 54 tweets at 2021-06-16.\n",
      "Running twitter query: \"(#covid) min_faves:50 lang:en until:2021-06-18 since:2021-06-17\"\n"
     ]
    },
    {
     "name": "stderr",
     "output_type": "stream",
     "text": [
      "Stopping after 20 empty pages\n"
     ]
    },
    {
     "name": "stdout",
     "output_type": "stream",
     "text": [
      "Collected 49 tweets at 2021-06-17.\n",
      "Running twitter query: \"(#covid) min_faves:50 lang:en until:2021-06-19 since:2021-06-18\"\n"
     ]
    },
    {
     "name": "stderr",
     "output_type": "stream",
     "text": [
      "Stopping after 20 empty pages\n"
     ]
    },
    {
     "name": "stdout",
     "output_type": "stream",
     "text": [
      "Collected 52 tweets at 2021-06-18.\n",
      "Running twitter query: \"(#covid) min_faves:50 lang:en until:2021-06-20 since:2021-06-19\"\n"
     ]
    },
    {
     "name": "stderr",
     "output_type": "stream",
     "text": [
      "Stopping after 20 empty pages\n"
     ]
    },
    {
     "name": "stdout",
     "output_type": "stream",
     "text": [
      "Collected 25 tweets at 2021-06-19.\n",
      "Running twitter query: \"(#covid) min_faves:50 lang:en until:2021-06-21 since:2021-06-20\"\n"
     ]
    },
    {
     "name": "stderr",
     "output_type": "stream",
     "text": [
      "Stopping after 20 empty pages\n"
     ]
    },
    {
     "name": "stdout",
     "output_type": "stream",
     "text": [
      "Collected 43 tweets at 2021-06-20.\n",
      "Running twitter query: \"(#covid) min_faves:50 lang:en until:2021-06-22 since:2021-06-21\"\n"
     ]
    },
    {
     "name": "stderr",
     "output_type": "stream",
     "text": [
      "Stopping after 20 empty pages\n"
     ]
    },
    {
     "name": "stdout",
     "output_type": "stream",
     "text": [
      "Collected 48 tweets at 2021-06-21.\n",
      "Running twitter query: \"(#covid) min_faves:50 lang:en until:2021-06-23 since:2021-06-22\"\n"
     ]
    },
    {
     "name": "stderr",
     "output_type": "stream",
     "text": [
      "Stopping after 20 empty pages\n"
     ]
    },
    {
     "name": "stdout",
     "output_type": "stream",
     "text": [
      "Collected 39 tweets at 2021-06-22.\n",
      "Running twitter query: \"(#covid) min_faves:50 lang:en until:2021-06-24 since:2021-06-23\"\n"
     ]
    },
    {
     "name": "stderr",
     "output_type": "stream",
     "text": [
      "Stopping after 20 empty pages\n"
     ]
    },
    {
     "name": "stdout",
     "output_type": "stream",
     "text": [
      "Collected 46 tweets at 2021-06-23.\n",
      "Running twitter query: \"(#covid) min_faves:50 lang:en until:2021-06-25 since:2021-06-24\"\n"
     ]
    },
    {
     "name": "stderr",
     "output_type": "stream",
     "text": [
      "Stopping after 20 empty pages\n"
     ]
    },
    {
     "name": "stdout",
     "output_type": "stream",
     "text": [
      "Collected 44 tweets at 2021-06-24.\n",
      "Running twitter query: \"(#covid) min_faves:50 lang:en until:2021-06-26 since:2021-06-25\"\n"
     ]
    },
    {
     "name": "stderr",
     "output_type": "stream",
     "text": [
      "Stopping after 20 empty pages\n"
     ]
    },
    {
     "name": "stdout",
     "output_type": "stream",
     "text": [
      "Collected 53 tweets at 2021-06-25.\n",
      "Running twitter query: \"(#covid) min_faves:50 lang:en until:2021-06-27 since:2021-06-26\"\n"
     ]
    },
    {
     "name": "stderr",
     "output_type": "stream",
     "text": [
      "Stopping after 20 empty pages\n"
     ]
    },
    {
     "name": "stdout",
     "output_type": "stream",
     "text": [
      "Collected 43 tweets at 2021-06-26.\n",
      "Running twitter query: \"(#covid) min_faves:50 lang:en until:2021-06-28 since:2021-06-27\"\n"
     ]
    },
    {
     "name": "stderr",
     "output_type": "stream",
     "text": [
      "Stopping after 20 empty pages\n"
     ]
    },
    {
     "name": "stdout",
     "output_type": "stream",
     "text": [
      "Collected 36 tweets at 2021-06-27.\n",
      "Running twitter query: \"(#covid) min_faves:50 lang:en until:2021-06-29 since:2021-06-28\"\n"
     ]
    },
    {
     "name": "stderr",
     "output_type": "stream",
     "text": [
      "Stopping after 20 empty pages\n"
     ]
    },
    {
     "name": "stdout",
     "output_type": "stream",
     "text": [
      "Collected 41 tweets at 2021-06-28.\n",
      "Running twitter query: \"(#covid) min_faves:50 lang:en until:2021-06-30 since:2021-06-29\"\n"
     ]
    },
    {
     "name": "stderr",
     "output_type": "stream",
     "text": [
      "Stopping after 20 empty pages\n"
     ]
    },
    {
     "name": "stdout",
     "output_type": "stream",
     "text": [
      "Collected 44 tweets at 2021-06-29.\n",
      "Running twitter query: \"(#covid) min_faves:50 lang:en until:2021-07-01 since:2021-06-30\"\n"
     ]
    },
    {
     "name": "stderr",
     "output_type": "stream",
     "text": [
      "Stopping after 20 empty pages\n"
     ]
    },
    {
     "name": "stdout",
     "output_type": "stream",
     "text": [
      "Collected 55 tweets at 2021-06-30.\n",
      "Saving 1523 tweets at 2021-06.\n",
      "Running twitter query: \"(#covid) min_faves:50 lang:en until:2021-07-02 since:2021-07-01\"\n"
     ]
    },
    {
     "name": "stderr",
     "output_type": "stream",
     "text": [
      "Stopping after 20 empty pages\n"
     ]
    },
    {
     "name": "stdout",
     "output_type": "stream",
     "text": [
      "Collected 43 tweets at 2021-07-01.\n",
      "Running twitter query: \"(#covid) min_faves:50 lang:en until:2021-07-03 since:2021-07-02\"\n"
     ]
    },
    {
     "name": "stderr",
     "output_type": "stream",
     "text": [
      "Stopping after 20 empty pages\n"
     ]
    },
    {
     "name": "stdout",
     "output_type": "stream",
     "text": [
      "Collected 36 tweets at 2021-07-02.\n",
      "Running twitter query: \"(#covid) min_faves:50 lang:en until:2021-07-04 since:2021-07-03\"\n"
     ]
    },
    {
     "name": "stderr",
     "output_type": "stream",
     "text": [
      "Stopping after 20 empty pages\n"
     ]
    },
    {
     "name": "stdout",
     "output_type": "stream",
     "text": [
      "Collected 57 tweets at 2021-07-03.\n",
      "Running twitter query: \"(#covid) min_faves:50 lang:en until:2021-07-05 since:2021-07-04\"\n"
     ]
    },
    {
     "name": "stderr",
     "output_type": "stream",
     "text": [
      "Stopping after 20 empty pages\n"
     ]
    },
    {
     "name": "stdout",
     "output_type": "stream",
     "text": [
      "Collected 24 tweets at 2021-07-04.\n",
      "Running twitter query: \"(#covid) min_faves:50 lang:en until:2021-07-06 since:2021-07-05\"\n"
     ]
    },
    {
     "name": "stderr",
     "output_type": "stream",
     "text": [
      "Stopping after 20 empty pages\n"
     ]
    },
    {
     "name": "stdout",
     "output_type": "stream",
     "text": [
      "Collected 71 tweets at 2021-07-05.\n",
      "Running twitter query: \"(#covid) min_faves:50 lang:en until:2021-07-07 since:2021-07-06\"\n"
     ]
    },
    {
     "name": "stderr",
     "output_type": "stream",
     "text": [
      "Stopping after 20 empty pages\n"
     ]
    },
    {
     "name": "stdout",
     "output_type": "stream",
     "text": [
      "Collected 49 tweets at 2021-07-06.\n",
      "Running twitter query: \"(#covid) min_faves:50 lang:en until:2021-07-08 since:2021-07-07\"\n"
     ]
    },
    {
     "name": "stderr",
     "output_type": "stream",
     "text": [
      "Stopping after 20 empty pages\n"
     ]
    },
    {
     "name": "stdout",
     "output_type": "stream",
     "text": [
      "Collected 43 tweets at 2021-07-07.\n",
      "Running twitter query: \"(#covid) min_faves:50 lang:en until:2021-07-09 since:2021-07-08\"\n"
     ]
    },
    {
     "name": "stderr",
     "output_type": "stream",
     "text": [
      "Stopping after 20 empty pages\n"
     ]
    },
    {
     "name": "stdout",
     "output_type": "stream",
     "text": [
      "Collected 63 tweets at 2021-07-08.\n",
      "Running twitter query: \"(#covid) min_faves:50 lang:en until:2021-07-10 since:2021-07-09\"\n"
     ]
    },
    {
     "name": "stderr",
     "output_type": "stream",
     "text": [
      "Stopping after 20 empty pages\n"
     ]
    },
    {
     "name": "stdout",
     "output_type": "stream",
     "text": [
      "Collected 43 tweets at 2021-07-09.\n",
      "Running twitter query: \"(#covid) min_faves:50 lang:en until:2021-07-11 since:2021-07-10\"\n"
     ]
    },
    {
     "name": "stderr",
     "output_type": "stream",
     "text": [
      "Stopping after 20 empty pages\n"
     ]
    },
    {
     "name": "stdout",
     "output_type": "stream",
     "text": [
      "Collected 43 tweets at 2021-07-10.\n",
      "Running twitter query: \"(#covid) min_faves:50 lang:en until:2021-07-12 since:2021-07-11\"\n"
     ]
    },
    {
     "name": "stderr",
     "output_type": "stream",
     "text": [
      "Stopping after 20 empty pages\n"
     ]
    },
    {
     "name": "stdout",
     "output_type": "stream",
     "text": [
      "Collected 41 tweets at 2021-07-11.\n",
      "Running twitter query: \"(#covid) min_faves:50 lang:en until:2021-07-13 since:2021-07-12\"\n"
     ]
    },
    {
     "name": "stderr",
     "output_type": "stream",
     "text": [
      "Stopping after 20 empty pages\n"
     ]
    },
    {
     "name": "stdout",
     "output_type": "stream",
     "text": [
      "Collected 49 tweets at 2021-07-12.\n",
      "Running twitter query: \"(#covid) min_faves:50 lang:en until:2021-07-14 since:2021-07-13\"\n"
     ]
    },
    {
     "name": "stderr",
     "output_type": "stream",
     "text": [
      "Stopping after 20 empty pages\n"
     ]
    },
    {
     "name": "stdout",
     "output_type": "stream",
     "text": [
      "Collected 50 tweets at 2021-07-13.\n",
      "Running twitter query: \"(#covid) min_faves:50 lang:en until:2021-07-15 since:2021-07-14\"\n"
     ]
    },
    {
     "name": "stderr",
     "output_type": "stream",
     "text": [
      "Stopping after 20 empty pages\n"
     ]
    },
    {
     "name": "stdout",
     "output_type": "stream",
     "text": [
      "Collected 41 tweets at 2021-07-14.\n",
      "Running twitter query: \"(#covid) min_faves:50 lang:en until:2021-07-16 since:2021-07-15\"\n"
     ]
    },
    {
     "name": "stderr",
     "output_type": "stream",
     "text": [
      "Stopping after 20 empty pages\n"
     ]
    },
    {
     "name": "stdout",
     "output_type": "stream",
     "text": [
      "Collected 64 tweets at 2021-07-15.\n",
      "Running twitter query: \"(#covid) min_faves:50 lang:en until:2021-07-17 since:2021-07-16\"\n"
     ]
    },
    {
     "name": "stderr",
     "output_type": "stream",
     "text": [
      "Stopping after 20 empty pages\n"
     ]
    },
    {
     "name": "stdout",
     "output_type": "stream",
     "text": [
      "Collected 72 tweets at 2021-07-16.\n",
      "Running twitter query: \"(#covid) min_faves:50 lang:en until:2021-07-18 since:2021-07-17\"\n"
     ]
    },
    {
     "name": "stderr",
     "output_type": "stream",
     "text": [
      "Stopping after 20 empty pages\n"
     ]
    },
    {
     "name": "stdout",
     "output_type": "stream",
     "text": [
      "Collected 58 tweets at 2021-07-17.\n",
      "Running twitter query: \"(#covid) min_faves:50 lang:en until:2021-07-19 since:2021-07-18\"\n"
     ]
    },
    {
     "name": "stderr",
     "output_type": "stream",
     "text": [
      "Stopping after 20 empty pages\n"
     ]
    },
    {
     "name": "stdout",
     "output_type": "stream",
     "text": [
      "Collected 53 tweets at 2021-07-18.\n",
      "Running twitter query: \"(#covid) min_faves:50 lang:en until:2021-07-20 since:2021-07-19\"\n"
     ]
    },
    {
     "name": "stderr",
     "output_type": "stream",
     "text": [
      "Stopping after 20 empty pages\n"
     ]
    },
    {
     "name": "stdout",
     "output_type": "stream",
     "text": [
      "Collected 75 tweets at 2021-07-19.\n",
      "Running twitter query: \"(#covid) min_faves:50 lang:en until:2021-07-21 since:2021-07-20\"\n"
     ]
    },
    {
     "name": "stderr",
     "output_type": "stream",
     "text": [
      "Stopping after 20 empty pages\n"
     ]
    },
    {
     "name": "stdout",
     "output_type": "stream",
     "text": [
      "Collected 71 tweets at 2021-07-20.\n",
      "Running twitter query: \"(#covid) min_faves:50 lang:en until:2021-07-22 since:2021-07-21\"\n"
     ]
    },
    {
     "name": "stderr",
     "output_type": "stream",
     "text": [
      "Stopping after 20 empty pages\n"
     ]
    },
    {
     "name": "stdout",
     "output_type": "stream",
     "text": [
      "Collected 51 tweets at 2021-07-21.\n",
      "Running twitter query: \"(#covid) min_faves:50 lang:en until:2021-07-23 since:2021-07-22\"\n"
     ]
    },
    {
     "name": "stderr",
     "output_type": "stream",
     "text": [
      "Stopping after 20 empty pages\n"
     ]
    },
    {
     "name": "stdout",
     "output_type": "stream",
     "text": [
      "Collected 67 tweets at 2021-07-22.\n",
      "Running twitter query: \"(#covid) min_faves:50 lang:en until:2021-07-24 since:2021-07-23\"\n"
     ]
    },
    {
     "name": "stderr",
     "output_type": "stream",
     "text": [
      "Stopping after 20 empty pages\n"
     ]
    },
    {
     "name": "stdout",
     "output_type": "stream",
     "text": [
      "Collected 66 tweets at 2021-07-23.\n",
      "Running twitter query: \"(#covid) min_faves:50 lang:en until:2021-07-25 since:2021-07-24\"\n"
     ]
    },
    {
     "name": "stderr",
     "output_type": "stream",
     "text": [
      "Stopping after 20 empty pages\n"
     ]
    },
    {
     "name": "stdout",
     "output_type": "stream",
     "text": [
      "Collected 54 tweets at 2021-07-24.\n",
      "Running twitter query: \"(#covid) min_faves:50 lang:en until:2021-07-26 since:2021-07-25\"\n"
     ]
    },
    {
     "name": "stderr",
     "output_type": "stream",
     "text": [
      "Stopping after 20 empty pages\n"
     ]
    },
    {
     "name": "stdout",
     "output_type": "stream",
     "text": [
      "Collected 53 tweets at 2021-07-25.\n",
      "Running twitter query: \"(#covid) min_faves:50 lang:en until:2021-07-27 since:2021-07-26\"\n"
     ]
    },
    {
     "name": "stderr",
     "output_type": "stream",
     "text": [
      "Stopping after 20 empty pages\n"
     ]
    },
    {
     "name": "stdout",
     "output_type": "stream",
     "text": [
      "Collected 52 tweets at 2021-07-26.\n",
      "Running twitter query: \"(#covid) min_faves:50 lang:en until:2021-07-28 since:2021-07-27\"\n"
     ]
    },
    {
     "name": "stderr",
     "output_type": "stream",
     "text": [
      "Stopping after 20 empty pages\n"
     ]
    },
    {
     "name": "stdout",
     "output_type": "stream",
     "text": [
      "Collected 46 tweets at 2021-07-27.\n",
      "Running twitter query: \"(#covid) min_faves:50 lang:en until:2021-07-29 since:2021-07-28\"\n"
     ]
    },
    {
     "name": "stderr",
     "output_type": "stream",
     "text": [
      "Stopping after 20 empty pages\n"
     ]
    },
    {
     "name": "stdout",
     "output_type": "stream",
     "text": [
      "Collected 81 tweets at 2021-07-28.\n",
      "Running twitter query: \"(#covid) min_faves:50 lang:en until:2021-07-30 since:2021-07-29\"\n"
     ]
    },
    {
     "name": "stderr",
     "output_type": "stream",
     "text": [
      "Stopping after 20 empty pages\n"
     ]
    },
    {
     "name": "stdout",
     "output_type": "stream",
     "text": [
      "Collected 106 tweets at 2021-07-29.\n",
      "Running twitter query: \"(#covid) min_faves:50 lang:en until:2021-07-31 since:2021-07-30\"\n"
     ]
    },
    {
     "name": "stderr",
     "output_type": "stream",
     "text": [
      "Stopping after 20 empty pages\n"
     ]
    },
    {
     "name": "stdout",
     "output_type": "stream",
     "text": [
      "Collected 80 tweets at 2021-07-30.\n",
      "Running twitter query: \"(#covid) min_faves:50 lang:en until:2021-08-01 since:2021-07-31\"\n"
     ]
    },
    {
     "name": "stderr",
     "output_type": "stream",
     "text": [
      "Stopping after 20 empty pages\n"
     ]
    },
    {
     "name": "stdout",
     "output_type": "stream",
     "text": [
      "Collected 74 tweets at 2021-07-31.\n",
      "Saving 1807 tweets at 2021-07.\n",
      "Running twitter query: \"(#covid) min_faves:50 lang:en until:2021-08-02 since:2021-08-01\"\n"
     ]
    },
    {
     "name": "stderr",
     "output_type": "stream",
     "text": [
      "Stopping after 20 empty pages\n"
     ]
    },
    {
     "name": "stdout",
     "output_type": "stream",
     "text": [
      "Collected 70 tweets at 2021-08-01.\n",
      "Running twitter query: \"(#covid) min_faves:50 lang:en until:2021-08-03 since:2021-08-02\"\n"
     ]
    },
    {
     "name": "stderr",
     "output_type": "stream",
     "text": [
      "Stopping after 20 empty pages\n"
     ]
    },
    {
     "name": "stdout",
     "output_type": "stream",
     "text": [
      "Collected 61 tweets at 2021-08-02.\n",
      "Running twitter query: \"(#covid) min_faves:50 lang:en until:2021-08-04 since:2021-08-03\"\n"
     ]
    },
    {
     "name": "stderr",
     "output_type": "stream",
     "text": [
      "Stopping after 20 empty pages\n"
     ]
    },
    {
     "name": "stdout",
     "output_type": "stream",
     "text": [
      "Collected 57 tweets at 2021-08-03.\n",
      "Running twitter query: \"(#covid) min_faves:50 lang:en until:2021-08-05 since:2021-08-04\"\n"
     ]
    },
    {
     "name": "stderr",
     "output_type": "stream",
     "text": [
      "Stopping after 20 empty pages\n"
     ]
    },
    {
     "name": "stdout",
     "output_type": "stream",
     "text": [
      "Collected 72 tweets at 2021-08-04.\n",
      "Running twitter query: \"(#covid) min_faves:50 lang:en until:2021-08-06 since:2021-08-05\"\n"
     ]
    },
    {
     "name": "stderr",
     "output_type": "stream",
     "text": [
      "Stopping after 20 empty pages\n"
     ]
    },
    {
     "name": "stdout",
     "output_type": "stream",
     "text": [
      "Collected 92 tweets at 2021-08-05.\n",
      "Running twitter query: \"(#covid) min_faves:50 lang:en until:2021-08-07 since:2021-08-06\"\n"
     ]
    },
    {
     "name": "stderr",
     "output_type": "stream",
     "text": [
      "Stopping after 20 empty pages\n"
     ]
    },
    {
     "name": "stdout",
     "output_type": "stream",
     "text": [
      "Collected 59 tweets at 2021-08-06.\n",
      "Running twitter query: \"(#covid) min_faves:50 lang:en until:2021-08-08 since:2021-08-07\"\n"
     ]
    },
    {
     "name": "stderr",
     "output_type": "stream",
     "text": [
      "Stopping after 20 empty pages\n"
     ]
    },
    {
     "name": "stdout",
     "output_type": "stream",
     "text": [
      "Collected 59 tweets at 2021-08-07.\n",
      "Running twitter query: \"(#covid) min_faves:50 lang:en until:2021-08-09 since:2021-08-08\"\n"
     ]
    },
    {
     "name": "stderr",
     "output_type": "stream",
     "text": [
      "Stopping after 20 empty pages\n"
     ]
    },
    {
     "name": "stdout",
     "output_type": "stream",
     "text": [
      "Collected 64 tweets at 2021-08-08.\n",
      "Running twitter query: \"(#covid) min_faves:50 lang:en until:2021-08-10 since:2021-08-09\"\n"
     ]
    },
    {
     "name": "stderr",
     "output_type": "stream",
     "text": [
      "Stopping after 20 empty pages\n"
     ]
    },
    {
     "name": "stdout",
     "output_type": "stream",
     "text": [
      "Collected 83 tweets at 2021-08-09.\n",
      "Running twitter query: \"(#covid) min_faves:50 lang:en until:2021-08-11 since:2021-08-10\"\n"
     ]
    },
    {
     "name": "stderr",
     "output_type": "stream",
     "text": [
      "Stopping after 20 empty pages\n"
     ]
    },
    {
     "name": "stdout",
     "output_type": "stream",
     "text": [
      "Collected 101 tweets at 2021-08-10.\n",
      "Running twitter query: \"(#covid) min_faves:50 lang:en until:2021-08-12 since:2021-08-11\"\n"
     ]
    },
    {
     "name": "stderr",
     "output_type": "stream",
     "text": [
      "Stopping after 20 empty pages\n"
     ]
    },
    {
     "name": "stdout",
     "output_type": "stream",
     "text": [
      "Collected 51 tweets at 2021-08-11.\n",
      "Running twitter query: \"(#covid) min_faves:50 lang:en until:2021-08-13 since:2021-08-12\"\n"
     ]
    },
    {
     "name": "stderr",
     "output_type": "stream",
     "text": [
      "Stopping after 20 empty pages\n"
     ]
    },
    {
     "name": "stdout",
     "output_type": "stream",
     "text": [
      "Collected 101 tweets at 2021-08-12.\n",
      "Running twitter query: \"(#covid) min_faves:50 lang:en until:2021-08-14 since:2021-08-13\"\n"
     ]
    },
    {
     "name": "stderr",
     "output_type": "stream",
     "text": [
      "Stopping after 20 empty pages\n"
     ]
    },
    {
     "name": "stdout",
     "output_type": "stream",
     "text": [
      "Collected 65 tweets at 2021-08-13.\n",
      "Running twitter query: \"(#covid) min_faves:50 lang:en until:2021-08-15 since:2021-08-14\"\n"
     ]
    },
    {
     "name": "stderr",
     "output_type": "stream",
     "text": [
      "Stopping after 20 empty pages\n"
     ]
    },
    {
     "name": "stdout",
     "output_type": "stream",
     "text": [
      "Collected 55 tweets at 2021-08-14.\n",
      "Running twitter query: \"(#covid) min_faves:50 lang:en until:2021-08-16 since:2021-08-15\"\n"
     ]
    },
    {
     "name": "stderr",
     "output_type": "stream",
     "text": [
      "Stopping after 20 empty pages\n"
     ]
    },
    {
     "name": "stdout",
     "output_type": "stream",
     "text": [
      "Collected 64 tweets at 2021-08-15.\n",
      "Running twitter query: \"(#covid) min_faves:50 lang:en until:2021-08-17 since:2021-08-16\"\n"
     ]
    },
    {
     "name": "stderr",
     "output_type": "stream",
     "text": [
      "Unavailable user in card on tweet 1427380709442850823\n",
      "Unavailable user in card on tweet 1427380709442850823\n",
      "User 1062915983294300160 not found in user refs in card on tweet 1427380709442850823\n",
      "User 1062915983294300160 not found in user refs in card on tweet 1427380709442850823\n",
      "Stopping after 20 empty pages\n"
     ]
    },
    {
     "name": "stdout",
     "output_type": "stream",
     "text": [
      "Collected 75 tweets at 2021-08-16.\n",
      "Running twitter query: \"(#covid) min_faves:50 lang:en until:2021-08-18 since:2021-08-17\"\n"
     ]
    },
    {
     "name": "stderr",
     "output_type": "stream",
     "text": [
      "Stopping after 20 empty pages\n"
     ]
    },
    {
     "name": "stdout",
     "output_type": "stream",
     "text": [
      "Collected 96 tweets at 2021-08-17.\n",
      "Running twitter query: \"(#covid) min_faves:50 lang:en until:2021-08-19 since:2021-08-18\"\n"
     ]
    },
    {
     "name": "stderr",
     "output_type": "stream",
     "text": [
      "Stopping after 20 empty pages\n"
     ]
    },
    {
     "name": "stdout",
     "output_type": "stream",
     "text": [
      "Collected 88 tweets at 2021-08-18.\n",
      "Running twitter query: \"(#covid) min_faves:50 lang:en until:2021-08-20 since:2021-08-19\"\n"
     ]
    },
    {
     "name": "stderr",
     "output_type": "stream",
     "text": [
      "Stopping after 20 empty pages\n"
     ]
    },
    {
     "name": "stdout",
     "output_type": "stream",
     "text": [
      "Collected 83 tweets at 2021-08-19.\n",
      "Running twitter query: \"(#covid) min_faves:50 lang:en until:2021-08-21 since:2021-08-20\"\n"
     ]
    },
    {
     "name": "stderr",
     "output_type": "stream",
     "text": [
      "Stopping after 20 empty pages\n"
     ]
    },
    {
     "name": "stdout",
     "output_type": "stream",
     "text": [
      "Collected 56 tweets at 2021-08-20.\n",
      "Running twitter query: \"(#covid) min_faves:50 lang:en until:2021-08-22 since:2021-08-21\"\n"
     ]
    },
    {
     "name": "stderr",
     "output_type": "stream",
     "text": [
      "Unavailable user in card on tweet 1429080686779043850\n",
      "User 17639527 not found in user refs in card on tweet 1429080686779043850\n",
      "Stopping after 20 empty pages\n"
     ]
    },
    {
     "name": "stdout",
     "output_type": "stream",
     "text": [
      "Collected 69 tweets at 2021-08-21.\n",
      "Running twitter query: \"(#covid) min_faves:50 lang:en until:2021-08-23 since:2021-08-22\"\n"
     ]
    },
    {
     "name": "stderr",
     "output_type": "stream",
     "text": [
      "Stopping after 20 empty pages\n"
     ]
    },
    {
     "name": "stdout",
     "output_type": "stream",
     "text": [
      "Collected 99 tweets at 2021-08-22.\n",
      "Running twitter query: \"(#covid) min_faves:50 lang:en until:2021-08-24 since:2021-08-23\"\n"
     ]
    },
    {
     "name": "stderr",
     "output_type": "stream",
     "text": [
      "Stopping after 20 empty pages\n"
     ]
    },
    {
     "name": "stdout",
     "output_type": "stream",
     "text": [
      "Collected 81 tweets at 2021-08-23.\n",
      "Running twitter query: \"(#covid) min_faves:50 lang:en until:2021-08-25 since:2021-08-24\"\n"
     ]
    },
    {
     "name": "stderr",
     "output_type": "stream",
     "text": [
      "Stopping after 20 empty pages\n"
     ]
    },
    {
     "name": "stdout",
     "output_type": "stream",
     "text": [
      "Collected 61 tweets at 2021-08-24.\n",
      "Running twitter query: \"(#covid) min_faves:50 lang:en until:2021-08-26 since:2021-08-25\"\n"
     ]
    },
    {
     "name": "stderr",
     "output_type": "stream",
     "text": [
      "Stopping after 20 empty pages\n"
     ]
    },
    {
     "name": "stdout",
     "output_type": "stream",
     "text": [
      "Collected 82 tweets at 2021-08-25.\n",
      "Running twitter query: \"(#covid) min_faves:50 lang:en until:2021-08-27 since:2021-08-26\"\n"
     ]
    },
    {
     "name": "stderr",
     "output_type": "stream",
     "text": [
      "Stopping after 20 empty pages\n"
     ]
    },
    {
     "name": "stdout",
     "output_type": "stream",
     "text": [
      "Collected 80 tweets at 2021-08-26.\n",
      "Running twitter query: \"(#covid) min_faves:50 lang:en until:2021-08-28 since:2021-08-27\"\n"
     ]
    },
    {
     "name": "stderr",
     "output_type": "stream",
     "text": [
      "Stopping after 20 empty pages\n"
     ]
    },
    {
     "name": "stdout",
     "output_type": "stream",
     "text": [
      "Collected 101 tweets at 2021-08-27.\n",
      "Running twitter query: \"(#covid) min_faves:50 lang:en until:2021-08-29 since:2021-08-28\"\n"
     ]
    },
    {
     "name": "stderr",
     "output_type": "stream",
     "text": [
      "Stopping after 20 empty pages\n"
     ]
    },
    {
     "name": "stdout",
     "output_type": "stream",
     "text": [
      "Collected 73 tweets at 2021-08-28.\n",
      "Running twitter query: \"(#covid) min_faves:50 lang:en until:2021-08-30 since:2021-08-29\"\n"
     ]
    },
    {
     "name": "stderr",
     "output_type": "stream",
     "text": [
      "Stopping after 20 empty pages\n"
     ]
    },
    {
     "name": "stdout",
     "output_type": "stream",
     "text": [
      "Collected 74 tweets at 2021-08-29.\n",
      "Running twitter query: \"(#covid) min_faves:50 lang:en until:2021-08-31 since:2021-08-30\"\n"
     ]
    },
    {
     "name": "stderr",
     "output_type": "stream",
     "text": [
      "Stopping after 20 empty pages\n"
     ]
    },
    {
     "name": "stdout",
     "output_type": "stream",
     "text": [
      "Collected 85 tweets at 2021-08-30.\n",
      "Running twitter query: \"(#covid) min_faves:50 lang:en until:2021-09-01 since:2021-08-31\"\n"
     ]
    },
    {
     "name": "stderr",
     "output_type": "stream",
     "text": [
      "Stopping after 20 empty pages\n"
     ]
    },
    {
     "name": "stdout",
     "output_type": "stream",
     "text": [
      "Collected 70 tweets at 2021-08-31.\n",
      "Saving 2358 tweets at 2021-08.\n",
      "Running twitter query: \"(#covid) min_faves:50 lang:en until:2021-09-02 since:2021-09-01\"\n"
     ]
    },
    {
     "name": "stderr",
     "output_type": "stream",
     "text": [
      "Stopping after 20 empty pages\n"
     ]
    },
    {
     "name": "stdout",
     "output_type": "stream",
     "text": [
      "Collected 64 tweets at 2021-09-01.\n",
      "Running twitter query: \"(#covid) min_faves:50 lang:en until:2021-09-03 since:2021-09-02\"\n"
     ]
    },
    {
     "name": "stderr",
     "output_type": "stream",
     "text": [
      "Stopping after 20 empty pages\n"
     ]
    },
    {
     "name": "stdout",
     "output_type": "stream",
     "text": [
      "Collected 59 tweets at 2021-09-02.\n",
      "Running twitter query: \"(#covid) min_faves:50 lang:en until:2021-09-04 since:2021-09-03\"\n"
     ]
    },
    {
     "name": "stderr",
     "output_type": "stream",
     "text": [
      "Stopping after 20 empty pages\n"
     ]
    },
    {
     "name": "stdout",
     "output_type": "stream",
     "text": [
      "Collected 53 tweets at 2021-09-03.\n",
      "Running twitter query: \"(#covid) min_faves:50 lang:en until:2021-09-05 since:2021-09-04\"\n"
     ]
    },
    {
     "name": "stderr",
     "output_type": "stream",
     "text": [
      "Stopping after 20 empty pages\n"
     ]
    },
    {
     "name": "stdout",
     "output_type": "stream",
     "text": [
      "Collected 38 tweets at 2021-09-04.\n",
      "Running twitter query: \"(#covid) min_faves:50 lang:en until:2021-09-06 since:2021-09-05\"\n"
     ]
    },
    {
     "name": "stderr",
     "output_type": "stream",
     "text": [
      "Stopping after 20 empty pages\n"
     ]
    },
    {
     "name": "stdout",
     "output_type": "stream",
     "text": [
      "Collected 48 tweets at 2021-09-05.\n",
      "Running twitter query: \"(#covid) min_faves:50 lang:en until:2021-09-07 since:2021-09-06\"\n"
     ]
    },
    {
     "name": "stderr",
     "output_type": "stream",
     "text": [
      "Stopping after 20 empty pages\n"
     ]
    },
    {
     "name": "stdout",
     "output_type": "stream",
     "text": [
      "Collected 67 tweets at 2021-09-06.\n",
      "Running twitter query: \"(#covid) min_faves:50 lang:en until:2021-09-08 since:2021-09-07\"\n"
     ]
    },
    {
     "name": "stderr",
     "output_type": "stream",
     "text": [
      "Stopping after 20 empty pages\n"
     ]
    },
    {
     "name": "stdout",
     "output_type": "stream",
     "text": [
      "Collected 49 tweets at 2021-09-07.\n",
      "Running twitter query: \"(#covid) min_faves:50 lang:en until:2021-09-09 since:2021-09-08\"\n"
     ]
    },
    {
     "name": "stderr",
     "output_type": "stream",
     "text": [
      "Stopping after 20 empty pages\n"
     ]
    },
    {
     "name": "stdout",
     "output_type": "stream",
     "text": [
      "Collected 38 tweets at 2021-09-08.\n",
      "Running twitter query: \"(#covid) min_faves:50 lang:en until:2021-09-10 since:2021-09-09\"\n"
     ]
    },
    {
     "name": "stderr",
     "output_type": "stream",
     "text": [
      "Stopping after 20 empty pages\n"
     ]
    },
    {
     "name": "stdout",
     "output_type": "stream",
     "text": [
      "Collected 65 tweets at 2021-09-09.\n",
      "Running twitter query: \"(#covid) min_faves:50 lang:en until:2021-09-11 since:2021-09-10\"\n"
     ]
    },
    {
     "name": "stderr",
     "output_type": "stream",
     "text": [
      "Stopping after 20 empty pages\n"
     ]
    },
    {
     "name": "stdout",
     "output_type": "stream",
     "text": [
      "Collected 68 tweets at 2021-09-10.\n",
      "Running twitter query: \"(#covid) min_faves:50 lang:en until:2021-09-12 since:2021-09-11\"\n"
     ]
    },
    {
     "name": "stderr",
     "output_type": "stream",
     "text": [
      "Stopping after 20 empty pages\n"
     ]
    },
    {
     "name": "stdout",
     "output_type": "stream",
     "text": [
      "Collected 36 tweets at 2021-09-11.\n",
      "Running twitter query: \"(#covid) min_faves:50 lang:en until:2021-09-13 since:2021-09-12\"\n"
     ]
    },
    {
     "name": "stderr",
     "output_type": "stream",
     "text": [
      "Stopping after 20 empty pages\n"
     ]
    },
    {
     "name": "stdout",
     "output_type": "stream",
     "text": [
      "Collected 63 tweets at 2021-09-12.\n",
      "Running twitter query: \"(#covid) min_faves:50 lang:en until:2021-09-14 since:2021-09-13\"\n"
     ]
    },
    {
     "name": "stderr",
     "output_type": "stream",
     "text": [
      "Stopping after 20 empty pages\n"
     ]
    },
    {
     "name": "stdout",
     "output_type": "stream",
     "text": [
      "Collected 64 tweets at 2021-09-13.\n",
      "Running twitter query: \"(#covid) min_faves:50 lang:en until:2021-09-15 since:2021-09-14\"\n"
     ]
    },
    {
     "name": "stderr",
     "output_type": "stream",
     "text": [
      "Stopping after 20 empty pages\n"
     ]
    },
    {
     "name": "stdout",
     "output_type": "stream",
     "text": [
      "Collected 48 tweets at 2021-09-14.\n",
      "Running twitter query: \"(#covid) min_faves:50 lang:en until:2021-09-16 since:2021-09-15\"\n"
     ]
    },
    {
     "name": "stderr",
     "output_type": "stream",
     "text": [
      "Stopping after 20 empty pages\n"
     ]
    },
    {
     "name": "stdout",
     "output_type": "stream",
     "text": [
      "Collected 51 tweets at 2021-09-15.\n",
      "Running twitter query: \"(#covid) min_faves:50 lang:en until:2021-09-17 since:2021-09-16\"\n"
     ]
    },
    {
     "name": "stderr",
     "output_type": "stream",
     "text": [
      "Stopping after 20 empty pages\n"
     ]
    },
    {
     "name": "stdout",
     "output_type": "stream",
     "text": [
      "Collected 57 tweets at 2021-09-16.\n",
      "Running twitter query: \"(#covid) min_faves:50 lang:en until:2021-09-18 since:2021-09-17\"\n"
     ]
    },
    {
     "name": "stderr",
     "output_type": "stream",
     "text": [
      "Stopping after 20 empty pages\n"
     ]
    },
    {
     "name": "stdout",
     "output_type": "stream",
     "text": [
      "Collected 69 tweets at 2021-09-17.\n",
      "Running twitter query: \"(#covid) min_faves:50 lang:en until:2021-09-19 since:2021-09-18\"\n"
     ]
    },
    {
     "name": "stderr",
     "output_type": "stream",
     "text": [
      "Stopping after 20 empty pages\n"
     ]
    },
    {
     "name": "stdout",
     "output_type": "stream",
     "text": [
      "Collected 44 tweets at 2021-09-18.\n",
      "Running twitter query: \"(#covid) min_faves:50 lang:en until:2021-09-20 since:2021-09-19\"\n"
     ]
    },
    {
     "name": "stderr",
     "output_type": "stream",
     "text": [
      "Stopping after 20 empty pages\n"
     ]
    },
    {
     "name": "stdout",
     "output_type": "stream",
     "text": [
      "Collected 39 tweets at 2021-09-19.\n",
      "Running twitter query: \"(#covid) min_faves:50 lang:en until:2021-09-21 since:2021-09-20\"\n"
     ]
    },
    {
     "name": "stderr",
     "output_type": "stream",
     "text": [
      "Stopping after 20 empty pages\n"
     ]
    },
    {
     "name": "stdout",
     "output_type": "stream",
     "text": [
      "Collected 43 tweets at 2021-09-20.\n",
      "Running twitter query: \"(#covid) min_faves:50 lang:en until:2021-09-22 since:2021-09-21\"\n"
     ]
    },
    {
     "name": "stderr",
     "output_type": "stream",
     "text": [
      "Stopping after 20 empty pages\n"
     ]
    },
    {
     "name": "stdout",
     "output_type": "stream",
     "text": [
      "Collected 43 tweets at 2021-09-21.\n",
      "Running twitter query: \"(#covid) min_faves:50 lang:en until:2021-09-23 since:2021-09-22\"\n"
     ]
    },
    {
     "name": "stderr",
     "output_type": "stream",
     "text": [
      "Stopping after 20 empty pages\n"
     ]
    },
    {
     "name": "stdout",
     "output_type": "stream",
     "text": [
      "Collected 47 tweets at 2021-09-22.\n",
      "Running twitter query: \"(#covid) min_faves:50 lang:en until:2021-09-24 since:2021-09-23\"\n"
     ]
    },
    {
     "name": "stderr",
     "output_type": "stream",
     "text": [
      "Stopping after 20 empty pages\n"
     ]
    },
    {
     "name": "stdout",
     "output_type": "stream",
     "text": [
      "Collected 50 tweets at 2021-09-23.\n",
      "Running twitter query: \"(#covid) min_faves:50 lang:en until:2021-09-25 since:2021-09-24\"\n"
     ]
    },
    {
     "name": "stderr",
     "output_type": "stream",
     "text": [
      "Stopping after 20 empty pages\n"
     ]
    },
    {
     "name": "stdout",
     "output_type": "stream",
     "text": [
      "Collected 30 tweets at 2021-09-24.\n",
      "Running twitter query: \"(#covid) min_faves:50 lang:en until:2021-09-26 since:2021-09-25\"\n"
     ]
    },
    {
     "name": "stderr",
     "output_type": "stream",
     "text": [
      "Stopping after 20 empty pages\n"
     ]
    },
    {
     "name": "stdout",
     "output_type": "stream",
     "text": [
      "Collected 39 tweets at 2021-09-25.\n",
      "Running twitter query: \"(#covid) min_faves:50 lang:en until:2021-09-27 since:2021-09-26\"\n"
     ]
    },
    {
     "name": "stderr",
     "output_type": "stream",
     "text": [
      "Stopping after 20 empty pages\n"
     ]
    },
    {
     "name": "stdout",
     "output_type": "stream",
     "text": [
      "Collected 28 tweets at 2021-09-26.\n",
      "Running twitter query: \"(#covid) min_faves:50 lang:en until:2021-09-28 since:2021-09-27\"\n"
     ]
    },
    {
     "name": "stderr",
     "output_type": "stream",
     "text": [
      "Stopping after 20 empty pages\n"
     ]
    },
    {
     "name": "stdout",
     "output_type": "stream",
     "text": [
      "Collected 29 tweets at 2021-09-27.\n",
      "Running twitter query: \"(#covid) min_faves:50 lang:en until:2021-09-29 since:2021-09-28\"\n"
     ]
    },
    {
     "name": "stderr",
     "output_type": "stream",
     "text": [
      "Stopping after 20 empty pages\n"
     ]
    },
    {
     "name": "stdout",
     "output_type": "stream",
     "text": [
      "Collected 30 tweets at 2021-09-28.\n",
      "Running twitter query: \"(#covid) min_faves:50 lang:en until:2021-09-30 since:2021-09-29\"\n"
     ]
    },
    {
     "name": "stderr",
     "output_type": "stream",
     "text": [
      "Stopping after 20 empty pages\n"
     ]
    },
    {
     "name": "stdout",
     "output_type": "stream",
     "text": [
      "Collected 43 tweets at 2021-09-29.\n",
      "Running twitter query: \"(#covid) min_faves:50 lang:en until:2021-10-01 since:2021-09-30\"\n"
     ]
    },
    {
     "name": "stderr",
     "output_type": "stream",
     "text": [
      "Stopping after 20 empty pages\n"
     ]
    },
    {
     "name": "stdout",
     "output_type": "stream",
     "text": [
      "Collected 43 tweets at 2021-09-30.\n",
      "Saving 1475 tweets at 2021-09.\n",
      "Running twitter query: \"(#covid) min_faves:50 lang:en until:2021-10-02 since:2021-10-01\"\n"
     ]
    },
    {
     "name": "stderr",
     "output_type": "stream",
     "text": [
      "Stopping after 20 empty pages\n"
     ]
    },
    {
     "name": "stdout",
     "output_type": "stream",
     "text": [
      "Collected 39 tweets at 2021-10-01.\n",
      "Running twitter query: \"(#covid) min_faves:50 lang:en until:2021-10-03 since:2021-10-02\"\n"
     ]
    },
    {
     "name": "stderr",
     "output_type": "stream",
     "text": [
      "Stopping after 20 empty pages\n"
     ]
    },
    {
     "name": "stdout",
     "output_type": "stream",
     "text": [
      "Collected 32 tweets at 2021-10-02.\n",
      "Running twitter query: \"(#covid) min_faves:50 lang:en until:2021-10-04 since:2021-10-03\"\n"
     ]
    },
    {
     "name": "stderr",
     "output_type": "stream",
     "text": [
      "Stopping after 20 empty pages\n"
     ]
    },
    {
     "name": "stdout",
     "output_type": "stream",
     "text": [
      "Collected 24 tweets at 2021-10-03.\n",
      "Running twitter query: \"(#covid) min_faves:50 lang:en until:2021-10-05 since:2021-10-04\"\n"
     ]
    },
    {
     "name": "stderr",
     "output_type": "stream",
     "text": [
      "Stopping after 20 empty pages\n"
     ]
    },
    {
     "name": "stdout",
     "output_type": "stream",
     "text": [
      "Collected 26 tweets at 2021-10-04.\n",
      "Running twitter query: \"(#covid) min_faves:50 lang:en until:2021-10-06 since:2021-10-05\"\n"
     ]
    },
    {
     "name": "stderr",
     "output_type": "stream",
     "text": [
      "Stopping after 20 empty pages\n"
     ]
    },
    {
     "name": "stdout",
     "output_type": "stream",
     "text": [
      "Collected 30 tweets at 2021-10-05.\n",
      "Running twitter query: \"(#covid) min_faves:50 lang:en until:2021-10-07 since:2021-10-06\"\n"
     ]
    },
    {
     "name": "stderr",
     "output_type": "stream",
     "text": [
      "Stopping after 20 empty pages\n"
     ]
    },
    {
     "name": "stdout",
     "output_type": "stream",
     "text": [
      "Collected 33 tweets at 2021-10-06.\n",
      "Running twitter query: \"(#covid) min_faves:50 lang:en until:2021-10-08 since:2021-10-07\"\n"
     ]
    },
    {
     "name": "stderr",
     "output_type": "stream",
     "text": [
      "Stopping after 20 empty pages\n"
     ]
    },
    {
     "name": "stdout",
     "output_type": "stream",
     "text": [
      "Collected 37 tweets at 2021-10-07.\n",
      "Running twitter query: \"(#covid) min_faves:50 lang:en until:2021-10-09 since:2021-10-08\"\n"
     ]
    },
    {
     "name": "stderr",
     "output_type": "stream",
     "text": [
      "Stopping after 20 empty pages\n"
     ]
    },
    {
     "name": "stdout",
     "output_type": "stream",
     "text": [
      "Collected 35 tweets at 2021-10-08.\n",
      "Running twitter query: \"(#covid) min_faves:50 lang:en until:2021-10-10 since:2021-10-09\"\n"
     ]
    },
    {
     "name": "stderr",
     "output_type": "stream",
     "text": [
      "Stopping after 20 empty pages\n"
     ]
    },
    {
     "name": "stdout",
     "output_type": "stream",
     "text": [
      "Collected 29 tweets at 2021-10-09.\n",
      "Running twitter query: \"(#covid) min_faves:50 lang:en until:2021-10-11 since:2021-10-10\"\n"
     ]
    },
    {
     "name": "stderr",
     "output_type": "stream",
     "text": [
      "Stopping after 20 empty pages\n"
     ]
    },
    {
     "name": "stdout",
     "output_type": "stream",
     "text": [
      "Collected 20 tweets at 2021-10-10.\n",
      "Running twitter query: \"(#covid) min_faves:50 lang:en until:2021-10-12 since:2021-10-11\"\n"
     ]
    },
    {
     "name": "stderr",
     "output_type": "stream",
     "text": [
      "Stopping after 20 empty pages\n"
     ]
    },
    {
     "name": "stdout",
     "output_type": "stream",
     "text": [
      "Collected 46 tweets at 2021-10-11.\n",
      "Running twitter query: \"(#covid) min_faves:50 lang:en until:2021-10-13 since:2021-10-12\"\n"
     ]
    },
    {
     "name": "stderr",
     "output_type": "stream",
     "text": [
      "Stopping after 20 empty pages\n"
     ]
    },
    {
     "name": "stdout",
     "output_type": "stream",
     "text": [
      "Collected 58 tweets at 2021-10-12.\n",
      "Running twitter query: \"(#covid) min_faves:50 lang:en until:2021-10-14 since:2021-10-13\"\n"
     ]
    },
    {
     "name": "stderr",
     "output_type": "stream",
     "text": [
      "Stopping after 20 empty pages\n"
     ]
    },
    {
     "name": "stdout",
     "output_type": "stream",
     "text": [
      "Collected 30 tweets at 2021-10-13.\n",
      "Running twitter query: \"(#covid) min_faves:50 lang:en until:2021-10-15 since:2021-10-14\"\n"
     ]
    },
    {
     "name": "stderr",
     "output_type": "stream",
     "text": [
      "Stopping after 20 empty pages\n"
     ]
    },
    {
     "name": "stdout",
     "output_type": "stream",
     "text": [
      "Collected 43 tweets at 2021-10-14.\n",
      "Running twitter query: \"(#covid) min_faves:50 lang:en until:2021-10-16 since:2021-10-15\"\n"
     ]
    },
    {
     "name": "stderr",
     "output_type": "stream",
     "text": [
      "Stopping after 20 empty pages\n"
     ]
    },
    {
     "name": "stdout",
     "output_type": "stream",
     "text": [
      "Collected 37 tweets at 2021-10-15.\n",
      "Running twitter query: \"(#covid) min_faves:50 lang:en until:2021-10-17 since:2021-10-16\"\n"
     ]
    },
    {
     "name": "stderr",
     "output_type": "stream",
     "text": [
      "Stopping after 20 empty pages\n"
     ]
    },
    {
     "name": "stdout",
     "output_type": "stream",
     "text": [
      "Collected 27 tweets at 2021-10-16.\n",
      "Running twitter query: \"(#covid) min_faves:50 lang:en until:2021-10-18 since:2021-10-17\"\n"
     ]
    },
    {
     "name": "stderr",
     "output_type": "stream",
     "text": [
      "Stopping after 20 empty pages\n"
     ]
    },
    {
     "name": "stdout",
     "output_type": "stream",
     "text": [
      "Collected 33 tweets at 2021-10-17.\n",
      "Running twitter query: \"(#covid) min_faves:50 lang:en until:2021-10-19 since:2021-10-18\"\n"
     ]
    },
    {
     "name": "stderr",
     "output_type": "stream",
     "text": [
      "Stopping after 20 empty pages\n"
     ]
    },
    {
     "name": "stdout",
     "output_type": "stream",
     "text": [
      "Collected 44 tweets at 2021-10-18.\n",
      "Running twitter query: \"(#covid) min_faves:50 lang:en until:2021-10-20 since:2021-10-19\"\n"
     ]
    },
    {
     "name": "stderr",
     "output_type": "stream",
     "text": [
      "Stopping after 20 empty pages\n"
     ]
    },
    {
     "name": "stdout",
     "output_type": "stream",
     "text": [
      "Collected 31 tweets at 2021-10-19.\n",
      "Running twitter query: \"(#covid) min_faves:50 lang:en until:2021-10-21 since:2021-10-20\"\n"
     ]
    },
    {
     "name": "stderr",
     "output_type": "stream",
     "text": [
      "Stopping after 20 empty pages\n"
     ]
    },
    {
     "name": "stdout",
     "output_type": "stream",
     "text": [
      "Collected 55 tweets at 2021-10-20.\n",
      "Running twitter query: \"(#covid) min_faves:50 lang:en until:2021-10-22 since:2021-10-21\"\n"
     ]
    },
    {
     "name": "stderr",
     "output_type": "stream",
     "text": [
      "Stopping after 20 empty pages\n"
     ]
    },
    {
     "name": "stdout",
     "output_type": "stream",
     "text": [
      "Collected 60 tweets at 2021-10-21.\n",
      "Running twitter query: \"(#covid) min_faves:50 lang:en until:2021-10-23 since:2021-10-22\"\n"
     ]
    },
    {
     "name": "stderr",
     "output_type": "stream",
     "text": [
      "Stopping after 20 empty pages\n"
     ]
    },
    {
     "name": "stdout",
     "output_type": "stream",
     "text": [
      "Collected 44 tweets at 2021-10-22.\n",
      "Running twitter query: \"(#covid) min_faves:50 lang:en until:2021-10-24 since:2021-10-23\"\n"
     ]
    },
    {
     "name": "stderr",
     "output_type": "stream",
     "text": [
      "Stopping after 20 empty pages\n"
     ]
    },
    {
     "name": "stdout",
     "output_type": "stream",
     "text": [
      "Collected 28 tweets at 2021-10-23.\n",
      "Running twitter query: \"(#covid) min_faves:50 lang:en until:2021-10-25 since:2021-10-24\"\n"
     ]
    },
    {
     "name": "stderr",
     "output_type": "stream",
     "text": [
      "Stopping after 20 empty pages\n"
     ]
    },
    {
     "name": "stdout",
     "output_type": "stream",
     "text": [
      "Collected 40 tweets at 2021-10-24.\n",
      "Running twitter query: \"(#covid) min_faves:50 lang:en until:2021-10-26 since:2021-10-25\"\n"
     ]
    },
    {
     "name": "stderr",
     "output_type": "stream",
     "text": [
      "Stopping after 20 empty pages\n"
     ]
    },
    {
     "name": "stdout",
     "output_type": "stream",
     "text": [
      "Collected 36 tweets at 2021-10-25.\n",
      "Running twitter query: \"(#covid) min_faves:50 lang:en until:2021-10-27 since:2021-10-26\"\n"
     ]
    },
    {
     "name": "stderr",
     "output_type": "stream",
     "text": [
      "Stopping after 20 empty pages\n"
     ]
    },
    {
     "name": "stdout",
     "output_type": "stream",
     "text": [
      "Collected 36 tweets at 2021-10-26.\n",
      "Running twitter query: \"(#covid) min_faves:50 lang:en until:2021-10-28 since:2021-10-27\"\n"
     ]
    },
    {
     "name": "stderr",
     "output_type": "stream",
     "text": [
      "Stopping after 20 empty pages\n"
     ]
    },
    {
     "name": "stdout",
     "output_type": "stream",
     "text": [
      "Collected 39 tweets at 2021-10-27.\n",
      "Running twitter query: \"(#covid) min_faves:50 lang:en until:2021-10-29 since:2021-10-28\"\n"
     ]
    },
    {
     "name": "stderr",
     "output_type": "stream",
     "text": [
      "Stopping after 20 empty pages\n"
     ]
    },
    {
     "name": "stdout",
     "output_type": "stream",
     "text": [
      "Collected 29 tweets at 2021-10-28.\n",
      "Running twitter query: \"(#covid) min_faves:50 lang:en until:2021-10-30 since:2021-10-29\"\n"
     ]
    },
    {
     "name": "stderr",
     "output_type": "stream",
     "text": [
      "Stopping after 20 empty pages\n"
     ]
    },
    {
     "name": "stdout",
     "output_type": "stream",
     "text": [
      "Collected 34 tweets at 2021-10-29.\n",
      "Running twitter query: \"(#covid) min_faves:50 lang:en until:2021-10-31 since:2021-10-30\"\n"
     ]
    },
    {
     "name": "stderr",
     "output_type": "stream",
     "text": [
      "Stopping after 20 empty pages\n"
     ]
    },
    {
     "name": "stdout",
     "output_type": "stream",
     "text": [
      "Collected 31 tweets at 2021-10-30.\n",
      "Running twitter query: \"(#covid) min_faves:50 lang:en until:2021-11-01 since:2021-10-31\"\n"
     ]
    },
    {
     "name": "stderr",
     "output_type": "stream",
     "text": [
      "Stopping after 20 empty pages\n"
     ]
    },
    {
     "name": "stdout",
     "output_type": "stream",
     "text": [
      "Collected 30 tweets at 2021-10-31.\n",
      "Saving 1147 tweets at 2021-10.\n",
      "Running twitter query: \"(#covid) min_faves:50 lang:en until:2021-11-02 since:2021-11-01\"\n"
     ]
    },
    {
     "name": "stderr",
     "output_type": "stream",
     "text": [
      "Stopping after 20 empty pages\n"
     ]
    },
    {
     "name": "stdout",
     "output_type": "stream",
     "text": [
      "Collected 37 tweets at 2021-11-01.\n",
      "Running twitter query: \"(#covid) min_faves:50 lang:en until:2021-11-03 since:2021-11-02\"\n"
     ]
    },
    {
     "name": "stderr",
     "output_type": "stream",
     "text": [
      "Stopping after 20 empty pages\n"
     ]
    },
    {
     "name": "stdout",
     "output_type": "stream",
     "text": [
      "Collected 37 tweets at 2021-11-02.\n",
      "Running twitter query: \"(#covid) min_faves:50 lang:en until:2021-11-04 since:2021-11-03\"\n"
     ]
    },
    {
     "name": "stderr",
     "output_type": "stream",
     "text": [
      "Stopping after 20 empty pages\n"
     ]
    },
    {
     "name": "stdout",
     "output_type": "stream",
     "text": [
      "Collected 46 tweets at 2021-11-03.\n",
      "Running twitter query: \"(#covid) min_faves:50 lang:en until:2021-11-05 since:2021-11-04\"\n"
     ]
    },
    {
     "name": "stderr",
     "output_type": "stream",
     "text": [
      "Stopping after 20 empty pages\n"
     ]
    },
    {
     "name": "stdout",
     "output_type": "stream",
     "text": [
      "Collected 35 tweets at 2021-11-04.\n",
      "Running twitter query: \"(#covid) min_faves:50 lang:en until:2021-11-06 since:2021-11-05\"\n"
     ]
    },
    {
     "name": "stderr",
     "output_type": "stream",
     "text": [
      "Stopping after 20 empty pages\n"
     ]
    },
    {
     "name": "stdout",
     "output_type": "stream",
     "text": [
      "Collected 43 tweets at 2021-11-05.\n",
      "Running twitter query: \"(#covid) min_faves:50 lang:en until:2021-11-07 since:2021-11-06\"\n"
     ]
    },
    {
     "name": "stderr",
     "output_type": "stream",
     "text": [
      "Stopping after 20 empty pages\n"
     ]
    },
    {
     "name": "stdout",
     "output_type": "stream",
     "text": [
      "Collected 21 tweets at 2021-11-06.\n",
      "Running twitter query: \"(#covid) min_faves:50 lang:en until:2021-11-08 since:2021-11-07\"\n"
     ]
    },
    {
     "name": "stderr",
     "output_type": "stream",
     "text": [
      "Stopping after 20 empty pages\n"
     ]
    },
    {
     "name": "stdout",
     "output_type": "stream",
     "text": [
      "Collected 29 tweets at 2021-11-07.\n",
      "Running twitter query: \"(#covid) min_faves:50 lang:en until:2021-11-09 since:2021-11-08\"\n"
     ]
    },
    {
     "name": "stderr",
     "output_type": "stream",
     "text": [
      "Stopping after 20 empty pages\n"
     ]
    },
    {
     "name": "stdout",
     "output_type": "stream",
     "text": [
      "Collected 34 tweets at 2021-11-08.\n",
      "Running twitter query: \"(#covid) min_faves:50 lang:en until:2021-11-10 since:2021-11-09\"\n"
     ]
    },
    {
     "name": "stderr",
     "output_type": "stream",
     "text": [
      "Stopping after 20 empty pages\n"
     ]
    },
    {
     "name": "stdout",
     "output_type": "stream",
     "text": [
      "Collected 31 tweets at 2021-11-09.\n",
      "Running twitter query: \"(#covid) min_faves:50 lang:en until:2021-11-11 since:2021-11-10\"\n"
     ]
    },
    {
     "name": "stderr",
     "output_type": "stream",
     "text": [
      "Stopping after 20 empty pages\n"
     ]
    },
    {
     "name": "stdout",
     "output_type": "stream",
     "text": [
      "Collected 33 tweets at 2021-11-10.\n",
      "Running twitter query: \"(#covid) min_faves:50 lang:en until:2021-11-12 since:2021-11-11\"\n"
     ]
    },
    {
     "name": "stderr",
     "output_type": "stream",
     "text": [
      "Stopping after 20 empty pages\n"
     ]
    },
    {
     "name": "stdout",
     "output_type": "stream",
     "text": [
      "Collected 29 tweets at 2021-11-11.\n",
      "Running twitter query: \"(#covid) min_faves:50 lang:en until:2021-11-13 since:2021-11-12\"\n"
     ]
    },
    {
     "name": "stderr",
     "output_type": "stream",
     "text": [
      "Stopping after 20 empty pages\n"
     ]
    },
    {
     "name": "stdout",
     "output_type": "stream",
     "text": [
      "Collected 29 tweets at 2021-11-12.\n",
      "Running twitter query: \"(#covid) min_faves:50 lang:en until:2021-11-14 since:2021-11-13\"\n"
     ]
    },
    {
     "name": "stderr",
     "output_type": "stream",
     "text": [
      "Stopping after 20 empty pages\n"
     ]
    },
    {
     "name": "stdout",
     "output_type": "stream",
     "text": [
      "Collected 19 tweets at 2021-11-13.\n",
      "Running twitter query: \"(#covid) min_faves:50 lang:en until:2021-11-15 since:2021-11-14\"\n"
     ]
    },
    {
     "name": "stderr",
     "output_type": "stream",
     "text": [
      "Stopping after 20 empty pages\n"
     ]
    },
    {
     "name": "stdout",
     "output_type": "stream",
     "text": [
      "Collected 25 tweets at 2021-11-14.\n",
      "Running twitter query: \"(#covid) min_faves:50 lang:en until:2021-11-16 since:2021-11-15\"\n"
     ]
    },
    {
     "name": "stderr",
     "output_type": "stream",
     "text": [
      "Stopping after 20 empty pages\n"
     ]
    },
    {
     "name": "stdout",
     "output_type": "stream",
     "text": [
      "Collected 47 tweets at 2021-11-15.\n",
      "Running twitter query: \"(#covid) min_faves:50 lang:en until:2021-11-17 since:2021-11-16\"\n"
     ]
    },
    {
     "name": "stderr",
     "output_type": "stream",
     "text": [
      "Stopping after 20 empty pages\n"
     ]
    },
    {
     "name": "stdout",
     "output_type": "stream",
     "text": [
      "Collected 33 tweets at 2021-11-16.\n",
      "Running twitter query: \"(#covid) min_faves:50 lang:en until:2021-11-18 since:2021-11-17\"\n"
     ]
    },
    {
     "name": "stderr",
     "output_type": "stream",
     "text": [
      "Stopping after 20 empty pages\n"
     ]
    },
    {
     "name": "stdout",
     "output_type": "stream",
     "text": [
      "Collected 38 tweets at 2021-11-17.\n",
      "Running twitter query: \"(#covid) min_faves:50 lang:en until:2021-11-19 since:2021-11-18\"\n"
     ]
    },
    {
     "name": "stderr",
     "output_type": "stream",
     "text": [
      "Stopping after 20 empty pages\n"
     ]
    },
    {
     "name": "stdout",
     "output_type": "stream",
     "text": [
      "Collected 31 tweets at 2021-11-18.\n",
      "Running twitter query: \"(#covid) min_faves:50 lang:en until:2021-11-20 since:2021-11-19\"\n"
     ]
    },
    {
     "name": "stderr",
     "output_type": "stream",
     "text": [
      "Stopping after 20 empty pages\n"
     ]
    },
    {
     "name": "stdout",
     "output_type": "stream",
     "text": [
      "Collected 25 tweets at 2021-11-19.\n",
      "Running twitter query: \"(#covid) min_faves:50 lang:en until:2021-11-21 since:2021-11-20\"\n"
     ]
    },
    {
     "name": "stderr",
     "output_type": "stream",
     "text": [
      "Stopping after 20 empty pages\n"
     ]
    },
    {
     "name": "stdout",
     "output_type": "stream",
     "text": [
      "Collected 23 tweets at 2021-11-20.\n",
      "Running twitter query: \"(#covid) min_faves:50 lang:en until:2021-11-22 since:2021-11-21\"\n"
     ]
    },
    {
     "name": "stderr",
     "output_type": "stream",
     "text": [
      "Stopping after 20 empty pages\n"
     ]
    },
    {
     "name": "stdout",
     "output_type": "stream",
     "text": [
      "Collected 22 tweets at 2021-11-21.\n",
      "Running twitter query: \"(#covid) min_faves:50 lang:en until:2021-11-23 since:2021-11-22\"\n"
     ]
    },
    {
     "name": "stderr",
     "output_type": "stream",
     "text": [
      "Stopping after 20 empty pages\n"
     ]
    },
    {
     "name": "stdout",
     "output_type": "stream",
     "text": [
      "Collected 31 tweets at 2021-11-22.\n",
      "Running twitter query: \"(#covid) min_faves:50 lang:en until:2021-11-24 since:2021-11-23\"\n"
     ]
    },
    {
     "name": "stderr",
     "output_type": "stream",
     "text": [
      "Stopping after 20 empty pages\n"
     ]
    },
    {
     "name": "stdout",
     "output_type": "stream",
     "text": [
      "Collected 31 tweets at 2021-11-23.\n",
      "Running twitter query: \"(#covid) min_faves:50 lang:en until:2021-11-25 since:2021-11-24\"\n"
     ]
    },
    {
     "name": "stderr",
     "output_type": "stream",
     "text": [
      "Stopping after 20 empty pages\n"
     ]
    },
    {
     "name": "stdout",
     "output_type": "stream",
     "text": [
      "Collected 40 tweets at 2021-11-24.\n",
      "Running twitter query: \"(#covid) min_faves:50 lang:en until:2021-11-26 since:2021-11-25\"\n"
     ]
    },
    {
     "name": "stderr",
     "output_type": "stream",
     "text": [
      "Stopping after 20 empty pages\n"
     ]
    },
    {
     "name": "stdout",
     "output_type": "stream",
     "text": [
      "Collected 32 tweets at 2021-11-25.\n",
      "Running twitter query: \"(#covid) min_faves:50 lang:en until:2021-11-27 since:2021-11-26\"\n"
     ]
    },
    {
     "name": "stderr",
     "output_type": "stream",
     "text": [
      "Stopping after 20 empty pages\n"
     ]
    },
    {
     "name": "stdout",
     "output_type": "stream",
     "text": [
      "Collected 68 tweets at 2021-11-26.\n",
      "Running twitter query: \"(#covid) min_faves:50 lang:en until:2021-11-28 since:2021-11-27\"\n"
     ]
    },
    {
     "name": "stderr",
     "output_type": "stream",
     "text": [
      "Stopping after 20 empty pages\n"
     ]
    },
    {
     "name": "stdout",
     "output_type": "stream",
     "text": [
      "Collected 76 tweets at 2021-11-27.\n",
      "Running twitter query: \"(#covid) min_faves:50 lang:en until:2021-11-29 since:2021-11-28\"\n"
     ]
    },
    {
     "name": "stderr",
     "output_type": "stream",
     "text": [
      "Stopping after 20 empty pages\n"
     ]
    },
    {
     "name": "stdout",
     "output_type": "stream",
     "text": [
      "Collected 78 tweets at 2021-11-28.\n",
      "Running twitter query: \"(#covid) min_faves:50 lang:en until:2021-11-30 since:2021-11-29\"\n"
     ]
    },
    {
     "name": "stderr",
     "output_type": "stream",
     "text": [
      "Stopping after 20 empty pages\n"
     ]
    },
    {
     "name": "stdout",
     "output_type": "stream",
     "text": [
      "Collected 52 tweets at 2021-11-29.\n",
      "Running twitter query: \"(#covid) min_faves:50 lang:en until:2021-12-01 since:2021-11-30\"\n"
     ]
    },
    {
     "name": "stderr",
     "output_type": "stream",
     "text": [
      "Stopping after 20 empty pages\n"
     ]
    },
    {
     "name": "stdout",
     "output_type": "stream",
     "text": [
      "Collected 51 tweets at 2021-11-30.\n",
      "Saving 1156 tweets at 2021-11.\n",
      "Running twitter query: \"(#covid) min_faves:50 lang:en until:2021-12-02 since:2021-12-01\"\n"
     ]
    },
    {
     "name": "stderr",
     "output_type": "stream",
     "text": [
      "Stopping after 20 empty pages\n"
     ]
    },
    {
     "name": "stdout",
     "output_type": "stream",
     "text": [
      "Collected 38 tweets at 2021-12-01.\n",
      "Running twitter query: \"(#covid) min_faves:50 lang:en until:2021-12-03 since:2021-12-02\"\n"
     ]
    },
    {
     "name": "stderr",
     "output_type": "stream",
     "text": [
      "Stopping after 20 empty pages\n"
     ]
    },
    {
     "name": "stdout",
     "output_type": "stream",
     "text": [
      "Collected 45 tweets at 2021-12-02.\n",
      "Running twitter query: \"(#covid) min_faves:50 lang:en until:2021-12-04 since:2021-12-03\"\n"
     ]
    },
    {
     "name": "stderr",
     "output_type": "stream",
     "text": [
      "Stopping after 20 empty pages\n"
     ]
    },
    {
     "name": "stdout",
     "output_type": "stream",
     "text": [
      "Collected 31 tweets at 2021-12-03.\n",
      "Running twitter query: \"(#covid) min_faves:50 lang:en until:2021-12-05 since:2021-12-04\"\n"
     ]
    },
    {
     "name": "stderr",
     "output_type": "stream",
     "text": [
      "Stopping after 20 empty pages\n"
     ]
    },
    {
     "name": "stdout",
     "output_type": "stream",
     "text": [
      "Collected 39 tweets at 2021-12-04.\n",
      "Running twitter query: \"(#covid) min_faves:50 lang:en until:2021-12-06 since:2021-12-05\"\n"
     ]
    },
    {
     "name": "stderr",
     "output_type": "stream",
     "text": [
      "Stopping after 20 empty pages\n"
     ]
    },
    {
     "name": "stdout",
     "output_type": "stream",
     "text": [
      "Collected 36 tweets at 2021-12-05.\n",
      "Running twitter query: \"(#covid) min_faves:50 lang:en until:2021-12-07 since:2021-12-06\"\n"
     ]
    },
    {
     "name": "stderr",
     "output_type": "stream",
     "text": [
      "Stopping after 20 empty pages\n"
     ]
    },
    {
     "name": "stdout",
     "output_type": "stream",
     "text": [
      "Collected 39 tweets at 2021-12-06.\n",
      "Running twitter query: \"(#covid) min_faves:50 lang:en until:2021-12-08 since:2021-12-07\"\n"
     ]
    },
    {
     "name": "stderr",
     "output_type": "stream",
     "text": [
      "Stopping after 20 empty pages\n"
     ]
    },
    {
     "name": "stdout",
     "output_type": "stream",
     "text": [
      "Collected 36 tweets at 2021-12-07.\n",
      "Running twitter query: \"(#covid) min_faves:50 lang:en until:2021-12-09 since:2021-12-08\"\n"
     ]
    },
    {
     "name": "stderr",
     "output_type": "stream",
     "text": [
      "Stopping after 20 empty pages\n"
     ]
    },
    {
     "name": "stdout",
     "output_type": "stream",
     "text": [
      "Collected 44 tweets at 2021-12-08.\n",
      "Running twitter query: \"(#covid) min_faves:50 lang:en until:2021-12-10 since:2021-12-09\"\n"
     ]
    },
    {
     "name": "stderr",
     "output_type": "stream",
     "text": [
      "Stopping after 20 empty pages\n"
     ]
    },
    {
     "name": "stdout",
     "output_type": "stream",
     "text": [
      "Collected 54 tweets at 2021-12-09.\n",
      "Running twitter query: \"(#covid) min_faves:50 lang:en until:2021-12-11 since:2021-12-10\"\n"
     ]
    },
    {
     "name": "stderr",
     "output_type": "stream",
     "text": [
      "Stopping after 20 empty pages\n"
     ]
    },
    {
     "name": "stdout",
     "output_type": "stream",
     "text": [
      "Collected 50 tweets at 2021-12-10.\n",
      "Running twitter query: \"(#covid) min_faves:50 lang:en until:2021-12-12 since:2021-12-11\"\n"
     ]
    },
    {
     "name": "stderr",
     "output_type": "stream",
     "text": [
      "Stopping after 20 empty pages\n"
     ]
    },
    {
     "name": "stdout",
     "output_type": "stream",
     "text": [
      "Collected 39 tweets at 2021-12-11.\n",
      "Running twitter query: \"(#covid) min_faves:50 lang:en until:2021-12-13 since:2021-12-12\"\n"
     ]
    },
    {
     "name": "stderr",
     "output_type": "stream",
     "text": [
      "Stopping after 20 empty pages\n"
     ]
    },
    {
     "name": "stdout",
     "output_type": "stream",
     "text": [
      "Collected 34 tweets at 2021-12-12.\n",
      "Running twitter query: \"(#covid) min_faves:50 lang:en until:2021-12-14 since:2021-12-13\"\n"
     ]
    },
    {
     "name": "stderr",
     "output_type": "stream",
     "text": [
      "Stopping after 20 empty pages\n"
     ]
    },
    {
     "name": "stdout",
     "output_type": "stream",
     "text": [
      "Collected 60 tweets at 2021-12-13.\n",
      "Running twitter query: \"(#covid) min_faves:50 lang:en until:2021-12-15 since:2021-12-14\"\n"
     ]
    },
    {
     "name": "stderr",
     "output_type": "stream",
     "text": [
      "Stopping after 20 empty pages\n"
     ]
    },
    {
     "name": "stdout",
     "output_type": "stream",
     "text": [
      "Collected 61 tweets at 2021-12-14.\n",
      "Running twitter query: \"(#covid) min_faves:50 lang:en until:2021-12-16 since:2021-12-15\"\n"
     ]
    },
    {
     "name": "stderr",
     "output_type": "stream",
     "text": [
      "Stopping after 20 empty pages\n"
     ]
    },
    {
     "name": "stdout",
     "output_type": "stream",
     "text": [
      "Collected 59 tweets at 2021-12-15.\n",
      "Running twitter query: \"(#covid) min_faves:50 lang:en until:2021-12-17 since:2021-12-16\"\n"
     ]
    },
    {
     "name": "stderr",
     "output_type": "stream",
     "text": [
      "Stopping after 20 empty pages\n"
     ]
    },
    {
     "name": "stdout",
     "output_type": "stream",
     "text": [
      "Collected 73 tweets at 2021-12-16.\n",
      "Running twitter query: \"(#covid) min_faves:50 lang:en until:2021-12-18 since:2021-12-17\"\n"
     ]
    },
    {
     "name": "stderr",
     "output_type": "stream",
     "text": [
      "Stopping after 20 empty pages\n"
     ]
    },
    {
     "name": "stdout",
     "output_type": "stream",
     "text": [
      "Collected 54 tweets at 2021-12-17.\n",
      "Running twitter query: \"(#covid) min_faves:50 lang:en until:2021-12-19 since:2021-12-18\"\n"
     ]
    },
    {
     "name": "stderr",
     "output_type": "stream",
     "text": [
      "Stopping after 20 empty pages\n"
     ]
    },
    {
     "name": "stdout",
     "output_type": "stream",
     "text": [
      "Collected 70 tweets at 2021-12-18.\n",
      "Running twitter query: \"(#covid) min_faves:50 lang:en until:2021-12-20 since:2021-12-19\"\n"
     ]
    },
    {
     "name": "stderr",
     "output_type": "stream",
     "text": [
      "Stopping after 20 empty pages\n"
     ]
    },
    {
     "name": "stdout",
     "output_type": "stream",
     "text": [
      "Collected 62 tweets at 2021-12-19.\n",
      "Running twitter query: \"(#covid) min_faves:50 lang:en until:2021-12-21 since:2021-12-20\"\n"
     ]
    },
    {
     "name": "stderr",
     "output_type": "stream",
     "text": [
      "Stopping after 20 empty pages\n"
     ]
    },
    {
     "name": "stdout",
     "output_type": "stream",
     "text": [
      "Collected 90 tweets at 2021-12-20.\n",
      "Running twitter query: \"(#covid) min_faves:50 lang:en until:2021-12-22 since:2021-12-21\"\n"
     ]
    },
    {
     "name": "stderr",
     "output_type": "stream",
     "text": [
      "Stopping after 20 empty pages\n"
     ]
    },
    {
     "name": "stdout",
     "output_type": "stream",
     "text": [
      "Collected 73 tweets at 2021-12-21.\n",
      "Running twitter query: \"(#covid) min_faves:50 lang:en until:2021-12-23 since:2021-12-22\"\n"
     ]
    },
    {
     "name": "stderr",
     "output_type": "stream",
     "text": [
      "Stopping after 20 empty pages\n"
     ]
    },
    {
     "name": "stdout",
     "output_type": "stream",
     "text": [
      "Collected 101 tweets at 2021-12-22.\n",
      "Running twitter query: \"(#covid) min_faves:50 lang:en until:2021-12-24 since:2021-12-23\"\n"
     ]
    },
    {
     "name": "stderr",
     "output_type": "stream",
     "text": [
      "Stopping after 20 empty pages\n"
     ]
    },
    {
     "name": "stdout",
     "output_type": "stream",
     "text": [
      "Collected 80 tweets at 2021-12-23.\n",
      "Running twitter query: \"(#covid) min_faves:50 lang:en until:2021-12-25 since:2021-12-24\"\n"
     ]
    },
    {
     "name": "stderr",
     "output_type": "stream",
     "text": [
      "Stopping after 20 empty pages\n"
     ]
    },
    {
     "name": "stdout",
     "output_type": "stream",
     "text": [
      "Collected 59 tweets at 2021-12-24.\n",
      "Running twitter query: \"(#covid) min_faves:50 lang:en until:2021-12-26 since:2021-12-25\"\n"
     ]
    },
    {
     "name": "stderr",
     "output_type": "stream",
     "text": [
      "Stopping after 20 empty pages\n"
     ]
    },
    {
     "name": "stdout",
     "output_type": "stream",
     "text": [
      "Collected 25 tweets at 2021-12-25.\n",
      "Running twitter query: \"(#covid) min_faves:50 lang:en until:2021-12-27 since:2021-12-26\"\n"
     ]
    },
    {
     "name": "stderr",
     "output_type": "stream",
     "text": [
      "Stopping after 20 empty pages\n"
     ]
    },
    {
     "name": "stdout",
     "output_type": "stream",
     "text": [
      "Collected 76 tweets at 2021-12-26.\n",
      "Running twitter query: \"(#covid) min_faves:50 lang:en until:2021-12-28 since:2021-12-27\"\n"
     ]
    },
    {
     "name": "stderr",
     "output_type": "stream",
     "text": [
      "Stopping after 20 empty pages\n"
     ]
    },
    {
     "name": "stdout",
     "output_type": "stream",
     "text": [
      "Collected 91 tweets at 2021-12-27.\n",
      "Running twitter query: \"(#covid) min_faves:50 lang:en until:2021-12-29 since:2021-12-28\"\n"
     ]
    },
    {
     "name": "stderr",
     "output_type": "stream",
     "text": [
      "Stopping after 20 empty pages\n"
     ]
    },
    {
     "name": "stdout",
     "output_type": "stream",
     "text": [
      "Collected 88 tweets at 2021-12-28.\n",
      "Running twitter query: \"(#covid) min_faves:50 lang:en until:2021-12-30 since:2021-12-29\"\n"
     ]
    },
    {
     "name": "stderr",
     "output_type": "stream",
     "text": [
      "Stopping after 20 empty pages\n"
     ]
    },
    {
     "name": "stdout",
     "output_type": "stream",
     "text": [
      "Collected 97 tweets at 2021-12-29.\n",
      "Running twitter query: \"(#covid) min_faves:50 lang:en until:2021-12-31 since:2021-12-30\"\n"
     ]
    },
    {
     "name": "stderr",
     "output_type": "stream",
     "text": [
      "Stopping after 20 empty pages\n"
     ]
    },
    {
     "name": "stdout",
     "output_type": "stream",
     "text": [
      "Collected 102 tweets at 2021-12-30.\n",
      "Running twitter query: \"(#covid) min_faves:50 lang:en until:2022-01-01 since:2021-12-31\"\n"
     ]
    },
    {
     "name": "stderr",
     "output_type": "stream",
     "text": [
      "Stopping after 20 empty pages\n"
     ]
    },
    {
     "name": "stdout",
     "output_type": "stream",
     "text": [
      "Collected 70 tweets at 2021-12-31.\n",
      "Saving 1907 tweets at 2021-12.\n",
      "Running twitter query: \"(#covid) min_faves:50 lang:en until:2022-01-02 since:2022-01-01\"\n"
     ]
    },
    {
     "name": "stderr",
     "output_type": "stream",
     "text": [
      "Stopping after 20 empty pages\n"
     ]
    },
    {
     "name": "stdout",
     "output_type": "stream",
     "text": [
      "Collected 60 tweets at 2022-01-01.\n",
      "Running twitter query: \"(#covid) min_faves:50 lang:en until:2022-01-03 since:2022-01-02\"\n"
     ]
    },
    {
     "name": "stderr",
     "output_type": "stream",
     "text": [
      "Stopping after 20 empty pages\n"
     ]
    },
    {
     "name": "stdout",
     "output_type": "stream",
     "text": [
      "Collected 83 tweets at 2022-01-02.\n",
      "Running twitter query: \"(#covid) min_faves:50 lang:en until:2022-01-04 since:2022-01-03\"\n"
     ]
    },
    {
     "name": "stderr",
     "output_type": "stream",
     "text": [
      "Stopping after 20 empty pages\n"
     ]
    },
    {
     "name": "stdout",
     "output_type": "stream",
     "text": [
      "Collected 87 tweets at 2022-01-03.\n",
      "Running twitter query: \"(#covid) min_faves:50 lang:en until:2022-01-05 since:2022-01-04\"\n"
     ]
    },
    {
     "name": "stderr",
     "output_type": "stream",
     "text": [
      "Stopping after 20 empty pages\n"
     ]
    },
    {
     "name": "stdout",
     "output_type": "stream",
     "text": [
      "Collected 107 tweets at 2022-01-04.\n",
      "Running twitter query: \"(#covid) min_faves:50 lang:en until:2022-01-06 since:2022-01-05\"\n"
     ]
    },
    {
     "name": "stderr",
     "output_type": "stream",
     "text": [
      "Stopping after 20 empty pages\n"
     ]
    },
    {
     "name": "stdout",
     "output_type": "stream",
     "text": [
      "Collected 82 tweets at 2022-01-05.\n",
      "Running twitter query: \"(#covid) min_faves:50 lang:en until:2022-01-07 since:2022-01-06\"\n"
     ]
    },
    {
     "name": "stderr",
     "output_type": "stream",
     "text": [
      "Stopping after 20 empty pages\n"
     ]
    },
    {
     "name": "stdout",
     "output_type": "stream",
     "text": [
      "Collected 105 tweets at 2022-01-06.\n",
      "Running twitter query: \"(#covid) min_faves:50 lang:en until:2022-01-08 since:2022-01-07\"\n"
     ]
    },
    {
     "name": "stderr",
     "output_type": "stream",
     "text": [
      "Stopping after 20 empty pages\n"
     ]
    },
    {
     "name": "stdout",
     "output_type": "stream",
     "text": [
      "Collected 139 tweets at 2022-01-07.\n",
      "Running twitter query: \"(#covid) min_faves:50 lang:en until:2022-01-09 since:2022-01-08\"\n"
     ]
    },
    {
     "name": "stderr",
     "output_type": "stream",
     "text": [
      "Stopping after 20 empty pages\n"
     ]
    },
    {
     "name": "stdout",
     "output_type": "stream",
     "text": [
      "Collected 103 tweets at 2022-01-08.\n",
      "Running twitter query: \"(#covid) min_faves:50 lang:en until:2022-01-10 since:2022-01-09\"\n"
     ]
    },
    {
     "name": "stderr",
     "output_type": "stream",
     "text": [
      "Stopping after 20 empty pages\n"
     ]
    },
    {
     "name": "stdout",
     "output_type": "stream",
     "text": [
      "Collected 115 tweets at 2022-01-09.\n",
      "Running twitter query: \"(#covid) min_faves:50 lang:en until:2022-01-11 since:2022-01-10\"\n"
     ]
    },
    {
     "name": "stderr",
     "output_type": "stream",
     "text": [
      "Stopping after 20 empty pages\n"
     ]
    },
    {
     "name": "stdout",
     "output_type": "stream",
     "text": [
      "Collected 112 tweets at 2022-01-10.\n",
      "Running twitter query: \"(#covid) min_faves:50 lang:en until:2022-01-12 since:2022-01-11\"\n"
     ]
    },
    {
     "name": "stderr",
     "output_type": "stream",
     "text": [
      "Stopping after 20 empty pages\n"
     ]
    },
    {
     "name": "stdout",
     "output_type": "stream",
     "text": [
      "Collected 92 tweets at 2022-01-11.\n",
      "Running twitter query: \"(#covid) min_faves:50 lang:en until:2022-01-13 since:2022-01-12\"\n"
     ]
    },
    {
     "name": "stderr",
     "output_type": "stream",
     "text": [
      "Stopping after 20 empty pages\n"
     ]
    },
    {
     "name": "stdout",
     "output_type": "stream",
     "text": [
      "Collected 110 tweets at 2022-01-12.\n",
      "Running twitter query: \"(#covid) min_faves:50 lang:en until:2022-01-14 since:2022-01-13\"\n"
     ]
    },
    {
     "name": "stderr",
     "output_type": "stream",
     "text": [
      "Stopping after 20 empty pages\n"
     ]
    },
    {
     "name": "stdout",
     "output_type": "stream",
     "text": [
      "Collected 78 tweets at 2022-01-13.\n",
      "Running twitter query: \"(#covid) min_faves:50 lang:en until:2022-01-15 since:2022-01-14\"\n"
     ]
    },
    {
     "name": "stderr",
     "output_type": "stream",
     "text": [
      "Empty user ref object in card on tweet 1482080147486429185\n",
      "Empty user ref object in card on tweet 1482080147486429185\n",
      "User 4503599629184530 not found in user refs in card on tweet 1482080147486429185\n",
      "User 4503599629184530 not found in user refs in card on tweet 1482080147486429185\n",
      "Stopping after 20 empty pages\n"
     ]
    },
    {
     "name": "stdout",
     "output_type": "stream",
     "text": [
      "Collected 85 tweets at 2022-01-14.\n",
      "Running twitter query: \"(#covid) min_faves:50 lang:en until:2022-01-16 since:2022-01-15\"\n"
     ]
    },
    {
     "name": "stderr",
     "output_type": "stream",
     "text": [
      "Stopping after 20 empty pages\n"
     ]
    },
    {
     "name": "stdout",
     "output_type": "stream",
     "text": [
      "Collected 50 tweets at 2022-01-15.\n",
      "Running twitter query: \"(#covid) min_faves:50 lang:en until:2022-01-17 since:2022-01-16\"\n"
     ]
    },
    {
     "name": "stderr",
     "output_type": "stream",
     "text": [
      "Stopping after 20 empty pages\n"
     ]
    },
    {
     "name": "stdout",
     "output_type": "stream",
     "text": [
      "Collected 75 tweets at 2022-01-16.\n",
      "Running twitter query: \"(#covid) min_faves:50 lang:en until:2022-01-18 since:2022-01-17\"\n"
     ]
    },
    {
     "name": "stderr",
     "output_type": "stream",
     "text": [
      "Stopping after 20 empty pages\n"
     ]
    },
    {
     "name": "stdout",
     "output_type": "stream",
     "text": [
      "Collected 62 tweets at 2022-01-17.\n",
      "Running twitter query: \"(#covid) min_faves:50 lang:en until:2022-01-19 since:2022-01-18\"\n"
     ]
    },
    {
     "name": "stderr",
     "output_type": "stream",
     "text": [
      "Stopping after 20 empty pages\n"
     ]
    },
    {
     "name": "stdout",
     "output_type": "stream",
     "text": [
      "Collected 76 tweets at 2022-01-18.\n",
      "Running twitter query: \"(#covid) min_faves:50 lang:en until:2022-01-20 since:2022-01-19\"\n"
     ]
    },
    {
     "name": "stderr",
     "output_type": "stream",
     "text": [
      "Stopping after 20 empty pages\n"
     ]
    },
    {
     "name": "stdout",
     "output_type": "stream",
     "text": [
      "Collected 87 tweets at 2022-01-19.\n",
      "Running twitter query: \"(#covid) min_faves:50 lang:en until:2022-01-21 since:2022-01-20\"\n"
     ]
    },
    {
     "name": "stderr",
     "output_type": "stream",
     "text": [
      "Stopping after 20 empty pages\n"
     ]
    },
    {
     "name": "stdout",
     "output_type": "stream",
     "text": [
      "Collected 67 tweets at 2022-01-20.\n",
      "Running twitter query: \"(#covid) min_faves:50 lang:en until:2022-01-22 since:2022-01-21\"\n"
     ]
    },
    {
     "name": "stderr",
     "output_type": "stream",
     "text": [
      "Stopping after 20 empty pages\n"
     ]
    },
    {
     "name": "stdout",
     "output_type": "stream",
     "text": [
      "Collected 67 tweets at 2022-01-21.\n",
      "Running twitter query: \"(#covid) min_faves:50 lang:en until:2022-01-23 since:2022-01-22\"\n"
     ]
    },
    {
     "name": "stderr",
     "output_type": "stream",
     "text": [
      "Stopping after 20 empty pages\n"
     ]
    },
    {
     "name": "stdout",
     "output_type": "stream",
     "text": [
      "Collected 59 tweets at 2022-01-22.\n",
      "Running twitter query: \"(#covid) min_faves:50 lang:en until:2022-01-24 since:2022-01-23\"\n"
     ]
    },
    {
     "name": "stderr",
     "output_type": "stream",
     "text": [
      "Stopping after 20 empty pages\n"
     ]
    },
    {
     "name": "stdout",
     "output_type": "stream",
     "text": [
      "Collected 67 tweets at 2022-01-23.\n",
      "Running twitter query: \"(#covid) min_faves:50 lang:en until:2022-01-25 since:2022-01-24\"\n"
     ]
    },
    {
     "name": "stderr",
     "output_type": "stream",
     "text": [
      "Stopping after 20 empty pages\n"
     ]
    },
    {
     "name": "stdout",
     "output_type": "stream",
     "text": [
      "Collected 75 tweets at 2022-01-24.\n",
      "Running twitter query: \"(#covid) min_faves:50 lang:en until:2022-01-26 since:2022-01-25\"\n"
     ]
    },
    {
     "name": "stderr",
     "output_type": "stream",
     "text": [
      "Stopping after 20 empty pages\n"
     ]
    },
    {
     "name": "stdout",
     "output_type": "stream",
     "text": [
      "Collected 67 tweets at 2022-01-25.\n",
      "Running twitter query: \"(#covid) min_faves:50 lang:en until:2022-01-27 since:2022-01-26\"\n"
     ]
    },
    {
     "name": "stderr",
     "output_type": "stream",
     "text": [
      "Stopping after 20 empty pages\n"
     ]
    },
    {
     "name": "stdout",
     "output_type": "stream",
     "text": [
      "Collected 53 tweets at 2022-01-26.\n",
      "Running twitter query: \"(#covid) min_faves:50 lang:en until:2022-01-28 since:2022-01-27\"\n"
     ]
    },
    {
     "name": "stderr",
     "output_type": "stream",
     "text": [
      "Stopping after 20 empty pages\n"
     ]
    },
    {
     "name": "stdout",
     "output_type": "stream",
     "text": [
      "Collected 69 tweets at 2022-01-27.\n",
      "Running twitter query: \"(#covid) min_faves:50 lang:en until:2022-01-29 since:2022-01-28\"\n"
     ]
    },
    {
     "name": "stderr",
     "output_type": "stream",
     "text": [
      "Stopping after 20 empty pages\n"
     ]
    },
    {
     "name": "stdout",
     "output_type": "stream",
     "text": [
      "Collected 56 tweets at 2022-01-28.\n",
      "Running twitter query: \"(#covid) min_faves:50 lang:en until:2022-01-30 since:2022-01-29\"\n"
     ]
    },
    {
     "name": "stderr",
     "output_type": "stream",
     "text": [
      "Stopping after 20 empty pages\n"
     ]
    },
    {
     "name": "stdout",
     "output_type": "stream",
     "text": [
      "Collected 52 tweets at 2022-01-29.\n",
      "Running twitter query: \"(#covid) min_faves:50 lang:en until:2022-01-31 since:2022-01-30\"\n"
     ]
    },
    {
     "name": "stderr",
     "output_type": "stream",
     "text": [
      "Stopping after 20 empty pages\n"
     ]
    },
    {
     "name": "stdout",
     "output_type": "stream",
     "text": [
      "Collected 43 tweets at 2022-01-30.\n",
      "Running twitter query: \"(#covid) min_faves:50 lang:en until:2022-02-01 since:2022-01-31\"\n"
     ]
    },
    {
     "name": "stderr",
     "output_type": "stream",
     "text": [
      "Stopping after 20 empty pages\n"
     ]
    },
    {
     "name": "stdout",
     "output_type": "stream",
     "text": [
      "Collected 47 tweets at 2022-01-31.\n",
      "Saving 2461 tweets at 2022-01.\n",
      "Running twitter query: \"(#covid) min_faves:50 lang:en until:2022-02-02 since:2022-02-01\"\n"
     ]
    },
    {
     "name": "stderr",
     "output_type": "stream",
     "text": [
      "Stopping after 20 empty pages\n"
     ]
    },
    {
     "name": "stdout",
     "output_type": "stream",
     "text": [
      "Collected 33 tweets at 2022-02-01.\n",
      "Running twitter query: \"(#covid) min_faves:50 lang:en until:2022-02-03 since:2022-02-02\"\n"
     ]
    },
    {
     "name": "stderr",
     "output_type": "stream",
     "text": [
      "Stopping after 20 empty pages\n"
     ]
    },
    {
     "name": "stdout",
     "output_type": "stream",
     "text": [
      "Collected 45 tweets at 2022-02-02.\n",
      "Running twitter query: \"(#covid) min_faves:50 lang:en until:2022-02-04 since:2022-02-03\"\n"
     ]
    },
    {
     "name": "stderr",
     "output_type": "stream",
     "text": [
      "Stopping after 20 empty pages\n"
     ]
    },
    {
     "name": "stdout",
     "output_type": "stream",
     "text": [
      "Collected 49 tweets at 2022-02-03.\n",
      "Running twitter query: \"(#covid) min_faves:50 lang:en until:2022-02-05 since:2022-02-04\"\n"
     ]
    },
    {
     "name": "stderr",
     "output_type": "stream",
     "text": [
      "Stopping after 20 empty pages\n"
     ]
    },
    {
     "name": "stdout",
     "output_type": "stream",
     "text": [
      "Collected 50 tweets at 2022-02-04.\n",
      "Running twitter query: \"(#covid) min_faves:50 lang:en until:2022-02-06 since:2022-02-05\"\n"
     ]
    },
    {
     "name": "stderr",
     "output_type": "stream",
     "text": [
      "Stopping after 20 empty pages\n"
     ]
    },
    {
     "name": "stdout",
     "output_type": "stream",
     "text": [
      "Collected 33 tweets at 2022-02-05.\n",
      "Running twitter query: \"(#covid) min_faves:50 lang:en until:2022-02-07 since:2022-02-06\"\n"
     ]
    },
    {
     "name": "stderr",
     "output_type": "stream",
     "text": [
      "Stopping after 20 empty pages\n"
     ]
    },
    {
     "name": "stdout",
     "output_type": "stream",
     "text": [
      "Collected 53 tweets at 2022-02-06.\n",
      "Running twitter query: \"(#covid) min_faves:50 lang:en until:2022-02-08 since:2022-02-07\"\n"
     ]
    },
    {
     "name": "stderr",
     "output_type": "stream",
     "text": [
      "Stopping after 20 empty pages\n"
     ]
    },
    {
     "name": "stdout",
     "output_type": "stream",
     "text": [
      "Collected 48 tweets at 2022-02-07.\n",
      "Running twitter query: \"(#covid) min_faves:50 lang:en until:2022-02-09 since:2022-02-08\"\n"
     ]
    },
    {
     "name": "stderr",
     "output_type": "stream",
     "text": [
      "Stopping after 20 empty pages\n"
     ]
    },
    {
     "name": "stdout",
     "output_type": "stream",
     "text": [
      "Collected 42 tweets at 2022-02-08.\n",
      "Running twitter query: \"(#covid) min_faves:50 lang:en until:2022-02-10 since:2022-02-09\"\n"
     ]
    },
    {
     "name": "stderr",
     "output_type": "stream",
     "text": [
      "Stopping after 20 empty pages\n"
     ]
    },
    {
     "name": "stdout",
     "output_type": "stream",
     "text": [
      "Collected 35 tweets at 2022-02-09.\n",
      "Running twitter query: \"(#covid) min_faves:50 lang:en until:2022-02-11 since:2022-02-10\"\n"
     ]
    },
    {
     "name": "stderr",
     "output_type": "stream",
     "text": [
      "Stopping after 20 empty pages\n"
     ]
    },
    {
     "name": "stdout",
     "output_type": "stream",
     "text": [
      "Collected 55 tweets at 2022-02-10.\n",
      "Running twitter query: \"(#covid) min_faves:50 lang:en until:2022-02-12 since:2022-02-11\"\n"
     ]
    },
    {
     "name": "stderr",
     "output_type": "stream",
     "text": [
      "Stopping after 20 empty pages\n"
     ]
    },
    {
     "name": "stdout",
     "output_type": "stream",
     "text": [
      "Collected 40 tweets at 2022-02-11.\n",
      "Running twitter query: \"(#covid) min_faves:50 lang:en until:2022-02-13 since:2022-02-12\"\n"
     ]
    },
    {
     "name": "stderr",
     "output_type": "stream",
     "text": [
      "Stopping after 20 empty pages\n"
     ]
    },
    {
     "name": "stdout",
     "output_type": "stream",
     "text": [
      "Collected 30 tweets at 2022-02-12.\n",
      "Running twitter query: \"(#covid) min_faves:50 lang:en until:2022-02-14 since:2022-02-13\"\n"
     ]
    },
    {
     "name": "stderr",
     "output_type": "stream",
     "text": [
      "Stopping after 20 empty pages\n"
     ]
    },
    {
     "name": "stdout",
     "output_type": "stream",
     "text": [
      "Collected 25 tweets at 2022-02-13.\n",
      "Running twitter query: \"(#covid) min_faves:50 lang:en until:2022-02-15 since:2022-02-14\"\n"
     ]
    },
    {
     "name": "stderr",
     "output_type": "stream",
     "text": [
      "Stopping after 20 empty pages\n"
     ]
    },
    {
     "name": "stdout",
     "output_type": "stream",
     "text": [
      "Collected 34 tweets at 2022-02-14.\n",
      "Running twitter query: \"(#covid) min_faves:50 lang:en until:2022-02-16 since:2022-02-15\"\n"
     ]
    },
    {
     "name": "stderr",
     "output_type": "stream",
     "text": [
      "Stopping after 20 empty pages\n"
     ]
    },
    {
     "name": "stdout",
     "output_type": "stream",
     "text": [
      "Collected 39 tweets at 2022-02-15.\n",
      "Running twitter query: \"(#covid) min_faves:50 lang:en until:2022-02-17 since:2022-02-16\"\n"
     ]
    },
    {
     "name": "stderr",
     "output_type": "stream",
     "text": [
      "Stopping after 20 empty pages\n"
     ]
    },
    {
     "name": "stdout",
     "output_type": "stream",
     "text": [
      "Collected 50 tweets at 2022-02-16.\n",
      "Running twitter query: \"(#covid) min_faves:50 lang:en until:2022-02-18 since:2022-02-17\"\n"
     ]
    },
    {
     "name": "stderr",
     "output_type": "stream",
     "text": [
      "Stopping after 20 empty pages\n"
     ]
    },
    {
     "name": "stdout",
     "output_type": "stream",
     "text": [
      "Collected 37 tweets at 2022-02-17.\n",
      "Running twitter query: \"(#covid) min_faves:50 lang:en until:2022-02-19 since:2022-02-18\"\n"
     ]
    },
    {
     "name": "stderr",
     "output_type": "stream",
     "text": [
      "Stopping after 20 empty pages\n"
     ]
    },
    {
     "name": "stdout",
     "output_type": "stream",
     "text": [
      "Collected 40 tweets at 2022-02-18.\n",
      "Running twitter query: \"(#covid) min_faves:50 lang:en until:2022-02-20 since:2022-02-19\"\n"
     ]
    },
    {
     "name": "stderr",
     "output_type": "stream",
     "text": [
      "Stopping after 20 empty pages\n"
     ]
    },
    {
     "name": "stdout",
     "output_type": "stream",
     "text": [
      "Collected 25 tweets at 2022-02-19.\n",
      "Running twitter query: \"(#covid) min_faves:50 lang:en until:2022-02-21 since:2022-02-20\"\n"
     ]
    },
    {
     "name": "stderr",
     "output_type": "stream",
     "text": [
      "Stopping after 20 empty pages\n"
     ]
    },
    {
     "name": "stdout",
     "output_type": "stream",
     "text": [
      "Collected 51 tweets at 2022-02-20.\n",
      "Running twitter query: \"(#covid) min_faves:50 lang:en until:2022-02-22 since:2022-02-21\"\n"
     ]
    },
    {
     "name": "stderr",
     "output_type": "stream",
     "text": [
      "Stopping after 20 empty pages\n"
     ]
    },
    {
     "name": "stdout",
     "output_type": "stream",
     "text": [
      "Collected 76 tweets at 2022-02-21.\n",
      "Running twitter query: \"(#covid) min_faves:50 lang:en until:2022-02-23 since:2022-02-22\"\n"
     ]
    },
    {
     "name": "stderr",
     "output_type": "stream",
     "text": [
      "Stopping after 20 empty pages\n"
     ]
    },
    {
     "name": "stdout",
     "output_type": "stream",
     "text": [
      "Collected 40 tweets at 2022-02-22.\n",
      "Running twitter query: \"(#covid) min_faves:50 lang:en until:2022-02-24 since:2022-02-23\"\n"
     ]
    },
    {
     "name": "stderr",
     "output_type": "stream",
     "text": [
      "Stopping after 20 empty pages\n"
     ]
    },
    {
     "name": "stdout",
     "output_type": "stream",
     "text": [
      "Collected 32 tweets at 2022-02-23.\n",
      "Running twitter query: \"(#covid) min_faves:50 lang:en until:2022-02-25 since:2022-02-24\"\n"
     ]
    },
    {
     "name": "stderr",
     "output_type": "stream",
     "text": [
      "Stopping after 20 empty pages\n"
     ]
    },
    {
     "name": "stdout",
     "output_type": "stream",
     "text": [
      "Collected 34 tweets at 2022-02-24.\n",
      "Running twitter query: \"(#covid) min_faves:50 lang:en until:2022-02-26 since:2022-02-25\"\n"
     ]
    },
    {
     "name": "stderr",
     "output_type": "stream",
     "text": [
      "Stopping after 20 empty pages\n"
     ]
    },
    {
     "name": "stdout",
     "output_type": "stream",
     "text": [
      "Collected 28 tweets at 2022-02-25.\n",
      "Running twitter query: \"(#covid) min_faves:50 lang:en until:2022-02-27 since:2022-02-26\"\n"
     ]
    },
    {
     "name": "stderr",
     "output_type": "stream",
     "text": [
      "Stopping after 20 empty pages\n"
     ]
    },
    {
     "name": "stdout",
     "output_type": "stream",
     "text": [
      "Collected 15 tweets at 2022-02-26.\n",
      "Running twitter query: \"(#covid) min_faves:50 lang:en until:2022-02-28 since:2022-02-27\"\n"
     ]
    },
    {
     "name": "stderr",
     "output_type": "stream",
     "text": [
      "Stopping after 20 empty pages\n"
     ]
    },
    {
     "name": "stdout",
     "output_type": "stream",
     "text": [
      "Collected 25 tweets at 2022-02-27.\n",
      "Running twitter query: \"(#covid) min_faves:50 lang:en until:2022-03-01 since:2022-02-28\"\n"
     ]
    },
    {
     "name": "stderr",
     "output_type": "stream",
     "text": [
      "Stopping after 20 empty pages\n"
     ]
    },
    {
     "name": "stdout",
     "output_type": "stream",
     "text": [
      "Collected 34 tweets at 2022-02-28.\n",
      "Saving 1126 tweets at 2022-02.\n",
      "Running twitter query: \"(#covid) min_faves:50 lang:en until:2022-03-02 since:2022-03-01\"\n"
     ]
    },
    {
     "name": "stderr",
     "output_type": "stream",
     "text": [
      "Stopping after 20 empty pages\n"
     ]
    },
    {
     "name": "stdout",
     "output_type": "stream",
     "text": [
      "Collected 40 tweets at 2022-03-01.\n",
      "Running twitter query: \"(#covid) min_faves:50 lang:en until:2022-03-03 since:2022-03-02\"\n"
     ]
    },
    {
     "name": "stderr",
     "output_type": "stream",
     "text": [
      "Stopping after 20 empty pages\n"
     ]
    },
    {
     "name": "stdout",
     "output_type": "stream",
     "text": [
      "Collected 37 tweets at 2022-03-02.\n",
      "Running twitter query: \"(#covid) min_faves:50 lang:en until:2022-03-04 since:2022-03-03\"\n"
     ]
    },
    {
     "name": "stderr",
     "output_type": "stream",
     "text": [
      "Stopping after 20 empty pages\n"
     ]
    },
    {
     "name": "stdout",
     "output_type": "stream",
     "text": [
      "Collected 20 tweets at 2022-03-03.\n",
      "Running twitter query: \"(#covid) min_faves:50 lang:en until:2022-03-05 since:2022-03-04\"\n"
     ]
    },
    {
     "name": "stderr",
     "output_type": "stream",
     "text": [
      "Stopping after 20 empty pages\n"
     ]
    },
    {
     "name": "stdout",
     "output_type": "stream",
     "text": [
      "Collected 33 tweets at 2022-03-04.\n",
      "Running twitter query: \"(#covid) min_faves:50 lang:en until:2022-03-06 since:2022-03-05\"\n"
     ]
    },
    {
     "name": "stderr",
     "output_type": "stream",
     "text": [
      "Stopping after 20 empty pages\n"
     ]
    },
    {
     "name": "stdout",
     "output_type": "stream",
     "text": [
      "Collected 31 tweets at 2022-03-05.\n",
      "Running twitter query: \"(#covid) min_faves:50 lang:en until:2022-03-07 since:2022-03-06\"\n"
     ]
    },
    {
     "name": "stderr",
     "output_type": "stream",
     "text": [
      "Stopping after 20 empty pages\n"
     ]
    },
    {
     "name": "stdout",
     "output_type": "stream",
     "text": [
      "Collected 18 tweets at 2022-03-06.\n",
      "Running twitter query: \"(#covid) min_faves:50 lang:en until:2022-03-08 since:2022-03-07\"\n"
     ]
    },
    {
     "name": "stderr",
     "output_type": "stream",
     "text": [
      "Stopping after 20 empty pages\n"
     ]
    },
    {
     "name": "stdout",
     "output_type": "stream",
     "text": [
      "Collected 27 tweets at 2022-03-07.\n",
      "Running twitter query: \"(#covid) min_faves:50 lang:en until:2022-03-09 since:2022-03-08\"\n"
     ]
    },
    {
     "name": "stderr",
     "output_type": "stream",
     "text": [
      "Stopping after 20 empty pages\n"
     ]
    },
    {
     "name": "stdout",
     "output_type": "stream",
     "text": [
      "Collected 26 tweets at 2022-03-08.\n",
      "Running twitter query: \"(#covid) min_faves:50 lang:en until:2022-03-10 since:2022-03-09\"\n"
     ]
    },
    {
     "name": "stderr",
     "output_type": "stream",
     "text": [
      "Stopping after 20 empty pages\n"
     ]
    },
    {
     "name": "stdout",
     "output_type": "stream",
     "text": [
      "Collected 28 tweets at 2022-03-09.\n",
      "Running twitter query: \"(#covid) min_faves:50 lang:en until:2022-03-11 since:2022-03-10\"\n"
     ]
    },
    {
     "name": "stderr",
     "output_type": "stream",
     "text": [
      "Stopping after 20 empty pages\n"
     ]
    },
    {
     "name": "stdout",
     "output_type": "stream",
     "text": [
      "Collected 30 tweets at 2022-03-10.\n",
      "Running twitter query: \"(#covid) min_faves:50 lang:en until:2022-03-12 since:2022-03-11\"\n"
     ]
    },
    {
     "name": "stderr",
     "output_type": "stream",
     "text": [
      "Stopping after 20 empty pages\n"
     ]
    },
    {
     "name": "stdout",
     "output_type": "stream",
     "text": [
      "Collected 35 tweets at 2022-03-11.\n",
      "Running twitter query: \"(#covid) min_faves:50 lang:en until:2022-03-13 since:2022-03-12\"\n"
     ]
    },
    {
     "name": "stderr",
     "output_type": "stream",
     "text": [
      "Stopping after 20 empty pages\n"
     ]
    },
    {
     "name": "stdout",
     "output_type": "stream",
     "text": [
      "Collected 28 tweets at 2022-03-12.\n",
      "Running twitter query: \"(#covid) min_faves:50 lang:en until:2022-03-14 since:2022-03-13\"\n"
     ]
    },
    {
     "name": "stderr",
     "output_type": "stream",
     "text": [
      "Stopping after 20 empty pages\n"
     ]
    },
    {
     "name": "stdout",
     "output_type": "stream",
     "text": [
      "Collected 33 tweets at 2022-03-13.\n",
      "Running twitter query: \"(#covid) min_faves:50 lang:en until:2022-03-15 since:2022-03-14\"\n"
     ]
    },
    {
     "name": "stderr",
     "output_type": "stream",
     "text": [
      "Stopping after 20 empty pages\n"
     ]
    },
    {
     "name": "stdout",
     "output_type": "stream",
     "text": [
      "Collected 44 tweets at 2022-03-14.\n",
      "Running twitter query: \"(#covid) min_faves:50 lang:en until:2022-03-16 since:2022-03-15\"\n"
     ]
    },
    {
     "name": "stderr",
     "output_type": "stream",
     "text": [
      "Stopping after 20 empty pages\n"
     ]
    },
    {
     "name": "stdout",
     "output_type": "stream",
     "text": [
      "Collected 45 tweets at 2022-03-15.\n",
      "Running twitter query: \"(#covid) min_faves:50 lang:en until:2022-03-17 since:2022-03-16\"\n"
     ]
    },
    {
     "name": "stderr",
     "output_type": "stream",
     "text": [
      "Stopping after 20 empty pages\n"
     ]
    },
    {
     "name": "stdout",
     "output_type": "stream",
     "text": [
      "Collected 37 tweets at 2022-03-16.\n",
      "Running twitter query: \"(#covid) min_faves:50 lang:en until:2022-03-18 since:2022-03-17\"\n"
     ]
    },
    {
     "name": "stderr",
     "output_type": "stream",
     "text": [
      "Stopping after 20 empty pages\n"
     ]
    },
    {
     "name": "stdout",
     "output_type": "stream",
     "text": [
      "Collected 30 tweets at 2022-03-17.\n",
      "Running twitter query: \"(#covid) min_faves:50 lang:en until:2022-03-19 since:2022-03-18\"\n"
     ]
    },
    {
     "name": "stderr",
     "output_type": "stream",
     "text": [
      "Stopping after 20 empty pages\n"
     ]
    },
    {
     "name": "stdout",
     "output_type": "stream",
     "text": [
      "Collected 38 tweets at 2022-03-18.\n",
      "Running twitter query: \"(#covid) min_faves:50 lang:en until:2022-03-20 since:2022-03-19\"\n"
     ]
    },
    {
     "name": "stderr",
     "output_type": "stream",
     "text": [
      "Stopping after 20 empty pages\n"
     ]
    },
    {
     "name": "stdout",
     "output_type": "stream",
     "text": [
      "Collected 27 tweets at 2022-03-19.\n",
      "Running twitter query: \"(#covid) min_faves:50 lang:en until:2022-03-21 since:2022-03-20\"\n"
     ]
    },
    {
     "name": "stderr",
     "output_type": "stream",
     "text": [
      "Stopping after 20 empty pages\n"
     ]
    },
    {
     "name": "stdout",
     "output_type": "stream",
     "text": [
      "Collected 24 tweets at 2022-03-20.\n",
      "Running twitter query: \"(#covid) min_faves:50 lang:en until:2022-03-22 since:2022-03-21\"\n"
     ]
    },
    {
     "name": "stderr",
     "output_type": "stream",
     "text": [
      "Stopping after 20 empty pages\n"
     ]
    },
    {
     "name": "stdout",
     "output_type": "stream",
     "text": [
      "Collected 31 tweets at 2022-03-21.\n",
      "Running twitter query: \"(#covid) min_faves:50 lang:en until:2022-03-23 since:2022-03-22\"\n"
     ]
    },
    {
     "name": "stderr",
     "output_type": "stream",
     "text": [
      "Stopping after 20 empty pages\n"
     ]
    },
    {
     "name": "stdout",
     "output_type": "stream",
     "text": [
      "Collected 29 tweets at 2022-03-22.\n",
      "Running twitter query: \"(#covid) min_faves:50 lang:en until:2022-03-24 since:2022-03-23\"\n"
     ]
    },
    {
     "name": "stderr",
     "output_type": "stream",
     "text": [
      "Stopping after 20 empty pages\n"
     ]
    },
    {
     "name": "stdout",
     "output_type": "stream",
     "text": [
      "Collected 42 tweets at 2022-03-23.\n",
      "Running twitter query: \"(#covid) min_faves:50 lang:en until:2022-03-25 since:2022-03-24\"\n"
     ]
    },
    {
     "name": "stderr",
     "output_type": "stream",
     "text": [
      "Stopping after 20 empty pages\n"
     ]
    },
    {
     "name": "stdout",
     "output_type": "stream",
     "text": [
      "Collected 32 tweets at 2022-03-24.\n",
      "Running twitter query: \"(#covid) min_faves:50 lang:en until:2022-03-26 since:2022-03-25\"\n"
     ]
    },
    {
     "name": "stderr",
     "output_type": "stream",
     "text": [
      "Stopping after 20 empty pages\n"
     ]
    },
    {
     "name": "stdout",
     "output_type": "stream",
     "text": [
      "Collected 25 tweets at 2022-03-25.\n",
      "Running twitter query: \"(#covid) min_faves:50 lang:en until:2022-03-27 since:2022-03-26\"\n"
     ]
    },
    {
     "name": "stderr",
     "output_type": "stream",
     "text": [
      "Stopping after 20 empty pages\n"
     ]
    },
    {
     "name": "stdout",
     "output_type": "stream",
     "text": [
      "Collected 15 tweets at 2022-03-26.\n",
      "Running twitter query: \"(#covid) min_faves:50 lang:en until:2022-03-28 since:2022-03-27\"\n"
     ]
    },
    {
     "name": "stderr",
     "output_type": "stream",
     "text": [
      "Stopping after 20 empty pages\n"
     ]
    },
    {
     "name": "stdout",
     "output_type": "stream",
     "text": [
      "Collected 24 tweets at 2022-03-27.\n",
      "Running twitter query: \"(#covid) min_faves:50 lang:en until:2022-03-29 since:2022-03-28\"\n"
     ]
    },
    {
     "name": "stderr",
     "output_type": "stream",
     "text": [
      "Stopping after 20 empty pages\n"
     ]
    },
    {
     "name": "stdout",
     "output_type": "stream",
     "text": [
      "Collected 18 tweets at 2022-03-28.\n",
      "Running twitter query: \"(#covid) min_faves:50 lang:en until:2022-03-30 since:2022-03-29\"\n"
     ]
    },
    {
     "name": "stderr",
     "output_type": "stream",
     "text": [
      "Stopping after 20 empty pages\n"
     ]
    },
    {
     "name": "stdout",
     "output_type": "stream",
     "text": [
      "Collected 44 tweets at 2022-03-29.\n",
      "Running twitter query: \"(#covid) min_faves:50 lang:en until:2022-03-31 since:2022-03-30\"\n"
     ]
    },
    {
     "name": "stderr",
     "output_type": "stream",
     "text": [
      "Stopping after 20 empty pages\n"
     ]
    },
    {
     "name": "stdout",
     "output_type": "stream",
     "text": [
      "Collected 31 tweets at 2022-03-30.\n",
      "Running twitter query: \"(#covid) min_faves:50 lang:en until:2022-04-01 since:2022-03-31\"\n"
     ]
    },
    {
     "name": "stderr",
     "output_type": "stream",
     "text": [
      "Stopping after 20 empty pages\n"
     ]
    },
    {
     "name": "stdout",
     "output_type": "stream",
     "text": [
      "Collected 36 tweets at 2022-03-31.\n",
      "Saving 989 tweets at 2022-03.\n",
      "Running twitter query: \"(#covid) min_faves:50 lang:en until:2022-04-02 since:2022-04-01\"\n"
     ]
    },
    {
     "name": "stderr",
     "output_type": "stream",
     "text": [
      "Stopping after 20 empty pages\n"
     ]
    },
    {
     "name": "stdout",
     "output_type": "stream",
     "text": [
      "Collected 27 tweets at 2022-04-01.\n",
      "Running twitter query: \"(#covid) min_faves:50 lang:en until:2022-04-03 since:2022-04-02\"\n"
     ]
    },
    {
     "name": "stderr",
     "output_type": "stream",
     "text": [
      "Stopping after 20 empty pages\n"
     ]
    },
    {
     "name": "stdout",
     "output_type": "stream",
     "text": [
      "Collected 27 tweets at 2022-04-02.\n",
      "Running twitter query: \"(#covid) min_faves:50 lang:en until:2022-04-04 since:2022-04-03\"\n"
     ]
    },
    {
     "name": "stderr",
     "output_type": "stream",
     "text": [
      "Stopping after 20 empty pages\n"
     ]
    },
    {
     "name": "stdout",
     "output_type": "stream",
     "text": [
      "Collected 30 tweets at 2022-04-03.\n",
      "Running twitter query: \"(#covid) min_faves:50 lang:en until:2022-04-05 since:2022-04-04\"\n"
     ]
    },
    {
     "name": "stderr",
     "output_type": "stream",
     "text": [
      "Stopping after 20 empty pages\n"
     ]
    },
    {
     "name": "stdout",
     "output_type": "stream",
     "text": [
      "Collected 30 tweets at 2022-04-04.\n",
      "Running twitter query: \"(#covid) min_faves:50 lang:en until:2022-04-06 since:2022-04-05\"\n"
     ]
    },
    {
     "name": "stderr",
     "output_type": "stream",
     "text": [
      "Stopping after 20 empty pages\n"
     ]
    },
    {
     "name": "stdout",
     "output_type": "stream",
     "text": [
      "Collected 33 tweets at 2022-04-05.\n",
      "Running twitter query: \"(#covid) min_faves:50 lang:en until:2022-04-07 since:2022-04-06\"\n"
     ]
    },
    {
     "name": "stderr",
     "output_type": "stream",
     "text": [
      "Stopping after 20 empty pages\n"
     ]
    },
    {
     "name": "stdout",
     "output_type": "stream",
     "text": [
      "Collected 41 tweets at 2022-04-06.\n",
      "Running twitter query: \"(#covid) min_faves:50 lang:en until:2022-04-08 since:2022-04-07\"\n"
     ]
    },
    {
     "name": "stderr",
     "output_type": "stream",
     "text": [
      "Stopping after 20 empty pages\n"
     ]
    },
    {
     "name": "stdout",
     "output_type": "stream",
     "text": [
      "Collected 42 tweets at 2022-04-07.\n",
      "Running twitter query: \"(#covid) min_faves:50 lang:en until:2022-04-09 since:2022-04-08\"\n"
     ]
    },
    {
     "name": "stderr",
     "output_type": "stream",
     "text": [
      "Stopping after 20 empty pages\n"
     ]
    },
    {
     "name": "stdout",
     "output_type": "stream",
     "text": [
      "Collected 22 tweets at 2022-04-08.\n",
      "Running twitter query: \"(#covid) min_faves:50 lang:en until:2022-04-10 since:2022-04-09\"\n"
     ]
    },
    {
     "name": "stderr",
     "output_type": "stream",
     "text": [
      "Stopping after 20 empty pages\n"
     ]
    },
    {
     "name": "stdout",
     "output_type": "stream",
     "text": [
      "Collected 20 tweets at 2022-04-09.\n",
      "Running twitter query: \"(#covid) min_faves:50 lang:en until:2022-04-11 since:2022-04-10\"\n"
     ]
    },
    {
     "name": "stderr",
     "output_type": "stream",
     "text": [
      "Stopping after 20 empty pages\n"
     ]
    },
    {
     "name": "stdout",
     "output_type": "stream",
     "text": [
      "Collected 31 tweets at 2022-04-10.\n",
      "Running twitter query: \"(#covid) min_faves:50 lang:en until:2022-04-12 since:2022-04-11\"\n"
     ]
    },
    {
     "name": "stderr",
     "output_type": "stream",
     "text": [
      "Stopping after 20 empty pages\n"
     ]
    },
    {
     "name": "stdout",
     "output_type": "stream",
     "text": [
      "Collected 36 tweets at 2022-04-11.\n",
      "Running twitter query: \"(#covid) min_faves:50 lang:en until:2022-04-13 since:2022-04-12\"\n"
     ]
    },
    {
     "name": "stderr",
     "output_type": "stream",
     "text": [
      "Stopping after 20 empty pages\n"
     ]
    },
    {
     "name": "stdout",
     "output_type": "stream",
     "text": [
      "Collected 39 tweets at 2022-04-12.\n",
      "Running twitter query: \"(#covid) min_faves:50 lang:en until:2022-04-14 since:2022-04-13\"\n"
     ]
    },
    {
     "name": "stderr",
     "output_type": "stream",
     "text": [
      "Stopping after 20 empty pages\n"
     ]
    },
    {
     "name": "stdout",
     "output_type": "stream",
     "text": [
      "Collected 26 tweets at 2022-04-13.\n",
      "Running twitter query: \"(#covid) min_faves:50 lang:en until:2022-04-15 since:2022-04-14\"\n"
     ]
    },
    {
     "name": "stderr",
     "output_type": "stream",
     "text": [
      "Stopping after 20 empty pages\n"
     ]
    },
    {
     "name": "stdout",
     "output_type": "stream",
     "text": [
      "Collected 17 tweets at 2022-04-14.\n",
      "Running twitter query: \"(#covid) min_faves:50 lang:en until:2022-04-16 since:2022-04-15\"\n"
     ]
    },
    {
     "name": "stderr",
     "output_type": "stream",
     "text": [
      "Stopping after 20 empty pages\n"
     ]
    },
    {
     "name": "stdout",
     "output_type": "stream",
     "text": [
      "Collected 14 tweets at 2022-04-15.\n",
      "Running twitter query: \"(#covid) min_faves:50 lang:en until:2022-04-17 since:2022-04-16\"\n"
     ]
    },
    {
     "name": "stderr",
     "output_type": "stream",
     "text": [
      "Stopping after 20 empty pages\n"
     ]
    },
    {
     "name": "stdout",
     "output_type": "stream",
     "text": [
      "Collected 21 tweets at 2022-04-16.\n",
      "Running twitter query: \"(#covid) min_faves:50 lang:en until:2022-04-18 since:2022-04-17\"\n"
     ]
    },
    {
     "name": "stderr",
     "output_type": "stream",
     "text": [
      "Stopping after 20 empty pages\n"
     ]
    },
    {
     "name": "stdout",
     "output_type": "stream",
     "text": [
      "Collected 19 tweets at 2022-04-17.\n",
      "Running twitter query: \"(#covid) min_faves:50 lang:en until:2022-04-19 since:2022-04-18\"\n"
     ]
    },
    {
     "name": "stderr",
     "output_type": "stream",
     "text": [
      "Stopping after 20 empty pages\n"
     ]
    },
    {
     "name": "stdout",
     "output_type": "stream",
     "text": [
      "Collected 36 tweets at 2022-04-18.\n",
      "Running twitter query: \"(#covid) min_faves:50 lang:en until:2022-04-20 since:2022-04-19\"\n"
     ]
    },
    {
     "name": "stderr",
     "output_type": "stream",
     "text": [
      "Stopping after 20 empty pages\n"
     ]
    },
    {
     "name": "stdout",
     "output_type": "stream",
     "text": [
      "Collected 42 tweets at 2022-04-19.\n",
      "Running twitter query: \"(#covid) min_faves:50 lang:en until:2022-04-21 since:2022-04-20\"\n"
     ]
    },
    {
     "name": "stderr",
     "output_type": "stream",
     "text": [
      "Stopping after 20 empty pages\n"
     ]
    },
    {
     "name": "stdout",
     "output_type": "stream",
     "text": [
      "Collected 26 tweets at 2022-04-20.\n",
      "Running twitter query: \"(#covid) min_faves:50 lang:en until:2022-04-22 since:2022-04-21\"\n"
     ]
    },
    {
     "name": "stderr",
     "output_type": "stream",
     "text": [
      "Stopping after 20 empty pages\n"
     ]
    },
    {
     "name": "stdout",
     "output_type": "stream",
     "text": [
      "Collected 32 tweets at 2022-04-21.\n",
      "Running twitter query: \"(#covid) min_faves:50 lang:en until:2022-04-23 since:2022-04-22\"\n"
     ]
    },
    {
     "name": "stderr",
     "output_type": "stream",
     "text": [
      "Stopping after 20 empty pages\n"
     ]
    },
    {
     "name": "stdout",
     "output_type": "stream",
     "text": [
      "Collected 35 tweets at 2022-04-22.\n",
      "Running twitter query: \"(#covid) min_faves:50 lang:en until:2022-04-24 since:2022-04-23\"\n"
     ]
    },
    {
     "name": "stderr",
     "output_type": "stream",
     "text": [
      "Stopping after 20 empty pages\n"
     ]
    },
    {
     "name": "stdout",
     "output_type": "stream",
     "text": [
      "Collected 20 tweets at 2022-04-23.\n",
      "Running twitter query: \"(#covid) min_faves:50 lang:en until:2022-04-25 since:2022-04-24\"\n"
     ]
    },
    {
     "name": "stderr",
     "output_type": "stream",
     "text": [
      "Stopping after 20 empty pages\n"
     ]
    },
    {
     "name": "stdout",
     "output_type": "stream",
     "text": [
      "Collected 21 tweets at 2022-04-24.\n",
      "Running twitter query: \"(#covid) min_faves:50 lang:en until:2022-04-26 since:2022-04-25\"\n"
     ]
    },
    {
     "name": "stderr",
     "output_type": "stream",
     "text": [
      "Stopping after 20 empty pages\n"
     ]
    },
    {
     "name": "stdout",
     "output_type": "stream",
     "text": [
      "Collected 15 tweets at 2022-04-25.\n",
      "Running twitter query: \"(#covid) min_faves:50 lang:en until:2022-04-27 since:2022-04-26\"\n"
     ]
    },
    {
     "name": "stderr",
     "output_type": "stream",
     "text": [
      "Stopping after 20 empty pages\n"
     ]
    },
    {
     "name": "stdout",
     "output_type": "stream",
     "text": [
      "Collected 24 tweets at 2022-04-26.\n",
      "Running twitter query: \"(#covid) min_faves:50 lang:en until:2022-04-28 since:2022-04-27\"\n"
     ]
    },
    {
     "name": "stderr",
     "output_type": "stream",
     "text": [
      "Stopping after 20 empty pages\n"
     ]
    },
    {
     "name": "stdout",
     "output_type": "stream",
     "text": [
      "Collected 32 tweets at 2022-04-27.\n",
      "Running twitter query: \"(#covid) min_faves:50 lang:en until:2022-04-29 since:2022-04-28\"\n"
     ]
    },
    {
     "name": "stderr",
     "output_type": "stream",
     "text": [
      "Stopping after 20 empty pages\n"
     ]
    },
    {
     "name": "stdout",
     "output_type": "stream",
     "text": [
      "Collected 26 tweets at 2022-04-28.\n",
      "Running twitter query: \"(#covid) min_faves:50 lang:en until:2022-04-30 since:2022-04-29\"\n"
     ]
    },
    {
     "name": "stderr",
     "output_type": "stream",
     "text": [
      "Stopping after 20 empty pages\n"
     ]
    },
    {
     "name": "stdout",
     "output_type": "stream",
     "text": [
      "Collected 17 tweets at 2022-04-29.\n",
      "Running twitter query: \"(#covid) min_faves:50 lang:en until:2022-05-01 since:2022-04-30\"\n"
     ]
    },
    {
     "name": "stderr",
     "output_type": "stream",
     "text": [
      "Stopping after 20 empty pages\n"
     ]
    },
    {
     "name": "stdout",
     "output_type": "stream",
     "text": [
      "Collected 11 tweets at 2022-04-30.\n",
      "Saving 842 tweets at 2022-04.\n",
      "Running twitter query: \"(#covid) min_faves:50 lang:en until:2022-05-02 since:2022-05-01\"\n"
     ]
    },
    {
     "name": "stderr",
     "output_type": "stream",
     "text": [
      "Stopping after 20 empty pages\n"
     ]
    },
    {
     "name": "stdout",
     "output_type": "stream",
     "text": [
      "Collected 19 tweets at 2022-05-01.\n",
      "Running twitter query: \"(#covid) min_faves:50 lang:en until:2022-05-03 since:2022-05-02\"\n"
     ]
    },
    {
     "name": "stderr",
     "output_type": "stream",
     "text": [
      "Stopping after 20 empty pages\n"
     ]
    },
    {
     "name": "stdout",
     "output_type": "stream",
     "text": [
      "Collected 17 tweets at 2022-05-02.\n",
      "Running twitter query: \"(#covid) min_faves:50 lang:en until:2022-05-04 since:2022-05-03\"\n"
     ]
    },
    {
     "name": "stderr",
     "output_type": "stream",
     "text": [
      "Stopping after 20 empty pages\n"
     ]
    },
    {
     "name": "stdout",
     "output_type": "stream",
     "text": [
      "Collected 19 tweets at 2022-05-03.\n",
      "Running twitter query: \"(#covid) min_faves:50 lang:en until:2022-05-05 since:2022-05-04\"\n"
     ]
    },
    {
     "name": "stderr",
     "output_type": "stream",
     "text": [
      "Stopping after 20 empty pages\n"
     ]
    },
    {
     "name": "stdout",
     "output_type": "stream",
     "text": [
      "Collected 27 tweets at 2022-05-04.\n",
      "Running twitter query: \"(#covid) min_faves:50 lang:en until:2022-05-06 since:2022-05-05\"\n"
     ]
    },
    {
     "name": "stderr",
     "output_type": "stream",
     "text": [
      "Stopping after 20 empty pages\n"
     ]
    },
    {
     "name": "stdout",
     "output_type": "stream",
     "text": [
      "Collected 16 tweets at 2022-05-05.\n",
      "Running twitter query: \"(#covid) min_faves:50 lang:en until:2022-05-07 since:2022-05-06\"\n"
     ]
    },
    {
     "name": "stderr",
     "output_type": "stream",
     "text": [
      "Stopping after 20 empty pages\n"
     ]
    },
    {
     "name": "stdout",
     "output_type": "stream",
     "text": [
      "Collected 24 tweets at 2022-05-06.\n",
      "Running twitter query: \"(#covid) min_faves:50 lang:en until:2022-05-08 since:2022-05-07\"\n"
     ]
    },
    {
     "name": "stderr",
     "output_type": "stream",
     "text": [
      "Stopping after 20 empty pages\n"
     ]
    },
    {
     "name": "stdout",
     "output_type": "stream",
     "text": [
      "Collected 20 tweets at 2022-05-07.\n",
      "Running twitter query: \"(#covid) min_faves:50 lang:en until:2022-05-09 since:2022-05-08\"\n"
     ]
    },
    {
     "name": "stderr",
     "output_type": "stream",
     "text": [
      "Stopping after 20 empty pages\n"
     ]
    },
    {
     "name": "stdout",
     "output_type": "stream",
     "text": [
      "Collected 16 tweets at 2022-05-08.\n",
      "Running twitter query: \"(#covid) min_faves:50 lang:en until:2022-05-10 since:2022-05-09\"\n"
     ]
    },
    {
     "name": "stderr",
     "output_type": "stream",
     "text": [
      "Stopping after 20 empty pages\n"
     ]
    },
    {
     "name": "stdout",
     "output_type": "stream",
     "text": [
      "Collected 21 tweets at 2022-05-09.\n",
      "Running twitter query: \"(#covid) min_faves:50 lang:en until:2022-05-11 since:2022-05-10\"\n"
     ]
    },
    {
     "name": "stderr",
     "output_type": "stream",
     "text": [
      "Stopping after 20 empty pages\n"
     ]
    },
    {
     "name": "stdout",
     "output_type": "stream",
     "text": [
      "Collected 21 tweets at 2022-05-10.\n",
      "Running twitter query: \"(#covid) min_faves:50 lang:en until:2022-05-12 since:2022-05-11\"\n"
     ]
    },
    {
     "name": "stderr",
     "output_type": "stream",
     "text": [
      "Stopping after 20 empty pages\n"
     ]
    },
    {
     "name": "stdout",
     "output_type": "stream",
     "text": [
      "Collected 17 tweets at 2022-05-11.\n",
      "Running twitter query: \"(#covid) min_faves:50 lang:en until:2022-05-13 since:2022-05-12\"\n"
     ]
    },
    {
     "name": "stderr",
     "output_type": "stream",
     "text": [
      "Stopping after 20 empty pages\n"
     ]
    },
    {
     "name": "stdout",
     "output_type": "stream",
     "text": [
      "Collected 19 tweets at 2022-05-12.\n",
      "Running twitter query: \"(#covid) min_faves:50 lang:en until:2022-05-14 since:2022-05-13\"\n"
     ]
    },
    {
     "name": "stderr",
     "output_type": "stream",
     "text": [
      "Stopping after 20 empty pages\n"
     ]
    },
    {
     "name": "stdout",
     "output_type": "stream",
     "text": [
      "Collected 24 tweets at 2022-05-13.\n",
      "Running twitter query: \"(#covid) min_faves:50 lang:en until:2022-05-15 since:2022-05-14\"\n"
     ]
    },
    {
     "name": "stderr",
     "output_type": "stream",
     "text": [
      "Stopping after 20 empty pages\n"
     ]
    },
    {
     "name": "stdout",
     "output_type": "stream",
     "text": [
      "Collected 15 tweets at 2022-05-14.\n",
      "Running twitter query: \"(#covid) min_faves:50 lang:en until:2022-05-16 since:2022-05-15\"\n"
     ]
    },
    {
     "name": "stderr",
     "output_type": "stream",
     "text": [
      "Stopping after 20 empty pages\n"
     ]
    },
    {
     "name": "stdout",
     "output_type": "stream",
     "text": [
      "Collected 13 tweets at 2022-05-15.\n",
      "Running twitter query: \"(#covid) min_faves:50 lang:en until:2022-05-17 since:2022-05-16\"\n"
     ]
    },
    {
     "name": "stderr",
     "output_type": "stream",
     "text": [
      "Stopping after 20 empty pages\n"
     ]
    },
    {
     "name": "stdout",
     "output_type": "stream",
     "text": [
      "Collected 31 tweets at 2022-05-16.\n",
      "Running twitter query: \"(#covid) min_faves:50 lang:en until:2022-05-18 since:2022-05-17\"\n"
     ]
    },
    {
     "name": "stderr",
     "output_type": "stream",
     "text": [
      "Stopping after 20 empty pages\n"
     ]
    },
    {
     "name": "stdout",
     "output_type": "stream",
     "text": [
      "Collected 16 tweets at 2022-05-17.\n",
      "Running twitter query: \"(#covid) min_faves:50 lang:en until:2022-05-19 since:2022-05-18\"\n"
     ]
    },
    {
     "name": "stderr",
     "output_type": "stream",
     "text": [
      "Stopping after 20 empty pages\n"
     ]
    },
    {
     "name": "stdout",
     "output_type": "stream",
     "text": [
      "Collected 20 tweets at 2022-05-18.\n",
      "Running twitter query: \"(#covid) min_faves:50 lang:en until:2022-05-20 since:2022-05-19\"\n"
     ]
    },
    {
     "name": "stderr",
     "output_type": "stream",
     "text": [
      "Stopping after 20 empty pages\n"
     ]
    },
    {
     "name": "stdout",
     "output_type": "stream",
     "text": [
      "Collected 16 tweets at 2022-05-19.\n",
      "Running twitter query: \"(#covid) min_faves:50 lang:en until:2022-05-21 since:2022-05-20\"\n"
     ]
    },
    {
     "name": "stderr",
     "output_type": "stream",
     "text": [
      "Stopping after 20 empty pages\n"
     ]
    },
    {
     "name": "stdout",
     "output_type": "stream",
     "text": [
      "Collected 15 tweets at 2022-05-20.\n",
      "Running twitter query: \"(#covid) min_faves:50 lang:en until:2022-05-22 since:2022-05-21\"\n"
     ]
    },
    {
     "name": "stderr",
     "output_type": "stream",
     "text": [
      "Stopping after 20 empty pages\n"
     ]
    },
    {
     "name": "stdout",
     "output_type": "stream",
     "text": [
      "Collected 15 tweets at 2022-05-21.\n",
      "Running twitter query: \"(#covid) min_faves:50 lang:en until:2022-05-23 since:2022-05-22\"\n"
     ]
    },
    {
     "name": "stderr",
     "output_type": "stream",
     "text": [
      "Stopping after 20 empty pages\n"
     ]
    },
    {
     "name": "stdout",
     "output_type": "stream",
     "text": [
      "Collected 7 tweets at 2022-05-22.\n",
      "Running twitter query: \"(#covid) min_faves:50 lang:en until:2022-05-24 since:2022-05-23\"\n"
     ]
    },
    {
     "name": "stderr",
     "output_type": "stream",
     "text": [
      "Stopping after 20 empty pages\n"
     ]
    },
    {
     "name": "stdout",
     "output_type": "stream",
     "text": [
      "Collected 17 tweets at 2022-05-23.\n",
      "Running twitter query: \"(#covid) min_faves:50 lang:en until:2022-05-25 since:2022-05-24\"\n"
     ]
    },
    {
     "name": "stderr",
     "output_type": "stream",
     "text": [
      "Stopping after 20 empty pages\n"
     ]
    },
    {
     "name": "stdout",
     "output_type": "stream",
     "text": [
      "Collected 6 tweets at 2022-05-24.\n",
      "Running twitter query: \"(#covid) min_faves:50 lang:en until:2022-05-26 since:2022-05-25\"\n"
     ]
    },
    {
     "name": "stderr",
     "output_type": "stream",
     "text": [
      "Stopping after 20 empty pages\n"
     ]
    },
    {
     "name": "stdout",
     "output_type": "stream",
     "text": [
      "Collected 13 tweets at 2022-05-25.\n",
      "Running twitter query: \"(#covid) min_faves:50 lang:en until:2022-05-27 since:2022-05-26\"\n"
     ]
    },
    {
     "name": "stderr",
     "output_type": "stream",
     "text": [
      "Stopping after 20 empty pages\n"
     ]
    },
    {
     "name": "stdout",
     "output_type": "stream",
     "text": [
      "Collected 9 tweets at 2022-05-26.\n",
      "Running twitter query: \"(#covid) min_faves:50 lang:en until:2022-05-28 since:2022-05-27\"\n"
     ]
    },
    {
     "name": "stderr",
     "output_type": "stream",
     "text": [
      "Stopping after 20 empty pages\n"
     ]
    },
    {
     "name": "stdout",
     "output_type": "stream",
     "text": [
      "Collected 15 tweets at 2022-05-27.\n",
      "Running twitter query: \"(#covid) min_faves:50 lang:en until:2022-05-29 since:2022-05-28\"\n"
     ]
    },
    {
     "name": "stderr",
     "output_type": "stream",
     "text": [
      "Stopping after 20 empty pages\n"
     ]
    },
    {
     "name": "stdout",
     "output_type": "stream",
     "text": [
      "Collected 13 tweets at 2022-05-28.\n",
      "Running twitter query: \"(#covid) min_faves:50 lang:en until:2022-05-30 since:2022-05-29\"\n"
     ]
    },
    {
     "name": "stderr",
     "output_type": "stream",
     "text": [
      "Stopping after 20 empty pages\n"
     ]
    },
    {
     "name": "stdout",
     "output_type": "stream",
     "text": [
      "Collected 15 tweets at 2022-05-29.\n",
      "Running twitter query: \"(#covid) min_faves:50 lang:en until:2022-05-31 since:2022-05-30\"\n"
     ]
    },
    {
     "name": "stderr",
     "output_type": "stream",
     "text": [
      "Stopping after 20 empty pages\n"
     ]
    },
    {
     "name": "stdout",
     "output_type": "stream",
     "text": [
      "Collected 18 tweets at 2022-05-30.\n",
      "Running twitter query: \"(#covid) min_faves:50 lang:en until:2022-06-01 since:2022-05-31\"\n"
     ]
    },
    {
     "name": "stderr",
     "output_type": "stream",
     "text": [
      "Stopping after 20 empty pages\n"
     ]
    },
    {
     "name": "stdout",
     "output_type": "stream",
     "text": [
      "Collected 20 tweets at 2022-05-31.\n",
      "Saving 565 tweets at 2022-05.\n",
      "Running twitter query: \"(#covid) min_faves:50 lang:en until:2022-06-02 since:2022-06-01\"\n"
     ]
    },
    {
     "name": "stderr",
     "output_type": "stream",
     "text": [
      "Stopping after 20 empty pages\n"
     ]
    },
    {
     "name": "stdout",
     "output_type": "stream",
     "text": [
      "Collected 21 tweets at 2022-06-01.\n",
      "Running twitter query: \"(#covid) min_faves:50 lang:en until:2022-06-03 since:2022-06-02\"\n"
     ]
    },
    {
     "name": "stderr",
     "output_type": "stream",
     "text": [
      "Stopping after 20 empty pages\n"
     ]
    },
    {
     "name": "stdout",
     "output_type": "stream",
     "text": [
      "Collected 27 tweets at 2022-06-02.\n",
      "Running twitter query: \"(#covid) min_faves:50 lang:en until:2022-06-04 since:2022-06-03\"\n"
     ]
    },
    {
     "name": "stderr",
     "output_type": "stream",
     "text": [
      "Stopping after 20 empty pages\n"
     ]
    },
    {
     "name": "stdout",
     "output_type": "stream",
     "text": [
      "Collected 11 tweets at 2022-06-03.\n",
      "Running twitter query: \"(#covid) min_faves:50 lang:en until:2022-06-05 since:2022-06-04\"\n"
     ]
    },
    {
     "name": "stderr",
     "output_type": "stream",
     "text": [
      "Stopping after 20 empty pages\n"
     ]
    },
    {
     "name": "stdout",
     "output_type": "stream",
     "text": [
      "Collected 11 tweets at 2022-06-04.\n",
      "Running twitter query: \"(#covid) min_faves:50 lang:en until:2022-06-06 since:2022-06-05\"\n"
     ]
    },
    {
     "name": "stderr",
     "output_type": "stream",
     "text": [
      "Stopping after 20 empty pages\n"
     ]
    },
    {
     "name": "stdout",
     "output_type": "stream",
     "text": [
      "Collected 11 tweets at 2022-06-05.\n",
      "Running twitter query: \"(#covid) min_faves:50 lang:en until:2022-06-07 since:2022-06-06\"\n"
     ]
    },
    {
     "name": "stderr",
     "output_type": "stream",
     "text": [
      "Stopping after 20 empty pages\n"
     ]
    },
    {
     "name": "stdout",
     "output_type": "stream",
     "text": [
      "Collected 22 tweets at 2022-06-06.\n",
      "Running twitter query: \"(#covid) min_faves:50 lang:en until:2022-06-08 since:2022-06-07\"\n"
     ]
    },
    {
     "name": "stderr",
     "output_type": "stream",
     "text": [
      "Stopping after 20 empty pages\n"
     ]
    },
    {
     "name": "stdout",
     "output_type": "stream",
     "text": [
      "Collected 21 tweets at 2022-06-07.\n",
      "Running twitter query: \"(#covid) min_faves:50 lang:en until:2022-06-09 since:2022-06-08\"\n"
     ]
    },
    {
     "name": "stderr",
     "output_type": "stream",
     "text": [
      "Stopping after 20 empty pages\n"
     ]
    },
    {
     "name": "stdout",
     "output_type": "stream",
     "text": [
      "Collected 21 tweets at 2022-06-08.\n",
      "Running twitter query: \"(#covid) min_faves:50 lang:en until:2022-06-10 since:2022-06-09\"\n"
     ]
    },
    {
     "name": "stderr",
     "output_type": "stream",
     "text": [
      "Stopping after 20 empty pages\n"
     ]
    },
    {
     "name": "stdout",
     "output_type": "stream",
     "text": [
      "Collected 12 tweets at 2022-06-09.\n",
      "Running twitter query: \"(#covid) min_faves:50 lang:en until:2022-06-11 since:2022-06-10\"\n"
     ]
    },
    {
     "name": "stderr",
     "output_type": "stream",
     "text": [
      "Stopping after 20 empty pages\n"
     ]
    },
    {
     "name": "stdout",
     "output_type": "stream",
     "text": [
      "Collected 29 tweets at 2022-06-10.\n",
      "Running twitter query: \"(#covid) min_faves:50 lang:en until:2022-06-12 since:2022-06-11\"\n"
     ]
    },
    {
     "name": "stderr",
     "output_type": "stream",
     "text": [
      "Stopping after 20 empty pages\n"
     ]
    },
    {
     "name": "stdout",
     "output_type": "stream",
     "text": [
      "Collected 12 tweets at 2022-06-11.\n",
      "Running twitter query: \"(#covid) min_faves:50 lang:en until:2022-06-13 since:2022-06-12\"\n"
     ]
    },
    {
     "name": "stderr",
     "output_type": "stream",
     "text": [
      "Stopping after 20 empty pages\n"
     ]
    },
    {
     "name": "stdout",
     "output_type": "stream",
     "text": [
      "Collected 20 tweets at 2022-06-12.\n",
      "Running twitter query: \"(#covid) min_faves:50 lang:en until:2022-06-14 since:2022-06-13\"\n"
     ]
    },
    {
     "name": "stderr",
     "output_type": "stream",
     "text": [
      "Stopping after 20 empty pages\n"
     ]
    },
    {
     "name": "stdout",
     "output_type": "stream",
     "text": [
      "Collected 21 tweets at 2022-06-13.\n",
      "Running twitter query: \"(#covid) min_faves:50 lang:en until:2022-06-15 since:2022-06-14\"\n"
     ]
    },
    {
     "name": "stderr",
     "output_type": "stream",
     "text": [
      "Stopping after 20 empty pages\n"
     ]
    },
    {
     "name": "stdout",
     "output_type": "stream",
     "text": [
      "Collected 22 tweets at 2022-06-14.\n",
      "Running twitter query: \"(#covid) min_faves:50 lang:en until:2022-06-16 since:2022-06-15\"\n"
     ]
    },
    {
     "name": "stderr",
     "output_type": "stream",
     "text": [
      "Stopping after 20 empty pages\n"
     ]
    },
    {
     "name": "stdout",
     "output_type": "stream",
     "text": [
      "Collected 34 tweets at 2022-06-15.\n",
      "Running twitter query: \"(#covid) min_faves:50 lang:en until:2022-06-17 since:2022-06-16\"\n"
     ]
    },
    {
     "name": "stderr",
     "output_type": "stream",
     "text": [
      "Stopping after 20 empty pages\n"
     ]
    },
    {
     "name": "stdout",
     "output_type": "stream",
     "text": [
      "Collected 16 tweets at 2022-06-16.\n",
      "Running twitter query: \"(#covid) min_faves:50 lang:en until:2022-06-18 since:2022-06-17\"\n"
     ]
    },
    {
     "name": "stderr",
     "output_type": "stream",
     "text": [
      "Stopping after 20 empty pages\n"
     ]
    },
    {
     "name": "stdout",
     "output_type": "stream",
     "text": [
      "Collected 13 tweets at 2022-06-17.\n",
      "Running twitter query: \"(#covid) min_faves:50 lang:en until:2022-06-19 since:2022-06-18\"\n"
     ]
    },
    {
     "name": "stderr",
     "output_type": "stream",
     "text": [
      "Stopping after 20 empty pages\n"
     ]
    },
    {
     "name": "stdout",
     "output_type": "stream",
     "text": [
      "Collected 25 tweets at 2022-06-18.\n",
      "Running twitter query: \"(#covid) min_faves:50 lang:en until:2022-06-20 since:2022-06-19\"\n"
     ]
    },
    {
     "name": "stderr",
     "output_type": "stream",
     "text": [
      "Stopping after 20 empty pages\n"
     ]
    },
    {
     "name": "stdout",
     "output_type": "stream",
     "text": [
      "Collected 18 tweets at 2022-06-19.\n",
      "Running twitter query: \"(#covid) min_faves:50 lang:en until:2022-06-21 since:2022-06-20\"\n"
     ]
    },
    {
     "name": "stderr",
     "output_type": "stream",
     "text": [
      "Stopping after 20 empty pages\n"
     ]
    },
    {
     "name": "stdout",
     "output_type": "stream",
     "text": [
      "Collected 16 tweets at 2022-06-20.\n",
      "Running twitter query: \"(#covid) min_faves:50 lang:en until:2022-06-22 since:2022-06-21\"\n"
     ]
    },
    {
     "name": "stderr",
     "output_type": "stream",
     "text": [
      "Stopping after 20 empty pages\n"
     ]
    },
    {
     "name": "stdout",
     "output_type": "stream",
     "text": [
      "Collected 10 tweets at 2022-06-21.\n",
      "Running twitter query: \"(#covid) min_faves:50 lang:en until:2022-06-23 since:2022-06-22\"\n"
     ]
    },
    {
     "name": "stderr",
     "output_type": "stream",
     "text": [
      "Stopping after 20 empty pages\n"
     ]
    },
    {
     "name": "stdout",
     "output_type": "stream",
     "text": [
      "Collected 17 tweets at 2022-06-22.\n",
      "Running twitter query: \"(#covid) min_faves:50 lang:en until:2022-06-24 since:2022-06-23\"\n"
     ]
    },
    {
     "name": "stderr",
     "output_type": "stream",
     "text": [
      "Stopping after 20 empty pages\n"
     ]
    },
    {
     "name": "stdout",
     "output_type": "stream",
     "text": [
      "Collected 22 tweets at 2022-06-23.\n",
      "Running twitter query: \"(#covid) min_faves:50 lang:en until:2022-06-25 since:2022-06-24\"\n"
     ]
    },
    {
     "name": "stderr",
     "output_type": "stream",
     "text": [
      "Stopping after 20 empty pages\n"
     ]
    },
    {
     "name": "stdout",
     "output_type": "stream",
     "text": [
      "Collected 15 tweets at 2022-06-24.\n",
      "Running twitter query: \"(#covid) min_faves:50 lang:en until:2022-06-26 since:2022-06-25\"\n"
     ]
    },
    {
     "name": "stderr",
     "output_type": "stream",
     "text": [
      "Stopping after 20 empty pages\n"
     ]
    },
    {
     "name": "stdout",
     "output_type": "stream",
     "text": [
      "Collected 9 tweets at 2022-06-25.\n",
      "Running twitter query: \"(#covid) min_faves:50 lang:en until:2022-06-27 since:2022-06-26\"\n"
     ]
    },
    {
     "name": "stderr",
     "output_type": "stream",
     "text": [
      "Stopping after 20 empty pages\n"
     ]
    },
    {
     "name": "stdout",
     "output_type": "stream",
     "text": [
      "Collected 10 tweets at 2022-06-26.\n",
      "Running twitter query: \"(#covid) min_faves:50 lang:en until:2022-06-28 since:2022-06-27\"\n"
     ]
    },
    {
     "name": "stderr",
     "output_type": "stream",
     "text": [
      "Stopping after 20 empty pages\n"
     ]
    },
    {
     "name": "stdout",
     "output_type": "stream",
     "text": [
      "Collected 16 tweets at 2022-06-27.\n",
      "Running twitter query: \"(#covid) min_faves:50 lang:en until:2022-06-29 since:2022-06-28\"\n"
     ]
    },
    {
     "name": "stderr",
     "output_type": "stream",
     "text": [
      "Stopping after 20 empty pages\n"
     ]
    },
    {
     "name": "stdout",
     "output_type": "stream",
     "text": [
      "Collected 18 tweets at 2022-06-28.\n",
      "Running twitter query: \"(#covid) min_faves:50 lang:en until:2022-06-30 since:2022-06-29\"\n"
     ]
    },
    {
     "name": "stderr",
     "output_type": "stream",
     "text": [
      "Stopping after 20 empty pages\n"
     ]
    },
    {
     "name": "stdout",
     "output_type": "stream",
     "text": [
      "Collected 26 tweets at 2022-06-29.\n",
      "Running twitter query: \"(#covid) min_faves:50 lang:en until:2022-07-01 since:2022-06-30\"\n"
     ]
    },
    {
     "name": "stderr",
     "output_type": "stream",
     "text": [
      "Stopping after 20 empty pages\n"
     ]
    },
    {
     "name": "stdout",
     "output_type": "stream",
     "text": [
      "Collected 15 tweets at 2022-06-30.\n",
      "Saving 571 tweets at 2022-06.\n",
      "Running twitter query: \"(#covid) min_faves:50 lang:en until:2022-07-02 since:2022-07-01\"\n"
     ]
    },
    {
     "name": "stderr",
     "output_type": "stream",
     "text": [
      "Stopping after 20 empty pages\n"
     ]
    },
    {
     "name": "stdout",
     "output_type": "stream",
     "text": [
      "Collected 22 tweets at 2022-07-01.\n",
      "Running twitter query: \"(#covid) min_faves:50 lang:en until:2022-07-03 since:2022-07-02\"\n"
     ]
    },
    {
     "name": "stderr",
     "output_type": "stream",
     "text": [
      "Stopping after 20 empty pages\n"
     ]
    },
    {
     "name": "stdout",
     "output_type": "stream",
     "text": [
      "Collected 20 tweets at 2022-07-02.\n",
      "Running twitter query: \"(#covid) min_faves:50 lang:en until:2022-07-04 since:2022-07-03\"\n"
     ]
    },
    {
     "name": "stderr",
     "output_type": "stream",
     "text": [
      "Stopping after 20 empty pages\n"
     ]
    },
    {
     "name": "stdout",
     "output_type": "stream",
     "text": [
      "Collected 25 tweets at 2022-07-03.\n",
      "Running twitter query: \"(#covid) min_faves:50 lang:en until:2022-07-05 since:2022-07-04\"\n"
     ]
    },
    {
     "name": "stderr",
     "output_type": "stream",
     "text": [
      "Stopping after 20 empty pages\n"
     ]
    },
    {
     "name": "stdout",
     "output_type": "stream",
     "text": [
      "Collected 15 tweets at 2022-07-04.\n",
      "Running twitter query: \"(#covid) min_faves:50 lang:en until:2022-07-06 since:2022-07-05\"\n"
     ]
    },
    {
     "name": "stderr",
     "output_type": "stream",
     "text": [
      "Stopping after 20 empty pages\n"
     ]
    },
    {
     "name": "stdout",
     "output_type": "stream",
     "text": [
      "Collected 31 tweets at 2022-07-05.\n",
      "Running twitter query: \"(#covid) min_faves:50 lang:en until:2022-07-07 since:2022-07-06\"\n"
     ]
    },
    {
     "name": "stderr",
     "output_type": "stream",
     "text": [
      "Stopping after 20 empty pages\n"
     ]
    },
    {
     "name": "stdout",
     "output_type": "stream",
     "text": [
      "Collected 23 tweets at 2022-07-06.\n",
      "Running twitter query: \"(#covid) min_faves:50 lang:en until:2022-07-08 since:2022-07-07\"\n"
     ]
    },
    {
     "name": "stderr",
     "output_type": "stream",
     "text": [
      "Stopping after 20 empty pages\n"
     ]
    },
    {
     "name": "stdout",
     "output_type": "stream",
     "text": [
      "Collected 16 tweets at 2022-07-07.\n",
      "Running twitter query: \"(#covid) min_faves:50 lang:en until:2022-07-09 since:2022-07-08\"\n"
     ]
    },
    {
     "name": "stderr",
     "output_type": "stream",
     "text": [
      "Stopping after 20 empty pages\n"
     ]
    },
    {
     "name": "stdout",
     "output_type": "stream",
     "text": [
      "Collected 19 tweets at 2022-07-08.\n",
      "Running twitter query: \"(#covid) min_faves:50 lang:en until:2022-07-10 since:2022-07-09\"\n"
     ]
    },
    {
     "name": "stderr",
     "output_type": "stream",
     "text": [
      "Stopping after 20 empty pages\n"
     ]
    },
    {
     "name": "stdout",
     "output_type": "stream",
     "text": [
      "Collected 18 tweets at 2022-07-09.\n",
      "Running twitter query: \"(#covid) min_faves:50 lang:en until:2022-07-11 since:2022-07-10\"\n"
     ]
    },
    {
     "name": "stderr",
     "output_type": "stream",
     "text": [
      "Stopping after 20 empty pages\n"
     ]
    },
    {
     "name": "stdout",
     "output_type": "stream",
     "text": [
      "Collected 9 tweets at 2022-07-10.\n",
      "Running twitter query: \"(#covid) min_faves:50 lang:en until:2022-07-12 since:2022-07-11\"\n"
     ]
    },
    {
     "name": "stderr",
     "output_type": "stream",
     "text": [
      "Stopping after 20 empty pages\n"
     ]
    },
    {
     "name": "stdout",
     "output_type": "stream",
     "text": [
      "Collected 14 tweets at 2022-07-11.\n",
      "Running twitter query: \"(#covid) min_faves:50 lang:en until:2022-07-13 since:2022-07-12\"\n"
     ]
    },
    {
     "name": "stderr",
     "output_type": "stream",
     "text": [
      "Stopping after 20 empty pages\n"
     ]
    },
    {
     "name": "stdout",
     "output_type": "stream",
     "text": [
      "Collected 24 tweets at 2022-07-12.\n",
      "Running twitter query: \"(#covid) min_faves:50 lang:en until:2022-07-14 since:2022-07-13\"\n"
     ]
    },
    {
     "name": "stderr",
     "output_type": "stream",
     "text": [
      "Stopping after 20 empty pages\n"
     ]
    },
    {
     "name": "stdout",
     "output_type": "stream",
     "text": [
      "Collected 28 tweets at 2022-07-13.\n",
      "Running twitter query: \"(#covid) min_faves:50 lang:en until:2022-07-15 since:2022-07-14\"\n"
     ]
    },
    {
     "name": "stderr",
     "output_type": "stream",
     "text": [
      "Stopping after 20 empty pages\n"
     ]
    },
    {
     "name": "stdout",
     "output_type": "stream",
     "text": [
      "Collected 25 tweets at 2022-07-14.\n",
      "Running twitter query: \"(#covid) min_faves:50 lang:en until:2022-07-16 since:2022-07-15\"\n"
     ]
    },
    {
     "name": "stderr",
     "output_type": "stream",
     "text": [
      "Stopping after 20 empty pages\n"
     ]
    },
    {
     "name": "stdout",
     "output_type": "stream",
     "text": [
      "Collected 23 tweets at 2022-07-15.\n",
      "Running twitter query: \"(#covid) min_faves:50 lang:en until:2022-07-17 since:2022-07-16\"\n"
     ]
    },
    {
     "name": "stderr",
     "output_type": "stream",
     "text": [
      "Stopping after 20 empty pages\n"
     ]
    },
    {
     "name": "stdout",
     "output_type": "stream",
     "text": [
      "Collected 24 tweets at 2022-07-16.\n",
      "Running twitter query: \"(#covid) min_faves:50 lang:en until:2022-07-18 since:2022-07-17\"\n"
     ]
    },
    {
     "name": "stderr",
     "output_type": "stream",
     "text": [
      "Stopping after 20 empty pages\n"
     ]
    },
    {
     "name": "stdout",
     "output_type": "stream",
     "text": [
      "Collected 26 tweets at 2022-07-17.\n",
      "Running twitter query: \"(#covid) min_faves:50 lang:en until:2022-07-19 since:2022-07-18\"\n"
     ]
    },
    {
     "name": "stderr",
     "output_type": "stream",
     "text": [
      "Stopping after 20 empty pages\n"
     ]
    },
    {
     "name": "stdout",
     "output_type": "stream",
     "text": [
      "Collected 20 tweets at 2022-07-18.\n",
      "Running twitter query: \"(#covid) min_faves:50 lang:en until:2022-07-20 since:2022-07-19\"\n"
     ]
    },
    {
     "name": "stderr",
     "output_type": "stream",
     "text": [
      "Stopping after 20 empty pages\n"
     ]
    },
    {
     "name": "stdout",
     "output_type": "stream",
     "text": [
      "Collected 28 tweets at 2022-07-19.\n",
      "Running twitter query: \"(#covid) min_faves:50 lang:en until:2022-07-21 since:2022-07-20\"\n"
     ]
    },
    {
     "name": "stderr",
     "output_type": "stream",
     "text": [
      "Stopping after 20 empty pages\n"
     ]
    },
    {
     "name": "stdout",
     "output_type": "stream",
     "text": [
      "Collected 17 tweets at 2022-07-20.\n",
      "Running twitter query: \"(#covid) min_faves:50 lang:en until:2022-07-22 since:2022-07-21\"\n"
     ]
    },
    {
     "name": "stderr",
     "output_type": "stream",
     "text": [
      "Stopping after 20 empty pages\n"
     ]
    },
    {
     "name": "stdout",
     "output_type": "stream",
     "text": [
      "Collected 39 tweets at 2022-07-21.\n",
      "Running twitter query: \"(#covid) min_faves:50 lang:en until:2022-07-23 since:2022-07-22\"\n"
     ]
    },
    {
     "name": "stderr",
     "output_type": "stream",
     "text": [
      "Stopping after 20 empty pages\n"
     ]
    },
    {
     "name": "stdout",
     "output_type": "stream",
     "text": [
      "Collected 33 tweets at 2022-07-22.\n",
      "Running twitter query: \"(#covid) min_faves:50 lang:en until:2022-07-24 since:2022-07-23\"\n"
     ]
    },
    {
     "name": "stderr",
     "output_type": "stream",
     "text": [
      "Stopping after 20 empty pages\n"
     ]
    },
    {
     "name": "stdout",
     "output_type": "stream",
     "text": [
      "Collected 19 tweets at 2022-07-23.\n",
      "Running twitter query: \"(#covid) min_faves:50 lang:en until:2022-07-25 since:2022-07-24\"\n"
     ]
    },
    {
     "name": "stderr",
     "output_type": "stream",
     "text": [
      "Stopping after 20 empty pages\n"
     ]
    },
    {
     "name": "stdout",
     "output_type": "stream",
     "text": [
      "Collected 22 tweets at 2022-07-24.\n",
      "Running twitter query: \"(#covid) min_faves:50 lang:en until:2022-07-26 since:2022-07-25\"\n"
     ]
    },
    {
     "name": "stderr",
     "output_type": "stream",
     "text": [
      "Stopping after 20 empty pages\n"
     ]
    },
    {
     "name": "stdout",
     "output_type": "stream",
     "text": [
      "Collected 16 tweets at 2022-07-25.\n",
      "Running twitter query: \"(#covid) min_faves:50 lang:en until:2022-07-27 since:2022-07-26\"\n"
     ]
    },
    {
     "name": "stderr",
     "output_type": "stream",
     "text": [
      "Stopping after 20 empty pages\n"
     ]
    },
    {
     "name": "stdout",
     "output_type": "stream",
     "text": [
      "Collected 26 tweets at 2022-07-26.\n",
      "Running twitter query: \"(#covid) min_faves:50 lang:en until:2022-07-28 since:2022-07-27\"\n"
     ]
    },
    {
     "name": "stderr",
     "output_type": "stream",
     "text": [
      "Stopping after 20 empty pages\n"
     ]
    },
    {
     "name": "stdout",
     "output_type": "stream",
     "text": [
      "Collected 26 tweets at 2022-07-27.\n",
      "Running twitter query: \"(#covid) min_faves:50 lang:en until:2022-07-29 since:2022-07-28\"\n"
     ]
    },
    {
     "name": "stderr",
     "output_type": "stream",
     "text": [
      "Stopping after 20 empty pages\n"
     ]
    },
    {
     "name": "stdout",
     "output_type": "stream",
     "text": [
      "Collected 14 tweets at 2022-07-28.\n",
      "Running twitter query: \"(#covid) min_faves:50 lang:en until:2022-07-30 since:2022-07-29\"\n"
     ]
    },
    {
     "name": "stderr",
     "output_type": "stream",
     "text": [
      "Stopping after 20 empty pages\n"
     ]
    },
    {
     "name": "stdout",
     "output_type": "stream",
     "text": [
      "Collected 25 tweets at 2022-07-29.\n",
      "Running twitter query: \"(#covid) min_faves:50 lang:en until:2022-07-31 since:2022-07-30\"\n"
     ]
    },
    {
     "name": "stderr",
     "output_type": "stream",
     "text": [
      "Stopping after 20 empty pages\n"
     ]
    },
    {
     "name": "stdout",
     "output_type": "stream",
     "text": [
      "Collected 21 tweets at 2022-07-30.\n",
      "Running twitter query: \"(#covid) min_faves:50 lang:en until:2022-08-01 since:2022-07-31\"\n"
     ]
    },
    {
     "name": "stderr",
     "output_type": "stream",
     "text": [
      "Stopping after 20 empty pages\n"
     ]
    },
    {
     "name": "stdout",
     "output_type": "stream",
     "text": [
      "Collected 14 tweets at 2022-07-31.\n",
      "Saving 713 tweets at 2022-07.\n",
      "Running twitter query: \"(#covid) min_faves:50 lang:en until:2022-08-02 since:2022-08-01\"\n"
     ]
    },
    {
     "name": "stderr",
     "output_type": "stream",
     "text": [
      "Stopping after 20 empty pages\n"
     ]
    },
    {
     "name": "stdout",
     "output_type": "stream",
     "text": [
      "Collected 13 tweets at 2022-08-01.\n",
      "Running twitter query: \"(#covid) min_faves:50 lang:en until:2022-08-03 since:2022-08-02\"\n"
     ]
    },
    {
     "name": "stderr",
     "output_type": "stream",
     "text": [
      "Stopping after 20 empty pages\n"
     ]
    },
    {
     "name": "stdout",
     "output_type": "stream",
     "text": [
      "Collected 19 tweets at 2022-08-02.\n",
      "Running twitter query: \"(#covid) min_faves:50 lang:en until:2022-08-04 since:2022-08-03\"\n"
     ]
    },
    {
     "name": "stderr",
     "output_type": "stream",
     "text": [
      "Stopping after 20 empty pages\n"
     ]
    },
    {
     "name": "stdout",
     "output_type": "stream",
     "text": [
      "Collected 17 tweets at 2022-08-03.\n",
      "Running twitter query: \"(#covid) min_faves:50 lang:en until:2022-08-05 since:2022-08-04\"\n"
     ]
    },
    {
     "name": "stderr",
     "output_type": "stream",
     "text": [
      "Stopping after 20 empty pages\n"
     ]
    },
    {
     "name": "stdout",
     "output_type": "stream",
     "text": [
      "Collected 19 tweets at 2022-08-04.\n",
      "Running twitter query: \"(#covid) min_faves:50 lang:en until:2022-08-06 since:2022-08-05\"\n"
     ]
    },
    {
     "name": "stderr",
     "output_type": "stream",
     "text": [
      "Stopping after 20 empty pages\n"
     ]
    },
    {
     "name": "stdout",
     "output_type": "stream",
     "text": [
      "Collected 16 tweets at 2022-08-05.\n",
      "Running twitter query: \"(#covid) min_faves:50 lang:en until:2022-08-07 since:2022-08-06\"\n"
     ]
    },
    {
     "name": "stderr",
     "output_type": "stream",
     "text": [
      "Stopping after 20 empty pages\n"
     ]
    },
    {
     "name": "stdout",
     "output_type": "stream",
     "text": [
      "Collected 10 tweets at 2022-08-06.\n",
      "Running twitter query: \"(#covid) min_faves:50 lang:en until:2022-08-08 since:2022-08-07\"\n"
     ]
    },
    {
     "name": "stderr",
     "output_type": "stream",
     "text": [
      "Stopping after 20 empty pages\n"
     ]
    },
    {
     "name": "stdout",
     "output_type": "stream",
     "text": [
      "Collected 14 tweets at 2022-08-07.\n",
      "Running twitter query: \"(#covid) min_faves:50 lang:en until:2022-08-09 since:2022-08-08\"\n"
     ]
    },
    {
     "name": "stderr",
     "output_type": "stream",
     "text": [
      "Stopping after 20 empty pages\n"
     ]
    },
    {
     "name": "stdout",
     "output_type": "stream",
     "text": [
      "Collected 15 tweets at 2022-08-08.\n",
      "Running twitter query: \"(#covid) min_faves:50 lang:en until:2022-08-10 since:2022-08-09\"\n"
     ]
    },
    {
     "name": "stderr",
     "output_type": "stream",
     "text": [
      "Stopping after 20 empty pages\n"
     ]
    },
    {
     "name": "stdout",
     "output_type": "stream",
     "text": [
      "Collected 12 tweets at 2022-08-09.\n",
      "Running twitter query: \"(#covid) min_faves:50 lang:en until:2022-08-11 since:2022-08-10\"\n"
     ]
    },
    {
     "name": "stderr",
     "output_type": "stream",
     "text": [
      "Stopping after 20 empty pages\n"
     ]
    },
    {
     "name": "stdout",
     "output_type": "stream",
     "text": [
      "Collected 22 tweets at 2022-08-10.\n",
      "Running twitter query: \"(#covid) min_faves:50 lang:en until:2022-08-12 since:2022-08-11\"\n"
     ]
    },
    {
     "name": "stderr",
     "output_type": "stream",
     "text": [
      "Stopping after 20 empty pages\n"
     ]
    },
    {
     "name": "stdout",
     "output_type": "stream",
     "text": [
      "Collected 31 tweets at 2022-08-11.\n",
      "Running twitter query: \"(#covid) min_faves:50 lang:en until:2022-08-13 since:2022-08-12\"\n"
     ]
    },
    {
     "name": "stderr",
     "output_type": "stream",
     "text": [
      "Stopping after 20 empty pages\n"
     ]
    },
    {
     "name": "stdout",
     "output_type": "stream",
     "text": [
      "Collected 14 tweets at 2022-08-12.\n",
      "Running twitter query: \"(#covid) min_faves:50 lang:en until:2022-08-14 since:2022-08-13\"\n"
     ]
    },
    {
     "name": "stderr",
     "output_type": "stream",
     "text": [
      "Stopping after 20 empty pages\n"
     ]
    },
    {
     "name": "stdout",
     "output_type": "stream",
     "text": [
      "Collected 15 tweets at 2022-08-13.\n",
      "Running twitter query: \"(#covid) min_faves:50 lang:en until:2022-08-15 since:2022-08-14\"\n"
     ]
    },
    {
     "name": "stderr",
     "output_type": "stream",
     "text": [
      "Stopping after 20 empty pages\n"
     ]
    },
    {
     "name": "stdout",
     "output_type": "stream",
     "text": [
      "Collected 16 tweets at 2022-08-14.\n",
      "Running twitter query: \"(#covid) min_faves:50 lang:en until:2022-08-16 since:2022-08-15\"\n"
     ]
    },
    {
     "name": "stderr",
     "output_type": "stream",
     "text": [
      "Stopping after 20 empty pages\n"
     ]
    },
    {
     "name": "stdout",
     "output_type": "stream",
     "text": [
      "Collected 14 tweets at 2022-08-15.\n",
      "Running twitter query: \"(#covid) min_faves:50 lang:en until:2022-08-17 since:2022-08-16\"\n"
     ]
    },
    {
     "name": "stderr",
     "output_type": "stream",
     "text": [
      "Stopping after 20 empty pages\n"
     ]
    },
    {
     "name": "stdout",
     "output_type": "stream",
     "text": [
      "Collected 22 tweets at 2022-08-16.\n",
      "Running twitter query: \"(#covid) min_faves:50 lang:en until:2022-08-18 since:2022-08-17\"\n"
     ]
    },
    {
     "name": "stderr",
     "output_type": "stream",
     "text": [
      "Stopping after 20 empty pages\n"
     ]
    },
    {
     "name": "stdout",
     "output_type": "stream",
     "text": [
      "Collected 18 tweets at 2022-08-17.\n",
      "Running twitter query: \"(#covid) min_faves:50 lang:en until:2022-08-19 since:2022-08-18\"\n"
     ]
    },
    {
     "name": "stderr",
     "output_type": "stream",
     "text": [
      "Stopping after 20 empty pages\n"
     ]
    },
    {
     "name": "stdout",
     "output_type": "stream",
     "text": [
      "Collected 28 tweets at 2022-08-18.\n",
      "Running twitter query: \"(#covid) min_faves:50 lang:en until:2022-08-20 since:2022-08-19\"\n"
     ]
    },
    {
     "name": "stderr",
     "output_type": "stream",
     "text": [
      "Stopping after 20 empty pages\n"
     ]
    },
    {
     "name": "stdout",
     "output_type": "stream",
     "text": [
      "Collected 23 tweets at 2022-08-19.\n",
      "Running twitter query: \"(#covid) min_faves:50 lang:en until:2022-08-21 since:2022-08-20\"\n"
     ]
    },
    {
     "name": "stderr",
     "output_type": "stream",
     "text": [
      "Stopping after 20 empty pages\n"
     ]
    },
    {
     "name": "stdout",
     "output_type": "stream",
     "text": [
      "Collected 32 tweets at 2022-08-20.\n",
      "Running twitter query: \"(#covid) min_faves:50 lang:en until:2022-08-22 since:2022-08-21\"\n"
     ]
    },
    {
     "name": "stderr",
     "output_type": "stream",
     "text": [
      "Stopping after 20 empty pages\n"
     ]
    },
    {
     "name": "stdout",
     "output_type": "stream",
     "text": [
      "Collected 24 tweets at 2022-08-21.\n",
      "Running twitter query: \"(#covid) min_faves:50 lang:en until:2022-08-23 since:2022-08-22\"\n"
     ]
    },
    {
     "name": "stderr",
     "output_type": "stream",
     "text": [
      "Stopping after 20 empty pages\n"
     ]
    },
    {
     "name": "stdout",
     "output_type": "stream",
     "text": [
      "Collected 15 tweets at 2022-08-22.\n",
      "Running twitter query: \"(#covid) min_faves:50 lang:en until:2022-08-24 since:2022-08-23\"\n"
     ]
    },
    {
     "name": "stderr",
     "output_type": "stream",
     "text": [
      "Stopping after 20 empty pages\n"
     ]
    },
    {
     "name": "stdout",
     "output_type": "stream",
     "text": [
      "Collected 12 tweets at 2022-08-23.\n",
      "Running twitter query: \"(#covid) min_faves:50 lang:en until:2022-08-25 since:2022-08-24\"\n"
     ]
    },
    {
     "name": "stderr",
     "output_type": "stream",
     "text": [
      "Stopping after 20 empty pages\n"
     ]
    },
    {
     "name": "stdout",
     "output_type": "stream",
     "text": [
      "Collected 21 tweets at 2022-08-24.\n",
      "Running twitter query: \"(#covid) min_faves:50 lang:en until:2022-08-26 since:2022-08-25\"\n"
     ]
    },
    {
     "name": "stderr",
     "output_type": "stream",
     "text": [
      "Stopping after 20 empty pages\n"
     ]
    },
    {
     "name": "stdout",
     "output_type": "stream",
     "text": [
      "Collected 23 tweets at 2022-08-25.\n",
      "Running twitter query: \"(#covid) min_faves:50 lang:en until:2022-08-27 since:2022-08-26\"\n"
     ]
    },
    {
     "name": "stderr",
     "output_type": "stream",
     "text": [
      "Stopping after 20 empty pages\n"
     ]
    },
    {
     "name": "stdout",
     "output_type": "stream",
     "text": [
      "Collected 16 tweets at 2022-08-26.\n",
      "Running twitter query: \"(#covid) min_faves:50 lang:en until:2022-08-28 since:2022-08-27\"\n"
     ]
    },
    {
     "name": "stderr",
     "output_type": "stream",
     "text": [
      "Stopping after 20 empty pages\n"
     ]
    },
    {
     "name": "stdout",
     "output_type": "stream",
     "text": [
      "Collected 20 tweets at 2022-08-27.\n",
      "Running twitter query: \"(#covid) min_faves:50 lang:en until:2022-08-29 since:2022-08-28\"\n"
     ]
    },
    {
     "name": "stderr",
     "output_type": "stream",
     "text": [
      "Stopping after 20 empty pages\n"
     ]
    },
    {
     "name": "stdout",
     "output_type": "stream",
     "text": [
      "Collected 21 tweets at 2022-08-28.\n",
      "Running twitter query: \"(#covid) min_faves:50 lang:en until:2022-08-30 since:2022-08-29\"\n"
     ]
    },
    {
     "name": "stderr",
     "output_type": "stream",
     "text": [
      "Stopping after 20 empty pages\n"
     ]
    },
    {
     "name": "stdout",
     "output_type": "stream",
     "text": [
      "Collected 21 tweets at 2022-08-29.\n",
      "Running twitter query: \"(#covid) min_faves:50 lang:en until:2022-08-31 since:2022-08-30\"\n"
     ]
    },
    {
     "name": "stderr",
     "output_type": "stream",
     "text": [
      "Stopping after 20 empty pages\n"
     ]
    },
    {
     "name": "stdout",
     "output_type": "stream",
     "text": [
      "Collected 26 tweets at 2022-08-30.\n",
      "Running twitter query: \"(#covid) min_faves:50 lang:en until:2022-09-01 since:2022-08-31\"\n"
     ]
    },
    {
     "name": "stderr",
     "output_type": "stream",
     "text": [
      "Stopping after 20 empty pages\n"
     ]
    },
    {
     "name": "stdout",
     "output_type": "stream",
     "text": [
      "Collected 28 tweets at 2022-08-31.\n",
      "Saving 628 tweets at 2022-08.\n",
      "Running twitter query: \"(#covid) min_faves:50 lang:en until:2022-09-02 since:2022-09-01\"\n"
     ]
    },
    {
     "name": "stderr",
     "output_type": "stream",
     "text": [
      "Stopping after 20 empty pages\n"
     ]
    },
    {
     "name": "stdout",
     "output_type": "stream",
     "text": [
      "Collected 25 tweets at 2022-09-01.\n",
      "Running twitter query: \"(#covid) min_faves:50 lang:en until:2022-09-03 since:2022-09-02\"\n"
     ]
    },
    {
     "name": "stderr",
     "output_type": "stream",
     "text": [
      "Stopping after 20 empty pages\n"
     ]
    },
    {
     "name": "stdout",
     "output_type": "stream",
     "text": [
      "Collected 16 tweets at 2022-09-02.\n",
      "Running twitter query: \"(#covid) min_faves:50 lang:en until:2022-09-04 since:2022-09-03\"\n"
     ]
    },
    {
     "name": "stderr",
     "output_type": "stream",
     "text": [
      "Stopping after 20 empty pages\n"
     ]
    },
    {
     "name": "stdout",
     "output_type": "stream",
     "text": [
      "Collected 19 tweets at 2022-09-03.\n",
      "Running twitter query: \"(#covid) min_faves:50 lang:en until:2022-09-05 since:2022-09-04\"\n"
     ]
    },
    {
     "name": "stderr",
     "output_type": "stream",
     "text": [
      "Stopping after 20 empty pages\n"
     ]
    },
    {
     "name": "stdout",
     "output_type": "stream",
     "text": [
      "Collected 23 tweets at 2022-09-04.\n",
      "Running twitter query: \"(#covid) min_faves:50 lang:en until:2022-09-06 since:2022-09-05\"\n"
     ]
    },
    {
     "name": "stderr",
     "output_type": "stream",
     "text": [
      "Stopping after 20 empty pages\n"
     ]
    },
    {
     "name": "stdout",
     "output_type": "stream",
     "text": [
      "Collected 24 tweets at 2022-09-05.\n",
      "Running twitter query: \"(#covid) min_faves:50 lang:en until:2022-09-07 since:2022-09-06\"\n"
     ]
    },
    {
     "name": "stderr",
     "output_type": "stream",
     "text": [
      "Stopping after 20 empty pages\n"
     ]
    },
    {
     "name": "stdout",
     "output_type": "stream",
     "text": [
      "Collected 22 tweets at 2022-09-06.\n",
      "Running twitter query: \"(#covid) min_faves:50 lang:en until:2022-09-08 since:2022-09-07\"\n"
     ]
    },
    {
     "name": "stderr",
     "output_type": "stream",
     "text": [
      "Stopping after 20 empty pages\n"
     ]
    },
    {
     "name": "stdout",
     "output_type": "stream",
     "text": [
      "Collected 20 tweets at 2022-09-07.\n",
      "Running twitter query: \"(#covid) min_faves:50 lang:en until:2022-09-09 since:2022-09-08\"\n"
     ]
    },
    {
     "name": "stderr",
     "output_type": "stream",
     "text": [
      "Stopping after 20 empty pages\n"
     ]
    },
    {
     "name": "stdout",
     "output_type": "stream",
     "text": [
      "Collected 17 tweets at 2022-09-08.\n",
      "Running twitter query: \"(#covid) min_faves:50 lang:en until:2022-09-10 since:2022-09-09\"\n"
     ]
    },
    {
     "name": "stderr",
     "output_type": "stream",
     "text": [
      "Stopping after 20 empty pages\n"
     ]
    },
    {
     "name": "stdout",
     "output_type": "stream",
     "text": [
      "Collected 12 tweets at 2022-09-09.\n",
      "Running twitter query: \"(#covid) min_faves:50 lang:en until:2022-09-11 since:2022-09-10\"\n"
     ]
    },
    {
     "name": "stderr",
     "output_type": "stream",
     "text": [
      "Stopping after 20 empty pages\n"
     ]
    },
    {
     "name": "stdout",
     "output_type": "stream",
     "text": [
      "Collected 16 tweets at 2022-09-10.\n",
      "Running twitter query: \"(#covid) min_faves:50 lang:en until:2022-09-12 since:2022-09-11\"\n"
     ]
    },
    {
     "name": "stderr",
     "output_type": "stream",
     "text": [
      "Stopping after 20 empty pages\n"
     ]
    },
    {
     "name": "stdout",
     "output_type": "stream",
     "text": [
      "Collected 12 tweets at 2022-09-11.\n",
      "Running twitter query: \"(#covid) min_faves:50 lang:en until:2022-09-13 since:2022-09-12\"\n"
     ]
    },
    {
     "name": "stderr",
     "output_type": "stream",
     "text": [
      "Stopping after 20 empty pages\n"
     ]
    },
    {
     "name": "stdout",
     "output_type": "stream",
     "text": [
      "Collected 21 tweets at 2022-09-12.\n",
      "Running twitter query: \"(#covid) min_faves:50 lang:en until:2022-09-14 since:2022-09-13\"\n"
     ]
    },
    {
     "name": "stderr",
     "output_type": "stream",
     "text": [
      "Stopping after 20 empty pages\n"
     ]
    },
    {
     "name": "stdout",
     "output_type": "stream",
     "text": [
      "Collected 18 tweets at 2022-09-13.\n",
      "Running twitter query: \"(#covid) min_faves:50 lang:en until:2022-09-15 since:2022-09-14\"\n"
     ]
    },
    {
     "name": "stderr",
     "output_type": "stream",
     "text": [
      "Stopping after 20 empty pages\n"
     ]
    },
    {
     "name": "stdout",
     "output_type": "stream",
     "text": [
      "Collected 15 tweets at 2022-09-14.\n",
      "Running twitter query: \"(#covid) min_faves:50 lang:en until:2022-09-16 since:2022-09-15\"\n"
     ]
    },
    {
     "name": "stderr",
     "output_type": "stream",
     "text": [
      "Stopping after 20 empty pages\n"
     ]
    },
    {
     "name": "stdout",
     "output_type": "stream",
     "text": [
      "Collected 25 tweets at 2022-09-15.\n",
      "Running twitter query: \"(#covid) min_faves:50 lang:en until:2022-09-17 since:2022-09-16\"\n"
     ]
    },
    {
     "name": "stderr",
     "output_type": "stream",
     "text": [
      "Stopping after 20 empty pages\n"
     ]
    },
    {
     "name": "stdout",
     "output_type": "stream",
     "text": [
      "Collected 20 tweets at 2022-09-16.\n",
      "Running twitter query: \"(#covid) min_faves:50 lang:en until:2022-09-18 since:2022-09-17\"\n"
     ]
    },
    {
     "name": "stderr",
     "output_type": "stream",
     "text": [
      "Stopping after 20 empty pages\n"
     ]
    },
    {
     "name": "stdout",
     "output_type": "stream",
     "text": [
      "Collected 13 tweets at 2022-09-17.\n",
      "Running twitter query: \"(#covid) min_faves:50 lang:en until:2022-09-19 since:2022-09-18\"\n"
     ]
    },
    {
     "name": "stderr",
     "output_type": "stream",
     "text": [
      "Stopping after 20 empty pages\n"
     ]
    },
    {
     "name": "stdout",
     "output_type": "stream",
     "text": [
      "Collected 15 tweets at 2022-09-18.\n",
      "Running twitter query: \"(#covid) min_faves:50 lang:en until:2022-09-20 since:2022-09-19\"\n"
     ]
    },
    {
     "name": "stderr",
     "output_type": "stream",
     "text": [
      "Stopping after 20 empty pages\n"
     ]
    },
    {
     "name": "stdout",
     "output_type": "stream",
     "text": [
      "Collected 43 tweets at 2022-09-19.\n",
      "Running twitter query: \"(#covid) min_faves:50 lang:en until:2022-09-21 since:2022-09-20\"\n"
     ]
    },
    {
     "name": "stderr",
     "output_type": "stream",
     "text": [
      "Stopping after 20 empty pages\n"
     ]
    },
    {
     "name": "stdout",
     "output_type": "stream",
     "text": [
      "Collected 16 tweets at 2022-09-20.\n",
      "Running twitter query: \"(#covid) min_faves:50 lang:en until:2022-09-22 since:2022-09-21\"\n"
     ]
    },
    {
     "name": "stderr",
     "output_type": "stream",
     "text": [
      "Stopping after 20 empty pages\n"
     ]
    },
    {
     "name": "stdout",
     "output_type": "stream",
     "text": [
      "Collected 13 tweets at 2022-09-21.\n",
      "Running twitter query: \"(#covid) min_faves:50 lang:en until:2022-09-23 since:2022-09-22\"\n"
     ]
    },
    {
     "name": "stderr",
     "output_type": "stream",
     "text": [
      "Stopping after 20 empty pages\n"
     ]
    },
    {
     "name": "stdout",
     "output_type": "stream",
     "text": [
      "Collected 20 tweets at 2022-09-22.\n",
      "Running twitter query: \"(#covid) min_faves:50 lang:en until:2022-09-24 since:2022-09-23\"\n"
     ]
    },
    {
     "name": "stderr",
     "output_type": "stream",
     "text": [
      "Stopping after 20 empty pages\n"
     ]
    },
    {
     "name": "stdout",
     "output_type": "stream",
     "text": [
      "Collected 14 tweets at 2022-09-23.\n",
      "Running twitter query: \"(#covid) min_faves:50 lang:en until:2022-09-25 since:2022-09-24\"\n"
     ]
    },
    {
     "name": "stderr",
     "output_type": "stream",
     "text": [
      "Stopping after 20 empty pages\n"
     ]
    },
    {
     "name": "stdout",
     "output_type": "stream",
     "text": [
      "Collected 16 tweets at 2022-09-24.\n",
      "Running twitter query: \"(#covid) min_faves:50 lang:en until:2022-09-26 since:2022-09-25\"\n"
     ]
    },
    {
     "name": "stderr",
     "output_type": "stream",
     "text": [
      "Stopping after 20 empty pages\n"
     ]
    },
    {
     "name": "stdout",
     "output_type": "stream",
     "text": [
      "Collected 16 tweets at 2022-09-25.\n",
      "Running twitter query: \"(#covid) min_faves:50 lang:en until:2022-09-27 since:2022-09-26\"\n"
     ]
    },
    {
     "name": "stderr",
     "output_type": "stream",
     "text": [
      "Stopping after 20 empty pages\n"
     ]
    },
    {
     "name": "stdout",
     "output_type": "stream",
     "text": [
      "Collected 18 tweets at 2022-09-26.\n",
      "Running twitter query: \"(#covid) min_faves:50 lang:en until:2022-09-28 since:2022-09-27\"\n"
     ]
    },
    {
     "name": "stderr",
     "output_type": "stream",
     "text": [
      "Stopping after 20 empty pages\n"
     ]
    },
    {
     "name": "stdout",
     "output_type": "stream",
     "text": [
      "Collected 18 tweets at 2022-09-27.\n",
      "Running twitter query: \"(#covid) min_faves:50 lang:en until:2022-09-29 since:2022-09-28\"\n"
     ]
    },
    {
     "name": "stderr",
     "output_type": "stream",
     "text": [
      "Stopping after 20 empty pages\n"
     ]
    },
    {
     "name": "stdout",
     "output_type": "stream",
     "text": [
      "Collected 29 tweets at 2022-09-28.\n",
      "Running twitter query: \"(#covid) min_faves:50 lang:en until:2022-09-30 since:2022-09-29\"\n"
     ]
    },
    {
     "name": "stderr",
     "output_type": "stream",
     "text": [
      "Stopping after 20 empty pages\n"
     ]
    },
    {
     "name": "stdout",
     "output_type": "stream",
     "text": [
      "Collected 18 tweets at 2022-09-29.\n",
      "Running twitter query: \"(#covid) min_faves:50 lang:en until:2022-10-01 since:2022-09-30\"\n"
     ]
    },
    {
     "name": "stderr",
     "output_type": "stream",
     "text": [
      "Stopping after 20 empty pages\n"
     ]
    },
    {
     "name": "stdout",
     "output_type": "stream",
     "text": [
      "Collected 37 tweets at 2022-09-30.\n",
      "Saving 621 tweets at 2022-09.\n",
      "Running twitter query: \"(#covid) min_faves:50 lang:en until:2022-10-02 since:2022-10-01\"\n"
     ]
    },
    {
     "name": "stderr",
     "output_type": "stream",
     "text": [
      "Stopping after 20 empty pages\n"
     ]
    },
    {
     "name": "stdout",
     "output_type": "stream",
     "text": [
      "Collected 18 tweets at 2022-10-01.\n",
      "Running twitter query: \"(#covid) min_faves:50 lang:en until:2022-10-03 since:2022-10-02\"\n"
     ]
    },
    {
     "name": "stderr",
     "output_type": "stream",
     "text": [
      "Stopping after 20 empty pages\n"
     ]
    },
    {
     "name": "stdout",
     "output_type": "stream",
     "text": [
      "Collected 16 tweets at 2022-10-02.\n",
      "Running twitter query: \"(#covid) min_faves:50 lang:en until:2022-10-04 since:2022-10-03\"\n"
     ]
    },
    {
     "name": "stderr",
     "output_type": "stream",
     "text": [
      "Stopping after 20 empty pages\n"
     ]
    },
    {
     "name": "stdout",
     "output_type": "stream",
     "text": [
      "Collected 28 tweets at 2022-10-03.\n",
      "Running twitter query: \"(#covid) min_faves:50 lang:en until:2022-10-05 since:2022-10-04\"\n"
     ]
    },
    {
     "name": "stderr",
     "output_type": "stream",
     "text": [
      "Stopping after 20 empty pages\n"
     ]
    },
    {
     "name": "stdout",
     "output_type": "stream",
     "text": [
      "Collected 18 tweets at 2022-10-04.\n",
      "Running twitter query: \"(#covid) min_faves:50 lang:en until:2022-10-06 since:2022-10-05\"\n"
     ]
    },
    {
     "name": "stderr",
     "output_type": "stream",
     "text": [
      "Stopping after 20 empty pages\n"
     ]
    },
    {
     "name": "stdout",
     "output_type": "stream",
     "text": [
      "Collected 25 tweets at 2022-10-05.\n",
      "Running twitter query: \"(#covid) min_faves:50 lang:en until:2022-10-07 since:2022-10-06\"\n"
     ]
    },
    {
     "name": "stderr",
     "output_type": "stream",
     "text": [
      "Stopping after 20 empty pages\n"
     ]
    },
    {
     "name": "stdout",
     "output_type": "stream",
     "text": [
      "Collected 28 tweets at 2022-10-06.\n",
      "Running twitter query: \"(#covid) min_faves:50 lang:en until:2022-10-08 since:2022-10-07\"\n"
     ]
    },
    {
     "name": "stderr",
     "output_type": "stream",
     "text": [
      "Stopping after 20 empty pages\n"
     ]
    },
    {
     "name": "stdout",
     "output_type": "stream",
     "text": [
      "Collected 30 tweets at 2022-10-07.\n",
      "Running twitter query: \"(#covid) min_faves:50 lang:en until:2022-10-09 since:2022-10-08\"\n"
     ]
    },
    {
     "name": "stderr",
     "output_type": "stream",
     "text": [
      "Stopping after 20 empty pages\n"
     ]
    },
    {
     "name": "stdout",
     "output_type": "stream",
     "text": [
      "Collected 29 tweets at 2022-10-08.\n",
      "Running twitter query: \"(#covid) min_faves:50 lang:en until:2022-10-10 since:2022-10-09\"\n"
     ]
    },
    {
     "name": "stderr",
     "output_type": "stream",
     "text": [
      "Stopping after 20 empty pages\n"
     ]
    },
    {
     "name": "stdout",
     "output_type": "stream",
     "text": [
      "Collected 20 tweets at 2022-10-09.\n",
      "Running twitter query: \"(#covid) min_faves:50 lang:en until:2022-10-11 since:2022-10-10\"\n"
     ]
    },
    {
     "name": "stderr",
     "output_type": "stream",
     "text": [
      "Stopping after 20 empty pages\n"
     ]
    },
    {
     "name": "stdout",
     "output_type": "stream",
     "text": [
      "Collected 23 tweets at 2022-10-10.\n",
      "Running twitter query: \"(#covid) min_faves:50 lang:en until:2022-10-12 since:2022-10-11\"\n"
     ]
    },
    {
     "name": "stderr",
     "output_type": "stream",
     "text": [
      "Unavailable user in card on tweet 1579854793585340418\n",
      "User 3562471 not found in user refs in card on tweet 1579854793585340418\n",
      "Stopping after 20 empty pages\n"
     ]
    },
    {
     "name": "stdout",
     "output_type": "stream",
     "text": [
      "Collected 32 tweets at 2022-10-11.\n",
      "Running twitter query: \"(#covid) min_faves:50 lang:en until:2022-10-13 since:2022-10-12\"\n"
     ]
    },
    {
     "name": "stderr",
     "output_type": "stream",
     "text": [
      "Stopping after 20 empty pages\n"
     ]
    },
    {
     "name": "stdout",
     "output_type": "stream",
     "text": [
      "Collected 33 tweets at 2022-10-12.\n",
      "Running twitter query: \"(#covid) min_faves:50 lang:en until:2022-10-14 since:2022-10-13\"\n"
     ]
    },
    {
     "name": "stderr",
     "output_type": "stream",
     "text": [
      "Stopping after 20 empty pages\n"
     ]
    },
    {
     "name": "stdout",
     "output_type": "stream",
     "text": [
      "Collected 18 tweets at 2022-10-13.\n",
      "Running twitter query: \"(#covid) min_faves:50 lang:en until:2022-10-15 since:2022-10-14\"\n"
     ]
    },
    {
     "name": "stderr",
     "output_type": "stream",
     "text": [
      "Stopping after 20 empty pages\n"
     ]
    },
    {
     "name": "stdout",
     "output_type": "stream",
     "text": [
      "Collected 28 tweets at 2022-10-14.\n",
      "Running twitter query: \"(#covid) min_faves:50 lang:en until:2022-10-16 since:2022-10-15\"\n"
     ]
    },
    {
     "name": "stderr",
     "output_type": "stream",
     "text": [
      "Stopping after 20 empty pages\n"
     ]
    },
    {
     "name": "stdout",
     "output_type": "stream",
     "text": [
      "Collected 26 tweets at 2022-10-15.\n",
      "Running twitter query: \"(#covid) min_faves:50 lang:en until:2022-10-17 since:2022-10-16\"\n"
     ]
    },
    {
     "name": "stderr",
     "output_type": "stream",
     "text": [
      "Stopping after 20 empty pages\n"
     ]
    },
    {
     "name": "stdout",
     "output_type": "stream",
     "text": [
      "Collected 17 tweets at 2022-10-16.\n",
      "Running twitter query: \"(#covid) min_faves:50 lang:en until:2022-10-18 since:2022-10-17\"\n"
     ]
    },
    {
     "name": "stderr",
     "output_type": "stream",
     "text": [
      "Stopping after 20 empty pages\n"
     ]
    },
    {
     "name": "stdout",
     "output_type": "stream",
     "text": [
      "Collected 18 tweets at 2022-10-17.\n",
      "Running twitter query: \"(#covid) min_faves:50 lang:en until:2022-10-19 since:2022-10-18\"\n"
     ]
    },
    {
     "name": "stderr",
     "output_type": "stream",
     "text": [
      "Stopping after 20 empty pages\n"
     ]
    },
    {
     "name": "stdout",
     "output_type": "stream",
     "text": [
      "Collected 28 tweets at 2022-10-18.\n",
      "Running twitter query: \"(#covid) min_faves:50 lang:en until:2022-10-20 since:2022-10-19\"\n"
     ]
    },
    {
     "name": "stderr",
     "output_type": "stream",
     "text": [
      "Stopping after 20 empty pages\n"
     ]
    },
    {
     "name": "stdout",
     "output_type": "stream",
     "text": [
      "Collected 34 tweets at 2022-10-19.\n",
      "Running twitter query: \"(#covid) min_faves:50 lang:en until:2022-10-21 since:2022-10-20\"\n"
     ]
    },
    {
     "name": "stderr",
     "output_type": "stream",
     "text": [
      "Stopping after 20 empty pages\n"
     ]
    },
    {
     "name": "stdout",
     "output_type": "stream",
     "text": [
      "Collected 29 tweets at 2022-10-20.\n",
      "Running twitter query: \"(#covid) min_faves:50 lang:en until:2022-10-22 since:2022-10-21\"\n"
     ]
    },
    {
     "name": "stderr",
     "output_type": "stream",
     "text": [
      "Stopping after 20 empty pages\n"
     ]
    },
    {
     "name": "stdout",
     "output_type": "stream",
     "text": [
      "Collected 23 tweets at 2022-10-21.\n",
      "Running twitter query: \"(#covid) min_faves:50 lang:en until:2022-10-23 since:2022-10-22\"\n"
     ]
    },
    {
     "name": "stderr",
     "output_type": "stream",
     "text": [
      "Stopping after 20 empty pages\n"
     ]
    },
    {
     "name": "stdout",
     "output_type": "stream",
     "text": [
      "Collected 20 tweets at 2022-10-22.\n",
      "Running twitter query: \"(#covid) min_faves:50 lang:en until:2022-10-24 since:2022-10-23\"\n"
     ]
    },
    {
     "name": "stderr",
     "output_type": "stream",
     "text": [
      "Stopping after 20 empty pages\n"
     ]
    },
    {
     "name": "stdout",
     "output_type": "stream",
     "text": [
      "Collected 22 tweets at 2022-10-23.\n",
      "Running twitter query: \"(#covid) min_faves:50 lang:en until:2022-10-25 since:2022-10-24\"\n"
     ]
    },
    {
     "name": "stderr",
     "output_type": "stream",
     "text": [
      "Stopping after 20 empty pages\n"
     ]
    },
    {
     "name": "stdout",
     "output_type": "stream",
     "text": [
      "Collected 15 tweets at 2022-10-24.\n",
      "Running twitter query: \"(#covid) min_faves:50 lang:en until:2022-10-26 since:2022-10-25\"\n"
     ]
    },
    {
     "name": "stderr",
     "output_type": "stream",
     "text": [
      "Stopping after 20 empty pages\n"
     ]
    },
    {
     "name": "stdout",
     "output_type": "stream",
     "text": [
      "Collected 20 tweets at 2022-10-25.\n",
      "Running twitter query: \"(#covid) min_faves:50 lang:en until:2022-10-27 since:2022-10-26\"\n"
     ]
    },
    {
     "name": "stderr",
     "output_type": "stream",
     "text": [
      "Stopping after 20 empty pages\n"
     ]
    },
    {
     "name": "stdout",
     "output_type": "stream",
     "text": [
      "Collected 27 tweets at 2022-10-26.\n",
      "Running twitter query: \"(#covid) min_faves:50 lang:en until:2022-10-28 since:2022-10-27\"\n"
     ]
    },
    {
     "name": "stderr",
     "output_type": "stream",
     "text": [
      "Stopping after 20 empty pages\n"
     ]
    },
    {
     "name": "stdout",
     "output_type": "stream",
     "text": [
      "Collected 12 tweets at 2022-10-27.\n",
      "Running twitter query: \"(#covid) min_faves:50 lang:en until:2022-10-29 since:2022-10-28\"\n"
     ]
    },
    {
     "name": "stderr",
     "output_type": "stream",
     "text": [
      "Stopping after 20 empty pages\n"
     ]
    },
    {
     "name": "stdout",
     "output_type": "stream",
     "text": [
      "Collected 24 tweets at 2022-10-28.\n",
      "Running twitter query: \"(#covid) min_faves:50 lang:en until:2022-10-30 since:2022-10-29\"\n"
     ]
    },
    {
     "name": "stderr",
     "output_type": "stream",
     "text": [
      "Stopping after 20 empty pages\n"
     ]
    },
    {
     "name": "stdout",
     "output_type": "stream",
     "text": [
      "Collected 14 tweets at 2022-10-29.\n",
      "Running twitter query: \"(#covid) min_faves:50 lang:en until:2022-10-31 since:2022-10-30\"\n"
     ]
    },
    {
     "name": "stderr",
     "output_type": "stream",
     "text": [
      "Twitter responded with an error: TimeoutError: Timeout: Unspecified, TimeoutError: Timeout: Unspecified, TimeoutError: Timeout: Unspecified, TimeoutError: Timeout: Unspecified, TimeoutError: Timeout: Unspecified, TimeoutError: Timeout: Unspecified, TimeoutError: Timeout: Unspecified, TimeoutError: Timeout: Unspecified, TimeoutError: Timeout: Unspecified, TimeoutError: Timeout: Unspecified, TimeoutError: Timeout: Unspecified, TimeoutError: Timeout: Unspecified, TimeoutError: Timeout: Unspecified, TimeoutError: Timeout: Unspecified, TimeoutError: Timeout: Unspecified, TimeoutError: Timeout: Unspecified, TimeoutError: Timeout: Unspecified, TimeoutError: Timeout: Unspecified, TimeoutError: Timeout: Unspecified, TimeoutError: Timeout: Unspecified\n",
      "Skipping empty tweet entry tweet-1586869848348495878\n",
      "Skipping empty tweet entry tweet-1586867883992309762\n",
      "Skipping empty tweet entry tweet-1586861087785619462\n",
      "Skipping empty tweet entry tweet-1586791189294075907\n",
      "Skipping empty tweet entry tweet-1586766295164669953\n",
      "Skipping empty tweet entry tweet-1586763731739893760\n",
      "Skipping empty tweet entry tweet-1586752962436550656\n",
      "Skipping empty tweet entry tweet-1586746099305431044\n",
      "Skipping empty tweet entry tweet-1586726343231905799\n",
      "Skipping empty tweet entry tweet-1586720304076058624\n",
      "Skipping empty tweet entry tweet-1586717344612904960\n",
      "Skipping empty tweet entry tweet-1586685885222981633\n",
      "Skipping empty tweet entry tweet-1586677293107118080\n",
      "Skipping empty tweet entry tweet-1586669026788491264\n",
      "Skipping empty tweet entry tweet-1586665133572558853\n",
      "Skipping empty tweet entry tweet-1586640166751387650\n",
      "Skipping empty tweet entry tweet-1586638120606310400\n",
      "Skipping empty tweet entry tweet-1586635368203358208\n",
      "Skipping empty tweet entry tweet-1586633671150211072\n",
      "Skipping empty tweet entry tweet-1586558037845852160\n",
      "Stopping after 20 empty pages\n"
     ]
    },
    {
     "name": "stdout",
     "output_type": "stream",
     "text": [
      "Collected 2 tweets at 2022-10-30.\n",
      "Running twitter query: \"(#covid) min_faves:50 lang:en until:2022-11-01 since:2022-10-31\"\n"
     ]
    },
    {
     "name": "stderr",
     "output_type": "stream",
     "text": [
      "Stopping after 20 empty pages\n"
     ]
    },
    {
     "name": "stdout",
     "output_type": "stream",
     "text": [
      "Collected 33 tweets at 2022-10-31.\n",
      "Saving 741 tweets at 2022-10.\n",
      "Running twitter query: \"(#covid) min_faves:50 lang:en until:2022-11-02 since:2022-11-01\"\n"
     ]
    },
    {
     "name": "stderr",
     "output_type": "stream",
     "text": [
      "Stopping after 20 empty pages\n"
     ]
    },
    {
     "name": "stdout",
     "output_type": "stream",
     "text": [
      "Collected 17 tweets at 2022-11-01.\n",
      "Running twitter query: \"(#covid) min_faves:50 lang:en until:2022-11-03 since:2022-11-02\"\n"
     ]
    },
    {
     "name": "stderr",
     "output_type": "stream",
     "text": [
      "Unavailable user in card on tweet 1587703463026327552\n",
      "User 3562471 not found in user refs in card on tweet 1587703463026327552\n",
      "Stopping after 20 empty pages\n"
     ]
    },
    {
     "name": "stdout",
     "output_type": "stream",
     "text": [
      "Collected 32 tweets at 2022-11-02.\n",
      "Running twitter query: \"(#covid) min_faves:50 lang:en until:2022-11-04 since:2022-11-03\"\n"
     ]
    },
    {
     "name": "stderr",
     "output_type": "stream",
     "text": [
      "Stopping after 20 empty pages\n"
     ]
    },
    {
     "name": "stdout",
     "output_type": "stream",
     "text": [
      "Collected 22 tweets at 2022-11-03.\n",
      "Running twitter query: \"(#covid) min_faves:50 lang:en until:2022-11-05 since:2022-11-04\"\n"
     ]
    },
    {
     "name": "stderr",
     "output_type": "stream",
     "text": [
      "Stopping after 20 empty pages\n"
     ]
    },
    {
     "name": "stdout",
     "output_type": "stream",
     "text": [
      "Collected 25 tweets at 2022-11-04.\n",
      "Running twitter query: \"(#covid) min_faves:50 lang:en until:2022-11-06 since:2022-11-05\"\n"
     ]
    },
    {
     "name": "stderr",
     "output_type": "stream",
     "text": [
      "Stopping after 20 empty pages\n"
     ]
    },
    {
     "name": "stdout",
     "output_type": "stream",
     "text": [
      "Collected 19 tweets at 2022-11-05.\n",
      "Running twitter query: \"(#covid) min_faves:50 lang:en until:2022-11-07 since:2022-11-06\"\n"
     ]
    },
    {
     "name": "stderr",
     "output_type": "stream",
     "text": [
      "Stopping after 20 empty pages\n"
     ]
    },
    {
     "name": "stdout",
     "output_type": "stream",
     "text": [
      "Collected 22 tweets at 2022-11-06.\n",
      "Running twitter query: \"(#covid) min_faves:50 lang:en until:2022-11-08 since:2022-11-07\"\n"
     ]
    },
    {
     "name": "stderr",
     "output_type": "stream",
     "text": [
      "Stopping after 20 empty pages\n"
     ]
    },
    {
     "name": "stdout",
     "output_type": "stream",
     "text": [
      "Collected 25 tweets at 2022-11-07.\n",
      "Running twitter query: \"(#covid) min_faves:50 lang:en until:2022-11-09 since:2022-11-08\"\n"
     ]
    },
    {
     "name": "stderr",
     "output_type": "stream",
     "text": [
      "Stopping after 20 empty pages\n"
     ]
    },
    {
     "name": "stdout",
     "output_type": "stream",
     "text": [
      "Collected 26 tweets at 2022-11-08.\n",
      "Running twitter query: \"(#covid) min_faves:50 lang:en until:2022-11-10 since:2022-11-09\"\n"
     ]
    },
    {
     "name": "stderr",
     "output_type": "stream",
     "text": [
      "Stopping after 20 empty pages\n"
     ]
    },
    {
     "name": "stdout",
     "output_type": "stream",
     "text": [
      "Collected 15 tweets at 2022-11-09.\n",
      "Running twitter query: \"(#covid) min_faves:50 lang:en until:2022-11-11 since:2022-11-10\"\n"
     ]
    },
    {
     "name": "stderr",
     "output_type": "stream",
     "text": [
      "Stopping after 20 empty pages\n"
     ]
    },
    {
     "name": "stdout",
     "output_type": "stream",
     "text": [
      "Collected 16 tweets at 2022-11-10.\n",
      "Running twitter query: \"(#covid) min_faves:50 lang:en until:2022-11-12 since:2022-11-11\"\n"
     ]
    },
    {
     "name": "stderr",
     "output_type": "stream",
     "text": [
      "Stopping after 20 empty pages\n"
     ]
    },
    {
     "name": "stdout",
     "output_type": "stream",
     "text": [
      "Collected 42 tweets at 2022-11-11.\n",
      "Running twitter query: \"(#covid) min_faves:50 lang:en until:2022-11-13 since:2022-11-12\"\n"
     ]
    },
    {
     "name": "stderr",
     "output_type": "stream",
     "text": [
      "Stopping after 20 empty pages\n"
     ]
    },
    {
     "name": "stdout",
     "output_type": "stream",
     "text": [
      "Collected 27 tweets at 2022-11-12.\n",
      "Running twitter query: \"(#covid) min_faves:50 lang:en until:2022-11-14 since:2022-11-13\"\n"
     ]
    },
    {
     "name": "stderr",
     "output_type": "stream",
     "text": [
      "Stopping after 20 empty pages\n"
     ]
    },
    {
     "name": "stdout",
     "output_type": "stream",
     "text": [
      "Collected 16 tweets at 2022-11-13.\n",
      "Running twitter query: \"(#covid) min_faves:50 lang:en until:2022-11-15 since:2022-11-14\"\n"
     ]
    },
    {
     "name": "stderr",
     "output_type": "stream",
     "text": [
      "Stopping after 20 empty pages\n"
     ]
    },
    {
     "name": "stdout",
     "output_type": "stream",
     "text": [
      "Collected 18 tweets at 2022-11-14.\n",
      "Running twitter query: \"(#covid) min_faves:50 lang:en until:2022-11-16 since:2022-11-15\"\n"
     ]
    },
    {
     "name": "stderr",
     "output_type": "stream",
     "text": [
      "Stopping after 20 empty pages\n"
     ]
    },
    {
     "name": "stdout",
     "output_type": "stream",
     "text": [
      "Collected 23 tweets at 2022-11-15.\n",
      "Running twitter query: \"(#covid) min_faves:50 lang:en until:2022-11-17 since:2022-11-16\"\n"
     ]
    },
    {
     "name": "stderr",
     "output_type": "stream",
     "text": [
      "Stopping after 20 empty pages\n"
     ]
    },
    {
     "name": "stdout",
     "output_type": "stream",
     "text": [
      "Collected 25 tweets at 2022-11-16.\n",
      "Running twitter query: \"(#covid) min_faves:50 lang:en until:2022-11-18 since:2022-11-17\"\n"
     ]
    },
    {
     "name": "stderr",
     "output_type": "stream",
     "text": [
      "Stopping after 20 empty pages\n"
     ]
    },
    {
     "name": "stdout",
     "output_type": "stream",
     "text": [
      "Collected 20 tweets at 2022-11-17.\n",
      "Running twitter query: \"(#covid) min_faves:50 lang:en until:2022-11-19 since:2022-11-18\"\n"
     ]
    },
    {
     "name": "stderr",
     "output_type": "stream",
     "text": [
      "Stopping after 20 empty pages\n"
     ]
    },
    {
     "name": "stdout",
     "output_type": "stream",
     "text": [
      "Collected 14 tweets at 2022-11-18.\n",
      "Running twitter query: \"(#covid) min_faves:50 lang:en until:2022-11-20 since:2022-11-19\"\n"
     ]
    },
    {
     "name": "stderr",
     "output_type": "stream",
     "text": [
      "Stopping after 20 empty pages\n"
     ]
    },
    {
     "name": "stdout",
     "output_type": "stream",
     "text": [
      "Collected 27 tweets at 2022-11-19.\n",
      "Running twitter query: \"(#covid) min_faves:50 lang:en until:2022-11-21 since:2022-11-20\"\n"
     ]
    },
    {
     "name": "stderr",
     "output_type": "stream",
     "text": [
      "Stopping after 20 empty pages\n"
     ]
    },
    {
     "name": "stdout",
     "output_type": "stream",
     "text": [
      "Collected 19 tweets at 2022-11-20.\n",
      "Running twitter query: \"(#covid) min_faves:50 lang:en until:2022-11-22 since:2022-11-21\"\n"
     ]
    },
    {
     "name": "stderr",
     "output_type": "stream",
     "text": [
      "Stopping after 20 empty pages\n"
     ]
    },
    {
     "name": "stdout",
     "output_type": "stream",
     "text": [
      "Collected 23 tweets at 2022-11-21.\n",
      "Running twitter query: \"(#covid) min_faves:50 lang:en until:2022-11-23 since:2022-11-22\"\n"
     ]
    },
    {
     "name": "stderr",
     "output_type": "stream",
     "text": [
      "Stopping after 20 empty pages\n"
     ]
    },
    {
     "name": "stdout",
     "output_type": "stream",
     "text": [
      "Collected 19 tweets at 2022-11-22.\n",
      "Running twitter query: \"(#covid) min_faves:50 lang:en until:2022-11-24 since:2022-11-23\"\n"
     ]
    },
    {
     "name": "stderr",
     "output_type": "stream",
     "text": [
      "Stopping after 20 empty pages\n"
     ]
    },
    {
     "name": "stdout",
     "output_type": "stream",
     "text": [
      "Collected 30 tweets at 2022-11-23.\n",
      "Running twitter query: \"(#covid) min_faves:50 lang:en until:2022-11-25 since:2022-11-24\"\n"
     ]
    },
    {
     "name": "stderr",
     "output_type": "stream",
     "text": [
      "Stopping after 20 empty pages\n"
     ]
    },
    {
     "name": "stdout",
     "output_type": "stream",
     "text": [
      "Collected 13 tweets at 2022-11-24.\n",
      "Running twitter query: \"(#covid) min_faves:50 lang:en until:2022-11-26 since:2022-11-25\"\n"
     ]
    },
    {
     "name": "stderr",
     "output_type": "stream",
     "text": [
      "Stopping after 20 empty pages\n"
     ]
    },
    {
     "name": "stdout",
     "output_type": "stream",
     "text": [
      "Collected 22 tweets at 2022-11-25.\n",
      "Running twitter query: \"(#covid) min_faves:50 lang:en until:2022-11-27 since:2022-11-26\"\n"
     ]
    },
    {
     "name": "stderr",
     "output_type": "stream",
     "text": [
      "Stopping after 20 empty pages\n"
     ]
    },
    {
     "name": "stdout",
     "output_type": "stream",
     "text": [
      "Collected 34 tweets at 2022-11-26.\n",
      "Running twitter query: \"(#covid) min_faves:50 lang:en until:2022-11-28 since:2022-11-27\"\n"
     ]
    },
    {
     "name": "stderr",
     "output_type": "stream",
     "text": [
      "Stopping after 20 empty pages\n"
     ]
    },
    {
     "name": "stdout",
     "output_type": "stream",
     "text": [
      "Collected 27 tweets at 2022-11-27.\n",
      "Running twitter query: \"(#covid) min_faves:50 lang:en until:2022-11-29 since:2022-11-28\"\n"
     ]
    },
    {
     "name": "stderr",
     "output_type": "stream",
     "text": [
      "Stopping after 20 empty pages\n"
     ]
    },
    {
     "name": "stdout",
     "output_type": "stream",
     "text": [
      "Collected 25 tweets at 2022-11-28.\n",
      "Running twitter query: \"(#covid) min_faves:50 lang:en until:2022-11-30 since:2022-11-29\"\n"
     ]
    },
    {
     "name": "stderr",
     "output_type": "stream",
     "text": [
      "Stopping after 20 empty pages\n"
     ]
    },
    {
     "name": "stdout",
     "output_type": "stream",
     "text": [
      "Collected 19 tweets at 2022-11-29.\n",
      "Running twitter query: \"(#covid) min_faves:50 lang:en until:2022-12-01 since:2022-11-30\"\n"
     ]
    },
    {
     "name": "stderr",
     "output_type": "stream",
     "text": [
      "Stopping after 20 empty pages\n"
     ]
    },
    {
     "name": "stdout",
     "output_type": "stream",
     "text": [
      "Collected 34 tweets at 2022-11-30.\n",
      "Saving 726 tweets at 2022-11.\n",
      "Running twitter query: \"(#covid) min_faves:50 lang:en until:2022-12-02 since:2022-12-01\"\n"
     ]
    },
    {
     "name": "stderr",
     "output_type": "stream",
     "text": [
      "Stopping after 20 empty pages\n"
     ]
    },
    {
     "name": "stdout",
     "output_type": "stream",
     "text": [
      "Collected 18 tweets at 2022-12-01.\n",
      "Running twitter query: \"(#covid) min_faves:50 lang:en until:2022-12-03 since:2022-12-02\"\n"
     ]
    },
    {
     "name": "stderr",
     "output_type": "stream",
     "text": [
      "Stopping after 20 empty pages\n"
     ]
    },
    {
     "name": "stdout",
     "output_type": "stream",
     "text": [
      "Collected 27 tweets at 2022-12-02.\n",
      "Running twitter query: \"(#covid) min_faves:50 lang:en until:2022-12-04 since:2022-12-03\"\n"
     ]
    },
    {
     "name": "stderr",
     "output_type": "stream",
     "text": [
      "Stopping after 20 empty pages\n"
     ]
    },
    {
     "name": "stdout",
     "output_type": "stream",
     "text": [
      "Collected 23 tweets at 2022-12-03.\n",
      "Running twitter query: \"(#covid) min_faves:50 lang:en until:2022-12-05 since:2022-12-04\"\n"
     ]
    },
    {
     "name": "stderr",
     "output_type": "stream",
     "text": [
      "Stopping after 20 empty pages\n"
     ]
    },
    {
     "name": "stdout",
     "output_type": "stream",
     "text": [
      "Collected 21 tweets at 2022-12-04.\n",
      "Running twitter query: \"(#covid) min_faves:50 lang:en until:2022-12-06 since:2022-12-05\"\n"
     ]
    },
    {
     "name": "stderr",
     "output_type": "stream",
     "text": [
      "Stopping after 20 empty pages\n"
     ]
    },
    {
     "name": "stdout",
     "output_type": "stream",
     "text": [
      "Collected 35 tweets at 2022-12-05.\n",
      "Running twitter query: \"(#covid) min_faves:50 lang:en until:2022-12-07 since:2022-12-06\"\n"
     ]
    },
    {
     "name": "stderr",
     "output_type": "stream",
     "text": [
      "Stopping after 20 empty pages\n"
     ]
    },
    {
     "name": "stdout",
     "output_type": "stream",
     "text": [
      "Collected 22 tweets at 2022-12-06.\n",
      "Running twitter query: \"(#covid) min_faves:50 lang:en until:2022-12-08 since:2022-12-07\"\n"
     ]
    },
    {
     "name": "stderr",
     "output_type": "stream",
     "text": [
      "Stopping after 20 empty pages\n"
     ]
    },
    {
     "name": "stdout",
     "output_type": "stream",
     "text": [
      "Collected 23 tweets at 2022-12-07.\n",
      "Running twitter query: \"(#covid) min_faves:50 lang:en until:2022-12-09 since:2022-12-08\"\n"
     ]
    },
    {
     "name": "stderr",
     "output_type": "stream",
     "text": [
      "Stopping after 20 empty pages\n"
     ]
    },
    {
     "name": "stdout",
     "output_type": "stream",
     "text": [
      "Collected 20 tweets at 2022-12-08.\n",
      "Running twitter query: \"(#covid) min_faves:50 lang:en until:2022-12-10 since:2022-12-09\"\n"
     ]
    },
    {
     "name": "stderr",
     "output_type": "stream",
     "text": [
      "Stopping after 20 empty pages\n"
     ]
    },
    {
     "name": "stdout",
     "output_type": "stream",
     "text": [
      "Collected 16 tweets at 2022-12-09.\n",
      "Running twitter query: \"(#covid) min_faves:50 lang:en until:2022-12-11 since:2022-12-10\"\n"
     ]
    },
    {
     "name": "stderr",
     "output_type": "stream",
     "text": [
      "Stopping after 20 empty pages\n"
     ]
    },
    {
     "name": "stdout",
     "output_type": "stream",
     "text": [
      "Collected 22 tweets at 2022-12-10.\n",
      "Running twitter query: \"(#covid) min_faves:50 lang:en until:2022-12-12 since:2022-12-11\"\n"
     ]
    },
    {
     "name": "stderr",
     "output_type": "stream",
     "text": [
      "Stopping after 20 empty pages\n"
     ]
    },
    {
     "name": "stdout",
     "output_type": "stream",
     "text": [
      "Collected 22 tweets at 2022-12-11.\n",
      "Running twitter query: \"(#covid) min_faves:50 lang:en until:2022-12-13 since:2022-12-12\"\n"
     ]
    },
    {
     "name": "stderr",
     "output_type": "stream",
     "text": [
      "Unavailable user in card on tweet 1602434888535252992\n",
      "User 3562471 not found in user refs in card on tweet 1602434888535252992\n",
      "Stopping after 20 empty pages\n"
     ]
    },
    {
     "name": "stdout",
     "output_type": "stream",
     "text": [
      "Collected 28 tweets at 2022-12-12.\n",
      "Running twitter query: \"(#covid) min_faves:50 lang:en until:2022-12-14 since:2022-12-13\"\n"
     ]
    },
    {
     "name": "stderr",
     "output_type": "stream",
     "text": [
      "Stopping after 20 empty pages\n"
     ]
    },
    {
     "name": "stdout",
     "output_type": "stream",
     "text": [
      "Collected 21 tweets at 2022-12-13.\n",
      "Running twitter query: \"(#covid) min_faves:50 lang:en until:2022-12-15 since:2022-12-14\"\n"
     ]
    },
    {
     "name": "stderr",
     "output_type": "stream",
     "text": [
      "Stopping after 20 empty pages\n"
     ]
    },
    {
     "name": "stdout",
     "output_type": "stream",
     "text": [
      "Collected 31 tweets at 2022-12-14.\n",
      "Running twitter query: \"(#covid) min_faves:50 lang:en until:2022-12-16 since:2022-12-15\"\n"
     ]
    },
    {
     "name": "stderr",
     "output_type": "stream",
     "text": [
      "Stopping after 20 empty pages\n"
     ]
    },
    {
     "name": "stdout",
     "output_type": "stream",
     "text": [
      "Collected 22 tweets at 2022-12-15.\n",
      "Running twitter query: \"(#covid) min_faves:50 lang:en until:2022-12-17 since:2022-12-16\"\n"
     ]
    },
    {
     "name": "stderr",
     "output_type": "stream",
     "text": [
      "Stopping after 20 empty pages\n"
     ]
    },
    {
     "name": "stdout",
     "output_type": "stream",
     "text": [
      "Collected 24 tweets at 2022-12-16.\n",
      "Running twitter query: \"(#covid) min_faves:50 lang:en until:2022-12-18 since:2022-12-17\"\n"
     ]
    },
    {
     "name": "stderr",
     "output_type": "stream",
     "text": [
      "Stopping after 20 empty pages\n"
     ]
    },
    {
     "name": "stdout",
     "output_type": "stream",
     "text": [
      "Collected 20 tweets at 2022-12-17.\n",
      "Running twitter query: \"(#covid) min_faves:50 lang:en until:2022-12-19 since:2022-12-18\"\n"
     ]
    },
    {
     "name": "stderr",
     "output_type": "stream",
     "text": [
      "Stopping after 20 empty pages\n"
     ]
    },
    {
     "name": "stdout",
     "output_type": "stream",
     "text": [
      "Collected 31 tweets at 2022-12-18.\n",
      "Running twitter query: \"(#covid) min_faves:50 lang:en until:2022-12-20 since:2022-12-19\"\n"
     ]
    },
    {
     "name": "stderr",
     "output_type": "stream",
     "text": [
      "Stopping after 20 empty pages\n"
     ]
    },
    {
     "name": "stdout",
     "output_type": "stream",
     "text": [
      "Collected 42 tweets at 2022-12-19.\n",
      "Running twitter query: \"(#covid) min_faves:50 lang:en until:2022-12-21 since:2022-12-20\"\n"
     ]
    },
    {
     "name": "stderr",
     "output_type": "stream",
     "text": [
      "Stopping after 20 empty pages\n"
     ]
    },
    {
     "name": "stdout",
     "output_type": "stream",
     "text": [
      "Collected 42 tweets at 2022-12-20.\n",
      "Running twitter query: \"(#covid) min_faves:50 lang:en until:2022-12-22 since:2022-12-21\"\n"
     ]
    },
    {
     "name": "stderr",
     "output_type": "stream",
     "text": [
      "Stopping after 20 empty pages\n"
     ]
    },
    {
     "name": "stdout",
     "output_type": "stream",
     "text": [
      "Collected 65 tweets at 2022-12-21.\n",
      "Running twitter query: \"(#covid) min_faves:50 lang:en until:2022-12-23 since:2022-12-22\"\n"
     ]
    },
    {
     "name": "stderr",
     "output_type": "stream",
     "text": [
      "Stopping after 20 empty pages\n"
     ]
    },
    {
     "name": "stdout",
     "output_type": "stream",
     "text": [
      "Collected 59 tweets at 2022-12-22.\n",
      "Running twitter query: \"(#covid) min_faves:50 lang:en until:2022-12-24 since:2022-12-23\"\n"
     ]
    },
    {
     "name": "stderr",
     "output_type": "stream",
     "text": [
      "Stopping after 20 empty pages\n"
     ]
    },
    {
     "name": "stdout",
     "output_type": "stream",
     "text": [
      "Collected 39 tweets at 2022-12-23.\n",
      "Running twitter query: \"(#covid) min_faves:50 lang:en until:2022-12-25 since:2022-12-24\"\n"
     ]
    },
    {
     "name": "stderr",
     "output_type": "stream",
     "text": [
      "Stopping after 20 empty pages\n"
     ]
    },
    {
     "name": "stdout",
     "output_type": "stream",
     "text": [
      "Collected 35 tweets at 2022-12-24.\n",
      "Running twitter query: \"(#covid) min_faves:50 lang:en until:2022-12-26 since:2022-12-25\"\n"
     ]
    },
    {
     "name": "stderr",
     "output_type": "stream",
     "text": [
      "Stopping after 20 empty pages\n"
     ]
    },
    {
     "name": "stdout",
     "output_type": "stream",
     "text": [
      "Collected 19 tweets at 2022-12-25.\n",
      "Running twitter query: \"(#covid) min_faves:50 lang:en until:2022-12-27 since:2022-12-26\"\n"
     ]
    },
    {
     "name": "stderr",
     "output_type": "stream",
     "text": [
      "Stopping after 20 empty pages\n"
     ]
    },
    {
     "name": "stdout",
     "output_type": "stream",
     "text": [
      "Collected 30 tweets at 2022-12-26.\n",
      "Running twitter query: \"(#covid) min_faves:50 lang:en until:2022-12-28 since:2022-12-27\"\n"
     ]
    },
    {
     "name": "stderr",
     "output_type": "stream",
     "text": [
      "Stopping after 20 empty pages\n"
     ]
    },
    {
     "name": "stdout",
     "output_type": "stream",
     "text": [
      "Collected 46 tweets at 2022-12-27.\n",
      "Running twitter query: \"(#covid) min_faves:50 lang:en until:2022-12-29 since:2022-12-28\"\n"
     ]
    },
    {
     "name": "stderr",
     "output_type": "stream",
     "text": [
      "Stopping after 20 empty pages\n"
     ]
    },
    {
     "name": "stdout",
     "output_type": "stream",
     "text": [
      "Collected 35 tweets at 2022-12-28.\n",
      "Running twitter query: \"(#covid) min_faves:50 lang:en until:2022-12-30 since:2022-12-29\"\n"
     ]
    },
    {
     "name": "stderr",
     "output_type": "stream",
     "text": [
      "Stopping after 20 empty pages\n"
     ]
    },
    {
     "name": "stdout",
     "output_type": "stream",
     "text": [
      "Collected 36 tweets at 2022-12-29.\n",
      "Running twitter query: \"(#covid) min_faves:50 lang:en until:2022-12-31 since:2022-12-30\"\n"
     ]
    },
    {
     "name": "stderr",
     "output_type": "stream",
     "text": [
      "Stopping after 20 empty pages\n"
     ]
    },
    {
     "name": "stdout",
     "output_type": "stream",
     "text": [
      "Collected 24 tweets at 2022-12-30.\n",
      "Running twitter query: \"(#covid) min_faves:50 lang:en until:2023-01-01 since:2022-12-31\"\n"
     ]
    },
    {
     "name": "stderr",
     "output_type": "stream",
     "text": [
      "Stopping after 20 empty pages\n"
     ]
    },
    {
     "name": "stdout",
     "output_type": "stream",
     "text": [
      "Collected 35 tweets at 2022-12-31.\n",
      "Saving 964 tweets at 2022-12.\n",
      "Running twitter query: \"(#covid) min_faves:50 lang:en until:2023-01-02 since:2023-01-01\"\n"
     ]
    },
    {
     "name": "stderr",
     "output_type": "stream",
     "text": [
      "Stopping after 20 empty pages\n"
     ]
    },
    {
     "name": "stdout",
     "output_type": "stream",
     "text": [
      "Collected 25 tweets at 2023-01-01.\n",
      "Running twitter query: \"(#covid) min_faves:50 lang:en until:2023-01-03 since:2023-01-02\"\n"
     ]
    },
    {
     "name": "stderr",
     "output_type": "stream",
     "text": [
      "Stopping after 20 empty pages\n"
     ]
    },
    {
     "name": "stdout",
     "output_type": "stream",
     "text": [
      "Collected 28 tweets at 2023-01-02.\n",
      "Running twitter query: \"(#covid) min_faves:50 lang:en until:2023-01-04 since:2023-01-03\"\n"
     ]
    },
    {
     "name": "stderr",
     "output_type": "stream",
     "text": [
      "Stopping after 20 empty pages\n"
     ]
    },
    {
     "name": "stdout",
     "output_type": "stream",
     "text": [
      "Collected 19 tweets at 2023-01-03.\n",
      "Running twitter query: \"(#covid) min_faves:50 lang:en until:2023-01-05 since:2023-01-04\"\n"
     ]
    },
    {
     "name": "stderr",
     "output_type": "stream",
     "text": [
      "Stopping after 20 empty pages\n"
     ]
    },
    {
     "name": "stdout",
     "output_type": "stream",
     "text": [
      "Collected 13 tweets at 2023-01-04.\n",
      "Running twitter query: \"(#covid) min_faves:50 lang:en until:2023-01-06 since:2023-01-05\"\n"
     ]
    },
    {
     "name": "stderr",
     "output_type": "stream",
     "text": [
      "Stopping after 20 empty pages\n"
     ]
    },
    {
     "name": "stdout",
     "output_type": "stream",
     "text": [
      "Collected 13 tweets at 2023-01-05.\n",
      "Running twitter query: \"(#covid) min_faves:50 lang:en until:2023-01-07 since:2023-01-06\"\n"
     ]
    },
    {
     "name": "stderr",
     "output_type": "stream",
     "text": [
      "Stopping after 20 empty pages\n"
     ]
    },
    {
     "name": "stdout",
     "output_type": "stream",
     "text": [
      "Collected 27 tweets at 2023-01-06.\n",
      "Running twitter query: \"(#covid) min_faves:50 lang:en until:2023-01-08 since:2023-01-07\"\n"
     ]
    },
    {
     "name": "stderr",
     "output_type": "stream",
     "text": [
      "Stopping after 20 empty pages\n"
     ]
    },
    {
     "name": "stdout",
     "output_type": "stream",
     "text": [
      "Collected 18 tweets at 2023-01-07.\n",
      "Running twitter query: \"(#covid) min_faves:50 lang:en until:2023-01-09 since:2023-01-08\"\n"
     ]
    },
    {
     "name": "stderr",
     "output_type": "stream",
     "text": [
      "Stopping after 20 empty pages\n"
     ]
    },
    {
     "name": "stdout",
     "output_type": "stream",
     "text": [
      "Collected 13 tweets at 2023-01-08.\n",
      "Running twitter query: \"(#covid) min_faves:50 lang:en until:2023-01-10 since:2023-01-09\"\n"
     ]
    },
    {
     "name": "stderr",
     "output_type": "stream",
     "text": [
      "Stopping after 20 empty pages\n"
     ]
    },
    {
     "name": "stdout",
     "output_type": "stream",
     "text": [
      "Collected 23 tweets at 2023-01-09.\n",
      "Running twitter query: \"(#covid) min_faves:50 lang:en until:2023-01-11 since:2023-01-10\"\n"
     ]
    },
    {
     "name": "stderr",
     "output_type": "stream",
     "text": [
      "Stopping after 20 empty pages\n"
     ]
    },
    {
     "name": "stdout",
     "output_type": "stream",
     "text": [
      "Collected 22 tweets at 2023-01-10.\n",
      "Running twitter query: \"(#covid) min_faves:50 lang:en until:2023-01-12 since:2023-01-11\"\n"
     ]
    },
    {
     "name": "stderr",
     "output_type": "stream",
     "text": [
      "Stopping after 20 empty pages\n"
     ]
    },
    {
     "name": "stdout",
     "output_type": "stream",
     "text": [
      "Collected 13 tweets at 2023-01-11.\n",
      "Running twitter query: \"(#covid) min_faves:50 lang:en until:2023-01-13 since:2023-01-12\"\n"
     ]
    },
    {
     "name": "stderr",
     "output_type": "stream",
     "text": [
      "Stopping after 20 empty pages\n"
     ]
    },
    {
     "name": "stdout",
     "output_type": "stream",
     "text": [
      "Collected 19 tweets at 2023-01-12.\n",
      "Running twitter query: \"(#covid) min_faves:50 lang:en until:2023-01-14 since:2023-01-13\"\n"
     ]
    },
    {
     "name": "stderr",
     "output_type": "stream",
     "text": [
      "Stopping after 20 empty pages\n"
     ]
    },
    {
     "name": "stdout",
     "output_type": "stream",
     "text": [
      "Collected 16 tweets at 2023-01-13.\n",
      "Running twitter query: \"(#covid) min_faves:50 lang:en until:2023-01-15 since:2023-01-14\"\n"
     ]
    },
    {
     "name": "stderr",
     "output_type": "stream",
     "text": [
      "Stopping after 20 empty pages\n"
     ]
    },
    {
     "name": "stdout",
     "output_type": "stream",
     "text": [
      "Collected 35 tweets at 2023-01-14.\n",
      "Running twitter query: \"(#covid) min_faves:50 lang:en until:2023-01-16 since:2023-01-15\"\n"
     ]
    },
    {
     "name": "stderr",
     "output_type": "stream",
     "text": [
      "Stopping after 20 empty pages\n"
     ]
    },
    {
     "name": "stdout",
     "output_type": "stream",
     "text": [
      "Collected 17 tweets at 2023-01-15.\n",
      "Running twitter query: \"(#covid) min_faves:50 lang:en until:2023-01-17 since:2023-01-16\"\n"
     ]
    },
    {
     "name": "stderr",
     "output_type": "stream",
     "text": [
      "Stopping after 20 empty pages\n"
     ]
    },
    {
     "name": "stdout",
     "output_type": "stream",
     "text": [
      "Collected 25 tweets at 2023-01-16.\n",
      "Running twitter query: \"(#covid) min_faves:50 lang:en until:2023-01-18 since:2023-01-17\"\n"
     ]
    },
    {
     "name": "stderr",
     "output_type": "stream",
     "text": [
      "Stopping after 20 empty pages\n"
     ]
    },
    {
     "name": "stdout",
     "output_type": "stream",
     "text": [
      "Collected 14 tweets at 2023-01-17.\n",
      "Running twitter query: \"(#covid) min_faves:50 lang:en until:2023-01-19 since:2023-01-18\"\n"
     ]
    },
    {
     "name": "stderr",
     "output_type": "stream",
     "text": [
      "Stopping after 20 empty pages\n"
     ]
    },
    {
     "name": "stdout",
     "output_type": "stream",
     "text": [
      "Collected 21 tweets at 2023-01-18.\n",
      "Running twitter query: \"(#covid) min_faves:50 lang:en until:2023-01-20 since:2023-01-19\"\n"
     ]
    },
    {
     "name": "stderr",
     "output_type": "stream",
     "text": [
      "Stopping after 20 empty pages\n"
     ]
    },
    {
     "name": "stdout",
     "output_type": "stream",
     "text": [
      "Collected 19 tweets at 2023-01-19.\n",
      "Running twitter query: \"(#covid) min_faves:50 lang:en until:2023-01-21 since:2023-01-20\"\n"
     ]
    },
    {
     "name": "stderr",
     "output_type": "stream",
     "text": [
      "Stopping after 20 empty pages\n"
     ]
    },
    {
     "name": "stdout",
     "output_type": "stream",
     "text": [
      "Collected 21 tweets at 2023-01-20.\n",
      "Running twitter query: \"(#covid) min_faves:50 lang:en until:2023-01-22 since:2023-01-21\"\n"
     ]
    },
    {
     "name": "stderr",
     "output_type": "stream",
     "text": [
      "Stopping after 20 empty pages\n"
     ]
    },
    {
     "name": "stdout",
     "output_type": "stream",
     "text": [
      "Collected 17 tweets at 2023-01-21.\n",
      "Running twitter query: \"(#covid) min_faves:50 lang:en until:2023-01-23 since:2023-01-22\"\n"
     ]
    },
    {
     "name": "stderr",
     "output_type": "stream",
     "text": [
      "Stopping after 20 empty pages\n"
     ]
    },
    {
     "name": "stdout",
     "output_type": "stream",
     "text": [
      "Collected 27 tweets at 2023-01-22.\n",
      "Running twitter query: \"(#covid) min_faves:50 lang:en until:2023-01-24 since:2023-01-23\"\n"
     ]
    },
    {
     "name": "stderr",
     "output_type": "stream",
     "text": [
      "Stopping after 20 empty pages\n"
     ]
    },
    {
     "name": "stdout",
     "output_type": "stream",
     "text": [
      "Collected 13 tweets at 2023-01-23.\n",
      "Running twitter query: \"(#covid) min_faves:50 lang:en until:2023-01-25 since:2023-01-24\"\n"
     ]
    },
    {
     "name": "stderr",
     "output_type": "stream",
     "text": [
      "Stopping after 20 empty pages\n"
     ]
    },
    {
     "name": "stdout",
     "output_type": "stream",
     "text": [
      "Collected 17 tweets at 2023-01-24.\n",
      "Running twitter query: \"(#covid) min_faves:50 lang:en until:2023-01-26 since:2023-01-25\"\n"
     ]
    },
    {
     "name": "stderr",
     "output_type": "stream",
     "text": [
      "Stopping after 20 empty pages\n"
     ]
    },
    {
     "name": "stdout",
     "output_type": "stream",
     "text": [
      "Collected 15 tweets at 2023-01-25.\n",
      "Running twitter query: \"(#covid) min_faves:50 lang:en until:2023-01-27 since:2023-01-26\"\n"
     ]
    },
    {
     "name": "stderr",
     "output_type": "stream",
     "text": [
      "Stopping after 20 empty pages\n"
     ]
    },
    {
     "name": "stdout",
     "output_type": "stream",
     "text": [
      "Collected 29 tweets at 2023-01-26.\n",
      "Running twitter query: \"(#covid) min_faves:50 lang:en until:2023-01-28 since:2023-01-27\"\n"
     ]
    },
    {
     "name": "stderr",
     "output_type": "stream",
     "text": [
      "Stopping after 20 empty pages\n"
     ]
    },
    {
     "name": "stdout",
     "output_type": "stream",
     "text": [
      "Collected 11 tweets at 2023-01-27.\n",
      "Running twitter query: \"(#covid) min_faves:50 lang:en until:2023-01-29 since:2023-01-28\"\n"
     ]
    },
    {
     "name": "stderr",
     "output_type": "stream",
     "text": [
      "Stopping after 20 empty pages\n"
     ]
    },
    {
     "name": "stdout",
     "output_type": "stream",
     "text": [
      "Collected 10 tweets at 2023-01-28.\n",
      "Running twitter query: \"(#covid) min_faves:50 lang:en until:2023-01-30 since:2023-01-29\"\n"
     ]
    },
    {
     "name": "stderr",
     "output_type": "stream",
     "text": [
      "Stopping after 20 empty pages\n"
     ]
    },
    {
     "name": "stdout",
     "output_type": "stream",
     "text": [
      "Collected 10 tweets at 2023-01-29.\n",
      "Running twitter query: \"(#covid) min_faves:50 lang:en until:2023-01-31 since:2023-01-30\"\n"
     ]
    },
    {
     "name": "stderr",
     "output_type": "stream",
     "text": [
      "Stopping after 20 empty pages\n"
     ]
    },
    {
     "name": "stdout",
     "output_type": "stream",
     "text": [
      "Collected 27 tweets at 2023-01-30.\n",
      "Running twitter query: \"(#covid) min_faves:50 lang:en until:2023-02-01 since:2023-01-31\"\n"
     ]
    },
    {
     "name": "stderr",
     "output_type": "stream",
     "text": [
      "Stopping after 20 empty pages\n"
     ]
    },
    {
     "name": "stdout",
     "output_type": "stream",
     "text": [
      "Collected 10 tweets at 2023-01-31.\n",
      "Saving 618 tweets at 2023-01.\n",
      "Running twitter query: \"(#covid) min_faves:50 lang:en until:2023-02-02 since:2023-02-01\"\n"
     ]
    },
    {
     "name": "stderr",
     "output_type": "stream",
     "text": [
      "Stopping after 20 empty pages\n"
     ]
    },
    {
     "name": "stdout",
     "output_type": "stream",
     "text": [
      "Collected 12 tweets at 2023-02-01.\n",
      "Running twitter query: \"(#covid) min_faves:50 lang:en until:2023-02-03 since:2023-02-02\"\n"
     ]
    },
    {
     "name": "stderr",
     "output_type": "stream",
     "text": [
      "Stopping after 20 empty pages\n"
     ]
    },
    {
     "name": "stdout",
     "output_type": "stream",
     "text": [
      "Collected 12 tweets at 2023-02-02.\n",
      "Running twitter query: \"(#covid) min_faves:50 lang:en until:2023-02-04 since:2023-02-03\"\n"
     ]
    },
    {
     "name": "stderr",
     "output_type": "stream",
     "text": [
      "Stopping after 20 empty pages\n"
     ]
    },
    {
     "name": "stdout",
     "output_type": "stream",
     "text": [
      "Collected 12 tweets at 2023-02-03.\n",
      "Running twitter query: \"(#covid) min_faves:50 lang:en until:2023-02-05 since:2023-02-04\"\n"
     ]
    },
    {
     "name": "stderr",
     "output_type": "stream",
     "text": [
      "Stopping after 20 empty pages\n"
     ]
    },
    {
     "name": "stdout",
     "output_type": "stream",
     "text": [
      "Collected 12 tweets at 2023-02-04.\n",
      "Running twitter query: \"(#covid) min_faves:50 lang:en until:2023-02-06 since:2023-02-05\"\n"
     ]
    },
    {
     "name": "stderr",
     "output_type": "stream",
     "text": [
      "Stopping after 20 empty pages\n"
     ]
    },
    {
     "name": "stdout",
     "output_type": "stream",
     "text": [
      "Collected 8 tweets at 2023-02-05.\n",
      "Running twitter query: \"(#covid) min_faves:50 lang:en until:2023-02-07 since:2023-02-06\"\n"
     ]
    },
    {
     "name": "stderr",
     "output_type": "stream",
     "text": [
      "Stopping after 20 empty pages\n"
     ]
    },
    {
     "name": "stdout",
     "output_type": "stream",
     "text": [
      "Collected 11 tweets at 2023-02-06.\n",
      "Running twitter query: \"(#covid) min_faves:50 lang:en until:2023-02-08 since:2023-02-07\"\n"
     ]
    },
    {
     "name": "stderr",
     "output_type": "stream",
     "text": [
      "Stopping after 20 empty pages\n"
     ]
    },
    {
     "name": "stdout",
     "output_type": "stream",
     "text": [
      "Collected 9 tweets at 2023-02-07.\n",
      "Running twitter query: \"(#covid) min_faves:50 lang:en until:2023-02-09 since:2023-02-08\"\n"
     ]
    },
    {
     "name": "stderr",
     "output_type": "stream",
     "text": [
      "Stopping after 20 empty pages\n"
     ]
    },
    {
     "name": "stdout",
     "output_type": "stream",
     "text": [
      "Collected 23 tweets at 2023-02-08.\n",
      "Running twitter query: \"(#covid) min_faves:50 lang:en until:2023-02-10 since:2023-02-09\"\n"
     ]
    },
    {
     "name": "stderr",
     "output_type": "stream",
     "text": [
      "Stopping after 20 empty pages\n"
     ]
    },
    {
     "name": "stdout",
     "output_type": "stream",
     "text": [
      "Collected 12 tweets at 2023-02-09.\n",
      "Running twitter query: \"(#covid) min_faves:50 lang:en until:2023-02-11 since:2023-02-10\"\n"
     ]
    },
    {
     "name": "stderr",
     "output_type": "stream",
     "text": [
      "Could not translate t.co card URL on tweet 1624036335064428544\n",
      "Stopping after 20 empty pages\n"
     ]
    },
    {
     "name": "stdout",
     "output_type": "stream",
     "text": [
      "Collected 22 tweets at 2023-02-10.\n",
      "Running twitter query: \"(#covid) min_faves:50 lang:en until:2023-02-12 since:2023-02-11\"\n"
     ]
    },
    {
     "name": "stderr",
     "output_type": "stream",
     "text": [
      "Stopping after 20 empty pages\n"
     ]
    },
    {
     "name": "stdout",
     "output_type": "stream",
     "text": [
      "Collected 14 tweets at 2023-02-11.\n",
      "Running twitter query: \"(#covid) min_faves:50 lang:en until:2023-02-13 since:2023-02-12\"\n"
     ]
    },
    {
     "name": "stderr",
     "output_type": "stream",
     "text": [
      "Stopping after 20 empty pages\n"
     ]
    },
    {
     "name": "stdout",
     "output_type": "stream",
     "text": [
      "Collected 16 tweets at 2023-02-12.\n",
      "Running twitter query: \"(#covid) min_faves:50 lang:en until:2023-02-14 since:2023-02-13\"\n"
     ]
    },
    {
     "name": "stderr",
     "output_type": "stream",
     "text": [
      "Stopping after 20 empty pages\n"
     ]
    },
    {
     "name": "stdout",
     "output_type": "stream",
     "text": [
      "Collected 13 tweets at 2023-02-13.\n",
      "Running twitter query: \"(#covid) min_faves:50 lang:en until:2023-02-15 since:2023-02-14\"\n"
     ]
    },
    {
     "name": "stderr",
     "output_type": "stream",
     "text": [
      "Stopping after 20 empty pages\n"
     ]
    },
    {
     "name": "stdout",
     "output_type": "stream",
     "text": [
      "Collected 19 tweets at 2023-02-14.\n",
      "Running twitter query: \"(#covid) min_faves:50 lang:en until:2023-02-16 since:2023-02-15\"\n"
     ]
    },
    {
     "name": "stderr",
     "output_type": "stream",
     "text": [
      "Stopping after 20 empty pages\n"
     ]
    },
    {
     "name": "stdout",
     "output_type": "stream",
     "text": [
      "Collected 13 tweets at 2023-02-15.\n",
      "Running twitter query: \"(#covid) min_faves:50 lang:en until:2023-02-17 since:2023-02-16\"\n"
     ]
    },
    {
     "name": "stderr",
     "output_type": "stream",
     "text": [
      "Stopping after 20 empty pages\n"
     ]
    },
    {
     "name": "stdout",
     "output_type": "stream",
     "text": [
      "Collected 15 tweets at 2023-02-16.\n",
      "Running twitter query: \"(#covid) min_faves:50 lang:en until:2023-02-18 since:2023-02-17\"\n"
     ]
    },
    {
     "name": "stderr",
     "output_type": "stream",
     "text": [
      "Stopping after 20 empty pages\n"
     ]
    },
    {
     "name": "stdout",
     "output_type": "stream",
     "text": [
      "Collected 20 tweets at 2023-02-17.\n",
      "Running twitter query: \"(#covid) min_faves:50 lang:en until:2023-02-19 since:2023-02-18\"\n"
     ]
    },
    {
     "name": "stderr",
     "output_type": "stream",
     "text": [
      "Stopping after 20 empty pages\n"
     ]
    },
    {
     "name": "stdout",
     "output_type": "stream",
     "text": [
      "Collected 10 tweets at 2023-02-18.\n",
      "Running twitter query: \"(#covid) min_faves:50 lang:en until:2023-02-20 since:2023-02-19\"\n"
     ]
    },
    {
     "name": "stderr",
     "output_type": "stream",
     "text": [
      "Could not translate t.co card URL on tweet 1627330867080187904\n",
      "Stopping after 20 empty pages\n"
     ]
    },
    {
     "name": "stdout",
     "output_type": "stream",
     "text": [
      "Collected 18 tweets at 2023-02-19.\n",
      "Running twitter query: \"(#covid) min_faves:50 lang:en until:2023-02-21 since:2023-02-20\"\n"
     ]
    },
    {
     "name": "stderr",
     "output_type": "stream",
     "text": [
      "Stopping after 20 empty pages\n"
     ]
    },
    {
     "name": "stdout",
     "output_type": "stream",
     "text": [
      "Collected 16 tweets at 2023-02-20.\n",
      "Running twitter query: \"(#covid) min_faves:50 lang:en until:2023-02-22 since:2023-02-21\"\n"
     ]
    },
    {
     "name": "stderr",
     "output_type": "stream",
     "text": [
      "Stopping after 20 empty pages\n"
     ]
    },
    {
     "name": "stdout",
     "output_type": "stream",
     "text": [
      "Collected 13 tweets at 2023-02-21.\n",
      "Running twitter query: \"(#covid) min_faves:50 lang:en until:2023-02-23 since:2023-02-22\"\n"
     ]
    },
    {
     "name": "stderr",
     "output_type": "stream",
     "text": [
      "Could not translate t.co card URL on tweet 1628340643926839296\n",
      "Stopping after 20 empty pages\n"
     ]
    },
    {
     "name": "stdout",
     "output_type": "stream",
     "text": [
      "Collected 20 tweets at 2023-02-22.\n",
      "Running twitter query: \"(#covid) min_faves:50 lang:en until:2023-02-24 since:2023-02-23\"\n"
     ]
    },
    {
     "name": "stderr",
     "output_type": "stream",
     "text": [
      "Could not translate t.co card URL on tweet 1628897204747350018\n",
      "Stopping after 20 empty pages\n"
     ]
    },
    {
     "name": "stdout",
     "output_type": "stream",
     "text": [
      "Collected 17 tweets at 2023-02-23.\n",
      "Running twitter query: \"(#covid) min_faves:50 lang:en until:2023-02-25 since:2023-02-24\"\n"
     ]
    },
    {
     "name": "stderr",
     "output_type": "stream",
     "text": [
      "Could not translate t.co card URL on tweet 1628897204747350018\n",
      "Stopping after 20 empty pages\n"
     ]
    },
    {
     "name": "stdout",
     "output_type": "stream",
     "text": [
      "Collected 16 tweets at 2023-02-24.\n",
      "Running twitter query: \"(#covid) min_faves:50 lang:en until:2023-02-26 since:2023-02-25\"\n"
     ]
    },
    {
     "name": "stderr",
     "output_type": "stream",
     "text": [
      "Stopping after 20 empty pages\n"
     ]
    },
    {
     "name": "stdout",
     "output_type": "stream",
     "text": [
      "Collected 18 tweets at 2023-02-25.\n",
      "Running twitter query: \"(#covid) min_faves:50 lang:en until:2023-02-27 since:2023-02-26\"\n"
     ]
    },
    {
     "name": "stderr",
     "output_type": "stream",
     "text": [
      "Stopping after 20 empty pages\n"
     ]
    },
    {
     "name": "stdout",
     "output_type": "stream",
     "text": [
      "Collected 20 tweets at 2023-02-26.\n",
      "Running twitter query: \"(#covid) min_faves:50 lang:en until:2023-02-28 since:2023-02-27\"\n"
     ]
    },
    {
     "name": "stderr",
     "output_type": "stream",
     "text": [
      "Stopping after 20 empty pages\n"
     ]
    },
    {
     "name": "stdout",
     "output_type": "stream",
     "text": [
      "Collected 11 tweets at 2023-02-27.\n",
      "Running twitter query: \"(#covid) min_faves:50 lang:en until:2023-03-01 since:2023-02-28\"\n"
     ]
    },
    {
     "name": "stderr",
     "output_type": "stream",
     "text": [
      "Stopping after 20 empty pages\n"
     ]
    },
    {
     "name": "stdout",
     "output_type": "stream",
     "text": [
      "Collected 22 tweets at 2023-02-28.\n",
      "Saving 452 tweets at 2023-02.\n",
      "Running twitter query: \"(#covid) min_faves:50 lang:en until:2023-03-02 since:2023-03-01\"\n"
     ]
    },
    {
     "name": "stderr",
     "output_type": "stream",
     "text": [
      "Stopping after 20 empty pages\n"
     ]
    },
    {
     "name": "stdout",
     "output_type": "stream",
     "text": [
      "Collected 22 tweets at 2023-03-01.\n",
      "Running twitter query: \"(#covid) min_faves:50 lang:en until:2023-03-03 since:2023-03-02\"\n"
     ]
    },
    {
     "name": "stderr",
     "output_type": "stream",
     "text": [
      "Stopping after 20 empty pages\n"
     ]
    },
    {
     "name": "stdout",
     "output_type": "stream",
     "text": [
      "Collected 22 tweets at 2023-03-02.\n",
      "Running twitter query: \"(#covid) min_faves:50 lang:en until:2023-03-04 since:2023-03-03\"\n"
     ]
    },
    {
     "name": "stderr",
     "output_type": "stream",
     "text": [
      "Stopping after 20 empty pages\n"
     ]
    },
    {
     "name": "stdout",
     "output_type": "stream",
     "text": [
      "Collected 25 tweets at 2023-03-03.\n",
      "Running twitter query: \"(#covid) min_faves:50 lang:en until:2023-03-05 since:2023-03-04\"\n"
     ]
    },
    {
     "name": "stderr",
     "output_type": "stream",
     "text": [
      "Stopping after 20 empty pages\n"
     ]
    },
    {
     "name": "stdout",
     "output_type": "stream",
     "text": [
      "Collected 22 tweets at 2023-03-04.\n",
      "Running twitter query: \"(#covid) min_faves:50 lang:en until:2023-03-06 since:2023-03-05\"\n"
     ]
    },
    {
     "name": "stderr",
     "output_type": "stream",
     "text": [
      "Stopping after 20 empty pages\n"
     ]
    },
    {
     "name": "stdout",
     "output_type": "stream",
     "text": [
      "Collected 26 tweets at 2023-03-05.\n",
      "Running twitter query: \"(#covid) min_faves:50 lang:en until:2023-03-07 since:2023-03-06\"\n"
     ]
    },
    {
     "name": "stderr",
     "output_type": "stream",
     "text": [
      "Stopping after 20 empty pages\n"
     ]
    },
    {
     "name": "stdout",
     "output_type": "stream",
     "text": [
      "Collected 13 tweets at 2023-03-06.\n",
      "Running twitter query: \"(#covid) min_faves:50 lang:en until:2023-03-08 since:2023-03-07\"\n"
     ]
    },
    {
     "name": "stderr",
     "output_type": "stream",
     "text": [
      "Stopping after 20 empty pages\n"
     ]
    },
    {
     "name": "stdout",
     "output_type": "stream",
     "text": [
      "Collected 8 tweets at 2023-03-07.\n",
      "Running twitter query: \"(#covid) min_faves:50 lang:en until:2023-03-09 since:2023-03-08\"\n"
     ]
    },
    {
     "name": "stderr",
     "output_type": "stream",
     "text": [
      "Stopping after 20 empty pages\n"
     ]
    },
    {
     "name": "stdout",
     "output_type": "stream",
     "text": [
      "Collected 12 tweets at 2023-03-08.\n",
      "Running twitter query: \"(#covid) min_faves:50 lang:en until:2023-03-10 since:2023-03-09\"\n"
     ]
    },
    {
     "name": "stderr",
     "output_type": "stream",
     "text": [
      "Stopping after 20 empty pages\n"
     ]
    },
    {
     "name": "stdout",
     "output_type": "stream",
     "text": [
      "Collected 18 tweets at 2023-03-09.\n",
      "Running twitter query: \"(#covid) min_faves:50 lang:en until:2023-03-11 since:2023-03-10\"\n"
     ]
    },
    {
     "name": "stderr",
     "output_type": "stream",
     "text": [
      "Stopping after 20 empty pages\n"
     ]
    },
    {
     "name": "stdout",
     "output_type": "stream",
     "text": [
      "Collected 8 tweets at 2023-03-10.\n",
      "Running twitter query: \"(#covid) min_faves:50 lang:en until:2023-03-12 since:2023-03-11\"\n"
     ]
    },
    {
     "name": "stderr",
     "output_type": "stream",
     "text": [
      "Stopping after 20 empty pages\n"
     ]
    },
    {
     "name": "stdout",
     "output_type": "stream",
     "text": [
      "Collected 13 tweets at 2023-03-11.\n",
      "Running twitter query: \"(#covid) min_faves:50 lang:en until:2023-03-13 since:2023-03-12\"\n"
     ]
    },
    {
     "name": "stderr",
     "output_type": "stream",
     "text": [
      "Stopping after 20 empty pages\n"
     ]
    },
    {
     "name": "stdout",
     "output_type": "stream",
     "text": [
      "Collected 7 tweets at 2023-03-12.\n",
      "Running twitter query: \"(#covid) min_faves:50 lang:en until:2023-03-14 since:2023-03-13\"\n"
     ]
    },
    {
     "name": "stderr",
     "output_type": "stream",
     "text": [
      "Could not translate t.co card URL on tweet 1635277305886183427\n",
      "Stopping after 20 empty pages\n"
     ]
    },
    {
     "name": "stdout",
     "output_type": "stream",
     "text": [
      "Collected 13 tweets at 2023-03-13.\n",
      "Running twitter query: \"(#covid) min_faves:50 lang:en until:2023-03-15 since:2023-03-14\"\n"
     ]
    },
    {
     "name": "stderr",
     "output_type": "stream",
     "text": [
      "Stopping after 20 empty pages\n"
     ]
    },
    {
     "name": "stdout",
     "output_type": "stream",
     "text": [
      "Collected 13 tweets at 2023-03-14.\n",
      "Running twitter query: \"(#covid) min_faves:50 lang:en until:2023-03-16 since:2023-03-15\"\n"
     ]
    },
    {
     "name": "stderr",
     "output_type": "stream",
     "text": [
      "Stopping after 20 empty pages\n"
     ]
    },
    {
     "name": "stdout",
     "output_type": "stream",
     "text": [
      "Collected 20 tweets at 2023-03-15.\n",
      "Running twitter query: \"(#covid) min_faves:50 lang:en until:2023-03-17 since:2023-03-16\"\n"
     ]
    },
    {
     "name": "stderr",
     "output_type": "stream",
     "text": [
      "Stopping after 20 empty pages\n"
     ]
    },
    {
     "name": "stdout",
     "output_type": "stream",
     "text": [
      "Collected 12 tweets at 2023-03-16.\n",
      "Running twitter query: \"(#covid) min_faves:50 lang:en until:2023-03-18 since:2023-03-17\"\n"
     ]
    },
    {
     "name": "stderr",
     "output_type": "stream",
     "text": [
      "Stopping after 20 empty pages\n"
     ]
    },
    {
     "name": "stdout",
     "output_type": "stream",
     "text": [
      "Collected 10 tweets at 2023-03-17.\n",
      "Running twitter query: \"(#covid) min_faves:50 lang:en until:2023-03-19 since:2023-03-18\"\n"
     ]
    },
    {
     "name": "stderr",
     "output_type": "stream",
     "text": [
      "Stopping after 20 empty pages\n"
     ]
    },
    {
     "name": "stdout",
     "output_type": "stream",
     "text": [
      "Collected 10 tweets at 2023-03-18.\n",
      "Running twitter query: \"(#covid) min_faves:50 lang:en until:2023-03-20 since:2023-03-19\"\n"
     ]
    },
    {
     "name": "stderr",
     "output_type": "stream",
     "text": [
      "Stopping after 20 empty pages\n"
     ]
    },
    {
     "name": "stdout",
     "output_type": "stream",
     "text": [
      "Collected 18 tweets at 2023-03-19.\n",
      "Running twitter query: \"(#covid) min_faves:50 lang:en until:2023-03-21 since:2023-03-20\"\n"
     ]
    },
    {
     "name": "stderr",
     "output_type": "stream",
     "text": [
      "Stopping after 20 empty pages\n"
     ]
    },
    {
     "name": "stdout",
     "output_type": "stream",
     "text": [
      "Collected 16 tweets at 2023-03-20.\n",
      "Running twitter query: \"(#covid) min_faves:50 lang:en until:2023-03-22 since:2023-03-21\"\n"
     ]
    },
    {
     "name": "stderr",
     "output_type": "stream",
     "text": [
      "Stopping after 20 empty pages\n"
     ]
    },
    {
     "name": "stdout",
     "output_type": "stream",
     "text": [
      "Collected 17 tweets at 2023-03-21.\n",
      "Running twitter query: \"(#covid) min_faves:50 lang:en until:2023-03-23 since:2023-03-22\"\n"
     ]
    },
    {
     "name": "stderr",
     "output_type": "stream",
     "text": [
      "Unavailable user in card on tweet 1638508575600308225\n",
      "User 76227785 not found in user refs in card on tweet 1638508575600308225\n",
      "Stopping after 20 empty pages\n"
     ]
    },
    {
     "name": "stdout",
     "output_type": "stream",
     "text": [
      "Collected 19 tweets at 2023-03-22.\n",
      "Running twitter query: \"(#covid) min_faves:50 lang:en until:2023-03-24 since:2023-03-23\"\n"
     ]
    },
    {
     "name": "stderr",
     "output_type": "stream",
     "text": [
      "Stopping after 20 empty pages\n"
     ]
    },
    {
     "name": "stdout",
     "output_type": "stream",
     "text": [
      "Collected 23 tweets at 2023-03-23.\n",
      "Running twitter query: \"(#covid) min_faves:50 lang:en until:2023-03-25 since:2023-03-24\"\n"
     ]
    },
    {
     "name": "stderr",
     "output_type": "stream",
     "text": [
      "Stopping after 20 empty pages\n"
     ]
    },
    {
     "name": "stdout",
     "output_type": "stream",
     "text": [
      "Collected 19 tweets at 2023-03-24.\n",
      "Running twitter query: \"(#covid) min_faves:50 lang:en until:2023-03-26 since:2023-03-25\"\n"
     ]
    },
    {
     "name": "stderr",
     "output_type": "stream",
     "text": [
      "Stopping after 20 empty pages\n"
     ]
    },
    {
     "name": "stdout",
     "output_type": "stream",
     "text": [
      "Collected 22 tweets at 2023-03-25.\n",
      "Running twitter query: \"(#covid) min_faves:50 lang:en until:2023-03-27 since:2023-03-26\"\n"
     ]
    },
    {
     "name": "stderr",
     "output_type": "stream",
     "text": [
      "Stopping after 20 empty pages\n"
     ]
    },
    {
     "name": "stdout",
     "output_type": "stream",
     "text": [
      "Collected 11 tweets at 2023-03-26.\n",
      "Running twitter query: \"(#covid) min_faves:50 lang:en until:2023-03-28 since:2023-03-27\"\n"
     ]
    },
    {
     "name": "stderr",
     "output_type": "stream",
     "text": [
      "Stopping after 20 empty pages\n"
     ]
    },
    {
     "name": "stdout",
     "output_type": "stream",
     "text": [
      "Collected 16 tweets at 2023-03-27.\n",
      "Running twitter query: \"(#covid) min_faves:50 lang:en until:2023-03-29 since:2023-03-28\"\n"
     ]
    },
    {
     "name": "stderr",
     "output_type": "stream",
     "text": [
      "Stopping after 20 empty pages\n"
     ]
    },
    {
     "name": "stdout",
     "output_type": "stream",
     "text": [
      "Collected 15 tweets at 2023-03-28.\n",
      "Running twitter query: \"(#covid) min_faves:50 lang:en until:2023-03-30 since:2023-03-29\"\n"
     ]
    },
    {
     "name": "stderr",
     "output_type": "stream",
     "text": [
      "Stopping after 20 empty pages\n"
     ]
    },
    {
     "name": "stdout",
     "output_type": "stream",
     "text": [
      "Collected 18 tweets at 2023-03-29.\n",
      "Running twitter query: \"(#covid) min_faves:50 lang:en until:2023-03-31 since:2023-03-30\"\n"
     ]
    },
    {
     "name": "stderr",
     "output_type": "stream",
     "text": [
      "Stopping after 20 empty pages\n"
     ]
    },
    {
     "name": "stdout",
     "output_type": "stream",
     "text": [
      "Collected 23 tweets at 2023-03-30.\n",
      "Running twitter query: \"(#covid) min_faves:50 lang:en until:2023-04-01 since:2023-03-31\"\n"
     ]
    },
    {
     "name": "stderr",
     "output_type": "stream",
     "text": [
      "Stopping after 20 empty pages\n"
     ]
    },
    {
     "name": "stdout",
     "output_type": "stream",
     "text": [
      "Collected 15 tweets at 2023-03-31.\n",
      "Saving 537 tweets at 2023-03.\n",
      "Running twitter query: \"(#covid) min_faves:50 lang:en until:2023-04-02 since:2023-04-01\"\n"
     ]
    },
    {
     "name": "stderr",
     "output_type": "stream",
     "text": [
      "Stopping after 20 empty pages\n"
     ]
    },
    {
     "name": "stdout",
     "output_type": "stream",
     "text": [
      "Collected 14 tweets at 2023-04-01.\n",
      "Running twitter query: \"(#covid) min_faves:50 lang:en until:2023-04-03 since:2023-04-02\"\n"
     ]
    },
    {
     "name": "stderr",
     "output_type": "stream",
     "text": [
      "Stopping after 20 empty pages\n"
     ]
    },
    {
     "name": "stdout",
     "output_type": "stream",
     "text": [
      "Collected 9 tweets at 2023-04-02.\n",
      "Running twitter query: \"(#covid) min_faves:50 lang:en until:2023-04-04 since:2023-04-03\"\n"
     ]
    },
    {
     "name": "stderr",
     "output_type": "stream",
     "text": [
      "Stopping after 20 empty pages\n"
     ]
    },
    {
     "name": "stdout",
     "output_type": "stream",
     "text": [
      "Collected 16 tweets at 2023-04-03.\n",
      "Running twitter query: \"(#covid) min_faves:50 lang:en until:2023-04-05 since:2023-04-04\"\n"
     ]
    },
    {
     "name": "stderr",
     "output_type": "stream",
     "text": [
      "Stopping after 20 empty pages\n"
     ]
    },
    {
     "name": "stdout",
     "output_type": "stream",
     "text": [
      "Collected 15 tweets at 2023-04-04.\n",
      "Running twitter query: \"(#covid) min_faves:50 lang:en until:2023-04-06 since:2023-04-05\"\n"
     ]
    },
    {
     "name": "stderr",
     "output_type": "stream",
     "text": [
      "Stopping after 20 empty pages\n"
     ]
    },
    {
     "name": "stdout",
     "output_type": "stream",
     "text": [
      "Collected 21 tweets at 2023-04-05.\n",
      "Running twitter query: \"(#covid) min_faves:50 lang:en until:2023-04-07 since:2023-04-06\"\n"
     ]
    },
    {
     "name": "stderr",
     "output_type": "stream",
     "text": [
      "Stopping after 20 empty pages\n"
     ]
    },
    {
     "name": "stdout",
     "output_type": "stream",
     "text": [
      "Collected 11 tweets at 2023-04-06.\n",
      "Running twitter query: \"(#covid) min_faves:50 lang:en until:2023-04-08 since:2023-04-07\"\n"
     ]
    },
    {
     "name": "stderr",
     "output_type": "stream",
     "text": [
      "Stopping after 20 empty pages\n"
     ]
    },
    {
     "name": "stdout",
     "output_type": "stream",
     "text": [
      "Collected 14 tweets at 2023-04-07.\n",
      "Running twitter query: \"(#covid) min_faves:50 lang:en until:2023-04-09 since:2023-04-08\"\n"
     ]
    },
    {
     "name": "stderr",
     "output_type": "stream",
     "text": [
      "Stopping after 20 empty pages\n"
     ]
    },
    {
     "name": "stdout",
     "output_type": "stream",
     "text": [
      "Collected 19 tweets at 2023-04-08.\n",
      "Running twitter query: \"(#covid) min_faves:50 lang:en until:2023-04-10 since:2023-04-09\"\n"
     ]
    },
    {
     "name": "stderr",
     "output_type": "stream",
     "text": [
      "Stopping after 20 empty pages\n"
     ]
    },
    {
     "name": "stdout",
     "output_type": "stream",
     "text": [
      "Collected 14 tweets at 2023-04-09.\n",
      "Running twitter query: \"(#covid) min_faves:50 lang:en until:2023-04-11 since:2023-04-10\"\n"
     ]
    },
    {
     "name": "stderr",
     "output_type": "stream",
     "text": [
      "Stopping after 20 empty pages\n"
     ]
    },
    {
     "name": "stdout",
     "output_type": "stream",
     "text": [
      "Collected 15 tweets at 2023-04-10.\n",
      "Running twitter query: \"(#covid) min_faves:50 lang:en until:2023-04-12 since:2023-04-11\"\n"
     ]
    },
    {
     "name": "stderr",
     "output_type": "stream",
     "text": [
      "Stopping after 20 empty pages\n"
     ]
    },
    {
     "name": "stdout",
     "output_type": "stream",
     "text": [
      "Collected 16 tweets at 2023-04-11.\n",
      "Running twitter query: \"(#covid) min_faves:50 lang:en until:2023-04-13 since:2023-04-12\"\n"
     ]
    },
    {
     "name": "stderr",
     "output_type": "stream",
     "text": [
      "Stopping after 20 empty pages\n"
     ]
    },
    {
     "name": "stdout",
     "output_type": "stream",
     "text": [
      "Collected 17 tweets at 2023-04-12.\n",
      "Running twitter query: \"(#covid) min_faves:50 lang:en until:2023-04-14 since:2023-04-13\"\n"
     ]
    },
    {
     "name": "stderr",
     "output_type": "stream",
     "text": [
      "Stopping after 20 empty pages\n"
     ]
    },
    {
     "name": "stdout",
     "output_type": "stream",
     "text": [
      "Collected 12 tweets at 2023-04-13.\n",
      "Running twitter query: \"(#covid) min_faves:50 lang:en until:2023-04-15 since:2023-04-14\"\n"
     ]
    },
    {
     "name": "stderr",
     "output_type": "stream",
     "text": [
      "Stopping after 20 empty pages\n"
     ]
    },
    {
     "name": "stdout",
     "output_type": "stream",
     "text": [
      "Collected 13 tweets at 2023-04-14.\n",
      "Running twitter query: \"(#covid) min_faves:50 lang:en until:2023-04-16 since:2023-04-15\"\n"
     ]
    },
    {
     "name": "stderr",
     "output_type": "stream",
     "text": [
      "Stopping after 20 empty pages\n"
     ]
    },
    {
     "name": "stdout",
     "output_type": "stream",
     "text": [
      "Collected 17 tweets at 2023-04-15.\n",
      "Running twitter query: \"(#covid) min_faves:50 lang:en until:2023-04-17 since:2023-04-16\"\n"
     ]
    },
    {
     "name": "stderr",
     "output_type": "stream",
     "text": [
      "Stopping after 20 empty pages\n"
     ]
    },
    {
     "name": "stdout",
     "output_type": "stream",
     "text": [
      "Collected 11 tweets at 2023-04-16.\n",
      "Running twitter query: \"(#covid) min_faves:50 lang:en until:2023-04-18 since:2023-04-17\"\n"
     ]
    },
    {
     "name": "stderr",
     "output_type": "stream",
     "text": [
      "Stopping after 20 empty pages\n"
     ]
    },
    {
     "name": "stdout",
     "output_type": "stream",
     "text": [
      "Collected 12 tweets at 2023-04-17.\n",
      "Running twitter query: \"(#covid) min_faves:50 lang:en until:2023-04-19 since:2023-04-18\"\n"
     ]
    },
    {
     "name": "stderr",
     "output_type": "stream",
     "text": [
      "Stopping after 20 empty pages\n"
     ]
    },
    {
     "name": "stdout",
     "output_type": "stream",
     "text": [
      "Collected 13 tweets at 2023-04-18.\n",
      "Running twitter query: \"(#covid) min_faves:50 lang:en until:2023-04-20 since:2023-04-19\"\n"
     ]
    },
    {
     "name": "stderr",
     "output_type": "stream",
     "text": [
      "Stopping after 20 empty pages\n"
     ]
    },
    {
     "name": "stdout",
     "output_type": "stream",
     "text": [
      "Collected 13 tweets at 2023-04-19.\n",
      "Running twitter query: \"(#covid) min_faves:50 lang:en until:2023-04-21 since:2023-04-20\"\n"
     ]
    },
    {
     "name": "stderr",
     "output_type": "stream",
     "text": [
      "Stopping after 20 empty pages\n"
     ]
    },
    {
     "name": "stdout",
     "output_type": "stream",
     "text": [
      "Collected 5 tweets at 2023-04-20.\n",
      "Running twitter query: \"(#covid) min_faves:50 lang:en until:2023-04-22 since:2023-04-21\"\n"
     ]
    },
    {
     "name": "stderr",
     "output_type": "stream",
     "text": [
      "Stopping after 20 empty pages\n"
     ]
    },
    {
     "name": "stdout",
     "output_type": "stream",
     "text": [
      "Collected 7 tweets at 2023-04-21.\n",
      "Running twitter query: \"(#covid) min_faves:50 lang:en until:2023-04-23 since:2023-04-22\"\n"
     ]
    },
    {
     "name": "stderr",
     "output_type": "stream",
     "text": [
      "Stopping after 20 empty pages\n"
     ]
    },
    {
     "name": "stdout",
     "output_type": "stream",
     "text": [
      "Collected 11 tweets at 2023-04-22.\n",
      "Running twitter query: \"(#covid) min_faves:50 lang:en until:2023-04-24 since:2023-04-23\"\n"
     ]
    },
    {
     "name": "stderr",
     "output_type": "stream",
     "text": [
      "Stopping after 20 empty pages\n"
     ]
    },
    {
     "name": "stdout",
     "output_type": "stream",
     "text": [
      "Collected 9 tweets at 2023-04-23.\n",
      "Running twitter query: \"(#covid) min_faves:50 lang:en until:2023-04-25 since:2023-04-24\"\n"
     ]
    },
    {
     "name": "stderr",
     "output_type": "stream",
     "text": [
      "Stopping after 20 empty pages\n"
     ]
    },
    {
     "name": "stdout",
     "output_type": "stream",
     "text": [
      "Collected 9 tweets at 2023-04-24.\n",
      "Running twitter query: \"(#covid) min_faves:50 lang:en until:2023-04-26 since:2023-04-25\"\n"
     ]
    },
    {
     "name": "stderr",
     "output_type": "stream",
     "text": [
      "Stopping after 20 empty pages\n"
     ]
    },
    {
     "name": "stdout",
     "output_type": "stream",
     "text": [
      "Collected 3 tweets at 2023-04-25.\n",
      "Running twitter query: \"(#covid) min_faves:50 lang:en until:2023-04-27 since:2023-04-26\"\n"
     ]
    },
    {
     "name": "stderr",
     "output_type": "stream",
     "text": [
      "Stopping after 20 empty pages\n"
     ]
    },
    {
     "name": "stdout",
     "output_type": "stream",
     "text": [
      "Collected 15 tweets at 2023-04-26.\n",
      "Running twitter query: \"(#covid) min_faves:50 lang:en until:2023-04-28 since:2023-04-27\"\n"
     ]
    },
    {
     "name": "stderr",
     "output_type": "stream",
     "text": [
      "Stopping after 20 empty pages\n"
     ]
    },
    {
     "name": "stdout",
     "output_type": "stream",
     "text": [
      "Collected 11 tweets at 2023-04-27.\n",
      "Running twitter query: \"(#covid) min_faves:50 lang:en until:2023-04-29 since:2023-04-28\"\n"
     ]
    },
    {
     "name": "stderr",
     "output_type": "stream",
     "text": [
      "Stopping after 20 empty pages\n"
     ]
    },
    {
     "name": "stdout",
     "output_type": "stream",
     "text": [
      "Collected 15 tweets at 2023-04-28.\n",
      "Running twitter query: \"(#covid) min_faves:50 lang:en until:2023-04-30 since:2023-04-29\"\n"
     ]
    },
    {
     "name": "stderr",
     "output_type": "stream",
     "text": [
      "Stopping after 20 empty pages\n"
     ]
    },
    {
     "name": "stdout",
     "output_type": "stream",
     "text": [
      "Collected 15 tweets at 2023-04-29.\n",
      "Running twitter query: \"(#covid) min_faves:50 lang:en until:2023-05-01 since:2023-04-30\"\n"
     ]
    },
    {
     "name": "stderr",
     "output_type": "stream",
     "text": [
      "Stopping after 20 empty pages\n"
     ]
    },
    {
     "name": "stdout",
     "output_type": "stream",
     "text": [
      "Collected 6 tweets at 2023-04-30.\n",
      "Saving 408 tweets at 2023-04.\n",
      "Running twitter query: \"(#covid) min_faves:50 lang:en until:2023-05-02 since:2023-05-01\"\n"
     ]
    },
    {
     "name": "stderr",
     "output_type": "stream",
     "text": [
      "Stopping after 20 empty pages\n"
     ]
    },
    {
     "name": "stdout",
     "output_type": "stream",
     "text": [
      "Collected 12 tweets at 2023-05-01.\n",
      "Running twitter query: \"(#covid) min_faves:50 lang:en until:2023-05-03 since:2023-05-02\"\n"
     ]
    },
    {
     "name": "stderr",
     "output_type": "stream",
     "text": [
      "Stopping after 20 empty pages\n"
     ]
    },
    {
     "name": "stdout",
     "output_type": "stream",
     "text": [
      "Collected 9 tweets at 2023-05-02.\n",
      "Running twitter query: \"(#covid) min_faves:50 lang:en until:2023-05-04 since:2023-05-03\"\n"
     ]
    },
    {
     "name": "stderr",
     "output_type": "stream",
     "text": [
      "Stopping after 20 empty pages\n"
     ]
    },
    {
     "name": "stdout",
     "output_type": "stream",
     "text": [
      "Collected 18 tweets at 2023-05-03.\n",
      "Running twitter query: \"(#covid) min_faves:50 lang:en until:2023-05-05 since:2023-05-04\"\n"
     ]
    },
    {
     "name": "stderr",
     "output_type": "stream",
     "text": [
      "Stopping after 20 empty pages\n"
     ]
    },
    {
     "name": "stdout",
     "output_type": "stream",
     "text": [
      "Collected 4 tweets at 2023-05-04.\n",
      "Running twitter query: \"(#covid) min_faves:50 lang:en until:2023-05-06 since:2023-05-05\"\n"
     ]
    },
    {
     "name": "stderr",
     "output_type": "stream",
     "text": [
      "Stopping after 20 empty pages\n"
     ]
    },
    {
     "name": "stdout",
     "output_type": "stream",
     "text": [
      "Collected 16 tweets at 2023-05-05.\n",
      "Running twitter query: \"(#covid) min_faves:50 lang:en until:2023-05-07 since:2023-05-06\"\n"
     ]
    },
    {
     "name": "stderr",
     "output_type": "stream",
     "text": [
      "Stopping after 20 empty pages\n"
     ]
    },
    {
     "name": "stdout",
     "output_type": "stream",
     "text": [
      "Collected 2 tweets at 2023-05-06.\n",
      "Running twitter query: \"(#covid) min_faves:50 lang:en until:2023-05-08 since:2023-05-07\"\n"
     ]
    },
    {
     "name": "stderr",
     "output_type": "stream",
     "text": [
      "Stopping after 20 empty pages\n"
     ]
    },
    {
     "name": "stdout",
     "output_type": "stream",
     "text": [
      "Collected 8 tweets at 2023-05-07.\n",
      "Running twitter query: \"(#covid) min_faves:50 lang:en until:2023-05-09 since:2023-05-08\"\n"
     ]
    },
    {
     "name": "stderr",
     "output_type": "stream",
     "text": [
      "Stopping after 20 empty pages\n"
     ]
    },
    {
     "name": "stdout",
     "output_type": "stream",
     "text": [
      "Collected 9 tweets at 2023-05-08.\n",
      "Running twitter query: \"(#covid) min_faves:50 lang:en until:2023-05-10 since:2023-05-09\"\n"
     ]
    },
    {
     "name": "stderr",
     "output_type": "stream",
     "text": [
      "Stopping after 20 empty pages\n"
     ]
    },
    {
     "name": "stdout",
     "output_type": "stream",
     "text": [
      "Collected 12 tweets at 2023-05-09.\n",
      "Running twitter query: \"(#covid) min_faves:50 lang:en until:2023-05-11 since:2023-05-10\"\n"
     ]
    },
    {
     "name": "stderr",
     "output_type": "stream",
     "text": [
      "Stopping after 20 empty pages\n"
     ]
    },
    {
     "name": "stdout",
     "output_type": "stream",
     "text": [
      "Collected 8 tweets at 2023-05-10.\n",
      "Running twitter query: \"(#covid) min_faves:50 lang:en until:2023-05-12 since:2023-05-11\"\n"
     ]
    },
    {
     "name": "stderr",
     "output_type": "stream",
     "text": [
      "Stopping after 20 empty pages\n"
     ]
    },
    {
     "name": "stdout",
     "output_type": "stream",
     "text": [
      "Collected 11 tweets at 2023-05-11.\n",
      "Running twitter query: \"(#covid) min_faves:50 lang:en until:2023-05-13 since:2023-05-12\"\n"
     ]
    },
    {
     "name": "stderr",
     "output_type": "stream",
     "text": [
      "Stopping after 20 empty pages\n"
     ]
    },
    {
     "name": "stdout",
     "output_type": "stream",
     "text": [
      "Collected 11 tweets at 2023-05-12.\n",
      "Running twitter query: \"(#covid) min_faves:50 lang:en until:2023-05-14 since:2023-05-13\"\n"
     ]
    },
    {
     "name": "stderr",
     "output_type": "stream",
     "text": [
      "Stopping after 20 empty pages\n"
     ]
    },
    {
     "name": "stdout",
     "output_type": "stream",
     "text": [
      "Collected 7 tweets at 2023-05-13.\n",
      "Running twitter query: \"(#covid) min_faves:50 lang:en until:2023-05-15 since:2023-05-14\"\n"
     ]
    },
    {
     "name": "stderr",
     "output_type": "stream",
     "text": [
      "Stopping after 20 empty pages\n"
     ]
    },
    {
     "name": "stdout",
     "output_type": "stream",
     "text": [
      "Collected 10 tweets at 2023-05-14.\n",
      "Running twitter query: \"(#covid) min_faves:50 lang:en until:2023-05-16 since:2023-05-15\"\n"
     ]
    },
    {
     "name": "stderr",
     "output_type": "stream",
     "text": [
      "Stopping after 20 empty pages\n"
     ]
    },
    {
     "name": "stdout",
     "output_type": "stream",
     "text": [
      "Collected 3 tweets at 2023-05-15.\n",
      "Running twitter query: \"(#covid) min_faves:50 lang:en until:2023-05-17 since:2023-05-16\"\n"
     ]
    },
    {
     "name": "stderr",
     "output_type": "stream",
     "text": [
      "Stopping after 20 empty pages\n"
     ]
    },
    {
     "name": "stdout",
     "output_type": "stream",
     "text": [
      "Collected 18 tweets at 2023-05-16.\n",
      "Running twitter query: \"(#covid) min_faves:50 lang:en until:2023-05-18 since:2023-05-17\"\n"
     ]
    },
    {
     "name": "stderr",
     "output_type": "stream",
     "text": [
      "Stopping after 20 empty pages\n"
     ]
    },
    {
     "name": "stdout",
     "output_type": "stream",
     "text": [
      "Collected 32 tweets at 2023-05-17.\n",
      "Running twitter query: \"(#covid) min_faves:50 lang:en until:2023-05-19 since:2023-05-18\"\n"
     ]
    },
    {
     "name": "stderr",
     "output_type": "stream",
     "text": [
      "Stopping after 20 empty pages\n"
     ]
    },
    {
     "name": "stdout",
     "output_type": "stream",
     "text": [
      "Collected 26 tweets at 2023-05-18.\n",
      "Running twitter query: \"(#covid) min_faves:50 lang:en until:2023-05-20 since:2023-05-19\"\n"
     ]
    },
    {
     "name": "stderr",
     "output_type": "stream",
     "text": [
      "Stopping after 20 empty pages\n"
     ]
    },
    {
     "name": "stdout",
     "output_type": "stream",
     "text": [
      "Collected 19 tweets at 2023-05-19.\n",
      "Running twitter query: \"(#covid) min_faves:50 lang:en until:2023-05-21 since:2023-05-20\"\n"
     ]
    },
    {
     "name": "stderr",
     "output_type": "stream",
     "text": [
      "Stopping after 20 empty pages\n"
     ]
    },
    {
     "name": "stdout",
     "output_type": "stream",
     "text": [
      "Collected 24 tweets at 2023-05-20.\n",
      "Running twitter query: \"(#covid) min_faves:50 lang:en until:2023-05-22 since:2023-05-21\"\n"
     ]
    },
    {
     "name": "stderr",
     "output_type": "stream",
     "text": [
      "Stopping after 20 empty pages\n"
     ]
    },
    {
     "name": "stdout",
     "output_type": "stream",
     "text": [
      "Collected 10 tweets at 2023-05-21.\n",
      "Running twitter query: \"(#covid) min_faves:50 lang:en until:2023-05-23 since:2023-05-22\"\n"
     ]
    },
    {
     "name": "stderr",
     "output_type": "stream",
     "text": [
      "Stopping after 20 empty pages\n"
     ]
    },
    {
     "name": "stdout",
     "output_type": "stream",
     "text": [
      "Collected 27 tweets at 2023-05-22.\n",
      "Running twitter query: \"(#covid) min_faves:50 lang:en until:2023-05-24 since:2023-05-23\"\n"
     ]
    },
    {
     "name": "stderr",
     "output_type": "stream",
     "text": [
      "Stopping after 20 empty pages\n"
     ]
    },
    {
     "name": "stdout",
     "output_type": "stream",
     "text": [
      "Collected 26 tweets at 2023-05-23.\n",
      "Saving 345 tweets at 2023-05.\n"
     ]
    }
   ],
   "source": [
    "# formattable twitter query\n",
    "query = \"(#covid) min_faves:50 lang:en until:%s since:%s\"\n",
    "# intialize the dataframe\n",
    "tweets_df = pd.DataFrame()\n",
    "# saves\n",
    "saved_month = set([query_dates[0][:-3]])\n",
    "# iterate date pairs, and query every day\n",
    "for i in range(len(query_dates)-1):\n",
    "    day_query = query % (query_dates[i+1], query_dates[i])\n",
    "    # save DataFrame each month\n",
    "    if query_dates[i][:-3] not in saved_month:\n",
    "        print('Saving %d tweets at %s.' % (tweets_df.shape[0], query_dates[i-1][:-3]))\n",
    "        tweets_df.to_csv('%s.csv' % query_dates[i-1][:-3])\n",
    "        tweets_df = pd.DataFrame()\n",
    "        saved_month.add(query_dates[i][:-3])\n",
    "    print('Running twitter query: \"%s\"' % day_query)\n",
    "    for j, tweet in enumerate(sntw.TwitterSearchScraper(day_query).get_items()):\n",
    "        if j > 10000: # hard limit per day\n",
    "            break\n",
    "        # Tweet to DataFrame columns\n",
    "        df_dict = tweet_to_columns(tweet)\n",
    "        # Append to DataFrame\n",
    "        tweets_df = pd.concat([tweets_df, pd.DataFrame(df_dict, index=[0])])\n",
    "        tweets_df = tweets_df.reset_index(drop=True)\n",
    "    print('Collected %d tweets at %s.' % (j, query_dates[i]))\n",
    "\n",
    "print('Saving %d tweets at %s.' % (tweets_df.shape[0], query_dates[-1][:-3]))\n",
    "tweets_df.to_csv('%s.csv' % query_dates[-1][:-3])"
   ]
  },
  {
   "cell_type": "code",
   "execution_count": 5,
   "id": "f8adb5f8",
   "metadata": {},
   "outputs": [
    {
     "data": {
      "text/html": [
       "<div>\n",
       "<style scoped>\n",
       "    .dataframe tbody tr th:only-of-type {\n",
       "        vertical-align: middle;\n",
       "    }\n",
       "\n",
       "    .dataframe tbody tr th {\n",
       "        vertical-align: top;\n",
       "    }\n",
       "\n",
       "    .dataframe thead th {\n",
       "        text-align: right;\n",
       "    }\n",
       "</style>\n",
       "<table border=\"1\" class=\"dataframe\">\n",
       "  <thead>\n",
       "    <tr style=\"text-align: right;\">\n",
       "      <th></th>\n",
       "      <th>id</th>\n",
       "      <th>date</th>\n",
       "      <th>url</th>\n",
       "      <th>lenContent</th>\n",
       "      <th>replyCount</th>\n",
       "      <th>retweetCount</th>\n",
       "      <th>likeCount</th>\n",
       "      <th>quoteCount</th>\n",
       "      <th>lang</th>\n",
       "      <th>hasLinks</th>\n",
       "      <th>...</th>\n",
       "      <th>hasHashtags</th>\n",
       "      <th>userId</th>\n",
       "      <th>displayName</th>\n",
       "      <th>userDescription</th>\n",
       "      <th>verified</th>\n",
       "      <th>createDate</th>\n",
       "      <th>followerCount</th>\n",
       "      <th>friendCount</th>\n",
       "      <th>userLocation</th>\n",
       "      <th>rawContent</th>\n",
       "    </tr>\n",
       "  </thead>\n",
       "  <tbody>\n",
       "    <tr>\n",
       "      <th>55</th>\n",
       "      <td>1654520328666619906</td>\n",
       "      <td>2023-05-05</td>\n",
       "      <td>https://twitter.com/mattbc/status/165452032866...</td>\n",
       "      <td>203</td>\n",
       "      <td>12</td>\n",
       "      <td>28</td>\n",
       "      <td>132</td>\n",
       "      <td>13</td>\n",
       "      <td>en</td>\n",
       "      <td>False</td>\n",
       "      <td>...</td>\n",
       "      <td>False</td>\n",
       "      <td>276688330</td>\n",
       "      <td>Matthew Cortland (they) @mattbc.bsky.social</td>\n",
       "      <td>Lawyer, immunocompromised, disabled, writer, p...</td>\n",
       "      <td>False</td>\n",
       "      <td>2011-04-03</td>\n",
       "      <td>55454</td>\n",
       "      <td>2565</td>\n",
       "      <td>Washington DC / Boston MA</td>\n",
       "      <td>I’m in a live meeting with CDC on #covid and d...</td>\n",
       "    </tr>\n",
       "    <tr>\n",
       "      <th>17</th>\n",
       "      <td>1653364418196172801</td>\n",
       "      <td>2023-05-02</td>\n",
       "      <td>https://twitter.com/JP__75/status/165336441819...</td>\n",
       "      <td>308</td>\n",
       "      <td>34</td>\n",
       "      <td>158</td>\n",
       "      <td>566</td>\n",
       "      <td>16</td>\n",
       "      <td>en</td>\n",
       "      <td>False</td>\n",
       "      <td>...</td>\n",
       "      <td>False</td>\n",
       "      <td>1392589871449993216</td>\n",
       "      <td>YNWA 2.0</td>\n",
       "      <td>LFC❤️ RFC🐯 Bears 🐻 if you hate Dan Andrews we ...</td>\n",
       "      <td>False</td>\n",
       "      <td>2021-05-12</td>\n",
       "      <td>7181</td>\n",
       "      <td>6292</td>\n",
       "      <td>Worlds GOAT lockdown city</td>\n",
       "      <td>Remember when @7NewsMelbourne used footage of ...</td>\n",
       "    </tr>\n",
       "    <tr>\n",
       "      <th>81</th>\n",
       "      <td>1655517918183190532</td>\n",
       "      <td>2023-05-08</td>\n",
       "      <td>https://twitter.com/JP__75/status/165551791818...</td>\n",
       "      <td>307</td>\n",
       "      <td>67</td>\n",
       "      <td>152</td>\n",
       "      <td>616</td>\n",
       "      <td>19</td>\n",
       "      <td>en</td>\n",
       "      <td>False</td>\n",
       "      <td>...</td>\n",
       "      <td>False</td>\n",
       "      <td>1392589871449993216</td>\n",
       "      <td>YNWA 2.0</td>\n",
       "      <td>LFC❤️ RFC🐯 Bears 🐻 if you hate Dan Andrews we ...</td>\n",
       "      <td>False</td>\n",
       "      <td>2021-05-12</td>\n",
       "      <td>7181</td>\n",
       "      <td>6292</td>\n",
       "      <td>Worlds GOAT lockdown city</td>\n",
       "      <td>Are these people in this video claiming compen...</td>\n",
       "    </tr>\n",
       "    <tr>\n",
       "      <th>178</th>\n",
       "      <td>1658972067188940801</td>\n",
       "      <td>2023-05-17</td>\n",
       "      <td>https://twitter.com/alliemarie777/status/16589...</td>\n",
       "      <td>304</td>\n",
       "      <td>36</td>\n",
       "      <td>76</td>\n",
       "      <td>217</td>\n",
       "      <td>7</td>\n",
       "      <td>en</td>\n",
       "      <td>False</td>\n",
       "      <td>...</td>\n",
       "      <td>False</td>\n",
       "      <td>161452409</td>\n",
       "      <td>AllieMarie-TheCatLady🚫💉😼🦋🤷🏻‍♀️ 🐭</td>\n",
       "      <td>Imperfect Christian, Fluent in snark😏 Opinions...</td>\n",
       "      <td>False</td>\n",
       "      <td>2010-06-30</td>\n",
       "      <td>11503</td>\n",
       "      <td>9046</td>\n",
       "      <td>United States</td>\n",
       "      <td>Bachelor of Science in Nursing enrollments are...</td>\n",
       "    </tr>\n",
       "    <tr>\n",
       "      <th>95</th>\n",
       "      <td>1655847876604444673</td>\n",
       "      <td>2023-05-09</td>\n",
       "      <td>https://twitter.com/LongCovidHell/status/16558...</td>\n",
       "      <td>284</td>\n",
       "      <td>8</td>\n",
       "      <td>179</td>\n",
       "      <td>253</td>\n",
       "      <td>10</td>\n",
       "      <td>en</td>\n",
       "      <td>True</td>\n",
       "      <td>...</td>\n",
       "      <td>True</td>\n",
       "      <td>1225382429080391680</td>\n",
       "      <td>Dame Sa 🐝 3.5%</td>\n",
       "      <td>Anti Covid and anti Tory. Raising awareness fo...</td>\n",
       "      <td>False</td>\n",
       "      <td>2020-02-06</td>\n",
       "      <td>5177</td>\n",
       "      <td>5464</td>\n",
       "      <td>London, England</td>\n",
       "      <td>British Heart Foundation:\\n\\nThose infected wi...</td>\n",
       "    </tr>\n",
       "  </tbody>\n",
       "</table>\n",
       "<p>5 rows × 25 columns</p>\n",
       "</div>"
      ],
      "text/plain": [
       "                      id        date  \\\n",
       "55   1654520328666619906  2023-05-05   \n",
       "17   1653364418196172801  2023-05-02   \n",
       "81   1655517918183190532  2023-05-08   \n",
       "178  1658972067188940801  2023-05-17   \n",
       "95   1655847876604444673  2023-05-09   \n",
       "\n",
       "                                                   url  lenContent  \\\n",
       "55   https://twitter.com/mattbc/status/165452032866...         203   \n",
       "17   https://twitter.com/JP__75/status/165336441819...         308   \n",
       "81   https://twitter.com/JP__75/status/165551791818...         307   \n",
       "178  https://twitter.com/alliemarie777/status/16589...         304   \n",
       "95   https://twitter.com/LongCovidHell/status/16558...         284   \n",
       "\n",
       "     replyCount  retweetCount  likeCount  quoteCount lang  hasLinks  ...  \\\n",
       "55           12            28        132          13   en     False  ...   \n",
       "17           34           158        566          16   en     False  ...   \n",
       "81           67           152        616          19   en     False  ...   \n",
       "178          36            76        217           7   en     False  ...   \n",
       "95            8           179        253          10   en      True  ...   \n",
       "\n",
       "     hasHashtags               userId  \\\n",
       "55         False            276688330   \n",
       "17         False  1392589871449993216   \n",
       "81         False  1392589871449993216   \n",
       "178        False            161452409   \n",
       "95          True  1225382429080391680   \n",
       "\n",
       "                                     displayName  \\\n",
       "55   Matthew Cortland (they) @mattbc.bsky.social   \n",
       "17                                      YNWA 2.0   \n",
       "81                                      YNWA 2.0   \n",
       "178             AllieMarie-TheCatLady🚫💉😼🦋🤷🏻‍♀️ 🐭   \n",
       "95                                Dame Sa 🐝 3.5%   \n",
       "\n",
       "                                       userDescription  verified  createDate  \\\n",
       "55   Lawyer, immunocompromised, disabled, writer, p...     False  2011-04-03   \n",
       "17   LFC❤️ RFC🐯 Bears 🐻 if you hate Dan Andrews we ...     False  2021-05-12   \n",
       "81   LFC❤️ RFC🐯 Bears 🐻 if you hate Dan Andrews we ...     False  2021-05-12   \n",
       "178  Imperfect Christian, Fluent in snark😏 Opinions...     False  2010-06-30   \n",
       "95   Anti Covid and anti Tory. Raising awareness fo...     False  2020-02-06   \n",
       "\n",
       "     followerCount friendCount                userLocation  \\\n",
       "55           55454        2565   Washington DC / Boston MA   \n",
       "17            7181        6292  Worlds GOAT lockdown city    \n",
       "81            7181        6292  Worlds GOAT lockdown city    \n",
       "178          11503        9046               United States   \n",
       "95            5177        5464             London, England   \n",
       "\n",
       "                                            rawContent  \n",
       "55   I’m in a live meeting with CDC on #covid and d...  \n",
       "17   Remember when @7NewsMelbourne used footage of ...  \n",
       "81   Are these people in this video claiming compen...  \n",
       "178  Bachelor of Science in Nursing enrollments are...  \n",
       "95   British Heart Foundation:\\n\\nThose infected wi...  \n",
       "\n",
       "[5 rows x 25 columns]"
      ]
     },
     "execution_count": 5,
     "metadata": {},
     "output_type": "execute_result"
    }
   ],
   "source": [
    "tweets_df.sample(5)"
   ]
  }
 ],
 "metadata": {
  "kernelspec": {
   "display_name": "Python 3 (ipykernel)",
   "language": "python",
   "name": "python3"
  },
  "language_info": {
   "codemirror_mode": {
    "name": "ipython",
    "version": 3
   },
   "file_extension": ".py",
   "mimetype": "text/x-python",
   "name": "python",
   "nbconvert_exporter": "python",
   "pygments_lexer": "ipython3",
   "version": "3.10.9"
  }
 },
 "nbformat": 4,
 "nbformat_minor": 5
}
