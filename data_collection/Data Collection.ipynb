{
 "cells": [
  {
   "cell_type": "code",
   "execution_count": 1,
   "id": "8636f2d2",
   "metadata": {},
   "outputs": [],
   "source": [
    "import snscrape.modules.twitter as sntw\n",
    "from datetime import date, timedelta\n",
    "import pandas as pd\n",
    "import tqdm"
   ]
  },
  {
   "cell_type": "code",
   "execution_count": 2,
   "id": "0e9be186",
   "metadata": {},
   "outputs": [
    {
     "name": "stdout",
     "output_type": "stream",
     "text": [
      "Query will start from 2020-02-11 to 2023-05-27\n"
     ]
    }
   ],
   "source": [
    "# create query date list\n",
    "query_dates = []\n",
    "start_date = date(2020, 2, 11)\n",
    "for i in range(365*3+30*3+17):\n",
    "    iter_date = start_date + timedelta(i)\n",
    "    query_dates.append(iter_date.strftime(\"%Y-%m-%d\"))\n",
    "    \n",
    "print('Query will start from %s to %s' % (query_dates[0], query_dates[-1]))"
   ]
  },
  {
   "cell_type": "code",
   "execution_count": 3,
   "id": "20af3327",
   "metadata": {},
   "outputs": [],
   "source": [
    "def tweet_to_columns(tweet):\n",
    "    # Tweet based columns\n",
    "    tweet_has_links = len(tweet.links)>0 if tweet.links is not None else False\n",
    "    tweet_has_media = len(tweet.media)>0 if tweet.media is not None else False\n",
    "    tweet_has_mentions = len(tweet.mentionedUsers)>0 if tweet.mentionedUsers is not None else False\n",
    "    tweet_has_hashtags = len(tweet.hashtags)>1 if tweet.hashtags is not None else False # other than covid\n",
    "    tweet_columns = [tweet.id, tweet.date.strftime(\"%Y-%m-%d\"), tweet.url, len(tweet.rawContent), tweet.replyCount,\n",
    "                     tweet.retweetCount, tweet.likeCount, tweet.quoteCount, tweet.lang, tweet_has_links, tweet_has_media,\n",
    "                     tweet.retweetedTweet is not None, tweet.quotedTweet is not None, tweet.viewCount, tweet.bookmarkCount,\n",
    "                     tweet_has_hashtags]\n",
    "    # User based columns\n",
    "    user = tweet.user\n",
    "    user_columns = [user.id, user.displayname, user.rawDescription, user.verified, user.created.strftime(\"%Y-%m-%d\"),\n",
    "                    user.followersCount, user.friendsCount, user.location]\n",
    "    tweet_columns.extend(user_columns)\n",
    "    # Add tweet content as last column\n",
    "    tweet_columns.append(tweet.rawContent)\n",
    "    # Column names\n",
    "    col_names = ['id', 'date', 'url', 'lenContent', 'replyCount', 'retweetCount', 'likeCount', 'quoteCount', 'lang',\n",
    "             'hasLinks', 'hasMedia', 'isRetweeted', 'isQuoted', 'viewCount', 'bookmarkCount', 'hasHashtags',\n",
    "             'userId', 'displayName', 'userDescription', 'verified', 'createDate', 'followerCount', 'friendCount',\n",
    "             'userLocation', 'rawContent']\n",
    "    return {name: field for name, field in zip(col_names, tweet_columns)}"
   ]
  },
  {
   "cell_type": "code",
   "execution_count": 4,
   "id": "8964bab3",
   "metadata": {},
   "outputs": [
    {
     "name": "stderr",
     "output_type": "stream",
     "text": [
      "\r",
      "  0%|                                                                                         | 0/1201 [00:00<?, ?it/s]"
     ]
    },
    {
     "name": "stdout",
     "output_type": "stream",
     "text": [
      "Running twitter query: \"(#covid) lang:en until:2020-02-12 since:2020-02-11\"\n"
     ]
    },
    {
     "name": "stderr",
     "output_type": "stream",
     "text": [
      "Stopping after 20 empty pages\n",
      "  0%|                                                                               | 1/1201 [00:18<6:12:51, 18.64s/it]"
     ]
    },
    {
     "name": "stdout",
     "output_type": "stream",
     "text": [
      "Collected 254 tweets at 2020-02-11.\n",
      "Running twitter query: \"(#covid) lang:en until:2020-02-13 since:2020-02-12\"\n"
     ]
    },
    {
     "name": "stderr",
     "output_type": "stream",
     "text": [
      "\r",
      "  0%|▏                                                                              | 2/1201 [00:31<5:05:29, 15.29s/it]"
     ]
    },
    {
     "name": "stdout",
     "output_type": "stream",
     "text": [
      "Collected 256 tweets at 2020-02-12.\n",
      "Running twitter query: \"(#covid) lang:en until:2020-02-14 since:2020-02-13\"\n"
     ]
    },
    {
     "name": "stderr",
     "output_type": "stream",
     "text": [
      "\r",
      "  0%|▏                                                                              | 3/1201 [00:44<4:44:01, 14.22s/it]"
     ]
    },
    {
     "name": "stdout",
     "output_type": "stream",
     "text": [
      "Collected 256 tweets at 2020-02-13.\n",
      "Running twitter query: \"(#covid) lang:en until:2020-02-15 since:2020-02-14\"\n"
     ]
    },
    {
     "name": "stderr",
     "output_type": "stream",
     "text": [
      "\r",
      "  0%|▎                                                                              | 4/1201 [00:58<4:41:32, 14.11s/it]"
     ]
    },
    {
     "name": "stdout",
     "output_type": "stream",
     "text": [
      "Collected 256 tweets at 2020-02-14.\n",
      "Running twitter query: \"(#covid) lang:en until:2020-02-16 since:2020-02-15\"\n"
     ]
    },
    {
     "name": "stderr",
     "output_type": "stream",
     "text": [
      "\r",
      "  0%|▎                                                                              | 5/1201 [01:12<4:41:54, 14.14s/it]"
     ]
    },
    {
     "name": "stdout",
     "output_type": "stream",
     "text": [
      "Collected 256 tweets at 2020-02-15.\n",
      "Running twitter query: \"(#covid) lang:en until:2020-02-17 since:2020-02-16\"\n"
     ]
    },
    {
     "name": "stderr",
     "output_type": "stream",
     "text": [
      "\r",
      "  0%|▍                                                                              | 6/1201 [01:26<4:40:26, 14.08s/it]"
     ]
    },
    {
     "name": "stdout",
     "output_type": "stream",
     "text": [
      "Collected 256 tweets at 2020-02-16.\n",
      "Running twitter query: \"(#covid) lang:en until:2020-02-18 since:2020-02-17\"\n"
     ]
    },
    {
     "name": "stderr",
     "output_type": "stream",
     "text": [
      "\r",
      "  1%|▍                                                                              | 7/1201 [01:40<4:36:24, 13.89s/it]"
     ]
    },
    {
     "name": "stdout",
     "output_type": "stream",
     "text": [
      "Collected 256 tweets at 2020-02-17.\n",
      "Running twitter query: \"(#covid) lang:en until:2020-02-19 since:2020-02-18\"\n"
     ]
    },
    {
     "name": "stderr",
     "output_type": "stream",
     "text": [
      "\r",
      "  1%|▌                                                                              | 8/1201 [01:52<4:26:07, 13.38s/it]"
     ]
    },
    {
     "name": "stdout",
     "output_type": "stream",
     "text": [
      "Collected 256 tweets at 2020-02-18.\n",
      "Running twitter query: \"(#covid) lang:en until:2020-02-20 since:2020-02-19\"\n"
     ]
    },
    {
     "name": "stderr",
     "output_type": "stream",
     "text": [
      "\r",
      "  1%|▌                                                                              | 9/1201 [02:03<4:11:14, 12.65s/it]"
     ]
    },
    {
     "name": "stdout",
     "output_type": "stream",
     "text": [
      "Collected 256 tweets at 2020-02-19.\n",
      "Running twitter query: \"(#covid) lang:en until:2020-02-21 since:2020-02-20\"\n"
     ]
    },
    {
     "name": "stderr",
     "output_type": "stream",
     "text": [
      "\r",
      "  1%|▋                                                                             | 10/1201 [02:15<4:06:00, 12.39s/it]"
     ]
    },
    {
     "name": "stdout",
     "output_type": "stream",
     "text": [
      "Collected 256 tweets at 2020-02-20.\n",
      "Running twitter query: \"(#covid) lang:en until:2020-02-22 since:2020-02-21\"\n"
     ]
    },
    {
     "name": "stderr",
     "output_type": "stream",
     "text": [
      "\r",
      "  1%|▋                                                                             | 11/1201 [02:25<3:55:19, 11.86s/it]"
     ]
    },
    {
     "name": "stdout",
     "output_type": "stream",
     "text": [
      "Collected 256 tweets at 2020-02-21.\n",
      "Running twitter query: \"(#covid) lang:en until:2020-02-23 since:2020-02-22\"\n"
     ]
    },
    {
     "name": "stderr",
     "output_type": "stream",
     "text": [
      "\r",
      "  1%|▊                                                                             | 12/1201 [02:38<4:01:30, 12.19s/it]"
     ]
    },
    {
     "name": "stdout",
     "output_type": "stream",
     "text": [
      "Collected 256 tweets at 2020-02-22.\n",
      "Running twitter query: \"(#covid) lang:en until:2020-02-24 since:2020-02-23\"\n"
     ]
    },
    {
     "name": "stderr",
     "output_type": "stream",
     "text": [
      "\r",
      "  1%|▊                                                                             | 13/1201 [02:56<4:31:11, 13.70s/it]"
     ]
    },
    {
     "name": "stdout",
     "output_type": "stream",
     "text": [
      "Collected 256 tweets at 2020-02-23.\n",
      "Running twitter query: \"(#covid) lang:en until:2020-02-25 since:2020-02-24\"\n"
     ]
    },
    {
     "name": "stderr",
     "output_type": "stream",
     "text": [
      "\r",
      "  1%|▉                                                                             | 14/1201 [03:08<4:23:43, 13.33s/it]"
     ]
    },
    {
     "name": "stdout",
     "output_type": "stream",
     "text": [
      "Collected 256 tweets at 2020-02-24.\n",
      "Running twitter query: \"(#covid) lang:en until:2020-02-26 since:2020-02-25\"\n"
     ]
    },
    {
     "name": "stderr",
     "output_type": "stream",
     "text": [
      "\r",
      "  1%|▉                                                                             | 15/1201 [03:20<4:18:20, 13.07s/it]"
     ]
    },
    {
     "name": "stdout",
     "output_type": "stream",
     "text": [
      "Collected 256 tweets at 2020-02-25.\n",
      "Running twitter query: \"(#covid) lang:en until:2020-02-27 since:2020-02-26\"\n"
     ]
    },
    {
     "name": "stderr",
     "output_type": "stream",
     "text": [
      "\r",
      "  1%|█                                                                             | 16/1201 [03:34<4:18:55, 13.11s/it]"
     ]
    },
    {
     "name": "stdout",
     "output_type": "stream",
     "text": [
      "Collected 256 tweets at 2020-02-26.\n",
      "Running twitter query: \"(#covid) lang:en until:2020-02-28 since:2020-02-27\"\n"
     ]
    },
    {
     "name": "stderr",
     "output_type": "stream",
     "text": [
      "\r",
      "  1%|█                                                                             | 17/1201 [03:46<4:14:20, 12.89s/it]"
     ]
    },
    {
     "name": "stdout",
     "output_type": "stream",
     "text": [
      "Collected 256 tweets at 2020-02-27.\n",
      "Running twitter query: \"(#covid) lang:en until:2020-02-29 since:2020-02-28\"\n"
     ]
    },
    {
     "name": "stderr",
     "output_type": "stream",
     "text": [
      "\r",
      "  1%|█▏                                                                            | 18/1201 [03:58<4:08:53, 12.62s/it]"
     ]
    },
    {
     "name": "stdout",
     "output_type": "stream",
     "text": [
      "Collected 256 tweets at 2020-02-28.\n",
      "Running twitter query: \"(#covid) lang:en until:2020-03-01 since:2020-02-29\"\n"
     ]
    },
    {
     "name": "stderr",
     "output_type": "stream",
     "text": [
      "\r",
      "  2%|█▏                                                                            | 19/1201 [04:11<4:08:56, 12.64s/it]"
     ]
    },
    {
     "name": "stdout",
     "output_type": "stream",
     "text": [
      "Collected 256 tweets at 2020-02-29.\n",
      "Saving 4863 tweets at 2020-02.\n",
      "Running twitter query: \"(#covid) lang:en until:2020-03-02 since:2020-03-01\"\n"
     ]
    },
    {
     "name": "stderr",
     "output_type": "stream",
     "text": [
      "\r",
      "  2%|█▎                                                                            | 20/1201 [04:22<4:00:08, 12.20s/it]"
     ]
    },
    {
     "name": "stdout",
     "output_type": "stream",
     "text": [
      "Collected 256 tweets at 2020-03-01.\n",
      "Running twitter query: \"(#covid) lang:en until:2020-03-03 since:2020-03-02\"\n"
     ]
    },
    {
     "name": "stderr",
     "output_type": "stream",
     "text": [
      "\r",
      "  2%|█▎                                                                            | 21/1201 [04:33<3:50:22, 11.71s/it]"
     ]
    },
    {
     "name": "stdout",
     "output_type": "stream",
     "text": [
      "Collected 256 tweets at 2020-03-02.\n",
      "Running twitter query: \"(#covid) lang:en until:2020-03-04 since:2020-03-03\"\n"
     ]
    },
    {
     "name": "stderr",
     "output_type": "stream",
     "text": [
      "\r",
      "  2%|█▍                                                                            | 22/1201 [04:43<3:41:55, 11.29s/it]"
     ]
    },
    {
     "name": "stdout",
     "output_type": "stream",
     "text": [
      "Collected 256 tweets at 2020-03-03.\n",
      "Running twitter query: \"(#covid) lang:en until:2020-03-05 since:2020-03-04\"\n"
     ]
    },
    {
     "name": "stderr",
     "output_type": "stream",
     "text": [
      "\r",
      "  2%|█▍                                                                            | 23/1201 [04:54<3:40:01, 11.21s/it]"
     ]
    },
    {
     "name": "stdout",
     "output_type": "stream",
     "text": [
      "Collected 256 tweets at 2020-03-04.\n",
      "Running twitter query: \"(#covid) lang:en until:2020-03-06 since:2020-03-05\"\n"
     ]
    },
    {
     "name": "stderr",
     "output_type": "stream",
     "text": [
      "\r",
      "  2%|█▌                                                                            | 24/1201 [05:05<3:40:38, 11.25s/it]"
     ]
    },
    {
     "name": "stdout",
     "output_type": "stream",
     "text": [
      "Collected 256 tweets at 2020-03-05.\n",
      "Running twitter query: \"(#covid) lang:en until:2020-03-07 since:2020-03-06\"\n"
     ]
    },
    {
     "name": "stderr",
     "output_type": "stream",
     "text": [
      "\r",
      "  2%|█▌                                                                            | 25/1201 [05:18<3:50:03, 11.74s/it]"
     ]
    },
    {
     "name": "stdout",
     "output_type": "stream",
     "text": [
      "Collected 256 tweets at 2020-03-06.\n",
      "Running twitter query: \"(#covid) lang:en until:2020-03-08 since:2020-03-07\"\n"
     ]
    },
    {
     "name": "stderr",
     "output_type": "stream",
     "text": [
      "\r",
      "  2%|█▋                                                                            | 26/1201 [05:29<3:46:33, 11.57s/it]"
     ]
    },
    {
     "name": "stdout",
     "output_type": "stream",
     "text": [
      "Collected 256 tweets at 2020-03-07.\n",
      "Running twitter query: \"(#covid) lang:en until:2020-03-09 since:2020-03-08\"\n"
     ]
    },
    {
     "name": "stderr",
     "output_type": "stream",
     "text": [
      "\r",
      "  2%|█▊                                                                            | 27/1201 [05:40<3:42:36, 11.38s/it]"
     ]
    },
    {
     "name": "stdout",
     "output_type": "stream",
     "text": [
      "Collected 256 tweets at 2020-03-08.\n",
      "Running twitter query: \"(#covid) lang:en until:2020-03-10 since:2020-03-09\"\n"
     ]
    },
    {
     "name": "stderr",
     "output_type": "stream",
     "text": [
      "\r",
      "  2%|█▊                                                                            | 28/1201 [05:51<3:40:35, 11.28s/it]"
     ]
    },
    {
     "name": "stdout",
     "output_type": "stream",
     "text": [
      "Collected 256 tweets at 2020-03-09.\n",
      "Running twitter query: \"(#covid) lang:en until:2020-03-11 since:2020-03-10\"\n"
     ]
    },
    {
     "name": "stderr",
     "output_type": "stream",
     "text": [
      "\r",
      "  2%|█▉                                                                            | 29/1201 [06:02<3:36:46, 11.10s/it]"
     ]
    },
    {
     "name": "stdout",
     "output_type": "stream",
     "text": [
      "Collected 256 tweets at 2020-03-10.\n",
      "Running twitter query: \"(#covid) lang:en until:2020-03-12 since:2020-03-11\"\n"
     ]
    },
    {
     "name": "stderr",
     "output_type": "stream",
     "text": [
      "\r",
      "  2%|█▉                                                                            | 30/1201 [06:13<3:34:19, 10.98s/it]"
     ]
    },
    {
     "name": "stdout",
     "output_type": "stream",
     "text": [
      "Collected 256 tweets at 2020-03-11.\n",
      "Running twitter query: \"(#covid) lang:en until:2020-03-13 since:2020-03-12\"\n"
     ]
    },
    {
     "name": "stderr",
     "output_type": "stream",
     "text": [
      "\r",
      "  3%|██                                                                            | 31/1201 [06:23<3:30:41, 10.80s/it]"
     ]
    },
    {
     "name": "stdout",
     "output_type": "stream",
     "text": [
      "Collected 256 tweets at 2020-03-12.\n",
      "Running twitter query: \"(#covid) lang:en until:2020-03-14 since:2020-03-13\"\n"
     ]
    },
    {
     "name": "stderr",
     "output_type": "stream",
     "text": [
      "\r",
      "  3%|██                                                                            | 32/1201 [06:34<3:34:13, 11.00s/it]"
     ]
    },
    {
     "name": "stdout",
     "output_type": "stream",
     "text": [
      "Collected 256 tweets at 2020-03-13.\n",
      "Running twitter query: \"(#covid) lang:en until:2020-03-15 since:2020-03-14\"\n"
     ]
    },
    {
     "name": "stderr",
     "output_type": "stream",
     "text": [
      "\r",
      "  3%|██▏                                                                           | 33/1201 [06:46<3:35:15, 11.06s/it]"
     ]
    },
    {
     "name": "stdout",
     "output_type": "stream",
     "text": [
      "Collected 256 tweets at 2020-03-14.\n",
      "Running twitter query: \"(#covid) lang:en until:2020-03-16 since:2020-03-15\"\n"
     ]
    },
    {
     "name": "stderr",
     "output_type": "stream",
     "text": [
      "Empty user ref object in card on tweet 1239338549540945922\n",
      "User 1259487 not found in user refs in card on tweet 1239338549540945922\n",
      "  3%|██▏                                                                           | 34/1201 [06:57<3:38:44, 11.25s/it]"
     ]
    },
    {
     "name": "stdout",
     "output_type": "stream",
     "text": [
      "Collected 256 tweets at 2020-03-15.\n",
      "Running twitter query: \"(#covid) lang:en until:2020-03-17 since:2020-03-16\"\n"
     ]
    },
    {
     "name": "stderr",
     "output_type": "stream",
     "text": [
      "\r",
      "  3%|██▎                                                                           | 35/1201 [07:08<3:37:48, 11.21s/it]"
     ]
    },
    {
     "name": "stdout",
     "output_type": "stream",
     "text": [
      "Collected 256 tweets at 2020-03-16.\n",
      "Running twitter query: \"(#covid) lang:en until:2020-03-18 since:2020-03-17\"\n"
     ]
    },
    {
     "name": "stderr",
     "output_type": "stream",
     "text": [
      "\r",
      "  3%|██▎                                                                           | 36/1201 [07:20<3:38:21, 11.25s/it]"
     ]
    },
    {
     "name": "stdout",
     "output_type": "stream",
     "text": [
      "Collected 256 tweets at 2020-03-17.\n",
      "Running twitter query: \"(#covid) lang:en until:2020-03-19 since:2020-03-18\"\n"
     ]
    },
    {
     "name": "stderr",
     "output_type": "stream",
     "text": [
      "\r",
      "  3%|██▍                                                                           | 37/1201 [07:31<3:40:57, 11.39s/it]"
     ]
    },
    {
     "name": "stdout",
     "output_type": "stream",
     "text": [
      "Collected 256 tweets at 2020-03-18.\n",
      "Running twitter query: \"(#covid) lang:en until:2020-03-20 since:2020-03-19\"\n"
     ]
    },
    {
     "name": "stderr",
     "output_type": "stream",
     "text": [
      "Unavailable user in card on tweet 1240788916837453830\n",
      "User 933016351756742656 not found in user refs in card on tweet 1240788916837453830\n",
      "  3%|██▍                                                                           | 38/1201 [07:44<3:50:05, 11.87s/it]"
     ]
    },
    {
     "name": "stdout",
     "output_type": "stream",
     "text": [
      "Collected 256 tweets at 2020-03-19.\n",
      "Running twitter query: \"(#covid) lang:en until:2020-03-21 since:2020-03-20\"\n"
     ]
    },
    {
     "name": "stderr",
     "output_type": "stream",
     "text": [
      "\r",
      "  3%|██▌                                                                           | 39/1201 [07:56<3:46:57, 11.72s/it]"
     ]
    },
    {
     "name": "stdout",
     "output_type": "stream",
     "text": [
      "Collected 256 tweets at 2020-03-20.\n",
      "Running twitter query: \"(#covid) lang:en until:2020-03-22 since:2020-03-21\"\n"
     ]
    },
    {
     "name": "stderr",
     "output_type": "stream",
     "text": [
      "\r",
      "  3%|██▌                                                                           | 40/1201 [08:08<3:47:25, 11.75s/it]"
     ]
    },
    {
     "name": "stdout",
     "output_type": "stream",
     "text": [
      "Collected 256 tweets at 2020-03-21.\n",
      "Running twitter query: \"(#covid) lang:en until:2020-03-23 since:2020-03-22\"\n"
     ]
    },
    {
     "name": "stderr",
     "output_type": "stream",
     "text": [
      "\r",
      "  3%|██▋                                                                           | 41/1201 [08:19<3:46:57, 11.74s/it]"
     ]
    },
    {
     "name": "stdout",
     "output_type": "stream",
     "text": [
      "Collected 256 tweets at 2020-03-22.\n",
      "Running twitter query: \"(#covid) lang:en until:2020-03-24 since:2020-03-23\"\n"
     ]
    },
    {
     "name": "stderr",
     "output_type": "stream",
     "text": [
      "\r",
      "  3%|██▋                                                                           | 42/1201 [08:32<3:51:16, 11.97s/it]"
     ]
    },
    {
     "name": "stdout",
     "output_type": "stream",
     "text": [
      "Collected 256 tweets at 2020-03-23.\n",
      "Running twitter query: \"(#covid) lang:en until:2020-03-25 since:2020-03-24\"\n"
     ]
    },
    {
     "name": "stderr",
     "output_type": "stream",
     "text": [
      "\r",
      "  4%|██▊                                                                           | 43/1201 [08:44<3:51:35, 12.00s/it]"
     ]
    },
    {
     "name": "stdout",
     "output_type": "stream",
     "text": [
      "Collected 256 tweets at 2020-03-24.\n",
      "Running twitter query: \"(#covid) lang:en until:2020-03-26 since:2020-03-25\"\n"
     ]
    },
    {
     "name": "stderr",
     "output_type": "stream",
     "text": [
      "\r",
      "  4%|██▊                                                                           | 44/1201 [08:57<3:58:35, 12.37s/it]"
     ]
    },
    {
     "name": "stdout",
     "output_type": "stream",
     "text": [
      "Collected 256 tweets at 2020-03-25.\n",
      "Running twitter query: \"(#covid) lang:en until:2020-03-27 since:2020-03-26\"\n"
     ]
    },
    {
     "name": "stderr",
     "output_type": "stream",
     "text": [
      "\r",
      "  4%|██▉                                                                           | 45/1201 [09:10<4:00:19, 12.47s/it]"
     ]
    },
    {
     "name": "stdout",
     "output_type": "stream",
     "text": [
      "Collected 256 tweets at 2020-03-26.\n",
      "Running twitter query: \"(#covid) lang:en until:2020-03-28 since:2020-03-27\"\n"
     ]
    },
    {
     "name": "stderr",
     "output_type": "stream",
     "text": [
      "\r",
      "  4%|██▉                                                                           | 46/1201 [09:23<4:02:06, 12.58s/it]"
     ]
    },
    {
     "name": "stdout",
     "output_type": "stream",
     "text": [
      "Collected 256 tweets at 2020-03-27.\n",
      "Running twitter query: \"(#covid) lang:en until:2020-03-29 since:2020-03-28\"\n"
     ]
    },
    {
     "name": "stderr",
     "output_type": "stream",
     "text": [
      "\r",
      "  4%|███                                                                           | 47/1201 [09:35<4:00:33, 12.51s/it]"
     ]
    },
    {
     "name": "stdout",
     "output_type": "stream",
     "text": [
      "Collected 256 tweets at 2020-03-28.\n",
      "Running twitter query: \"(#covid) lang:en until:2020-03-30 since:2020-03-29\"\n"
     ]
    },
    {
     "name": "stderr",
     "output_type": "stream",
     "text": [
      "\r",
      "  4%|███                                                                           | 48/1201 [09:49<4:05:43, 12.79s/it]"
     ]
    },
    {
     "name": "stdout",
     "output_type": "stream",
     "text": [
      "Collected 256 tweets at 2020-03-29.\n",
      "Running twitter query: \"(#covid) lang:en until:2020-03-31 since:2020-03-30\"\n"
     ]
    },
    {
     "name": "stderr",
     "output_type": "stream",
     "text": [
      "\r",
      "  4%|███▏                                                                          | 49/1201 [10:02<4:09:53, 13.01s/it]"
     ]
    },
    {
     "name": "stdout",
     "output_type": "stream",
     "text": [
      "Collected 256 tweets at 2020-03-30.\n",
      "Running twitter query: \"(#covid) lang:en until:2020-04-01 since:2020-03-31\"\n"
     ]
    },
    {
     "name": "stderr",
     "output_type": "stream",
     "text": [
      "\r",
      "  4%|███▏                                                                          | 50/1201 [10:15<4:11:47, 13.13s/it]"
     ]
    },
    {
     "name": "stdout",
     "output_type": "stream",
     "text": [
      "Collected 256 tweets at 2020-03-31.\n",
      "Saving 7936 tweets at 2020-03.\n",
      "Running twitter query: \"(#covid) lang:en until:2020-04-02 since:2020-04-01\"\n"
     ]
    },
    {
     "name": "stderr",
     "output_type": "stream",
     "text": [
      "\r",
      "  4%|███▎                                                                          | 51/1201 [10:28<4:06:29, 12.86s/it]"
     ]
    },
    {
     "name": "stdout",
     "output_type": "stream",
     "text": [
      "Collected 256 tweets at 2020-04-01.\n",
      "Running twitter query: \"(#covid) lang:en until:2020-04-03 since:2020-04-02\"\n"
     ]
    },
    {
     "name": "stderr",
     "output_type": "stream",
     "text": [
      "\r",
      "  4%|███▍                                                                          | 52/1201 [10:38<3:51:10, 12.07s/it]"
     ]
    },
    {
     "name": "stdout",
     "output_type": "stream",
     "text": [
      "Collected 256 tweets at 2020-04-02.\n",
      "Running twitter query: \"(#covid) lang:en until:2020-04-04 since:2020-04-03\"\n"
     ]
    },
    {
     "name": "stderr",
     "output_type": "stream",
     "text": [
      "\r",
      "  4%|███▍                                                                          | 53/1201 [10:49<3:44:01, 11.71s/it]"
     ]
    },
    {
     "name": "stdout",
     "output_type": "stream",
     "text": [
      "Collected 256 tweets at 2020-04-03.\n",
      "Running twitter query: \"(#covid) lang:en until:2020-04-05 since:2020-04-04\"\n"
     ]
    },
    {
     "name": "stderr",
     "output_type": "stream",
     "text": [
      "\r",
      "  4%|███▌                                                                          | 54/1201 [11:00<3:38:54, 11.45s/it]"
     ]
    },
    {
     "name": "stdout",
     "output_type": "stream",
     "text": [
      "Collected 256 tweets at 2020-04-04.\n",
      "Running twitter query: \"(#covid) lang:en until:2020-04-06 since:2020-04-05\"\n"
     ]
    },
    {
     "name": "stderr",
     "output_type": "stream",
     "text": [
      "\r",
      "  5%|███▌                                                                          | 55/1201 [11:10<3:33:23, 11.17s/it]"
     ]
    },
    {
     "name": "stdout",
     "output_type": "stream",
     "text": [
      "Collected 256 tweets at 2020-04-05.\n",
      "Running twitter query: \"(#covid) lang:en until:2020-04-07 since:2020-04-06\"\n"
     ]
    },
    {
     "name": "stderr",
     "output_type": "stream",
     "text": [
      "\r",
      "  5%|███▋                                                                          | 56/1201 [11:21<3:33:20, 11.18s/it]"
     ]
    },
    {
     "name": "stdout",
     "output_type": "stream",
     "text": [
      "Collected 256 tweets at 2020-04-06.\n",
      "Running twitter query: \"(#covid) lang:en until:2020-04-08 since:2020-04-07\"\n"
     ]
    },
    {
     "name": "stderr",
     "output_type": "stream",
     "text": [
      "\r",
      "  5%|███▋                                                                          | 57/1201 [11:33<3:35:49, 11.32s/it]"
     ]
    },
    {
     "name": "stdout",
     "output_type": "stream",
     "text": [
      "Collected 256 tweets at 2020-04-07.\n",
      "Running twitter query: \"(#covid) lang:en until:2020-04-09 since:2020-04-08\"\n"
     ]
    },
    {
     "name": "stderr",
     "output_type": "stream",
     "text": [
      "\r",
      "  5%|███▊                                                                          | 58/1201 [11:44<3:30:57, 11.07s/it]"
     ]
    },
    {
     "name": "stdout",
     "output_type": "stream",
     "text": [
      "Collected 256 tweets at 2020-04-08.\n",
      "Running twitter query: \"(#covid) lang:en until:2020-04-10 since:2020-04-09\"\n"
     ]
    },
    {
     "name": "stderr",
     "output_type": "stream",
     "text": [
      "\r",
      "  5%|███▊                                                                          | 59/1201 [11:53<3:24:33, 10.75s/it]"
     ]
    },
    {
     "name": "stdout",
     "output_type": "stream",
     "text": [
      "Collected 256 tweets at 2020-04-09.\n",
      "Running twitter query: \"(#covid) lang:en until:2020-04-11 since:2020-04-10\"\n"
     ]
    },
    {
     "name": "stderr",
     "output_type": "stream",
     "text": [
      "\r",
      "  5%|███▉                                                                          | 60/1201 [12:04<3:24:39, 10.76s/it]"
     ]
    },
    {
     "name": "stdout",
     "output_type": "stream",
     "text": [
      "Collected 256 tweets at 2020-04-10.\n",
      "Running twitter query: \"(#covid) lang:en until:2020-04-12 since:2020-04-11\"\n"
     ]
    },
    {
     "name": "stderr",
     "output_type": "stream",
     "text": [
      "\r",
      "  5%|███▉                                                                          | 61/1201 [12:15<3:25:17, 10.81s/it]"
     ]
    },
    {
     "name": "stdout",
     "output_type": "stream",
     "text": [
      "Collected 256 tweets at 2020-04-11.\n",
      "Running twitter query: \"(#covid) lang:en until:2020-04-13 since:2020-04-12\"\n"
     ]
    },
    {
     "name": "stderr",
     "output_type": "stream",
     "text": [
      "\r",
      "  5%|████                                                                          | 62/1201 [12:26<3:25:06, 10.80s/it]"
     ]
    },
    {
     "name": "stdout",
     "output_type": "stream",
     "text": [
      "Collected 256 tweets at 2020-04-12.\n",
      "Running twitter query: \"(#covid) lang:en until:2020-04-14 since:2020-04-13\"\n"
     ]
    },
    {
     "name": "stderr",
     "output_type": "stream",
     "text": [
      "\r",
      "  5%|████                                                                          | 63/1201 [12:37<3:24:03, 10.76s/it]"
     ]
    },
    {
     "name": "stdout",
     "output_type": "stream",
     "text": [
      "Collected 256 tweets at 2020-04-13.\n",
      "Running twitter query: \"(#covid) lang:en until:2020-04-15 since:2020-04-14\"\n"
     ]
    },
    {
     "name": "stderr",
     "output_type": "stream",
     "text": [
      "\r",
      "  5%|████▏                                                                         | 64/1201 [12:50<3:38:29, 11.53s/it]"
     ]
    },
    {
     "name": "stdout",
     "output_type": "stream",
     "text": [
      "Collected 256 tweets at 2020-04-14.\n",
      "Running twitter query: \"(#covid) lang:en until:2020-04-16 since:2020-04-15\"\n"
     ]
    },
    {
     "name": "stderr",
     "output_type": "stream",
     "text": [
      "Unavailable user in card on tweet 1250568336074780674\n",
      "User 3562471 not found in user refs in card on tweet 1250568336074780674\n",
      "  5%|████▏                                                                         | 65/1201 [13:01<3:34:34, 11.33s/it]"
     ]
    },
    {
     "name": "stdout",
     "output_type": "stream",
     "text": [
      "Collected 256 tweets at 2020-04-15.\n",
      "Running twitter query: \"(#covid) lang:en until:2020-04-17 since:2020-04-16\"\n"
     ]
    },
    {
     "name": "stderr",
     "output_type": "stream",
     "text": [
      "\r",
      "  5%|████▎                                                                         | 66/1201 [13:12<3:33:29, 11.29s/it]"
     ]
    },
    {
     "name": "stdout",
     "output_type": "stream",
     "text": [
      "Collected 256 tweets at 2020-04-16.\n",
      "Running twitter query: \"(#covid) lang:en until:2020-04-18 since:2020-04-17\"\n"
     ]
    },
    {
     "name": "stderr",
     "output_type": "stream",
     "text": [
      "Empty user ref object in card on tweet 1251291582235459584\n",
      "User 899733078641225728 not found in user refs in card on tweet 1251291582235459584\n",
      "  6%|████▎                                                                         | 67/1201 [13:23<3:33:57, 11.32s/it]"
     ]
    },
    {
     "name": "stdout",
     "output_type": "stream",
     "text": [
      "Collected 256 tweets at 2020-04-17.\n",
      "Running twitter query: \"(#covid) lang:en until:2020-04-19 since:2020-04-18\"\n"
     ]
    },
    {
     "name": "stderr",
     "output_type": "stream",
     "text": [
      "\r",
      "  6%|████▍                                                                         | 68/1201 [13:35<3:35:26, 11.41s/it]"
     ]
    },
    {
     "name": "stdout",
     "output_type": "stream",
     "text": [
      "Collected 256 tweets at 2020-04-18.\n",
      "Running twitter query: \"(#covid) lang:en until:2020-04-20 since:2020-04-19\"\n"
     ]
    },
    {
     "name": "stderr",
     "output_type": "stream",
     "text": [
      "\r",
      "  6%|████▍                                                                         | 69/1201 [13:47<3:36:06, 11.45s/it]"
     ]
    },
    {
     "name": "stdout",
     "output_type": "stream",
     "text": [
      "Collected 256 tweets at 2020-04-19.\n",
      "Running twitter query: \"(#covid) lang:en until:2020-04-21 since:2020-04-20\"\n"
     ]
    },
    {
     "name": "stderr",
     "output_type": "stream",
     "text": [
      "\r",
      "  6%|████▌                                                                         | 70/1201 [13:59<3:41:53, 11.77s/it]"
     ]
    },
    {
     "name": "stdout",
     "output_type": "stream",
     "text": [
      "Collected 256 tweets at 2020-04-20.\n",
      "Running twitter query: \"(#covid) lang:en until:2020-04-22 since:2020-04-21\"\n"
     ]
    },
    {
     "name": "stderr",
     "output_type": "stream",
     "text": [
      "\r",
      "  6%|████▌                                                                         | 71/1201 [14:12<3:48:36, 12.14s/it]"
     ]
    },
    {
     "name": "stdout",
     "output_type": "stream",
     "text": [
      "Collected 256 tweets at 2020-04-21.\n",
      "Running twitter query: \"(#covid) lang:en until:2020-04-23 since:2020-04-22\"\n"
     ]
    },
    {
     "name": "stderr",
     "output_type": "stream",
     "text": [
      "\r",
      "  6%|████▋                                                                         | 72/1201 [14:24<3:47:04, 12.07s/it]"
     ]
    },
    {
     "name": "stdout",
     "output_type": "stream",
     "text": [
      "Collected 256 tweets at 2020-04-22.\n",
      "Running twitter query: \"(#covid) lang:en until:2020-04-24 since:2020-04-23\"\n"
     ]
    },
    {
     "name": "stderr",
     "output_type": "stream",
     "text": [
      "Empty user ref object in card on tweet 1253467813240602633\n",
      "User 899733078641225728 not found in user refs in card on tweet 1253467813240602633\n",
      "  6%|████▋                                                                         | 73/1201 [14:37<3:51:41, 12.32s/it]"
     ]
    },
    {
     "name": "stdout",
     "output_type": "stream",
     "text": [
      "Collected 256 tweets at 2020-04-23.\n",
      "Running twitter query: \"(#covid) lang:en until:2020-04-25 since:2020-04-24\"\n"
     ]
    },
    {
     "name": "stderr",
     "output_type": "stream",
     "text": [
      "\r",
      "  6%|████▊                                                                         | 74/1201 [14:50<3:55:29, 12.54s/it]"
     ]
    },
    {
     "name": "stdout",
     "output_type": "stream",
     "text": [
      "Collected 256 tweets at 2020-04-24.\n",
      "Running twitter query: \"(#covid) lang:en until:2020-04-26 since:2020-04-25\"\n"
     ]
    },
    {
     "name": "stderr",
     "output_type": "stream",
     "text": [
      "\r",
      "  6%|████▊                                                                         | 75/1201 [15:03<3:57:16, 12.64s/it]"
     ]
    },
    {
     "name": "stdout",
     "output_type": "stream",
     "text": [
      "Collected 256 tweets at 2020-04-25.\n",
      "Running twitter query: \"(#covid) lang:en until:2020-04-27 since:2020-04-26\"\n"
     ]
    },
    {
     "name": "stderr",
     "output_type": "stream",
     "text": [
      "\r",
      "  6%|████▉                                                                         | 76/1201 [15:15<3:55:35, 12.56s/it]"
     ]
    },
    {
     "name": "stdout",
     "output_type": "stream",
     "text": [
      "Collected 256 tweets at 2020-04-26.\n",
      "Running twitter query: \"(#covid) lang:en until:2020-04-28 since:2020-04-27\"\n"
     ]
    },
    {
     "name": "stderr",
     "output_type": "stream",
     "text": [
      "\r",
      "  6%|█████                                                                         | 77/1201 [15:31<4:14:43, 13.60s/it]"
     ]
    },
    {
     "name": "stdout",
     "output_type": "stream",
     "text": [
      "Collected 256 tweets at 2020-04-27.\n",
      "Running twitter query: \"(#covid) lang:en until:2020-04-29 since:2020-04-28\"\n"
     ]
    },
    {
     "name": "stderr",
     "output_type": "stream",
     "text": [
      "Empty user ref object in card on tweet 1255279393523539970\n",
      "User 899733078641225728 not found in user refs in card on tweet 1255279393523539970\n",
      "  6%|█████                                                                         | 78/1201 [15:45<4:13:44, 13.56s/it]"
     ]
    },
    {
     "name": "stdout",
     "output_type": "stream",
     "text": [
      "Collected 256 tweets at 2020-04-28.\n",
      "Running twitter query: \"(#covid) lang:en until:2020-04-30 since:2020-04-29\"\n"
     ]
    },
    {
     "name": "stderr",
     "output_type": "stream",
     "text": [
      "\r",
      "  7%|█████▏                                                                        | 79/1201 [15:58<4:13:06, 13.54s/it]"
     ]
    },
    {
     "name": "stdout",
     "output_type": "stream",
     "text": [
      "Collected 256 tweets at 2020-04-29.\n",
      "Running twitter query: \"(#covid) lang:en until:2020-05-01 since:2020-04-30\"\n"
     ]
    },
    {
     "name": "stderr",
     "output_type": "stream",
     "text": [
      "\r",
      "  7%|█████▏                                                                        | 80/1201 [16:12<4:13:40, 13.58s/it]"
     ]
    },
    {
     "name": "stdout",
     "output_type": "stream",
     "text": [
      "Collected 256 tweets at 2020-04-30.\n",
      "Saving 7680 tweets at 2020-04.\n",
      "Running twitter query: \"(#covid) lang:en until:2020-05-02 since:2020-05-01\"\n"
     ]
    },
    {
     "name": "stderr",
     "output_type": "stream",
     "text": [
      "\r",
      "  7%|█████▎                                                                        | 81/1201 [16:23<4:00:34, 12.89s/it]"
     ]
    },
    {
     "name": "stdout",
     "output_type": "stream",
     "text": [
      "Collected 256 tweets at 2020-05-01.\n",
      "Running twitter query: \"(#covid) lang:en until:2020-05-03 since:2020-05-02\"\n"
     ]
    },
    {
     "name": "stderr",
     "output_type": "stream",
     "text": [
      "Empty user ref object in card on tweet 1256729516426162177\n",
      "Empty user ref object in card on tweet 1256729516426162177\n",
      "User 4503599629184530 not found in user refs in card on tweet 1256729516426162177\n",
      "User 4503599629184530 not found in user refs in card on tweet 1256729516426162177\n",
      "  7%|█████▎                                                                        | 82/1201 [16:35<3:52:23, 12.46s/it]"
     ]
    },
    {
     "name": "stdout",
     "output_type": "stream",
     "text": [
      "Collected 256 tweets at 2020-05-02.\n",
      "Running twitter query: \"(#covid) lang:en until:2020-05-04 since:2020-05-03\"\n"
     ]
    },
    {
     "name": "stderr",
     "output_type": "stream",
     "text": [
      "\r",
      "  7%|█████▍                                                                        | 83/1201 [16:47<3:49:56, 12.34s/it]"
     ]
    },
    {
     "name": "stdout",
     "output_type": "stream",
     "text": [
      "Collected 256 tweets at 2020-05-03.\n",
      "Running twitter query: \"(#covid) lang:en until:2020-05-05 since:2020-05-04\"\n"
     ]
    },
    {
     "name": "stderr",
     "output_type": "stream",
     "text": [
      "\r",
      "  7%|█████▍                                                                        | 84/1201 [16:58<3:43:25, 12.00s/it]"
     ]
    },
    {
     "name": "stdout",
     "output_type": "stream",
     "text": [
      "Collected 256 tweets at 2020-05-04.\n",
      "Running twitter query: \"(#covid) lang:en until:2020-05-06 since:2020-05-05\"\n"
     ]
    },
    {
     "name": "stderr",
     "output_type": "stream",
     "text": [
      "\r",
      "  7%|█████▌                                                                        | 85/1201 [17:09<3:38:28, 11.75s/it]"
     ]
    },
    {
     "name": "stdout",
     "output_type": "stream",
     "text": [
      "Collected 256 tweets at 2020-05-05.\n",
      "Running twitter query: \"(#covid) lang:en until:2020-05-07 since:2020-05-06\"\n"
     ]
    },
    {
     "name": "stderr",
     "output_type": "stream",
     "text": [
      "\r",
      "  7%|█████▌                                                                        | 86/1201 [17:20<3:35:12, 11.58s/it]"
     ]
    },
    {
     "name": "stdout",
     "output_type": "stream",
     "text": [
      "Collected 256 tweets at 2020-05-06.\n",
      "Running twitter query: \"(#covid) lang:en until:2020-05-08 since:2020-05-07\"\n"
     ]
    },
    {
     "name": "stderr",
     "output_type": "stream",
     "text": [
      "\r",
      "  7%|█████▋                                                                        | 87/1201 [17:31<3:32:42, 11.46s/it]"
     ]
    },
    {
     "name": "stdout",
     "output_type": "stream",
     "text": [
      "Collected 256 tweets at 2020-05-07.\n",
      "Running twitter query: \"(#covid) lang:en until:2020-05-09 since:2020-05-08\"\n"
     ]
    },
    {
     "name": "stderr",
     "output_type": "stream",
     "text": [
      "\r",
      "  7%|█████▋                                                                        | 88/1201 [17:43<3:32:50, 11.47s/it]"
     ]
    },
    {
     "name": "stdout",
     "output_type": "stream",
     "text": [
      "Collected 256 tweets at 2020-05-08.\n",
      "Running twitter query: \"(#covid) lang:en until:2020-05-10 since:2020-05-09\"\n"
     ]
    },
    {
     "name": "stderr",
     "output_type": "stream",
     "text": [
      "\r",
      "  7%|█████▊                                                                        | 89/1201 [17:55<3:37:07, 11.71s/it]"
     ]
    },
    {
     "name": "stdout",
     "output_type": "stream",
     "text": [
      "Collected 256 tweets at 2020-05-09.\n",
      "Running twitter query: \"(#covid) lang:en until:2020-05-11 since:2020-05-10\"\n"
     ]
    },
    {
     "name": "stderr",
     "output_type": "stream",
     "text": [
      "\r",
      "  7%|█████▊                                                                        | 90/1201 [18:09<3:49:20, 12.39s/it]"
     ]
    },
    {
     "name": "stdout",
     "output_type": "stream",
     "text": [
      "Collected 256 tweets at 2020-05-10.\n",
      "Running twitter query: \"(#covid) lang:en until:2020-05-12 since:2020-05-11\"\n"
     ]
    },
    {
     "name": "stderr",
     "output_type": "stream",
     "text": [
      "\r",
      "  8%|█████▉                                                                        | 91/1201 [18:23<3:59:41, 12.96s/it]"
     ]
    },
    {
     "name": "stdout",
     "output_type": "stream",
     "text": [
      "Collected 256 tweets at 2020-05-11.\n",
      "Running twitter query: \"(#covid) lang:en until:2020-05-13 since:2020-05-12\"\n"
     ]
    },
    {
     "name": "stderr",
     "output_type": "stream",
     "text": [
      "\r",
      "  8%|█████▉                                                                        | 92/1201 [18:35<3:53:49, 12.65s/it]"
     ]
    },
    {
     "name": "stdout",
     "output_type": "stream",
     "text": [
      "Collected 256 tweets at 2020-05-12.\n",
      "Running twitter query: \"(#covid) lang:en until:2020-05-14 since:2020-05-13\"\n"
     ]
    },
    {
     "name": "stderr",
     "output_type": "stream",
     "text": [
      "\r",
      "  8%|██████                                                                        | 93/1201 [18:48<3:50:56, 12.51s/it]"
     ]
    },
    {
     "name": "stdout",
     "output_type": "stream",
     "text": [
      "Collected 256 tweets at 2020-05-13.\n",
      "Running twitter query: \"(#covid) lang:en until:2020-05-15 since:2020-05-14\"\n"
     ]
    },
    {
     "name": "stderr",
     "output_type": "stream",
     "text": [
      "\r",
      "  8%|██████                                                                        | 94/1201 [19:00<3:50:39, 12.50s/it]"
     ]
    },
    {
     "name": "stdout",
     "output_type": "stream",
     "text": [
      "Collected 256 tweets at 2020-05-14.\n",
      "Running twitter query: \"(#covid) lang:en until:2020-05-16 since:2020-05-15\"\n"
     ]
    },
    {
     "name": "stderr",
     "output_type": "stream",
     "text": [
      "\r",
      "  8%|██████▏                                                                       | 95/1201 [19:13<3:51:23, 12.55s/it]"
     ]
    },
    {
     "name": "stdout",
     "output_type": "stream",
     "text": [
      "Collected 256 tweets at 2020-05-15.\n",
      "Running twitter query: \"(#covid) lang:en until:2020-05-17 since:2020-05-16\"\n"
     ]
    },
    {
     "name": "stderr",
     "output_type": "stream",
     "text": [
      "\r",
      "  8%|██████▏                                                                       | 96/1201 [19:24<3:43:20, 12.13s/it]"
     ]
    },
    {
     "name": "stdout",
     "output_type": "stream",
     "text": [
      "Collected 256 tweets at 2020-05-16.\n",
      "Running twitter query: \"(#covid) lang:en until:2020-05-18 since:2020-05-17\"\n"
     ]
    },
    {
     "name": "stderr",
     "output_type": "stream",
     "text": [
      "\r",
      "  8%|██████▎                                                                       | 97/1201 [19:36<3:42:46, 12.11s/it]"
     ]
    },
    {
     "name": "stdout",
     "output_type": "stream",
     "text": [
      "Collected 256 tweets at 2020-05-17.\n",
      "Running twitter query: \"(#covid) lang:en until:2020-05-19 since:2020-05-18\"\n"
     ]
    },
    {
     "name": "stderr",
     "output_type": "stream",
     "text": [
      "\r",
      "  8%|██████▎                                                                       | 98/1201 [19:47<3:39:13, 11.92s/it]"
     ]
    },
    {
     "name": "stdout",
     "output_type": "stream",
     "text": [
      "Collected 256 tweets at 2020-05-18.\n",
      "Running twitter query: \"(#covid) lang:en until:2020-05-20 since:2020-05-19\"\n"
     ]
    },
    {
     "name": "stderr",
     "output_type": "stream",
     "text": [
      "\r",
      "  8%|██████▍                                                                       | 99/1201 [20:00<3:44:11, 12.21s/it]"
     ]
    },
    {
     "name": "stdout",
     "output_type": "stream",
     "text": [
      "Collected 256 tweets at 2020-05-19.\n",
      "Running twitter query: \"(#covid) lang:en until:2020-05-21 since:2020-05-20\"\n"
     ]
    },
    {
     "name": "stderr",
     "output_type": "stream",
     "text": [
      "\r",
      "  8%|██████▍                                                                      | 100/1201 [20:14<3:51:45, 12.63s/it]"
     ]
    },
    {
     "name": "stdout",
     "output_type": "stream",
     "text": [
      "Collected 256 tweets at 2020-05-20.\n",
      "Running twitter query: \"(#covid) lang:en until:2020-05-22 since:2020-05-21\"\n"
     ]
    },
    {
     "name": "stderr",
     "output_type": "stream",
     "text": [
      "Empty user ref object in card on tweet 1263614227295551488\n",
      "User 899733078641225728 not found in user refs in card on tweet 1263614227295551488\n",
      "  8%|██████▍                                                                      | 101/1201 [20:27<3:52:45, 12.70s/it]"
     ]
    },
    {
     "name": "stdout",
     "output_type": "stream",
     "text": [
      "Collected 256 tweets at 2020-05-21.\n",
      "Running twitter query: \"(#covid) lang:en until:2020-05-23 since:2020-05-22\"\n"
     ]
    },
    {
     "name": "stderr",
     "output_type": "stream",
     "text": [
      "\r",
      "  8%|██████▌                                                                      | 102/1201 [20:40<3:54:57, 12.83s/it]"
     ]
    },
    {
     "name": "stdout",
     "output_type": "stream",
     "text": [
      "Collected 256 tweets at 2020-05-22.\n",
      "Running twitter query: \"(#covid) lang:en until:2020-05-24 since:2020-05-23\"\n"
     ]
    },
    {
     "name": "stderr",
     "output_type": "stream",
     "text": [
      "\r",
      "  9%|██████▌                                                                      | 103/1201 [20:55<4:07:25, 13.52s/it]"
     ]
    },
    {
     "name": "stdout",
     "output_type": "stream",
     "text": [
      "Collected 256 tweets at 2020-05-23.\n",
      "Running twitter query: \"(#covid) lang:en until:2020-05-25 since:2020-05-24\"\n"
     ]
    },
    {
     "name": "stderr",
     "output_type": "stream",
     "text": [
      "\r",
      "  9%|██████▋                                                                      | 104/1201 [21:10<4:16:06, 14.01s/it]"
     ]
    },
    {
     "name": "stdout",
     "output_type": "stream",
     "text": [
      "Collected 256 tweets at 2020-05-24.\n",
      "Running twitter query: \"(#covid) lang:en until:2020-05-26 since:2020-05-25\"\n"
     ]
    },
    {
     "name": "stderr",
     "output_type": "stream",
     "text": [
      "\r",
      "  9%|██████▋                                                                      | 105/1201 [21:24<4:13:06, 13.86s/it]"
     ]
    },
    {
     "name": "stdout",
     "output_type": "stream",
     "text": [
      "Collected 256 tweets at 2020-05-25.\n",
      "Running twitter query: \"(#covid) lang:en until:2020-05-27 since:2020-05-26\"\n"
     ]
    },
    {
     "name": "stderr",
     "output_type": "stream",
     "text": [
      "Empty user ref object in card on tweet 1265424252616015873\n",
      "User 899733078641225728 not found in user refs in card on tweet 1265424252616015873\n",
      "  9%|██████▊                                                                      | 106/1201 [21:37<4:12:14, 13.82s/it]"
     ]
    },
    {
     "name": "stdout",
     "output_type": "stream",
     "text": [
      "Collected 256 tweets at 2020-05-26.\n",
      "Running twitter query: \"(#covid) lang:en until:2020-05-28 since:2020-05-27\"\n"
     ]
    },
    {
     "name": "stderr",
     "output_type": "stream",
     "text": [
      "\r",
      "  9%|██████▊                                                                      | 107/1201 [21:51<4:09:42, 13.69s/it]"
     ]
    },
    {
     "name": "stdout",
     "output_type": "stream",
     "text": [
      "Collected 256 tweets at 2020-05-27.\n",
      "Running twitter query: \"(#covid) lang:en until:2020-05-29 since:2020-05-28\"\n"
     ]
    },
    {
     "name": "stderr",
     "output_type": "stream",
     "text": [
      "\r",
      "  9%|██████▉                                                                      | 108/1201 [22:04<4:07:49, 13.60s/it]"
     ]
    },
    {
     "name": "stdout",
     "output_type": "stream",
     "text": [
      "Collected 256 tweets at 2020-05-28.\n",
      "Running twitter query: \"(#covid) lang:en until:2020-05-30 since:2020-05-29\"\n"
     ]
    },
    {
     "name": "stderr",
     "output_type": "stream",
     "text": [
      "\r",
      "  9%|██████▉                                                                      | 109/1201 [22:18<4:09:26, 13.71s/it]"
     ]
    },
    {
     "name": "stdout",
     "output_type": "stream",
     "text": [
      "Collected 256 tweets at 2020-05-29.\n",
      "Running twitter query: \"(#covid) lang:en until:2020-05-31 since:2020-05-30\"\n"
     ]
    },
    {
     "name": "stderr",
     "output_type": "stream",
     "text": [
      "\r",
      "  9%|███████                                                                      | 110/1201 [22:32<4:09:59, 13.75s/it]"
     ]
    },
    {
     "name": "stdout",
     "output_type": "stream",
     "text": [
      "Collected 256 tweets at 2020-05-30.\n",
      "Running twitter query: \"(#covid) lang:en until:2020-06-01 since:2020-05-31\"\n"
     ]
    },
    {
     "name": "stderr",
     "output_type": "stream",
     "text": [
      "\r",
      "  9%|███████                                                                      | 111/1201 [22:46<4:10:22, 13.78s/it]"
     ]
    },
    {
     "name": "stdout",
     "output_type": "stream",
     "text": [
      "Collected 256 tweets at 2020-05-31.\n",
      "Saving 7936 tweets at 2020-05.\n",
      "Running twitter query: \"(#covid) lang:en until:2020-06-02 since:2020-06-01\"\n"
     ]
    },
    {
     "name": "stderr",
     "output_type": "stream",
     "text": [
      "\r",
      "  9%|███████▏                                                                     | 112/1201 [22:58<3:59:09, 13.18s/it]"
     ]
    },
    {
     "name": "stdout",
     "output_type": "stream",
     "text": [
      "Collected 256 tweets at 2020-06-01.\n",
      "Running twitter query: \"(#covid) lang:en until:2020-06-03 since:2020-06-02\"\n"
     ]
    },
    {
     "name": "stderr",
     "output_type": "stream",
     "text": [
      "\r",
      "  9%|███████▏                                                                     | 113/1201 [23:09<3:46:56, 12.51s/it]"
     ]
    },
    {
     "name": "stdout",
     "output_type": "stream",
     "text": [
      "Collected 256 tweets at 2020-06-02.\n",
      "Running twitter query: \"(#covid) lang:en until:2020-06-04 since:2020-06-03\"\n"
     ]
    },
    {
     "name": "stderr",
     "output_type": "stream",
     "text": [
      "Empty user ref object in card on tweet 1268316707279433728\n",
      "User 899733078641225728 not found in user refs in card on tweet 1268316707279433728\n",
      "  9%|███████▎                                                                     | 114/1201 [23:20<3:38:47, 12.08s/it]"
     ]
    },
    {
     "name": "stdout",
     "output_type": "stream",
     "text": [
      "Collected 256 tweets at 2020-06-03.\n",
      "Running twitter query: \"(#covid) lang:en until:2020-06-05 since:2020-06-04\"\n"
     ]
    },
    {
     "name": "stderr",
     "output_type": "stream",
     "text": [
      "\r",
      " 10%|███████▎                                                                     | 115/1201 [23:33<3:44:00, 12.38s/it]"
     ]
    },
    {
     "name": "stdout",
     "output_type": "stream",
     "text": [
      "Collected 256 tweets at 2020-06-04.\n",
      "Running twitter query: \"(#covid) lang:en until:2020-06-06 since:2020-06-05\"\n"
     ]
    },
    {
     "name": "stderr",
     "output_type": "stream",
     "text": [
      "\r",
      " 10%|███████▍                                                                     | 116/1201 [23:45<3:41:42, 12.26s/it]"
     ]
    },
    {
     "name": "stdout",
     "output_type": "stream",
     "text": [
      "Collected 256 tweets at 2020-06-05.\n",
      "Running twitter query: \"(#covid) lang:en until:2020-06-07 since:2020-06-06\"\n"
     ]
    },
    {
     "name": "stderr",
     "output_type": "stream",
     "text": [
      "\r",
      " 10%|███████▌                                                                     | 117/1201 [23:56<3:37:48, 12.06s/it]"
     ]
    },
    {
     "name": "stdout",
     "output_type": "stream",
     "text": [
      "Collected 256 tweets at 2020-06-06.\n",
      "Running twitter query: \"(#covid) lang:en until:2020-06-08 since:2020-06-07\"\n"
     ]
    },
    {
     "name": "stderr",
     "output_type": "stream",
     "text": [
      "\r",
      " 10%|███████▌                                                                     | 118/1201 [24:09<3:40:33, 12.22s/it]"
     ]
    },
    {
     "name": "stdout",
     "output_type": "stream",
     "text": [
      "Collected 256 tweets at 2020-06-07.\n",
      "Running twitter query: \"(#covid) lang:en until:2020-06-09 since:2020-06-08\"\n"
     ]
    },
    {
     "name": "stderr",
     "output_type": "stream",
     "text": [
      "\r",
      " 10%|███████▋                                                                     | 119/1201 [24:21<3:39:25, 12.17s/it]"
     ]
    },
    {
     "name": "stdout",
     "output_type": "stream",
     "text": [
      "Collected 256 tweets at 2020-06-08.\n",
      "Running twitter query: \"(#covid) lang:en until:2020-06-10 since:2020-06-09\"\n"
     ]
    },
    {
     "name": "stderr",
     "output_type": "stream",
     "text": [
      "\r",
      " 10%|███████▋                                                                     | 120/1201 [24:33<3:36:30, 12.02s/it]"
     ]
    },
    {
     "name": "stdout",
     "output_type": "stream",
     "text": [
      "Collected 256 tweets at 2020-06-09.\n",
      "Running twitter query: \"(#covid) lang:en until:2020-06-11 since:2020-06-10\"\n"
     ]
    },
    {
     "name": "stderr",
     "output_type": "stream",
     "text": [
      "Unavailable user in card on tweet 1270865738639835136\n",
      "User 2394905409 not found in user refs in card on tweet 1270865738639835136\n",
      " 10%|███████▊                                                                     | 121/1201 [24:45<3:35:51, 11.99s/it]"
     ]
    },
    {
     "name": "stdout",
     "output_type": "stream",
     "text": [
      "Collected 256 tweets at 2020-06-10.\n",
      "Running twitter query: \"(#covid) lang:en until:2020-06-12 since:2020-06-11\"\n"
     ]
    },
    {
     "name": "stderr",
     "output_type": "stream",
     "text": [
      "\r",
      " 10%|███████▊                                                                     | 122/1201 [24:57<3:39:18, 12.19s/it]"
     ]
    },
    {
     "name": "stdout",
     "output_type": "stream",
     "text": [
      "Collected 256 tweets at 2020-06-11.\n",
      "Running twitter query: \"(#covid) lang:en until:2020-06-13 since:2020-06-12\"\n"
     ]
    },
    {
     "name": "stderr",
     "output_type": "stream",
     "text": [
      "\r",
      " 10%|███████▉                                                                     | 123/1201 [25:11<3:45:49, 12.57s/it]"
     ]
    },
    {
     "name": "stdout",
     "output_type": "stream",
     "text": [
      "Collected 256 tweets at 2020-06-12.\n",
      "Running twitter query: \"(#covid) lang:en until:2020-06-14 since:2020-06-13\"\n"
     ]
    },
    {
     "name": "stderr",
     "output_type": "stream",
     "text": [
      "\r",
      " 10%|███████▉                                                                     | 124/1201 [25:26<4:00:28, 13.40s/it]"
     ]
    },
    {
     "name": "stdout",
     "output_type": "stream",
     "text": [
      "Collected 256 tweets at 2020-06-13.\n",
      "Running twitter query: \"(#covid) lang:en until:2020-06-15 since:2020-06-14\"\n"
     ]
    },
    {
     "name": "stderr",
     "output_type": "stream",
     "text": [
      "\r",
      " 10%|████████                                                                     | 125/1201 [25:38<3:52:35, 12.97s/it]"
     ]
    },
    {
     "name": "stdout",
     "output_type": "stream",
     "text": [
      "Collected 256 tweets at 2020-06-14.\n",
      "Running twitter query: \"(#covid) lang:en until:2020-06-16 since:2020-06-15\"\n"
     ]
    },
    {
     "name": "stderr",
     "output_type": "stream",
     "text": [
      "Unavailable user in card on tweet 1272673389845647363\n",
      "User 17639527 not found in user refs in card on tweet 1272673389845647363\n",
      " 10%|████████                                                                     | 126/1201 [25:50<3:49:24, 12.80s/it]"
     ]
    },
    {
     "name": "stdout",
     "output_type": "stream",
     "text": [
      "Collected 256 tweets at 2020-06-15.\n",
      "Running twitter query: \"(#covid) lang:en until:2020-06-17 since:2020-06-16\"\n"
     ]
    },
    {
     "name": "stderr",
     "output_type": "stream",
     "text": [
      "\r",
      " 11%|████████▏                                                                    | 127/1201 [26:03<3:48:17, 12.75s/it]"
     ]
    },
    {
     "name": "stdout",
     "output_type": "stream",
     "text": [
      "Collected 256 tweets at 2020-06-16.\n",
      "Running twitter query: \"(#covid) lang:en until:2020-06-18 since:2020-06-17\"\n"
     ]
    },
    {
     "name": "stderr",
     "output_type": "stream",
     "text": [
      "\r",
      " 11%|████████▏                                                                    | 128/1201 [26:18<3:58:59, 13.36s/it]"
     ]
    },
    {
     "name": "stdout",
     "output_type": "stream",
     "text": [
      "Collected 256 tweets at 2020-06-17.\n",
      "Running twitter query: \"(#covid) lang:en until:2020-06-19 since:2020-06-18\"\n"
     ]
    },
    {
     "name": "stderr",
     "output_type": "stream",
     "text": [
      "Unavailable user in card on tweet 1273765698284720134\n",
      "User 28550209 not found in user refs in card on tweet 1273765698284720134\n",
      " 11%|████████▎                                                                    | 129/1201 [26:31<3:57:02, 13.27s/it]"
     ]
    },
    {
     "name": "stdout",
     "output_type": "stream",
     "text": [
      "Collected 256 tweets at 2020-06-18.\n",
      "Running twitter query: \"(#covid) lang:en until:2020-06-20 since:2020-06-19\"\n"
     ]
    },
    {
     "name": "stderr",
     "output_type": "stream",
     "text": [
      "\r",
      " 11%|████████▎                                                                    | 130/1201 [26:44<3:54:58, 13.16s/it]"
     ]
    },
    {
     "name": "stdout",
     "output_type": "stream",
     "text": [
      "Collected 256 tweets at 2020-06-19.\n",
      "Running twitter query: \"(#covid) lang:en until:2020-06-21 since:2020-06-20\"\n"
     ]
    },
    {
     "name": "stderr",
     "output_type": "stream",
     "text": [
      "Empty user ref object in card on tweet 1274475645016444932\n",
      "User 899733078641225728 not found in user refs in card on tweet 1274475645016444932\n",
      " 11%|████████▍                                                                    | 131/1201 [26:56<3:49:59, 12.90s/it]"
     ]
    },
    {
     "name": "stdout",
     "output_type": "stream",
     "text": [
      "Collected 256 tweets at 2020-06-20.\n",
      "Running twitter query: \"(#covid) lang:en until:2020-06-22 since:2020-06-21\"\n"
     ]
    },
    {
     "name": "stderr",
     "output_type": "stream",
     "text": [
      "Unavailable user in card on tweet 1274840494174953472\n",
      "User 17639527 not found in user refs in card on tweet 1274840494174953472\n",
      " 11%|████████▍                                                                    | 132/1201 [27:08<3:46:55, 12.74s/it]"
     ]
    },
    {
     "name": "stdout",
     "output_type": "stream",
     "text": [
      "Collected 256 tweets at 2020-06-21.\n",
      "Running twitter query: \"(#covid) lang:en until:2020-06-23 since:2020-06-22\"\n"
     ]
    },
    {
     "name": "stderr",
     "output_type": "stream",
     "text": [
      "\r",
      " 11%|████████▌                                                                    | 133/1201 [27:21<3:46:41, 12.74s/it]"
     ]
    },
    {
     "name": "stdout",
     "output_type": "stream",
     "text": [
      "Collected 256 tweets at 2020-06-22.\n",
      "Running twitter query: \"(#covid) lang:en until:2020-06-24 since:2020-06-23\"\n"
     ]
    },
    {
     "name": "stderr",
     "output_type": "stream",
     "text": [
      "\r",
      " 11%|████████▌                                                                    | 134/1201 [27:34<3:45:17, 12.67s/it]"
     ]
    },
    {
     "name": "stdout",
     "output_type": "stream",
     "text": [
      "Collected 256 tweets at 2020-06-23.\n",
      "Running twitter query: \"(#covid) lang:en until:2020-06-25 since:2020-06-24\"\n"
     ]
    },
    {
     "name": "stderr",
     "output_type": "stream",
     "text": [
      "\r",
      " 11%|████████▋                                                                    | 135/1201 [27:47<3:48:20, 12.85s/it]"
     ]
    },
    {
     "name": "stdout",
     "output_type": "stream",
     "text": [
      "Collected 256 tweets at 2020-06-24.\n",
      "Running twitter query: \"(#covid) lang:en until:2020-06-26 since:2020-06-25\"\n"
     ]
    },
    {
     "name": "stderr",
     "output_type": "stream",
     "text": [
      "\r",
      " 11%|████████▋                                                                    | 136/1201 [28:00<3:50:51, 13.01s/it]"
     ]
    },
    {
     "name": "stdout",
     "output_type": "stream",
     "text": [
      "Collected 256 tweets at 2020-06-25.\n",
      "Running twitter query: \"(#covid) lang:en until:2020-06-27 since:2020-06-26\"\n"
     ]
    },
    {
     "name": "stderr",
     "output_type": "stream",
     "text": [
      "\r",
      " 11%|████████▊                                                                    | 137/1201 [28:14<3:53:20, 13.16s/it]"
     ]
    },
    {
     "name": "stdout",
     "output_type": "stream",
     "text": [
      "Collected 256 tweets at 2020-06-26.\n",
      "Running twitter query: \"(#covid) lang:en until:2020-06-28 since:2020-06-27\"\n"
     ]
    },
    {
     "name": "stderr",
     "output_type": "stream",
     "text": [
      "\r",
      " 11%|████████▊                                                                    | 138/1201 [28:28<3:56:36, 13.35s/it]"
     ]
    },
    {
     "name": "stdout",
     "output_type": "stream",
     "text": [
      "Collected 256 tweets at 2020-06-27.\n",
      "Running twitter query: \"(#covid) lang:en until:2020-06-29 since:2020-06-28\"\n"
     ]
    },
    {
     "name": "stderr",
     "output_type": "stream",
     "text": [
      "\r",
      " 12%|████████▉                                                                    | 139/1201 [28:42<3:59:25, 13.53s/it]"
     ]
    },
    {
     "name": "stdout",
     "output_type": "stream",
     "text": [
      "Collected 256 tweets at 2020-06-28.\n",
      "Running twitter query: \"(#covid) lang:en until:2020-06-30 since:2020-06-29\"\n"
     ]
    },
    {
     "name": "stderr",
     "output_type": "stream",
     "text": [
      "\r",
      " 12%|████████▉                                                                    | 140/1201 [28:57<4:07:36, 14.00s/it]"
     ]
    },
    {
     "name": "stdout",
     "output_type": "stream",
     "text": [
      "Collected 256 tweets at 2020-06-29.\n",
      "Running twitter query: \"(#covid) lang:en until:2020-07-01 since:2020-06-30\"\n"
     ]
    },
    {
     "name": "stderr",
     "output_type": "stream",
     "text": [
      "\r",
      " 12%|█████████                                                                    | 141/1201 [29:15<4:28:41, 15.21s/it]"
     ]
    },
    {
     "name": "stdout",
     "output_type": "stream",
     "text": [
      "Collected 256 tweets at 2020-06-30.\n",
      "Saving 7680 tweets at 2020-06.\n",
      "Running twitter query: \"(#covid) lang:en until:2020-07-02 since:2020-07-01\"\n"
     ]
    },
    {
     "name": "stderr",
     "output_type": "stream",
     "text": [
      "\r",
      " 12%|█████████                                                                    | 142/1201 [29:30<4:27:30, 15.16s/it]"
     ]
    },
    {
     "name": "stdout",
     "output_type": "stream",
     "text": [
      "Collected 256 tweets at 2020-07-01.\n",
      "Running twitter query: \"(#covid) lang:en until:2020-07-03 since:2020-07-02\"\n"
     ]
    },
    {
     "name": "stderr",
     "output_type": "stream",
     "text": [
      "\r",
      " 12%|█████████▏                                                                   | 143/1201 [29:42<4:13:22, 14.37s/it]"
     ]
    },
    {
     "name": "stdout",
     "output_type": "stream",
     "text": [
      "Collected 256 tweets at 2020-07-02.\n",
      "Running twitter query: \"(#covid) lang:en until:2020-07-04 since:2020-07-03\"\n"
     ]
    },
    {
     "name": "stderr",
     "output_type": "stream",
     "text": [
      "\r",
      " 12%|█████████▏                                                                   | 144/1201 [29:56<4:08:18, 14.10s/it]"
     ]
    },
    {
     "name": "stdout",
     "output_type": "stream",
     "text": [
      "Collected 256 tweets at 2020-07-03.\n",
      "Running twitter query: \"(#covid) lang:en until:2020-07-05 since:2020-07-04\"\n"
     ]
    },
    {
     "name": "stderr",
     "output_type": "stream",
     "text": [
      "\r",
      " 12%|█████████▎                                                                   | 145/1201 [30:08<4:00:48, 13.68s/it]"
     ]
    },
    {
     "name": "stdout",
     "output_type": "stream",
     "text": [
      "Collected 256 tweets at 2020-07-04.\n",
      "Running twitter query: \"(#covid) lang:en until:2020-07-06 since:2020-07-05\"\n"
     ]
    },
    {
     "name": "stderr",
     "output_type": "stream",
     "text": [
      "\r",
      " 12%|█████████▎                                                                   | 146/1201 [30:21<3:53:38, 13.29s/it]"
     ]
    },
    {
     "name": "stdout",
     "output_type": "stream",
     "text": [
      "Collected 256 tweets at 2020-07-05.\n",
      "Running twitter query: \"(#covid) lang:en until:2020-07-07 since:2020-07-06\"\n"
     ]
    },
    {
     "name": "stderr",
     "output_type": "stream",
     "text": [
      "\r",
      " 12%|█████████▍                                                                   | 147/1201 [30:34<3:51:15, 13.17s/it]"
     ]
    },
    {
     "name": "stdout",
     "output_type": "stream",
     "text": [
      "Collected 256 tweets at 2020-07-06.\n",
      "Running twitter query: \"(#covid) lang:en until:2020-07-08 since:2020-07-07\"\n"
     ]
    },
    {
     "name": "stderr",
     "output_type": "stream",
     "text": [
      "\r",
      " 12%|█████████▍                                                                   | 148/1201 [30:45<3:41:21, 12.61s/it]"
     ]
    },
    {
     "name": "stdout",
     "output_type": "stream",
     "text": [
      "Collected 256 tweets at 2020-07-07.\n",
      "Running twitter query: \"(#covid) lang:en until:2020-07-09 since:2020-07-08\"\n"
     ]
    },
    {
     "name": "stderr",
     "output_type": "stream",
     "text": [
      "\r",
      " 12%|█████████▌                                                                   | 149/1201 [30:57<3:40:34, 12.58s/it]"
     ]
    },
    {
     "name": "stdout",
     "output_type": "stream",
     "text": [
      "Collected 256 tweets at 2020-07-08.\n",
      "Running twitter query: \"(#covid) lang:en until:2020-07-10 since:2020-07-09\"\n"
     ]
    },
    {
     "name": "stderr",
     "output_type": "stream",
     "text": [
      "\r",
      " 12%|█████████▌                                                                   | 150/1201 [31:09<3:37:21, 12.41s/it]"
     ]
    },
    {
     "name": "stdout",
     "output_type": "stream",
     "text": [
      "Collected 256 tweets at 2020-07-09.\n",
      "Running twitter query: \"(#covid) lang:en until:2020-07-11 since:2020-07-10\"\n"
     ]
    },
    {
     "name": "stderr",
     "output_type": "stream",
     "text": [
      "\r",
      " 13%|█████████▋                                                                   | 151/1201 [31:23<3:43:51, 12.79s/it]"
     ]
    },
    {
     "name": "stdout",
     "output_type": "stream",
     "text": [
      "Collected 256 tweets at 2020-07-10.\n",
      "Running twitter query: \"(#covid) lang:en until:2020-07-12 since:2020-07-11\"\n"
     ]
    },
    {
     "name": "stderr",
     "output_type": "stream",
     "text": [
      "\r",
      " 13%|█████████▋                                                                   | 152/1201 [31:36<3:43:01, 12.76s/it]"
     ]
    },
    {
     "name": "stdout",
     "output_type": "stream",
     "text": [
      "Collected 256 tweets at 2020-07-11.\n",
      "Running twitter query: \"(#covid) lang:en until:2020-07-13 since:2020-07-12\"\n"
     ]
    },
    {
     "name": "stderr",
     "output_type": "stream",
     "text": [
      "\r",
      " 13%|█████████▊                                                                   | 153/1201 [31:50<3:49:58, 13.17s/it]"
     ]
    },
    {
     "name": "stdout",
     "output_type": "stream",
     "text": [
      "Collected 256 tweets at 2020-07-12.\n",
      "Running twitter query: \"(#covid) lang:en until:2020-07-14 since:2020-07-13\"\n"
     ]
    },
    {
     "name": "stderr",
     "output_type": "stream",
     "text": [
      "Unavailable user in card on tweet 1282824652583305216\n",
      "Unavailable user in card on tweet 1282824652583305216\n",
      "User 44654095 not found in user refs in card on tweet 1282824652583305216\n",
      "User 44654095 not found in user refs in card on tweet 1282824652583305216\n",
      " 13%|█████████▊                                                                   | 154/1201 [32:03<3:46:38, 12.99s/it]"
     ]
    },
    {
     "name": "stdout",
     "output_type": "stream",
     "text": [
      "Collected 256 tweets at 2020-07-13.\n",
      "Running twitter query: \"(#covid) lang:en until:2020-07-15 since:2020-07-14\"\n"
     ]
    },
    {
     "name": "stderr",
     "output_type": "stream",
     "text": [
      "Unavailable user in card on tweet 1283176456605106177\n",
      "User 17639527 not found in user refs in card on tweet 1283176456605106177\n",
      " 13%|█████████▉                                                                   | 155/1201 [32:16<3:49:15, 13.15s/it]"
     ]
    },
    {
     "name": "stdout",
     "output_type": "stream",
     "text": [
      "Collected 256 tweets at 2020-07-14.\n",
      "Running twitter query: \"(#covid) lang:en until:2020-07-16 since:2020-07-15\"\n"
     ]
    },
    {
     "name": "stderr",
     "output_type": "stream",
     "text": [
      "Empty user ref object in card on tweet 1283541398856380423\n",
      "User 899733078641225728 not found in user refs in card on tweet 1283541398856380423\n",
      " 13%|██████████                                                                   | 156/1201 [32:29<3:50:15, 13.22s/it]"
     ]
    },
    {
     "name": "stdout",
     "output_type": "stream",
     "text": [
      "Collected 256 tweets at 2020-07-15.\n",
      "Running twitter query: \"(#covid) lang:en until:2020-07-17 since:2020-07-16\"\n"
     ]
    },
    {
     "name": "stderr",
     "output_type": "stream",
     "text": [
      "Empty user ref object in card on tweet 1283910039363817475\n",
      "User 899733078641225728 not found in user refs in card on tweet 1283910039363817475\n",
      "Unavailable user in card on tweet 1283908781353644032\n",
      "User 28550209 not found in user refs in card on tweet 1283908781353644032\n",
      " 13%|██████████                                                                   | 157/1201 [32:43<3:52:38, 13.37s/it]"
     ]
    },
    {
     "name": "stdout",
     "output_type": "stream",
     "text": [
      "Collected 256 tweets at 2020-07-16.\n",
      "Running twitter query: \"(#covid) lang:en until:2020-07-18 since:2020-07-17\"\n"
     ]
    },
    {
     "name": "stderr",
     "output_type": "stream",
     "text": [
      "\r",
      " 13%|██████████▏                                                                  | 158/1201 [32:55<3:44:51, 12.94s/it]"
     ]
    },
    {
     "name": "stdout",
     "output_type": "stream",
     "text": [
      "Collected 256 tweets at 2020-07-17.\n",
      "Running twitter query: \"(#covid) lang:en until:2020-07-19 since:2020-07-18\"\n"
     ]
    },
    {
     "name": "stderr",
     "output_type": "stream",
     "text": [
      "\r",
      " 13%|██████████▏                                                                  | 159/1201 [33:08<3:43:51, 12.89s/it]"
     ]
    },
    {
     "name": "stdout",
     "output_type": "stream",
     "text": [
      "Collected 256 tweets at 2020-07-18.\n",
      "Running twitter query: \"(#covid) lang:en until:2020-07-20 since:2020-07-19\"\n"
     ]
    },
    {
     "name": "stderr",
     "output_type": "stream",
     "text": [
      "\r",
      " 13%|██████████▎                                                                  | 160/1201 [33:21<3:46:44, 13.07s/it]"
     ]
    },
    {
     "name": "stdout",
     "output_type": "stream",
     "text": [
      "Collected 256 tweets at 2020-07-19.\n",
      "Running twitter query: \"(#covid) lang:en until:2020-07-21 since:2020-07-20\"\n"
     ]
    },
    {
     "name": "stderr",
     "output_type": "stream",
     "text": [
      "\r",
      " 13%|██████████▎                                                                  | 161/1201 [33:34<3:44:33, 12.96s/it]"
     ]
    },
    {
     "name": "stdout",
     "output_type": "stream",
     "text": [
      "Collected 256 tweets at 2020-07-20.\n",
      "Running twitter query: \"(#covid) lang:en until:2020-07-22 since:2020-07-21\"\n"
     ]
    },
    {
     "name": "stderr",
     "output_type": "stream",
     "text": [
      "\r",
      " 13%|██████████▍                                                                  | 162/1201 [33:47<3:43:22, 12.90s/it]"
     ]
    },
    {
     "name": "stdout",
     "output_type": "stream",
     "text": [
      "Collected 256 tweets at 2020-07-21.\n",
      "Running twitter query: \"(#covid) lang:en until:2020-07-23 since:2020-07-22\"\n"
     ]
    },
    {
     "name": "stderr",
     "output_type": "stream",
     "text": [
      "\r",
      " 14%|██████████▍                                                                  | 163/1201 [34:01<3:49:36, 13.27s/it]"
     ]
    },
    {
     "name": "stdout",
     "output_type": "stream",
     "text": [
      "Collected 256 tweets at 2020-07-22.\n",
      "Running twitter query: \"(#covid) lang:en until:2020-07-24 since:2020-07-23\"\n"
     ]
    },
    {
     "name": "stderr",
     "output_type": "stream",
     "text": [
      "\r",
      " 14%|██████████▌                                                                  | 164/1201 [34:14<3:49:05, 13.25s/it]"
     ]
    },
    {
     "name": "stdout",
     "output_type": "stream",
     "text": [
      "Collected 256 tweets at 2020-07-23.\n",
      "Running twitter query: \"(#covid) lang:en until:2020-07-25 since:2020-07-24\"\n"
     ]
    },
    {
     "name": "stderr",
     "output_type": "stream",
     "text": [
      "\r",
      " 14%|██████████▌                                                                  | 165/1201 [34:30<3:59:39, 13.88s/it]"
     ]
    },
    {
     "name": "stdout",
     "output_type": "stream",
     "text": [
      "Collected 256 tweets at 2020-07-24.\n",
      "Running twitter query: \"(#covid) lang:en until:2020-07-26 since:2020-07-25\"\n"
     ]
    },
    {
     "name": "stderr",
     "output_type": "stream",
     "text": [
      "\r",
      " 14%|██████████▋                                                                  | 166/1201 [34:44<4:02:55, 14.08s/it]"
     ]
    },
    {
     "name": "stdout",
     "output_type": "stream",
     "text": [
      "Collected 256 tweets at 2020-07-25.\n",
      "Running twitter query: \"(#covid) lang:en until:2020-07-27 since:2020-07-26\"\n"
     ]
    },
    {
     "name": "stderr",
     "output_type": "stream",
     "text": [
      "\r",
      " 14%|██████████▋                                                                  | 167/1201 [34:58<4:02:07, 14.05s/it]"
     ]
    },
    {
     "name": "stdout",
     "output_type": "stream",
     "text": [
      "Collected 256 tweets at 2020-07-26.\n",
      "Running twitter query: \"(#covid) lang:en until:2020-07-28 since:2020-07-27\"\n"
     ]
    },
    {
     "name": "stderr",
     "output_type": "stream",
     "text": [
      "\r",
      " 14%|██████████▊                                                                  | 168/1201 [35:13<4:04:18, 14.19s/it]"
     ]
    },
    {
     "name": "stdout",
     "output_type": "stream",
     "text": [
      "Collected 256 tweets at 2020-07-27.\n",
      "Running twitter query: \"(#covid) lang:en until:2020-07-29 since:2020-07-28\"\n"
     ]
    },
    {
     "name": "stderr",
     "output_type": "stream",
     "text": [
      "\r",
      " 14%|██████████▊                                                                  | 169/1201 [35:26<4:00:03, 13.96s/it]"
     ]
    },
    {
     "name": "stdout",
     "output_type": "stream",
     "text": [
      "Collected 256 tweets at 2020-07-28.\n",
      "Running twitter query: \"(#covid) lang:en until:2020-07-30 since:2020-07-29\"\n"
     ]
    },
    {
     "name": "stderr",
     "output_type": "stream",
     "text": [
      "\r",
      " 14%|██████████▉                                                                  | 170/1201 [35:40<3:58:51, 13.90s/it]"
     ]
    },
    {
     "name": "stdout",
     "output_type": "stream",
     "text": [
      "Collected 256 tweets at 2020-07-29.\n",
      "Running twitter query: \"(#covid) lang:en until:2020-07-31 since:2020-07-30\"\n"
     ]
    },
    {
     "name": "stderr",
     "output_type": "stream",
     "text": [
      "\r",
      " 14%|██████████▉                                                                  | 171/1201 [35:55<4:07:27, 14.42s/it]"
     ]
    },
    {
     "name": "stdout",
     "output_type": "stream",
     "text": [
      "Collected 256 tweets at 2020-07-30.\n",
      "Running twitter query: \"(#covid) lang:en until:2020-08-01 since:2020-07-31\"\n"
     ]
    },
    {
     "name": "stderr",
     "output_type": "stream",
     "text": [
      "\r",
      " 14%|███████████                                                                  | 172/1201 [36:11<4:14:49, 14.86s/it]"
     ]
    },
    {
     "name": "stdout",
     "output_type": "stream",
     "text": [
      "Collected 256 tweets at 2020-07-31.\n",
      "Saving 7936 tweets at 2020-07.\n",
      "Running twitter query: \"(#covid) lang:en until:2020-08-02 since:2020-08-01\"\n"
     ]
    },
    {
     "name": "stderr",
     "output_type": "stream",
     "text": [
      "\r",
      " 14%|███████████                                                                  | 173/1201 [36:23<3:58:48, 13.94s/it]"
     ]
    },
    {
     "name": "stdout",
     "output_type": "stream",
     "text": [
      "Collected 256 tweets at 2020-08-01.\n",
      "Running twitter query: \"(#covid) lang:en until:2020-08-03 since:2020-08-02\"\n"
     ]
    },
    {
     "name": "stderr",
     "output_type": "stream",
     "text": [
      "\r",
      " 14%|███████████▏                                                                 | 174/1201 [36:35<3:50:55, 13.49s/it]"
     ]
    },
    {
     "name": "stdout",
     "output_type": "stream",
     "text": [
      "Collected 256 tweets at 2020-08-02.\n",
      "Running twitter query: \"(#covid) lang:en until:2020-08-04 since:2020-08-03\"\n"
     ]
    },
    {
     "name": "stderr",
     "output_type": "stream",
     "text": [
      "\r",
      " 15%|███████████▏                                                                 | 175/1201 [36:47<3:39:39, 12.85s/it]"
     ]
    },
    {
     "name": "stdout",
     "output_type": "stream",
     "text": [
      "Collected 256 tweets at 2020-08-03.\n",
      "Running twitter query: \"(#covid) lang:en until:2020-08-05 since:2020-08-04\"\n"
     ]
    },
    {
     "name": "stderr",
     "output_type": "stream",
     "text": [
      "\r",
      " 15%|███████████▎                                                                 | 176/1201 [36:59<3:35:48, 12.63s/it]"
     ]
    },
    {
     "name": "stdout",
     "output_type": "stream",
     "text": [
      "Collected 256 tweets at 2020-08-04.\n",
      "Running twitter query: \"(#covid) lang:en until:2020-08-06 since:2020-08-05\"\n"
     ]
    },
    {
     "name": "stderr",
     "output_type": "stream",
     "text": [
      "\r",
      " 15%|███████████▎                                                                 | 177/1201 [37:10<3:29:29, 12.27s/it]"
     ]
    },
    {
     "name": "stdout",
     "output_type": "stream",
     "text": [
      "Collected 256 tweets at 2020-08-05.\n",
      "Running twitter query: \"(#covid) lang:en until:2020-08-07 since:2020-08-06\"\n"
     ]
    },
    {
     "name": "stderr",
     "output_type": "stream",
     "text": [
      "Empty user ref object in card on tweet 1291515126957383681\n",
      "User 899733078641225728 not found in user refs in card on tweet 1291515126957383681\n",
      " 15%|███████████▍                                                                 | 178/1201 [37:24<3:37:13, 12.74s/it]"
     ]
    },
    {
     "name": "stdout",
     "output_type": "stream",
     "text": [
      "Collected 256 tweets at 2020-08-06.\n",
      "Running twitter query: \"(#covid) lang:en until:2020-08-08 since:2020-08-07\"\n"
     ]
    },
    {
     "name": "stderr",
     "output_type": "stream",
     "text": [
      "\r",
      " 15%|███████████▍                                                                 | 179/1201 [37:36<3:30:03, 12.33s/it]"
     ]
    },
    {
     "name": "stdout",
     "output_type": "stream",
     "text": [
      "Collected 256 tweets at 2020-08-07.\n",
      "Running twitter query: \"(#covid) lang:en until:2020-08-09 since:2020-08-08\"\n"
     ]
    },
    {
     "name": "stderr",
     "output_type": "stream",
     "text": [
      "\r",
      " 15%|███████████▌                                                                 | 180/1201 [37:48<3:28:13, 12.24s/it]"
     ]
    },
    {
     "name": "stdout",
     "output_type": "stream",
     "text": [
      "Collected 256 tweets at 2020-08-08.\n",
      "Running twitter query: \"(#covid) lang:en until:2020-08-10 since:2020-08-09\"\n"
     ]
    },
    {
     "name": "stderr",
     "output_type": "stream",
     "text": [
      "\r",
      " 15%|███████████▌                                                                 | 181/1201 [38:00<3:30:28, 12.38s/it]"
     ]
    },
    {
     "name": "stdout",
     "output_type": "stream",
     "text": [
      "Collected 256 tweets at 2020-08-09.\n",
      "Running twitter query: \"(#covid) lang:en until:2020-08-11 since:2020-08-10\"\n"
     ]
    },
    {
     "name": "stderr",
     "output_type": "stream",
     "text": [
      "Unavailable user in card on tweet 1292955727577980928\n",
      "User 1468929887406809088 not found in user refs in card on tweet 1292955727577980928\n",
      " 15%|███████████▋                                                                 | 182/1201 [38:12<3:28:47, 12.29s/it]"
     ]
    },
    {
     "name": "stdout",
     "output_type": "stream",
     "text": [
      "Collected 256 tweets at 2020-08-10.\n",
      "Running twitter query: \"(#covid) lang:en until:2020-08-12 since:2020-08-11\"\n"
     ]
    },
    {
     "name": "stderr",
     "output_type": "stream",
     "text": [
      "\r",
      " 15%|███████████▋                                                                 | 183/1201 [38:24<3:26:52, 12.19s/it]"
     ]
    },
    {
     "name": "stdout",
     "output_type": "stream",
     "text": [
      "Collected 256 tweets at 2020-08-11.\n",
      "Running twitter query: \"(#covid) lang:en until:2020-08-13 since:2020-08-12\"\n"
     ]
    },
    {
     "name": "stderr",
     "output_type": "stream",
     "text": [
      "\r",
      " 15%|███████████▊                                                                 | 184/1201 [38:37<3:28:21, 12.29s/it]"
     ]
    },
    {
     "name": "stdout",
     "output_type": "stream",
     "text": [
      "Collected 256 tweets at 2020-08-12.\n",
      "Running twitter query: \"(#covid) lang:en until:2020-08-14 since:2020-08-13\"\n"
     ]
    },
    {
     "name": "stderr",
     "output_type": "stream",
     "text": [
      "\r",
      " 15%|███████████▊                                                                 | 185/1201 [38:50<3:30:43, 12.44s/it]"
     ]
    },
    {
     "name": "stdout",
     "output_type": "stream",
     "text": [
      "Collected 256 tweets at 2020-08-13.\n",
      "Running twitter query: \"(#covid) lang:en until:2020-08-15 since:2020-08-14\"\n"
     ]
    },
    {
     "name": "stderr",
     "output_type": "stream",
     "text": [
      "Empty user ref object in card on tweet 1294398502282248192\n",
      "Empty user ref object in card on tweet 1294398502282248192\n",
      "User 4503599629184530 not found in user refs in card on tweet 1294398502282248192\n",
      "User 4503599629184530 not found in user refs in card on tweet 1294398502282248192\n",
      " 15%|███████████▉                                                                 | 186/1201 [39:02<3:30:03, 12.42s/it]"
     ]
    },
    {
     "name": "stdout",
     "output_type": "stream",
     "text": [
      "Collected 256 tweets at 2020-08-14.\n",
      "Running twitter query: \"(#covid) lang:en until:2020-08-16 since:2020-08-15\"\n"
     ]
    },
    {
     "name": "stderr",
     "output_type": "stream",
     "text": [
      "\r",
      " 16%|███████████▉                                                                 | 187/1201 [39:15<3:31:40, 12.53s/it]"
     ]
    },
    {
     "name": "stdout",
     "output_type": "stream",
     "text": [
      "Collected 256 tweets at 2020-08-15.\n",
      "Running twitter query: \"(#covid) lang:en until:2020-08-17 since:2020-08-16\"\n"
     ]
    },
    {
     "name": "stderr",
     "output_type": "stream",
     "text": [
      "\r",
      " 16%|████████████                                                                 | 188/1201 [39:27<3:28:31, 12.35s/it]"
     ]
    },
    {
     "name": "stdout",
     "output_type": "stream",
     "text": [
      "Collected 256 tweets at 2020-08-16.\n",
      "Running twitter query: \"(#covid) lang:en until:2020-08-18 since:2020-08-17\"\n"
     ]
    },
    {
     "name": "stderr",
     "output_type": "stream",
     "text": [
      "\r",
      " 16%|████████████                                                                 | 189/1201 [39:39<3:28:01, 12.33s/it]"
     ]
    },
    {
     "name": "stdout",
     "output_type": "stream",
     "text": [
      "Collected 256 tweets at 2020-08-17.\n",
      "Running twitter query: \"(#covid) lang:en until:2020-08-19 since:2020-08-18\"\n"
     ]
    },
    {
     "name": "stderr",
     "output_type": "stream",
     "text": [
      "\r",
      " 16%|████████████▏                                                                | 190/1201 [39:53<3:35:59, 12.82s/it]"
     ]
    },
    {
     "name": "stdout",
     "output_type": "stream",
     "text": [
      "Collected 256 tweets at 2020-08-18.\n",
      "Running twitter query: \"(#covid) lang:en until:2020-08-20 since:2020-08-19\"\n"
     ]
    },
    {
     "name": "stderr",
     "output_type": "stream",
     "text": [
      "\r",
      " 16%|████████████▏                                                                | 191/1201 [40:06<3:36:37, 12.87s/it]"
     ]
    },
    {
     "name": "stdout",
     "output_type": "stream",
     "text": [
      "Collected 256 tweets at 2020-08-19.\n",
      "Running twitter query: \"(#covid) lang:en until:2020-08-21 since:2020-08-20\"\n"
     ]
    },
    {
     "name": "stderr",
     "output_type": "stream",
     "text": [
      "\r",
      " 16%|████████████▎                                                                | 192/1201 [40:19<3:36:56, 12.90s/it]"
     ]
    },
    {
     "name": "stdout",
     "output_type": "stream",
     "text": [
      "Collected 256 tweets at 2020-08-20.\n",
      "Running twitter query: \"(#covid) lang:en until:2020-08-22 since:2020-08-21\"\n"
     ]
    },
    {
     "name": "stderr",
     "output_type": "stream",
     "text": [
      "\r",
      " 16%|████████████▎                                                                | 193/1201 [40:32<3:39:42, 13.08s/it]"
     ]
    },
    {
     "name": "stdout",
     "output_type": "stream",
     "text": [
      "Collected 256 tweets at 2020-08-21.\n",
      "Running twitter query: \"(#covid) lang:en until:2020-08-23 since:2020-08-22\"\n"
     ]
    },
    {
     "name": "stderr",
     "output_type": "stream",
     "text": [
      "\r",
      " 16%|████████████▍                                                                | 194/1201 [40:46<3:41:04, 13.17s/it]"
     ]
    },
    {
     "name": "stdout",
     "output_type": "stream",
     "text": [
      "Collected 256 tweets at 2020-08-22.\n",
      "Running twitter query: \"(#covid) lang:en until:2020-08-24 since:2020-08-23\"\n"
     ]
    },
    {
     "name": "stderr",
     "output_type": "stream",
     "text": [
      "\r",
      " 16%|████████████▌                                                                | 195/1201 [41:00<3:45:48, 13.47s/it]"
     ]
    },
    {
     "name": "stdout",
     "output_type": "stream",
     "text": [
      "Collected 256 tweets at 2020-08-23.\n",
      "Running twitter query: \"(#covid) lang:en until:2020-08-25 since:2020-08-24\"\n"
     ]
    },
    {
     "name": "stderr",
     "output_type": "stream",
     "text": [
      "\r",
      " 16%|████████████▌                                                                | 196/1201 [41:13<3:45:17, 13.45s/it]"
     ]
    },
    {
     "name": "stdout",
     "output_type": "stream",
     "text": [
      "Collected 256 tweets at 2020-08-24.\n",
      "Running twitter query: \"(#covid) lang:en until:2020-08-26 since:2020-08-25\"\n"
     ]
    },
    {
     "name": "stderr",
     "output_type": "stream",
     "text": [
      "\r",
      " 16%|████████████▋                                                                | 197/1201 [41:27<3:46:43, 13.55s/it]"
     ]
    },
    {
     "name": "stdout",
     "output_type": "stream",
     "text": [
      "Collected 256 tweets at 2020-08-25.\n",
      "Running twitter query: \"(#covid) lang:en until:2020-08-27 since:2020-08-26\"\n"
     ]
    },
    {
     "name": "stderr",
     "output_type": "stream",
     "text": [
      "Empty user ref object in card on tweet 1298766245777600512\n",
      "User 899733078641225728 not found in user refs in card on tweet 1298766245777600512\n",
      " 16%|████████████▋                                                                | 198/1201 [41:41<3:45:57, 13.52s/it]"
     ]
    },
    {
     "name": "stdout",
     "output_type": "stream",
     "text": [
      "Collected 256 tweets at 2020-08-26.\n",
      "Running twitter query: \"(#covid) lang:en until:2020-08-28 since:2020-08-27\"\n"
     ]
    },
    {
     "name": "stderr",
     "output_type": "stream",
     "text": [
      "\r",
      " 17%|████████████▊                                                                | 199/1201 [41:55<3:49:20, 13.73s/it]"
     ]
    },
    {
     "name": "stdout",
     "output_type": "stream",
     "text": [
      "Collected 256 tweets at 2020-08-27.\n",
      "Running twitter query: \"(#covid) lang:en until:2020-08-29 since:2020-08-28\"\n"
     ]
    },
    {
     "name": "stderr",
     "output_type": "stream",
     "text": [
      "Empty user ref object in card on tweet 1299483048778461184\n",
      "User 899733078641225728 not found in user refs in card on tweet 1299483048778461184\n",
      " 17%|████████████▊                                                                | 200/1201 [42:09<3:49:13, 13.74s/it]"
     ]
    },
    {
     "name": "stdout",
     "output_type": "stream",
     "text": [
      "Collected 256 tweets at 2020-08-28.\n",
      "Running twitter query: \"(#covid) lang:en until:2020-08-30 since:2020-08-29\"\n"
     ]
    },
    {
     "name": "stderr",
     "output_type": "stream",
     "text": [
      "Unavailable user in card on tweet 1299844641936859136\n",
      "User 1434052940 not found in user refs in card on tweet 1299844641936859136\n",
      " 17%|████████████▉                                                                | 201/1201 [42:24<3:56:36, 14.20s/it]"
     ]
    },
    {
     "name": "stdout",
     "output_type": "stream",
     "text": [
      "Collected 256 tweets at 2020-08-29.\n",
      "Running twitter query: \"(#covid) lang:en until:2020-08-31 since:2020-08-30\"\n"
     ]
    },
    {
     "name": "stderr",
     "output_type": "stream",
     "text": [
      "\r",
      " 17%|████████████▉                                                                | 202/1201 [42:38<3:57:33, 14.27s/it]"
     ]
    },
    {
     "name": "stdout",
     "output_type": "stream",
     "text": [
      "Collected 256 tweets at 2020-08-30.\n",
      "Running twitter query: \"(#covid) lang:en until:2020-09-01 since:2020-08-31\"\n"
     ]
    },
    {
     "name": "stderr",
     "output_type": "stream",
     "text": [
      "\r",
      " 17%|█████████████                                                                | 203/1201 [42:55<4:09:42, 15.01s/it]"
     ]
    },
    {
     "name": "stdout",
     "output_type": "stream",
     "text": [
      "Collected 256 tweets at 2020-08-31.\n",
      "Saving 7936 tweets at 2020-08.\n",
      "Running twitter query: \"(#covid) lang:en until:2020-09-02 since:2020-09-01\"\n"
     ]
    },
    {
     "name": "stderr",
     "output_type": "stream",
     "text": [
      "\r",
      " 17%|█████████████                                                                | 204/1201 [43:07<3:54:18, 14.10s/it]"
     ]
    },
    {
     "name": "stdout",
     "output_type": "stream",
     "text": [
      "Collected 256 tweets at 2020-09-01.\n",
      "Running twitter query: \"(#covid) lang:en until:2020-09-03 since:2020-09-02\"\n"
     ]
    },
    {
     "name": "stderr",
     "output_type": "stream",
     "text": [
      "Unavailable user in card on tweet 1301293855908810753\n",
      "User 28550209 not found in user refs in card on tweet 1301293855908810753\n",
      " 17%|█████████████▏                                                               | 205/1201 [43:18<3:40:02, 13.26s/it]"
     ]
    },
    {
     "name": "stdout",
     "output_type": "stream",
     "text": [
      "Collected 256 tweets at 2020-09-02.\n",
      "Running twitter query: \"(#covid) lang:en until:2020-09-04 since:2020-09-03\"\n"
     ]
    },
    {
     "name": "stderr",
     "output_type": "stream",
     "text": [
      "\r",
      " 17%|█████████████▏                                                               | 206/1201 [43:30<3:29:58, 12.66s/it]"
     ]
    },
    {
     "name": "stdout",
     "output_type": "stream",
     "text": [
      "Collected 256 tweets at 2020-09-03.\n",
      "Running twitter query: \"(#covid) lang:en until:2020-09-05 since:2020-09-04\"\n"
     ]
    },
    {
     "name": "stderr",
     "output_type": "stream",
     "text": [
      "\r",
      " 17%|█████████████▎                                                               | 207/1201 [43:41<3:23:16, 12.27s/it]"
     ]
    },
    {
     "name": "stdout",
     "output_type": "stream",
     "text": [
      "Collected 256 tweets at 2020-09-04.\n",
      "Running twitter query: \"(#covid) lang:en until:2020-09-06 since:2020-09-05\"\n"
     ]
    },
    {
     "name": "stderr",
     "output_type": "stream",
     "text": [
      "\r",
      " 17%|█████████████▎                                                               | 208/1201 [43:52<3:15:54, 11.84s/it]"
     ]
    },
    {
     "name": "stdout",
     "output_type": "stream",
     "text": [
      "Collected 256 tweets at 2020-09-05.\n",
      "Running twitter query: \"(#covid) lang:en until:2020-09-07 since:2020-09-06\"\n"
     ]
    },
    {
     "name": "stderr",
     "output_type": "stream",
     "text": [
      "\r",
      " 17%|█████████████▍                                                               | 209/1201 [44:03<3:13:36, 11.71s/it]"
     ]
    },
    {
     "name": "stdout",
     "output_type": "stream",
     "text": [
      "Collected 256 tweets at 2020-09-06.\n",
      "Running twitter query: \"(#covid) lang:en until:2020-09-08 since:2020-09-07\"\n"
     ]
    },
    {
     "name": "stderr",
     "output_type": "stream",
     "text": [
      "\r",
      " 17%|█████████████▍                                                               | 210/1201 [44:15<3:11:54, 11.62s/it]"
     ]
    },
    {
     "name": "stdout",
     "output_type": "stream",
     "text": [
      "Collected 256 tweets at 2020-09-07.\n",
      "Running twitter query: \"(#covid) lang:en until:2020-09-09 since:2020-09-08\"\n"
     ]
    },
    {
     "name": "stderr",
     "output_type": "stream",
     "text": [
      "Empty user ref object in card on tweet 1303482005351522306\n",
      "User 899733078641225728 not found in user refs in card on tweet 1303482005351522306\n",
      " 18%|█████████████▌                                                               | 211/1201 [44:27<3:13:32, 11.73s/it]"
     ]
    },
    {
     "name": "stdout",
     "output_type": "stream",
     "text": [
      "Collected 256 tweets at 2020-09-08.\n",
      "Running twitter query: \"(#covid) lang:en until:2020-09-10 since:2020-09-09\"\n"
     ]
    },
    {
     "name": "stderr",
     "output_type": "stream",
     "text": [
      "\r",
      " 18%|█████████████▌                                                               | 212/1201 [44:39<3:14:55, 11.83s/it]"
     ]
    },
    {
     "name": "stdout",
     "output_type": "stream",
     "text": [
      "Collected 256 tweets at 2020-09-09.\n",
      "Running twitter query: \"(#covid) lang:en until:2020-09-11 since:2020-09-10\"\n"
     ]
    },
    {
     "name": "stderr",
     "output_type": "stream",
     "text": [
      "\r",
      " 18%|█████████████▋                                                               | 213/1201 [44:50<3:14:18, 11.80s/it]"
     ]
    },
    {
     "name": "stdout",
     "output_type": "stream",
     "text": [
      "Collected 256 tweets at 2020-09-10.\n",
      "Running twitter query: \"(#covid) lang:en until:2020-09-12 since:2020-09-11\"\n"
     ]
    },
    {
     "name": "stderr",
     "output_type": "stream",
     "text": [
      "\r",
      " 18%|█████████████▋                                                               | 214/1201 [45:02<3:13:42, 11.78s/it]"
     ]
    },
    {
     "name": "stdout",
     "output_type": "stream",
     "text": [
      "Collected 256 tweets at 2020-09-11.\n",
      "Running twitter query: \"(#covid) lang:en until:2020-09-13 since:2020-09-12\"\n"
     ]
    },
    {
     "name": "stderr",
     "output_type": "stream",
     "text": [
      "\r",
      " 18%|█████████████▊                                                               | 215/1201 [45:16<3:24:52, 12.47s/it]"
     ]
    },
    {
     "name": "stdout",
     "output_type": "stream",
     "text": [
      "Collected 256 tweets at 2020-09-12.\n",
      "Running twitter query: \"(#covid) lang:en until:2020-09-14 since:2020-09-13\"\n"
     ]
    },
    {
     "name": "stderr",
     "output_type": "stream",
     "text": [
      "Empty user ref object in card on tweet 1305280339959590918\n",
      "User 899733078641225728 not found in user refs in card on tweet 1305280339959590918\n",
      " 18%|█████████████▊                                                               | 216/1201 [45:28<3:20:33, 12.22s/it]"
     ]
    },
    {
     "name": "stdout",
     "output_type": "stream",
     "text": [
      "Collected 256 tweets at 2020-09-13.\n",
      "Running twitter query: \"(#covid) lang:en until:2020-09-15 since:2020-09-14\"\n"
     ]
    },
    {
     "name": "stderr",
     "output_type": "stream",
     "text": [
      "\r",
      " 18%|█████████████▉                                                               | 217/1201 [45:39<3:16:38, 11.99s/it]"
     ]
    },
    {
     "name": "stdout",
     "output_type": "stream",
     "text": [
      "Collected 256 tweets at 2020-09-14.\n",
      "Running twitter query: \"(#covid) lang:en until:2020-09-16 since:2020-09-15\"\n"
     ]
    },
    {
     "name": "stderr",
     "output_type": "stream",
     "text": [
      "\r",
      " 18%|█████████████▉                                                               | 218/1201 [45:52<3:17:40, 12.07s/it]"
     ]
    },
    {
     "name": "stdout",
     "output_type": "stream",
     "text": [
      "Collected 256 tweets at 2020-09-15.\n",
      "Running twitter query: \"(#covid) lang:en until:2020-09-17 since:2020-09-16\"\n"
     ]
    },
    {
     "name": "stderr",
     "output_type": "stream",
     "text": [
      "\r",
      " 18%|██████████████                                                               | 219/1201 [46:04<3:18:46, 12.14s/it]"
     ]
    },
    {
     "name": "stdout",
     "output_type": "stream",
     "text": [
      "Collected 256 tweets at 2020-09-16.\n",
      "Running twitter query: \"(#covid) lang:en until:2020-09-18 since:2020-09-17\"\n"
     ]
    },
    {
     "name": "stderr",
     "output_type": "stream",
     "text": [
      "\r",
      " 18%|██████████████                                                               | 220/1201 [46:16<3:16:46, 12.03s/it]"
     ]
    },
    {
     "name": "stdout",
     "output_type": "stream",
     "text": [
      "Collected 256 tweets at 2020-09-17.\n",
      "Running twitter query: \"(#covid) lang:en until:2020-09-19 since:2020-09-18\"\n"
     ]
    },
    {
     "name": "stderr",
     "output_type": "stream",
     "text": [
      "\r",
      " 18%|██████████████▏                                                              | 221/1201 [46:28<3:16:16, 12.02s/it]"
     ]
    },
    {
     "name": "stdout",
     "output_type": "stream",
     "text": [
      "Collected 256 tweets at 2020-09-18.\n",
      "Running twitter query: \"(#covid) lang:en until:2020-09-20 since:2020-09-19\"\n"
     ]
    },
    {
     "name": "stderr",
     "output_type": "stream",
     "text": [
      "\r",
      " 18%|██████████████▏                                                              | 222/1201 [46:40<3:18:44, 12.18s/it]"
     ]
    },
    {
     "name": "stdout",
     "output_type": "stream",
     "text": [
      "Collected 256 tweets at 2020-09-19.\n",
      "Running twitter query: \"(#covid) lang:en until:2020-09-21 since:2020-09-20\"\n"
     ]
    },
    {
     "name": "stderr",
     "output_type": "stream",
     "text": [
      "\r",
      " 19%|██████████████▎                                                              | 223/1201 [46:54<3:24:09, 12.52s/it]"
     ]
    },
    {
     "name": "stdout",
     "output_type": "stream",
     "text": [
      "Collected 256 tweets at 2020-09-20.\n",
      "Running twitter query: \"(#covid) lang:en until:2020-09-22 since:2020-09-21\"\n"
     ]
    },
    {
     "name": "stderr",
     "output_type": "stream",
     "text": [
      "\r",
      " 19%|██████████████▎                                                              | 224/1201 [47:07<3:27:37, 12.75s/it]"
     ]
    },
    {
     "name": "stdout",
     "output_type": "stream",
     "text": [
      "Collected 256 tweets at 2020-09-21.\n",
      "Running twitter query: \"(#covid) lang:en until:2020-09-23 since:2020-09-22\"\n"
     ]
    },
    {
     "name": "stderr",
     "output_type": "stream",
     "text": [
      "\r",
      " 19%|██████████████▍                                                              | 225/1201 [47:20<3:28:18, 12.81s/it]"
     ]
    },
    {
     "name": "stdout",
     "output_type": "stream",
     "text": [
      "Collected 256 tweets at 2020-09-22.\n",
      "Running twitter query: \"(#covid) lang:en until:2020-09-24 since:2020-09-23\"\n"
     ]
    },
    {
     "name": "stderr",
     "output_type": "stream",
     "text": [
      "\r",
      " 19%|██████████████▍                                                              | 226/1201 [47:33<3:30:35, 12.96s/it]"
     ]
    },
    {
     "name": "stdout",
     "output_type": "stream",
     "text": [
      "Collected 256 tweets at 2020-09-23.\n",
      "Running twitter query: \"(#covid) lang:en until:2020-09-25 since:2020-09-24\"\n"
     ]
    },
    {
     "name": "stderr",
     "output_type": "stream",
     "text": [
      "\r",
      " 19%|██████████████▌                                                              | 227/1201 [47:47<3:33:08, 13.13s/it]"
     ]
    },
    {
     "name": "stdout",
     "output_type": "stream",
     "text": [
      "Collected 256 tweets at 2020-09-24.\n",
      "Running twitter query: \"(#covid) lang:en until:2020-09-26 since:2020-09-25\"\n"
     ]
    },
    {
     "name": "stderr",
     "output_type": "stream",
     "text": [
      "\r",
      " 19%|██████████████▌                                                              | 228/1201 [48:03<3:50:05, 14.19s/it]"
     ]
    },
    {
     "name": "stdout",
     "output_type": "stream",
     "text": [
      "Collected 256 tweets at 2020-09-25.\n",
      "Running twitter query: \"(#covid) lang:en until:2020-09-27 since:2020-09-26\"\n"
     ]
    },
    {
     "name": "stderr",
     "output_type": "stream",
     "text": [
      "\r",
      " 19%|██████████████▋                                                              | 229/1201 [48:17<3:48:13, 14.09s/it]"
     ]
    },
    {
     "name": "stdout",
     "output_type": "stream",
     "text": [
      "Collected 256 tweets at 2020-09-26.\n",
      "Running twitter query: \"(#covid) lang:en until:2020-09-28 since:2020-09-27\"\n"
     ]
    },
    {
     "name": "stderr",
     "output_type": "stream",
     "text": [
      "Unavailable user in card on tweet 1310363472803307522\n",
      "User 1552045956383641600 not found in user refs in card on tweet 1310363472803307522\n",
      " 19%|██████████████▋                                                              | 230/1201 [48:31<3:45:55, 13.96s/it]"
     ]
    },
    {
     "name": "stdout",
     "output_type": "stream",
     "text": [
      "Collected 256 tweets at 2020-09-27.\n",
      "Running twitter query: \"(#covid) lang:en until:2020-09-29 since:2020-09-28\"\n"
     ]
    },
    {
     "name": "stderr",
     "output_type": "stream",
     "text": [
      "\r",
      " 19%|██████████████▊                                                              | 231/1201 [48:47<3:55:32, 14.57s/it]"
     ]
    },
    {
     "name": "stdout",
     "output_type": "stream",
     "text": [
      "Collected 256 tweets at 2020-09-28.\n",
      "Running twitter query: \"(#covid) lang:en until:2020-09-30 since:2020-09-29\"\n"
     ]
    },
    {
     "name": "stderr",
     "output_type": "stream",
     "text": [
      "\r",
      " 19%|██████████████▊                                                              | 232/1201 [49:02<3:58:14, 14.75s/it]"
     ]
    },
    {
     "name": "stdout",
     "output_type": "stream",
     "text": [
      "Collected 256 tweets at 2020-09-29.\n",
      "Running twitter query: \"(#covid) lang:en until:2020-10-01 since:2020-09-30\"\n"
     ]
    },
    {
     "name": "stderr",
     "output_type": "stream",
     "text": [
      "\r",
      " 19%|██████████████▉                                                              | 233/1201 [49:16<3:54:12, 14.52s/it]"
     ]
    },
    {
     "name": "stdout",
     "output_type": "stream",
     "text": [
      "Collected 256 tweets at 2020-09-30.\n",
      "Saving 7680 tweets at 2020-09.\n",
      "Running twitter query: \"(#covid) lang:en until:2020-10-02 since:2020-10-01\"\n"
     ]
    },
    {
     "name": "stderr",
     "output_type": "stream",
     "text": [
      "Unavailable user in card on tweet 1311814546051526657\n",
      "User 14204245 not found in user refs in card on tweet 1311814546051526657\n",
      " 19%|███████████████                                                              | 234/1201 [49:28<3:44:23, 13.92s/it]"
     ]
    },
    {
     "name": "stdout",
     "output_type": "stream",
     "text": [
      "Collected 256 tweets at 2020-10-01.\n",
      "Running twitter query: \"(#covid) lang:en until:2020-10-03 since:2020-10-02\"\n"
     ]
    },
    {
     "name": "stderr",
     "output_type": "stream",
     "text": [
      "\r",
      " 20%|███████████████                                                              | 235/1201 [49:40<3:33:36, 13.27s/it]"
     ]
    },
    {
     "name": "stdout",
     "output_type": "stream",
     "text": [
      "Collected 256 tweets at 2020-10-02.\n",
      "Running twitter query: \"(#covid) lang:en until:2020-10-04 since:2020-10-03\"\n"
     ]
    },
    {
     "name": "stderr",
     "output_type": "stream",
     "text": [
      "Unavailable user in card on tweet 1312539675173613568\n",
      "User 14204245 not found in user refs in card on tweet 1312539675173613568\n",
      " 20%|███████████████▏                                                             | 236/1201 [49:51<3:21:14, 12.51s/it]"
     ]
    },
    {
     "name": "stdout",
     "output_type": "stream",
     "text": [
      "Collected 256 tweets at 2020-10-03.\n",
      "Running twitter query: \"(#covid) lang:en until:2020-10-05 since:2020-10-04\"\n"
     ]
    },
    {
     "name": "stderr",
     "output_type": "stream",
     "text": [
      "\r",
      " 20%|███████████████▏                                                             | 237/1201 [50:02<3:15:14, 12.15s/it]"
     ]
    },
    {
     "name": "stdout",
     "output_type": "stream",
     "text": [
      "Collected 256 tweets at 2020-10-04.\n",
      "Running twitter query: \"(#covid) lang:en until:2020-10-06 since:2020-10-05\"\n"
     ]
    },
    {
     "name": "stderr",
     "output_type": "stream",
     "text": [
      "\r",
      " 20%|███████████████▎                                                             | 238/1201 [50:13<3:10:01, 11.84s/it]"
     ]
    },
    {
     "name": "stdout",
     "output_type": "stream",
     "text": [
      "Collected 256 tweets at 2020-10-05.\n",
      "Running twitter query: \"(#covid) lang:en until:2020-10-07 since:2020-10-06\"\n"
     ]
    },
    {
     "name": "stderr",
     "output_type": "stream",
     "text": [
      "Empty user ref object in card on tweet 1313623655646138368\n",
      "User 899733078641225728 not found in user refs in card on tweet 1313623655646138368\n",
      " 20%|███████████████▎                                                             | 239/1201 [50:25<3:10:01, 11.85s/it]"
     ]
    },
    {
     "name": "stdout",
     "output_type": "stream",
     "text": [
      "Collected 256 tweets at 2020-10-06.\n",
      "Running twitter query: \"(#covid) lang:en until:2020-10-08 since:2020-10-07\"\n"
     ]
    },
    {
     "name": "stderr",
     "output_type": "stream",
     "text": [
      "\r",
      " 20%|███████████████▍                                                             | 240/1201 [50:38<3:14:04, 12.12s/it]"
     ]
    },
    {
     "name": "stdout",
     "output_type": "stream",
     "text": [
      "Collected 256 tweets at 2020-10-07.\n",
      "Running twitter query: \"(#covid) lang:en until:2020-10-09 since:2020-10-08\"\n"
     ]
    },
    {
     "name": "stderr",
     "output_type": "stream",
     "text": [
      "\r",
      " 20%|███████████████▍                                                             | 241/1201 [50:49<3:08:48, 11.80s/it]"
     ]
    },
    {
     "name": "stdout",
     "output_type": "stream",
     "text": [
      "Collected 256 tweets at 2020-10-08.\n",
      "Running twitter query: \"(#covid) lang:en until:2020-10-10 since:2020-10-09\"\n"
     ]
    },
    {
     "name": "stderr",
     "output_type": "stream",
     "text": [
      "\r",
      " 20%|███████████████▌                                                             | 242/1201 [51:01<3:10:26, 11.92s/it]"
     ]
    },
    {
     "name": "stdout",
     "output_type": "stream",
     "text": [
      "Collected 256 tweets at 2020-10-09.\n",
      "Running twitter query: \"(#covid) lang:en until:2020-10-11 since:2020-10-10\"\n"
     ]
    },
    {
     "name": "stderr",
     "output_type": "stream",
     "text": [
      "\r",
      " 20%|███████████████▌                                                             | 243/1201 [51:13<3:08:02, 11.78s/it]"
     ]
    },
    {
     "name": "stdout",
     "output_type": "stream",
     "text": [
      "Collected 256 tweets at 2020-10-10.\n",
      "Running twitter query: \"(#covid) lang:en until:2020-10-12 since:2020-10-11\"\n"
     ]
    },
    {
     "name": "stderr",
     "output_type": "stream",
     "text": [
      "\r",
      " 20%|███████████████▋                                                             | 244/1201 [51:24<3:05:55, 11.66s/it]"
     ]
    },
    {
     "name": "stdout",
     "output_type": "stream",
     "text": [
      "Collected 256 tweets at 2020-10-11.\n",
      "Running twitter query: \"(#covid) lang:en until:2020-10-13 since:2020-10-12\"\n"
     ]
    },
    {
     "name": "stderr",
     "output_type": "stream",
     "text": [
      "\r",
      " 20%|███████████████▋                                                             | 245/1201 [51:37<3:11:22, 12.01s/it]"
     ]
    },
    {
     "name": "stdout",
     "output_type": "stream",
     "text": [
      "Collected 256 tweets at 2020-10-12.\n",
      "Running twitter query: \"(#covid) lang:en until:2020-10-14 since:2020-10-13\"\n"
     ]
    },
    {
     "name": "stderr",
     "output_type": "stream",
     "text": [
      "\r",
      " 20%|███████████████▊                                                             | 246/1201 [51:49<3:11:13, 12.01s/it]"
     ]
    },
    {
     "name": "stdout",
     "output_type": "stream",
     "text": [
      "Collected 256 tweets at 2020-10-13.\n",
      "Running twitter query: \"(#covid) lang:en until:2020-10-15 since:2020-10-14\"\n"
     ]
    },
    {
     "name": "stderr",
     "output_type": "stream",
     "text": [
      "\r",
      " 21%|███████████████▊                                                             | 247/1201 [52:05<3:29:35, 13.18s/it]"
     ]
    },
    {
     "name": "stdout",
     "output_type": "stream",
     "text": [
      "Collected 256 tweets at 2020-10-14.\n",
      "Running twitter query: \"(#covid) lang:en until:2020-10-16 since:2020-10-15\"\n"
     ]
    },
    {
     "name": "stderr",
     "output_type": "stream",
     "text": [
      "\r",
      " 21%|███████████████▉                                                             | 248/1201 [52:17<3:25:23, 12.93s/it]"
     ]
    },
    {
     "name": "stdout",
     "output_type": "stream",
     "text": [
      "Collected 256 tweets at 2020-10-15.\n",
      "Running twitter query: \"(#covid) lang:en until:2020-10-17 since:2020-10-16\"\n"
     ]
    },
    {
     "name": "stderr",
     "output_type": "stream",
     "text": [
      "\r",
      " 21%|███████████████▉                                                             | 249/1201 [52:29<3:18:54, 12.54s/it]"
     ]
    },
    {
     "name": "stdout",
     "output_type": "stream",
     "text": [
      "Collected 256 tweets at 2020-10-16.\n",
      "Running twitter query: \"(#covid) lang:en until:2020-10-18 since:2020-10-17\"\n"
     ]
    },
    {
     "name": "stderr",
     "output_type": "stream",
     "text": [
      "Unavailable user in card on tweet 1317599073835384840\n",
      "User 28550209 not found in user refs in card on tweet 1317599073835384840\n",
      " 21%|████████████████                                                             | 250/1201 [52:41<3:17:30, 12.46s/it]"
     ]
    },
    {
     "name": "stdout",
     "output_type": "stream",
     "text": [
      "Collected 256 tweets at 2020-10-17.\n",
      "Running twitter query: \"(#covid) lang:en until:2020-10-19 since:2020-10-18\"\n"
     ]
    },
    {
     "name": "stderr",
     "output_type": "stream",
     "text": [
      "\r",
      " 21%|████████████████                                                             | 251/1201 [52:54<3:20:36, 12.67s/it]"
     ]
    },
    {
     "name": "stdout",
     "output_type": "stream",
     "text": [
      "Collected 256 tweets at 2020-10-18.\n",
      "Running twitter query: \"(#covid) lang:en until:2020-10-20 since:2020-10-19\"\n"
     ]
    },
    {
     "name": "stderr",
     "output_type": "stream",
     "text": [
      "\r",
      " 21%|████████████████▏                                                            | 252/1201 [53:08<3:26:40, 13.07s/it]"
     ]
    },
    {
     "name": "stdout",
     "output_type": "stream",
     "text": [
      "Collected 256 tweets at 2020-10-19.\n",
      "Running twitter query: \"(#covid) lang:en until:2020-10-21 since:2020-10-20\"\n"
     ]
    },
    {
     "name": "stderr",
     "output_type": "stream",
     "text": [
      "\r",
      " 21%|████████████████▏                                                            | 253/1201 [53:21<3:24:53, 12.97s/it]"
     ]
    },
    {
     "name": "stdout",
     "output_type": "stream",
     "text": [
      "Collected 256 tweets at 2020-10-20.\n",
      "Running twitter query: \"(#covid) lang:en until:2020-10-22 since:2020-10-21\"\n"
     ]
    },
    {
     "name": "stderr",
     "output_type": "stream",
     "text": [
      "\r",
      " 21%|████████████████▎                                                            | 254/1201 [53:34<3:25:38, 13.03s/it]"
     ]
    },
    {
     "name": "stdout",
     "output_type": "stream",
     "text": [
      "Collected 256 tweets at 2020-10-21.\n",
      "Running twitter query: \"(#covid) lang:en until:2020-10-23 since:2020-10-22\"\n"
     ]
    },
    {
     "name": "stderr",
     "output_type": "stream",
     "text": [
      "\r",
      " 21%|████████████████▎                                                            | 255/1201 [53:47<3:25:21, 13.02s/it]"
     ]
    },
    {
     "name": "stdout",
     "output_type": "stream",
     "text": [
      "Collected 256 tweets at 2020-10-22.\n",
      "Running twitter query: \"(#covid) lang:en until:2020-10-24 since:2020-10-23\"\n"
     ]
    },
    {
     "name": "stderr",
     "output_type": "stream",
     "text": [
      "\r",
      " 21%|████████████████▍                                                            | 256/1201 [54:01<3:28:35, 13.24s/it]"
     ]
    },
    {
     "name": "stdout",
     "output_type": "stream",
     "text": [
      "Collected 256 tweets at 2020-10-23.\n",
      "Running twitter query: \"(#covid) lang:en until:2020-10-25 since:2020-10-24\"\n"
     ]
    },
    {
     "name": "stderr",
     "output_type": "stream",
     "text": [
      "\r",
      " 21%|████████████████▍                                                            | 257/1201 [54:14<3:26:28, 13.12s/it]"
     ]
    },
    {
     "name": "stdout",
     "output_type": "stream",
     "text": [
      "Collected 256 tweets at 2020-10-24.\n",
      "Running twitter query: \"(#covid) lang:en until:2020-10-26 since:2020-10-25\"\n"
     ]
    },
    {
     "name": "stderr",
     "output_type": "stream",
     "text": [
      "\r",
      " 21%|████████████████▌                                                            | 258/1201 [54:28<3:29:44, 13.35s/it]"
     ]
    },
    {
     "name": "stdout",
     "output_type": "stream",
     "text": [
      "Collected 256 tweets at 2020-10-25.\n",
      "Running twitter query: \"(#covid) lang:en until:2020-10-27 since:2020-10-26\"\n"
     ]
    },
    {
     "name": "stderr",
     "output_type": "stream",
     "text": [
      "\r",
      " 22%|████████████████▌                                                            | 259/1201 [54:42<3:34:17, 13.65s/it]"
     ]
    },
    {
     "name": "stdout",
     "output_type": "stream",
     "text": [
      "Collected 256 tweets at 2020-10-26.\n",
      "Running twitter query: \"(#covid) lang:en until:2020-10-28 since:2020-10-27\"\n"
     ]
    },
    {
     "name": "stderr",
     "output_type": "stream",
     "text": [
      "\r",
      " 22%|████████████████▋                                                            | 260/1201 [54:56<3:34:58, 13.71s/it]"
     ]
    },
    {
     "name": "stdout",
     "output_type": "stream",
     "text": [
      "Collected 256 tweets at 2020-10-27.\n",
      "Running twitter query: \"(#covid) lang:en until:2020-10-29 since:2020-10-28\"\n"
     ]
    },
    {
     "name": "stderr",
     "output_type": "stream",
     "text": [
      "\r",
      " 22%|████████████████▋                                                            | 261/1201 [55:09<3:34:10, 13.67s/it]"
     ]
    },
    {
     "name": "stdout",
     "output_type": "stream",
     "text": [
      "Collected 256 tweets at 2020-10-28.\n",
      "Running twitter query: \"(#covid) lang:en until:2020-10-30 since:2020-10-29\"\n"
     ]
    },
    {
     "name": "stderr",
     "output_type": "stream",
     "text": [
      "\r",
      " 22%|████████████████▊                                                            | 262/1201 [55:24<3:39:44, 14.04s/it]"
     ]
    },
    {
     "name": "stdout",
     "output_type": "stream",
     "text": [
      "Collected 256 tweets at 2020-10-29.\n",
      "Running twitter query: \"(#covid) lang:en until:2020-10-31 since:2020-10-30\"\n"
     ]
    },
    {
     "name": "stderr",
     "output_type": "stream",
     "text": [
      "\r",
      " 22%|████████████████▊                                                            | 263/1201 [55:38<3:36:43, 13.86s/it]"
     ]
    },
    {
     "name": "stdout",
     "output_type": "stream",
     "text": [
      "Collected 256 tweets at 2020-10-30.\n",
      "Running twitter query: \"(#covid) lang:en until:2020-11-01 since:2020-10-31\"\n"
     ]
    },
    {
     "name": "stderr",
     "output_type": "stream",
     "text": [
      "\r",
      " 22%|████████████████▉                                                            | 264/1201 [55:51<3:32:59, 13.64s/it]"
     ]
    },
    {
     "name": "stdout",
     "output_type": "stream",
     "text": [
      "Collected 256 tweets at 2020-10-31.\n",
      "Saving 7936 tweets at 2020-10.\n",
      "Running twitter query: \"(#covid) lang:en until:2020-11-02 since:2020-11-01\"\n"
     ]
    },
    {
     "name": "stderr",
     "output_type": "stream",
     "text": [
      "\r",
      " 22%|████████████████▉                                                            | 265/1201 [56:06<3:37:56, 13.97s/it]"
     ]
    },
    {
     "name": "stdout",
     "output_type": "stream",
     "text": [
      "Collected 256 tweets at 2020-11-01.\n",
      "Running twitter query: \"(#covid) lang:en until:2020-11-03 since:2020-11-02\"\n"
     ]
    },
    {
     "name": "stderr",
     "output_type": "stream",
     "text": [
      "\r",
      " 22%|█████████████████                                                            | 266/1201 [56:18<3:29:48, 13.46s/it]"
     ]
    },
    {
     "name": "stdout",
     "output_type": "stream",
     "text": [
      "Collected 256 tweets at 2020-11-02.\n",
      "Running twitter query: \"(#covid) lang:en until:2020-11-04 since:2020-11-03\"\n"
     ]
    },
    {
     "name": "stderr",
     "output_type": "stream",
     "text": [
      "\r",
      " 22%|█████████████████                                                            | 267/1201 [56:29<3:20:30, 12.88s/it]"
     ]
    },
    {
     "name": "stdout",
     "output_type": "stream",
     "text": [
      "Collected 256 tweets at 2020-11-03.\n",
      "Running twitter query: \"(#covid) lang:en until:2020-11-05 since:2020-11-04\"\n"
     ]
    },
    {
     "name": "stderr",
     "output_type": "stream",
     "text": [
      "\r",
      " 22%|█████████████████▏                                                           | 268/1201 [56:41<3:14:09, 12.49s/it]"
     ]
    },
    {
     "name": "stdout",
     "output_type": "stream",
     "text": [
      "Collected 256 tweets at 2020-11-04.\n",
      "Running twitter query: \"(#covid) lang:en until:2020-11-06 since:2020-11-05\"\n"
     ]
    },
    {
     "name": "stderr",
     "output_type": "stream",
     "text": [
      "\r",
      " 22%|█████████████████▏                                                           | 269/1201 [56:52<3:09:24, 12.19s/it]"
     ]
    },
    {
     "name": "stdout",
     "output_type": "stream",
     "text": [
      "Collected 256 tweets at 2020-11-05.\n",
      "Running twitter query: \"(#covid) lang:en until:2020-11-07 since:2020-11-06\"\n"
     ]
    },
    {
     "name": "stderr",
     "output_type": "stream",
     "text": [
      "\r",
      " 22%|█████████████████▎                                                           | 270/1201 [57:04<3:06:09, 12.00s/it]"
     ]
    },
    {
     "name": "stdout",
     "output_type": "stream",
     "text": [
      "Collected 256 tweets at 2020-11-06.\n",
      "Running twitter query: \"(#covid) lang:en until:2020-11-08 since:2020-11-07\"\n"
     ]
    },
    {
     "name": "stderr",
     "output_type": "stream",
     "text": [
      "Empty user ref object in card on tweet 1325220245234126848\n",
      "User 899733078641225728 not found in user refs in card on tweet 1325220245234126848\n",
      " 23%|█████████████████▎                                                           | 271/1201 [57:17<3:11:18, 12.34s/it]"
     ]
    },
    {
     "name": "stdout",
     "output_type": "stream",
     "text": [
      "Collected 256 tweets at 2020-11-07.\n",
      "Running twitter query: \"(#covid) lang:en until:2020-11-09 since:2020-11-08\"\n"
     ]
    },
    {
     "name": "stderr",
     "output_type": "stream",
     "text": [
      "\r",
      " 23%|█████████████████▍                                                           | 272/1201 [57:30<3:11:29, 12.37s/it]"
     ]
    },
    {
     "name": "stdout",
     "output_type": "stream",
     "text": [
      "Collected 256 tweets at 2020-11-08.\n",
      "Running twitter query: \"(#covid) lang:en until:2020-11-10 since:2020-11-09\"\n"
     ]
    },
    {
     "name": "stderr",
     "output_type": "stream",
     "text": [
      "\r",
      " 23%|█████████████████▌                                                           | 273/1201 [57:41<3:08:55, 12.22s/it]"
     ]
    },
    {
     "name": "stdout",
     "output_type": "stream",
     "text": [
      "Collected 256 tweets at 2020-11-09.\n",
      "Running twitter query: \"(#covid) lang:en until:2020-11-11 since:2020-11-10\"\n"
     ]
    },
    {
     "name": "stderr",
     "output_type": "stream",
     "text": [
      "\r",
      " 23%|█████████████████▌                                                           | 274/1201 [57:53<3:07:52, 12.16s/it]"
     ]
    },
    {
     "name": "stdout",
     "output_type": "stream",
     "text": [
      "Collected 256 tweets at 2020-11-10.\n",
      "Running twitter query: \"(#covid) lang:en until:2020-11-12 since:2020-11-11\"\n"
     ]
    },
    {
     "name": "stderr",
     "output_type": "stream",
     "text": [
      "Unavailable user in card on tweet 1326675559389274113\n",
      "User 1283575576398229504 not found in user refs in card on tweet 1326675559389274113\n",
      " 23%|█████████████████▋                                                           | 275/1201 [58:05<3:06:01, 12.05s/it]"
     ]
    },
    {
     "name": "stdout",
     "output_type": "stream",
     "text": [
      "Collected 256 tweets at 2020-11-11.\n",
      "Running twitter query: \"(#covid) lang:en until:2020-11-13 since:2020-11-12\"\n"
     ]
    },
    {
     "name": "stderr",
     "output_type": "stream",
     "text": [
      "\r",
      " 23%|█████████████████▋                                                           | 276/1201 [58:17<3:02:46, 11.86s/it]"
     ]
    },
    {
     "name": "stdout",
     "output_type": "stream",
     "text": [
      "Collected 256 tweets at 2020-11-12.\n",
      "Running twitter query: \"(#covid) lang:en until:2020-11-14 since:2020-11-13\"\n"
     ]
    },
    {
     "name": "stderr",
     "output_type": "stream",
     "text": [
      "\r",
      " 23%|█████████████████▊                                                           | 277/1201 [58:31<3:12:12, 12.48s/it]"
     ]
    },
    {
     "name": "stdout",
     "output_type": "stream",
     "text": [
      "Collected 256 tweets at 2020-11-13.\n",
      "Running twitter query: \"(#covid) lang:en until:2020-11-15 since:2020-11-14\"\n"
     ]
    },
    {
     "name": "stderr",
     "output_type": "stream",
     "text": [
      "\r",
      " 23%|█████████████████▊                                                           | 278/1201 [58:43<3:13:17, 12.57s/it]"
     ]
    },
    {
     "name": "stdout",
     "output_type": "stream",
     "text": [
      "Collected 256 tweets at 2020-11-14.\n",
      "Running twitter query: \"(#covid) lang:en until:2020-11-16 since:2020-11-15\"\n"
     ]
    },
    {
     "name": "stderr",
     "output_type": "stream",
     "text": [
      "\r",
      " 23%|█████████████████▉                                                           | 279/1201 [58:56<3:14:03, 12.63s/it]"
     ]
    },
    {
     "name": "stdout",
     "output_type": "stream",
     "text": [
      "Collected 256 tweets at 2020-11-15.\n",
      "Running twitter query: \"(#covid) lang:en until:2020-11-17 since:2020-11-16\"\n"
     ]
    },
    {
     "name": "stderr",
     "output_type": "stream",
     "text": [
      "\r",
      " 23%|█████████████████▉                                                           | 280/1201 [59:09<3:14:05, 12.64s/it]"
     ]
    },
    {
     "name": "stdout",
     "output_type": "stream",
     "text": [
      "Collected 256 tweets at 2020-11-16.\n",
      "Running twitter query: \"(#covid) lang:en until:2020-11-18 since:2020-11-17\"\n"
     ]
    },
    {
     "name": "stderr",
     "output_type": "stream",
     "text": [
      "\r",
      " 23%|██████████████████                                                           | 281/1201 [59:20<3:09:25, 12.35s/it]"
     ]
    },
    {
     "name": "stdout",
     "output_type": "stream",
     "text": [
      "Collected 256 tweets at 2020-11-17.\n",
      "Running twitter query: \"(#covid) lang:en until:2020-11-19 since:2020-11-18\"\n"
     ]
    },
    {
     "name": "stderr",
     "output_type": "stream",
     "text": [
      "\r",
      " 23%|██████████████████                                                           | 282/1201 [59:34<3:12:18, 12.56s/it]"
     ]
    },
    {
     "name": "stdout",
     "output_type": "stream",
     "text": [
      "Collected 256 tweets at 2020-11-18.\n",
      "Running twitter query: \"(#covid) lang:en until:2020-11-20 since:2020-11-19\"\n"
     ]
    },
    {
     "name": "stderr",
     "output_type": "stream",
     "text": [
      "\r",
      " 24%|██████████████████▏                                                          | 283/1201 [59:47<3:17:51, 12.93s/it]"
     ]
    },
    {
     "name": "stdout",
     "output_type": "stream",
     "text": [
      "Collected 256 tweets at 2020-11-19.\n",
      "Running twitter query: \"(#covid) lang:en until:2020-11-21 since:2020-11-20\"\n"
     ]
    },
    {
     "name": "stderr",
     "output_type": "stream",
     "text": [
      "\r",
      " 24%|█████████████████▋                                                         | 284/1201 [1:00:01<3:20:35, 13.13s/it]"
     ]
    },
    {
     "name": "stdout",
     "output_type": "stream",
     "text": [
      "Collected 256 tweets at 2020-11-20.\n",
      "Running twitter query: \"(#covid) lang:en until:2020-11-22 since:2020-11-21\"\n"
     ]
    },
    {
     "name": "stderr",
     "output_type": "stream",
     "text": [
      "\r",
      " 24%|█████████████████▊                                                         | 285/1201 [1:00:15<3:25:09, 13.44s/it]"
     ]
    },
    {
     "name": "stdout",
     "output_type": "stream",
     "text": [
      "Collected 256 tweets at 2020-11-21.\n",
      "Running twitter query: \"(#covid) lang:en until:2020-11-23 since:2020-11-22\"\n"
     ]
    },
    {
     "name": "stderr",
     "output_type": "stream",
     "text": [
      "\r",
      " 24%|█████████████████▊                                                         | 286/1201 [1:00:29<3:25:39, 13.49s/it]"
     ]
    },
    {
     "name": "stdout",
     "output_type": "stream",
     "text": [
      "Collected 256 tweets at 2020-11-22.\n",
      "Running twitter query: \"(#covid) lang:en until:2020-11-24 since:2020-11-23\"\n"
     ]
    },
    {
     "name": "stderr",
     "output_type": "stream",
     "text": [
      "\r",
      " 24%|█████████████████▉                                                         | 287/1201 [1:00:42<3:22:44, 13.31s/it]"
     ]
    },
    {
     "name": "stdout",
     "output_type": "stream",
     "text": [
      "Collected 256 tweets at 2020-11-23.\n",
      "Running twitter query: \"(#covid) lang:en until:2020-11-25 since:2020-11-24\"\n"
     ]
    },
    {
     "name": "stderr",
     "output_type": "stream",
     "text": [
      "\r",
      " 24%|█████████████████▉                                                         | 288/1201 [1:00:55<3:24:26, 13.44s/it]"
     ]
    },
    {
     "name": "stdout",
     "output_type": "stream",
     "text": [
      "Collected 256 tweets at 2020-11-24.\n",
      "Running twitter query: \"(#covid) lang:en until:2020-11-26 since:2020-11-25\"\n"
     ]
    },
    {
     "name": "stderr",
     "output_type": "stream",
     "text": [
      "Unavailable user in card on tweet 1331741885707280385\n",
      "User 14204245 not found in user refs in card on tweet 1331741885707280385\n",
      "Unavailable user in card on tweet 1331740712644321283\n",
      "User 28019971 not found in user refs in card on tweet 1331740712644321283\n",
      " 24%|██████████████████                                                         | 289/1201 [1:01:11<3:35:06, 14.15s/it]"
     ]
    },
    {
     "name": "stdout",
     "output_type": "stream",
     "text": [
      "Collected 256 tweets at 2020-11-25.\n",
      "Running twitter query: \"(#covid) lang:en until:2020-11-27 since:2020-11-26\"\n"
     ]
    },
    {
     "name": "stderr",
     "output_type": "stream",
     "text": [
      "\r",
      " 24%|██████████████████                                                         | 290/1201 [1:01:25<3:33:35, 14.07s/it]"
     ]
    },
    {
     "name": "stdout",
     "output_type": "stream",
     "text": [
      "Collected 256 tweets at 2020-11-26.\n",
      "Running twitter query: \"(#covid) lang:en until:2020-11-28 since:2020-11-27\"\n"
     ]
    },
    {
     "name": "stderr",
     "output_type": "stream",
     "text": [
      "\r",
      " 24%|██████████████████▏                                                        | 291/1201 [1:01:39<3:33:50, 14.10s/it]"
     ]
    },
    {
     "name": "stdout",
     "output_type": "stream",
     "text": [
      "Collected 256 tweets at 2020-11-27.\n",
      "Running twitter query: \"(#covid) lang:en until:2020-11-29 since:2020-11-28\"\n"
     ]
    },
    {
     "name": "stderr",
     "output_type": "stream",
     "text": [
      "\r",
      " 24%|██████████████████▏                                                        | 292/1201 [1:01:53<3:32:07, 14.00s/it]"
     ]
    },
    {
     "name": "stdout",
     "output_type": "stream",
     "text": [
      "Collected 256 tweets at 2020-11-28.\n",
      "Running twitter query: \"(#covid) lang:en until:2020-11-30 since:2020-11-29\"\n"
     ]
    },
    {
     "name": "stderr",
     "output_type": "stream",
     "text": [
      "\r",
      " 24%|██████████████████▎                                                        | 293/1201 [1:02:08<3:36:08, 14.28s/it]"
     ]
    },
    {
     "name": "stdout",
     "output_type": "stream",
     "text": [
      "Collected 256 tweets at 2020-11-29.\n",
      "Running twitter query: \"(#covid) lang:en until:2020-12-01 since:2020-11-30\"\n"
     ]
    },
    {
     "name": "stderr",
     "output_type": "stream",
     "text": [
      "Unavailable user in card on tweet 1331024735057174528\n",
      "User 28550209 not found in user refs in card on tweet 1331024735057174528\n",
      " 24%|██████████████████▎                                                        | 294/1201 [1:02:23<3:41:04, 14.63s/it]"
     ]
    },
    {
     "name": "stdout",
     "output_type": "stream",
     "text": [
      "Collected 256 tweets at 2020-11-30.\n",
      "Saving 7680 tweets at 2020-11.\n",
      "Running twitter query: \"(#covid) lang:en until:2020-12-02 since:2020-12-01\"\n"
     ]
    },
    {
     "name": "stderr",
     "output_type": "stream",
     "text": [
      "\r",
      " 25%|██████████████████▍                                                        | 295/1201 [1:02:35<3:29:13, 13.86s/it]"
     ]
    },
    {
     "name": "stdout",
     "output_type": "stream",
     "text": [
      "Collected 256 tweets at 2020-12-01.\n",
      "Running twitter query: \"(#covid) lang:en until:2020-12-03 since:2020-12-02\"\n"
     ]
    },
    {
     "name": "stderr",
     "output_type": "stream",
     "text": [
      "\r",
      " 25%|██████████████████▍                                                        | 296/1201 [1:02:47<3:19:02, 13.20s/it]"
     ]
    },
    {
     "name": "stdout",
     "output_type": "stream",
     "text": [
      "Collected 256 tweets at 2020-12-02.\n",
      "Running twitter query: \"(#covid) lang:en until:2020-12-04 since:2020-12-03\"\n"
     ]
    },
    {
     "name": "stderr",
     "output_type": "stream",
     "text": [
      "\r",
      " 25%|██████████████████▌                                                        | 297/1201 [1:02:59<3:13:44, 12.86s/it]"
     ]
    },
    {
     "name": "stdout",
     "output_type": "stream",
     "text": [
      "Collected 256 tweets at 2020-12-03.\n",
      "Running twitter query: \"(#covid) lang:en until:2020-12-05 since:2020-12-04\"\n"
     ]
    },
    {
     "name": "stderr",
     "output_type": "stream",
     "text": [
      "\r",
      " 25%|██████████████████▌                                                        | 298/1201 [1:03:11<3:09:25, 12.59s/it]"
     ]
    },
    {
     "name": "stdout",
     "output_type": "stream",
     "text": [
      "Collected 256 tweets at 2020-12-04.\n",
      "Running twitter query: \"(#covid) lang:en until:2020-12-06 since:2020-12-05\"\n"
     ]
    },
    {
     "name": "stderr",
     "output_type": "stream",
     "text": [
      "\r",
      " 25%|██████████████████▋                                                        | 299/1201 [1:03:23<3:04:08, 12.25s/it]"
     ]
    },
    {
     "name": "stdout",
     "output_type": "stream",
     "text": [
      "Collected 256 tweets at 2020-12-05.\n",
      "Running twitter query: \"(#covid) lang:en until:2020-12-07 since:2020-12-06\"\n"
     ]
    },
    {
     "name": "stderr",
     "output_type": "stream",
     "text": [
      "\r",
      " 25%|██████████████████▋                                                        | 300/1201 [1:03:36<3:09:11, 12.60s/it]"
     ]
    },
    {
     "name": "stdout",
     "output_type": "stream",
     "text": [
      "Collected 256 tweets at 2020-12-06.\n",
      "Running twitter query: \"(#covid) lang:en until:2020-12-08 since:2020-12-07\"\n"
     ]
    },
    {
     "name": "stderr",
     "output_type": "stream",
     "text": [
      "\r",
      " 25%|██████████████████▊                                                        | 301/1201 [1:03:48<3:08:07, 12.54s/it]"
     ]
    },
    {
     "name": "stdout",
     "output_type": "stream",
     "text": [
      "Collected 256 tweets at 2020-12-07.\n",
      "Running twitter query: \"(#covid) lang:en until:2020-12-09 since:2020-12-08\"\n"
     ]
    },
    {
     "name": "stderr",
     "output_type": "stream",
     "text": [
      "\r",
      " 25%|██████████████████▊                                                        | 302/1201 [1:04:00<3:05:02, 12.35s/it]"
     ]
    },
    {
     "name": "stdout",
     "output_type": "stream",
     "text": [
      "Collected 256 tweets at 2020-12-08.\n",
      "Running twitter query: \"(#covid) lang:en until:2020-12-10 since:2020-12-09\"\n"
     ]
    },
    {
     "name": "stderr",
     "output_type": "stream",
     "text": [
      "\r",
      " 25%|██████████████████▉                                                        | 303/1201 [1:04:12<3:03:03, 12.23s/it]"
     ]
    },
    {
     "name": "stdout",
     "output_type": "stream",
     "text": [
      "Collected 256 tweets at 2020-12-09.\n",
      "Running twitter query: \"(#covid) lang:en until:2020-12-11 since:2020-12-10\"\n"
     ]
    },
    {
     "name": "stderr",
     "output_type": "stream",
     "text": [
      "\r",
      " 25%|██████████████████▉                                                        | 304/1201 [1:04:25<3:07:18, 12.53s/it]"
     ]
    },
    {
     "name": "stdout",
     "output_type": "stream",
     "text": [
      "Collected 256 tweets at 2020-12-10.\n",
      "Running twitter query: \"(#covid) lang:en until:2020-12-12 since:2020-12-11\"\n"
     ]
    },
    {
     "name": "stderr",
     "output_type": "stream",
     "text": [
      "Unavailable user in card on tweet 1337541431217491968\n",
      "User 1592855252763656192 not found in user refs in card on tweet 1337541431217491968\n",
      " 25%|███████████████████                                                        | 305/1201 [1:04:39<3:12:56, 12.92s/it]"
     ]
    },
    {
     "name": "stdout",
     "output_type": "stream",
     "text": [
      "Collected 256 tweets at 2020-12-11.\n",
      "Running twitter query: \"(#covid) lang:en until:2020-12-13 since:2020-12-12\"\n"
     ]
    },
    {
     "name": "stderr",
     "output_type": "stream",
     "text": [
      "\r",
      " 25%|███████████████████                                                        | 306/1201 [1:04:52<3:13:19, 12.96s/it]"
     ]
    },
    {
     "name": "stdout",
     "output_type": "stream",
     "text": [
      "Collected 256 tweets at 2020-12-12.\n",
      "Running twitter query: \"(#covid) lang:en until:2020-12-14 since:2020-12-13\"\n"
     ]
    },
    {
     "name": "stderr",
     "output_type": "stream",
     "text": [
      "\r",
      " 26%|███████████████████▏                                                       | 307/1201 [1:05:06<3:14:53, 13.08s/it]"
     ]
    },
    {
     "name": "stdout",
     "output_type": "stream",
     "text": [
      "Collected 256 tweets at 2020-12-13.\n",
      "Running twitter query: \"(#covid) lang:en until:2020-12-15 since:2020-12-14\"\n"
     ]
    },
    {
     "name": "stderr",
     "output_type": "stream",
     "text": [
      "\r",
      " 26%|███████████████████▏                                                       | 308/1201 [1:05:18<3:12:53, 12.96s/it]"
     ]
    },
    {
     "name": "stdout",
     "output_type": "stream",
     "text": [
      "Collected 256 tweets at 2020-12-14.\n",
      "Running twitter query: \"(#covid) lang:en until:2020-12-16 since:2020-12-15\"\n"
     ]
    },
    {
     "name": "stderr",
     "output_type": "stream",
     "text": [
      "\r",
      " 26%|███████████████████▎                                                       | 309/1201 [1:05:32<3:15:05, 13.12s/it]"
     ]
    },
    {
     "name": "stdout",
     "output_type": "stream",
     "text": [
      "Collected 256 tweets at 2020-12-15.\n",
      "Running twitter query: \"(#covid) lang:en until:2020-12-17 since:2020-12-16\"\n"
     ]
    },
    {
     "name": "stderr",
     "output_type": "stream",
     "text": [
      "\r",
      " 26%|███████████████████▎                                                       | 310/1201 [1:05:44<3:12:05, 12.94s/it]"
     ]
    },
    {
     "name": "stdout",
     "output_type": "stream",
     "text": [
      "Collected 256 tweets at 2020-12-16.\n",
      "Running twitter query: \"(#covid) lang:en until:2020-12-18 since:2020-12-17\"\n"
     ]
    },
    {
     "name": "stderr",
     "output_type": "stream",
     "text": [
      "\r",
      " 26%|███████████████████▍                                                       | 311/1201 [1:06:00<3:25:03, 13.82s/it]"
     ]
    },
    {
     "name": "stdout",
     "output_type": "stream",
     "text": [
      "Collected 256 tweets at 2020-12-17.\n",
      "Running twitter query: \"(#covid) lang:en until:2020-12-19 since:2020-12-18\"\n"
     ]
    },
    {
     "name": "stderr",
     "output_type": "stream",
     "text": [
      "\r",
      " 26%|███████████████████▍                                                       | 312/1201 [1:06:16<3:34:30, 14.48s/it]"
     ]
    },
    {
     "name": "stdout",
     "output_type": "stream",
     "text": [
      "Collected 256 tweets at 2020-12-18.\n",
      "Running twitter query: \"(#covid) lang:en until:2020-12-20 since:2020-12-19\"\n"
     ]
    },
    {
     "name": "stderr",
     "output_type": "stream",
     "text": [
      "Unavailable user in card on tweet 1340442591133917185\n",
      "User 27073265 not found in user refs in card on tweet 1340442591133917185\n",
      " 26%|███████████████████▌                                                       | 313/1201 [1:06:30<3:30:58, 14.26s/it]"
     ]
    },
    {
     "name": "stdout",
     "output_type": "stream",
     "text": [
      "Collected 256 tweets at 2020-12-19.\n",
      "Running twitter query: \"(#covid) lang:en until:2020-12-21 since:2020-12-20\"\n"
     ]
    },
    {
     "name": "stderr",
     "output_type": "stream",
     "text": [
      "\r",
      " 26%|███████████████████▌                                                       | 314/1201 [1:06:43<3:23:57, 13.80s/it]"
     ]
    },
    {
     "name": "stdout",
     "output_type": "stream",
     "text": [
      "Collected 256 tweets at 2020-12-20.\n",
      "Running twitter query: \"(#covid) lang:en until:2020-12-22 since:2020-12-21\"\n"
     ]
    },
    {
     "name": "stderr",
     "output_type": "stream",
     "text": [
      "Unavailable user in card on tweet 1341167100849778690\n",
      "Unavailable user in card on tweet 1341167100849778690\n",
      "User 1581757821451874304 not found in user refs in card on tweet 1341167100849778690\n",
      "User 1581757821451874304 not found in user refs in card on tweet 1341167100849778690\n",
      " 26%|███████████████████▋                                                       | 315/1201 [1:06:57<3:24:30, 13.85s/it]"
     ]
    },
    {
     "name": "stdout",
     "output_type": "stream",
     "text": [
      "Collected 256 tweets at 2020-12-21.\n",
      "Running twitter query: \"(#covid) lang:en until:2020-12-23 since:2020-12-22\"\n"
     ]
    },
    {
     "name": "stderr",
     "output_type": "stream",
     "text": [
      "\r",
      " 26%|███████████████████▋                                                       | 316/1201 [1:07:11<3:27:54, 14.10s/it]"
     ]
    },
    {
     "name": "stdout",
     "output_type": "stream",
     "text": [
      "Collected 256 tweets at 2020-12-22.\n",
      "Running twitter query: \"(#covid) lang:en until:2020-12-24 since:2020-12-23\"\n"
     ]
    },
    {
     "name": "stderr",
     "output_type": "stream",
     "text": [
      "\r",
      " 26%|███████████████████▊                                                       | 317/1201 [1:07:26<3:28:20, 14.14s/it]"
     ]
    },
    {
     "name": "stdout",
     "output_type": "stream",
     "text": [
      "Collected 256 tweets at 2020-12-23.\n",
      "Running twitter query: \"(#covid) lang:en until:2020-12-25 since:2020-12-24\"\n"
     ]
    },
    {
     "name": "stderr",
     "output_type": "stream",
     "text": [
      "\r",
      " 26%|███████████████████▊                                                       | 318/1201 [1:07:42<3:37:02, 14.75s/it]"
     ]
    },
    {
     "name": "stdout",
     "output_type": "stream",
     "text": [
      "Collected 256 tweets at 2020-12-24.\n",
      "Running twitter query: \"(#covid) lang:en until:2020-12-26 since:2020-12-25\"\n"
     ]
    },
    {
     "name": "stderr",
     "output_type": "stream",
     "text": [
      "\r",
      " 27%|███████████████████▉                                                       | 319/1201 [1:07:58<3:41:39, 15.08s/it]"
     ]
    },
    {
     "name": "stdout",
     "output_type": "stream",
     "text": [
      "Collected 256 tweets at 2020-12-25.\n",
      "Running twitter query: \"(#covid) lang:en until:2020-12-27 since:2020-12-26\"\n"
     ]
    },
    {
     "name": "stderr",
     "output_type": "stream",
     "text": [
      "Unavailable user in card on tweet 1342981861543464960\n",
      "User 1627875957989076993 not found in user refs in card on tweet 1342981861543464960\n",
      "Unavailable user in card on tweet 1342981451189465088\n",
      "User 1627875957989076993 not found in user refs in card on tweet 1342981451189465088\n",
      "Unavailable user in card on tweet 1342981159492399104\n",
      "User 1627875957989076993 not found in user refs in card on tweet 1342981159492399104\n",
      "Unavailable user in card on tweet 1342980132886163456\n",
      "User 1627875957989076993 not found in user refs in card on tweet 1342980132886163456\n",
      "Unavailable user in card on tweet 1342978927036411907\n",
      "User 1627875957989076993 not found in user refs in card on tweet 1342978927036411907\n",
      "Unavailable user in card on tweet 1342978648090009601\n",
      "User 1627875957989076993 not found in user refs in card on tweet 1342978648090009601\n",
      "Unavailable user in card on tweet 1342978320871419907\n",
      "User 1627875957989076993 not found in user refs in card on tweet 1342978320871419907\n",
      "Unavailable user in card on tweet 1342978042021490688\n",
      "User 1627875957989076993 not found in user refs in card on tweet 1342978042021490688\n",
      "Unavailable user in card on tweet 1342977655877103617\n",
      "User 1627875957989076993 not found in user refs in card on tweet 1342977655877103617\n",
      " 27%|███████████████████▉                                                       | 320/1201 [1:08:13<3:41:09, 15.06s/it]"
     ]
    },
    {
     "name": "stdout",
     "output_type": "stream",
     "text": [
      "Collected 256 tweets at 2020-12-26.\n",
      "Running twitter query: \"(#covid) lang:en until:2020-12-28 since:2020-12-27\"\n"
     ]
    },
    {
     "name": "stderr",
     "output_type": "stream",
     "text": [
      "Unavailable user in card on tweet 1343340896268509185\n",
      "User 1592855252763656192 not found in user refs in card on tweet 1343340896268509185\n",
      " 27%|████████████████████                                                       | 321/1201 [1:08:29<3:46:34, 15.45s/it]"
     ]
    },
    {
     "name": "stdout",
     "output_type": "stream",
     "text": [
      "Collected 256 tweets at 2020-12-27.\n",
      "Running twitter query: \"(#covid) lang:en until:2020-12-29 since:2020-12-28\"\n"
     ]
    },
    {
     "name": "stderr",
     "output_type": "stream",
     "text": [
      "\r",
      " 27%|████████████████████                                                       | 322/1201 [1:08:44<3:42:43, 15.20s/it]"
     ]
    },
    {
     "name": "stdout",
     "output_type": "stream",
     "text": [
      "Collected 256 tweets at 2020-12-28.\n",
      "Running twitter query: \"(#covid) lang:en until:2020-12-30 since:2020-12-29\"\n"
     ]
    },
    {
     "name": "stderr",
     "output_type": "stream",
     "text": [
      "\r",
      " 27%|████████████████████▏                                                      | 323/1201 [1:09:02<3:56:46, 16.18s/it]"
     ]
    },
    {
     "name": "stdout",
     "output_type": "stream",
     "text": [
      "Collected 256 tweets at 2020-12-29.\n",
      "Running twitter query: \"(#covid) lang:en until:2020-12-31 since:2020-12-30\"\n"
     ]
    },
    {
     "name": "stderr",
     "output_type": "stream",
     "text": [
      "\r",
      " 27%|████████████████████▏                                                      | 324/1201 [1:09:19<3:59:11, 16.36s/it]"
     ]
    },
    {
     "name": "stdout",
     "output_type": "stream",
     "text": [
      "Collected 256 tweets at 2020-12-30.\n",
      "Running twitter query: \"(#covid) lang:en until:2021-01-01 since:2020-12-31\"\n"
     ]
    },
    {
     "name": "stderr",
     "output_type": "stream",
     "text": [
      "\r",
      " 27%|████████████████████▎                                                      | 325/1201 [1:09:36<4:00:25, 16.47s/it]"
     ]
    },
    {
     "name": "stdout",
     "output_type": "stream",
     "text": [
      "Collected 256 tweets at 2020-12-31.\n",
      "Saving 7936 tweets at 2020-12.\n",
      "Running twitter query: \"(#covid) lang:en until:2021-01-02 since:2021-01-01\"\n"
     ]
    },
    {
     "name": "stderr",
     "output_type": "stream",
     "text": [
      "Unavailable user in card on tweet 1345155571805278208\n",
      "User 1366067792 not found in user refs in card on tweet 1345155571805278208\n",
      " 27%|████████████████████▎                                                      | 326/1201 [1:09:49<3:45:00, 15.43s/it]"
     ]
    },
    {
     "name": "stdout",
     "output_type": "stream",
     "text": [
      "Collected 256 tweets at 2021-01-01.\n",
      "Running twitter query: \"(#covid) lang:en until:2021-01-03 since:2021-01-02\"\n"
     ]
    },
    {
     "name": "stderr",
     "output_type": "stream",
     "text": [
      "\r",
      " 27%|████████████████████▍                                                      | 327/1201 [1:10:01<3:31:50, 14.54s/it]"
     ]
    },
    {
     "name": "stdout",
     "output_type": "stream",
     "text": [
      "Collected 256 tweets at 2021-01-02.\n",
      "Running twitter query: \"(#covid) lang:en until:2021-01-04 since:2021-01-03\"\n"
     ]
    },
    {
     "name": "stderr",
     "output_type": "stream",
     "text": [
      "\r",
      " 27%|████████████████████▍                                                      | 328/1201 [1:10:14<3:25:13, 14.10s/it]"
     ]
    },
    {
     "name": "stdout",
     "output_type": "stream",
     "text": [
      "Collected 256 tweets at 2021-01-03.\n",
      "Running twitter query: \"(#covid) lang:en until:2021-01-05 since:2021-01-04\"\n"
     ]
    },
    {
     "name": "stderr",
     "output_type": "stream",
     "text": [
      "\r",
      " 27%|████████████████████▌                                                      | 329/1201 [1:10:25<3:08:46, 12.99s/it]"
     ]
    },
    {
     "name": "stdout",
     "output_type": "stream",
     "text": [
      "Collected 256 tweets at 2021-01-04.\n",
      "Running twitter query: \"(#covid) lang:en until:2021-01-06 since:2021-01-05\"\n"
     ]
    },
    {
     "name": "stderr",
     "output_type": "stream",
     "text": [
      "Empty user ref object in card on tweet 1346602573709524993\n",
      "User 3386716163 not found in user refs in card on tweet 1346602573709524993\n",
      " 27%|████████████████████▌                                                      | 330/1201 [1:10:36<3:01:23, 12.50s/it]"
     ]
    },
    {
     "name": "stdout",
     "output_type": "stream",
     "text": [
      "Collected 256 tweets at 2021-01-05.\n",
      "Running twitter query: \"(#covid) lang:en until:2021-01-07 since:2021-01-06\"\n"
     ]
    },
    {
     "name": "stderr",
     "output_type": "stream",
     "text": [
      "\r",
      " 28%|████████████████████▋                                                      | 331/1201 [1:10:48<2:58:17, 12.30s/it]"
     ]
    },
    {
     "name": "stdout",
     "output_type": "stream",
     "text": [
      "Collected 256 tweets at 2021-01-06.\n",
      "Running twitter query: \"(#covid) lang:en until:2021-01-08 since:2021-01-07\"\n"
     ]
    },
    {
     "name": "stderr",
     "output_type": "stream",
     "text": [
      "\r",
      " 28%|████████████████████▋                                                      | 332/1201 [1:11:00<2:58:29, 12.32s/it]"
     ]
    },
    {
     "name": "stdout",
     "output_type": "stream",
     "text": [
      "Collected 256 tweets at 2021-01-07.\n",
      "Running twitter query: \"(#covid) lang:en until:2021-01-09 since:2021-01-08\"\n"
     ]
    },
    {
     "name": "stderr",
     "output_type": "stream",
     "text": [
      "\r",
      " 28%|████████████████████▊                                                      | 333/1201 [1:11:12<2:54:37, 12.07s/it]"
     ]
    },
    {
     "name": "stdout",
     "output_type": "stream",
     "text": [
      "Collected 256 tweets at 2021-01-08.\n",
      "Running twitter query: \"(#covid) lang:en until:2021-01-10 since:2021-01-09\"\n"
     ]
    },
    {
     "name": "stderr",
     "output_type": "stream",
     "text": [
      "\r",
      " 28%|████████████████████▊                                                      | 334/1201 [1:11:26<3:05:38, 12.85s/it]"
     ]
    },
    {
     "name": "stdout",
     "output_type": "stream",
     "text": [
      "Collected 256 tweets at 2021-01-09.\n",
      "Running twitter query: \"(#covid) lang:en until:2021-01-11 since:2021-01-10\"\n"
     ]
    },
    {
     "name": "stderr",
     "output_type": "stream",
     "text": [
      "Unavailable user in card on tweet 1348419228601262082\n",
      "User 3562471 not found in user refs in card on tweet 1348419228601262082\n",
      "Unavailable user in card on tweet 1348415582446755847\n",
      "User 1592855252763656192 not found in user refs in card on tweet 1348415582446755847\n",
      " 28%|████████████████████▉                                                      | 335/1201 [1:11:38<3:02:06, 12.62s/it]"
     ]
    },
    {
     "name": "stdout",
     "output_type": "stream",
     "text": [
      "Collected 256 tweets at 2021-01-10.\n",
      "Running twitter query: \"(#covid) lang:en until:2021-01-12 since:2021-01-11\"\n"
     ]
    },
    {
     "name": "stderr",
     "output_type": "stream",
     "text": [
      "\r",
      " 28%|████████████████████▉                                                      | 336/1201 [1:11:51<3:01:47, 12.61s/it]"
     ]
    },
    {
     "name": "stdout",
     "output_type": "stream",
     "text": [
      "Collected 256 tweets at 2021-01-11.\n",
      "Running twitter query: \"(#covid) lang:en until:2021-01-13 since:2021-01-12\"\n"
     ]
    },
    {
     "name": "stderr",
     "output_type": "stream",
     "text": [
      "\r",
      " 28%|█████████████████████                                                      | 337/1201 [1:12:04<3:02:46, 12.69s/it]"
     ]
    },
    {
     "name": "stdout",
     "output_type": "stream",
     "text": [
      "Collected 256 tweets at 2021-01-12.\n",
      "Running twitter query: \"(#covid) lang:en until:2021-01-14 since:2021-01-13\"\n"
     ]
    },
    {
     "name": "stderr",
     "output_type": "stream",
     "text": [
      "\r",
      " 28%|█████████████████████                                                      | 338/1201 [1:12:17<3:06:02, 12.93s/it]"
     ]
    },
    {
     "name": "stdout",
     "output_type": "stream",
     "text": [
      "Collected 256 tweets at 2021-01-13.\n",
      "Running twitter query: \"(#covid) lang:en until:2021-01-15 since:2021-01-14\"\n"
     ]
    },
    {
     "name": "stderr",
     "output_type": "stream",
     "text": [
      "\r",
      " 28%|█████████████████████▏                                                     | 339/1201 [1:12:31<3:08:19, 13.11s/it]"
     ]
    },
    {
     "name": "stdout",
     "output_type": "stream",
     "text": [
      "Collected 256 tweets at 2021-01-14.\n",
      "Running twitter query: \"(#covid) lang:en until:2021-01-16 since:2021-01-15\"\n"
     ]
    },
    {
     "name": "stderr",
     "output_type": "stream",
     "text": [
      "\r",
      " 28%|█████████████████████▏                                                     | 340/1201 [1:12:44<3:08:59, 13.17s/it]"
     ]
    },
    {
     "name": "stdout",
     "output_type": "stream",
     "text": [
      "Collected 256 tweets at 2021-01-15.\n",
      "Running twitter query: \"(#covid) lang:en until:2021-01-17 since:2021-01-16\"\n"
     ]
    },
    {
     "name": "stderr",
     "output_type": "stream",
     "text": [
      "\r",
      " 28%|█████████████████████▎                                                     | 341/1201 [1:12:58<3:10:11, 13.27s/it]"
     ]
    },
    {
     "name": "stdout",
     "output_type": "stream",
     "text": [
      "Collected 256 tweets at 2021-01-16.\n",
      "Running twitter query: \"(#covid) lang:en until:2021-01-18 since:2021-01-17\"\n"
     ]
    },
    {
     "name": "stderr",
     "output_type": "stream",
     "text": [
      "Unavailable user in card on tweet 1350950714047131650\n",
      "User 27073265 not found in user refs in card on tweet 1350950714047131650\n",
      " 28%|█████████████████████▎                                                     | 342/1201 [1:13:12<3:16:10, 13.70s/it]"
     ]
    },
    {
     "name": "stdout",
     "output_type": "stream",
     "text": [
      "Collected 256 tweets at 2021-01-17.\n",
      "Running twitter query: \"(#covid) lang:en until:2021-01-19 since:2021-01-18\"\n"
     ]
    },
    {
     "name": "stderr",
     "output_type": "stream",
     "text": [
      "\r",
      " 29%|█████████████████████▍                                                     | 343/1201 [1:13:26<3:14:20, 13.59s/it]"
     ]
    },
    {
     "name": "stdout",
     "output_type": "stream",
     "text": [
      "Collected 256 tweets at 2021-01-18.\n",
      "Running twitter query: \"(#covid) lang:en until:2021-01-20 since:2021-01-19\"\n"
     ]
    },
    {
     "name": "stderr",
     "output_type": "stream",
     "text": [
      "\r",
      " 29%|█████████████████████▍                                                     | 344/1201 [1:13:40<3:16:06, 13.73s/it]"
     ]
    },
    {
     "name": "stdout",
     "output_type": "stream",
     "text": [
      "Collected 256 tweets at 2021-01-19.\n",
      "Running twitter query: \"(#covid) lang:en until:2021-01-21 since:2021-01-20\"\n"
     ]
    },
    {
     "name": "stderr",
     "output_type": "stream",
     "text": [
      "\r",
      " 29%|█████████████████████▌                                                     | 345/1201 [1:13:55<3:22:21, 14.18s/it]"
     ]
    },
    {
     "name": "stdout",
     "output_type": "stream",
     "text": [
      "Collected 256 tweets at 2021-01-20.\n",
      "Running twitter query: \"(#covid) lang:en until:2021-01-22 since:2021-01-21\"\n"
     ]
    },
    {
     "name": "stderr",
     "output_type": "stream",
     "text": [
      "Unavailable user in card on tweet 1352399333128335360\n",
      "User 14204245 not found in user refs in card on tweet 1352399333128335360\n",
      " 29%|█████████████████████▌                                                     | 346/1201 [1:14:09<3:21:31, 14.14s/it]"
     ]
    },
    {
     "name": "stdout",
     "output_type": "stream",
     "text": [
      "Collected 256 tweets at 2021-01-21.\n",
      "Running twitter query: \"(#covid) lang:en until:2021-01-23 since:2021-01-22\"\n"
     ]
    },
    {
     "name": "stderr",
     "output_type": "stream",
     "text": [
      "\r",
      " 29%|█████████████████████▋                                                     | 347/1201 [1:14:23<3:18:49, 13.97s/it]"
     ]
    },
    {
     "name": "stdout",
     "output_type": "stream",
     "text": [
      "Collected 256 tweets at 2021-01-22.\n",
      "Running twitter query: \"(#covid) lang:en until:2021-01-24 since:2021-01-23\"\n"
     ]
    },
    {
     "name": "stderr",
     "output_type": "stream",
     "text": [
      "\r",
      " 29%|█████████████████████▋                                                     | 348/1201 [1:14:35<3:13:43, 13.63s/it]"
     ]
    },
    {
     "name": "stdout",
     "output_type": "stream",
     "text": [
      "Collected 256 tweets at 2021-01-23.\n",
      "Running twitter query: \"(#covid) lang:en until:2021-01-25 since:2021-01-24\"\n"
     ]
    },
    {
     "name": "stderr",
     "output_type": "stream",
     "text": [
      "\r",
      " 29%|█████████████████████▊                                                     | 349/1201 [1:14:49<3:15:23, 13.76s/it]"
     ]
    },
    {
     "name": "stdout",
     "output_type": "stream",
     "text": [
      "Collected 256 tweets at 2021-01-24.\n",
      "Running twitter query: \"(#covid) lang:en until:2021-01-26 since:2021-01-25\"\n"
     ]
    },
    {
     "name": "stderr",
     "output_type": "stream",
     "text": [
      "Unavailable user in card on tweet 1353844387508150273\n",
      "User 28550209 not found in user refs in card on tweet 1353844387508150273\n",
      " 29%|█████████████████████▊                                                     | 350/1201 [1:15:03<3:15:40, 13.80s/it]"
     ]
    },
    {
     "name": "stdout",
     "output_type": "stream",
     "text": [
      "Collected 256 tweets at 2021-01-25.\n",
      "Running twitter query: \"(#covid) lang:en until:2021-01-27 since:2021-01-26\"\n"
     ]
    },
    {
     "name": "stderr",
     "output_type": "stream",
     "text": [
      "\r",
      " 29%|█████████████████████▉                                                     | 351/1201 [1:15:18<3:17:12, 13.92s/it]"
     ]
    },
    {
     "name": "stdout",
     "output_type": "stream",
     "text": [
      "Collected 256 tweets at 2021-01-26.\n",
      "Running twitter query: \"(#covid) lang:en until:2021-01-28 since:2021-01-27\"\n"
     ]
    },
    {
     "name": "stderr",
     "output_type": "stream",
     "text": [
      "\r",
      " 29%|█████████████████████▉                                                     | 352/1201 [1:15:32<3:21:17, 14.23s/it]"
     ]
    },
    {
     "name": "stdout",
     "output_type": "stream",
     "text": [
      "Collected 256 tweets at 2021-01-27.\n",
      "Running twitter query: \"(#covid) lang:en until:2021-01-29 since:2021-01-28\"\n"
     ]
    },
    {
     "name": "stderr",
     "output_type": "stream",
     "text": [
      "\r",
      " 29%|██████████████████████                                                     | 353/1201 [1:15:47<3:21:38, 14.27s/it]"
     ]
    },
    {
     "name": "stdout",
     "output_type": "stream",
     "text": [
      "Collected 256 tweets at 2021-01-28.\n",
      "Running twitter query: \"(#covid) lang:en until:2021-01-30 since:2021-01-29\"\n"
     ]
    },
    {
     "name": "stderr",
     "output_type": "stream",
     "text": [
      "\r",
      " 29%|██████████████████████                                                     | 354/1201 [1:16:02<3:23:17, 14.40s/it]"
     ]
    },
    {
     "name": "stdout",
     "output_type": "stream",
     "text": [
      "Collected 256 tweets at 2021-01-29.\n",
      "Running twitter query: \"(#covid) lang:en until:2021-01-31 since:2021-01-30\"\n"
     ]
    },
    {
     "name": "stderr",
     "output_type": "stream",
     "text": [
      "\r",
      " 30%|██████████████████████▏                                                    | 355/1201 [1:16:17<3:25:37, 14.58s/it]"
     ]
    },
    {
     "name": "stdout",
     "output_type": "stream",
     "text": [
      "Collected 256 tweets at 2021-01-30.\n",
      "Running twitter query: \"(#covid) lang:en until:2021-02-01 since:2021-01-31\"\n"
     ]
    },
    {
     "name": "stderr",
     "output_type": "stream",
     "text": [
      "\r",
      " 30%|██████████████████████▏                                                    | 356/1201 [1:16:32<3:28:46, 14.82s/it]"
     ]
    },
    {
     "name": "stdout",
     "output_type": "stream",
     "text": [
      "Collected 256 tweets at 2021-01-31.\n",
      "Saving 7936 tweets at 2021-01.\n",
      "Running twitter query: \"(#covid) lang:en until:2021-02-02 since:2021-02-01\"\n"
     ]
    },
    {
     "name": "stderr",
     "output_type": "stream",
     "text": [
      "\r",
      " 30%|██████████████████████▎                                                    | 357/1201 [1:16:46<3:26:13, 14.66s/it]"
     ]
    },
    {
     "name": "stdout",
     "output_type": "stream",
     "text": [
      "Collected 256 tweets at 2021-02-01.\n",
      "Running twitter query: \"(#covid) lang:en until:2021-02-03 since:2021-02-02\"\n"
     ]
    },
    {
     "name": "stderr",
     "output_type": "stream",
     "text": [
      "\r",
      " 30%|██████████████████████▎                                                    | 358/1201 [1:16:58<3:13:20, 13.76s/it]"
     ]
    },
    {
     "name": "stdout",
     "output_type": "stream",
     "text": [
      "Collected 256 tweets at 2021-02-02.\n",
      "Running twitter query: \"(#covid) lang:en until:2021-02-04 since:2021-02-03\"\n"
     ]
    },
    {
     "name": "stderr",
     "output_type": "stream",
     "text": [
      "\r",
      " 30%|██████████████████████▍                                                    | 359/1201 [1:17:10<3:07:05, 13.33s/it]"
     ]
    },
    {
     "name": "stdout",
     "output_type": "stream",
     "text": [
      "Collected 256 tweets at 2021-02-03.\n",
      "Running twitter query: \"(#covid) lang:en until:2021-02-05 since:2021-02-04\"\n"
     ]
    },
    {
     "name": "stderr",
     "output_type": "stream",
     "text": [
      "\r",
      " 30%|██████████████████████▍                                                    | 360/1201 [1:17:22<3:01:47, 12.97s/it]"
     ]
    },
    {
     "name": "stdout",
     "output_type": "stream",
     "text": [
      "Collected 256 tweets at 2021-02-04.\n",
      "Running twitter query: \"(#covid) lang:en until:2021-02-06 since:2021-02-05\"\n"
     ]
    },
    {
     "name": "stderr",
     "output_type": "stream",
     "text": [
      "\r",
      " 30%|██████████████████████▌                                                    | 361/1201 [1:17:34<2:57:21, 12.67s/it]"
     ]
    },
    {
     "name": "stdout",
     "output_type": "stream",
     "text": [
      "Collected 256 tweets at 2021-02-05.\n",
      "Running twitter query: \"(#covid) lang:en until:2021-02-07 since:2021-02-06\"\n"
     ]
    },
    {
     "name": "stderr",
     "output_type": "stream",
     "text": [
      "\r",
      " 30%|██████████████████████▌                                                    | 362/1201 [1:17:47<2:58:23, 12.76s/it]"
     ]
    },
    {
     "name": "stdout",
     "output_type": "stream",
     "text": [
      "Collected 256 tweets at 2021-02-06.\n",
      "Running twitter query: \"(#covid) lang:en until:2021-02-08 since:2021-02-07\"\n"
     ]
    },
    {
     "name": "stderr",
     "output_type": "stream",
     "text": [
      "\r",
      " 30%|██████████████████████▋                                                    | 363/1201 [1:17:59<2:52:12, 12.33s/it]"
     ]
    },
    {
     "name": "stdout",
     "output_type": "stream",
     "text": [
      "Collected 256 tweets at 2021-02-07.\n",
      "Running twitter query: \"(#covid) lang:en until:2021-02-09 since:2021-02-08\"\n"
     ]
    },
    {
     "name": "stderr",
     "output_type": "stream",
     "text": [
      "\r",
      " 30%|██████████████████████▋                                                    | 364/1201 [1:18:12<2:54:26, 12.50s/it]"
     ]
    },
    {
     "name": "stdout",
     "output_type": "stream",
     "text": [
      "Collected 256 tweets at 2021-02-08.\n",
      "Running twitter query: \"(#covid) lang:en until:2021-02-10 since:2021-02-09\"\n"
     ]
    },
    {
     "name": "stderr",
     "output_type": "stream",
     "text": [
      "\r",
      " 30%|██████████████████████▊                                                    | 365/1201 [1:18:24<2:55:11, 12.57s/it]"
     ]
    },
    {
     "name": "stdout",
     "output_type": "stream",
     "text": [
      "Collected 256 tweets at 2021-02-09.\n",
      "Running twitter query: \"(#covid) lang:en until:2021-02-11 since:2021-02-10\"\n"
     ]
    },
    {
     "name": "stderr",
     "output_type": "stream",
     "text": [
      "Unavailable user in card on tweet 1359638279453372418\n",
      "Unavailable user in card on tweet 1359638279453372418\n",
      "User 2446126290 not found in user refs in card on tweet 1359638279453372418\n",
      "User 2446126290 not found in user refs in card on tweet 1359638279453372418\n",
      " 30%|██████████████████████▊                                                    | 366/1201 [1:18:36<2:52:42, 12.41s/it]"
     ]
    },
    {
     "name": "stdout",
     "output_type": "stream",
     "text": [
      "Collected 256 tweets at 2021-02-10.\n",
      "Running twitter query: \"(#covid) lang:en until:2021-02-12 since:2021-02-11\"\n"
     ]
    },
    {
     "name": "stderr",
     "output_type": "stream",
     "text": [
      "\r",
      " 31%|██████████████████████▉                                                    | 367/1201 [1:18:49<2:53:20, 12.47s/it]"
     ]
    },
    {
     "name": "stdout",
     "output_type": "stream",
     "text": [
      "Collected 256 tweets at 2021-02-11.\n",
      "Running twitter query: \"(#covid) lang:en until:2021-02-13 since:2021-02-12\"\n"
     ]
    },
    {
     "name": "stderr",
     "output_type": "stream",
     "text": [
      "\r",
      " 31%|██████████████████████▉                                                    | 368/1201 [1:19:07<3:15:54, 14.11s/it]"
     ]
    },
    {
     "name": "stdout",
     "output_type": "stream",
     "text": [
      "Collected 256 tweets at 2021-02-12.\n",
      "Running twitter query: \"(#covid) lang:en until:2021-02-14 since:2021-02-13\"\n"
     ]
    },
    {
     "name": "stderr",
     "output_type": "stream",
     "text": [
      "Unavailable user in card on tweet 1360722005331501058\n",
      "User 76227785 not found in user refs in card on tweet 1360722005331501058\n",
      " 31%|███████████████████████                                                    | 369/1201 [1:19:21<3:14:52, 14.05s/it]"
     ]
    },
    {
     "name": "stdout",
     "output_type": "stream",
     "text": [
      "Collected 256 tweets at 2021-02-13.\n",
      "Running twitter query: \"(#covid) lang:en until:2021-02-15 since:2021-02-14\"\n"
     ]
    },
    {
     "name": "stderr",
     "output_type": "stream",
     "text": [
      "Unavailable user in card on tweet 1361088989894234112\n",
      "User 1341781893528883200 not found in user refs in card on tweet 1361088989894234112\n",
      " 31%|███████████████████████                                                    | 370/1201 [1:19:34<3:12:42, 13.91s/it]"
     ]
    },
    {
     "name": "stdout",
     "output_type": "stream",
     "text": [
      "Collected 256 tweets at 2021-02-14.\n",
      "Running twitter query: \"(#covid) lang:en until:2021-02-16 since:2021-02-15\"\n"
     ]
    },
    {
     "name": "stderr",
     "output_type": "stream",
     "text": [
      "\r",
      " 31%|███████████████████████▏                                                   | 371/1201 [1:19:47<3:07:26, 13.55s/it]"
     ]
    },
    {
     "name": "stdout",
     "output_type": "stream",
     "text": [
      "Collected 256 tweets at 2021-02-15.\n",
      "Running twitter query: \"(#covid) lang:en until:2021-02-17 since:2021-02-16\"\n"
     ]
    },
    {
     "name": "stderr",
     "output_type": "stream",
     "text": [
      "\r",
      " 31%|███████████████████████▏                                                   | 372/1201 [1:20:00<3:06:23, 13.49s/it]"
     ]
    },
    {
     "name": "stdout",
     "output_type": "stream",
     "text": [
      "Collected 256 tweets at 2021-02-16.\n",
      "Running twitter query: \"(#covid) lang:en until:2021-02-18 since:2021-02-17\"\n"
     ]
    },
    {
     "name": "stderr",
     "output_type": "stream",
     "text": [
      "\r",
      " 31%|███████████████████████▎                                                   | 373/1201 [1:20:13<3:02:38, 13.23s/it]"
     ]
    },
    {
     "name": "stdout",
     "output_type": "stream",
     "text": [
      "Collected 256 tweets at 2021-02-17.\n",
      "Running twitter query: \"(#covid) lang:en until:2021-02-19 since:2021-02-18\"\n"
     ]
    },
    {
     "name": "stderr",
     "output_type": "stream",
     "text": [
      "Unavailable user in card on tweet 1362535241328578563\n",
      "User 14204245 not found in user refs in card on tweet 1362535241328578563\n",
      " 31%|███████████████████████▎                                                   | 374/1201 [1:20:25<2:57:14, 12.86s/it]"
     ]
    },
    {
     "name": "stdout",
     "output_type": "stream",
     "text": [
      "Collected 256 tweets at 2021-02-18.\n",
      "Running twitter query: \"(#covid) lang:en until:2021-02-20 since:2021-02-19\"\n"
     ]
    },
    {
     "name": "stderr",
     "output_type": "stream",
     "text": [
      "\r",
      " 31%|███████████████████████▍                                                   | 375/1201 [1:20:38<2:58:34, 12.97s/it]"
     ]
    },
    {
     "name": "stdout",
     "output_type": "stream",
     "text": [
      "Collected 256 tweets at 2021-02-19.\n",
      "Running twitter query: \"(#covid) lang:en until:2021-02-21 since:2021-02-20\"\n"
     ]
    },
    {
     "name": "stderr",
     "output_type": "stream",
     "text": [
      "\r",
      " 31%|███████████████████████▍                                                   | 376/1201 [1:20:52<2:59:31, 13.06s/it]"
     ]
    },
    {
     "name": "stdout",
     "output_type": "stream",
     "text": [
      "Collected 256 tweets at 2021-02-20.\n",
      "Running twitter query: \"(#covid) lang:en until:2021-02-22 since:2021-02-21\"\n"
     ]
    },
    {
     "name": "stderr",
     "output_type": "stream",
     "text": [
      "\r",
      " 31%|███████████████████████▌                                                   | 377/1201 [1:21:06<3:03:32, 13.36s/it]"
     ]
    },
    {
     "name": "stdout",
     "output_type": "stream",
     "text": [
      "Collected 256 tweets at 2021-02-21.\n",
      "Running twitter query: \"(#covid) lang:en until:2021-02-23 since:2021-02-22\"\n"
     ]
    },
    {
     "name": "stderr",
     "output_type": "stream",
     "text": [
      "\r",
      " 31%|███████████████████████▌                                                   | 378/1201 [1:21:18<2:58:26, 13.01s/it]"
     ]
    },
    {
     "name": "stdout",
     "output_type": "stream",
     "text": [
      "Collected 256 tweets at 2021-02-22.\n",
      "Running twitter query: \"(#covid) lang:en until:2021-02-24 since:2021-02-23\"\n"
     ]
    },
    {
     "name": "stderr",
     "output_type": "stream",
     "text": [
      "\r",
      " 32%|███████████████████████▋                                                   | 379/1201 [1:21:34<3:10:05, 13.87s/it]"
     ]
    },
    {
     "name": "stdout",
     "output_type": "stream",
     "text": [
      "Collected 256 tweets at 2021-02-23.\n",
      "Running twitter query: \"(#covid) lang:en until:2021-02-25 since:2021-02-24\"\n"
     ]
    },
    {
     "name": "stderr",
     "output_type": "stream",
     "text": [
      "Unavailable user in card on tweet 1364711753007960064\n",
      "User 1434052940 not found in user refs in card on tweet 1364711753007960064\n",
      " 32%|███████████████████████▋                                                   | 380/1201 [1:21:49<3:13:50, 14.17s/it]"
     ]
    },
    {
     "name": "stdout",
     "output_type": "stream",
     "text": [
      "Collected 256 tweets at 2021-02-24.\n",
      "Running twitter query: \"(#covid) lang:en until:2021-02-26 since:2021-02-25\"\n"
     ]
    },
    {
     "name": "stderr",
     "output_type": "stream",
     "text": [
      "\r",
      " 32%|███████████████████████▊                                                   | 381/1201 [1:22:03<3:14:43, 14.25s/it]"
     ]
    },
    {
     "name": "stdout",
     "output_type": "stream",
     "text": [
      "Collected 256 tweets at 2021-02-25.\n",
      "Running twitter query: \"(#covid) lang:en until:2021-02-27 since:2021-02-26\"\n"
     ]
    },
    {
     "name": "stderr",
     "output_type": "stream",
     "text": [
      "Unavailable user in card on tweet 1365438285162508289\n",
      "User 3562471 not found in user refs in card on tweet 1365438285162508289\n",
      " 32%|███████████████████████▊                                                   | 382/1201 [1:22:21<3:29:56, 15.38s/it]"
     ]
    },
    {
     "name": "stdout",
     "output_type": "stream",
     "text": [
      "Collected 256 tweets at 2021-02-26.\n",
      "Running twitter query: \"(#covid) lang:en until:2021-02-28 since:2021-02-27\"\n"
     ]
    },
    {
     "name": "stderr",
     "output_type": "stream",
     "text": [
      "\r",
      " 32%|███████████████████████▉                                                   | 383/1201 [1:22:35<3:25:22, 15.06s/it]"
     ]
    },
    {
     "name": "stdout",
     "output_type": "stream",
     "text": [
      "Collected 256 tweets at 2021-02-27.\n",
      "Running twitter query: \"(#covid) lang:en until:2021-03-01 since:2021-02-28\"\n"
     ]
    },
    {
     "name": "stderr",
     "output_type": "stream",
     "text": [
      "\r",
      " 32%|███████████████████████▉                                                   | 384/1201 [1:22:51<3:27:35, 15.25s/it]"
     ]
    },
    {
     "name": "stdout",
     "output_type": "stream",
     "text": [
      "Collected 256 tweets at 2021-02-28.\n",
      "Saving 7168 tweets at 2021-02.\n",
      "Running twitter query: \"(#covid) lang:en until:2021-03-02 since:2021-03-01\"\n"
     ]
    },
    {
     "name": "stderr",
     "output_type": "stream",
     "text": [
      "Unavailable user in card on tweet 1366533564162928641\n",
      "User 14204245 not found in user refs in card on tweet 1366533564162928641\n",
      " 32%|████████████████████████                                                   | 385/1201 [1:23:04<3:18:28, 14.59s/it]"
     ]
    },
    {
     "name": "stdout",
     "output_type": "stream",
     "text": [
      "Collected 256 tweets at 2021-03-01.\n",
      "Running twitter query: \"(#covid) lang:en until:2021-03-03 since:2021-03-02\"\n"
     ]
    },
    {
     "name": "stderr",
     "output_type": "stream",
     "text": [
      "\r",
      " 32%|████████████████████████                                                   | 386/1201 [1:23:16<3:05:25, 13.65s/it]"
     ]
    },
    {
     "name": "stdout",
     "output_type": "stream",
     "text": [
      "Collected 256 tweets at 2021-03-02.\n",
      "Running twitter query: \"(#covid) lang:en until:2021-03-04 since:2021-03-03\"\n"
     ]
    },
    {
     "name": "stderr",
     "output_type": "stream",
     "text": [
      "\r",
      " 32%|████████████████████████▏                                                  | 387/1201 [1:23:27<2:56:15, 12.99s/it]"
     ]
    },
    {
     "name": "stdout",
     "output_type": "stream",
     "text": [
      "Collected 256 tweets at 2021-03-03.\n",
      "Running twitter query: \"(#covid) lang:en until:2021-03-05 since:2021-03-04\"\n"
     ]
    },
    {
     "name": "stderr",
     "output_type": "stream",
     "text": [
      "Unavailable user in card on tweet 1367618419890130951\n",
      "Unavailable user in card on tweet 1367618419890130951\n",
      "User 58125662 not found in user refs in card on tweet 1367618419890130951\n",
      "User 58125662 not found in user refs in card on tweet 1367618419890130951\n",
      " 32%|████████████████████████▏                                                  | 388/1201 [1:23:39<2:52:27, 12.73s/it]"
     ]
    },
    {
     "name": "stdout",
     "output_type": "stream",
     "text": [
      "Collected 256 tweets at 2021-03-04.\n",
      "Running twitter query: \"(#covid) lang:en until:2021-03-06 since:2021-03-05\"\n"
     ]
    },
    {
     "name": "stderr",
     "output_type": "stream",
     "text": [
      "\r",
      " 32%|████████████████████████▎                                                  | 389/1201 [1:23:51<2:48:34, 12.46s/it]"
     ]
    },
    {
     "name": "stdout",
     "output_type": "stream",
     "text": [
      "Collected 256 tweets at 2021-03-05.\n",
      "Running twitter query: \"(#covid) lang:en until:2021-03-07 since:2021-03-06\"\n"
     ]
    },
    {
     "name": "stderr",
     "output_type": "stream",
     "text": [
      "\r",
      " 32%|████████████████████████▎                                                  | 390/1201 [1:24:06<2:58:12, 13.18s/it]"
     ]
    },
    {
     "name": "stdout",
     "output_type": "stream",
     "text": [
      "Collected 256 tweets at 2021-03-06.\n",
      "Running twitter query: \"(#covid) lang:en until:2021-03-08 since:2021-03-07\"\n"
     ]
    },
    {
     "name": "stderr",
     "output_type": "stream",
     "text": [
      "\r",
      " 33%|████████████████████████▍                                                  | 391/1201 [1:24:19<2:57:26, 13.14s/it]"
     ]
    },
    {
     "name": "stdout",
     "output_type": "stream",
     "text": [
      "Collected 256 tweets at 2021-03-07.\n",
      "Running twitter query: \"(#covid) lang:en until:2021-03-09 since:2021-03-08\"\n"
     ]
    },
    {
     "name": "stderr",
     "output_type": "stream",
     "text": [
      "\r",
      " 33%|████████████████████████▍                                                  | 392/1201 [1:24:32<2:58:20, 13.23s/it]"
     ]
    },
    {
     "name": "stdout",
     "output_type": "stream",
     "text": [
      "Collected 256 tweets at 2021-03-08.\n",
      "Running twitter query: \"(#covid) lang:en until:2021-03-10 since:2021-03-09\"\n"
     ]
    },
    {
     "name": "stderr",
     "output_type": "stream",
     "text": [
      "\r",
      " 33%|████████████████████████▌                                                  | 393/1201 [1:24:44<2:52:26, 12.81s/it]"
     ]
    },
    {
     "name": "stdout",
     "output_type": "stream",
     "text": [
      "Collected 256 tweets at 2021-03-09.\n",
      "Running twitter query: \"(#covid) lang:en until:2021-03-11 since:2021-03-10\"\n"
     ]
    },
    {
     "name": "stderr",
     "output_type": "stream",
     "text": [
      "\r",
      " 33%|████████████████████████▌                                                  | 394/1201 [1:24:57<2:54:03, 12.94s/it]"
     ]
    },
    {
     "name": "stdout",
     "output_type": "stream",
     "text": [
      "Collected 256 tweets at 2021-03-10.\n",
      "Running twitter query: \"(#covid) lang:en until:2021-03-12 since:2021-03-11\"\n"
     ]
    },
    {
     "name": "stderr",
     "output_type": "stream",
     "text": [
      "Unavailable user in card on tweet 1370155076350840833\n",
      "User 1341781893528883200 not found in user refs in card on tweet 1370155076350840833\n",
      "Unavailable user in card on tweet 1369130833622274051\n",
      "User 28019971 not found in user refs in card on tweet 1369130833622274051\n",
      " 33%|████████████████████████▋                                                  | 395/1201 [1:25:11<2:56:13, 13.12s/it]"
     ]
    },
    {
     "name": "stdout",
     "output_type": "stream",
     "text": [
      "Collected 256 tweets at 2021-03-11.\n",
      "Running twitter query: \"(#covid) lang:en until:2021-03-13 since:2021-03-12\"\n"
     ]
    },
    {
     "name": "stderr",
     "output_type": "stream",
     "text": [
      "\r",
      " 33%|████████████████████████▋                                                  | 396/1201 [1:25:23<2:52:38, 12.87s/it]"
     ]
    },
    {
     "name": "stdout",
     "output_type": "stream",
     "text": [
      "Collected 256 tweets at 2021-03-12.\n",
      "Running twitter query: \"(#covid) lang:en until:2021-03-14 since:2021-03-13\"\n"
     ]
    },
    {
     "name": "stderr",
     "output_type": "stream",
     "text": [
      "Unavailable user in card on tweet 1370862937661923329\n",
      "User 14204245 not found in user refs in card on tweet 1370862937661923329\n",
      " 33%|████████████████████████▊                                                  | 397/1201 [1:25:36<2:51:19, 12.79s/it]"
     ]
    },
    {
     "name": "stdout",
     "output_type": "stream",
     "text": [
      "Collected 256 tweets at 2021-03-13.\n",
      "Running twitter query: \"(#covid) lang:en until:2021-03-15 since:2021-03-14\"\n"
     ]
    },
    {
     "name": "stderr",
     "output_type": "stream",
     "text": [
      "\r",
      " 33%|████████████████████████▊                                                  | 398/1201 [1:25:49<2:53:04, 12.93s/it]"
     ]
    },
    {
     "name": "stdout",
     "output_type": "stream",
     "text": [
      "Collected 256 tweets at 2021-03-14.\n",
      "Running twitter query: \"(#covid) lang:en until:2021-03-16 since:2021-03-15\"\n"
     ]
    },
    {
     "name": "stderr",
     "output_type": "stream",
     "text": [
      "\r",
      " 33%|████████████████████████▉                                                  | 399/1201 [1:26:03<2:55:50, 13.16s/it]"
     ]
    },
    {
     "name": "stdout",
     "output_type": "stream",
     "text": [
      "Collected 256 tweets at 2021-03-15.\n",
      "Running twitter query: \"(#covid) lang:en until:2021-03-17 since:2021-03-16\"\n"
     ]
    },
    {
     "name": "stderr",
     "output_type": "stream",
     "text": [
      "\r",
      " 33%|████████████████████████▉                                                  | 400/1201 [1:26:16<2:57:11, 13.27s/it]"
     ]
    },
    {
     "name": "stdout",
     "output_type": "stream",
     "text": [
      "Collected 256 tweets at 2021-03-16.\n",
      "Running twitter query: \"(#covid) lang:en until:2021-03-18 since:2021-03-17\"\n"
     ]
    },
    {
     "name": "stderr",
     "output_type": "stream",
     "text": [
      "\r",
      " 33%|█████████████████████████                                                  | 401/1201 [1:26:31<3:04:45, 13.86s/it]"
     ]
    },
    {
     "name": "stdout",
     "output_type": "stream",
     "text": [
      "Collected 256 tweets at 2021-03-17.\n",
      "Running twitter query: \"(#covid) lang:en until:2021-03-19 since:2021-03-18\"\n"
     ]
    },
    {
     "name": "stderr",
     "output_type": "stream",
     "text": [
      "\r",
      " 33%|█████████████████████████                                                  | 402/1201 [1:26:46<3:06:18, 13.99s/it]"
     ]
    },
    {
     "name": "stdout",
     "output_type": "stream",
     "text": [
      "Collected 256 tweets at 2021-03-18.\n",
      "Running twitter query: \"(#covid) lang:en until:2021-03-20 since:2021-03-19\"\n"
     ]
    },
    {
     "name": "stderr",
     "output_type": "stream",
     "text": [
      "Empty user ref object in card on tweet 1373048261079089156\n",
      "User 899733078641225728 not found in user refs in card on tweet 1373048261079089156\n",
      " 34%|█████████████████████████▏                                                 | 403/1201 [1:27:00<3:06:40, 14.04s/it]"
     ]
    },
    {
     "name": "stdout",
     "output_type": "stream",
     "text": [
      "Collected 256 tweets at 2021-03-19.\n",
      "Running twitter query: \"(#covid) lang:en until:2021-03-21 since:2021-03-20\"\n"
     ]
    },
    {
     "name": "stderr",
     "output_type": "stream",
     "text": [
      "\r",
      " 34%|█████████████████████████▏                                                 | 404/1201 [1:27:13<3:02:25, 13.73s/it]"
     ]
    },
    {
     "name": "stdout",
     "output_type": "stream",
     "text": [
      "Collected 256 tweets at 2021-03-20.\n",
      "Running twitter query: \"(#covid) lang:en until:2021-03-22 since:2021-03-21\"\n"
     ]
    },
    {
     "name": "stderr",
     "output_type": "stream",
     "text": [
      "\r",
      " 34%|█████████████████████████▎                                                 | 405/1201 [1:27:27<3:03:01, 13.80s/it]"
     ]
    },
    {
     "name": "stdout",
     "output_type": "stream",
     "text": [
      "Collected 256 tweets at 2021-03-21.\n",
      "Running twitter query: \"(#covid) lang:en until:2021-03-23 since:2021-03-22\"\n"
     ]
    },
    {
     "name": "stderr",
     "output_type": "stream",
     "text": [
      "\r",
      " 34%|█████████████████████████▎                                                 | 406/1201 [1:27:41<3:03:05, 13.82s/it]"
     ]
    },
    {
     "name": "stdout",
     "output_type": "stream",
     "text": [
      "Collected 256 tweets at 2021-03-22.\n",
      "Running twitter query: \"(#covid) lang:en until:2021-03-24 since:2021-03-23\"\n"
     ]
    },
    {
     "name": "stderr",
     "output_type": "stream",
     "text": [
      "\r",
      " 34%|█████████████████████████▍                                                 | 407/1201 [1:27:55<3:03:53, 13.90s/it]"
     ]
    },
    {
     "name": "stdout",
     "output_type": "stream",
     "text": [
      "Collected 256 tweets at 2021-03-23.\n",
      "Running twitter query: \"(#covid) lang:en until:2021-03-25 since:2021-03-24\"\n"
     ]
    },
    {
     "name": "stderr",
     "output_type": "stream",
     "text": [
      "\r",
      " 34%|█████████████████████████▍                                                 | 408/1201 [1:28:09<3:05:49, 14.06s/it]"
     ]
    },
    {
     "name": "stdout",
     "output_type": "stream",
     "text": [
      "Collected 256 tweets at 2021-03-24.\n",
      "Running twitter query: \"(#covid) lang:en until:2021-03-26 since:2021-03-25\"\n"
     ]
    },
    {
     "name": "stderr",
     "output_type": "stream",
     "text": [
      "\r",
      " 34%|█████████████████████████▌                                                 | 409/1201 [1:28:24<3:10:13, 14.41s/it]"
     ]
    },
    {
     "name": "stdout",
     "output_type": "stream",
     "text": [
      "Collected 256 tweets at 2021-03-25.\n",
      "Running twitter query: \"(#covid) lang:en until:2021-03-27 since:2021-03-26\"\n"
     ]
    },
    {
     "name": "stderr",
     "output_type": "stream",
     "text": [
      "Empty user ref object in card on tweet 1375594684001759240\n",
      "User 899733078641225728 not found in user refs in card on tweet 1375594684001759240\n",
      " 34%|█████████████████████████▌                                                 | 410/1201 [1:28:40<3:15:05, 14.80s/it]"
     ]
    },
    {
     "name": "stdout",
     "output_type": "stream",
     "text": [
      "Collected 256 tweets at 2021-03-26.\n",
      "Running twitter query: \"(#covid) lang:en until:2021-03-28 since:2021-03-27\"\n"
     ]
    },
    {
     "name": "stderr",
     "output_type": "stream",
     "text": [
      "\r",
      " 34%|█████████████████████████▋                                                 | 411/1201 [1:28:55<3:14:22, 14.76s/it]"
     ]
    },
    {
     "name": "stdout",
     "output_type": "stream",
     "text": [
      "Collected 256 tweets at 2021-03-27.\n",
      "Running twitter query: \"(#covid) lang:en until:2021-03-29 since:2021-03-28\"\n"
     ]
    },
    {
     "name": "stderr",
     "output_type": "stream",
     "text": [
      "Unavailable user in card on tweet 1376253822788591624\n",
      "User 1062915983294300160 not found in user refs in card on tweet 1376253822788591624\n",
      " 34%|█████████████████████████▋                                                 | 412/1201 [1:29:12<3:22:53, 15.43s/it]"
     ]
    },
    {
     "name": "stdout",
     "output_type": "stream",
     "text": [
      "Collected 256 tweets at 2021-03-28.\n",
      "Running twitter query: \"(#covid) lang:en until:2021-03-30 since:2021-03-29\"\n"
     ]
    },
    {
     "name": "stderr",
     "output_type": "stream",
     "text": [
      "\r",
      " 34%|█████████████████████████▊                                                 | 413/1201 [1:29:26<3:19:20, 15.18s/it]"
     ]
    },
    {
     "name": "stdout",
     "output_type": "stream",
     "text": [
      "Collected 256 tweets at 2021-03-29.\n",
      "Running twitter query: \"(#covid) lang:en until:2021-03-31 since:2021-03-30\"\n"
     ]
    },
    {
     "name": "stderr",
     "output_type": "stream",
     "text": [
      "\r",
      " 34%|█████████████████████████▊                                                 | 414/1201 [1:29:42<3:20:46, 15.31s/it]"
     ]
    },
    {
     "name": "stdout",
     "output_type": "stream",
     "text": [
      "Collected 256 tweets at 2021-03-30.\n",
      "Running twitter query: \"(#covid) lang:en until:2021-04-01 since:2021-03-31\"\n"
     ]
    },
    {
     "name": "stderr",
     "output_type": "stream",
     "text": [
      "\r",
      " 35%|█████████████████████████▉                                                 | 415/1201 [1:29:58<3:21:13, 15.36s/it]"
     ]
    },
    {
     "name": "stdout",
     "output_type": "stream",
     "text": [
      "Collected 256 tweets at 2021-03-31.\n",
      "Saving 7936 tweets at 2021-03.\n",
      "Running twitter query: \"(#covid) lang:en until:2021-04-02 since:2021-04-01\"\n"
     ]
    },
    {
     "name": "stderr",
     "output_type": "stream",
     "text": [
      "\r",
      " 35%|█████████████████████████▉                                                 | 416/1201 [1:30:10<3:08:49, 14.43s/it]"
     ]
    },
    {
     "name": "stdout",
     "output_type": "stream",
     "text": [
      "Collected 256 tweets at 2021-04-01.\n",
      "Running twitter query: \"(#covid) lang:en until:2021-04-03 since:2021-04-02\"\n"
     ]
    },
    {
     "name": "stderr",
     "output_type": "stream",
     "text": [
      "Unavailable user in card on tweet 1378109316738211843\n",
      "User 1374083792588173312 not found in user refs in card on tweet 1378109316738211843\n",
      " 35%|██████████████████████████                                                 | 417/1201 [1:30:23<3:05:13, 14.17s/it]"
     ]
    },
    {
     "name": "stdout",
     "output_type": "stream",
     "text": [
      "Collected 256 tweets at 2021-04-02.\n",
      "Running twitter query: \"(#covid) lang:en until:2021-04-04 since:2021-04-03\"\n"
     ]
    },
    {
     "name": "stderr",
     "output_type": "stream",
     "text": [
      "\r",
      " 35%|██████████████████████████                                                 | 418/1201 [1:30:36<3:00:52, 13.86s/it]"
     ]
    },
    {
     "name": "stdout",
     "output_type": "stream",
     "text": [
      "Collected 256 tweets at 2021-04-03.\n",
      "Running twitter query: \"(#covid) lang:en until:2021-04-05 since:2021-04-04\"\n"
     ]
    },
    {
     "name": "stderr",
     "output_type": "stream",
     "text": [
      "Unavailable user in card on tweet 1378859642558812161\n",
      "User 1453117968666271757 not found in user refs in card on tweet 1378859642558812161\n",
      "Unavailable user in card on tweet 1378839564559773705\n",
      "User 1453117968666271757 not found in user refs in card on tweet 1378839564559773705\n",
      " 35%|██████████████████████████▏                                                | 419/1201 [1:30:49<2:56:10, 13.52s/it]"
     ]
    },
    {
     "name": "stdout",
     "output_type": "stream",
     "text": [
      "Collected 256 tweets at 2021-04-04.\n",
      "Running twitter query: \"(#covid) lang:en until:2021-04-06 since:2021-04-05\"\n"
     ]
    },
    {
     "name": "stderr",
     "output_type": "stream",
     "text": [
      "\r",
      " 35%|██████████████████████████▏                                                | 420/1201 [1:31:01<2:50:46, 13.12s/it]"
     ]
    },
    {
     "name": "stdout",
     "output_type": "stream",
     "text": [
      "Collected 256 tweets at 2021-04-05.\n",
      "Running twitter query: \"(#covid) lang:en until:2021-04-07 since:2021-04-06\"\n"
     ]
    },
    {
     "name": "stderr",
     "output_type": "stream",
     "text": [
      "Unavailable user in card on tweet 1379569334327070720\n",
      "User 14204245 not found in user refs in card on tweet 1379569334327070720\n",
      "Unavailable user in card on tweet 1379561818910126082\n",
      "User 14204245 not found in user refs in card on tweet 1379561818910126082\n",
      " 35%|██████████████████████████▎                                                | 421/1201 [1:31:17<2:59:25, 13.80s/it]"
     ]
    },
    {
     "name": "stdout",
     "output_type": "stream",
     "text": [
      "Collected 256 tweets at 2021-04-06.\n",
      "Running twitter query: \"(#covid) lang:en until:2021-04-08 since:2021-04-07\"\n"
     ]
    },
    {
     "name": "stderr",
     "output_type": "stream",
     "text": [
      "Unavailable user in card on tweet 1379945356834787328\n",
      "User 14204245 not found in user refs in card on tweet 1379945356834787328\n",
      " 35%|██████████████████████████▎                                                | 422/1201 [1:31:32<3:03:34, 14.14s/it]"
     ]
    },
    {
     "name": "stdout",
     "output_type": "stream",
     "text": [
      "Collected 256 tweets at 2021-04-07.\n",
      "Running twitter query: \"(#covid) lang:en until:2021-04-09 since:2021-04-08\"\n"
     ]
    },
    {
     "name": "stderr",
     "output_type": "stream",
     "text": [
      "\r",
      " 35%|██████████████████████████▍                                                | 423/1201 [1:31:44<2:55:21, 13.52s/it]"
     ]
    },
    {
     "name": "stdout",
     "output_type": "stream",
     "text": [
      "Collected 256 tweets at 2021-04-08.\n",
      "Running twitter query: \"(#covid) lang:en until:2021-04-10 since:2021-04-09\"\n"
     ]
    },
    {
     "name": "stderr",
     "output_type": "stream",
     "text": [
      "\r",
      " 35%|██████████████████████████▍                                                | 424/1201 [1:31:56<2:48:54, 13.04s/it]"
     ]
    },
    {
     "name": "stdout",
     "output_type": "stream",
     "text": [
      "Collected 256 tweets at 2021-04-09.\n",
      "Running twitter query: \"(#covid) lang:en until:2021-04-11 since:2021-04-10\"\n"
     ]
    },
    {
     "name": "stderr",
     "output_type": "stream",
     "text": [
      "\r",
      " 35%|██████████████████████████▌                                                | 425/1201 [1:32:09<2:49:04, 13.07s/it]"
     ]
    },
    {
     "name": "stdout",
     "output_type": "stream",
     "text": [
      "Collected 256 tweets at 2021-04-10.\n",
      "Running twitter query: \"(#covid) lang:en until:2021-04-12 since:2021-04-11\"\n"
     ]
    },
    {
     "name": "stderr",
     "output_type": "stream",
     "text": [
      "Unavailable user in card on tweet 1381381551406080005\n",
      "User 1343341123251519488 not found in user refs in card on tweet 1381381551406080005\n",
      " 35%|██████████████████████████▌                                                | 426/1201 [1:32:22<2:48:42, 13.06s/it]"
     ]
    },
    {
     "name": "stdout",
     "output_type": "stream",
     "text": [
      "Collected 256 tweets at 2021-04-11.\n",
      "Running twitter query: \"(#covid) lang:en until:2021-04-13 since:2021-04-12\"\n"
     ]
    },
    {
     "name": "stderr",
     "output_type": "stream",
     "text": [
      "\r",
      " 36%|██████████████████████████▋                                                | 427/1201 [1:32:35<2:48:31, 13.06s/it]"
     ]
    },
    {
     "name": "stdout",
     "output_type": "stream",
     "text": [
      "Collected 256 tweets at 2021-04-12.\n",
      "Running twitter query: \"(#covid) lang:en until:2021-04-14 since:2021-04-13\"\n"
     ]
    },
    {
     "name": "stderr",
     "output_type": "stream",
     "text": [
      "\r",
      " 36%|██████████████████████████▋                                                | 428/1201 [1:32:49<2:51:24, 13.31s/it]"
     ]
    },
    {
     "name": "stdout",
     "output_type": "stream",
     "text": [
      "Collected 256 tweets at 2021-04-13.\n",
      "Running twitter query: \"(#covid) lang:en until:2021-04-15 since:2021-04-14\"\n"
     ]
    },
    {
     "name": "stderr",
     "output_type": "stream",
     "text": [
      "\r",
      " 36%|██████████████████████████▊                                                | 429/1201 [1:33:02<2:49:06, 13.14s/it]"
     ]
    },
    {
     "name": "stdout",
     "output_type": "stream",
     "text": [
      "Collected 256 tweets at 2021-04-14.\n",
      "Running twitter query: \"(#covid) lang:en until:2021-04-16 since:2021-04-15\"\n"
     ]
    },
    {
     "name": "stderr",
     "output_type": "stream",
     "text": [
      "\r",
      " 36%|██████████████████████████▊                                                | 430/1201 [1:33:17<2:58:03, 13.86s/it]"
     ]
    },
    {
     "name": "stdout",
     "output_type": "stream",
     "text": [
      "Collected 256 tweets at 2021-04-15.\n",
      "Running twitter query: \"(#covid) lang:en until:2021-04-17 since:2021-04-16\"\n"
     ]
    },
    {
     "name": "stderr",
     "output_type": "stream",
     "text": [
      "\r",
      " 36%|██████████████████████████▉                                                | 431/1201 [1:33:29<2:51:31, 13.37s/it]"
     ]
    },
    {
     "name": "stdout",
     "output_type": "stream",
     "text": [
      "Collected 256 tweets at 2021-04-16.\n",
      "Running twitter query: \"(#covid) lang:en until:2021-04-18 since:2021-04-17\"\n"
     ]
    },
    {
     "name": "stderr",
     "output_type": "stream",
     "text": [
      "\r",
      " 36%|██████████████████████████▉                                                | 432/1201 [1:33:45<3:00:55, 14.12s/it]"
     ]
    },
    {
     "name": "stdout",
     "output_type": "stream",
     "text": [
      "Collected 256 tweets at 2021-04-17.\n",
      "Running twitter query: \"(#covid) lang:en until:2021-04-19 since:2021-04-18\"\n"
     ]
    },
    {
     "name": "stderr",
     "output_type": "stream",
     "text": [
      "\r",
      " 36%|███████████████████████████                                                | 433/1201 [1:34:00<3:04:45, 14.43s/it]"
     ]
    },
    {
     "name": "stdout",
     "output_type": "stream",
     "text": [
      "Collected 256 tweets at 2021-04-18.\n",
      "Running twitter query: \"(#covid) lang:en until:2021-04-20 since:2021-04-19\"\n"
     ]
    },
    {
     "name": "stderr",
     "output_type": "stream",
     "text": [
      "\r",
      " 36%|███████████████████████████                                                | 434/1201 [1:34:14<3:03:11, 14.33s/it]"
     ]
    },
    {
     "name": "stdout",
     "output_type": "stream",
     "text": [
      "Collected 256 tweets at 2021-04-19.\n",
      "Running twitter query: \"(#covid) lang:en until:2021-04-21 since:2021-04-20\"\n"
     ]
    },
    {
     "name": "stderr",
     "output_type": "stream",
     "text": [
      "\r",
      " 36%|███████████████████████████▏                                               | 435/1201 [1:34:29<3:01:58, 14.25s/it]"
     ]
    },
    {
     "name": "stdout",
     "output_type": "stream",
     "text": [
      "Collected 256 tweets at 2021-04-20.\n",
      "Running twitter query: \"(#covid) lang:en until:2021-04-22 since:2021-04-21\"\n"
     ]
    },
    {
     "name": "stderr",
     "output_type": "stream",
     "text": [
      "\r",
      " 36%|███████████████████████████▏                                               | 436/1201 [1:34:42<2:58:42, 14.02s/it]"
     ]
    },
    {
     "name": "stdout",
     "output_type": "stream",
     "text": [
      "Collected 256 tweets at 2021-04-21.\n",
      "Running twitter query: \"(#covid) lang:en until:2021-04-23 since:2021-04-22\"\n"
     ]
    },
    {
     "name": "stderr",
     "output_type": "stream",
     "text": [
      "\r",
      " 36%|███████████████████████████▎                                               | 437/1201 [1:34:56<2:56:53, 13.89s/it]"
     ]
    },
    {
     "name": "stdout",
     "output_type": "stream",
     "text": [
      "Collected 256 tweets at 2021-04-22.\n",
      "Running twitter query: \"(#covid) lang:en until:2021-04-24 since:2021-04-23\"\n"
     ]
    },
    {
     "name": "stderr",
     "output_type": "stream",
     "text": [
      "\r",
      " 36%|███████████████████████████▎                                               | 438/1201 [1:35:10<2:58:07, 14.01s/it]"
     ]
    },
    {
     "name": "stdout",
     "output_type": "stream",
     "text": [
      "Collected 256 tweets at 2021-04-23.\n",
      "Running twitter query: \"(#covid) lang:en until:2021-04-25 since:2021-04-24\"\n"
     ]
    },
    {
     "name": "stderr",
     "output_type": "stream",
     "text": [
      "Empty user ref object in card on tweet 1386086122024017920\n",
      "User 899733078641225728 not found in user refs in card on tweet 1386086122024017920\n",
      " 37%|███████████████████████████▍                                               | 439/1201 [1:35:25<3:01:38, 14.30s/it]"
     ]
    },
    {
     "name": "stdout",
     "output_type": "stream",
     "text": [
      "Collected 256 tweets at 2021-04-24.\n",
      "Running twitter query: \"(#covid) lang:en until:2021-04-26 since:2021-04-25\"\n"
     ]
    },
    {
     "name": "stderr",
     "output_type": "stream",
     "text": [
      "\r",
      " 37%|███████████████████████████▍                                               | 440/1201 [1:35:39<3:01:55, 14.34s/it]"
     ]
    },
    {
     "name": "stdout",
     "output_type": "stream",
     "text": [
      "Collected 256 tweets at 2021-04-25.\n",
      "Running twitter query: \"(#covid) lang:en until:2021-04-27 since:2021-04-26\"\n"
     ]
    },
    {
     "name": "stderr",
     "output_type": "stream",
     "text": [
      "\r",
      " 37%|███████████████████████████▌                                               | 441/1201 [1:35:54<3:01:47, 14.35s/it]"
     ]
    },
    {
     "name": "stdout",
     "output_type": "stream",
     "text": [
      "Collected 256 tweets at 2021-04-26.\n",
      "Running twitter query: \"(#covid) lang:en until:2021-04-28 since:2021-04-27\"\n"
     ]
    },
    {
     "name": "stderr",
     "output_type": "stream",
     "text": [
      "\r",
      " 37%|███████████████████████████▌                                               | 442/1201 [1:36:08<3:02:41, 14.44s/it]"
     ]
    },
    {
     "name": "stdout",
     "output_type": "stream",
     "text": [
      "Collected 256 tweets at 2021-04-27.\n",
      "Running twitter query: \"(#covid) lang:en until:2021-04-29 since:2021-04-28\"\n"
     ]
    },
    {
     "name": "stderr",
     "output_type": "stream",
     "text": [
      "\r",
      " 37%|███████████████████████████▋                                               | 443/1201 [1:36:25<3:08:58, 14.96s/it]"
     ]
    },
    {
     "name": "stdout",
     "output_type": "stream",
     "text": [
      "Collected 256 tweets at 2021-04-28.\n",
      "Running twitter query: \"(#covid) lang:en until:2021-04-30 since:2021-04-29\"\n"
     ]
    },
    {
     "name": "stderr",
     "output_type": "stream",
     "text": [
      "\r",
      " 37%|███████████████████████████▋                                               | 444/1201 [1:36:40<3:11:07, 15.15s/it]"
     ]
    },
    {
     "name": "stdout",
     "output_type": "stream",
     "text": [
      "Collected 256 tweets at 2021-04-29.\n",
      "Running twitter query: \"(#covid) lang:en until:2021-05-01 since:2021-04-30\"\n"
     ]
    },
    {
     "name": "stderr",
     "output_type": "stream",
     "text": [
      "\r",
      " 37%|███████████████████████████▊                                               | 445/1201 [1:36:57<3:15:35, 15.52s/it]"
     ]
    },
    {
     "name": "stdout",
     "output_type": "stream",
     "text": [
      "Collected 256 tweets at 2021-04-30.\n",
      "Saving 7680 tweets at 2021-04.\n",
      "Running twitter query: \"(#covid) lang:en until:2021-05-02 since:2021-05-01\"\n"
     ]
    },
    {
     "name": "stderr",
     "output_type": "stream",
     "text": [
      "\r",
      " 37%|███████████████████████████▊                                               | 446/1201 [1:37:09<3:04:23, 14.65s/it]"
     ]
    },
    {
     "name": "stdout",
     "output_type": "stream",
     "text": [
      "Collected 256 tweets at 2021-05-01.\n",
      "Running twitter query: \"(#covid) lang:en until:2021-05-03 since:2021-05-02\"\n"
     ]
    },
    {
     "name": "stderr",
     "output_type": "stream",
     "text": [
      "\r",
      " 37%|███████████████████████████▉                                               | 447/1201 [1:37:23<3:01:43, 14.46s/it]"
     ]
    },
    {
     "name": "stdout",
     "output_type": "stream",
     "text": [
      "Collected 256 tweets at 2021-05-02.\n",
      "Running twitter query: \"(#covid) lang:en until:2021-05-04 since:2021-05-03\"\n"
     ]
    },
    {
     "name": "stderr",
     "output_type": "stream",
     "text": [
      "Unavailable user in card on tweet 1389365299783380992\n",
      "User 14204245 not found in user refs in card on tweet 1389365299783380992\n",
      " 37%|███████████████████████████▉                                               | 448/1201 [1:37:35<2:52:14, 13.72s/it]"
     ]
    },
    {
     "name": "stdout",
     "output_type": "stream",
     "text": [
      "Collected 256 tweets at 2021-05-03.\n",
      "Running twitter query: \"(#covid) lang:en until:2021-05-05 since:2021-05-04\"\n"
     ]
    },
    {
     "name": "stderr",
     "output_type": "stream",
     "text": [
      "\r",
      " 37%|████████████████████████████                                               | 449/1201 [1:37:47<2:45:22, 13.19s/it]"
     ]
    },
    {
     "name": "stdout",
     "output_type": "stream",
     "text": [
      "Collected 256 tweets at 2021-05-04.\n",
      "Running twitter query: \"(#covid) lang:en until:2021-05-06 since:2021-05-05\"\n"
     ]
    },
    {
     "name": "stderr",
     "output_type": "stream",
     "text": [
      "\r",
      " 37%|████████████████████████████                                               | 450/1201 [1:38:00<2:45:00, 13.18s/it]"
     ]
    },
    {
     "name": "stdout",
     "output_type": "stream",
     "text": [
      "Collected 256 tweets at 2021-05-05.\n",
      "Running twitter query: \"(#covid) lang:en until:2021-05-07 since:2021-05-06\"\n"
     ]
    },
    {
     "name": "stderr",
     "output_type": "stream",
     "text": [
      "\r",
      " 38%|████████████████████████████▏                                              | 451/1201 [1:38:15<2:50:35, 13.65s/it]"
     ]
    },
    {
     "name": "stdout",
     "output_type": "stream",
     "text": [
      "Collected 256 tweets at 2021-05-06.\n",
      "Running twitter query: \"(#covid) lang:en until:2021-05-08 since:2021-05-07\"\n"
     ]
    },
    {
     "name": "stderr",
     "output_type": "stream",
     "text": [
      "\r",
      " 38%|████████████████████████████▏                                              | 452/1201 [1:38:28<2:48:17, 13.48s/it]"
     ]
    },
    {
     "name": "stdout",
     "output_type": "stream",
     "text": [
      "Collected 256 tweets at 2021-05-07.\n",
      "Running twitter query: \"(#covid) lang:en until:2021-05-09 since:2021-05-08\"\n"
     ]
    },
    {
     "name": "stderr",
     "output_type": "stream",
     "text": [
      "\r",
      " 38%|████████████████████████████▎                                              | 453/1201 [1:38:44<2:58:41, 14.33s/it]"
     ]
    },
    {
     "name": "stdout",
     "output_type": "stream",
     "text": [
      "Collected 256 tweets at 2021-05-08.\n",
      "Running twitter query: \"(#covid) lang:en until:2021-05-10 since:2021-05-09\"\n"
     ]
    },
    {
     "name": "stderr",
     "output_type": "stream",
     "text": [
      "\r",
      " 38%|████████████████████████████▎                                              | 454/1201 [1:38:59<3:01:09, 14.55s/it]"
     ]
    },
    {
     "name": "stdout",
     "output_type": "stream",
     "text": [
      "Collected 256 tweets at 2021-05-09.\n",
      "Running twitter query: \"(#covid) lang:en until:2021-05-11 since:2021-05-10\"\n"
     ]
    },
    {
     "name": "stderr",
     "output_type": "stream",
     "text": [
      "\r",
      " 38%|████████████████████████████▍                                              | 455/1201 [1:39:13<2:57:06, 14.24s/it]"
     ]
    },
    {
     "name": "stdout",
     "output_type": "stream",
     "text": [
      "Collected 256 tweets at 2021-05-10.\n",
      "Running twitter query: \"(#covid) lang:en until:2021-05-12 since:2021-05-11\"\n"
     ]
    },
    {
     "name": "stderr",
     "output_type": "stream",
     "text": [
      "\r",
      " 38%|████████████████████████████▍                                              | 456/1201 [1:39:28<2:58:07, 14.35s/it]"
     ]
    },
    {
     "name": "stdout",
     "output_type": "stream",
     "text": [
      "Collected 256 tweets at 2021-05-11.\n",
      "Running twitter query: \"(#covid) lang:en until:2021-05-13 since:2021-05-12\"\n"
     ]
    },
    {
     "name": "stderr",
     "output_type": "stream",
     "text": [
      "\r",
      " 38%|████████████████████████████▌                                              | 457/1201 [1:39:41<2:55:39, 14.17s/it]"
     ]
    },
    {
     "name": "stdout",
     "output_type": "stream",
     "text": [
      "Collected 256 tweets at 2021-05-12.\n",
      "Running twitter query: \"(#covid) lang:en until:2021-05-14 since:2021-05-13\"\n"
     ]
    },
    {
     "name": "stderr",
     "output_type": "stream",
     "text": [
      "\r",
      " 38%|████████████████████████████▌                                              | 458/1201 [1:39:56<2:58:25, 14.41s/it]"
     ]
    },
    {
     "name": "stdout",
     "output_type": "stream",
     "text": [
      "Collected 256 tweets at 2021-05-13.\n",
      "Running twitter query: \"(#covid) lang:en until:2021-05-15 since:2021-05-14\"\n"
     ]
    },
    {
     "name": "stderr",
     "output_type": "stream",
     "text": [
      "\r",
      " 38%|████████████████████████████▋                                              | 459/1201 [1:40:10<2:54:48, 14.14s/it]"
     ]
    },
    {
     "name": "stdout",
     "output_type": "stream",
     "text": [
      "Collected 256 tweets at 2021-05-14.\n",
      "Running twitter query: \"(#covid) lang:en until:2021-05-16 since:2021-05-15\"\n"
     ]
    },
    {
     "name": "stderr",
     "output_type": "stream",
     "text": [
      "Empty user ref object in card on tweet 1393705289044615169\n",
      "User 1381232690343649283 not found in user refs in card on tweet 1393705289044615169\n",
      " 38%|████████████████████████████▋                                              | 460/1201 [1:40:25<2:57:21, 14.36s/it]"
     ]
    },
    {
     "name": "stdout",
     "output_type": "stream",
     "text": [
      "Collected 256 tweets at 2021-05-15.\n",
      "Running twitter query: \"(#covid) lang:en until:2021-05-17 since:2021-05-16\"\n"
     ]
    },
    {
     "name": "stderr",
     "output_type": "stream",
     "text": [
      "\r",
      " 38%|████████████████████████████▊                                              | 461/1201 [1:40:39<2:56:31, 14.31s/it]"
     ]
    },
    {
     "name": "stdout",
     "output_type": "stream",
     "text": [
      "Collected 256 tweets at 2021-05-16.\n",
      "Running twitter query: \"(#covid) lang:en until:2021-05-18 since:2021-05-17\"\n"
     ]
    },
    {
     "name": "stderr",
     "output_type": "stream",
     "text": [
      "\r",
      " 38%|████████████████████████████▊                                              | 462/1201 [1:40:52<2:53:06, 14.06s/it]"
     ]
    },
    {
     "name": "stdout",
     "output_type": "stream",
     "text": [
      "Collected 256 tweets at 2021-05-17.\n",
      "Running twitter query: \"(#covid) lang:en until:2021-05-19 since:2021-05-18\"\n"
     ]
    },
    {
     "name": "stderr",
     "output_type": "stream",
     "text": [
      "\r",
      " 39%|████████████████████████████▉                                              | 463/1201 [1:41:07<2:54:38, 14.20s/it]"
     ]
    },
    {
     "name": "stdout",
     "output_type": "stream",
     "text": [
      "Collected 256 tweets at 2021-05-18.\n",
      "Running twitter query: \"(#covid) lang:en until:2021-05-20 since:2021-05-19\"\n"
     ]
    },
    {
     "name": "stderr",
     "output_type": "stream",
     "text": [
      "\r",
      " 39%|████████████████████████████▉                                              | 464/1201 [1:41:23<3:01:32, 14.78s/it]"
     ]
    },
    {
     "name": "stdout",
     "output_type": "stream",
     "text": [
      "Collected 256 tweets at 2021-05-19.\n",
      "Running twitter query: \"(#covid) lang:en until:2021-05-21 since:2021-05-20\"\n"
     ]
    },
    {
     "name": "stderr",
     "output_type": "stream",
     "text": [
      "\r",
      " 39%|█████████████████████████████                                              | 465/1201 [1:41:38<3:03:06, 14.93s/it]"
     ]
    },
    {
     "name": "stdout",
     "output_type": "stream",
     "text": [
      "Collected 256 tweets at 2021-05-20.\n",
      "Running twitter query: \"(#covid) lang:en until:2021-05-22 since:2021-05-21\"\n"
     ]
    },
    {
     "name": "stderr",
     "output_type": "stream",
     "text": [
      "\r",
      " 39%|█████████████████████████████                                              | 466/1201 [1:41:52<2:59:03, 14.62s/it]"
     ]
    },
    {
     "name": "stdout",
     "output_type": "stream",
     "text": [
      "Collected 256 tweets at 2021-05-21.\n",
      "Running twitter query: \"(#covid) lang:en until:2021-05-23 since:2021-05-22\"\n"
     ]
    },
    {
     "name": "stderr",
     "output_type": "stream",
     "text": [
      "\r",
      " 39%|█████████████████████████████▏                                             | 467/1201 [1:42:06<2:55:00, 14.31s/it]"
     ]
    },
    {
     "name": "stdout",
     "output_type": "stream",
     "text": [
      "Collected 256 tweets at 2021-05-22.\n",
      "Running twitter query: \"(#covid) lang:en until:2021-05-24 since:2021-05-23\"\n"
     ]
    },
    {
     "name": "stderr",
     "output_type": "stream",
     "text": [
      "Empty user ref object in card on tweet 1396613503956393985\n",
      "User 899733078641225728 not found in user refs in card on tweet 1396613503956393985\n",
      "Unavailable user in card on tweet 1396490714159136768\n",
      "Unavailable user in card on tweet 1396490714159136768\n",
      "User 1062915983294300160 not found in user refs in card on tweet 1396490714159136768\n",
      "User 1062915983294300160 not found in user refs in card on tweet 1396490714159136768\n",
      " 39%|█████████████████████████████▏                                             | 468/1201 [1:42:20<2:55:27, 14.36s/it]"
     ]
    },
    {
     "name": "stdout",
     "output_type": "stream",
     "text": [
      "Collected 256 tweets at 2021-05-23.\n",
      "Running twitter query: \"(#covid) lang:en until:2021-05-25 since:2021-05-24\"\n"
     ]
    },
    {
     "name": "stderr",
     "output_type": "stream",
     "text": [
      "\r",
      " 39%|█████████████████████████████▎                                             | 469/1201 [1:42:34<2:54:26, 14.30s/it]"
     ]
    },
    {
     "name": "stdout",
     "output_type": "stream",
     "text": [
      "Collected 256 tweets at 2021-05-24.\n",
      "Running twitter query: \"(#covid) lang:en until:2021-05-26 since:2021-05-25\"\n"
     ]
    },
    {
     "name": "stderr",
     "output_type": "stream",
     "text": [
      "\r",
      " 39%|█████████████████████████████▎                                             | 470/1201 [1:42:48<2:50:18, 13.98s/it]"
     ]
    },
    {
     "name": "stdout",
     "output_type": "stream",
     "text": [
      "Collected 256 tweets at 2021-05-25.\n",
      "Running twitter query: \"(#covid) lang:en until:2021-05-27 since:2021-05-26\"\n"
     ]
    },
    {
     "name": "stderr",
     "output_type": "stream",
     "text": [
      "\r",
      " 39%|█████████████████████████████▍                                             | 471/1201 [1:43:02<2:52:00, 14.14s/it]"
     ]
    },
    {
     "name": "stdout",
     "output_type": "stream",
     "text": [
      "Collected 256 tweets at 2021-05-26.\n",
      "Running twitter query: \"(#covid) lang:en until:2021-05-28 since:2021-05-27\"\n"
     ]
    },
    {
     "name": "stderr",
     "output_type": "stream",
     "text": [
      "\r",
      " 39%|█████████████████████████████▍                                             | 472/1201 [1:43:17<2:56:11, 14.50s/it]"
     ]
    },
    {
     "name": "stdout",
     "output_type": "stream",
     "text": [
      "Collected 256 tweets at 2021-05-27.\n",
      "Running twitter query: \"(#covid) lang:en until:2021-05-29 since:2021-05-28\"\n"
     ]
    },
    {
     "name": "stderr",
     "output_type": "stream",
     "text": [
      "Unavailable user in card on tweet 1398415038965223426\n",
      "User 1411470135496298499 not found in user refs in card on tweet 1398415038965223426\n",
      " 39%|█████████████████████████████▌                                             | 473/1201 [1:43:32<2:57:24, 14.62s/it]"
     ]
    },
    {
     "name": "stdout",
     "output_type": "stream",
     "text": [
      "Collected 256 tweets at 2021-05-28.\n",
      "Running twitter query: \"(#covid) lang:en until:2021-05-30 since:2021-05-29\"\n"
     ]
    },
    {
     "name": "stderr",
     "output_type": "stream",
     "text": [
      "\r",
      " 39%|█████████████████████████████▌                                             | 474/1201 [1:43:49<3:03:35, 15.15s/it]"
     ]
    },
    {
     "name": "stdout",
     "output_type": "stream",
     "text": [
      "Collected 256 tweets at 2021-05-29.\n",
      "Running twitter query: \"(#covid) lang:en until:2021-05-31 since:2021-05-30\"\n"
     ]
    },
    {
     "name": "stderr",
     "output_type": "stream",
     "text": [
      "\r",
      " 40%|█████████████████████████████▋                                             | 475/1201 [1:44:04<3:05:20, 15.32s/it]"
     ]
    },
    {
     "name": "stdout",
     "output_type": "stream",
     "text": [
      "Collected 256 tweets at 2021-05-30.\n",
      "Running twitter query: \"(#covid) lang:en until:2021-06-01 since:2021-05-31\"\n"
     ]
    },
    {
     "name": "stderr",
     "output_type": "stream",
     "text": [
      "Unavailable user in card on tweet 1399478342554984454\n",
      "User 1572644685541445633 not found in user refs in card on tweet 1399478342554984454\n",
      " 40%|█████████████████████████████▋                                             | 476/1201 [1:44:20<3:05:19, 15.34s/it]"
     ]
    },
    {
     "name": "stdout",
     "output_type": "stream",
     "text": [
      "Collected 256 tweets at 2021-05-31.\n",
      "Saving 7936 tweets at 2021-05.\n",
      "Running twitter query: \"(#covid) lang:en until:2021-06-02 since:2021-06-01\"\n"
     ]
    },
    {
     "name": "stderr",
     "output_type": "stream",
     "text": [
      "\r",
      " 40%|█████████████████████████████▊                                             | 477/1201 [1:44:37<3:10:59, 15.83s/it]"
     ]
    },
    {
     "name": "stdout",
     "output_type": "stream",
     "text": [
      "Collected 256 tweets at 2021-06-01.\n",
      "Running twitter query: \"(#covid) lang:en until:2021-06-03 since:2021-06-02\"\n"
     ]
    },
    {
     "name": "stderr",
     "output_type": "stream",
     "text": [
      "Unavailable user in card on tweet 1400221306315018244\n",
      "User 2829914588 not found in user refs in card on tweet 1400221306315018244\n",
      " 40%|█████████████████████████████▊                                             | 478/1201 [1:44:49<2:55:44, 14.58s/it]"
     ]
    },
    {
     "name": "stdout",
     "output_type": "stream",
     "text": [
      "Collected 256 tweets at 2021-06-02.\n",
      "Running twitter query: \"(#covid) lang:en until:2021-06-04 since:2021-06-03\"\n"
     ]
    },
    {
     "name": "stderr",
     "output_type": "stream",
     "text": [
      "\r",
      " 40%|█████████████████████████████▉                                             | 479/1201 [1:45:01<2:48:08, 13.97s/it]"
     ]
    },
    {
     "name": "stdout",
     "output_type": "stream",
     "text": [
      "Collected 256 tweets at 2021-06-03.\n",
      "Running twitter query: \"(#covid) lang:en until:2021-06-05 since:2021-06-04\"\n"
     ]
    },
    {
     "name": "stderr",
     "output_type": "stream",
     "text": [
      "\r",
      " 40%|█████████████████████████████▉                                             | 480/1201 [1:45:14<2:42:22, 13.51s/it]"
     ]
    },
    {
     "name": "stdout",
     "output_type": "stream",
     "text": [
      "Collected 256 tweets at 2021-06-04.\n",
      "Running twitter query: \"(#covid) lang:en until:2021-06-06 since:2021-06-05\"\n"
     ]
    },
    {
     "name": "stderr",
     "output_type": "stream",
     "text": [
      "\r",
      " 40%|██████████████████████████████                                             | 481/1201 [1:45:27<2:40:31, 13.38s/it]"
     ]
    },
    {
     "name": "stdout",
     "output_type": "stream",
     "text": [
      "Collected 256 tweets at 2021-06-05.\n",
      "Running twitter query: \"(#covid) lang:en until:2021-06-07 since:2021-06-06\"\n"
     ]
    },
    {
     "name": "stderr",
     "output_type": "stream",
     "text": [
      "\r",
      " 40%|██████████████████████████████                                             | 482/1201 [1:45:39<2:37:08, 13.11s/it]"
     ]
    },
    {
     "name": "stdout",
     "output_type": "stream",
     "text": [
      "Collected 256 tweets at 2021-06-06.\n",
      "Running twitter query: \"(#covid) lang:en until:2021-06-08 since:2021-06-07\"\n"
     ]
    },
    {
     "name": "stderr",
     "output_type": "stream",
     "text": [
      "\r",
      " 40%|██████████████████████████████▏                                            | 483/1201 [1:45:52<2:36:48, 13.10s/it]"
     ]
    },
    {
     "name": "stdout",
     "output_type": "stream",
     "text": [
      "Collected 256 tweets at 2021-06-07.\n",
      "Running twitter query: \"(#covid) lang:en until:2021-06-09 since:2021-06-08\"\n"
     ]
    },
    {
     "name": "stderr",
     "output_type": "stream",
     "text": [
      "\r",
      " 40%|██████████████████████████████▏                                            | 484/1201 [1:46:07<2:42:04, 13.56s/it]"
     ]
    },
    {
     "name": "stdout",
     "output_type": "stream",
     "text": [
      "Collected 256 tweets at 2021-06-08.\n",
      "Running twitter query: \"(#covid) lang:en until:2021-06-10 since:2021-06-09\"\n"
     ]
    },
    {
     "name": "stderr",
     "output_type": "stream",
     "text": [
      "\r",
      " 40%|██████████████████████████████▎                                            | 485/1201 [1:46:19<2:36:34, 13.12s/it]"
     ]
    },
    {
     "name": "stdout",
     "output_type": "stream",
     "text": [
      "Collected 256 tweets at 2021-06-09.\n",
      "Running twitter query: \"(#covid) lang:en until:2021-06-11 since:2021-06-10\"\n"
     ]
    },
    {
     "name": "stderr",
     "output_type": "stream",
     "text": [
      "\r",
      " 40%|██████████████████████████████▎                                            | 486/1201 [1:46:32<2:37:36, 13.23s/it]"
     ]
    },
    {
     "name": "stdout",
     "output_type": "stream",
     "text": [
      "Collected 256 tweets at 2021-06-10.\n",
      "Running twitter query: \"(#covid) lang:en until:2021-06-12 since:2021-06-11\"\n"
     ]
    },
    {
     "name": "stderr",
     "output_type": "stream",
     "text": [
      "\r",
      " 41%|██████████████████████████████▍                                            | 487/1201 [1:46:46<2:37:44, 13.26s/it]"
     ]
    },
    {
     "name": "stdout",
     "output_type": "stream",
     "text": [
      "Collected 256 tweets at 2021-06-11.\n",
      "Running twitter query: \"(#covid) lang:en until:2021-06-13 since:2021-06-12\"\n"
     ]
    },
    {
     "name": "stderr",
     "output_type": "stream",
     "text": [
      "\r",
      " 41%|██████████████████████████████▍                                            | 488/1201 [1:46:59<2:36:21, 13.16s/it]"
     ]
    },
    {
     "name": "stdout",
     "output_type": "stream",
     "text": [
      "Collected 256 tweets at 2021-06-12.\n",
      "Running twitter query: \"(#covid) lang:en until:2021-06-14 since:2021-06-13\"\n"
     ]
    },
    {
     "name": "stderr",
     "output_type": "stream",
     "text": [
      "\r",
      " 41%|██████████████████████████████▌                                            | 489/1201 [1:47:12<2:35:56, 13.14s/it]"
     ]
    },
    {
     "name": "stdout",
     "output_type": "stream",
     "text": [
      "Collected 256 tweets at 2021-06-13.\n",
      "Running twitter query: \"(#covid) lang:en until:2021-06-15 since:2021-06-14\"\n"
     ]
    },
    {
     "name": "stderr",
     "output_type": "stream",
     "text": [
      "Unavailable user in card on tweet 1404579971104923648\n",
      "User 14204245 not found in user refs in card on tweet 1404579971104923648\n",
      " 41%|██████████████████████████████▌                                            | 490/1201 [1:47:25<2:34:57, 13.08s/it]"
     ]
    },
    {
     "name": "stdout",
     "output_type": "stream",
     "text": [
      "Collected 256 tweets at 2021-06-14.\n",
      "Running twitter query: \"(#covid) lang:en until:2021-06-16 since:2021-06-15\"\n"
     ]
    },
    {
     "name": "stderr",
     "output_type": "stream",
     "text": [
      "\r",
      " 41%|██████████████████████████████▋                                            | 491/1201 [1:47:38<2:34:00, 13.01s/it]"
     ]
    },
    {
     "name": "stdout",
     "output_type": "stream",
     "text": [
      "Collected 256 tweets at 2021-06-15.\n",
      "Running twitter query: \"(#covid) lang:en until:2021-06-17 since:2021-06-16\"\n"
     ]
    },
    {
     "name": "stderr",
     "output_type": "stream",
     "text": [
      "\r",
      " 41%|██████████████████████████████▋                                            | 492/1201 [1:47:52<2:37:43, 13.35s/it]"
     ]
    },
    {
     "name": "stdout",
     "output_type": "stream",
     "text": [
      "Collected 256 tweets at 2021-06-16.\n",
      "Running twitter query: \"(#covid) lang:en until:2021-06-18 since:2021-06-17\"\n"
     ]
    },
    {
     "name": "stderr",
     "output_type": "stream",
     "text": [
      "\r",
      " 41%|██████████████████████████████▊                                            | 493/1201 [1:48:06<2:40:28, 13.60s/it]"
     ]
    },
    {
     "name": "stdout",
     "output_type": "stream",
     "text": [
      "Collected 256 tweets at 2021-06-17.\n",
      "Running twitter query: \"(#covid) lang:en until:2021-06-19 since:2021-06-18\"\n"
     ]
    },
    {
     "name": "stderr",
     "output_type": "stream",
     "text": [
      "\r",
      " 41%|██████████████████████████████▊                                            | 494/1201 [1:48:20<2:42:21, 13.78s/it]"
     ]
    },
    {
     "name": "stdout",
     "output_type": "stream",
     "text": [
      "Collected 256 tweets at 2021-06-18.\n",
      "Running twitter query: \"(#covid) lang:en until:2021-06-20 since:2021-06-19\"\n"
     ]
    },
    {
     "name": "stderr",
     "output_type": "stream",
     "text": [
      "\r",
      " 41%|██████████████████████████████▉                                            | 495/1201 [1:48:35<2:46:29, 14.15s/it]"
     ]
    },
    {
     "name": "stdout",
     "output_type": "stream",
     "text": [
      "Collected 256 tweets at 2021-06-19.\n",
      "Running twitter query: \"(#covid) lang:en until:2021-06-21 since:2021-06-20\"\n"
     ]
    },
    {
     "name": "stderr",
     "output_type": "stream",
     "text": [
      "\r",
      " 41%|██████████████████████████████▉                                            | 496/1201 [1:48:49<2:47:09, 14.23s/it]"
     ]
    },
    {
     "name": "stdout",
     "output_type": "stream",
     "text": [
      "Collected 256 tweets at 2021-06-20.\n",
      "Running twitter query: \"(#covid) lang:en until:2021-06-22 since:2021-06-21\"\n"
     ]
    },
    {
     "name": "stderr",
     "output_type": "stream",
     "text": [
      "\r",
      " 41%|███████████████████████████████                                            | 497/1201 [1:49:03<2:45:17, 14.09s/it]"
     ]
    },
    {
     "name": "stdout",
     "output_type": "stream",
     "text": [
      "Collected 256 tweets at 2021-06-21.\n",
      "Running twitter query: \"(#covid) lang:en until:2021-06-23 since:2021-06-22\"\n"
     ]
    },
    {
     "name": "stderr",
     "output_type": "stream",
     "text": [
      "\r",
      " 41%|███████████████████████████████                                            | 498/1201 [1:49:18<2:47:01, 14.26s/it]"
     ]
    },
    {
     "name": "stdout",
     "output_type": "stream",
     "text": [
      "Collected 256 tweets at 2021-06-22.\n",
      "Running twitter query: \"(#covid) lang:en until:2021-06-24 since:2021-06-23\"\n"
     ]
    },
    {
     "name": "stderr",
     "output_type": "stream",
     "text": [
      "Unavailable user in card on tweet 1407825442690813953\n",
      "User 211775238 not found in user refs in card on tweet 1407825442690813953\n",
      " 42%|███████████████████████████████▏                                           | 499/1201 [1:49:33<2:49:40, 14.50s/it]"
     ]
    },
    {
     "name": "stdout",
     "output_type": "stream",
     "text": [
      "Collected 256 tweets at 2021-06-23.\n",
      "Running twitter query: \"(#covid) lang:en until:2021-06-25 since:2021-06-24\"\n"
     ]
    },
    {
     "name": "stderr",
     "output_type": "stream",
     "text": [
      "\r",
      " 42%|███████████████████████████████▏                                           | 500/1201 [1:49:49<2:54:57, 14.97s/it]"
     ]
    },
    {
     "name": "stdout",
     "output_type": "stream",
     "text": [
      "Collected 256 tweets at 2021-06-24.\n",
      "Running twitter query: \"(#covid) lang:en until:2021-06-26 since:2021-06-25\"\n"
     ]
    },
    {
     "name": "stderr",
     "output_type": "stream",
     "text": [
      "Empty user ref object in card on tweet 1408543233584496640\n",
      "User 899733078641225728 not found in user refs in card on tweet 1408543233584496640\n",
      " 42%|███████████████████████████████▎                                           | 501/1201 [1:50:06<3:01:01, 15.52s/it]"
     ]
    },
    {
     "name": "stdout",
     "output_type": "stream",
     "text": [
      "Collected 256 tweets at 2021-06-25.\n",
      "Running twitter query: \"(#covid) lang:en until:2021-06-27 since:2021-06-26\"\n"
     ]
    },
    {
     "name": "stderr",
     "output_type": "stream",
     "text": [
      "\r",
      " 42%|███████████████████████████████▎                                           | 502/1201 [1:50:21<2:59:50, 15.44s/it]"
     ]
    },
    {
     "name": "stdout",
     "output_type": "stream",
     "text": [
      "Collected 256 tweets at 2021-06-26.\n",
      "Running twitter query: \"(#covid) lang:en until:2021-06-28 since:2021-06-27\"\n"
     ]
    },
    {
     "name": "stderr",
     "output_type": "stream",
     "text": [
      "\r",
      " 42%|███████████████████████████████▍                                           | 503/1201 [1:50:37<3:01:45, 15.62s/it]"
     ]
    },
    {
     "name": "stdout",
     "output_type": "stream",
     "text": [
      "Collected 256 tweets at 2021-06-27.\n",
      "Running twitter query: \"(#covid) lang:en until:2021-06-29 since:2021-06-28\"\n"
     ]
    },
    {
     "name": "stderr",
     "output_type": "stream",
     "text": [
      "\r",
      " 42%|███████████████████████████████▍                                           | 504/1201 [1:50:54<3:05:30, 15.97s/it]"
     ]
    },
    {
     "name": "stdout",
     "output_type": "stream",
     "text": [
      "Collected 256 tweets at 2021-06-28.\n",
      "Running twitter query: \"(#covid) lang:en until:2021-06-30 since:2021-06-29\"\n"
     ]
    },
    {
     "name": "stderr",
     "output_type": "stream",
     "text": [
      "\r",
      " 42%|███████████████████████████████▌                                           | 505/1201 [1:51:10<3:06:23, 16.07s/it]"
     ]
    },
    {
     "name": "stdout",
     "output_type": "stream",
     "text": [
      "Collected 256 tweets at 2021-06-29.\n",
      "Running twitter query: \"(#covid) lang:en until:2021-07-01 since:2021-06-30\"\n"
     ]
    },
    {
     "name": "stderr",
     "output_type": "stream",
     "text": [
      "\r",
      " 42%|███████████████████████████████▌                                           | 506/1201 [1:51:26<3:06:38, 16.11s/it]"
     ]
    },
    {
     "name": "stdout",
     "output_type": "stream",
     "text": [
      "Collected 256 tweets at 2021-06-30.\n",
      "Saving 7680 tweets at 2021-06.\n",
      "Running twitter query: \"(#covid) lang:en until:2021-07-02 since:2021-07-01\"\n"
     ]
    },
    {
     "name": "stderr",
     "output_type": "stream",
     "text": [
      "\r",
      " 42%|███████████████████████████████▋                                           | 507/1201 [1:51:39<2:54:45, 15.11s/it]"
     ]
    },
    {
     "name": "stdout",
     "output_type": "stream",
     "text": [
      "Collected 256 tweets at 2021-07-01.\n",
      "Running twitter query: \"(#covid) lang:en until:2021-07-03 since:2021-07-02\"\n"
     ]
    },
    {
     "name": "stderr",
     "output_type": "stream",
     "text": [
      "Empty user ref object in card on tweet 1411065180838977539\n",
      "Empty user ref object in card on tweet 1411065180838977539\n",
      "User 4503599629184530 not found in user refs in card on tweet 1411065180838977539\n",
      "User 4503599629184530 not found in user refs in card on tweet 1411065180838977539\n",
      " 42%|███████████████████████████████▋                                           | 508/1201 [1:51:52<2:45:27, 14.33s/it]"
     ]
    },
    {
     "name": "stdout",
     "output_type": "stream",
     "text": [
      "Collected 256 tweets at 2021-07-02.\n",
      "Running twitter query: \"(#covid) lang:en until:2021-07-04 since:2021-07-03\"\n"
     ]
    },
    {
     "name": "stderr",
     "output_type": "stream",
     "text": [
      "\r",
      " 42%|███████████████████████████████▊                                           | 509/1201 [1:52:04<2:38:46, 13.77s/it]"
     ]
    },
    {
     "name": "stdout",
     "output_type": "stream",
     "text": [
      "Collected 256 tweets at 2021-07-03.\n",
      "Running twitter query: \"(#covid) lang:en until:2021-07-05 since:2021-07-04\"\n"
     ]
    },
    {
     "name": "stderr",
     "output_type": "stream",
     "text": [
      "Unavailable user in card on tweet 1411816717353992199\n",
      "User 14204245 not found in user refs in card on tweet 1411816717353992199\n",
      "Unavailable user in card on tweet 1411816548130508802\n",
      "User 14204245 not found in user refs in card on tweet 1411816548130508802\n",
      "Unavailable user in card on tweet 1411809133829971973\n",
      "User 1187610106143227904 not found in user refs in card on tweet 1411809133829971973\n",
      " 42%|███████████████████████████████▊                                           | 510/1201 [1:52:19<2:42:57, 14.15s/it]"
     ]
    },
    {
     "name": "stdout",
     "output_type": "stream",
     "text": [
      "Collected 256 tweets at 2021-07-04.\n",
      "Running twitter query: \"(#covid) lang:en until:2021-07-06 since:2021-07-05\"\n"
     ]
    },
    {
     "name": "stderr",
     "output_type": "stream",
     "text": [
      "Unavailable user in card on tweet 1412184607554945028\n",
      "User 28550209 not found in user refs in card on tweet 1412184607554945028\n",
      " 43%|███████████████████████████████▉                                           | 511/1201 [1:52:32<2:36:51, 13.64s/it]"
     ]
    },
    {
     "name": "stdout",
     "output_type": "stream",
     "text": [
      "Collected 256 tweets at 2021-07-05.\n",
      "Running twitter query: \"(#covid) lang:en until:2021-07-07 since:2021-07-06\"\n"
     ]
    },
    {
     "name": "stderr",
     "output_type": "stream",
     "text": [
      "\r",
      " 43%|███████████████████████████████▉                                           | 512/1201 [1:52:44<2:33:15, 13.35s/it]"
     ]
    },
    {
     "name": "stdout",
     "output_type": "stream",
     "text": [
      "Collected 256 tweets at 2021-07-06.\n",
      "Running twitter query: \"(#covid) lang:en until:2021-07-08 since:2021-07-07\"\n"
     ]
    },
    {
     "name": "stderr",
     "output_type": "stream",
     "text": [
      "\r",
      " 43%|████████████████████████████████                                           | 513/1201 [1:52:56<2:28:35, 12.96s/it]"
     ]
    },
    {
     "name": "stdout",
     "output_type": "stream",
     "text": [
      "Collected 256 tweets at 2021-07-07.\n",
      "Running twitter query: \"(#covid) lang:en until:2021-07-09 since:2021-07-08\"\n"
     ]
    },
    {
     "name": "stderr",
     "output_type": "stream",
     "text": [
      "Unavailable user in card on tweet 1413279530119278592\n",
      "User 14204245 not found in user refs in card on tweet 1413279530119278592\n",
      "Unavailable user in card on tweet 1413279236224282627\n",
      "User 186969945 not found in user refs in card on tweet 1413279236224282627\n",
      " 43%|████████████████████████████████                                           | 514/1201 [1:53:09<2:27:03, 12.84s/it]"
     ]
    },
    {
     "name": "stdout",
     "output_type": "stream",
     "text": [
      "Collected 256 tweets at 2021-07-08.\n",
      "Running twitter query: \"(#covid) lang:en until:2021-07-10 since:2021-07-09\"\n"
     ]
    },
    {
     "name": "stderr",
     "output_type": "stream",
     "text": [
      "\r",
      " 43%|████████████████████████████████▏                                          | 515/1201 [1:53:23<2:32:52, 13.37s/it]"
     ]
    },
    {
     "name": "stdout",
     "output_type": "stream",
     "text": [
      "Collected 256 tweets at 2021-07-09.\n",
      "Running twitter query: \"(#covid) lang:en until:2021-07-11 since:2021-07-10\"\n"
     ]
    },
    {
     "name": "stderr",
     "output_type": "stream",
     "text": [
      "\r",
      " 43%|████████████████████████████████▏                                          | 516/1201 [1:53:37<2:33:12, 13.42s/it]"
     ]
    },
    {
     "name": "stdout",
     "output_type": "stream",
     "text": [
      "Collected 256 tweets at 2021-07-10.\n",
      "Running twitter query: \"(#covid) lang:en until:2021-07-12 since:2021-07-11\"\n"
     ]
    },
    {
     "name": "stderr",
     "output_type": "stream",
     "text": [
      "\r",
      " 43%|████████████████████████████████▎                                          | 517/1201 [1:53:50<2:29:49, 13.14s/it]"
     ]
    },
    {
     "name": "stdout",
     "output_type": "stream",
     "text": [
      "Collected 256 tweets at 2021-07-11.\n",
      "Running twitter query: \"(#covid) lang:en until:2021-07-13 since:2021-07-12\"\n"
     ]
    },
    {
     "name": "stderr",
     "output_type": "stream",
     "text": [
      "\r",
      " 43%|████████████████████████████████▎                                          | 518/1201 [1:54:04<2:33:03, 13.45s/it]"
     ]
    },
    {
     "name": "stdout",
     "output_type": "stream",
     "text": [
      "Collected 256 tweets at 2021-07-12.\n",
      "Running twitter query: \"(#covid) lang:en until:2021-07-14 since:2021-07-13\"\n"
     ]
    },
    {
     "name": "stderr",
     "output_type": "stream",
     "text": [
      "Empty user ref object in card on tweet 1415096092518199301\n",
      "User 899733078641225728 not found in user refs in card on tweet 1415096092518199301\n",
      " 43%|████████████████████████████████▍                                          | 519/1201 [1:54:20<2:42:31, 14.30s/it]"
     ]
    },
    {
     "name": "stdout",
     "output_type": "stream",
     "text": [
      "Collected 256 tweets at 2021-07-13.\n",
      "Running twitter query: \"(#covid) lang:en until:2021-07-15 since:2021-07-14\"\n"
     ]
    },
    {
     "name": "stderr",
     "output_type": "stream",
     "text": [
      "\r",
      " 43%|████████████████████████████████▍                                          | 520/1201 [1:54:33<2:39:04, 14.01s/it]"
     ]
    },
    {
     "name": "stdout",
     "output_type": "stream",
     "text": [
      "Collected 256 tweets at 2021-07-14.\n",
      "Running twitter query: \"(#covid) lang:en until:2021-07-16 since:2021-07-15\"\n"
     ]
    },
    {
     "name": "stderr",
     "output_type": "stream",
     "text": [
      "\r",
      " 43%|████████████████████████████████▌                                          | 521/1201 [1:54:46<2:34:47, 13.66s/it]"
     ]
    },
    {
     "name": "stdout",
     "output_type": "stream",
     "text": [
      "Collected 256 tweets at 2021-07-15.\n",
      "Running twitter query: \"(#covid) lang:en until:2021-07-17 since:2021-07-16\"\n"
     ]
    },
    {
     "name": "stderr",
     "output_type": "stream",
     "text": [
      "\r",
      " 43%|████████████████████████████████▌                                          | 522/1201 [1:54:59<2:31:26, 13.38s/it]"
     ]
    },
    {
     "name": "stdout",
     "output_type": "stream",
     "text": [
      "Collected 256 tweets at 2021-07-16.\n",
      "Running twitter query: \"(#covid) lang:en until:2021-07-18 since:2021-07-17\"\n"
     ]
    },
    {
     "name": "stderr",
     "output_type": "stream",
     "text": [
      "Unavailable user in card on tweet 1416546137708900356\n",
      "User 14204245 not found in user refs in card on tweet 1416546137708900356\n",
      " 44%|████████████████████████████████▋                                          | 523/1201 [1:55:13<2:32:32, 13.50s/it]"
     ]
    },
    {
     "name": "stdout",
     "output_type": "stream",
     "text": [
      "Collected 256 tweets at 2021-07-17.\n",
      "Running twitter query: \"(#covid) lang:en until:2021-07-19 since:2021-07-18\"\n"
     ]
    },
    {
     "name": "stderr",
     "output_type": "stream",
     "text": [
      "\r",
      " 44%|████████████████████████████████▋                                          | 524/1201 [1:55:26<2:32:18, 13.50s/it]"
     ]
    },
    {
     "name": "stdout",
     "output_type": "stream",
     "text": [
      "Collected 256 tweets at 2021-07-18.\n",
      "Running twitter query: \"(#covid) lang:en until:2021-07-20 since:2021-07-19\"\n"
     ]
    },
    {
     "name": "stderr",
     "output_type": "stream",
     "text": [
      "\r",
      " 44%|████████████████████████████████▊                                          | 525/1201 [1:55:42<2:40:28, 14.24s/it]"
     ]
    },
    {
     "name": "stdout",
     "output_type": "stream",
     "text": [
      "Collected 256 tweets at 2021-07-19.\n",
      "Running twitter query: \"(#covid) lang:en until:2021-07-21 since:2021-07-20\"\n"
     ]
    },
    {
     "name": "stderr",
     "output_type": "stream",
     "text": [
      "\r",
      " 44%|████████████████████████████████▊                                          | 526/1201 [1:55:56<2:38:23, 14.08s/it]"
     ]
    },
    {
     "name": "stdout",
     "output_type": "stream",
     "text": [
      "Collected 256 tweets at 2021-07-20.\n",
      "Running twitter query: \"(#covid) lang:en until:2021-07-22 since:2021-07-21\"\n"
     ]
    },
    {
     "name": "stderr",
     "output_type": "stream",
     "text": [
      "\r",
      " 44%|████████████████████████████████▉                                          | 527/1201 [1:56:10<2:39:22, 14.19s/it]"
     ]
    },
    {
     "name": "stdout",
     "output_type": "stream",
     "text": [
      "Collected 256 tweets at 2021-07-21.\n",
      "Running twitter query: \"(#covid) lang:en until:2021-07-23 since:2021-07-22\"\n"
     ]
    },
    {
     "name": "stderr",
     "output_type": "stream",
     "text": [
      "Unavailable user in card on tweet 1418348159466721281\n",
      "User 1402591547007418371 not found in user refs in card on tweet 1418348159466721281\n",
      "Unavailable user in card on tweet 1418342351852953600\n",
      "User 14204245 not found in user refs in card on tweet 1418342351852953600\n",
      " 44%|████████████████████████████████▉                                          | 528/1201 [1:56:25<2:40:47, 14.34s/it]"
     ]
    },
    {
     "name": "stdout",
     "output_type": "stream",
     "text": [
      "Collected 256 tweets at 2021-07-22.\n",
      "Running twitter query: \"(#covid) lang:en until:2021-07-24 since:2021-07-23\"\n"
     ]
    },
    {
     "name": "stderr",
     "output_type": "stream",
     "text": [
      "\r",
      " 44%|█████████████████████████████████                                          | 529/1201 [1:56:41<2:45:41, 14.79s/it]"
     ]
    },
    {
     "name": "stdout",
     "output_type": "stream",
     "text": [
      "Collected 256 tweets at 2021-07-23.\n",
      "Running twitter query: \"(#covid) lang:en until:2021-07-25 since:2021-07-24\"\n"
     ]
    },
    {
     "name": "stderr",
     "output_type": "stream",
     "text": [
      "\r",
      " 44%|█████████████████████████████████                                          | 530/1201 [1:56:56<2:48:04, 15.03s/it]"
     ]
    },
    {
     "name": "stdout",
     "output_type": "stream",
     "text": [
      "Collected 256 tweets at 2021-07-24.\n",
      "Running twitter query: \"(#covid) lang:en until:2021-07-26 since:2021-07-25\"\n"
     ]
    },
    {
     "name": "stderr",
     "output_type": "stream",
     "text": [
      "\r",
      " 44%|█████████████████████████████████▏                                         | 531/1201 [1:57:11<2:45:37, 14.83s/it]"
     ]
    },
    {
     "name": "stdout",
     "output_type": "stream",
     "text": [
      "Collected 256 tweets at 2021-07-25.\n",
      "Running twitter query: \"(#covid) lang:en until:2021-07-27 since:2021-07-26\"\n"
     ]
    },
    {
     "name": "stderr",
     "output_type": "stream",
     "text": [
      "\r",
      " 44%|█████████████████████████████████▏                                         | 532/1201 [1:57:26<2:46:13, 14.91s/it]"
     ]
    },
    {
     "name": "stdout",
     "output_type": "stream",
     "text": [
      "Collected 256 tweets at 2021-07-26.\n",
      "Running twitter query: \"(#covid) lang:en until:2021-07-28 since:2021-07-27\"\n"
     ]
    },
    {
     "name": "stderr",
     "output_type": "stream",
     "text": [
      "\r",
      " 44%|█████████████████████████████████▎                                         | 533/1201 [1:57:41<2:45:52, 14.90s/it]"
     ]
    },
    {
     "name": "stdout",
     "output_type": "stream",
     "text": [
      "Collected 256 tweets at 2021-07-27.\n",
      "Running twitter query: \"(#covid) lang:en until:2021-07-29 since:2021-07-28\"\n"
     ]
    },
    {
     "name": "stderr",
     "output_type": "stream",
     "text": [
      "\r",
      " 44%|█████████████████████████████████▎                                         | 534/1201 [1:57:56<2:45:13, 14.86s/it]"
     ]
    },
    {
     "name": "stdout",
     "output_type": "stream",
     "text": [
      "Collected 256 tweets at 2021-07-28.\n",
      "Running twitter query: \"(#covid) lang:en until:2021-07-30 since:2021-07-29\"\n"
     ]
    },
    {
     "name": "stderr",
     "output_type": "stream",
     "text": [
      "\r",
      " 45%|█████████████████████████████████▍                                         | 535/1201 [1:58:11<2:47:05, 15.05s/it]"
     ]
    },
    {
     "name": "stdout",
     "output_type": "stream",
     "text": [
      "Collected 256 tweets at 2021-07-29.\n",
      "Running twitter query: \"(#covid) lang:en until:2021-07-31 since:2021-07-30\"\n"
     ]
    },
    {
     "name": "stderr",
     "output_type": "stream",
     "text": [
      "\r",
      " 45%|█████████████████████████████████▍                                         | 536/1201 [1:58:29<2:55:18, 15.82s/it]"
     ]
    },
    {
     "name": "stdout",
     "output_type": "stream",
     "text": [
      "Collected 256 tweets at 2021-07-30.\n",
      "Running twitter query: \"(#covid) lang:en until:2021-08-01 since:2021-07-31\"\n"
     ]
    },
    {
     "name": "stderr",
     "output_type": "stream",
     "text": [
      "Unavailable user in card on tweet 1421609010327871488\n",
      "User 14204245 not found in user refs in card on tweet 1421609010327871488\n",
      " 45%|█████████████████████████████████▌                                         | 537/1201 [1:58:43<2:51:24, 15.49s/it]"
     ]
    },
    {
     "name": "stdout",
     "output_type": "stream",
     "text": [
      "Collected 256 tweets at 2021-07-31.\n",
      "Saving 7936 tweets at 2021-07.\n",
      "Running twitter query: \"(#covid) lang:en until:2021-08-02 since:2021-08-01\"\n"
     ]
    },
    {
     "name": "stderr",
     "output_type": "stream",
     "text": [
      "\r",
      " 45%|█████████████████████████████████▌                                         | 538/1201 [1:58:56<2:40:27, 14.52s/it]"
     ]
    },
    {
     "name": "stdout",
     "output_type": "stream",
     "text": [
      "Collected 256 tweets at 2021-08-01.\n",
      "Running twitter query: \"(#covid) lang:en until:2021-08-03 since:2021-08-02\"\n"
     ]
    },
    {
     "name": "stderr",
     "output_type": "stream",
     "text": [
      "\r",
      " 45%|█████████████████████████████████▋                                         | 539/1201 [1:59:08<2:33:09, 13.88s/it]"
     ]
    },
    {
     "name": "stdout",
     "output_type": "stream",
     "text": [
      "Collected 256 tweets at 2021-08-02.\n",
      "Running twitter query: \"(#covid) lang:en until:2021-08-04 since:2021-08-03\"\n"
     ]
    },
    {
     "name": "stderr",
     "output_type": "stream",
     "text": [
      "\r",
      " 45%|█████████████████████████████████▋                                         | 540/1201 [1:59:19<2:24:52, 13.15s/it]"
     ]
    },
    {
     "name": "stdout",
     "output_type": "stream",
     "text": [
      "Collected 256 tweets at 2021-08-03.\n",
      "Running twitter query: \"(#covid) lang:en until:2021-08-05 since:2021-08-04\"\n"
     ]
    },
    {
     "name": "stderr",
     "output_type": "stream",
     "text": [
      "Empty user ref object in card on tweet 1423055581003325443\n",
      "User 899733078641225728 not found in user refs in card on tweet 1423055581003325443\n",
      " 45%|█████████████████████████████████▊                                         | 541/1201 [1:59:34<2:28:08, 13.47s/it]"
     ]
    },
    {
     "name": "stdout",
     "output_type": "stream",
     "text": [
      "Collected 256 tweets at 2021-08-04.\n",
      "Running twitter query: \"(#covid) lang:en until:2021-08-06 since:2021-08-05\"\n"
     ]
    },
    {
     "name": "stderr",
     "output_type": "stream",
     "text": [
      "\r",
      " 45%|█████████████████████████████████▊                                         | 542/1201 [1:59:47<2:26:31, 13.34s/it]"
     ]
    },
    {
     "name": "stdout",
     "output_type": "stream",
     "text": [
      "Collected 256 tweets at 2021-08-05.\n",
      "Running twitter query: \"(#covid) lang:en until:2021-08-07 since:2021-08-06\"\n"
     ]
    },
    {
     "name": "stderr",
     "output_type": "stream",
     "text": [
      "\r",
      " 45%|█████████████████████████████████▉                                         | 543/1201 [2:00:00<2:26:24, 13.35s/it]"
     ]
    },
    {
     "name": "stdout",
     "output_type": "stream",
     "text": [
      "Collected 256 tweets at 2021-08-06.\n",
      "Running twitter query: \"(#covid) lang:en until:2021-08-08 since:2021-08-07\"\n"
     ]
    },
    {
     "name": "stderr",
     "output_type": "stream",
     "text": [
      "\r",
      " 45%|█████████████████████████████████▉                                         | 544/1201 [2:00:13<2:25:40, 13.30s/it]"
     ]
    },
    {
     "name": "stdout",
     "output_type": "stream",
     "text": [
      "Collected 256 tweets at 2021-08-07.\n",
      "Running twitter query: \"(#covid) lang:en until:2021-08-09 since:2021-08-08\"\n"
     ]
    },
    {
     "name": "stderr",
     "output_type": "stream",
     "text": [
      "\r",
      " 45%|██████████████████████████████████                                         | 545/1201 [2:00:27<2:25:19, 13.29s/it]"
     ]
    },
    {
     "name": "stdout",
     "output_type": "stream",
     "text": [
      "Collected 256 tweets at 2021-08-08.\n",
      "Running twitter query: \"(#covid) lang:en until:2021-08-10 since:2021-08-09\"\n"
     ]
    },
    {
     "name": "stderr",
     "output_type": "stream",
     "text": [
      "\r",
      " 45%|██████████████████████████████████                                         | 546/1201 [2:00:41<2:29:54, 13.73s/it]"
     ]
    },
    {
     "name": "stdout",
     "output_type": "stream",
     "text": [
      "Collected 256 tweets at 2021-08-09.\n",
      "Running twitter query: \"(#covid) lang:en until:2021-08-11 since:2021-08-10\"\n"
     ]
    },
    {
     "name": "stderr",
     "output_type": "stream",
     "text": [
      "\r",
      " 46%|██████████████████████████████████▏                                        | 547/1201 [2:00:54<2:26:07, 13.41s/it]"
     ]
    },
    {
     "name": "stdout",
     "output_type": "stream",
     "text": [
      "Collected 256 tweets at 2021-08-10.\n",
      "Running twitter query: \"(#covid) lang:en until:2021-08-12 since:2021-08-11\"\n"
     ]
    },
    {
     "name": "stderr",
     "output_type": "stream",
     "text": [
      "\r",
      " 46%|██████████████████████████████████▏                                        | 548/1201 [2:01:07<2:23:58, 13.23s/it]"
     ]
    },
    {
     "name": "stdout",
     "output_type": "stream",
     "text": [
      "Collected 256 tweets at 2021-08-11.\n",
      "Running twitter query: \"(#covid) lang:en until:2021-08-13 since:2021-08-12\"\n"
     ]
    },
    {
     "name": "stderr",
     "output_type": "stream",
     "text": [
      "Unavailable user in card on tweet 1425932655850315777\n",
      "User 28550209 not found in user refs in card on tweet 1425932655850315777\n",
      " 46%|██████████████████████████████████▎                                        | 549/1201 [2:01:20<2:22:41, 13.13s/it]"
     ]
    },
    {
     "name": "stdout",
     "output_type": "stream",
     "text": [
      "Collected 256 tweets at 2021-08-12.\n",
      "Running twitter query: \"(#covid) lang:en until:2021-08-14 since:2021-08-13\"\n"
     ]
    },
    {
     "name": "stderr",
     "output_type": "stream",
     "text": [
      "\r",
      " 46%|██████████████████████████████████▎                                        | 550/1201 [2:01:33<2:22:35, 13.14s/it]"
     ]
    },
    {
     "name": "stdout",
     "output_type": "stream",
     "text": [
      "Collected 256 tweets at 2021-08-13.\n",
      "Running twitter query: \"(#covid) lang:en until:2021-08-15 since:2021-08-14\"\n"
     ]
    },
    {
     "name": "stderr",
     "output_type": "stream",
     "text": [
      "\r",
      " 46%|██████████████████████████████████▍                                        | 551/1201 [2:01:46<2:23:40, 13.26s/it]"
     ]
    },
    {
     "name": "stdout",
     "output_type": "stream",
     "text": [
      "Collected 256 tweets at 2021-08-14.\n",
      "Running twitter query: \"(#covid) lang:en until:2021-08-16 since:2021-08-15\"\n"
     ]
    },
    {
     "name": "stderr",
     "output_type": "stream",
     "text": [
      "Unavailable user in card on tweet 1427034591035002882\n",
      "User 14204245 not found in user refs in card on tweet 1427034591035002882\n",
      " 46%|██████████████████████████████████▍                                        | 552/1201 [2:01:59<2:21:34, 13.09s/it]"
     ]
    },
    {
     "name": "stdout",
     "output_type": "stream",
     "text": [
      "Collected 256 tweets at 2021-08-15.\n",
      "Running twitter query: \"(#covid) lang:en until:2021-08-17 since:2021-08-16\"\n"
     ]
    },
    {
     "name": "stderr",
     "output_type": "stream",
     "text": [
      "Unavailable user in card on tweet 1427409741341466647\n",
      "User 14204245 not found in user refs in card on tweet 1427409741341466647\n",
      "Unavailable user in card on tweet 1427402552757391368\n",
      "User 14204245 not found in user refs in card on tweet 1427402552757391368\n",
      " 46%|██████████████████████████████████▌                                        | 553/1201 [2:02:13<2:23:07, 13.25s/it]"
     ]
    },
    {
     "name": "stdout",
     "output_type": "stream",
     "text": [
      "Collected 256 tweets at 2021-08-16.\n",
      "Running twitter query: \"(#covid) lang:en until:2021-08-18 since:2021-08-17\"\n"
     ]
    },
    {
     "name": "stderr",
     "output_type": "stream",
     "text": [
      "Unavailable user in card on tweet 1427782169859137544\n",
      "User 14204245 not found in user refs in card on tweet 1427782169859137544\n",
      "Unavailable user in card on tweet 1427776778098155523\n",
      "User 14204245 not found in user refs in card on tweet 1427776778098155523\n",
      " 46%|██████████████████████████████████▌                                        | 554/1201 [2:02:27<2:25:16, 13.47s/it]"
     ]
    },
    {
     "name": "stdout",
     "output_type": "stream",
     "text": [
      "Collected 256 tweets at 2021-08-17.\n",
      "Running twitter query: \"(#covid) lang:en until:2021-08-19 since:2021-08-18\"\n"
     ]
    },
    {
     "name": "stderr",
     "output_type": "stream",
     "text": [
      "\r",
      " 46%|██████████████████████████████████▋                                        | 555/1201 [2:02:41<2:27:42, 13.72s/it]"
     ]
    },
    {
     "name": "stdout",
     "output_type": "stream",
     "text": [
      "Collected 256 tweets at 2021-08-18.\n",
      "Running twitter query: \"(#covid) lang:en until:2021-08-20 since:2021-08-19\"\n"
     ]
    },
    {
     "name": "stderr",
     "output_type": "stream",
     "text": [
      "\r",
      " 46%|██████████████████████████████████▋                                        | 556/1201 [2:02:55<2:30:05, 13.96s/it]"
     ]
    },
    {
     "name": "stdout",
     "output_type": "stream",
     "text": [
      "Collected 256 tweets at 2021-08-19.\n",
      "Running twitter query: \"(#covid) lang:en until:2021-08-21 since:2021-08-20\"\n"
     ]
    },
    {
     "name": "stderr",
     "output_type": "stream",
     "text": [
      "Empty user ref object in card on tweet 1428865359482867719\n",
      "User 899733078641225728 not found in user refs in card on tweet 1428865359482867719\n",
      "Unavailable user in card on tweet 1428861920266838018\n",
      "User 1411470135496298499 not found in user refs in card on tweet 1428861920266838018\n",
      " 46%|██████████████████████████████████▊                                        | 557/1201 [2:03:12<2:38:50, 14.80s/it]"
     ]
    },
    {
     "name": "stdout",
     "output_type": "stream",
     "text": [
      "Collected 256 tweets at 2021-08-20.\n",
      "Running twitter query: \"(#covid) lang:en until:2021-08-22 since:2021-08-21\"\n"
     ]
    },
    {
     "name": "stderr",
     "output_type": "stream",
     "text": [
      "Unavailable user in card on tweet 1429215674648473613\n",
      "User 14204245 not found in user refs in card on tweet 1429215674648473613\n",
      " 46%|██████████████████████████████████▊                                        | 558/1201 [2:03:26<2:34:15, 14.39s/it]"
     ]
    },
    {
     "name": "stdout",
     "output_type": "stream",
     "text": [
      "Collected 256 tweets at 2021-08-21.\n",
      "Running twitter query: \"(#covid) lang:en until:2021-08-23 since:2021-08-22\"\n"
     ]
    },
    {
     "name": "stderr",
     "output_type": "stream",
     "text": [
      "\r",
      " 47%|██████████████████████████████████▉                                        | 559/1201 [2:03:40<2:34:52, 14.47s/it]"
     ]
    },
    {
     "name": "stdout",
     "output_type": "stream",
     "text": [
      "Collected 256 tweets at 2021-08-22.\n",
      "Running twitter query: \"(#covid) lang:en until:2021-08-24 since:2021-08-23\"\n"
     ]
    },
    {
     "name": "stderr",
     "output_type": "stream",
     "text": [
      "\r",
      " 47%|██████████████████████████████████▉                                        | 560/1201 [2:03:55<2:34:26, 14.46s/it]"
     ]
    },
    {
     "name": "stdout",
     "output_type": "stream",
     "text": [
      "Collected 256 tweets at 2021-08-23.\n",
      "Running twitter query: \"(#covid) lang:en until:2021-08-25 since:2021-08-24\"\n"
     ]
    },
    {
     "name": "stderr",
     "output_type": "stream",
     "text": [
      "Unavailable user in card on tweet 1430313106345975811\n",
      "User 14204245 not found in user refs in card on tweet 1430313106345975811\n",
      " 47%|███████████████████████████████████                                        | 561/1201 [2:04:09<2:34:37, 14.50s/it]"
     ]
    },
    {
     "name": "stdout",
     "output_type": "stream",
     "text": [
      "Collected 256 tweets at 2021-08-24.\n",
      "Running twitter query: \"(#covid) lang:en until:2021-08-26 since:2021-08-25\"\n"
     ]
    },
    {
     "name": "stderr",
     "output_type": "stream",
     "text": [
      "\r",
      " 47%|███████████████████████████████████                                        | 562/1201 [2:04:24<2:35:28, 14.60s/it]"
     ]
    },
    {
     "name": "stdout",
     "output_type": "stream",
     "text": [
      "Collected 256 tweets at 2021-08-25.\n",
      "Running twitter query: \"(#covid) lang:en until:2021-08-27 since:2021-08-26\"\n"
     ]
    },
    {
     "name": "stderr",
     "output_type": "stream",
     "text": [
      "\r",
      " 47%|███████████████████████████████████▏                                       | 563/1201 [2:04:40<2:38:32, 14.91s/it]"
     ]
    },
    {
     "name": "stdout",
     "output_type": "stream",
     "text": [
      "Collected 256 tweets at 2021-08-26.\n",
      "Running twitter query: \"(#covid) lang:en until:2021-08-28 since:2021-08-27\"\n"
     ]
    },
    {
     "name": "stderr",
     "output_type": "stream",
     "text": [
      "\r",
      " 47%|███████████████████████████████████▏                                       | 564/1201 [2:04:55<2:39:39, 15.04s/it]"
     ]
    },
    {
     "name": "stdout",
     "output_type": "stream",
     "text": [
      "Collected 256 tweets at 2021-08-27.\n",
      "Running twitter query: \"(#covid) lang:en until:2021-08-29 since:2021-08-28\"\n"
     ]
    },
    {
     "name": "stderr",
     "output_type": "stream",
     "text": [
      "\r",
      " 47%|███████████████████████████████████▎                                       | 565/1201 [2:05:11<2:42:38, 15.34s/it]"
     ]
    },
    {
     "name": "stdout",
     "output_type": "stream",
     "text": [
      "Collected 256 tweets at 2021-08-28.\n",
      "Running twitter query: \"(#covid) lang:en until:2021-08-30 since:2021-08-29\"\n"
     ]
    },
    {
     "name": "stderr",
     "output_type": "stream",
     "text": [
      "\r",
      " 47%|███████████████████████████████████▎                                       | 566/1201 [2:05:26<2:40:47, 15.19s/it]"
     ]
    },
    {
     "name": "stdout",
     "output_type": "stream",
     "text": [
      "Collected 256 tweets at 2021-08-29.\n",
      "Running twitter query: \"(#covid) lang:en until:2021-08-31 since:2021-08-30\"\n"
     ]
    },
    {
     "name": "stderr",
     "output_type": "stream",
     "text": [
      "\r",
      " 47%|███████████████████████████████████▍                                       | 567/1201 [2:05:43<2:47:29, 15.85s/it]"
     ]
    },
    {
     "name": "stdout",
     "output_type": "stream",
     "text": [
      "Collected 256 tweets at 2021-08-30.\n",
      "Running twitter query: \"(#covid) lang:en until:2021-09-01 since:2021-08-31\"\n"
     ]
    },
    {
     "name": "stderr",
     "output_type": "stream",
     "text": [
      "\r",
      " 47%|███████████████████████████████████▍                                       | 568/1201 [2:05:59<2:47:29, 15.88s/it]"
     ]
    },
    {
     "name": "stdout",
     "output_type": "stream",
     "text": [
      "Collected 256 tweets at 2021-08-31.\n",
      "Saving 7936 tweets at 2021-08.\n",
      "Running twitter query: \"(#covid) lang:en until:2021-09-02 since:2021-09-01\"\n"
     ]
    },
    {
     "name": "stderr",
     "output_type": "stream",
     "text": [
      "Unavailable user in card on tweet 1433213033652883460\n",
      "User 14204245 not found in user refs in card on tweet 1433213033652883460\n",
      " 47%|███████████████████████████████████▌                                       | 569/1201 [2:06:13<2:38:47, 15.08s/it]"
     ]
    },
    {
     "name": "stdout",
     "output_type": "stream",
     "text": [
      "Collected 256 tweets at 2021-09-01.\n",
      "Running twitter query: \"(#covid) lang:en until:2021-09-03 since:2021-09-02\"\n"
     ]
    },
    {
     "name": "stderr",
     "output_type": "stream",
     "text": [
      "Unavailable user in card on tweet 1433563452497436673\n",
      "Unavailable user in card on tweet 1433563452497436673\n",
      "User 1062915983294300160 not found in user refs in card on tweet 1433563452497436673\n",
      "User 1062915983294300160 not found in user refs in card on tweet 1433563452497436673\n",
      " 47%|███████████████████████████████████▌                                       | 570/1201 [2:06:26<2:31:46, 14.43s/it]"
     ]
    },
    {
     "name": "stdout",
     "output_type": "stream",
     "text": [
      "Collected 256 tweets at 2021-09-02.\n",
      "Running twitter query: \"(#covid) lang:en until:2021-09-04 since:2021-09-03\"\n"
     ]
    },
    {
     "name": "stderr",
     "output_type": "stream",
     "text": [
      "\r",
      " 48%|███████████████████████████████████▋                                       | 571/1201 [2:06:38<2:26:04, 13.91s/it]"
     ]
    },
    {
     "name": "stdout",
     "output_type": "stream",
     "text": [
      "Collected 256 tweets at 2021-09-03.\n",
      "Running twitter query: \"(#covid) lang:en until:2021-09-05 since:2021-09-04\"\n"
     ]
    },
    {
     "name": "stderr",
     "output_type": "stream",
     "text": [
      "\r",
      " 48%|███████████████████████████████████▋                                       | 572/1201 [2:06:51<2:21:15, 13.47s/it]"
     ]
    },
    {
     "name": "stdout",
     "output_type": "stream",
     "text": [
      "Collected 256 tweets at 2021-09-04.\n",
      "Running twitter query: \"(#covid) lang:en until:2021-09-06 since:2021-09-05\"\n"
     ]
    },
    {
     "name": "stderr",
     "output_type": "stream",
     "text": [
      "\r",
      " 48%|███████████████████████████████████▊                                       | 573/1201 [2:07:05<2:23:55, 13.75s/it]"
     ]
    },
    {
     "name": "stdout",
     "output_type": "stream",
     "text": [
      "Collected 256 tweets at 2021-09-05.\n",
      "Running twitter query: \"(#covid) lang:en until:2021-09-07 since:2021-09-06\"\n"
     ]
    },
    {
     "name": "stderr",
     "output_type": "stream",
     "text": [
      "\r",
      " 48%|███████████████████████████████████▊                                       | 574/1201 [2:07:18<2:20:27, 13.44s/it]"
     ]
    },
    {
     "name": "stdout",
     "output_type": "stream",
     "text": [
      "Collected 256 tweets at 2021-09-06.\n",
      "Running twitter query: \"(#covid) lang:en until:2021-09-08 since:2021-09-07\"\n"
     ]
    },
    {
     "name": "stderr",
     "output_type": "stream",
     "text": [
      "\r",
      " 48%|███████████████████████████████████▉                                       | 575/1201 [2:07:31<2:19:47, 13.40s/it]"
     ]
    },
    {
     "name": "stdout",
     "output_type": "stream",
     "text": [
      "Collected 256 tweets at 2021-09-07.\n",
      "Running twitter query: \"(#covid) lang:en until:2021-09-09 since:2021-09-08\"\n"
     ]
    },
    {
     "name": "stderr",
     "output_type": "stream",
     "text": [
      "\r",
      " 48%|███████████████████████████████████▉                                       | 576/1201 [2:07:45<2:21:10, 13.55s/it]"
     ]
    },
    {
     "name": "stdout",
     "output_type": "stream",
     "text": [
      "Collected 256 tweets at 2021-09-08.\n",
      "Running twitter query: \"(#covid) lang:en until:2021-09-10 since:2021-09-09\"\n"
     ]
    },
    {
     "name": "stderr",
     "output_type": "stream",
     "text": [
      "\r",
      " 48%|████████████████████████████████████                                       | 577/1201 [2:07:59<2:23:18, 13.78s/it]"
     ]
    },
    {
     "name": "stdout",
     "output_type": "stream",
     "text": [
      "Collected 256 tweets at 2021-09-09.\n",
      "Running twitter query: \"(#covid) lang:en until:2021-09-11 since:2021-09-10\"\n"
     ]
    },
    {
     "name": "stderr",
     "output_type": "stream",
     "text": [
      "\r",
      " 48%|████████████████████████████████████                                       | 578/1201 [2:08:15<2:30:01, 14.45s/it]"
     ]
    },
    {
     "name": "stdout",
     "output_type": "stream",
     "text": [
      "Collected 256 tweets at 2021-09-10.\n",
      "Running twitter query: \"(#covid) lang:en until:2021-09-12 since:2021-09-11\"\n"
     ]
    },
    {
     "name": "stderr",
     "output_type": "stream",
     "text": [
      "\r",
      " 48%|████████████████████████████████████▏                                      | 579/1201 [2:08:28<2:25:42, 14.06s/it]"
     ]
    },
    {
     "name": "stdout",
     "output_type": "stream",
     "text": [
      "Collected 256 tweets at 2021-09-11.\n",
      "Running twitter query: \"(#covid) lang:en until:2021-09-13 since:2021-09-12\"\n"
     ]
    },
    {
     "name": "stderr",
     "output_type": "stream",
     "text": [
      "\r",
      " 48%|████████████████████████████████████▏                                      | 580/1201 [2:08:41<2:20:16, 13.55s/it]"
     ]
    },
    {
     "name": "stdout",
     "output_type": "stream",
     "text": [
      "Collected 256 tweets at 2021-09-12.\n",
      "Running twitter query: \"(#covid) lang:en until:2021-09-14 since:2021-09-13\"\n"
     ]
    },
    {
     "name": "stderr",
     "output_type": "stream",
     "text": [
      "\r",
      " 48%|████████████████████████████████████▎                                      | 581/1201 [2:08:54<2:18:08, 13.37s/it]"
     ]
    },
    {
     "name": "stdout",
     "output_type": "stream",
     "text": [
      "Collected 256 tweets at 2021-09-13.\n",
      "Running twitter query: \"(#covid) lang:en until:2021-09-15 since:2021-09-14\"\n"
     ]
    },
    {
     "name": "stderr",
     "output_type": "stream",
     "text": [
      "\r",
      " 48%|████████████████████████████████████▎                                      | 582/1201 [2:09:07<2:19:02, 13.48s/it]"
     ]
    },
    {
     "name": "stdout",
     "output_type": "stream",
     "text": [
      "Collected 256 tweets at 2021-09-14.\n",
      "Running twitter query: \"(#covid) lang:en until:2021-09-16 since:2021-09-15\"\n"
     ]
    },
    {
     "name": "stderr",
     "output_type": "stream",
     "text": [
      "\r",
      " 49%|████████████████████████████████████▍                                      | 583/1201 [2:09:20<2:15:33, 13.16s/it]"
     ]
    },
    {
     "name": "stdout",
     "output_type": "stream",
     "text": [
      "Collected 256 tweets at 2021-09-15.\n",
      "Running twitter query: \"(#covid) lang:en until:2021-09-17 since:2021-09-16\"\n"
     ]
    },
    {
     "name": "stderr",
     "output_type": "stream",
     "text": [
      "\r",
      " 49%|████████████████████████████████████▍                                      | 584/1201 [2:09:32<2:13:21, 12.97s/it]"
     ]
    },
    {
     "name": "stdout",
     "output_type": "stream",
     "text": [
      "Collected 256 tweets at 2021-09-16.\n",
      "Running twitter query: \"(#covid) lang:en until:2021-09-18 since:2021-09-17\"\n"
     ]
    },
    {
     "name": "stderr",
     "output_type": "stream",
     "text": [
      "\r",
      " 49%|████████████████████████████████████▌                                      | 585/1201 [2:09:46<2:14:15, 13.08s/it]"
     ]
    },
    {
     "name": "stdout",
     "output_type": "stream",
     "text": [
      "Collected 256 tweets at 2021-09-17.\n",
      "Running twitter query: \"(#covid) lang:en until:2021-09-19 since:2021-09-18\"\n"
     ]
    },
    {
     "name": "stderr",
     "output_type": "stream",
     "text": [
      "\r",
      " 49%|████████████████████████████████████▌                                      | 586/1201 [2:09:59<2:13:52, 13.06s/it]"
     ]
    },
    {
     "name": "stdout",
     "output_type": "stream",
     "text": [
      "Collected 256 tweets at 2021-09-18.\n",
      "Running twitter query: \"(#covid) lang:en until:2021-09-20 since:2021-09-19\"\n"
     ]
    },
    {
     "name": "stderr",
     "output_type": "stream",
     "text": [
      "Unavailable user in card on tweet 1439708491258732552\n",
      "User 14204245 not found in user refs in card on tweet 1439708491258732552\n",
      " 49%|████████████████████████████████████▋                                      | 587/1201 [2:10:12<2:15:04, 13.20s/it]"
     ]
    },
    {
     "name": "stdout",
     "output_type": "stream",
     "text": [
      "Collected 256 tweets at 2021-09-19.\n",
      "Running twitter query: \"(#covid) lang:en until:2021-09-21 since:2021-09-20\"\n"
     ]
    },
    {
     "name": "stderr",
     "output_type": "stream",
     "text": [
      "\r",
      " 49%|████████████████████████████████████▋                                      | 588/1201 [2:10:31<2:30:35, 14.74s/it]"
     ]
    },
    {
     "name": "stdout",
     "output_type": "stream",
     "text": [
      "Collected 256 tweets at 2021-09-20.\n",
      "Running twitter query: \"(#covid) lang:en until:2021-09-22 since:2021-09-21\"\n"
     ]
    },
    {
     "name": "stderr",
     "output_type": "stream",
     "text": [
      "\r",
      " 49%|████████████████████████████████████▊                                      | 589/1201 [2:10:44<2:26:39, 14.38s/it]"
     ]
    },
    {
     "name": "stdout",
     "output_type": "stream",
     "text": [
      "Collected 256 tweets at 2021-09-21.\n",
      "Running twitter query: \"(#covid) lang:en until:2021-09-23 since:2021-09-22\"\n"
     ]
    },
    {
     "name": "stderr",
     "output_type": "stream",
     "text": [
      "Unavailable user in card on tweet 1440823317133361155\n",
      "User 14204245 not found in user refs in card on tweet 1440823317133361155\n",
      " 49%|████████████████████████████████████▊                                      | 590/1201 [2:10:59<2:26:43, 14.41s/it]"
     ]
    },
    {
     "name": "stdout",
     "output_type": "stream",
     "text": [
      "Collected 256 tweets at 2021-09-22.\n",
      "Running twitter query: \"(#covid) lang:en until:2021-09-24 since:2021-09-23\"\n"
     ]
    },
    {
     "name": "stderr",
     "output_type": "stream",
     "text": [
      "\r",
      " 49%|████████████████████████████████████▉                                      | 591/1201 [2:11:13<2:25:22, 14.30s/it]"
     ]
    },
    {
     "name": "stdout",
     "output_type": "stream",
     "text": [
      "Collected 256 tweets at 2021-09-23.\n",
      "Running twitter query: \"(#covid) lang:en until:2021-09-25 since:2021-09-24\"\n"
     ]
    },
    {
     "name": "stderr",
     "output_type": "stream",
     "text": [
      "\r",
      " 49%|████████████████████████████████████▉                                      | 592/1201 [2:11:26<2:22:41, 14.06s/it]"
     ]
    },
    {
     "name": "stdout",
     "output_type": "stream",
     "text": [
      "Collected 256 tweets at 2021-09-24.\n",
      "Running twitter query: \"(#covid) lang:en until:2021-09-26 since:2021-09-25\"\n"
     ]
    },
    {
     "name": "stderr",
     "output_type": "stream",
     "text": [
      "\r",
      " 49%|█████████████████████████████████████                                      | 593/1201 [2:11:41<2:24:56, 14.30s/it]"
     ]
    },
    {
     "name": "stdout",
     "output_type": "stream",
     "text": [
      "Collected 256 tweets at 2021-09-25.\n",
      "Running twitter query: \"(#covid) lang:en until:2021-09-27 since:2021-09-26\"\n"
     ]
    },
    {
     "name": "stderr",
     "output_type": "stream",
     "text": [
      "\r",
      " 49%|█████████████████████████████████████                                      | 594/1201 [2:11:56<2:27:29, 14.58s/it]"
     ]
    },
    {
     "name": "stdout",
     "output_type": "stream",
     "text": [
      "Collected 256 tweets at 2021-09-26.\n",
      "Running twitter query: \"(#covid) lang:en until:2021-09-28 since:2021-09-27\"\n"
     ]
    },
    {
     "name": "stderr",
     "output_type": "stream",
     "text": [
      "Unavailable user in card on tweet 1442624679651516418\n",
      "Unavailable user in card on tweet 1442624679651516418\n",
      "User 1062915983294300160 not found in user refs in card on tweet 1442624679651516418\n",
      "User 1062915983294300160 not found in user refs in card on tweet 1442624679651516418\n",
      " 50%|█████████████████████████████████████▏                                     | 595/1201 [2:12:11<2:27:53, 14.64s/it]"
     ]
    },
    {
     "name": "stdout",
     "output_type": "stream",
     "text": [
      "Collected 256 tweets at 2021-09-27.\n",
      "Running twitter query: \"(#covid) lang:en until:2021-09-29 since:2021-09-28\"\n"
     ]
    },
    {
     "name": "stderr",
     "output_type": "stream",
     "text": [
      "\r",
      " 50%|█████████████████████████████████████▏                                     | 596/1201 [2:12:27<2:31:41, 15.04s/it]"
     ]
    },
    {
     "name": "stdout",
     "output_type": "stream",
     "text": [
      "Collected 256 tweets at 2021-09-28.\n",
      "Running twitter query: \"(#covid) lang:en until:2021-09-30 since:2021-09-29\"\n"
     ]
    },
    {
     "name": "stderr",
     "output_type": "stream",
     "text": [
      "\r",
      " 50%|█████████████████████████████████████▎                                     | 597/1201 [2:12:44<2:36:07, 15.51s/it]"
     ]
    },
    {
     "name": "stdout",
     "output_type": "stream",
     "text": [
      "Collected 256 tweets at 2021-09-29.\n",
      "Running twitter query: \"(#covid) lang:en until:2021-10-01 since:2021-09-30\"\n"
     ]
    },
    {
     "name": "stderr",
     "output_type": "stream",
     "text": [
      "Unavailable user in card on tweet 1443726108105531394\n",
      "Unavailable user in card on tweet 1443726108105531394\n",
      "User 44654095 not found in user refs in card on tweet 1443726108105531394\n",
      "User 44654095 not found in user refs in card on tweet 1443726108105531394\n",
      " 50%|█████████████████████████████████████▎                                     | 598/1201 [2:13:02<2:43:18, 16.25s/it]"
     ]
    },
    {
     "name": "stdout",
     "output_type": "stream",
     "text": [
      "Collected 256 tweets at 2021-09-30.\n",
      "Saving 7680 tweets at 2021-09.\n",
      "Running twitter query: \"(#covid) lang:en until:2021-10-02 since:2021-10-01\"\n"
     ]
    },
    {
     "name": "stderr",
     "output_type": "stream",
     "text": [
      "Unavailable user in card on tweet 1444057709033230339\n",
      "User 14204245 not found in user refs in card on tweet 1444057709033230339\n",
      "Unavailable user in card on tweet 1444054565301669894\n",
      "User 14204245 not found in user refs in card on tweet 1444054565301669894\n",
      " 50%|█████████████████████████████████████▍                                     | 599/1201 [2:13:15<2:33:38, 15.31s/it]"
     ]
    },
    {
     "name": "stdout",
     "output_type": "stream",
     "text": [
      "Collected 256 tweets at 2021-10-01.\n",
      "Running twitter query: \"(#covid) lang:en until:2021-10-03 since:2021-10-02\"\n"
     ]
    },
    {
     "name": "stderr",
     "output_type": "stream",
     "text": [
      "\r",
      " 50%|█████████████████████████████████████▍                                     | 600/1201 [2:13:27<2:24:19, 14.41s/it]"
     ]
    },
    {
     "name": "stdout",
     "output_type": "stream",
     "text": [
      "Collected 256 tweets at 2021-10-02.\n",
      "Running twitter query: \"(#covid) lang:en until:2021-10-04 since:2021-10-03\"\n"
     ]
    },
    {
     "name": "stderr",
     "output_type": "stream",
     "text": [
      "\r",
      " 50%|█████████████████████████████████████▌                                     | 601/1201 [2:13:40<2:19:17, 13.93s/it]"
     ]
    },
    {
     "name": "stdout",
     "output_type": "stream",
     "text": [
      "Collected 256 tweets at 2021-10-03.\n",
      "Running twitter query: \"(#covid) lang:en until:2021-10-05 since:2021-10-04\"\n"
     ]
    },
    {
     "name": "stderr",
     "output_type": "stream",
     "text": [
      "\r",
      " 50%|█████████████████████████████████████▌                                     | 602/1201 [2:13:54<2:18:51, 13.91s/it]"
     ]
    },
    {
     "name": "stdout",
     "output_type": "stream",
     "text": [
      "Collected 256 tweets at 2021-10-04.\n",
      "Running twitter query: \"(#covid) lang:en until:2021-10-06 since:2021-10-05\"\n"
     ]
    },
    {
     "name": "stderr",
     "output_type": "stream",
     "text": [
      "\r",
      " 50%|█████████████████████████████████████▋                                     | 603/1201 [2:14:06<2:14:04, 13.45s/it]"
     ]
    },
    {
     "name": "stdout",
     "output_type": "stream",
     "text": [
      "Collected 256 tweets at 2021-10-05.\n",
      "Running twitter query: \"(#covid) lang:en until:2021-10-07 since:2021-10-06\"\n"
     ]
    },
    {
     "name": "stderr",
     "output_type": "stream",
     "text": [
      "\r",
      " 50%|█████████████████████████████████████▋                                     | 604/1201 [2:14:19<2:10:44, 13.14s/it]"
     ]
    },
    {
     "name": "stdout",
     "output_type": "stream",
     "text": [
      "Collected 256 tweets at 2021-10-06.\n",
      "Running twitter query: \"(#covid) lang:en until:2021-10-08 since:2021-10-07\"\n"
     ]
    },
    {
     "name": "stderr",
     "output_type": "stream",
     "text": [
      "\r",
      " 50%|█████████████████████████████████████▊                                     | 605/1201 [2:14:31<2:09:51, 13.07s/it]"
     ]
    },
    {
     "name": "stdout",
     "output_type": "stream",
     "text": [
      "Collected 256 tweets at 2021-10-07.\n",
      "Running twitter query: \"(#covid) lang:en until:2021-10-09 since:2021-10-08\"\n"
     ]
    },
    {
     "name": "stderr",
     "output_type": "stream",
     "text": [
      "\r",
      " 50%|█████████████████████████████████████▊                                     | 606/1201 [2:14:45<2:11:17, 13.24s/it]"
     ]
    },
    {
     "name": "stdout",
     "output_type": "stream",
     "text": [
      "Collected 256 tweets at 2021-10-08.\n",
      "Running twitter query: \"(#covid) lang:en until:2021-10-10 since:2021-10-09\"\n"
     ]
    },
    {
     "name": "stderr",
     "output_type": "stream",
     "text": [
      "Unavailable user in card on tweet 1446978303848423426\n",
      "Unavailable user in card on tweet 1446978303848423426\n",
      "User 1332188619528839169 not found in user refs in card on tweet 1446978303848423426\n",
      "User 1332188619528839169 not found in user refs in card on tweet 1446978303848423426\n",
      " 51%|█████████████████████████████████████▉                                     | 607/1201 [2:14:59<2:13:33, 13.49s/it]"
     ]
    },
    {
     "name": "stdout",
     "output_type": "stream",
     "text": [
      "Collected 256 tweets at 2021-10-09.\n",
      "Running twitter query: \"(#covid) lang:en until:2021-10-11 since:2021-10-10\"\n"
     ]
    },
    {
     "name": "stderr",
     "output_type": "stream",
     "text": [
      "Unavailable user in card on tweet 1447344505477337089\n",
      "User 14204245 not found in user refs in card on tweet 1447344505477337089\n",
      " 51%|█████████████████████████████████████▉                                     | 608/1201 [2:15:13<2:13:03, 13.46s/it]"
     ]
    },
    {
     "name": "stdout",
     "output_type": "stream",
     "text": [
      "Collected 256 tweets at 2021-10-10.\n",
      "Running twitter query: \"(#covid) lang:en until:2021-10-12 since:2021-10-11\"\n"
     ]
    },
    {
     "name": "stderr",
     "output_type": "stream",
     "text": [
      "\r",
      " 51%|██████████████████████████████████████                                     | 609/1201 [2:15:27<2:16:57, 13.88s/it]"
     ]
    },
    {
     "name": "stdout",
     "output_type": "stream",
     "text": [
      "Collected 256 tweets at 2021-10-11.\n",
      "Running twitter query: \"(#covid) lang:en until:2021-10-13 since:2021-10-12\"\n"
     ]
    },
    {
     "name": "stderr",
     "output_type": "stream",
     "text": [
      "\r",
      " 51%|██████████████████████████████████████                                     | 610/1201 [2:15:41<2:14:28, 13.65s/it]"
     ]
    },
    {
     "name": "stdout",
     "output_type": "stream",
     "text": [
      "Collected 256 tweets at 2021-10-12.\n",
      "Running twitter query: \"(#covid) lang:en until:2021-10-14 since:2021-10-13\"\n"
     ]
    },
    {
     "name": "stderr",
     "output_type": "stream",
     "text": [
      "Unavailable user in card on tweet 1448397870676205569\n",
      "User 28550209 not found in user refs in card on tweet 1448397870676205569\n",
      " 51%|██████████████████████████████████████▏                                    | 611/1201 [2:15:54<2:12:38, 13.49s/it]"
     ]
    },
    {
     "name": "stdout",
     "output_type": "stream",
     "text": [
      "Collected 256 tweets at 2021-10-13.\n",
      "Running twitter query: \"(#covid) lang:en until:2021-10-15 since:2021-10-14\"\n"
     ]
    },
    {
     "name": "stderr",
     "output_type": "stream",
     "text": [
      "Stopping after 20 empty pages\n",
      " 51%|██████████████████████████████████████▏                                    | 612/1201 [2:16:09<2:16:54, 13.95s/it]"
     ]
    },
    {
     "name": "stdout",
     "output_type": "stream",
     "text": [
      "Collected 179 tweets at 2021-10-14.\n",
      "Running twitter query: \"(#covid) lang:en until:2021-10-16 since:2021-10-15\"\n"
     ]
    },
    {
     "name": "stderr",
     "output_type": "stream",
     "text": [
      "\r",
      " 51%|██████████████████████████████████████▎                                    | 613/1201 [2:16:21<2:12:11, 13.49s/it]"
     ]
    },
    {
     "name": "stdout",
     "output_type": "stream",
     "text": [
      "Collected 256 tweets at 2021-10-15.\n",
      "Running twitter query: \"(#covid) lang:en until:2021-10-17 since:2021-10-16\"\n"
     ]
    },
    {
     "name": "stderr",
     "output_type": "stream",
     "text": [
      "\r",
      " 51%|██████████████████████████████████████▎                                    | 614/1201 [2:16:35<2:11:49, 13.47s/it]"
     ]
    },
    {
     "name": "stdout",
     "output_type": "stream",
     "text": [
      "Collected 256 tweets at 2021-10-16.\n",
      "Running twitter query: \"(#covid) lang:en until:2021-10-18 since:2021-10-17\"\n"
     ]
    },
    {
     "name": "stderr",
     "output_type": "stream",
     "text": [
      "Unavailable user in card on tweet 1449880673712361474\n",
      "User 14204245 not found in user refs in card on tweet 1449880673712361474\n",
      " 51%|██████████████████████████████████████▍                                    | 615/1201 [2:16:48<2:11:40, 13.48s/it]"
     ]
    },
    {
     "name": "stdout",
     "output_type": "stream",
     "text": [
      "Collected 256 tweets at 2021-10-17.\n",
      "Running twitter query: \"(#covid) lang:en until:2021-10-19 since:2021-10-18\"\n"
     ]
    },
    {
     "name": "stderr",
     "output_type": "stream",
     "text": [
      "\r",
      " 51%|██████████████████████████████████████▍                                    | 616/1201 [2:17:02<2:12:49, 13.62s/it]"
     ]
    },
    {
     "name": "stdout",
     "output_type": "stream",
     "text": [
      "Collected 256 tweets at 2021-10-18.\n",
      "Running twitter query: \"(#covid) lang:en until:2021-10-20 since:2021-10-19\"\n"
     ]
    },
    {
     "name": "stderr",
     "output_type": "stream",
     "text": [
      "\r",
      " 51%|██████████████████████████████████████▌                                    | 617/1201 [2:17:18<2:18:12, 14.20s/it]"
     ]
    },
    {
     "name": "stdout",
     "output_type": "stream",
     "text": [
      "Collected 256 tweets at 2021-10-19.\n",
      "Running twitter query: \"(#covid) lang:en until:2021-10-21 since:2021-10-20\"\n"
     ]
    },
    {
     "name": "stderr",
     "output_type": "stream",
     "text": [
      "\r",
      " 51%|██████████████████████████████████████▌                                    | 618/1201 [2:17:33<2:21:20, 14.55s/it]"
     ]
    },
    {
     "name": "stdout",
     "output_type": "stream",
     "text": [
      "Collected 256 tweets at 2021-10-20.\n",
      "Running twitter query: \"(#covid) lang:en until:2021-10-22 since:2021-10-21\"\n"
     ]
    },
    {
     "name": "stderr",
     "output_type": "stream",
     "text": [
      "\r",
      " 52%|██████████████████████████████████████▋                                    | 619/1201 [2:17:47<2:20:25, 14.48s/it]"
     ]
    },
    {
     "name": "stdout",
     "output_type": "stream",
     "text": [
      "Collected 256 tweets at 2021-10-21.\n",
      "Running twitter query: \"(#covid) lang:en until:2021-10-23 since:2021-10-22\"\n"
     ]
    },
    {
     "name": "stderr",
     "output_type": "stream",
     "text": [
      "\r",
      " 52%|██████████████████████████████████████▋                                    | 620/1201 [2:18:01<2:19:37, 14.42s/it]"
     ]
    },
    {
     "name": "stdout",
     "output_type": "stream",
     "text": [
      "Collected 256 tweets at 2021-10-22.\n",
      "Running twitter query: \"(#covid) lang:en until:2021-10-24 since:2021-10-23\"\n"
     ]
    },
    {
     "name": "stderr",
     "output_type": "stream",
     "text": [
      "Empty user ref object in card on tweet 1452045544373714944\n",
      "User 899733078641225728 not found in user refs in card on tweet 1452045544373714944\n",
      " 52%|██████████████████████████████████████▊                                    | 621/1201 [2:18:16<2:18:45, 14.35s/it]"
     ]
    },
    {
     "name": "stdout",
     "output_type": "stream",
     "text": [
      "Collected 256 tweets at 2021-10-23.\n",
      "Running twitter query: \"(#covid) lang:en until:2021-10-25 since:2021-10-24\"\n"
     ]
    },
    {
     "name": "stderr",
     "output_type": "stream",
     "text": [
      "\r",
      " 52%|██████████████████████████████████████▊                                    | 622/1201 [2:18:30<2:19:33, 14.46s/it]"
     ]
    },
    {
     "name": "stdout",
     "output_type": "stream",
     "text": [
      "Collected 256 tweets at 2021-10-24.\n",
      "Running twitter query: \"(#covid) lang:en until:2021-10-26 since:2021-10-25\"\n"
     ]
    },
    {
     "name": "stderr",
     "output_type": "stream",
     "text": [
      "Unavailable user in card on tweet 1452754754770243585\n",
      "Unavailable user in card on tweet 1452754754770243585\n",
      "User 990444793 not found in user refs in card on tweet 1452754754770243585\n",
      "User 990444793 not found in user refs in card on tweet 1452754754770243585\n",
      "Unavailable user in card on tweet 1452754735421874177\n",
      "Unavailable user in card on tweet 1452754735421874177\n",
      "User 990444793 not found in user refs in card on tweet 1452754735421874177\n",
      "User 990444793 not found in user refs in card on tweet 1452754735421874177\n",
      " 52%|██████████████████████████████████████▉                                    | 623/1201 [2:18:45<2:19:25, 14.47s/it]"
     ]
    },
    {
     "name": "stdout",
     "output_type": "stream",
     "text": [
      "Collected 256 tweets at 2021-10-25.\n",
      "Running twitter query: \"(#covid) lang:en until:2021-10-27 since:2021-10-26\"\n"
     ]
    },
    {
     "name": "stderr",
     "output_type": "stream",
     "text": [
      "\r",
      " 52%|██████████████████████████████████████▉                                    | 624/1201 [2:19:00<2:19:38, 14.52s/it]"
     ]
    },
    {
     "name": "stdout",
     "output_type": "stream",
     "text": [
      "Collected 256 tweets at 2021-10-26.\n",
      "Running twitter query: \"(#covid) lang:en until:2021-10-28 since:2021-10-27\"\n"
     ]
    },
    {
     "name": "stderr",
     "output_type": "stream",
     "text": [
      "\r",
      " 52%|███████████████████████████████████████                                    | 625/1201 [2:19:14<2:18:56, 14.47s/it]"
     ]
    },
    {
     "name": "stdout",
     "output_type": "stream",
     "text": [
      "Collected 256 tweets at 2021-10-27.\n",
      "Running twitter query: \"(#covid) lang:en until:2021-10-29 since:2021-10-28\"\n"
     ]
    },
    {
     "name": "stderr",
     "output_type": "stream",
     "text": [
      "\r",
      " 52%|███████████████████████████████████████                                    | 626/1201 [2:19:28<2:16:30, 14.24s/it]"
     ]
    },
    {
     "name": "stdout",
     "output_type": "stream",
     "text": [
      "Collected 256 tweets at 2021-10-28.\n",
      "Running twitter query: \"(#covid) lang:en until:2021-10-30 since:2021-10-29\"\n"
     ]
    },
    {
     "name": "stderr",
     "output_type": "stream",
     "text": [
      "\r",
      " 52%|███████████████████████████████████████▏                                   | 627/1201 [2:19:42<2:17:23, 14.36s/it]"
     ]
    },
    {
     "name": "stdout",
     "output_type": "stream",
     "text": [
      "Collected 256 tweets at 2021-10-29.\n",
      "Running twitter query: \"(#covid) lang:en until:2021-10-31 since:2021-10-30\"\n"
     ]
    },
    {
     "name": "stderr",
     "output_type": "stream",
     "text": [
      "\r",
      " 52%|███████████████████████████████████████▏                                   | 628/1201 [2:19:58<2:22:34, 14.93s/it]"
     ]
    },
    {
     "name": "stdout",
     "output_type": "stream",
     "text": [
      "Collected 256 tweets at 2021-10-30.\n",
      "Running twitter query: \"(#covid) lang:en until:2021-11-01 since:2021-10-31\"\n"
     ]
    },
    {
     "name": "stderr",
     "output_type": "stream",
     "text": [
      "Unavailable user in card on tweet 1454930024885260293\n",
      "User 14204245 not found in user refs in card on tweet 1454930024885260293\n",
      " 52%|███████████████████████████████████████▎                                   | 629/1201 [2:20:15<2:26:19, 15.35s/it]"
     ]
    },
    {
     "name": "stdout",
     "output_type": "stream",
     "text": [
      "Collected 256 tweets at 2021-10-31.\n",
      "Saving 7860 tweets at 2021-10.\n",
      "Running twitter query: \"(#covid) lang:en until:2021-11-02 since:2021-11-01\"\n"
     ]
    },
    {
     "name": "stderr",
     "output_type": "stream",
     "text": [
      "Unavailable user in card on tweet 1455316222694739968\n",
      "User 888446019297570816 not found in user refs in card on tweet 1455316222694739968\n",
      "Unavailable user in card on tweet 1455300238483329034\n",
      "User 14204245 not found in user refs in card on tweet 1455300238483329034\n",
      " 52%|███████████████████████████████████████▎                                   | 630/1201 [2:20:28<2:18:36, 14.57s/it]"
     ]
    },
    {
     "name": "stdout",
     "output_type": "stream",
     "text": [
      "Collected 256 tweets at 2021-11-01.\n",
      "Running twitter query: \"(#covid) lang:en until:2021-11-03 since:2021-11-02\"\n"
     ]
    },
    {
     "name": "stderr",
     "output_type": "stream",
     "text": [
      "Empty user ref object in card on tweet 1455651552379785216\n",
      "Empty user ref object in card on tweet 1455651552379785216\n",
      "User 4503599629184530 not found in user refs in card on tweet 1455651552379785216\n",
      "User 4503599629184530 not found in user refs in card on tweet 1455651552379785216\n",
      " 53%|███████████████████████████████████████▍                                   | 631/1201 [2:20:40<2:10:58, 13.79s/it]"
     ]
    },
    {
     "name": "stdout",
     "output_type": "stream",
     "text": [
      "Collected 256 tweets at 2021-11-02.\n",
      "Running twitter query: \"(#covid) lang:en until:2021-11-04 since:2021-11-03\"\n"
     ]
    },
    {
     "name": "stderr",
     "output_type": "stream",
     "text": [
      "\r",
      " 53%|███████████████████████████████████████▍                                   | 632/1201 [2:20:51<2:04:59, 13.18s/it]"
     ]
    },
    {
     "name": "stdout",
     "output_type": "stream",
     "text": [
      "Collected 256 tweets at 2021-11-03.\n",
      "Running twitter query: \"(#covid) lang:en until:2021-11-05 since:2021-11-04\"\n"
     ]
    },
    {
     "name": "stderr",
     "output_type": "stream",
     "text": [
      "Unavailable user in card on tweet 1456398358738833420\n",
      "User 1434052940 not found in user refs in card on tweet 1456398358738833420\n",
      " 53%|███████████████████████████████████████▌                                   | 633/1201 [2:21:04<2:03:00, 12.99s/it]"
     ]
    },
    {
     "name": "stdout",
     "output_type": "stream",
     "text": [
      "Collected 256 tweets at 2021-11-04.\n",
      "Running twitter query: \"(#covid) lang:en until:2021-11-06 since:2021-11-05\"\n"
     ]
    },
    {
     "name": "stderr",
     "output_type": "stream",
     "text": [
      "\r",
      " 53%|███████████████████████████████████████▌                                   | 634/1201 [2:21:16<2:00:45, 12.78s/it]"
     ]
    },
    {
     "name": "stdout",
     "output_type": "stream",
     "text": [
      "Collected 256 tweets at 2021-11-05.\n",
      "Running twitter query: \"(#covid) lang:en until:2021-11-07 since:2021-11-06\"\n"
     ]
    },
    {
     "name": "stderr",
     "output_type": "stream",
     "text": [
      "\r",
      " 53%|███████████████████████████████████████▋                                   | 635/1201 [2:21:28<1:59:10, 12.63s/it]"
     ]
    },
    {
     "name": "stdout",
     "output_type": "stream",
     "text": [
      "Collected 256 tweets at 2021-11-06.\n",
      "Running twitter query: \"(#covid) lang:en until:2021-11-08 since:2021-11-07\"\n"
     ]
    },
    {
     "name": "stderr",
     "output_type": "stream",
     "text": [
      "Unavailable user in card on tweet 1457484763866955776\n",
      "User 14204245 not found in user refs in card on tweet 1457484763866955776\n",
      "Unavailable user in card on tweet 1457453968494301185\n",
      "User 1062915983294300160 not found in user refs in card on tweet 1457453968494301185\n",
      "Unavailable user in card on tweet 1457373939928387589\n",
      "User 14204245 not found in user refs in card on tweet 1457373939928387589\n",
      " 53%|███████████████████████████████████████▋                                   | 636/1201 [2:21:42<2:00:39, 12.81s/it]"
     ]
    },
    {
     "name": "stdout",
     "output_type": "stream",
     "text": [
      "Collected 256 tweets at 2021-11-07.\n",
      "Running twitter query: \"(#covid) lang:en until:2021-11-09 since:2021-11-08\"\n"
     ]
    },
    {
     "name": "stderr",
     "output_type": "stream",
     "text": [
      "Unavailable user in card on tweet 1457848065906200583\n",
      "Unavailable user in card on tweet 1457848065906200583\n",
      "User 1062915983294300160 not found in user refs in card on tweet 1457848065906200583\n",
      "User 1062915983294300160 not found in user refs in card on tweet 1457848065906200583\n",
      " 53%|███████████████████████████████████████▊                                   | 637/1201 [2:21:55<2:00:59, 12.87s/it]"
     ]
    },
    {
     "name": "stdout",
     "output_type": "stream",
     "text": [
      "Collected 256 tweets at 2021-11-08.\n",
      "Running twitter query: \"(#covid) lang:en until:2021-11-10 since:2021-11-09\"\n"
     ]
    },
    {
     "name": "stderr",
     "output_type": "stream",
     "text": [
      "\r",
      " 53%|███████████████████████████████████████▊                                   | 638/1201 [2:22:08<2:00:51, 12.88s/it]"
     ]
    },
    {
     "name": "stdout",
     "output_type": "stream",
     "text": [
      "Collected 256 tweets at 2021-11-09.\n",
      "Running twitter query: \"(#covid) lang:en until:2021-11-11 since:2021-11-10\"\n"
     ]
    },
    {
     "name": "stderr",
     "output_type": "stream",
     "text": [
      "Unavailable user in card on tweet 1458585112317206530\n",
      "User 14204245 not found in user refs in card on tweet 1458585112317206530\n",
      " 53%|███████████████████████████████████████▉                                   | 639/1201 [2:22:20<2:00:19, 12.85s/it]"
     ]
    },
    {
     "name": "stdout",
     "output_type": "stream",
     "text": [
      "Collected 256 tweets at 2021-11-10.\n",
      "Running twitter query: \"(#covid) lang:en until:2021-11-12 since:2021-11-11\"\n"
     ]
    },
    {
     "name": "stderr",
     "output_type": "stream",
     "text": [
      "Stopping after 20 empty pages\n",
      " 53%|███████████████████████████████████████▉                                   | 640/1201 [2:22:33<2:00:21, 12.87s/it]"
     ]
    },
    {
     "name": "stdout",
     "output_type": "stream",
     "text": [
      "Collected 56 tweets at 2021-11-11.\n",
      "Running twitter query: \"(#covid) lang:en until:2021-11-13 since:2021-11-12\"\n"
     ]
    },
    {
     "name": "stderr",
     "output_type": "stream",
     "text": [
      "Unavailable user in card on tweet 1459279363707441155\n",
      "Unavailable user in card on tweet 1459279363707441155\n",
      "User 1343341123251519488 not found in user refs in card on tweet 1459279363707441155\n",
      "User 1343341123251519488 not found in user refs in card on tweet 1459279363707441155\n",
      " 53%|████████████████████████████████████████                                   | 641/1201 [2:22:46<1:59:53, 12.85s/it]"
     ]
    },
    {
     "name": "stdout",
     "output_type": "stream",
     "text": [
      "Collected 256 tweets at 2021-11-12.\n",
      "Running twitter query: \"(#covid) lang:en until:2021-11-14 since:2021-11-13\"\n"
     ]
    },
    {
     "name": "stderr",
     "output_type": "stream",
     "text": [
      "Unavailable user in card on tweet 1459552053773180936\n",
      "Unavailable user in card on tweet 1459552053773180936\n",
      "User 1062915983294300160 not found in user refs in card on tweet 1459552053773180936\n",
      "User 1062915983294300160 not found in user refs in card on tweet 1459552053773180936\n",
      " 53%|████████████████████████████████████████                                   | 642/1201 [2:23:00<2:01:45, 13.07s/it]"
     ]
    },
    {
     "name": "stdout",
     "output_type": "stream",
     "text": [
      "Collected 256 tweets at 2021-11-13.\n",
      "Running twitter query: \"(#covid) lang:en until:2021-11-15 since:2021-11-14\"\n"
     ]
    },
    {
     "name": "stderr",
     "output_type": "stream",
     "text": [
      "\r",
      " 54%|████████████████████████████████████████▏                                  | 643/1201 [2:23:13<2:02:25, 13.16s/it]"
     ]
    },
    {
     "name": "stdout",
     "output_type": "stream",
     "text": [
      "Collected 256 tweets at 2021-11-14.\n",
      "Running twitter query: \"(#covid) lang:en until:2021-11-16 since:2021-11-15\"\n"
     ]
    },
    {
     "name": "stderr",
     "output_type": "stream",
     "text": [
      "\r",
      " 54%|████████████████████████████████████████▏                                  | 644/1201 [2:23:26<2:01:21, 13.07s/it]"
     ]
    },
    {
     "name": "stdout",
     "output_type": "stream",
     "text": [
      "Collected 256 tweets at 2021-11-15.\n",
      "Running twitter query: \"(#covid) lang:en until:2021-11-17 since:2021-11-16\"\n"
     ]
    },
    {
     "name": "stderr",
     "output_type": "stream",
     "text": [
      "\r",
      " 54%|████████████████████████████████████████▎                                  | 645/1201 [2:23:39<2:01:27, 13.11s/it]"
     ]
    },
    {
     "name": "stdout",
     "output_type": "stream",
     "text": [
      "Collected 256 tweets at 2021-11-16.\n",
      "Running twitter query: \"(#covid) lang:en until:2021-11-18 since:2021-11-17\"\n"
     ]
    },
    {
     "name": "stderr",
     "output_type": "stream",
     "text": [
      "Unavailable user in card on tweet 1461085635448614918\n",
      "User 14204245 not found in user refs in card on tweet 1461085635448614918\n",
      " 54%|████████████████████████████████████████▎                                  | 646/1201 [2:23:53<2:04:47, 13.49s/it]"
     ]
    },
    {
     "name": "stdout",
     "output_type": "stream",
     "text": [
      "Collected 256 tweets at 2021-11-17.\n",
      "Running twitter query: \"(#covid) lang:en until:2021-11-19 since:2021-11-18\"\n"
     ]
    },
    {
     "name": "stderr",
     "output_type": "stream",
     "text": [
      "Unavailable user in card on tweet 1461461642403848193\n",
      "User 14204245 not found in user refs in card on tweet 1461461642403848193\n",
      " 54%|████████████████████████████████████████▍                                  | 647/1201 [2:24:07<2:04:39, 13.50s/it]"
     ]
    },
    {
     "name": "stdout",
     "output_type": "stream",
     "text": [
      "Collected 256 tweets at 2021-11-18.\n",
      "Running twitter query: \"(#covid) lang:en until:2021-11-20 since:2021-11-19\"\n"
     ]
    },
    {
     "name": "stderr",
     "output_type": "stream",
     "text": [
      "\r",
      " 54%|████████████████████████████████████████▍                                  | 648/1201 [2:24:21<2:04:43, 13.53s/it]"
     ]
    },
    {
     "name": "stdout",
     "output_type": "stream",
     "text": [
      "Collected 256 tweets at 2021-11-19.\n",
      "Running twitter query: \"(#covid) lang:en until:2021-11-21 since:2021-11-20\"\n"
     ]
    },
    {
     "name": "stderr",
     "output_type": "stream",
     "text": [
      "\r",
      " 54%|████████████████████████████████████████▌                                  | 649/1201 [2:24:34<2:03:01, 13.37s/it]"
     ]
    },
    {
     "name": "stdout",
     "output_type": "stream",
     "text": [
      "Collected 256 tweets at 2021-11-20.\n",
      "Running twitter query: \"(#covid) lang:en until:2021-11-22 since:2021-11-21\"\n"
     ]
    },
    {
     "name": "stderr",
     "output_type": "stream",
     "text": [
      "\r",
      " 54%|████████████████████████████████████████▌                                  | 650/1201 [2:24:46<2:01:09, 13.19s/it]"
     ]
    },
    {
     "name": "stdout",
     "output_type": "stream",
     "text": [
      "Collected 256 tweets at 2021-11-21.\n",
      "Running twitter query: \"(#covid) lang:en until:2021-11-23 since:2021-11-22\"\n"
     ]
    },
    {
     "name": "stderr",
     "output_type": "stream",
     "text": [
      "\r",
      " 54%|████████████████████████████████████████▋                                  | 651/1201 [2:25:03<2:09:11, 14.09s/it]"
     ]
    },
    {
     "name": "stdout",
     "output_type": "stream",
     "text": [
      "Collected 256 tweets at 2021-11-22.\n",
      "Running twitter query: \"(#covid) lang:en until:2021-11-24 since:2021-11-23\"\n"
     ]
    },
    {
     "name": "stderr",
     "output_type": "stream",
     "text": [
      "\r",
      " 54%|████████████████████████████████████████▋                                  | 652/1201 [2:25:17<2:09:23, 14.14s/it]"
     ]
    },
    {
     "name": "stdout",
     "output_type": "stream",
     "text": [
      "Collected 256 tweets at 2021-11-23.\n",
      "Running twitter query: \"(#covid) lang:en until:2021-11-25 since:2021-11-24\"\n"
     ]
    },
    {
     "name": "stderr",
     "output_type": "stream",
     "text": [
      "\r",
      " 54%|████████████████████████████████████████▊                                  | 653/1201 [2:25:33<2:16:10, 14.91s/it]"
     ]
    },
    {
     "name": "stdout",
     "output_type": "stream",
     "text": [
      "Collected 256 tweets at 2021-11-24.\n",
      "Running twitter query: \"(#covid) lang:en until:2021-11-26 since:2021-11-25\"\n"
     ]
    },
    {
     "name": "stderr",
     "output_type": "stream",
     "text": [
      "Unavailable user in card on tweet 1464011089499283462\n",
      "User 14204245 not found in user refs in card on tweet 1464011089499283462\n",
      " 54%|████████████████████████████████████████▊                                  | 654/1201 [2:25:48<2:13:29, 14.64s/it]"
     ]
    },
    {
     "name": "stdout",
     "output_type": "stream",
     "text": [
      "Collected 256 tweets at 2021-11-25.\n",
      "Running twitter query: \"(#covid) lang:en until:2021-11-27 since:2021-11-26\"\n"
     ]
    },
    {
     "name": "stderr",
     "output_type": "stream",
     "text": [
      "\r",
      " 55%|████████████████████████████████████████▉                                  | 655/1201 [2:26:02<2:13:17, 14.65s/it]"
     ]
    },
    {
     "name": "stdout",
     "output_type": "stream",
     "text": [
      "Collected 256 tweets at 2021-11-26.\n",
      "Running twitter query: \"(#covid) lang:en until:2021-11-28 since:2021-11-27\"\n"
     ]
    },
    {
     "name": "stderr",
     "output_type": "stream",
     "text": [
      "Unavailable user in card on tweet 1464743348615454728\n",
      "User 14204245 not found in user refs in card on tweet 1464743348615454728\n",
      " 55%|████████████████████████████████████████▉                                  | 656/1201 [2:26:16<2:11:09, 14.44s/it]"
     ]
    },
    {
     "name": "stdout",
     "output_type": "stream",
     "text": [
      "Collected 256 tweets at 2021-11-27.\n",
      "Running twitter query: \"(#covid) lang:en until:2021-11-29 since:2021-11-28\"\n"
     ]
    },
    {
     "name": "stderr",
     "output_type": "stream",
     "text": [
      "\r",
      " 55%|█████████████████████████████████████████                                  | 657/1201 [2:26:33<2:17:54, 15.21s/it]"
     ]
    },
    {
     "name": "stdout",
     "output_type": "stream",
     "text": [
      "Collected 256 tweets at 2021-11-28.\n",
      "Running twitter query: \"(#covid) lang:en until:2021-11-30 since:2021-11-29\"\n"
     ]
    },
    {
     "name": "stderr",
     "output_type": "stream",
     "text": [
      "\r",
      " 55%|█████████████████████████████████████████                                  | 658/1201 [2:26:49<2:19:49, 15.45s/it]"
     ]
    },
    {
     "name": "stdout",
     "output_type": "stream",
     "text": [
      "Collected 256 tweets at 2021-11-29.\n",
      "Running twitter query: \"(#covid) lang:en until:2021-12-01 since:2021-11-30\"\n"
     ]
    },
    {
     "name": "stderr",
     "output_type": "stream",
     "text": [
      "Twitter responded with an error: TimeoutError: Timeout: Unspecified\n",
      " 55%|█████████████████████████████████████████▏                                 | 659/1201 [2:27:05<2:20:07, 15.51s/it]"
     ]
    },
    {
     "name": "stdout",
     "output_type": "stream",
     "text": [
      "Collected 256 tweets at 2021-11-30.\n",
      "Saving 7481 tweets at 2021-11.\n",
      "Running twitter query: \"(#covid) lang:en until:2021-12-02 since:2021-12-01\"\n"
     ]
    },
    {
     "name": "stderr",
     "output_type": "stream",
     "text": [
      "\r",
      " 55%|█████████████████████████████████████████▏                                 | 660/1201 [2:27:18<2:13:49, 14.84s/it]"
     ]
    },
    {
     "name": "stdout",
     "output_type": "stream",
     "text": [
      "Collected 256 tweets at 2021-12-01.\n",
      "Running twitter query: \"(#covid) lang:en until:2021-12-03 since:2021-12-02\"\n"
     ]
    },
    {
     "name": "stderr",
     "output_type": "stream",
     "text": [
      "Empty user ref object in card on tweet 1466546521756016642\n",
      "User 1259487 not found in user refs in card on tweet 1466546521756016642\n",
      " 55%|█████████████████████████████████████████▎                                 | 661/1201 [2:27:33<2:13:11, 14.80s/it]"
     ]
    },
    {
     "name": "stdout",
     "output_type": "stream",
     "text": [
      "Collected 256 tweets at 2021-12-02.\n",
      "Running twitter query: \"(#covid) lang:en until:2021-12-04 since:2021-12-03\"\n"
     ]
    },
    {
     "name": "stderr",
     "output_type": "stream",
     "text": [
      "\r",
      " 55%|█████████████████████████████████████████▎                                 | 662/1201 [2:27:46<2:08:58, 14.36s/it]"
     ]
    },
    {
     "name": "stdout",
     "output_type": "stream",
     "text": [
      "Collected 256 tweets at 2021-12-03.\n",
      "Running twitter query: \"(#covid) lang:en until:2021-12-05 since:2021-12-04\"\n"
     ]
    },
    {
     "name": "stderr",
     "output_type": "stream",
     "text": [
      "\r",
      " 55%|█████████████████████████████████████████▍                                 | 663/1201 [2:27:58<2:02:08, 13.62s/it]"
     ]
    },
    {
     "name": "stdout",
     "output_type": "stream",
     "text": [
      "Collected 256 tweets at 2021-12-04.\n",
      "Running twitter query: \"(#covid) lang:en until:2021-12-06 since:2021-12-05\"\n"
     ]
    },
    {
     "name": "stderr",
     "output_type": "stream",
     "text": [
      "\r",
      " 55%|█████████████████████████████████████████▍                                 | 664/1201 [2:28:13<2:04:36, 13.92s/it]"
     ]
    },
    {
     "name": "stdout",
     "output_type": "stream",
     "text": [
      "Collected 256 tweets at 2021-12-05.\n",
      "Running twitter query: \"(#covid) lang:en until:2021-12-07 since:2021-12-06\"\n"
     ]
    },
    {
     "name": "stderr",
     "output_type": "stream",
     "text": [
      "\r",
      " 55%|█████████████████████████████████████████▌                                 | 665/1201 [2:28:26<2:02:24, 13.70s/it]"
     ]
    },
    {
     "name": "stdout",
     "output_type": "stream",
     "text": [
      "Collected 256 tweets at 2021-12-06.\n",
      "Running twitter query: \"(#covid) lang:en until:2021-12-08 since:2021-12-07\"\n"
     ]
    },
    {
     "name": "stderr",
     "output_type": "stream",
     "text": [
      "\r",
      " 55%|█████████████████████████████████████████▌                                 | 666/1201 [2:28:37<1:56:05, 13.02s/it]"
     ]
    },
    {
     "name": "stdout",
     "output_type": "stream",
     "text": [
      "Collected 256 tweets at 2021-12-07.\n",
      "Running twitter query: \"(#covid) lang:en until:2021-12-09 since:2021-12-08\"\n"
     ]
    },
    {
     "name": "stderr",
     "output_type": "stream",
     "text": [
      "\r",
      " 56%|█████████████████████████████████████████▋                                 | 667/1201 [2:28:50<1:54:58, 12.92s/it]"
     ]
    },
    {
     "name": "stdout",
     "output_type": "stream",
     "text": [
      "Collected 256 tweets at 2021-12-08.\n",
      "Running twitter query: \"(#covid) lang:en until:2021-12-10 since:2021-12-09\"\n"
     ]
    },
    {
     "name": "stderr",
     "output_type": "stream",
     "text": [
      "\r",
      " 56%|█████████████████████████████████████████▋                                 | 668/1201 [2:29:04<1:59:07, 13.41s/it]"
     ]
    },
    {
     "name": "stdout",
     "output_type": "stream",
     "text": [
      "Collected 256 tweets at 2021-12-09.\n",
      "Running twitter query: \"(#covid) lang:en until:2021-12-11 since:2021-12-10\"\n"
     ]
    },
    {
     "name": "stderr",
     "output_type": "stream",
     "text": [
      "\r",
      " 56%|█████████████████████████████████████████▊                                 | 669/1201 [2:29:18<1:59:19, 13.46s/it]"
     ]
    },
    {
     "name": "stdout",
     "output_type": "stream",
     "text": [
      "Collected 256 tweets at 2021-12-10.\n",
      "Running twitter query: \"(#covid) lang:en until:2021-12-12 since:2021-12-11\"\n"
     ]
    },
    {
     "name": "stderr",
     "output_type": "stream",
     "text": [
      "Unavailable user in card on tweet 1469813506803310593\n",
      "User 14204245 not found in user refs in card on tweet 1469813506803310593\n",
      "Unavailable user in card on tweet 1469812372105801735\n",
      "User 1416168256373731333 not found in user refs in card on tweet 1469812372105801735\n",
      "Unavailable user in card on tweet 1469808754011312129\n",
      "User 1416168256373731333 not found in user refs in card on tweet 1469808754011312129\n",
      "Unavailable user in card on tweet 1469801227282173954\n",
      "User 1416168256373731333 not found in user refs in card on tweet 1469801227282173954\n",
      "Unavailable user in card on tweet 1469801070092296204\n",
      "User 1416168256373731333 not found in user refs in card on tweet 1469801070092296204\n",
      "Unavailable user in card on tweet 1469790001839890432\n",
      "User 1416168256373731333 not found in user refs in card on tweet 1469790001839890432\n",
      " 56%|█████████████████████████████████████████▊                                 | 670/1201 [2:29:31<1:57:25, 13.27s/it]"
     ]
    },
    {
     "name": "stdout",
     "output_type": "stream",
     "text": [
      "Collected 256 tweets at 2021-12-11.\n",
      "Running twitter query: \"(#covid) lang:en until:2021-12-13 since:2021-12-12\"\n"
     ]
    },
    {
     "name": "stderr",
     "output_type": "stream",
     "text": [
      "\r",
      " 56%|█████████████████████████████████████████▉                                 | 671/1201 [2:29:47<2:05:46, 14.24s/it]"
     ]
    },
    {
     "name": "stdout",
     "output_type": "stream",
     "text": [
      "Collected 256 tweets at 2021-12-12.\n",
      "Running twitter query: \"(#covid) lang:en until:2021-12-14 since:2021-12-13\"\n"
     ]
    },
    {
     "name": "stderr",
     "output_type": "stream",
     "text": [
      "\r",
      " 56%|█████████████████████████████████████████▉                                 | 672/1201 [2:30:01<2:02:33, 13.90s/it]"
     ]
    },
    {
     "name": "stdout",
     "output_type": "stream",
     "text": [
      "Collected 256 tweets at 2021-12-13.\n",
      "Running twitter query: \"(#covid) lang:en until:2021-12-15 since:2021-12-14\"\n"
     ]
    },
    {
     "name": "stderr",
     "output_type": "stream",
     "text": [
      "\r",
      " 56%|██████████████████████████████████████████                                 | 673/1201 [2:30:14<2:00:31, 13.70s/it]"
     ]
    },
    {
     "name": "stdout",
     "output_type": "stream",
     "text": [
      "Collected 256 tweets at 2021-12-14.\n",
      "Running twitter query: \"(#covid) lang:en until:2021-12-16 since:2021-12-15\"\n"
     ]
    },
    {
     "name": "stderr",
     "output_type": "stream",
     "text": [
      "\r",
      " 56%|██████████████████████████████████████████                                 | 674/1201 [2:30:26<1:57:29, 13.38s/it]"
     ]
    },
    {
     "name": "stdout",
     "output_type": "stream",
     "text": [
      "Collected 256 tweets at 2021-12-15.\n",
      "Running twitter query: \"(#covid) lang:en until:2021-12-17 since:2021-12-16\"\n"
     ]
    },
    {
     "name": "stderr",
     "output_type": "stream",
     "text": [
      "Unavailable user in card on tweet 1471625572627402759\n",
      "User 14204245 not found in user refs in card on tweet 1471625572627402759\n",
      " 56%|██████████████████████████████████████████▏                                | 675/1201 [2:30:40<1:57:39, 13.42s/it]"
     ]
    },
    {
     "name": "stdout",
     "output_type": "stream",
     "text": [
      "Collected 256 tweets at 2021-12-16.\n",
      "Running twitter query: \"(#covid) lang:en until:2021-12-18 since:2021-12-17\"\n"
     ]
    },
    {
     "name": "stderr",
     "output_type": "stream",
     "text": [
      "\r",
      " 56%|██████████████████████████████████████████▏                                | 676/1201 [2:30:53<1:56:46, 13.35s/it]"
     ]
    },
    {
     "name": "stdout",
     "output_type": "stream",
     "text": [
      "Collected 256 tweets at 2021-12-17.\n",
      "Running twitter query: \"(#covid) lang:en until:2021-12-19 since:2021-12-18\"\n"
     ]
    },
    {
     "name": "stderr",
     "output_type": "stream",
     "text": [
      "\r",
      " 56%|██████████████████████████████████████████▎                                | 677/1201 [2:31:06<1:56:18, 13.32s/it]"
     ]
    },
    {
     "name": "stdout",
     "output_type": "stream",
     "text": [
      "Collected 256 tweets at 2021-12-18.\n",
      "Running twitter query: \"(#covid) lang:en until:2021-12-20 since:2021-12-19\"\n"
     ]
    },
    {
     "name": "stderr",
     "output_type": "stream",
     "text": [
      "Unavailable user in card on tweet 1472717039185842182\n",
      "User 14204245 not found in user refs in card on tweet 1472717039185842182\n",
      " 56%|██████████████████████████████████████████▎                                | 678/1201 [2:31:21<1:58:54, 13.64s/it]"
     ]
    },
    {
     "name": "stdout",
     "output_type": "stream",
     "text": [
      "Collected 256 tweets at 2021-12-19.\n",
      "Running twitter query: \"(#covid) lang:en until:2021-12-21 since:2021-12-20\"\n"
     ]
    },
    {
     "name": "stderr",
     "output_type": "stream",
     "text": [
      "Unavailable user in card on tweet 1473066277904261122\n",
      "User 14204245 not found in user refs in card on tweet 1473066277904261122\n",
      " 57%|██████████████████████████████████████████▍                                | 679/1201 [2:31:34<1:57:56, 13.56s/it]"
     ]
    },
    {
     "name": "stdout",
     "output_type": "stream",
     "text": [
      "Collected 256 tweets at 2021-12-20.\n",
      "Running twitter query: \"(#covid) lang:en until:2021-12-22 since:2021-12-21\"\n"
     ]
    },
    {
     "name": "stderr",
     "output_type": "stream",
     "text": [
      "\r",
      " 57%|██████████████████████████████████████████▍                                | 680/1201 [2:31:50<2:02:43, 14.13s/it]"
     ]
    },
    {
     "name": "stdout",
     "output_type": "stream",
     "text": [
      "Collected 256 tweets at 2021-12-21.\n",
      "Running twitter query: \"(#covid) lang:en until:2021-12-23 since:2021-12-22\"\n"
     ]
    },
    {
     "name": "stderr",
     "output_type": "stream",
     "text": [
      "Unavailable user in card on tweet 1473804234273529859\n",
      "User 1479819608 not found in user refs in card on tweet 1473804234273529859\n",
      " 57%|██████████████████████████████████████████▌                                | 681/1201 [2:32:05<2:05:11, 14.45s/it]"
     ]
    },
    {
     "name": "stdout",
     "output_type": "stream",
     "text": [
      "Collected 256 tweets at 2021-12-22.\n",
      "Running twitter query: \"(#covid) lang:en until:2021-12-24 since:2021-12-23\"\n"
     ]
    },
    {
     "name": "stderr",
     "output_type": "stream",
     "text": [
      "\r",
      " 57%|██████████████████████████████████████████▌                                | 682/1201 [2:32:18<2:02:38, 14.18s/it]"
     ]
    },
    {
     "name": "stdout",
     "output_type": "stream",
     "text": [
      "Collected 256 tweets at 2021-12-23.\n",
      "Running twitter query: \"(#covid) lang:en until:2021-12-25 since:2021-12-24\"\n"
     ]
    },
    {
     "name": "stderr",
     "output_type": "stream",
     "text": [
      "Unavailable user in card on tweet 1474515393880469504\n",
      "User 1434052940 not found in user refs in card on tweet 1474515393880469504\n",
      " 57%|██████████████████████████████████████████▋                                | 683/1201 [2:32:34<2:07:07, 14.72s/it]"
     ]
    },
    {
     "name": "stdout",
     "output_type": "stream",
     "text": [
      "Collected 256 tweets at 2021-12-24.\n",
      "Running twitter query: \"(#covid) lang:en until:2021-12-26 since:2021-12-25\"\n"
     ]
    },
    {
     "name": "stderr",
     "output_type": "stream",
     "text": [
      "\r",
      " 57%|██████████████████████████████████████████▋                                | 684/1201 [2:32:50<2:10:12, 15.11s/it]"
     ]
    },
    {
     "name": "stdout",
     "output_type": "stream",
     "text": [
      "Collected 256 tweets at 2021-12-25.\n",
      "Running twitter query: \"(#covid) lang:en until:2021-12-27 since:2021-12-26\"\n"
     ]
    },
    {
     "name": "stderr",
     "output_type": "stream",
     "text": [
      "Unavailable user in card on tweet 1475236185924681746\n",
      "User 1343341123251519488 not found in user refs in card on tweet 1475236185924681746\n",
      " 57%|██████████████████████████████████████████▊                                | 685/1201 [2:33:04<2:06:10, 14.67s/it]"
     ]
    },
    {
     "name": "stdout",
     "output_type": "stream",
     "text": [
      "Collected 256 tweets at 2021-12-26.\n",
      "Running twitter query: \"(#covid) lang:en until:2021-12-28 since:2021-12-27\"\n"
     ]
    },
    {
     "name": "stderr",
     "output_type": "stream",
     "text": [
      "\r",
      " 57%|██████████████████████████████████████████▊                                | 686/1201 [2:33:19<2:07:08, 14.81s/it]"
     ]
    },
    {
     "name": "stdout",
     "output_type": "stream",
     "text": [
      "Collected 256 tweets at 2021-12-27.\n",
      "Running twitter query: \"(#covid) lang:en until:2021-12-29 since:2021-12-28\"\n"
     ]
    },
    {
     "name": "stderr",
     "output_type": "stream",
     "text": [
      "\r",
      " 57%|██████████████████████████████████████████▉                                | 687/1201 [2:33:34<2:06:13, 14.74s/it]"
     ]
    },
    {
     "name": "stdout",
     "output_type": "stream",
     "text": [
      "Collected 256 tweets at 2021-12-28.\n",
      "Running twitter query: \"(#covid) lang:en until:2021-12-30 since:2021-12-29\"\n"
     ]
    },
    {
     "name": "stderr",
     "output_type": "stream",
     "text": [
      "Twitter responded with an error: TimeoutError: Timeout: Unspecified, TimeoutError: Timeout: Unspecified, TimeoutError: Timeout: Unspecified, TimeoutError: Timeout: Unspecified, TimeoutError: Timeout: Unspecified, TimeoutError: Timeout: Unspecified, TimeoutError: Timeout: Unspecified, TimeoutError: Timeout: Unspecified, TimeoutError: Timeout: Unspecified, TimeoutError: Timeout: Unspecified, TimeoutError: Timeout: Unspecified\n",
      " 57%|██████████████████████████████████████████▉                                | 688/1201 [2:33:48<2:05:44, 14.71s/it]"
     ]
    },
    {
     "name": "stdout",
     "output_type": "stream",
     "text": [
      "Collected 256 tweets at 2021-12-29.\n",
      "Running twitter query: \"(#covid) lang:en until:2021-12-31 since:2021-12-30\"\n"
     ]
    },
    {
     "name": "stderr",
     "output_type": "stream",
     "text": [
      "\r",
      " 57%|███████████████████████████████████████████                                | 689/1201 [2:34:03<2:06:03, 14.77s/it]"
     ]
    },
    {
     "name": "stdout",
     "output_type": "stream",
     "text": [
      "Collected 256 tweets at 2021-12-30.\n",
      "Running twitter query: \"(#covid) lang:en until:2022-01-01 since:2021-12-31\"\n"
     ]
    },
    {
     "name": "stderr",
     "output_type": "stream",
     "text": [
      "Unavailable user in card on tweet 1477048809435893764\n",
      "User 1416168256373731333 not found in user refs in card on tweet 1477048809435893764\n",
      " 57%|███████████████████████████████████████████                                | 690/1201 [2:34:20<2:10:42, 15.35s/it]"
     ]
    },
    {
     "name": "stdout",
     "output_type": "stream",
     "text": [
      "Collected 256 tweets at 2021-12-31.\n",
      "Saving 7936 tweets at 2021-12.\n",
      "Running twitter query: \"(#covid) lang:en until:2022-01-02 since:2022-01-01\"\n"
     ]
    },
    {
     "name": "stderr",
     "output_type": "stream",
     "text": [
      "\r",
      " 58%|███████████████████████████████████████████▏                               | 691/1201 [2:34:33<2:03:43, 14.56s/it]"
     ]
    },
    {
     "name": "stdout",
     "output_type": "stream",
     "text": [
      "Collected 256 tweets at 2022-01-01.\n",
      "Running twitter query: \"(#covid) lang:en until:2022-01-03 since:2022-01-02\"\n"
     ]
    },
    {
     "name": "stderr",
     "output_type": "stream",
     "text": [
      "Unavailable user in card on tweet 1477773591496253445\n",
      "User 1416168256373731333 not found in user refs in card on tweet 1477773591496253445\n",
      " 58%|███████████████████████████████████████████▏                               | 692/1201 [2:34:47<2:03:54, 14.61s/it]"
     ]
    },
    {
     "name": "stdout",
     "output_type": "stream",
     "text": [
      "Collected 256 tweets at 2022-01-02.\n",
      "Running twitter query: \"(#covid) lang:en until:2022-01-04 since:2022-01-03\"\n"
     ]
    },
    {
     "name": "stderr",
     "output_type": "stream",
     "text": [
      "\r",
      " 58%|███████████████████████████████████████████▎                               | 693/1201 [2:35:01<2:01:13, 14.32s/it]"
     ]
    },
    {
     "name": "stdout",
     "output_type": "stream",
     "text": [
      "Collected 256 tweets at 2022-01-03.\n",
      "Running twitter query: \"(#covid) lang:en until:2022-01-05 since:2022-01-04\"\n"
     ]
    },
    {
     "name": "stderr",
     "output_type": "stream",
     "text": [
      "\r",
      " 58%|███████████████████████████████████████████▎                               | 694/1201 [2:35:13<1:54:57, 13.60s/it]"
     ]
    },
    {
     "name": "stdout",
     "output_type": "stream",
     "text": [
      "Collected 256 tweets at 2022-01-04.\n",
      "Running twitter query: \"(#covid) lang:en until:2022-01-06 since:2022-01-05\"\n"
     ]
    },
    {
     "name": "stderr",
     "output_type": "stream",
     "text": [
      "Unavailable user in card on tweet 1478867575236931585\n",
      "User 14204245 not found in user refs in card on tweet 1478867575236931585\n",
      " 58%|███████████████████████████████████████████▍                               | 695/1201 [2:35:25<1:50:07, 13.06s/it]"
     ]
    },
    {
     "name": "stdout",
     "output_type": "stream",
     "text": [
      "Collected 256 tweets at 2022-01-05.\n",
      "Running twitter query: \"(#covid) lang:en until:2022-01-07 since:2022-01-06\"\n"
     ]
    },
    {
     "name": "stderr",
     "output_type": "stream",
     "text": [
      "\r",
      " 58%|███████████████████████████████████████████▍                               | 696/1201 [2:35:37<1:48:15, 12.86s/it]"
     ]
    },
    {
     "name": "stdout",
     "output_type": "stream",
     "text": [
      "Collected 256 tweets at 2022-01-06.\n",
      "Running twitter query: \"(#covid) lang:en until:2022-01-08 since:2022-01-07\"\n"
     ]
    },
    {
     "name": "stderr",
     "output_type": "stream",
     "text": [
      "\r",
      " 58%|███████████████████████████████████████████▌                               | 697/1201 [2:35:49<1:46:11, 12.64s/it]"
     ]
    },
    {
     "name": "stdout",
     "output_type": "stream",
     "text": [
      "Collected 256 tweets at 2022-01-07.\n",
      "Running twitter query: \"(#covid) lang:en until:2022-01-09 since:2022-01-08\"\n"
     ]
    },
    {
     "name": "stderr",
     "output_type": "stream",
     "text": [
      "\r",
      " 58%|███████████████████████████████████████████▌                               | 698/1201 [2:36:02<1:45:43, 12.61s/it]"
     ]
    },
    {
     "name": "stdout",
     "output_type": "stream",
     "text": [
      "Collected 256 tweets at 2022-01-08.\n",
      "Running twitter query: \"(#covid) lang:en until:2022-01-10 since:2022-01-09\"\n"
     ]
    },
    {
     "name": "stderr",
     "output_type": "stream",
     "text": [
      "Unavailable user in card on tweet 1480315076838146054\n",
      "User 28019971 not found in user refs in card on tweet 1480315076838146054\n",
      " 58%|███████████████████████████████████████████▋                               | 699/1201 [2:36:16<1:50:40, 13.23s/it]"
     ]
    },
    {
     "name": "stdout",
     "output_type": "stream",
     "text": [
      "Collected 256 tweets at 2022-01-09.\n",
      "Running twitter query: \"(#covid) lang:en until:2022-01-11 since:2022-01-10\"\n"
     ]
    },
    {
     "name": "stderr",
     "output_type": "stream",
     "text": [
      "\r",
      " 58%|███████████████████████████████████████████▋                               | 700/1201 [2:36:28<1:47:31, 12.88s/it]"
     ]
    },
    {
     "name": "stdout",
     "output_type": "stream",
     "text": [
      "Collected 256 tweets at 2022-01-10.\n",
      "Running twitter query: \"(#covid) lang:en until:2022-01-12 since:2022-01-11\"\n"
     ]
    },
    {
     "name": "stderr",
     "output_type": "stream",
     "text": [
      "Unavailable user in card on tweet 1481041987826589699\n",
      "Unavailable user in card on tweet 1481041987826589699\n",
      "User 1546143447693893632 not found in user refs in card on tweet 1481041987826589699\n",
      "User 1546143447693893632 not found in user refs in card on tweet 1481041987826589699\n",
      " 58%|███████████████████████████████████████████▊                               | 701/1201 [2:36:42<1:48:06, 12.97s/it]"
     ]
    },
    {
     "name": "stdout",
     "output_type": "stream",
     "text": [
      "Collected 256 tweets at 2022-01-11.\n",
      "Running twitter query: \"(#covid) lang:en until:2022-01-13 since:2022-01-12\"\n"
     ]
    },
    {
     "name": "stderr",
     "output_type": "stream",
     "text": [
      "\r",
      " 58%|███████████████████████████████████████████▊                               | 702/1201 [2:36:58<1:55:27, 13.88s/it]"
     ]
    },
    {
     "name": "stdout",
     "output_type": "stream",
     "text": [
      "Collected 256 tweets at 2022-01-12.\n",
      "Running twitter query: \"(#covid) lang:en until:2022-01-14 since:2022-01-13\"\n"
     ]
    },
    {
     "name": "stderr",
     "output_type": "stream",
     "text": [
      "\r",
      " 59%|███████████████████████████████████████████▉                               | 703/1201 [2:37:12<1:57:17, 14.13s/it]"
     ]
    },
    {
     "name": "stdout",
     "output_type": "stream",
     "text": [
      "Collected 256 tweets at 2022-01-13.\n",
      "Running twitter query: \"(#covid) lang:en until:2022-01-15 since:2022-01-14\"\n"
     ]
    },
    {
     "name": "stderr",
     "output_type": "stream",
     "text": [
      "Empty user ref object in card on tweet 1482125398284636162\n",
      "Empty user ref object in card on tweet 1482125398284636162\n",
      "User 4503599629184530 not found in user refs in card on tweet 1482125398284636162\n",
      "User 4503599629184530 not found in user refs in card on tweet 1482125398284636162\n",
      " 59%|███████████████████████████████████████████▉                               | 704/1201 [2:37:27<1:58:24, 14.30s/it]"
     ]
    },
    {
     "name": "stdout",
     "output_type": "stream",
     "text": [
      "Collected 256 tweets at 2022-01-14.\n",
      "Running twitter query: \"(#covid) lang:en until:2022-01-16 since:2022-01-15\"\n"
     ]
    },
    {
     "name": "stderr",
     "output_type": "stream",
     "text": [
      "\r",
      " 59%|████████████████████████████████████████████                               | 705/1201 [2:37:42<1:59:35, 14.47s/it]"
     ]
    },
    {
     "name": "stdout",
     "output_type": "stream",
     "text": [
      "Collected 256 tweets at 2022-01-15.\n",
      "Running twitter query: \"(#covid) lang:en until:2022-01-17 since:2022-01-16\"\n"
     ]
    },
    {
     "name": "stderr",
     "output_type": "stream",
     "text": [
      "Unavailable user in card on tweet 1482863994549452806\n",
      "Unavailable user in card on tweet 1482863994549452806\n",
      "User 1546143447693893632 not found in user refs in card on tweet 1482863994549452806\n",
      "User 1546143447693893632 not found in user refs in card on tweet 1482863994549452806\n",
      "Unavailable user in card on tweet 1482862159809892364\n",
      "User 1416168256373731333 not found in user refs in card on tweet 1482862159809892364\n",
      " 59%|████████████████████████████████████████████                               | 706/1201 [2:37:56<1:57:48, 14.28s/it]"
     ]
    },
    {
     "name": "stdout",
     "output_type": "stream",
     "text": [
      "Collected 256 tweets at 2022-01-16.\n",
      "Running twitter query: \"(#covid) lang:en until:2022-01-18 since:2022-01-17\"\n"
     ]
    },
    {
     "name": "stderr",
     "output_type": "stream",
     "text": [
      "\r",
      " 59%|████████████████████████████████████████████▏                              | 707/1201 [2:38:10<1:56:40, 14.17s/it]"
     ]
    },
    {
     "name": "stdout",
     "output_type": "stream",
     "text": [
      "Collected 256 tweets at 2022-01-17.\n",
      "Running twitter query: \"(#covid) lang:en until:2022-01-19 since:2022-01-18\"\n"
     ]
    },
    {
     "name": "stderr",
     "output_type": "stream",
     "text": [
      "Unavailable user in card on tweet 1483578572870615049\n",
      "User 28550209 not found in user refs in card on tweet 1483578572870615049\n",
      " 59%|████████████████████████████████████████████▏                              | 708/1201 [2:38:23<1:54:51, 13.98s/it]"
     ]
    },
    {
     "name": "stdout",
     "output_type": "stream",
     "text": [
      "Collected 256 tweets at 2022-01-18.\n",
      "Running twitter query: \"(#covid) lang:en until:2022-01-20 since:2022-01-19\"\n"
     ]
    },
    {
     "name": "stderr",
     "output_type": "stream",
     "text": [
      "Unavailable user in card on tweet 1483951106761842688\n",
      "User 1614657243957403657 not found in user refs in card on tweet 1483951106761842688\n",
      " 59%|████████████████████████████████████████████▎                              | 709/1201 [2:38:37<1:53:16, 13.81s/it]"
     ]
    },
    {
     "name": "stdout",
     "output_type": "stream",
     "text": [
      "Collected 256 tweets at 2022-01-19.\n",
      "Running twitter query: \"(#covid) lang:en until:2022-01-21 since:2022-01-20\"\n"
     ]
    },
    {
     "name": "stderr",
     "output_type": "stream",
     "text": [
      "\r",
      " 59%|████████████████████████████████████████████▎                              | 710/1201 [2:38:55<2:04:49, 15.25s/it]"
     ]
    },
    {
     "name": "stdout",
     "output_type": "stream",
     "text": [
      "Collected 256 tweets at 2022-01-20.\n",
      "Running twitter query: \"(#covid) lang:en until:2022-01-22 since:2022-01-21\"\n"
     ]
    },
    {
     "name": "stderr",
     "output_type": "stream",
     "text": [
      "\r",
      " 59%|████████████████████████████████████████████▍                              | 711/1201 [2:39:12<2:08:23, 15.72s/it]"
     ]
    },
    {
     "name": "stdout",
     "output_type": "stream",
     "text": [
      "Collected 256 tweets at 2022-01-21.\n",
      "Running twitter query: \"(#covid) lang:en until:2022-01-23 since:2022-01-22\"\n"
     ]
    },
    {
     "name": "stderr",
     "output_type": "stream",
     "text": [
      "Unavailable user in card on tweet 1485025307899969537\n",
      "User 1416168256373731333 not found in user refs in card on tweet 1485025307899969537\n",
      "Unavailable user in card on tweet 1485013852332994566\n",
      "User 1416168256373731333 not found in user refs in card on tweet 1485013852332994566\n",
      " 59%|████████████████████████████████████████████▍                              | 712/1201 [2:39:27<2:05:47, 15.43s/it]"
     ]
    },
    {
     "name": "stdout",
     "output_type": "stream",
     "text": [
      "Collected 256 tweets at 2022-01-22.\n",
      "Running twitter query: \"(#covid) lang:en until:2022-01-24 since:2022-01-23\"\n"
     ]
    },
    {
     "name": "stderr",
     "output_type": "stream",
     "text": [
      "Unavailable user in card on tweet 1485398926064824320\n",
      "User 1416168256373731333 not found in user refs in card on tweet 1485398926064824320\n",
      "Unavailable user in card on tweet 1485391350803673096\n",
      "User 1416168256373731333 not found in user refs in card on tweet 1485391350803673096\n",
      " 59%|████████████████████████████████████████████▌                              | 713/1201 [2:39:45<2:12:01, 16.23s/it]"
     ]
    },
    {
     "name": "stdout",
     "output_type": "stream",
     "text": [
      "Collected 256 tweets at 2022-01-23.\n",
      "Running twitter query: \"(#covid) lang:en until:2022-01-25 since:2022-01-24\"\n"
     ]
    },
    {
     "name": "stderr",
     "output_type": "stream",
     "text": [
      "\r",
      " 59%|████████████████████████████████████████████▌                              | 714/1201 [2:40:00<2:09:55, 16.01s/it]"
     ]
    },
    {
     "name": "stdout",
     "output_type": "stream",
     "text": [
      "Collected 256 tweets at 2022-01-24.\n",
      "Running twitter query: \"(#covid) lang:en until:2022-01-26 since:2022-01-25\"\n"
     ]
    },
    {
     "name": "stderr",
     "output_type": "stream",
     "text": [
      "\r",
      " 60%|████████████████████████████████████████████▋                              | 715/1201 [2:40:16<2:09:45, 16.02s/it]"
     ]
    },
    {
     "name": "stdout",
     "output_type": "stream",
     "text": [
      "Collected 256 tweets at 2022-01-25.\n",
      "Running twitter query: \"(#covid) lang:en until:2022-01-27 since:2022-01-26\"\n"
     ]
    },
    {
     "name": "stderr",
     "output_type": "stream",
     "text": [
      "\r",
      " 60%|████████████████████████████████████████████▋                              | 716/1201 [2:40:33<2:11:27, 16.26s/it]"
     ]
    },
    {
     "name": "stdout",
     "output_type": "stream",
     "text": [
      "Collected 256 tweets at 2022-01-26.\n",
      "Running twitter query: \"(#covid) lang:en until:2022-01-28 since:2022-01-27\"\n"
     ]
    },
    {
     "name": "stderr",
     "output_type": "stream",
     "text": [
      "\r",
      " 60%|████████████████████████████████████████████▊                              | 717/1201 [2:40:48<2:08:19, 15.91s/it]"
     ]
    },
    {
     "name": "stdout",
     "output_type": "stream",
     "text": [
      "Collected 256 tweets at 2022-01-27.\n",
      "Running twitter query: \"(#covid) lang:en until:2022-01-29 since:2022-01-28\"\n"
     ]
    },
    {
     "name": "stderr",
     "output_type": "stream",
     "text": [
      "\r",
      " 60%|████████████████████████████████████████████▊                              | 718/1201 [2:41:04<2:08:08, 15.92s/it]"
     ]
    },
    {
     "name": "stdout",
     "output_type": "stream",
     "text": [
      "Collected 256 tweets at 2022-01-28.\n",
      "Running twitter query: \"(#covid) lang:en until:2022-01-30 since:2022-01-29\"\n"
     ]
    },
    {
     "name": "stderr",
     "output_type": "stream",
     "text": [
      "Unavailable user in card on tweet 1487560410379300864\n",
      "User 14204245 not found in user refs in card on tweet 1487560410379300864\n",
      " 60%|████████████████████████████████████████████▉                              | 719/1201 [2:41:21<2:09:23, 16.11s/it]"
     ]
    },
    {
     "name": "stdout",
     "output_type": "stream",
     "text": [
      "Collected 256 tweets at 2022-01-29.\n",
      "Running twitter query: \"(#covid) lang:en until:2022-01-31 since:2022-01-30\"\n"
     ]
    },
    {
     "name": "stderr",
     "output_type": "stream",
     "text": [
      "Unavailable user in card on tweet 1487927107158036480\n",
      "User 14204245 not found in user refs in card on tweet 1487927107158036480\n",
      "Unavailable user in card on tweet 1487920523648675843\n",
      "User 1416168256373731333 not found in user refs in card on tweet 1487920523648675843\n",
      " 60%|████████████████████████████████████████████▉                              | 720/1201 [2:41:40<2:16:58, 17.09s/it]"
     ]
    },
    {
     "name": "stdout",
     "output_type": "stream",
     "text": [
      "Collected 256 tweets at 2022-01-30.\n",
      "Running twitter query: \"(#covid) lang:en until:2022-02-01 since:2022-01-31\"\n"
     ]
    },
    {
     "name": "stderr",
     "output_type": "stream",
     "text": [
      "\r",
      " 60%|█████████████████████████████████████████████                              | 721/1201 [2:41:57<2:15:39, 16.96s/it]"
     ]
    },
    {
     "name": "stdout",
     "output_type": "stream",
     "text": [
      "Collected 256 tweets at 2022-01-31.\n",
      "Saving 7936 tweets at 2022-01.\n",
      "Running twitter query: \"(#covid) lang:en until:2022-02-02 since:2022-02-01\"\n"
     ]
    },
    {
     "name": "stderr",
     "output_type": "stream",
     "text": [
      "Unavailable user in card on tweet 1488651872340639748\n",
      "User 14204245 not found in user refs in card on tweet 1488651872340639748\n",
      " 60%|█████████████████████████████████████████████                              | 722/1201 [2:42:11<2:09:08, 16.18s/it]"
     ]
    },
    {
     "name": "stdout",
     "output_type": "stream",
     "text": [
      "Collected 256 tweets at 2022-02-01.\n",
      "Running twitter query: \"(#covid) lang:en until:2022-02-03 since:2022-02-02\"\n"
     ]
    },
    {
     "name": "stderr",
     "output_type": "stream",
     "text": [
      "\r",
      " 60%|█████████████████████████████████████████████▏                             | 723/1201 [2:42:24<2:00:29, 15.12s/it]"
     ]
    },
    {
     "name": "stdout",
     "output_type": "stream",
     "text": [
      "Collected 256 tweets at 2022-02-02.\n",
      "Running twitter query: \"(#covid) lang:en until:2022-02-04 since:2022-02-03\"\n"
     ]
    },
    {
     "name": "stderr",
     "output_type": "stream",
     "text": [
      "\r",
      " 60%|█████████████████████████████████████████████▏                             | 724/1201 [2:42:37<1:55:59, 14.59s/it]"
     ]
    },
    {
     "name": "stdout",
     "output_type": "stream",
     "text": [
      "Collected 256 tweets at 2022-02-03.\n",
      "Running twitter query: \"(#covid) lang:en until:2022-02-05 since:2022-02-04\"\n"
     ]
    },
    {
     "name": "stderr",
     "output_type": "stream",
     "text": [
      "\r",
      " 60%|█████████████████████████████████████████████▎                             | 725/1201 [2:42:57<2:07:03, 16.02s/it]"
     ]
    },
    {
     "name": "stdout",
     "output_type": "stream",
     "text": [
      "Collected 256 tweets at 2022-02-04.\n",
      "Running twitter query: \"(#covid) lang:en until:2022-02-06 since:2022-02-05\"\n"
     ]
    },
    {
     "name": "stderr",
     "output_type": "stream",
     "text": [
      "Unavailable user in card on tweet 1490098574654377984\n",
      "User 1416168256373731333 not found in user refs in card on tweet 1490098574654377984\n",
      "Unavailable user in card on tweet 1490087291011928066\n",
      "User 1416168256373731333 not found in user refs in card on tweet 1490087291011928066\n",
      "Unavailable user in card on tweet 1490087225211633666\n",
      "User 1416168256373731333 not found in user refs in card on tweet 1490087225211633666\n",
      " 60%|█████████████████████████████████████████████▎                             | 726/1201 [2:43:10<2:00:47, 15.26s/it]"
     ]
    },
    {
     "name": "stdout",
     "output_type": "stream",
     "text": [
      "Collected 256 tweets at 2022-02-05.\n",
      "Running twitter query: \"(#covid) lang:en until:2022-02-07 since:2022-02-06\"\n"
     ]
    },
    {
     "name": "stderr",
     "output_type": "stream",
     "text": [
      "Unavailable user in card on tweet 1490449725304315908\n",
      "User 1416168256373731333 not found in user refs in card on tweet 1490449725304315908\n",
      "Unavailable user in card on tweet 1490446546940407809\n",
      "Unavailable user in card on tweet 1490446546940407809\n",
      "User 2821100009 not found in user refs in card on tweet 1490446546940407809\n",
      "User 2821100009 not found in user refs in card on tweet 1490446546940407809\n",
      " 61%|█████████████████████████████████████████████▍                             | 727/1201 [2:43:24<1:58:07, 14.95s/it]"
     ]
    },
    {
     "name": "stdout",
     "output_type": "stream",
     "text": [
      "Collected 256 tweets at 2022-02-06.\n",
      "Running twitter query: \"(#covid) lang:en until:2022-02-08 since:2022-02-07\"\n"
     ]
    },
    {
     "name": "stderr",
     "output_type": "stream",
     "text": [
      "\r",
      " 61%|█████████████████████████████████████████████▍                             | 728/1201 [2:43:40<2:00:41, 15.31s/it]"
     ]
    },
    {
     "name": "stdout",
     "output_type": "stream",
     "text": [
      "Collected 256 tweets at 2022-02-07.\n",
      "Running twitter query: \"(#covid) lang:en until:2022-02-09 since:2022-02-08\"\n"
     ]
    },
    {
     "name": "stderr",
     "output_type": "stream",
     "text": [
      "\r",
      " 61%|█████████████████████████████████████████████▌                             | 729/1201 [2:43:54<1:56:29, 14.81s/it]"
     ]
    },
    {
     "name": "stdout",
     "output_type": "stream",
     "text": [
      "Collected 256 tweets at 2022-02-08.\n",
      "Running twitter query: \"(#covid) lang:en until:2022-02-10 since:2022-02-09\"\n"
     ]
    },
    {
     "name": "stderr",
     "output_type": "stream",
     "text": [
      "\r",
      " 61%|█████████████████████████████████████████████▌                             | 730/1201 [2:44:08<1:54:07, 14.54s/it]"
     ]
    },
    {
     "name": "stdout",
     "output_type": "stream",
     "text": [
      "Collected 256 tweets at 2022-02-09.\n",
      "Running twitter query: \"(#covid) lang:en until:2022-02-11 since:2022-02-10\"\n"
     ]
    },
    {
     "name": "stderr",
     "output_type": "stream",
     "text": [
      "\r",
      " 61%|█████████████████████████████████████████████▋                             | 731/1201 [2:44:22<1:52:42, 14.39s/it]"
     ]
    },
    {
     "name": "stdout",
     "output_type": "stream",
     "text": [
      "Collected 256 tweets at 2022-02-10.\n",
      "Running twitter query: \"(#covid) lang:en until:2022-02-12 since:2022-02-11\"\n"
     ]
    },
    {
     "name": "stderr",
     "output_type": "stream",
     "text": [
      "\r",
      " 61%|█████████████████████████████████████████████▋                             | 732/1201 [2:44:37<1:52:55, 14.45s/it]"
     ]
    },
    {
     "name": "stdout",
     "output_type": "stream",
     "text": [
      "Collected 256 tweets at 2022-02-11.\n",
      "Running twitter query: \"(#covid) lang:en until:2022-02-13 since:2022-02-12\"\n"
     ]
    },
    {
     "name": "stderr",
     "output_type": "stream",
     "text": [
      "Unavailable user in card on tweet 1492643662727200771\n",
      "User 14204245 not found in user refs in card on tweet 1492643662727200771\n",
      " 61%|█████████████████████████████████████████████▊                             | 733/1201 [2:44:50<1:49:54, 14.09s/it]"
     ]
    },
    {
     "name": "stdout",
     "output_type": "stream",
     "text": [
      "Collected 256 tweets at 2022-02-12.\n",
      "Running twitter query: \"(#covid) lang:en until:2022-02-14 since:2022-02-13\"\n"
     ]
    },
    {
     "name": "stderr",
     "output_type": "stream",
     "text": [
      "Unavailable user in card on tweet 1492989438825308164\n",
      "User 14204245 not found in user refs in card on tweet 1492989438825308164\n",
      " 61%|█████████████████████████████████████████████▊                             | 734/1201 [2:45:05<1:51:45, 14.36s/it]"
     ]
    },
    {
     "name": "stdout",
     "output_type": "stream",
     "text": [
      "Collected 256 tweets at 2022-02-13.\n",
      "Running twitter query: \"(#covid) lang:en until:2022-02-15 since:2022-02-14\"\n"
     ]
    },
    {
     "name": "stderr",
     "output_type": "stream",
     "text": [
      "\r",
      " 61%|█████████████████████████████████████████████▉                             | 735/1201 [2:45:19<1:51:44, 14.39s/it]"
     ]
    },
    {
     "name": "stdout",
     "output_type": "stream",
     "text": [
      "Collected 256 tweets at 2022-02-14.\n",
      "Running twitter query: \"(#covid) lang:en until:2022-02-16 since:2022-02-15\"\n"
     ]
    },
    {
     "name": "stderr",
     "output_type": "stream",
     "text": [
      "Unavailable user in card on tweet 1493729336918171649\n",
      "User 1434052940 not found in user refs in card on tweet 1493729336918171649\n",
      " 61%|█████████████████████████████████████████████▉                             | 736/1201 [2:45:33<1:48:50, 14.04s/it]"
     ]
    },
    {
     "name": "stdout",
     "output_type": "stream",
     "text": [
      "Collected 256 tweets at 2022-02-15.\n",
      "Running twitter query: \"(#covid) lang:en until:2022-02-17 since:2022-02-16\"\n"
     ]
    },
    {
     "name": "stderr",
     "output_type": "stream",
     "text": [
      "\r",
      " 61%|██████████████████████████████████████████████                             | 737/1201 [2:45:49<1:54:27, 14.80s/it]"
     ]
    },
    {
     "name": "stdout",
     "output_type": "stream",
     "text": [
      "Collected 256 tweets at 2022-02-16.\n",
      "Running twitter query: \"(#covid) lang:en until:2022-02-18 since:2022-02-17\"\n"
     ]
    },
    {
     "name": "stderr",
     "output_type": "stream",
     "text": [
      "Unavailable user in card on tweet 1494441373629566980\n",
      "User 1062915983294300160 not found in user refs in card on tweet 1494441373629566980\n",
      " 61%|██████████████████████████████████████████████                             | 738/1201 [2:46:04<1:54:32, 14.84s/it]"
     ]
    },
    {
     "name": "stdout",
     "output_type": "stream",
     "text": [
      "Collected 256 tweets at 2022-02-17.\n",
      "Running twitter query: \"(#covid) lang:en until:2022-02-19 since:2022-02-18\"\n"
     ]
    },
    {
     "name": "stderr",
     "output_type": "stream",
     "text": [
      "\r",
      " 62%|██████████████████████████████████████████████▏                            | 739/1201 [2:46:18<1:52:07, 14.56s/it]"
     ]
    },
    {
     "name": "stdout",
     "output_type": "stream",
     "text": [
      "Collected 256 tweets at 2022-02-18.\n",
      "Running twitter query: \"(#covid) lang:en until:2022-02-20 since:2022-02-19\"\n"
     ]
    },
    {
     "name": "stderr",
     "output_type": "stream",
     "text": [
      "Unavailable user in card on tweet 1495166962837585923\n",
      "User 14204245 not found in user refs in card on tweet 1495166962837585923\n",
      " 62%|██████████████████████████████████████████████▏                            | 740/1201 [2:46:34<1:56:06, 15.11s/it]"
     ]
    },
    {
     "name": "stdout",
     "output_type": "stream",
     "text": [
      "Collected 256 tweets at 2022-02-19.\n",
      "Running twitter query: \"(#covid) lang:en until:2022-02-21 since:2022-02-20\"\n"
     ]
    },
    {
     "name": "stderr",
     "output_type": "stream",
     "text": [
      "Stopping after 20 empty pages\n",
      " 62%|██████████████████████████████████████████████▎                            | 741/1201 [2:46:41<1:36:40, 12.61s/it]"
     ]
    },
    {
     "name": "stdout",
     "output_type": "stream",
     "text": [
      "Collected 2 tweets at 2022-02-20.\n",
      "Running twitter query: \"(#covid) lang:en until:2022-02-22 since:2022-02-21\"\n"
     ]
    },
    {
     "name": "stderr",
     "output_type": "stream",
     "text": [
      "\r",
      " 62%|██████████████████████████████████████████████▎                            | 742/1201 [2:46:56<1:42:17, 13.37s/it]"
     ]
    },
    {
     "name": "stdout",
     "output_type": "stream",
     "text": [
      "Collected 256 tweets at 2022-02-21.\n",
      "Running twitter query: \"(#covid) lang:en until:2022-02-23 since:2022-02-22\"\n"
     ]
    },
    {
     "name": "stderr",
     "output_type": "stream",
     "text": [
      "\r",
      " 62%|██████████████████████████████████████████████▍                            | 743/1201 [2:47:11<1:45:19, 13.80s/it]"
     ]
    },
    {
     "name": "stdout",
     "output_type": "stream",
     "text": [
      "Collected 256 tweets at 2022-02-22.\n",
      "Running twitter query: \"(#covid) lang:en until:2022-02-24 since:2022-02-23\"\n"
     ]
    },
    {
     "name": "stderr",
     "output_type": "stream",
     "text": [
      "\r",
      " 62%|██████████████████████████████████████████████▍                            | 744/1201 [2:47:27<1:49:20, 14.36s/it]"
     ]
    },
    {
     "name": "stdout",
     "output_type": "stream",
     "text": [
      "Collected 256 tweets at 2022-02-23.\n",
      "Running twitter query: \"(#covid) lang:en until:2022-02-25 since:2022-02-24\"\n"
     ]
    },
    {
     "name": "stderr",
     "output_type": "stream",
     "text": [
      "Unavailable user in card on tweet 1496961794165944324\n",
      "Unavailable user in card on tweet 1496961794165944324\n",
      "User 596298336 not found in user refs in card on tweet 1496961794165944324\n",
      "User 596298336 not found in user refs in card on tweet 1496961794165944324\n",
      " 62%|██████████████████████████████████████████████▌                            | 745/1201 [2:47:42<1:51:44, 14.70s/it]"
     ]
    },
    {
     "name": "stdout",
     "output_type": "stream",
     "text": [
      "Collected 256 tweets at 2022-02-24.\n",
      "Running twitter query: \"(#covid) lang:en until:2022-02-26 since:2022-02-25\"\n"
     ]
    },
    {
     "name": "stderr",
     "output_type": "stream",
     "text": [
      "\r",
      " 62%|██████████████████████████████████████████████▌                            | 746/1201 [2:47:59<1:56:46, 15.40s/it]"
     ]
    },
    {
     "name": "stdout",
     "output_type": "stream",
     "text": [
      "Collected 256 tweets at 2022-02-25.\n",
      "Running twitter query: \"(#covid) lang:en until:2022-02-27 since:2022-02-26\"\n"
     ]
    },
    {
     "name": "stderr",
     "output_type": "stream",
     "text": [
      "\r",
      " 62%|██████████████████████████████████████████████▋                            | 747/1201 [2:48:17<2:02:14, 16.15s/it]"
     ]
    },
    {
     "name": "stdout",
     "output_type": "stream",
     "text": [
      "Collected 256 tweets at 2022-02-26.\n",
      "Running twitter query: \"(#covid) lang:en until:2022-02-28 since:2022-02-27\"\n"
     ]
    },
    {
     "name": "stderr",
     "output_type": "stream",
     "text": [
      "\r",
      " 62%|██████████████████████████████████████████████▋                            | 748/1201 [2:48:36<2:07:24, 16.87s/it]"
     ]
    },
    {
     "name": "stdout",
     "output_type": "stream",
     "text": [
      "Collected 256 tweets at 2022-02-27.\n",
      "Running twitter query: \"(#covid) lang:en until:2022-03-01 since:2022-02-28\"\n"
     ]
    },
    {
     "name": "stderr",
     "output_type": "stream",
     "text": [
      "\r",
      " 62%|██████████████████████████████████████████████▊                            | 749/1201 [2:48:50<2:01:58, 16.19s/it]"
     ]
    },
    {
     "name": "stdout",
     "output_type": "stream",
     "text": [
      "Collected 256 tweets at 2022-02-28.\n",
      "Saving 6915 tweets at 2022-02.\n",
      "Running twitter query: \"(#covid) lang:en until:2022-03-02 since:2022-03-01\"\n"
     ]
    },
    {
     "name": "stderr",
     "output_type": "stream",
     "text": [
      "\r",
      " 62%|██████████████████████████████████████████████▊                            | 750/1201 [2:49:04<1:55:25, 15.36s/it]"
     ]
    },
    {
     "name": "stdout",
     "output_type": "stream",
     "text": [
      "Collected 256 tweets at 2022-03-01.\n",
      "Running twitter query: \"(#covid) lang:en until:2022-03-03 since:2022-03-02\"\n"
     ]
    },
    {
     "name": "stderr",
     "output_type": "stream",
     "text": [
      "Empty user ref object in card on tweet 1499142570999529476\n",
      "User 1381232690343649283 not found in user refs in card on tweet 1499142570999529476\n",
      " 63%|██████████████████████████████████████████████▉                            | 751/1201 [2:49:17<1:50:59, 14.80s/it]"
     ]
    },
    {
     "name": "stdout",
     "output_type": "stream",
     "text": [
      "Collected 256 tweets at 2022-03-02.\n",
      "Running twitter query: \"(#covid) lang:en until:2022-03-04 since:2022-03-03\"\n"
     ]
    },
    {
     "name": "stderr",
     "output_type": "stream",
     "text": [
      "\r",
      " 63%|██████████████████████████████████████████████▉                            | 752/1201 [2:49:29<1:44:26, 13.96s/it]"
     ]
    },
    {
     "name": "stdout",
     "output_type": "stream",
     "text": [
      "Collected 256 tweets at 2022-03-03.\n",
      "Running twitter query: \"(#covid) lang:en until:2022-03-05 since:2022-03-04\"\n"
     ]
    },
    {
     "name": "stderr",
     "output_type": "stream",
     "text": [
      "\r",
      " 63%|███████████████████████████████████████████████                            | 753/1201 [2:49:42<1:42:04, 13.67s/it]"
     ]
    },
    {
     "name": "stdout",
     "output_type": "stream",
     "text": [
      "Collected 256 tweets at 2022-03-04.\n",
      "Running twitter query: \"(#covid) lang:en until:2022-03-06 since:2022-03-05\"\n"
     ]
    },
    {
     "name": "stderr",
     "output_type": "stream",
     "text": [
      "Unavailable user in card on tweet 1500227204541648898\n",
      "User 14204245 not found in user refs in card on tweet 1500227204541648898\n",
      " 63%|███████████████████████████████████████████████                            | 754/1201 [2:50:01<1:53:46, 15.27s/it]"
     ]
    },
    {
     "name": "stdout",
     "output_type": "stream",
     "text": [
      "Collected 256 tweets at 2022-03-05.\n",
      "Running twitter query: \"(#covid) lang:en until:2022-03-07 since:2022-03-06\"\n"
     ]
    },
    {
     "name": "stderr",
     "output_type": "stream",
     "text": [
      "\r",
      " 63%|███████████████████████████████████████████████▏                           | 755/1201 [2:50:14<1:47:55, 14.52s/it]"
     ]
    },
    {
     "name": "stdout",
     "output_type": "stream",
     "text": [
      "Collected 256 tweets at 2022-03-06.\n",
      "Running twitter query: \"(#covid) lang:en until:2022-03-08 since:2022-03-07\"\n"
     ]
    },
    {
     "name": "stderr",
     "output_type": "stream",
     "text": [
      "Empty user ref object in card on tweet 1500954586235944961\n",
      "User 1381232690343649283 not found in user refs in card on tweet 1500954586235944961\n",
      " 63%|███████████████████████████████████████████████▏                           | 756/1201 [2:50:31<1:53:16, 15.27s/it]"
     ]
    },
    {
     "name": "stdout",
     "output_type": "stream",
     "text": [
      "Collected 256 tweets at 2022-03-07.\n",
      "Running twitter query: \"(#covid) lang:en until:2022-03-09 since:2022-03-08\"\n"
     ]
    },
    {
     "name": "stderr",
     "output_type": "stream",
     "text": [
      "\r",
      " 63%|███████████████████████████████████████████████▎                           | 757/1201 [2:50:45<1:50:58, 15.00s/it]"
     ]
    },
    {
     "name": "stdout",
     "output_type": "stream",
     "text": [
      "Collected 256 tweets at 2022-03-08.\n",
      "Running twitter query: \"(#covid) lang:en until:2022-03-10 since:2022-03-09\"\n"
     ]
    },
    {
     "name": "stderr",
     "output_type": "stream",
     "text": [
      "\r",
      " 63%|███████████████████████████████████████████████▎                           | 758/1201 [2:50:59<1:46:32, 14.43s/it]"
     ]
    },
    {
     "name": "stdout",
     "output_type": "stream",
     "text": [
      "Collected 256 tweets at 2022-03-09.\n",
      "Running twitter query: \"(#covid) lang:en until:2022-03-11 since:2022-03-10\"\n"
     ]
    },
    {
     "name": "stderr",
     "output_type": "stream",
     "text": [
      "\r",
      " 63%|███████████████████████████████████████████████▍                           | 759/1201 [2:51:13<1:46:13, 14.42s/it]"
     ]
    },
    {
     "name": "stdout",
     "output_type": "stream",
     "text": [
      "Collected 256 tweets at 2022-03-10.\n",
      "Running twitter query: \"(#covid) lang:en until:2022-03-12 since:2022-03-11\"\n"
     ]
    },
    {
     "name": "stderr",
     "output_type": "stream",
     "text": [
      "\r",
      " 63%|███████████████████████████████████████████████▍                           | 760/1201 [2:51:28<1:46:56, 14.55s/it]"
     ]
    },
    {
     "name": "stdout",
     "output_type": "stream",
     "text": [
      "Collected 256 tweets at 2022-03-11.\n",
      "Running twitter query: \"(#covid) lang:en until:2022-03-13 since:2022-03-12\"\n"
     ]
    },
    {
     "name": "stderr",
     "output_type": "stream",
     "text": [
      "\r",
      " 63%|███████████████████████████████████████████████▌                           | 761/1201 [2:51:43<1:47:11, 14.62s/it]"
     ]
    },
    {
     "name": "stdout",
     "output_type": "stream",
     "text": [
      "Collected 256 tweets at 2022-03-12.\n",
      "Running twitter query: \"(#covid) lang:en until:2022-03-14 since:2022-03-13\"\n"
     ]
    },
    {
     "name": "stderr",
     "output_type": "stream",
     "text": [
      "Unavailable user in card on tweet 1503124332327096320\n",
      "User 3562471 not found in user refs in card on tweet 1503124332327096320\n",
      " 63%|███████████████████████████████████████████████▌                           | 762/1201 [2:51:58<1:47:50, 14.74s/it]"
     ]
    },
    {
     "name": "stdout",
     "output_type": "stream",
     "text": [
      "Collected 256 tweets at 2022-03-13.\n",
      "Running twitter query: \"(#covid) lang:en until:2022-03-15 since:2022-03-14\"\n"
     ]
    },
    {
     "name": "stderr",
     "output_type": "stream",
     "text": [
      "Unavailable user in card on tweet 1503497804123185154\n",
      "User 1479819608 not found in user refs in card on tweet 1503497804123185154\n",
      "Unavailable user in card on tweet 1503487556222132227\n",
      "User 1434052940 not found in user refs in card on tweet 1503487556222132227\n",
      " 64%|███████████████████████████████████████████████▋                           | 763/1201 [2:52:14<1:51:32, 15.28s/it]"
     ]
    },
    {
     "name": "stdout",
     "output_type": "stream",
     "text": [
      "Collected 256 tweets at 2022-03-14.\n",
      "Running twitter query: \"(#covid) lang:en until:2022-03-16 since:2022-03-15\"\n"
     ]
    },
    {
     "name": "stderr",
     "output_type": "stream",
     "text": [
      "\r",
      " 64%|███████████████████████████████████████████████▋                           | 764/1201 [2:52:31<1:53:43, 15.61s/it]"
     ]
    },
    {
     "name": "stdout",
     "output_type": "stream",
     "text": [
      "Collected 256 tweets at 2022-03-15.\n",
      "Running twitter query: \"(#covid) lang:en until:2022-03-17 since:2022-03-16\"\n"
     ]
    },
    {
     "name": "stderr",
     "output_type": "stream",
     "text": [
      "Unavailable user in card on tweet 1504219622098223107\n",
      "User 14204245 not found in user refs in card on tweet 1504219622098223107\n",
      " 64%|███████████████████████████████████████████████▊                           | 765/1201 [2:52:46<1:52:42, 15.51s/it]"
     ]
    },
    {
     "name": "stdout",
     "output_type": "stream",
     "text": [
      "Collected 256 tweets at 2022-03-16.\n",
      "Running twitter query: \"(#covid) lang:en until:2022-03-18 since:2022-03-17\"\n"
     ]
    },
    {
     "name": "stderr",
     "output_type": "stream",
     "text": [
      "\r",
      " 64%|███████████████████████████████████████████████▊                           | 766/1201 [2:53:00<1:50:16, 15.21s/it]"
     ]
    },
    {
     "name": "stdout",
     "output_type": "stream",
     "text": [
      "Collected 256 tweets at 2022-03-17.\n",
      "Running twitter query: \"(#covid) lang:en until:2022-03-19 since:2022-03-18\"\n"
     ]
    },
    {
     "name": "stderr",
     "output_type": "stream",
     "text": [
      "Unavailable user in card on tweet 1504951027358871555\n",
      "Unavailable user in card on tweet 1504951027358871555\n",
      "User 1062915983294300160 not found in user refs in card on tweet 1504951027358871555\n",
      "User 1062915983294300160 not found in user refs in card on tweet 1504951027358871555\n",
      " 64%|███████████████████████████████████████████████▉                           | 767/1201 [2:53:16<1:51:41, 15.44s/it]"
     ]
    },
    {
     "name": "stdout",
     "output_type": "stream",
     "text": [
      "Collected 256 tweets at 2022-03-18.\n",
      "Running twitter query: \"(#covid) lang:en until:2022-03-20 since:2022-03-19\"\n"
     ]
    },
    {
     "name": "stderr",
     "output_type": "stream",
     "text": [
      "\r",
      " 64%|███████████████████████████████████████████████▉                           | 768/1201 [2:53:33<1:54:37, 15.88s/it]"
     ]
    },
    {
     "name": "stdout",
     "output_type": "stream",
     "text": [
      "Collected 256 tweets at 2022-03-19.\n",
      "Running twitter query: \"(#covid) lang:en until:2022-03-21 since:2022-03-20\"\n"
     ]
    },
    {
     "name": "stderr",
     "output_type": "stream",
     "text": [
      "\r",
      " 64%|████████████████████████████████████████████████                           | 769/1201 [2:53:52<2:01:18, 16.85s/it]"
     ]
    },
    {
     "name": "stdout",
     "output_type": "stream",
     "text": [
      "Collected 256 tweets at 2022-03-20.\n",
      "Running twitter query: \"(#covid) lang:en until:2022-03-22 since:2022-03-21\"\n"
     ]
    },
    {
     "name": "stderr",
     "output_type": "stream",
     "text": [
      "\r",
      " 64%|████████████████████████████████████████████████                           | 770/1201 [2:54:08<1:59:15, 16.60s/it]"
     ]
    },
    {
     "name": "stdout",
     "output_type": "stream",
     "text": [
      "Collected 256 tweets at 2022-03-21.\n",
      "Running twitter query: \"(#covid) lang:en until:2022-03-23 since:2022-03-22\"\n"
     ]
    },
    {
     "name": "stderr",
     "output_type": "stream",
     "text": [
      "\r",
      " 64%|████████████████████████████████████████████████▏                          | 771/1201 [2:54:22<1:51:52, 15.61s/it]"
     ]
    },
    {
     "name": "stdout",
     "output_type": "stream",
     "text": [
      "Collected 256 tweets at 2022-03-22.\n",
      "Running twitter query: \"(#covid) lang:en until:2022-03-24 since:2022-03-23\"\n"
     ]
    },
    {
     "name": "stderr",
     "output_type": "stream",
     "text": [
      "\r",
      " 64%|████████████████████████████████████████████████▏                          | 772/1201 [2:54:37<1:52:00, 15.67s/it]"
     ]
    },
    {
     "name": "stdout",
     "output_type": "stream",
     "text": [
      "Collected 256 tweets at 2022-03-23.\n",
      "Running twitter query: \"(#covid) lang:en until:2022-03-25 since:2022-03-24\"\n"
     ]
    },
    {
     "name": "stderr",
     "output_type": "stream",
     "text": [
      "\r",
      " 64%|████████████████████████████████████████████████▎                          | 773/1201 [2:54:54<1:54:10, 16.01s/it]"
     ]
    },
    {
     "name": "stdout",
     "output_type": "stream",
     "text": [
      "Collected 256 tweets at 2022-03-24.\n",
      "Running twitter query: \"(#covid) lang:en until:2022-03-26 since:2022-03-25\"\n"
     ]
    },
    {
     "name": "stderr",
     "output_type": "stream",
     "text": [
      "\r",
      " 64%|████████████████████████████████████████████████▎                          | 774/1201 [2:55:10<1:53:27, 15.94s/it]"
     ]
    },
    {
     "name": "stdout",
     "output_type": "stream",
     "text": [
      "Collected 256 tweets at 2022-03-25.\n",
      "Running twitter query: \"(#covid) lang:en until:2022-03-27 since:2022-03-26\"\n"
     ]
    },
    {
     "name": "stderr",
     "output_type": "stream",
     "text": [
      "Unavailable user in card on tweet 1507861976952705027\n",
      "User 1343341123251519488 not found in user refs in card on tweet 1507861976952705027\n",
      " 65%|████████████████████████████████████████████████▍                          | 775/1201 [2:55:27<1:55:09, 16.22s/it]"
     ]
    },
    {
     "name": "stdout",
     "output_type": "stream",
     "text": [
      "Collected 256 tweets at 2022-03-26.\n",
      "Running twitter query: \"(#covid) lang:en until:2022-03-28 since:2022-03-27\"\n"
     ]
    },
    {
     "name": "stderr",
     "output_type": "stream",
     "text": [
      "\r",
      " 65%|████████████████████████████████████████████████▍                          | 776/1201 [2:55:45<1:57:55, 16.65s/it]"
     ]
    },
    {
     "name": "stdout",
     "output_type": "stream",
     "text": [
      "Collected 256 tweets at 2022-03-27.\n",
      "Running twitter query: \"(#covid) lang:en until:2022-03-29 since:2022-03-28\"\n"
     ]
    },
    {
     "name": "stderr",
     "output_type": "stream",
     "text": [
      "Unavailable user in card on tweet 1508579855138533382\n",
      "User 1434052940 not found in user refs in card on tweet 1508579855138533382\n",
      " 65%|████████████████████████████████████████████████▌                          | 777/1201 [2:56:03<2:00:30, 17.05s/it]"
     ]
    },
    {
     "name": "stdout",
     "output_type": "stream",
     "text": [
      "Collected 256 tweets at 2022-03-28.\n",
      "Running twitter query: \"(#covid) lang:en until:2022-03-30 since:2022-03-29\"\n"
     ]
    },
    {
     "name": "stderr",
     "output_type": "stream",
     "text": [
      "\r",
      " 65%|████████████████████████████████████████████████▌                          | 778/1201 [2:56:17<1:54:57, 16.31s/it]"
     ]
    },
    {
     "name": "stdout",
     "output_type": "stream",
     "text": [
      "Collected 256 tweets at 2022-03-29.\n",
      "Running twitter query: \"(#covid) lang:en until:2022-03-31 since:2022-03-30\"\n"
     ]
    },
    {
     "name": "stderr",
     "output_type": "stream",
     "text": [
      "\r",
      " 65%|████████████████████████████████████████████████▋                          | 779/1201 [2:56:33<1:53:01, 16.07s/it]"
     ]
    },
    {
     "name": "stdout",
     "output_type": "stream",
     "text": [
      "Collected 256 tweets at 2022-03-30.\n",
      "Running twitter query: \"(#covid) lang:en until:2022-04-01 since:2022-03-31\"\n"
     ]
    },
    {
     "name": "stderr",
     "output_type": "stream",
     "text": [
      "Unavailable user in card on tweet 1509652392425447426\n",
      "User 14204245 not found in user refs in card on tweet 1509652392425447426\n",
      " 65%|████████████████████████████████████████████████▋                          | 780/1201 [2:56:50<1:55:08, 16.41s/it]"
     ]
    },
    {
     "name": "stdout",
     "output_type": "stream",
     "text": [
      "Collected 256 tweets at 2022-03-31.\n",
      "Saving 7936 tweets at 2022-03.\n",
      "Running twitter query: \"(#covid) lang:en until:2022-04-02 since:2022-04-01\"\n"
     ]
    },
    {
     "name": "stderr",
     "output_type": "stream",
     "text": [
      "\r",
      " 65%|████████████████████████████████████████████████▊                          | 781/1201 [2:57:02<1:45:40, 15.10s/it]"
     ]
    },
    {
     "name": "stdout",
     "output_type": "stream",
     "text": [
      "Collected 256 tweets at 2022-04-01.\n",
      "Running twitter query: \"(#covid) lang:en until:2022-04-03 since:2022-04-02\"\n"
     ]
    },
    {
     "name": "stderr",
     "output_type": "stream",
     "text": [
      "\r",
      " 65%|████████████████████████████████████████████████▊                          | 782/1201 [2:57:17<1:45:12, 15.06s/it]"
     ]
    },
    {
     "name": "stdout",
     "output_type": "stream",
     "text": [
      "Collected 256 tweets at 2022-04-02.\n",
      "Running twitter query: \"(#covid) lang:en until:2022-04-04 since:2022-04-03\"\n"
     ]
    },
    {
     "name": "stderr",
     "output_type": "stream",
     "text": [
      "Empty user ref object in card on tweet 1510750298431664133\n",
      "Empty user ref object in card on tweet 1510750298431664133\n",
      "User 4503599629184530 not found in user refs in card on tweet 1510750298431664133\n",
      "User 4503599629184530 not found in user refs in card on tweet 1510750298431664133\n",
      " 65%|████████████████████████████████████████████████▉                          | 783/1201 [2:57:30<1:41:16, 14.54s/it]"
     ]
    },
    {
     "name": "stdout",
     "output_type": "stream",
     "text": [
      "Collected 256 tweets at 2022-04-03.\n",
      "Running twitter query: \"(#covid) lang:en until:2022-04-05 since:2022-04-04\"\n"
     ]
    },
    {
     "name": "stderr",
     "output_type": "stream",
     "text": [
      "Unavailable user in card on tweet 1511108853655654402\n",
      "User 136899830 not found in user refs in card on tweet 1511108853655654402\n",
      " 65%|████████████████████████████████████████████████▉                          | 784/1201 [2:57:42<1:35:38, 13.76s/it]"
     ]
    },
    {
     "name": "stdout",
     "output_type": "stream",
     "text": [
      "Collected 256 tweets at 2022-04-04.\n",
      "Running twitter query: \"(#covid) lang:en until:2022-04-06 since:2022-04-05\"\n"
     ]
    },
    {
     "name": "stderr",
     "output_type": "stream",
     "text": [
      "\r",
      " 65%|█████████████████████████████████████████████████                          | 785/1201 [2:57:54<1:31:12, 13.16s/it]"
     ]
    },
    {
     "name": "stdout",
     "output_type": "stream",
     "text": [
      "Collected 256 tweets at 2022-04-05.\n",
      "Running twitter query: \"(#covid) lang:en until:2022-04-07 since:2022-04-06\"\n"
     ]
    },
    {
     "name": "stderr",
     "output_type": "stream",
     "text": [
      "Unavailable user in card on tweet 1511844669906472969\n",
      "User 14204245 not found in user refs in card on tweet 1511844669906472969\n",
      " 65%|█████████████████████████████████████████████████                          | 786/1201 [2:58:06<1:29:24, 12.93s/it]"
     ]
    },
    {
     "name": "stdout",
     "output_type": "stream",
     "text": [
      "Collected 256 tweets at 2022-04-06.\n",
      "Running twitter query: \"(#covid) lang:en until:2022-04-08 since:2022-04-07\"\n"
     ]
    },
    {
     "name": "stderr",
     "output_type": "stream",
     "text": [
      "Unavailable user in card on tweet 1512204313363468295\n",
      "User 1434052940 not found in user refs in card on tweet 1512204313363468295\n",
      " 66%|█████████████████████████████████████████████████▏                         | 787/1201 [2:58:19<1:28:31, 12.83s/it]"
     ]
    },
    {
     "name": "stdout",
     "output_type": "stream",
     "text": [
      "Collected 256 tweets at 2022-04-07.\n",
      "Running twitter query: \"(#covid) lang:en until:2022-04-09 since:2022-04-08\"\n"
     ]
    },
    {
     "name": "stderr",
     "output_type": "stream",
     "text": [
      "\r",
      " 66%|█████████████████████████████████████████████████▏                         | 788/1201 [2:58:31<1:26:43, 12.60s/it]"
     ]
    },
    {
     "name": "stdout",
     "output_type": "stream",
     "text": [
      "Collected 256 tweets at 2022-04-08.\n",
      "Running twitter query: \"(#covid) lang:en until:2022-04-10 since:2022-04-09\"\n"
     ]
    },
    {
     "name": "stderr",
     "output_type": "stream",
     "text": [
      "\r",
      " 66%|█████████████████████████████████████████████████▎                         | 789/1201 [2:58:45<1:29:35, 13.05s/it]"
     ]
    },
    {
     "name": "stdout",
     "output_type": "stream",
     "text": [
      "Collected 256 tweets at 2022-04-09.\n",
      "Running twitter query: \"(#covid) lang:en until:2022-04-11 since:2022-04-10\"\n"
     ]
    },
    {
     "name": "stderr",
     "output_type": "stream",
     "text": [
      "\r",
      " 66%|█████████████████████████████████████████████████▎                         | 790/1201 [2:58:59<1:31:36, 13.37s/it]"
     ]
    },
    {
     "name": "stdout",
     "output_type": "stream",
     "text": [
      "Collected 256 tweets at 2022-04-10.\n",
      "Running twitter query: \"(#covid) lang:en until:2022-04-12 since:2022-04-11\"\n"
     ]
    },
    {
     "name": "stderr",
     "output_type": "stream",
     "text": [
      "Unavailable user in card on tweet 1513653213672755204\n",
      "User 1434052940 not found in user refs in card on tweet 1513653213672755204\n",
      " 66%|█████████████████████████████████████████████████▍                         | 791/1201 [2:59:13<1:31:40, 13.42s/it]"
     ]
    },
    {
     "name": "stdout",
     "output_type": "stream",
     "text": [
      "Collected 256 tweets at 2022-04-11.\n",
      "Running twitter query: \"(#covid) lang:en until:2022-04-13 since:2022-04-12\"\n"
     ]
    },
    {
     "name": "stderr",
     "output_type": "stream",
     "text": [
      "\r",
      " 66%|█████████████████████████████████████████████████▍                         | 792/1201 [2:59:28<1:35:31, 14.01s/it]"
     ]
    },
    {
     "name": "stdout",
     "output_type": "stream",
     "text": [
      "Collected 256 tweets at 2022-04-12.\n",
      "Running twitter query: \"(#covid) lang:en until:2022-04-14 since:2022-04-13\"\n"
     ]
    },
    {
     "name": "stderr",
     "output_type": "stream",
     "text": [
      "\r",
      " 66%|█████████████████████████████████████████████████▌                         | 793/1201 [2:59:41<1:32:39, 13.63s/it]"
     ]
    },
    {
     "name": "stdout",
     "output_type": "stream",
     "text": [
      "Collected 256 tweets at 2022-04-13.\n",
      "Running twitter query: \"(#covid) lang:en until:2022-04-15 since:2022-04-14\"\n"
     ]
    },
    {
     "name": "stderr",
     "output_type": "stream",
     "text": [
      "Unavailable user in card on tweet 1514738972538384390\n",
      "User 14204245 not found in user refs in card on tweet 1514738972538384390\n",
      "Unavailable user in card on tweet 1514735843839299591\n",
      "User 14204245 not found in user refs in card on tweet 1514735843839299591\n",
      "Unavailable user in card on tweet 1514734537586397185\n",
      "User 14204245 not found in user refs in card on tweet 1514734537586397185\n",
      " 66%|█████████████████████████████████████████████████▌                         | 794/1201 [2:59:56<1:35:22, 14.06s/it]"
     ]
    },
    {
     "name": "stdout",
     "output_type": "stream",
     "text": [
      "Collected 256 tweets at 2022-04-14.\n",
      "Running twitter query: \"(#covid) lang:en until:2022-04-16 since:2022-04-15\"\n"
     ]
    },
    {
     "name": "stderr",
     "output_type": "stream",
     "text": [
      "\r",
      " 66%|█████████████████████████████████████████████████▋                         | 795/1201 [3:00:12<1:40:20, 14.83s/it]"
     ]
    },
    {
     "name": "stdout",
     "output_type": "stream",
     "text": [
      "Collected 256 tweets at 2022-04-15.\n",
      "Running twitter query: \"(#covid) lang:en until:2022-04-17 since:2022-04-16\"\n"
     ]
    },
    {
     "name": "stderr",
     "output_type": "stream",
     "text": [
      "Unavailable user in card on tweet 1515414401838321665\n",
      "User 14204245 not found in user refs in card on tweet 1515414401838321665\n",
      " 66%|█████████████████████████████████████████████████▋                         | 796/1201 [3:00:29<1:43:34, 15.34s/it]"
     ]
    },
    {
     "name": "stdout",
     "output_type": "stream",
     "text": [
      "Collected 256 tweets at 2022-04-16.\n",
      "Running twitter query: \"(#covid) lang:en until:2022-04-18 since:2022-04-17\"\n"
     ]
    },
    {
     "name": "stderr",
     "output_type": "stream",
     "text": [
      "Unavailable user in card on tweet 1515824357767004161\n",
      "User 28550209 not found in user refs in card on tweet 1515824357767004161\n",
      " 66%|█████████████████████████████████████████████████▊                         | 797/1201 [3:00:44<1:42:18, 15.19s/it]"
     ]
    },
    {
     "name": "stdout",
     "output_type": "stream",
     "text": [
      "Collected 256 tweets at 2022-04-17.\n",
      "Running twitter query: \"(#covid) lang:en until:2022-04-19 since:2022-04-18\"\n"
     ]
    },
    {
     "name": "stderr",
     "output_type": "stream",
     "text": [
      "\r",
      " 66%|█████████████████████████████████████████████████▊                         | 798/1201 [3:00:56<1:36:32, 14.37s/it]"
     ]
    },
    {
     "name": "stdout",
     "output_type": "stream",
     "text": [
      "Collected 256 tweets at 2022-04-18.\n",
      "Running twitter query: \"(#covid) lang:en until:2022-04-20 since:2022-04-19\"\n"
     ]
    },
    {
     "name": "stderr",
     "output_type": "stream",
     "text": [
      "\r",
      " 67%|█████████████████████████████████████████████████▉                         | 799/1201 [3:01:12<1:38:19, 14.68s/it]"
     ]
    },
    {
     "name": "stdout",
     "output_type": "stream",
     "text": [
      "Collected 256 tweets at 2022-04-19.\n",
      "Running twitter query: \"(#covid) lang:en until:2022-04-21 since:2022-04-20\"\n"
     ]
    },
    {
     "name": "stderr",
     "output_type": "stream",
     "text": [
      "Unavailable user in card on tweet 1516883613157048322\n",
      "Unavailable user in card on tweet 1516883613157048322\n",
      "User 3727654401 not found in user refs in card on tweet 1516883613157048322\n",
      "User 3727654401 not found in user refs in card on tweet 1516883613157048322\n",
      "Unavailable user in card on tweet 1516883606182014985\n",
      "Unavailable user in card on tweet 1516883606182014985\n",
      "User 3727654401 not found in user refs in card on tweet 1516883606182014985\n",
      "User 3727654401 not found in user refs in card on tweet 1516883606182014985\n",
      " 67%|█████████████████████████████████████████████████▉                         | 800/1201 [3:01:26<1:38:04, 14.67s/it]"
     ]
    },
    {
     "name": "stdout",
     "output_type": "stream",
     "text": [
      "Collected 256 tweets at 2022-04-20.\n",
      "Running twitter query: \"(#covid) lang:en until:2022-04-22 since:2022-04-21\"\n"
     ]
    },
    {
     "name": "stderr",
     "output_type": "stream",
     "text": [
      "\r",
      " 67%|██████████████████████████████████████████████████                         | 801/1201 [3:01:45<1:45:12, 15.78s/it]"
     ]
    },
    {
     "name": "stdout",
     "output_type": "stream",
     "text": [
      "Collected 256 tweets at 2022-04-21.\n",
      "Running twitter query: \"(#covid) lang:en until:2022-04-23 since:2022-04-22\"\n"
     ]
    },
    {
     "name": "stderr",
     "output_type": "stream",
     "text": [
      "\r",
      " 67%|██████████████████████████████████████████████████                         | 802/1201 [3:02:02<1:47:00, 16.09s/it]"
     ]
    },
    {
     "name": "stdout",
     "output_type": "stream",
     "text": [
      "Collected 256 tweets at 2022-04-22.\n",
      "Running twitter query: \"(#covid) lang:en until:2022-04-24 since:2022-04-23\"\n"
     ]
    },
    {
     "name": "stderr",
     "output_type": "stream",
     "text": [
      "\r",
      " 67%|██████████████████████████████████████████████████▏                        | 803/1201 [3:02:16<1:43:35, 15.62s/it]"
     ]
    },
    {
     "name": "stdout",
     "output_type": "stream",
     "text": [
      "Collected 256 tweets at 2022-04-23.\n",
      "Running twitter query: \"(#covid) lang:en until:2022-04-25 since:2022-04-24\"\n"
     ]
    },
    {
     "name": "stderr",
     "output_type": "stream",
     "text": [
      "\r",
      " 67%|██████████████████████████████████████████████████▏                        | 804/1201 [3:02:34<1:47:58, 16.32s/it]"
     ]
    },
    {
     "name": "stdout",
     "output_type": "stream",
     "text": [
      "Collected 256 tweets at 2022-04-24.\n",
      "Running twitter query: \"(#covid) lang:en until:2022-04-26 since:2022-04-25\"\n"
     ]
    },
    {
     "name": "stderr",
     "output_type": "stream",
     "text": [
      "\r",
      " 67%|██████████████████████████████████████████████████▎                        | 805/1201 [3:02:48<1:43:25, 15.67s/it]"
     ]
    },
    {
     "name": "stdout",
     "output_type": "stream",
     "text": [
      "Collected 256 tweets at 2022-04-25.\n",
      "Running twitter query: \"(#covid) lang:en until:2022-04-27 since:2022-04-26\"\n"
     ]
    },
    {
     "name": "stderr",
     "output_type": "stream",
     "text": [
      "\r",
      " 67%|██████████████████████████████████████████████████▎                        | 806/1201 [3:03:04<1:44:22, 15.85s/it]"
     ]
    },
    {
     "name": "stdout",
     "output_type": "stream",
     "text": [
      "Collected 256 tweets at 2022-04-26.\n",
      "Running twitter query: \"(#covid) lang:en until:2022-04-28 since:2022-04-27\"\n"
     ]
    },
    {
     "name": "stderr",
     "output_type": "stream",
     "text": [
      "Unavailable user in card on tweet 1519451391822991360\n",
      "User 76227785 not found in user refs in card on tweet 1519451391822991360\n",
      " 67%|██████████████████████████████████████████████████▍                        | 807/1201 [3:03:21<1:44:43, 15.95s/it]"
     ]
    },
    {
     "name": "stdout",
     "output_type": "stream",
     "text": [
      "Collected 256 tweets at 2022-04-27.\n",
      "Running twitter query: \"(#covid) lang:en until:2022-04-29 since:2022-04-28\"\n"
     ]
    },
    {
     "name": "stderr",
     "output_type": "stream",
     "text": [
      "Unavailable user in card on tweet 1519797984027987969\n",
      "User 14204245 not found in user refs in card on tweet 1519797984027987969\n",
      " 67%|██████████████████████████████████████████████████▍                        | 808/1201 [3:03:35<1:42:00, 15.57s/it]"
     ]
    },
    {
     "name": "stdout",
     "output_type": "stream",
     "text": [
      "Collected 256 tweets at 2022-04-28.\n",
      "Running twitter query: \"(#covid) lang:en until:2022-04-30 since:2022-04-29\"\n"
     ]
    },
    {
     "name": "stderr",
     "output_type": "stream",
     "text": [
      "\r",
      " 67%|██████████████████████████████████████████████████▌                        | 809/1201 [3:03:51<1:42:59, 15.76s/it]"
     ]
    },
    {
     "name": "stdout",
     "output_type": "stream",
     "text": [
      "Collected 256 tweets at 2022-04-29.\n",
      "Running twitter query: \"(#covid) lang:en until:2022-05-01 since:2022-04-30\"\n"
     ]
    },
    {
     "name": "stderr",
     "output_type": "stream",
     "text": [
      "Unavailable user in card on tweet 1520527331361763329\n",
      "User 14204245 not found in user refs in card on tweet 1520527331361763329\n",
      " 67%|██████████████████████████████████████████████████▌                        | 810/1201 [3:04:06<1:39:46, 15.31s/it]"
     ]
    },
    {
     "name": "stdout",
     "output_type": "stream",
     "text": [
      "Collected 256 tweets at 2022-04-30.\n",
      "Saving 7680 tweets at 2022-04.\n",
      "Running twitter query: \"(#covid) lang:en until:2022-05-02 since:2022-05-01\"\n"
     ]
    },
    {
     "name": "stderr",
     "output_type": "stream",
     "text": [
      "Unavailable user in card on tweet 1520859944354037760\n",
      "Unavailable user in card on tweet 1520859944354037760\n",
      "User 136899830 not found in user refs in card on tweet 1520859944354037760\n",
      "User 136899830 not found in user refs in card on tweet 1520859944354037760\n",
      " 68%|██████████████████████████████████████████████████▋                        | 811/1201 [3:04:22<1:41:18, 15.59s/it]"
     ]
    },
    {
     "name": "stdout",
     "output_type": "stream",
     "text": [
      "Collected 256 tweets at 2022-05-01.\n",
      "Running twitter query: \"(#covid) lang:en until:2022-05-03 since:2022-05-02\"\n"
     ]
    },
    {
     "name": "stderr",
     "output_type": "stream",
     "text": [
      "\r",
      " 68%|██████████████████████████████████████████████████▋                        | 812/1201 [3:04:35<1:35:08, 14.68s/it]"
     ]
    },
    {
     "name": "stdout",
     "output_type": "stream",
     "text": [
      "Collected 256 tweets at 2022-05-02.\n",
      "Running twitter query: \"(#covid) lang:en until:2022-05-04 since:2022-05-03\"\n"
     ]
    },
    {
     "name": "stderr",
     "output_type": "stream",
     "text": [
      "\r",
      " 68%|██████████████████████████████████████████████████▊                        | 813/1201 [3:04:46<1:29:11, 13.79s/it]"
     ]
    },
    {
     "name": "stdout",
     "output_type": "stream",
     "text": [
      "Collected 256 tweets at 2022-05-03.\n",
      "Running twitter query: \"(#covid) lang:en until:2022-05-05 since:2022-05-04\"\n"
     ]
    },
    {
     "name": "stderr",
     "output_type": "stream",
     "text": [
      "\r",
      " 68%|██████████████████████████████████████████████████▊                        | 814/1201 [3:04:59<1:27:38, 13.59s/it]"
     ]
    },
    {
     "name": "stdout",
     "output_type": "stream",
     "text": [
      "Collected 256 tweets at 2022-05-04.\n",
      "Running twitter query: \"(#covid) lang:en until:2022-05-06 since:2022-05-05\"\n"
     ]
    },
    {
     "name": "stderr",
     "output_type": "stream",
     "text": [
      "\r",
      " 68%|██████████████████████████████████████████████████▉                        | 815/1201 [3:05:12<1:26:20, 13.42s/it]"
     ]
    },
    {
     "name": "stdout",
     "output_type": "stream",
     "text": [
      "Collected 256 tweets at 2022-05-05.\n",
      "Running twitter query: \"(#covid) lang:en until:2022-05-07 since:2022-05-06\"\n"
     ]
    },
    {
     "name": "stderr",
     "output_type": "stream",
     "text": [
      "\r",
      " 68%|██████████████████████████████████████████████████▉                        | 816/1201 [3:05:25<1:24:20, 13.14s/it]"
     ]
    },
    {
     "name": "stdout",
     "output_type": "stream",
     "text": [
      "Collected 256 tweets at 2022-05-06.\n",
      "Running twitter query: \"(#covid) lang:en until:2022-05-08 since:2022-05-07\"\n"
     ]
    },
    {
     "name": "stderr",
     "output_type": "stream",
     "text": [
      "\r",
      " 68%|███████████████████████████████████████████████████                        | 817/1201 [3:05:37<1:22:00, 12.81s/it]"
     ]
    },
    {
     "name": "stdout",
     "output_type": "stream",
     "text": [
      "Collected 256 tweets at 2022-05-07.\n",
      "Running twitter query: \"(#covid) lang:en until:2022-05-09 since:2022-05-08\"\n"
     ]
    },
    {
     "name": "stderr",
     "output_type": "stream",
     "text": [
      "\r",
      " 68%|███████████████████████████████████████████████████                        | 818/1201 [3:05:49<1:20:10, 12.56s/it]"
     ]
    },
    {
     "name": "stdout",
     "output_type": "stream",
     "text": [
      "Collected 256 tweets at 2022-05-08.\n",
      "Running twitter query: \"(#covid) lang:en until:2022-05-10 since:2022-05-09\"\n"
     ]
    },
    {
     "name": "stderr",
     "output_type": "stream",
     "text": [
      "\r",
      " 68%|███████████████████████████████████████████████████▏                       | 819/1201 [3:06:02<1:21:23, 12.78s/it]"
     ]
    },
    {
     "name": "stdout",
     "output_type": "stream",
     "text": [
      "Collected 256 tweets at 2022-05-09.\n",
      "Running twitter query: \"(#covid) lang:en until:2022-05-11 since:2022-05-10\"\n"
     ]
    },
    {
     "name": "stderr",
     "output_type": "stream",
     "text": [
      "\r",
      " 68%|███████████████████████████████████████████████████▏                       | 820/1201 [3:06:16<1:22:19, 12.96s/it]"
     ]
    },
    {
     "name": "stdout",
     "output_type": "stream",
     "text": [
      "Collected 256 tweets at 2022-05-10.\n",
      "Running twitter query: \"(#covid) lang:en until:2022-05-12 since:2022-05-11\"\n"
     ]
    },
    {
     "name": "stderr",
     "output_type": "stream",
     "text": [
      "\r",
      " 68%|███████████████████████████████████████████████████▎                       | 821/1201 [3:06:30<1:25:40, 13.53s/it]"
     ]
    },
    {
     "name": "stdout",
     "output_type": "stream",
     "text": [
      "Collected 256 tweets at 2022-05-11.\n",
      "Running twitter query: \"(#covid) lang:en until:2022-05-13 since:2022-05-12\"\n"
     ]
    },
    {
     "name": "stderr",
     "output_type": "stream",
     "text": [
      "\r",
      " 68%|███████████████████████████████████████████████████▎                       | 822/1201 [3:06:43<1:23:24, 13.21s/it]"
     ]
    },
    {
     "name": "stdout",
     "output_type": "stream",
     "text": [
      "Collected 256 tweets at 2022-05-12.\n",
      "Running twitter query: \"(#covid) lang:en until:2022-05-14 since:2022-05-13\"\n"
     ]
    },
    {
     "name": "stderr",
     "output_type": "stream",
     "text": [
      "Empty user ref object in card on tweet 1525219197051097088\n",
      "User 899733078641225728 not found in user refs in card on tweet 1525219197051097088\n",
      " 69%|███████████████████████████████████████████████████▍                       | 823/1201 [3:06:57<1:24:57, 13.49s/it]"
     ]
    },
    {
     "name": "stdout",
     "output_type": "stream",
     "text": [
      "Collected 256 tweets at 2022-05-13.\n",
      "Running twitter query: \"(#covid) lang:en until:2022-05-15 since:2022-05-14\"\n"
     ]
    },
    {
     "name": "stderr",
     "output_type": "stream",
     "text": [
      "\r",
      " 69%|███████████████████████████████████████████████████▍                       | 824/1201 [3:07:10<1:24:06, 13.39s/it]"
     ]
    },
    {
     "name": "stdout",
     "output_type": "stream",
     "text": [
      "Collected 256 tweets at 2022-05-14.\n",
      "Running twitter query: \"(#covid) lang:en until:2022-05-16 since:2022-05-15\"\n"
     ]
    },
    {
     "name": "stderr",
     "output_type": "stream",
     "text": [
      "Unavailable user in card on tweet 1525981986187116545\n",
      "Unavailable user in card on tweet 1525981986187116545\n",
      "User 185257843 not found in user refs in card on tweet 1525981986187116545\n",
      "User 185257843 not found in user refs in card on tweet 1525981986187116545\n",
      "Unavailable user in card on tweet 1525948106096910336\n",
      "User 14204245 not found in user refs in card on tweet 1525948106096910336\n",
      " 69%|███████████████████████████████████████████████████▌                       | 825/1201 [3:07:23<1:22:47, 13.21s/it]"
     ]
    },
    {
     "name": "stdout",
     "output_type": "stream",
     "text": [
      "Collected 256 tweets at 2022-05-15.\n",
      "Running twitter query: \"(#covid) lang:en until:2022-05-17 since:2022-05-16\"\n"
     ]
    },
    {
     "name": "stderr",
     "output_type": "stream",
     "text": [
      "\r",
      " 69%|███████████████████████████████████████████████████▌                       | 826/1201 [3:07:37<1:24:12, 13.47s/it]"
     ]
    },
    {
     "name": "stdout",
     "output_type": "stream",
     "text": [
      "Collected 256 tweets at 2022-05-16.\n",
      "Running twitter query: \"(#covid) lang:en until:2022-05-18 since:2022-05-17\"\n"
     ]
    },
    {
     "name": "stderr",
     "output_type": "stream",
     "text": [
      "\r",
      " 69%|███████████████████████████████████████████████████▋                       | 827/1201 [3:07:52<1:27:23, 14.02s/it]"
     ]
    },
    {
     "name": "stdout",
     "output_type": "stream",
     "text": [
      "Collected 256 tweets at 2022-05-17.\n",
      "Running twitter query: \"(#covid) lang:en until:2022-05-19 since:2022-05-18\"\n"
     ]
    },
    {
     "name": "stderr",
     "output_type": "stream",
     "text": [
      "\r",
      " 69%|███████████████████████████████████████████████████▋                       | 828/1201 [3:08:07<1:29:05, 14.33s/it]"
     ]
    },
    {
     "name": "stdout",
     "output_type": "stream",
     "text": [
      "Collected 256 tweets at 2022-05-18.\n",
      "Running twitter query: \"(#covid) lang:en until:2022-05-20 since:2022-05-19\"\n"
     ]
    },
    {
     "name": "stderr",
     "output_type": "stream",
     "text": [
      "\r",
      " 69%|███████████████████████████████████████████████████▊                       | 829/1201 [3:08:22<1:29:58, 14.51s/it]"
     ]
    },
    {
     "name": "stdout",
     "output_type": "stream",
     "text": [
      "Collected 256 tweets at 2022-05-19.\n",
      "Running twitter query: \"(#covid) lang:en until:2022-05-21 since:2022-05-20\"\n"
     ]
    },
    {
     "name": "stderr",
     "output_type": "stream",
     "text": [
      "\r",
      " 69%|███████████████████████████████████████████████████▊                       | 830/1201 [3:08:37<1:29:30, 14.48s/it]"
     ]
    },
    {
     "name": "stdout",
     "output_type": "stream",
     "text": [
      "Collected 256 tweets at 2022-05-20.\n",
      "Running twitter query: \"(#covid) lang:en until:2022-05-22 since:2022-05-21\"\n"
     ]
    },
    {
     "name": "stderr",
     "output_type": "stream",
     "text": [
      "\r",
      " 69%|███████████████████████████████████████████████████▉                       | 831/1201 [3:08:50<1:27:16, 14.15s/it]"
     ]
    },
    {
     "name": "stdout",
     "output_type": "stream",
     "text": [
      "Collected 256 tweets at 2022-05-21.\n",
      "Running twitter query: \"(#covid) lang:en until:2022-05-23 since:2022-05-22\"\n"
     ]
    },
    {
     "name": "stderr",
     "output_type": "stream",
     "text": [
      "\r",
      " 69%|███████████████████████████████████████████████████▉                       | 832/1201 [3:09:06<1:29:39, 14.58s/it]"
     ]
    },
    {
     "name": "stdout",
     "output_type": "stream",
     "text": [
      "Collected 256 tweets at 2022-05-22.\n",
      "Running twitter query: \"(#covid) lang:en until:2022-05-24 since:2022-05-23\"\n"
     ]
    },
    {
     "name": "stderr",
     "output_type": "stream",
     "text": [
      "\r",
      " 69%|████████████████████████████████████████████████████                       | 833/1201 [3:09:21<1:30:00, 14.67s/it]"
     ]
    },
    {
     "name": "stdout",
     "output_type": "stream",
     "text": [
      "Collected 256 tweets at 2022-05-23.\n",
      "Running twitter query: \"(#covid) lang:en until:2022-05-25 since:2022-05-24\"\n"
     ]
    },
    {
     "name": "stderr",
     "output_type": "stream",
     "text": [
      "Unavailable user in card on tweet 1529220944178434050\n",
      "User 1434052940 not found in user refs in card on tweet 1529220944178434050\n",
      " 69%|████████████████████████████████████████████████████                       | 834/1201 [3:09:36<1:30:41, 14.83s/it]"
     ]
    },
    {
     "name": "stdout",
     "output_type": "stream",
     "text": [
      "Collected 256 tweets at 2022-05-24.\n",
      "Running twitter query: \"(#covid) lang:en until:2022-05-26 since:2022-05-25\"\n"
     ]
    },
    {
     "name": "stderr",
     "output_type": "stream",
     "text": [
      "\r",
      " 70%|████████████████████████████████████████████████████▏                      | 835/1201 [3:09:49<1:28:07, 14.45s/it]"
     ]
    },
    {
     "name": "stdout",
     "output_type": "stream",
     "text": [
      "Collected 256 tweets at 2022-05-25.\n",
      "Running twitter query: \"(#covid) lang:en until:2022-05-27 since:2022-05-26\"\n"
     ]
    },
    {
     "name": "stderr",
     "output_type": "stream",
     "text": [
      "\r",
      " 70%|████████████████████████████████████████████████████▏                      | 836/1201 [3:10:04<1:29:03, 14.64s/it]"
     ]
    },
    {
     "name": "stdout",
     "output_type": "stream",
     "text": [
      "Collected 256 tweets at 2022-05-26.\n",
      "Running twitter query: \"(#covid) lang:en until:2022-05-28 since:2022-05-27\"\n"
     ]
    },
    {
     "name": "stderr",
     "output_type": "stream",
     "text": [
      "\r",
      " 70%|████████████████████████████████████████████████████▎                      | 837/1201 [3:10:22<1:34:30, 15.58s/it]"
     ]
    },
    {
     "name": "stdout",
     "output_type": "stream",
     "text": [
      "Collected 256 tweets at 2022-05-27.\n",
      "Running twitter query: \"(#covid) lang:en until:2022-05-29 since:2022-05-28\"\n"
     ]
    },
    {
     "name": "stderr",
     "output_type": "stream",
     "text": [
      "Unavailable user in card on tweet 1530635294428565505\n",
      "User 14204245 not found in user refs in card on tweet 1530635294428565505\n",
      " 70%|████████████████████████████████████████████████████▎                      | 838/1201 [3:10:41<1:40:07, 16.55s/it]"
     ]
    },
    {
     "name": "stdout",
     "output_type": "stream",
     "text": [
      "Collected 256 tweets at 2022-05-28.\n",
      "Running twitter query: \"(#covid) lang:en until:2022-05-30 since:2022-05-29\"\n"
     ]
    },
    {
     "name": "stderr",
     "output_type": "stream",
     "text": [
      "Unavailable user in card on tweet 1531002439150747649\n",
      "User 1434052940 not found in user refs in card on tweet 1531002439150747649\n",
      " 70%|████████████████████████████████████████████████████▍                      | 839/1201 [3:10:59<1:43:08, 17.09s/it]"
     ]
    },
    {
     "name": "stdout",
     "output_type": "stream",
     "text": [
      "Collected 256 tweets at 2022-05-29.\n",
      "Running twitter query: \"(#covid) lang:en until:2022-05-31 since:2022-05-30\"\n"
     ]
    },
    {
     "name": "stderr",
     "output_type": "stream",
     "text": [
      "\r",
      " 70%|████████████████████████████████████████████████████▍                      | 840/1201 [3:11:14<1:39:06, 16.47s/it]"
     ]
    },
    {
     "name": "stdout",
     "output_type": "stream",
     "text": [
      "Collected 256 tweets at 2022-05-30.\n",
      "Running twitter query: \"(#covid) lang:en until:2022-06-01 since:2022-05-31\"\n"
     ]
    },
    {
     "name": "stderr",
     "output_type": "stream",
     "text": [
      "Unavailable user in card on tweet 1531768646342782981\n",
      "Unavailable user in card on tweet 1531768646342782981\n",
      "User 3727654401 not found in user refs in card on tweet 1531768646342782981\n",
      "User 3727654401 not found in user refs in card on tweet 1531768646342782981\n",
      "Unavailable user in card on tweet 1531768640890146816\n",
      "Unavailable user in card on tweet 1531768640890146816\n",
      "User 3727654401 not found in user refs in card on tweet 1531768640890146816\n",
      "User 3727654401 not found in user refs in card on tweet 1531768640890146816\n",
      " 70%|████████████████████████████████████████████████████▌                      | 841/1201 [3:11:28<1:33:57, 15.66s/it]"
     ]
    },
    {
     "name": "stdout",
     "output_type": "stream",
     "text": [
      "Collected 256 tweets at 2022-05-31.\n",
      "Saving 7936 tweets at 2022-05.\n",
      "Running twitter query: \"(#covid) lang:en until:2022-06-02 since:2022-06-01\"\n"
     ]
    },
    {
     "name": "stderr",
     "output_type": "stream",
     "text": [
      "\r",
      " 70%|████████████████████████████████████████████████████▌                      | 842/1201 [3:11:43<1:32:19, 15.43s/it]"
     ]
    },
    {
     "name": "stdout",
     "output_type": "stream",
     "text": [
      "Collected 256 tweets at 2022-06-01.\n",
      "Running twitter query: \"(#covid) lang:en until:2022-06-03 since:2022-06-02\"\n"
     ]
    },
    {
     "name": "stderr",
     "output_type": "stream",
     "text": [
      "\r",
      " 70%|████████████████████████████████████████████████████▋                      | 843/1201 [3:11:58<1:30:59, 15.25s/it]"
     ]
    },
    {
     "name": "stdout",
     "output_type": "stream",
     "text": [
      "Collected 256 tweets at 2022-06-02.\n",
      "Running twitter query: \"(#covid) lang:en until:2022-06-04 since:2022-06-03\"\n"
     ]
    },
    {
     "name": "stderr",
     "output_type": "stream",
     "text": [
      "Unavailable user in card on tweet 1532829652313468928\n",
      "User 4917059115 not found in user refs in card on tweet 1532829652313468928\n",
      " 70%|████████████████████████████████████████████████████▋                      | 844/1201 [3:12:11<1:26:59, 14.62s/it]"
     ]
    },
    {
     "name": "stdout",
     "output_type": "stream",
     "text": [
      "Collected 256 tweets at 2022-06-03.\n",
      "Running twitter query: \"(#covid) lang:en until:2022-06-05 since:2022-06-04\"\n"
     ]
    },
    {
     "name": "stderr",
     "output_type": "stream",
     "text": [
      "\r",
      " 70%|████████████████████████████████████████████████████▊                      | 845/1201 [3:12:22<1:20:29, 13.57s/it]"
     ]
    },
    {
     "name": "stdout",
     "output_type": "stream",
     "text": [
      "Collected 256 tweets at 2022-06-04.\n",
      "Running twitter query: \"(#covid) lang:en until:2022-06-06 since:2022-06-05\"\n"
     ]
    },
    {
     "name": "stderr",
     "output_type": "stream",
     "text": [
      "\r",
      " 70%|████████████████████████████████████████████████████▊                      | 846/1201 [3:12:35<1:18:48, 13.32s/it]"
     ]
    },
    {
     "name": "stdout",
     "output_type": "stream",
     "text": [
      "Collected 256 tweets at 2022-06-05.\n",
      "Running twitter query: \"(#covid) lang:en until:2022-06-07 since:2022-06-06\"\n"
     ]
    },
    {
     "name": "stderr",
     "output_type": "stream",
     "text": [
      "\r",
      " 71%|████████████████████████████████████████████████████▉                      | 847/1201 [3:12:48<1:17:30, 13.14s/it]"
     ]
    },
    {
     "name": "stdout",
     "output_type": "stream",
     "text": [
      "Collected 256 tweets at 2022-06-06.\n",
      "Running twitter query: \"(#covid) lang:en until:2022-06-08 since:2022-06-07\"\n"
     ]
    },
    {
     "name": "stderr",
     "output_type": "stream",
     "text": [
      "Unavailable user in card on tweet 1529934260160716800\n",
      "Unavailable user in card on tweet 1529934260160716800\n",
      "User 15843059 not found in user refs in card on tweet 1529934260160716800\n",
      "User 15843059 not found in user refs in card on tweet 1529934260160716800\n",
      " 71%|████████████████████████████████████████████████████▉                      | 848/1201 [3:13:00<1:16:20, 12.98s/it]"
     ]
    },
    {
     "name": "stdout",
     "output_type": "stream",
     "text": [
      "Collected 256 tweets at 2022-06-07.\n",
      "Running twitter query: \"(#covid) lang:en until:2022-06-09 since:2022-06-08\"\n"
     ]
    },
    {
     "name": "stderr",
     "output_type": "stream",
     "text": [
      "\r",
      " 71%|█████████████████████████████████████████████████████                      | 849/1201 [3:13:13<1:15:27, 12.86s/it]"
     ]
    },
    {
     "name": "stdout",
     "output_type": "stream",
     "text": [
      "Collected 256 tweets at 2022-06-08.\n",
      "Running twitter query: \"(#covid) lang:en until:2022-06-10 since:2022-06-09\"\n"
     ]
    },
    {
     "name": "stderr",
     "output_type": "stream",
     "text": [
      "\r",
      " 71%|█████████████████████████████████████████████████████                      | 850/1201 [3:13:25<1:13:10, 12.51s/it]"
     ]
    },
    {
     "name": "stdout",
     "output_type": "stream",
     "text": [
      "Collected 256 tweets at 2022-06-09.\n",
      "Running twitter query: \"(#covid) lang:en until:2022-06-11 since:2022-06-10\"\n"
     ]
    },
    {
     "name": "stderr",
     "output_type": "stream",
     "text": [
      "Unavailable user in card on tweet 1535366244374749184\n",
      "User 1434052940 not found in user refs in card on tweet 1535366244374749184\n",
      " 71%|█████████████████████████████████████████████████████▏                     | 851/1201 [3:13:40<1:19:02, 13.55s/it]"
     ]
    },
    {
     "name": "stdout",
     "output_type": "stream",
     "text": [
      "Collected 256 tweets at 2022-06-10.\n",
      "Running twitter query: \"(#covid) lang:en until:2022-06-12 since:2022-06-11\"\n"
     ]
    },
    {
     "name": "stderr",
     "output_type": "stream",
     "text": [
      "Unavailable user in card on tweet 1535762403551502336\n",
      "User 14204245 not found in user refs in card on tweet 1535762403551502336\n",
      " 71%|█████████████████████████████████████████████████████▏                     | 852/1201 [3:13:54<1:18:03, 13.42s/it]"
     ]
    },
    {
     "name": "stdout",
     "output_type": "stream",
     "text": [
      "Collected 256 tweets at 2022-06-11.\n",
      "Running twitter query: \"(#covid) lang:en until:2022-06-13 since:2022-06-12\"\n"
     ]
    },
    {
     "name": "stderr",
     "output_type": "stream",
     "text": [
      "\r",
      " 71%|█████████████████████████████████████████████████████▎                     | 853/1201 [3:14:06<1:15:41, 13.05s/it]"
     ]
    },
    {
     "name": "stdout",
     "output_type": "stream",
     "text": [
      "Collected 256 tweets at 2022-06-12.\n",
      "Running twitter query: \"(#covid) lang:en until:2022-06-14 since:2022-06-13\"\n"
     ]
    },
    {
     "name": "stderr",
     "output_type": "stream",
     "text": [
      "Unavailable user in card on tweet 1536476005501652992\n",
      "User 1434052940 not found in user refs in card on tweet 1536476005501652992\n",
      " 71%|█████████████████████████████████████████████████████▎                     | 854/1201 [3:14:18<1:14:15, 12.84s/it]"
     ]
    },
    {
     "name": "stdout",
     "output_type": "stream",
     "text": [
      "Collected 256 tweets at 2022-06-13.\n",
      "Running twitter query: \"(#covid) lang:en until:2022-06-15 since:2022-06-14\"\n"
     ]
    },
    {
     "name": "stderr",
     "output_type": "stream",
     "text": [
      "Unavailable user in card on tweet 1536845339956629505\n",
      "Unavailable user in card on tweet 1536845339956629505\n",
      "User 1062915983294300160 not found in user refs in card on tweet 1536845339956629505\n",
      "User 1062915983294300160 not found in user refs in card on tweet 1536845339956629505\n",
      " 71%|█████████████████████████████████████████████████████▍                     | 855/1201 [3:14:30<1:12:20, 12.54s/it]"
     ]
    },
    {
     "name": "stdout",
     "output_type": "stream",
     "text": [
      "Collected 256 tweets at 2022-06-14.\n",
      "Running twitter query: \"(#covid) lang:en until:2022-06-16 since:2022-06-15\"\n"
     ]
    },
    {
     "name": "stderr",
     "output_type": "stream",
     "text": [
      "\r",
      " 71%|█████████████████████████████████████████████████████▍                     | 856/1201 [3:14:43<1:13:20, 12.76s/it]"
     ]
    },
    {
     "name": "stdout",
     "output_type": "stream",
     "text": [
      "Collected 256 tweets at 2022-06-15.\n",
      "Running twitter query: \"(#covid) lang:en until:2022-06-17 since:2022-06-16\"\n"
     ]
    },
    {
     "name": "stderr",
     "output_type": "stream",
     "text": [
      "\r",
      " 71%|█████████████████████████████████████████████████████▌                     | 857/1201 [3:14:55<1:11:27, 12.46s/it]"
     ]
    },
    {
     "name": "stdout",
     "output_type": "stream",
     "text": [
      "Collected 256 tweets at 2022-06-16.\n",
      "Running twitter query: \"(#covid) lang:en until:2022-06-18 since:2022-06-17\"\n"
     ]
    },
    {
     "name": "stderr",
     "output_type": "stream",
     "text": [
      "\r",
      " 71%|█████████████████████████████████████████████████████▌                     | 858/1201 [3:15:07<1:10:58, 12.42s/it]"
     ]
    },
    {
     "name": "stdout",
     "output_type": "stream",
     "text": [
      "Collected 256 tweets at 2022-06-17.\n",
      "Running twitter query: \"(#covid) lang:en until:2022-06-19 since:2022-06-18\"\n"
     ]
    },
    {
     "name": "stderr",
     "output_type": "stream",
     "text": [
      "\r",
      " 72%|█████████████████████████████████████████████████████▋                     | 859/1201 [3:15:21<1:13:09, 12.83s/it]"
     ]
    },
    {
     "name": "stdout",
     "output_type": "stream",
     "text": [
      "Collected 256 tweets at 2022-06-18.\n",
      "Running twitter query: \"(#covid) lang:en until:2022-06-20 since:2022-06-19\"\n"
     ]
    },
    {
     "name": "stderr",
     "output_type": "stream",
     "text": [
      "\r",
      " 72%|█████████████████████████████████████████████████████▋                     | 860/1201 [3:15:36<1:15:44, 13.33s/it]"
     ]
    },
    {
     "name": "stdout",
     "output_type": "stream",
     "text": [
      "Collected 256 tweets at 2022-06-19.\n",
      "Running twitter query: \"(#covid) lang:en until:2022-06-21 since:2022-06-20\"\n"
     ]
    },
    {
     "name": "stderr",
     "output_type": "stream",
     "text": [
      "Unavailable user in card on tweet 1539012729419272192\n",
      "User 1434052940 not found in user refs in card on tweet 1539012729419272192\n",
      " 72%|█████████████████████████████████████████████████████▊                     | 861/1201 [3:15:50<1:16:29, 13.50s/it]"
     ]
    },
    {
     "name": "stdout",
     "output_type": "stream",
     "text": [
      "Collected 256 tweets at 2022-06-20.\n",
      "Running twitter query: \"(#covid) lang:en until:2022-06-22 since:2022-06-21\"\n"
     ]
    },
    {
     "name": "stderr",
     "output_type": "stream",
     "text": [
      "Empty user ref object in card on tweet 1539370120207810562\n",
      "User 1381232690343649283 not found in user refs in card on tweet 1539370120207810562\n",
      "Unavailable user in card on tweet 1539352465384030209\n",
      "Unavailable user in card on tweet 1539352465384030209\n",
      "User 1062915983294300160 not found in user refs in card on tweet 1539352465384030209\n",
      "User 1062915983294300160 not found in user refs in card on tweet 1539352465384030209\n",
      " 72%|█████████████████████████████████████████████████████▊                     | 862/1201 [3:16:03<1:16:40, 13.57s/it]"
     ]
    },
    {
     "name": "stdout",
     "output_type": "stream",
     "text": [
      "Collected 256 tweets at 2022-06-21.\n",
      "Running twitter query: \"(#covid) lang:en until:2022-06-23 since:2022-06-22\"\n"
     ]
    },
    {
     "name": "stderr",
     "output_type": "stream",
     "text": [
      "\r",
      " 72%|█████████████████████████████████████████████████████▉                     | 863/1201 [3:16:19<1:20:07, 14.22s/it]"
     ]
    },
    {
     "name": "stdout",
     "output_type": "stream",
     "text": [
      "Collected 256 tweets at 2022-06-22.\n",
      "Running twitter query: \"(#covid) lang:en until:2022-06-24 since:2022-06-23\"\n"
     ]
    },
    {
     "name": "stderr",
     "output_type": "stream",
     "text": [
      "\r",
      " 72%|█████████████████████████████████████████████████████▉                     | 864/1201 [3:16:34<1:21:08, 14.45s/it]"
     ]
    },
    {
     "name": "stdout",
     "output_type": "stream",
     "text": [
      "Collected 256 tweets at 2022-06-23.\n",
      "Running twitter query: \"(#covid) lang:en until:2022-06-25 since:2022-06-24\"\n"
     ]
    },
    {
     "name": "stderr",
     "output_type": "stream",
     "text": [
      "Unavailable user in card on tweet 1540461302304350210\n",
      "Unavailable user in card on tweet 1540461302304350210\n",
      "User 15843059 not found in user refs in card on tweet 1540461302304350210\n",
      "User 15843059 not found in user refs in card on tweet 1540461302304350210\n",
      " 72%|██████████████████████████████████████████████████████                     | 865/1201 [3:16:47<1:18:55, 14.09s/it]"
     ]
    },
    {
     "name": "stdout",
     "output_type": "stream",
     "text": [
      "Collected 256 tweets at 2022-06-24.\n",
      "Running twitter query: \"(#covid) lang:en until:2022-06-26 since:2022-06-25\"\n"
     ]
    },
    {
     "name": "stderr",
     "output_type": "stream",
     "text": [
      "\r",
      " 72%|██████████████████████████████████████████████████████                     | 866/1201 [3:17:01<1:18:37, 14.08s/it]"
     ]
    },
    {
     "name": "stdout",
     "output_type": "stream",
     "text": [
      "Collected 256 tweets at 2022-06-25.\n",
      "Running twitter query: \"(#covid) lang:en until:2022-06-27 since:2022-06-26\"\n"
     ]
    },
    {
     "name": "stderr",
     "output_type": "stream",
     "text": [
      "Unavailable user in card on tweet 1541148155043004417\n",
      "Unavailable user in card on tweet 1541148155043004417\n",
      "User 76227785 not found in user refs in card on tweet 1541148155043004417\n",
      "User 76227785 not found in user refs in card on tweet 1541148155043004417\n",
      " 72%|██████████████████████████████████████████████████████▏                    | 867/1201 [3:17:16<1:19:37, 14.30s/it]"
     ]
    },
    {
     "name": "stdout",
     "output_type": "stream",
     "text": [
      "Collected 256 tweets at 2022-06-26.\n",
      "Running twitter query: \"(#covid) lang:en until:2022-06-28 since:2022-06-27\"\n"
     ]
    },
    {
     "name": "stderr",
     "output_type": "stream",
     "text": [
      "\r",
      " 72%|██████████████████████████████████████████████████████▏                    | 868/1201 [3:17:34<1:25:57, 15.49s/it]"
     ]
    },
    {
     "name": "stdout",
     "output_type": "stream",
     "text": [
      "Collected 256 tweets at 2022-06-27.\n",
      "Running twitter query: \"(#covid) lang:en until:2022-06-29 since:2022-06-28\"\n"
     ]
    },
    {
     "name": "stderr",
     "output_type": "stream",
     "text": [
      "\r",
      " 72%|██████████████████████████████████████████████████████▎                    | 869/1201 [3:17:50<1:26:20, 15.60s/it]"
     ]
    },
    {
     "name": "stdout",
     "output_type": "stream",
     "text": [
      "Collected 256 tweets at 2022-06-28.\n",
      "Running twitter query: \"(#covid) lang:en until:2022-06-30 since:2022-06-29\"\n"
     ]
    },
    {
     "name": "stderr",
     "output_type": "stream",
     "text": [
      "\r",
      " 72%|██████████████████████████████████████████████████████▎                    | 870/1201 [3:18:05<1:24:05, 15.24s/it]"
     ]
    },
    {
     "name": "stdout",
     "output_type": "stream",
     "text": [
      "Collected 256 tweets at 2022-06-29.\n",
      "Running twitter query: \"(#covid) lang:en until:2022-07-01 since:2022-06-30\"\n"
     ]
    },
    {
     "name": "stderr",
     "output_type": "stream",
     "text": [
      "\r",
      " 73%|██████████████████████████████████████████████████████▍                    | 871/1201 [3:18:20<1:23:26, 15.17s/it]"
     ]
    },
    {
     "name": "stdout",
     "output_type": "stream",
     "text": [
      "Collected 256 tweets at 2022-06-30.\n",
      "Saving 7680 tweets at 2022-06.\n",
      "Running twitter query: \"(#covid) lang:en until:2022-07-02 since:2022-07-01\"\n"
     ]
    },
    {
     "name": "stderr",
     "output_type": "stream",
     "text": [
      "Stopping after 20 empty pages\n",
      " 73%|██████████████████████████████████████████████████████▍                    | 872/1201 [3:18:29<1:13:37, 13.43s/it]"
     ]
    },
    {
     "name": "stdout",
     "output_type": "stream",
     "text": [
      "Collected 51 tweets at 2022-07-01.\n",
      "Running twitter query: \"(#covid) lang:en until:2022-07-03 since:2022-07-02\"\n"
     ]
    },
    {
     "name": "stderr",
     "output_type": "stream",
     "text": [
      "\r",
      " 73%|██████████████████████████████████████████████████████▌                    | 873/1201 [3:18:43<1:14:29, 13.63s/it]"
     ]
    },
    {
     "name": "stdout",
     "output_type": "stream",
     "text": [
      "Collected 256 tweets at 2022-07-02.\n",
      "Running twitter query: \"(#covid) lang:en until:2022-07-04 since:2022-07-03\"\n"
     ]
    },
    {
     "name": "stderr",
     "output_type": "stream",
     "text": [
      "\r",
      " 73%|██████████████████████████████████████████████████████▌                    | 874/1201 [3:18:56<1:12:33, 13.31s/it]"
     ]
    },
    {
     "name": "stdout",
     "output_type": "stream",
     "text": [
      "Collected 256 tweets at 2022-07-03.\n",
      "Running twitter query: \"(#covid) lang:en until:2022-07-05 since:2022-07-04\"\n"
     ]
    },
    {
     "name": "stderr",
     "output_type": "stream",
     "text": [
      "\r",
      " 73%|██████████████████████████████████████████████████████▋                    | 875/1201 [3:19:08<1:10:14, 12.93s/it]"
     ]
    },
    {
     "name": "stdout",
     "output_type": "stream",
     "text": [
      "Collected 256 tweets at 2022-07-04.\n",
      "Running twitter query: \"(#covid) lang:en until:2022-07-06 since:2022-07-05\"\n"
     ]
    },
    {
     "name": "stderr",
     "output_type": "stream",
     "text": [
      "\r",
      " 73%|██████████████████████████████████████████████████████▋                    | 876/1201 [3:19:19<1:06:40, 12.31s/it]"
     ]
    },
    {
     "name": "stdout",
     "output_type": "stream",
     "text": [
      "Collected 256 tweets at 2022-07-05.\n",
      "Running twitter query: \"(#covid) lang:en until:2022-07-07 since:2022-07-06\"\n"
     ]
    },
    {
     "name": "stderr",
     "output_type": "stream",
     "text": [
      "\r",
      " 73%|██████████████████████████████████████████████████████▊                    | 877/1201 [3:19:30<1:05:06, 12.06s/it]"
     ]
    },
    {
     "name": "stdout",
     "output_type": "stream",
     "text": [
      "Collected 256 tweets at 2022-07-06.\n",
      "Running twitter query: \"(#covid) lang:en until:2022-07-08 since:2022-07-07\"\n"
     ]
    },
    {
     "name": "stderr",
     "output_type": "stream",
     "text": [
      "\r",
      " 73%|██████████████████████████████████████████████████████▊                    | 878/1201 [3:19:44<1:07:13, 12.49s/it]"
     ]
    },
    {
     "name": "stdout",
     "output_type": "stream",
     "text": [
      "Collected 256 tweets at 2022-07-07.\n",
      "Running twitter query: \"(#covid) lang:en until:2022-07-09 since:2022-07-08\"\n"
     ]
    },
    {
     "name": "stderr",
     "output_type": "stream",
     "text": [
      "Empty user ref object in card on tweet 1545552121373663232\n",
      "Empty user ref object in card on tweet 1545552121373663232\n",
      "User 4503599629184530 not found in user refs in card on tweet 1545552121373663232\n",
      "User 4503599629184530 not found in user refs in card on tweet 1545552121373663232\n",
      " 73%|██████████████████████████████████████████████████████▉                    | 879/1201 [3:19:56<1:07:19, 12.55s/it]"
     ]
    },
    {
     "name": "stdout",
     "output_type": "stream",
     "text": [
      "Collected 256 tweets at 2022-07-08.\n",
      "Running twitter query: \"(#covid) lang:en until:2022-07-10 since:2022-07-09\"\n"
     ]
    },
    {
     "name": "stderr",
     "output_type": "stream",
     "text": [
      "\r",
      " 73%|██████████████████████████████████████████████████████▉                    | 880/1201 [3:20:10<1:08:25, 12.79s/it]"
     ]
    },
    {
     "name": "stdout",
     "output_type": "stream",
     "text": [
      "Collected 256 tweets at 2022-07-09.\n",
      "Running twitter query: \"(#covid) lang:en until:2022-07-11 since:2022-07-10\"\n"
     ]
    },
    {
     "name": "stderr",
     "output_type": "stream",
     "text": [
      "\r",
      " 73%|███████████████████████████████████████████████████████                    | 881/1201 [3:20:22<1:07:02, 12.57s/it]"
     ]
    },
    {
     "name": "stdout",
     "output_type": "stream",
     "text": [
      "Collected 256 tweets at 2022-07-10.\n",
      "Running twitter query: \"(#covid) lang:en until:2022-07-12 since:2022-07-11\"\n"
     ]
    },
    {
     "name": "stderr",
     "output_type": "stream",
     "text": [
      "\r",
      " 73%|███████████████████████████████████████████████████████                    | 882/1201 [3:20:33<1:05:09, 12.26s/it]"
     ]
    },
    {
     "name": "stdout",
     "output_type": "stream",
     "text": [
      "Collected 256 tweets at 2022-07-11.\n",
      "Running twitter query: \"(#covid) lang:en until:2022-07-13 since:2022-07-12\"\n"
     ]
    },
    {
     "name": "stderr",
     "output_type": "stream",
     "text": [
      "Unavailable user in card on tweet 1546978086754963456\n",
      "User 14204245 not found in user refs in card on tweet 1546978086754963456\n",
      " 74%|███████████████████████████████████████████████████████▏                   | 883/1201 [3:20:46<1:06:39, 12.58s/it]"
     ]
    },
    {
     "name": "stdout",
     "output_type": "stream",
     "text": [
      "Collected 256 tweets at 2022-07-12.\n",
      "Running twitter query: \"(#covid) lang:en until:2022-07-14 since:2022-07-13\"\n"
     ]
    },
    {
     "name": "stderr",
     "output_type": "stream",
     "text": [
      "\r",
      " 74%|███████████████████████████████████████████████████████▏                   | 884/1201 [3:21:01<1:09:05, 13.08s/it]"
     ]
    },
    {
     "name": "stdout",
     "output_type": "stream",
     "text": [
      "Collected 256 tweets at 2022-07-13.\n",
      "Running twitter query: \"(#covid) lang:en until:2022-07-15 since:2022-07-14\"\n"
     ]
    },
    {
     "name": "stderr",
     "output_type": "stream",
     "text": [
      "Unavailable user in card on tweet 1547709183465730048\n",
      "Unavailable user in card on tweet 1547709183465730048\n",
      "User 58125662 not found in user refs in card on tweet 1547709183465730048\n",
      "User 58125662 not found in user refs in card on tweet 1547709183465730048\n",
      " 74%|███████████████████████████████████████████████████████▎                   | 885/1201 [3:21:13<1:07:17, 12.78s/it]"
     ]
    },
    {
     "name": "stdout",
     "output_type": "stream",
     "text": [
      "Collected 256 tweets at 2022-07-14.\n",
      "Running twitter query: \"(#covid) lang:en until:2022-07-16 since:2022-07-15\"\n"
     ]
    },
    {
     "name": "stderr",
     "output_type": "stream",
     "text": [
      "\r",
      " 74%|███████████████████████████████████████████████████████▎                   | 886/1201 [3:21:25<1:06:12, 12.61s/it]"
     ]
    },
    {
     "name": "stdout",
     "output_type": "stream",
     "text": [
      "Collected 256 tweets at 2022-07-15.\n",
      "Running twitter query: \"(#covid) lang:en until:2022-07-17 since:2022-07-16\"\n"
     ]
    },
    {
     "name": "stderr",
     "output_type": "stream",
     "text": [
      "\r",
      " 74%|███████████████████████████████████████████████████████▍                   | 887/1201 [3:21:39<1:08:36, 13.11s/it]"
     ]
    },
    {
     "name": "stdout",
     "output_type": "stream",
     "text": [
      "Collected 256 tweets at 2022-07-16.\n",
      "Running twitter query: \"(#covid) lang:en until:2022-07-18 since:2022-07-17\"\n"
     ]
    },
    {
     "name": "stderr",
     "output_type": "stream",
     "text": [
      "\r",
      " 74%|███████████████████████████████████████████████████████▍                   | 888/1201 [3:21:51<1:06:18, 12.71s/it]"
     ]
    },
    {
     "name": "stdout",
     "output_type": "stream",
     "text": [
      "Collected 256 tweets at 2022-07-17.\n",
      "Running twitter query: \"(#covid) lang:en until:2022-07-19 since:2022-07-18\"\n"
     ]
    },
    {
     "name": "stderr",
     "output_type": "stream",
     "text": [
      "\r",
      " 74%|███████████████████████████████████████████████████████▌                   | 889/1201 [3:22:04<1:05:46, 12.65s/it]"
     ]
    },
    {
     "name": "stdout",
     "output_type": "stream",
     "text": [
      "Collected 256 tweets at 2022-07-18.\n",
      "Running twitter query: \"(#covid) lang:en until:2022-07-20 since:2022-07-19\"\n"
     ]
    },
    {
     "name": "stderr",
     "output_type": "stream",
     "text": [
      "Unavailable user in card on tweet 1549514456429867009\n",
      "User 1224253526374699008 not found in user refs in card on tweet 1549514456429867009\n",
      " 74%|███████████████████████████████████████████████████████▌                   | 890/1201 [3:22:17<1:06:13, 12.78s/it]"
     ]
    },
    {
     "name": "stdout",
     "output_type": "stream",
     "text": [
      "Collected 256 tweets at 2022-07-19.\n",
      "Running twitter query: \"(#covid) lang:en until:2022-07-21 since:2022-07-20\"\n"
     ]
    },
    {
     "name": "stderr",
     "output_type": "stream",
     "text": [
      "\r",
      " 74%|███████████████████████████████████████████████████████▋                   | 891/1201 [3:22:30<1:06:27, 12.86s/it]"
     ]
    },
    {
     "name": "stdout",
     "output_type": "stream",
     "text": [
      "Collected 256 tweets at 2022-07-20.\n",
      "Running twitter query: \"(#covid) lang:en until:2022-07-22 since:2022-07-21\"\n"
     ]
    },
    {
     "name": "stderr",
     "output_type": "stream",
     "text": [
      "\r",
      " 74%|███████████████████████████████████████████████████████▋                   | 892/1201 [3:22:43<1:07:11, 13.05s/it]"
     ]
    },
    {
     "name": "stdout",
     "output_type": "stream",
     "text": [
      "Collected 256 tweets at 2022-07-21.\n",
      "Running twitter query: \"(#covid) lang:en until:2022-07-23 since:2022-07-22\"\n"
     ]
    },
    {
     "name": "stderr",
     "output_type": "stream",
     "text": [
      "Empty user ref object in card on tweet 1550616468005330945\n",
      "Empty user ref object in card on tweet 1550616468005330945\n",
      "User 4503599629184530 not found in user refs in card on tweet 1550616468005330945\n",
      "User 4503599629184530 not found in user refs in card on tweet 1550616468005330945\n",
      "Empty user ref object in card on tweet 1550602397763788801\n",
      "Empty user ref object in card on tweet 1550602397763788801\n",
      "User 4503599629184530 not found in user refs in card on tweet 1550602397763788801\n",
      "User 4503599629184530 not found in user refs in card on tweet 1550602397763788801\n",
      " 74%|███████████████████████████████████████████████████████▊                   | 893/1201 [3:22:57<1:08:19, 13.31s/it]"
     ]
    },
    {
     "name": "stdout",
     "output_type": "stream",
     "text": [
      "Collected 256 tweets at 2022-07-22.\n",
      "Running twitter query: \"(#covid) lang:en until:2022-07-24 since:2022-07-23\"\n"
     ]
    },
    {
     "name": "stderr",
     "output_type": "stream",
     "text": [
      "Unavailable user in card on tweet 1550959455713591296\n",
      "User 14204245 not found in user refs in card on tweet 1550959455713591296\n",
      " 74%|███████████████████████████████████████████████████████▊                   | 894/1201 [3:23:11<1:09:27, 13.58s/it]"
     ]
    },
    {
     "name": "stdout",
     "output_type": "stream",
     "text": [
      "Collected 256 tweets at 2022-07-23.\n",
      "Running twitter query: \"(#covid) lang:en until:2022-07-25 since:2022-07-24\"\n"
     ]
    },
    {
     "name": "stderr",
     "output_type": "stream",
     "text": [
      "Stopping after 20 empty pages\n",
      " 75%|███████████████████████████████████████████████████████▉                   | 895/1201 [3:23:24<1:07:43, 13.28s/it]"
     ]
    },
    {
     "name": "stdout",
     "output_type": "stream",
     "text": [
      "Collected 41 tweets at 2022-07-24.\n",
      "Running twitter query: \"(#covid) lang:en until:2022-07-26 since:2022-07-25\"\n"
     ]
    },
    {
     "name": "stderr",
     "output_type": "stream",
     "text": [
      "\r",
      " 75%|███████████████████████████████████████████████████████▉                   | 896/1201 [3:23:39<1:09:54, 13.75s/it]"
     ]
    },
    {
     "name": "stdout",
     "output_type": "stream",
     "text": [
      "Collected 256 tweets at 2022-07-25.\n",
      "Running twitter query: \"(#covid) lang:en until:2022-07-27 since:2022-07-26\"\n"
     ]
    },
    {
     "name": "stderr",
     "output_type": "stream",
     "text": [
      "Empty user ref object in card on tweet 1552073846177636352\n",
      "User 1381232690343649283 not found in user refs in card on tweet 1552073846177636352\n",
      " 75%|████████████████████████████████████████████████████████                   | 897/1201 [3:23:54<1:11:34, 14.13s/it]"
     ]
    },
    {
     "name": "stdout",
     "output_type": "stream",
     "text": [
      "Collected 256 tweets at 2022-07-26.\n",
      "Running twitter query: \"(#covid) lang:en until:2022-07-28 since:2022-07-27\"\n"
     ]
    },
    {
     "name": "stderr",
     "output_type": "stream",
     "text": [
      "\r",
      " 75%|████████████████████████████████████████████████████████                   | 898/1201 [3:24:10<1:13:58, 14.65s/it]"
     ]
    },
    {
     "name": "stdout",
     "output_type": "stream",
     "text": [
      "Collected 256 tweets at 2022-07-27.\n",
      "Running twitter query: \"(#covid) lang:en until:2022-07-29 since:2022-07-28\"\n"
     ]
    },
    {
     "name": "stderr",
     "output_type": "stream",
     "text": [
      "\r",
      " 75%|████████████████████████████████████████████████████████▏                  | 899/1201 [3:24:26<1:15:34, 15.02s/it]"
     ]
    },
    {
     "name": "stdout",
     "output_type": "stream",
     "text": [
      "Collected 256 tweets at 2022-07-28.\n",
      "Running twitter query: \"(#covid) lang:en until:2022-07-30 since:2022-07-29\"\n"
     ]
    },
    {
     "name": "stderr",
     "output_type": "stream",
     "text": [
      "Unavailable user in card on tweet 1553156607504068608\n",
      "User 14693354 not found in user refs in card on tweet 1553156607504068608\n",
      " 75%|████████████████████████████████████████████████████████▏                  | 900/1201 [3:24:39<1:12:50, 14.52s/it]"
     ]
    },
    {
     "name": "stdout",
     "output_type": "stream",
     "text": [
      "Collected 256 tweets at 2022-07-29.\n",
      "Running twitter query: \"(#covid) lang:en until:2022-07-31 since:2022-07-30\"\n"
     ]
    },
    {
     "name": "stderr",
     "output_type": "stream",
     "text": [
      "Unavailable user in card on tweet 1553500843202301953\n",
      "User 1434052940 not found in user refs in card on tweet 1553500843202301953\n",
      " 75%|████████████████████████████████████████████████████████▎                  | 901/1201 [3:24:52<1:10:52, 14.18s/it]"
     ]
    },
    {
     "name": "stdout",
     "output_type": "stream",
     "text": [
      "Collected 256 tweets at 2022-07-30.\n",
      "Running twitter query: \"(#covid) lang:en until:2022-08-01 since:2022-07-31\"\n"
     ]
    },
    {
     "name": "stderr",
     "output_type": "stream",
     "text": [
      "Unavailable user in card on tweet 1553878270046765057\n",
      "User 14204245 not found in user refs in card on tweet 1553878270046765057\n",
      " 75%|████████████████████████████████████████████████████████▎                  | 902/1201 [3:25:07<1:11:25, 14.33s/it]"
     ]
    },
    {
     "name": "stdout",
     "output_type": "stream",
     "text": [
      "Collected 256 tweets at 2022-07-31.\n",
      "Saving 7518 tweets at 2022-07.\n",
      "Running twitter query: \"(#covid) lang:en until:2022-08-02 since:2022-08-01\"\n"
     ]
    },
    {
     "name": "stderr",
     "output_type": "stream",
     "text": [
      "\r",
      " 75%|████████████████████████████████████████████████████████▍                  | 903/1201 [3:25:20<1:09:22, 13.97s/it]"
     ]
    },
    {
     "name": "stdout",
     "output_type": "stream",
     "text": [
      "Collected 256 tweets at 2022-08-01.\n",
      "Running twitter query: \"(#covid) lang:en until:2022-08-03 since:2022-08-02\"\n"
     ]
    },
    {
     "name": "stderr",
     "output_type": "stream",
     "text": [
      "\r",
      " 75%|████████████████████████████████████████████████████████▍                  | 904/1201 [3:25:34<1:08:46, 13.89s/it]"
     ]
    },
    {
     "name": "stdout",
     "output_type": "stream",
     "text": [
      "Collected 256 tweets at 2022-08-02.\n",
      "Running twitter query: \"(#covid) lang:en until:2022-08-04 since:2022-08-03\"\n"
     ]
    },
    {
     "name": "stderr",
     "output_type": "stream",
     "text": [
      "\r",
      " 75%|████████████████████████████████████████████████████████▌                  | 905/1201 [3:25:47<1:07:04, 13.60s/it]"
     ]
    },
    {
     "name": "stdout",
     "output_type": "stream",
     "text": [
      "Collected 256 tweets at 2022-08-03.\n",
      "Running twitter query: \"(#covid) lang:en until:2022-08-05 since:2022-08-04\"\n"
     ]
    },
    {
     "name": "stderr",
     "output_type": "stream",
     "text": [
      "\r",
      " 75%|████████████████████████████████████████████████████████▌                  | 906/1201 [3:26:01<1:08:19, 13.90s/it]"
     ]
    },
    {
     "name": "stdout",
     "output_type": "stream",
     "text": [
      "Collected 256 tweets at 2022-08-04.\n",
      "Running twitter query: \"(#covid) lang:en until:2022-08-06 since:2022-08-05\"\n"
     ]
    },
    {
     "name": "stderr",
     "output_type": "stream",
     "text": [
      "\r",
      " 76%|████████████████████████████████████████████████████████▋                  | 907/1201 [3:26:14<1:06:19, 13.54s/it]"
     ]
    },
    {
     "name": "stdout",
     "output_type": "stream",
     "text": [
      "Collected 256 tweets at 2022-08-05.\n",
      "Running twitter query: \"(#covid) lang:en until:2022-08-07 since:2022-08-06\"\n"
     ]
    },
    {
     "name": "stderr",
     "output_type": "stream",
     "text": [
      "\r",
      " 76%|████████████████████████████████████████████████████████▋                  | 908/1201 [3:26:27<1:05:30, 13.42s/it]"
     ]
    },
    {
     "name": "stdout",
     "output_type": "stream",
     "text": [
      "Collected 256 tweets at 2022-08-06.\n",
      "Running twitter query: \"(#covid) lang:en until:2022-08-08 since:2022-08-07\"\n"
     ]
    },
    {
     "name": "stderr",
     "output_type": "stream",
     "text": [
      "\r",
      " 76%|████████████████████████████████████████████████████████▊                  | 909/1201 [3:26:40<1:04:20, 13.22s/it]"
     ]
    },
    {
     "name": "stdout",
     "output_type": "stream",
     "text": [
      "Collected 256 tweets at 2022-08-07.\n",
      "Running twitter query: \"(#covid) lang:en until:2022-08-09 since:2022-08-08\"\n"
     ]
    },
    {
     "name": "stderr",
     "output_type": "stream",
     "text": [
      "\r",
      " 76%|████████████████████████████████████████████████████████▊                  | 910/1201 [3:26:53<1:04:39, 13.33s/it]"
     ]
    },
    {
     "name": "stdout",
     "output_type": "stream",
     "text": [
      "Collected 256 tweets at 2022-08-08.\n",
      "Running twitter query: \"(#covid) lang:en until:2022-08-10 since:2022-08-09\"\n"
     ]
    },
    {
     "name": "stderr",
     "output_type": "stream",
     "text": [
      "Unavailable user in card on tweet 1557112533047205888\n",
      "User 1343341123251519488 not found in user refs in card on tweet 1557112533047205888\n",
      " 76%|████████████████████████████████████████████████████████▉                  | 911/1201 [3:27:06<1:03:54, 13.22s/it]"
     ]
    },
    {
     "name": "stdout",
     "output_type": "stream",
     "text": [
      "Collected 256 tweets at 2022-08-09.\n",
      "Running twitter query: \"(#covid) lang:en until:2022-08-11 since:2022-08-10\"\n"
     ]
    },
    {
     "name": "stderr",
     "output_type": "stream",
     "text": [
      "\r",
      " 76%|████████████████████████████████████████████████████████▉                  | 912/1201 [3:27:23<1:08:17, 14.18s/it]"
     ]
    },
    {
     "name": "stdout",
     "output_type": "stream",
     "text": [
      "Collected 256 tweets at 2022-08-10.\n",
      "Running twitter query: \"(#covid) lang:en until:2022-08-12 since:2022-08-11\"\n"
     ]
    },
    {
     "name": "stderr",
     "output_type": "stream",
     "text": [
      "\r",
      " 76%|█████████████████████████████████████████████████████████                  | 913/1201 [3:27:36<1:06:29, 13.85s/it]"
     ]
    },
    {
     "name": "stdout",
     "output_type": "stream",
     "text": [
      "Collected 256 tweets at 2022-08-11.\n",
      "Running twitter query: \"(#covid) lang:en until:2022-08-13 since:2022-08-12\"\n"
     ]
    },
    {
     "name": "stderr",
     "output_type": "stream",
     "text": [
      "\r",
      " 76%|█████████████████████████████████████████████████████████                  | 914/1201 [3:27:49<1:04:28, 13.48s/it]"
     ]
    },
    {
     "name": "stdout",
     "output_type": "stream",
     "text": [
      "Collected 256 tweets at 2022-08-12.\n",
      "Running twitter query: \"(#covid) lang:en until:2022-08-14 since:2022-08-13\"\n"
     ]
    },
    {
     "name": "stderr",
     "output_type": "stream",
     "text": [
      "\r",
      " 76%|█████████████████████████████████████████████████████████▏                 | 915/1201 [3:28:02<1:03:42, 13.36s/it]"
     ]
    },
    {
     "name": "stdout",
     "output_type": "stream",
     "text": [
      "Collected 256 tweets at 2022-08-13.\n",
      "Running twitter query: \"(#covid) lang:en until:2022-08-15 since:2022-08-14\"\n"
     ]
    },
    {
     "name": "stderr",
     "output_type": "stream",
     "text": [
      "\r",
      " 76%|█████████████████████████████████████████████████████████▏                 | 916/1201 [3:28:15<1:02:51, 13.23s/it]"
     ]
    },
    {
     "name": "stdout",
     "output_type": "stream",
     "text": [
      "Collected 256 tweets at 2022-08-14.\n",
      "Running twitter query: \"(#covid) lang:en until:2022-08-16 since:2022-08-15\"\n"
     ]
    },
    {
     "name": "stderr",
     "output_type": "stream",
     "text": [
      "Unavailable user in card on tweet 1559273517270589442\n",
      "User 85098883 not found in user refs in card on tweet 1559273517270589442\n",
      " 76%|█████████████████████████████████████████████████████████▎                 | 917/1201 [3:28:30<1:05:17, 13.79s/it]"
     ]
    },
    {
     "name": "stdout",
     "output_type": "stream",
     "text": [
      "Collected 256 tweets at 2022-08-15.\n",
      "Running twitter query: \"(#covid) lang:en until:2022-08-17 since:2022-08-16\"\n"
     ]
    },
    {
     "name": "stderr",
     "output_type": "stream",
     "text": [
      "\r",
      " 76%|█████████████████████████████████████████████████████████▎                 | 918/1201 [3:28:43<1:03:45, 13.52s/it]"
     ]
    },
    {
     "name": "stdout",
     "output_type": "stream",
     "text": [
      "Collected 256 tweets at 2022-08-16.\n",
      "Running twitter query: \"(#covid) lang:en until:2022-08-18 since:2022-08-17\"\n"
     ]
    },
    {
     "name": "stderr",
     "output_type": "stream",
     "text": [
      "\r",
      " 77%|█████████████████████████████████████████████████████████▍                 | 919/1201 [3:28:55<1:02:18, 13.26s/it]"
     ]
    },
    {
     "name": "stdout",
     "output_type": "stream",
     "text": [
      "Collected 256 tweets at 2022-08-17.\n",
      "Running twitter query: \"(#covid) lang:en until:2022-08-19 since:2022-08-18\"\n"
     ]
    },
    {
     "name": "stderr",
     "output_type": "stream",
     "text": [
      "\r",
      " 77%|█████████████████████████████████████████████████████████▍                 | 920/1201 [3:29:09<1:02:35, 13.36s/it]"
     ]
    },
    {
     "name": "stdout",
     "output_type": "stream",
     "text": [
      "Collected 256 tweets at 2022-08-18.\n",
      "Running twitter query: \"(#covid) lang:en until:2022-08-20 since:2022-08-19\"\n"
     ]
    },
    {
     "name": "stderr",
     "output_type": "stream",
     "text": [
      "\r",
      " 77%|█████████████████████████████████████████████████████████▌                 | 921/1201 [3:29:23<1:04:05, 13.73s/it]"
     ]
    },
    {
     "name": "stdout",
     "output_type": "stream",
     "text": [
      "Collected 256 tweets at 2022-08-19.\n",
      "Running twitter query: \"(#covid) lang:en until:2022-08-21 since:2022-08-20\"\n"
     ]
    },
    {
     "name": "stderr",
     "output_type": "stream",
     "text": [
      "Unavailable user in card on tweet 1561113999730962432\n",
      "User 14204245 not found in user refs in card on tweet 1561113999730962432\n",
      " 77%|█████████████████████████████████████████████████████████▌                 | 922/1201 [3:29:36<1:02:42, 13.48s/it]"
     ]
    },
    {
     "name": "stdout",
     "output_type": "stream",
     "text": [
      "Collected 256 tweets at 2022-08-20.\n",
      "Running twitter query: \"(#covid) lang:en until:2022-08-22 since:2022-08-21\"\n"
     ]
    },
    {
     "name": "stderr",
     "output_type": "stream",
     "text": [
      "\r",
      " 77%|█████████████████████████████████████████████████████████▋                 | 923/1201 [3:29:50<1:03:21, 13.68s/it]"
     ]
    },
    {
     "name": "stdout",
     "output_type": "stream",
     "text": [
      "Collected 256 tweets at 2022-08-21.\n",
      "Running twitter query: \"(#covid) lang:en until:2022-08-23 since:2022-08-22\"\n"
     ]
    },
    {
     "name": "stderr",
     "output_type": "stream",
     "text": [
      "Unavailable user in card on tweet 1561859557684649984\n",
      "User 1434052940 not found in user refs in card on tweet 1561859557684649984\n",
      " 77%|█████████████████████████████████████████████████████████▋                 | 924/1201 [3:30:06<1:06:02, 14.31s/it]"
     ]
    },
    {
     "name": "stdout",
     "output_type": "stream",
     "text": [
      "Collected 256 tweets at 2022-08-22.\n",
      "Running twitter query: \"(#covid) lang:en until:2022-08-24 since:2022-08-23\"\n"
     ]
    },
    {
     "name": "stderr",
     "output_type": "stream",
     "text": [
      "Unavailable user in card on tweet 1562225817379164161\n",
      "Unavailable user in card on tweet 1562225817379164161\n",
      "User 1332188619528839169 not found in user refs in card on tweet 1562225817379164161\n",
      "User 1332188619528839169 not found in user refs in card on tweet 1562225817379164161\n",
      "Unavailable user in card on tweet 1562207111957839872\n",
      "User 1434052940 not found in user refs in card on tweet 1562207111957839872\n",
      " 77%|█████████████████████████████████████████████████████████▊                 | 925/1201 [3:30:20<1:05:32, 14.25s/it]"
     ]
    },
    {
     "name": "stdout",
     "output_type": "stream",
     "text": [
      "Collected 256 tweets at 2022-08-23.\n",
      "Running twitter query: \"(#covid) lang:en until:2022-08-25 since:2022-08-24\"\n"
     ]
    },
    {
     "name": "stderr",
     "output_type": "stream",
     "text": [
      "\r",
      " 77%|█████████████████████████████████████████████████████████▊                 | 926/1201 [3:30:34<1:04:35, 14.09s/it]"
     ]
    },
    {
     "name": "stdout",
     "output_type": "stream",
     "text": [
      "Collected 256 tweets at 2022-08-24.\n",
      "Running twitter query: \"(#covid) lang:en until:2022-08-26 since:2022-08-25\"\n"
     ]
    },
    {
     "name": "stderr",
     "output_type": "stream",
     "text": [
      "\r",
      " 77%|█████████████████████████████████████████████████████████▉                 | 927/1201 [3:30:48<1:03:37, 13.93s/it]"
     ]
    },
    {
     "name": "stdout",
     "output_type": "stream",
     "text": [
      "Collected 256 tweets at 2022-08-25.\n",
      "Running twitter query: \"(#covid) lang:en until:2022-08-27 since:2022-08-26\"\n"
     ]
    },
    {
     "name": "stderr",
     "output_type": "stream",
     "text": [
      "\r",
      " 77%|█████████████████████████████████████████████████████████▉                 | 928/1201 [3:31:05<1:07:33, 14.85s/it]"
     ]
    },
    {
     "name": "stdout",
     "output_type": "stream",
     "text": [
      "Collected 256 tweets at 2022-08-26.\n",
      "Running twitter query: \"(#covid) lang:en until:2022-08-28 since:2022-08-27\"\n"
     ]
    },
    {
     "name": "stderr",
     "output_type": "stream",
     "text": [
      "Unavailable user in card on tweet 1563653807040520193\n",
      "User 14204245 not found in user refs in card on tweet 1563653807040520193\n",
      "Unavailable user in card on tweet 1563646568036958211\n",
      "User 1343341123251519488 not found in user refs in card on tweet 1563646568036958211\n",
      "Unavailable user in card on tweet 1563604958326378500\n",
      "Unavailable user in card on tweet 1563604958326378500\n",
      "User 1062915983294300160 not found in user refs in card on tweet 1563604958326378500\n",
      "User 1062915983294300160 not found in user refs in card on tweet 1563604958326378500\n",
      " 77%|██████████████████████████████████████████████████████████                 | 929/1201 [3:31:19<1:07:12, 14.83s/it]"
     ]
    },
    {
     "name": "stdout",
     "output_type": "stream",
     "text": [
      "Collected 256 tweets at 2022-08-27.\n",
      "Running twitter query: \"(#covid) lang:en until:2022-08-29 since:2022-08-28\"\n"
     ]
    },
    {
     "name": "stderr",
     "output_type": "stream",
     "text": [
      "Empty user ref object in card on tweet 1564030576100868097\n",
      "User 899733078641225728 not found in user refs in card on tweet 1564030576100868097\n",
      " 77%|██████████████████████████████████████████████████████████                 | 930/1201 [3:31:35<1:07:51, 15.02s/it]"
     ]
    },
    {
     "name": "stdout",
     "output_type": "stream",
     "text": [
      "Collected 256 tweets at 2022-08-28.\n",
      "Running twitter query: \"(#covid) lang:en until:2022-08-30 since:2022-08-29\"\n"
     ]
    },
    {
     "name": "stderr",
     "output_type": "stream",
     "text": [
      "\r",
      " 78%|██████████████████████████████████████████████████████████▏                | 931/1201 [3:31:49<1:06:59, 14.89s/it]"
     ]
    },
    {
     "name": "stdout",
     "output_type": "stream",
     "text": [
      "Collected 256 tweets at 2022-08-29.\n",
      "Running twitter query: \"(#covid) lang:en until:2022-08-31 since:2022-08-30\"\n"
     ]
    },
    {
     "name": "stderr",
     "output_type": "stream",
     "text": [
      "Unavailable user in card on tweet 1564438973614698497\n",
      "User 3562471 not found in user refs in card on tweet 1564438973614698497\n",
      " 78%|██████████████████████████████████████████████████████████▏                | 932/1201 [3:32:05<1:08:13, 15.22s/it]"
     ]
    },
    {
     "name": "stdout",
     "output_type": "stream",
     "text": [
      "Collected 256 tweets at 2022-08-30.\n",
      "Running twitter query: \"(#covid) lang:en until:2022-09-01 since:2022-08-31\"\n"
     ]
    },
    {
     "name": "stderr",
     "output_type": "stream",
     "text": [
      "\r",
      " 78%|██████████████████████████████████████████████████████████▎                | 933/1201 [3:32:21<1:08:11, 15.27s/it]"
     ]
    },
    {
     "name": "stdout",
     "output_type": "stream",
     "text": [
      "Collected 256 tweets at 2022-08-31.\n",
      "Saving 7936 tweets at 2022-08.\n",
      "Running twitter query: \"(#covid) lang:en until:2022-09-02 since:2022-09-01\"\n"
     ]
    },
    {
     "name": "stderr",
     "output_type": "stream",
     "text": [
      "\r",
      " 78%|██████████████████████████████████████████████████████████▎                | 934/1201 [3:32:34<1:04:32, 14.50s/it]"
     ]
    },
    {
     "name": "stdout",
     "output_type": "stream",
     "text": [
      "Collected 256 tweets at 2022-09-01.\n",
      "Running twitter query: \"(#covid) lang:en until:2022-09-03 since:2022-09-02\"\n"
     ]
    },
    {
     "name": "stderr",
     "output_type": "stream",
     "text": [
      "Unavailable user in card on tweet 1565803686202425344\n",
      "Unavailable user in card on tweet 1565803686202425344\n",
      "User 363577315 not found in user refs in card on tweet 1565803686202425344\n",
      "User 363577315 not found in user refs in card on tweet 1565803686202425344\n",
      " 78%|███████████████████████████████████████████████████████████▉                 | 935/1201 [3:32:45<59:41, 13.46s/it]"
     ]
    },
    {
     "name": "stdout",
     "output_type": "stream",
     "text": [
      "Collected 256 tweets at 2022-09-02.\n",
      "Running twitter query: \"(#covid) lang:en until:2022-09-04 since:2022-09-03\"\n"
     ]
    },
    {
     "name": "stderr",
     "output_type": "stream",
     "text": [
      "Empty user ref object in card on tweet 1565836971594989568\n",
      "Empty user ref object in card on tweet 1565836971594989568\n",
      "User 4503599629184530 not found in user refs in card on tweet 1565836971594989568\n",
      "User 4503599629184530 not found in user refs in card on tweet 1565836971594989568\n",
      " 78%|████████████████████████████████████████████████████████████                 | 936/1201 [3:32:57<58:15, 13.19s/it]"
     ]
    },
    {
     "name": "stdout",
     "output_type": "stream",
     "text": [
      "Collected 256 tweets at 2022-09-03.\n",
      "Running twitter query: \"(#covid) lang:en until:2022-09-05 since:2022-09-04\"\n"
     ]
    },
    {
     "name": "stderr",
     "output_type": "stream",
     "text": [
      "\r",
      " 78%|████████████████████████████████████████████████████████████                 | 937/1201 [3:33:09<56:26, 12.83s/it]"
     ]
    },
    {
     "name": "stdout",
     "output_type": "stream",
     "text": [
      "Collected 256 tweets at 2022-09-04.\n",
      "Running twitter query: \"(#covid) lang:en until:2022-09-06 since:2022-09-05\"\n"
     ]
    },
    {
     "name": "stderr",
     "output_type": "stream",
     "text": [
      "\r",
      " 78%|████████████████████████████████████████████████████████████▏                | 938/1201 [3:33:22<56:22, 12.86s/it]"
     ]
    },
    {
     "name": "stdout",
     "output_type": "stream",
     "text": [
      "Collected 256 tweets at 2022-09-05.\n",
      "Running twitter query: \"(#covid) lang:en until:2022-09-07 since:2022-09-06\"\n"
     ]
    },
    {
     "name": "stderr",
     "output_type": "stream",
     "text": [
      "\r",
      " 78%|████████████████████████████████████████████████████████████▏                | 939/1201 [3:33:35<56:56, 13.04s/it]"
     ]
    },
    {
     "name": "stdout",
     "output_type": "stream",
     "text": [
      "Collected 256 tweets at 2022-09-06.\n",
      "Running twitter query: \"(#covid) lang:en until:2022-09-08 since:2022-09-07\"\n"
     ]
    },
    {
     "name": "stderr",
     "output_type": "stream",
     "text": [
      "\r",
      " 78%|████████████████████████████████████████████████████████████▎                | 940/1201 [3:33:51<59:19, 13.64s/it]"
     ]
    },
    {
     "name": "stdout",
     "output_type": "stream",
     "text": [
      "Collected 256 tweets at 2022-09-07.\n",
      "Running twitter query: \"(#covid) lang:en until:2022-09-09 since:2022-09-08\"\n"
     ]
    },
    {
     "name": "stderr",
     "output_type": "stream",
     "text": [
      "Unavailable user in card on tweet 1567996348036677632\n",
      "Unavailable user in card on tweet 1567996348036677632\n",
      "User 1062915983294300160 not found in user refs in card on tweet 1567996348036677632\n",
      "User 1062915983294300160 not found in user refs in card on tweet 1567996348036677632\n",
      "Unavailable user in card on tweet 1567977347332321280\n",
      "User 1343341123251519488 not found in user refs in card on tweet 1567977347332321280\n",
      " 78%|████████████████████████████████████████████████████████████▎                | 941/1201 [3:34:03<57:14, 13.21s/it]"
     ]
    },
    {
     "name": "stdout",
     "output_type": "stream",
     "text": [
      "Collected 256 tweets at 2022-09-08.\n",
      "Running twitter query: \"(#covid) lang:en until:2022-09-10 since:2022-09-09\"\n"
     ]
    },
    {
     "name": "stderr",
     "output_type": "stream",
     "text": [
      "\r",
      " 78%|████████████████████████████████████████████████████████████▍                | 942/1201 [3:34:16<57:21, 13.29s/it]"
     ]
    },
    {
     "name": "stdout",
     "output_type": "stream",
     "text": [
      "Collected 256 tweets at 2022-09-09.\n",
      "Running twitter query: \"(#covid) lang:en until:2022-09-11 since:2022-09-10\"\n"
     ]
    },
    {
     "name": "stderr",
     "output_type": "stream",
     "text": [
      "\r",
      " 79%|████████████████████████████████████████████████████████████▍                | 943/1201 [3:34:29<56:51, 13.22s/it]"
     ]
    },
    {
     "name": "stdout",
     "output_type": "stream",
     "text": [
      "Collected 256 tweets at 2022-09-10.\n",
      "Running twitter query: \"(#covid) lang:en until:2022-09-12 since:2022-09-11\"\n"
     ]
    },
    {
     "name": "stderr",
     "output_type": "stream",
     "text": [
      "\r",
      " 79%|████████████████████████████████████████████████████████████▌                | 944/1201 [3:34:42<56:06, 13.10s/it]"
     ]
    },
    {
     "name": "stdout",
     "output_type": "stream",
     "text": [
      "Collected 256 tweets at 2022-09-11.\n",
      "Running twitter query: \"(#covid) lang:en until:2022-09-13 since:2022-09-12\"\n"
     ]
    },
    {
     "name": "stderr",
     "output_type": "stream",
     "text": [
      "\r",
      " 79%|████████████████████████████████████████████████████████████▌                | 945/1201 [3:34:55<56:11, 13.17s/it]"
     ]
    },
    {
     "name": "stdout",
     "output_type": "stream",
     "text": [
      "Collected 256 tweets at 2022-09-12.\n",
      "Running twitter query: \"(#covid) lang:en until:2022-09-14 since:2022-09-13\"\n"
     ]
    },
    {
     "name": "stderr",
     "output_type": "stream",
     "text": [
      "\r",
      " 79%|████████████████████████████████████████████████████████████▋                | 946/1201 [3:35:08<55:24, 13.04s/it]"
     ]
    },
    {
     "name": "stdout",
     "output_type": "stream",
     "text": [
      "Collected 256 tweets at 2022-09-13.\n",
      "Running twitter query: \"(#covid) lang:en until:2022-09-15 since:2022-09-14\"\n"
     ]
    },
    {
     "name": "stderr",
     "output_type": "stream",
     "text": [
      "\r",
      " 79%|████████████████████████████████████████████████████████████▋                | 947/1201 [3:35:21<54:25, 12.86s/it]"
     ]
    },
    {
     "name": "stdout",
     "output_type": "stream",
     "text": [
      "Collected 256 tweets at 2022-09-14.\n",
      "Running twitter query: \"(#covid) lang:en until:2022-09-16 since:2022-09-15\"\n"
     ]
    },
    {
     "name": "stderr",
     "output_type": "stream",
     "text": [
      "\r",
      " 79%|████████████████████████████████████████████████████████████▊                | 948/1201 [3:35:33<54:05, 12.83s/it]"
     ]
    },
    {
     "name": "stdout",
     "output_type": "stream",
     "text": [
      "Collected 256 tweets at 2022-09-15.\n",
      "Running twitter query: \"(#covid) lang:en until:2022-09-17 since:2022-09-16\"\n"
     ]
    },
    {
     "name": "stderr",
     "output_type": "stream",
     "text": [
      "\r",
      " 79%|████████████████████████████████████████████████████████████▊                | 949/1201 [3:35:47<54:51, 13.06s/it]"
     ]
    },
    {
     "name": "stdout",
     "output_type": "stream",
     "text": [
      "Collected 256 tweets at 2022-09-16.\n",
      "Running twitter query: \"(#covid) lang:en until:2022-09-18 since:2022-09-17\"\n"
     ]
    },
    {
     "name": "stderr",
     "output_type": "stream",
     "text": [
      "\r",
      " 79%|████████████████████████████████████████████████████████████▉                | 950/1201 [3:36:01<55:45, 13.33s/it]"
     ]
    },
    {
     "name": "stdout",
     "output_type": "stream",
     "text": [
      "Collected 256 tweets at 2022-09-17.\n",
      "Running twitter query: \"(#covid) lang:en until:2022-09-19 since:2022-09-18\"\n"
     ]
    },
    {
     "name": "stderr",
     "output_type": "stream",
     "text": [
      "\r",
      " 79%|████████████████████████████████████████████████████████████▉                | 951/1201 [3:36:14<55:22, 13.29s/it]"
     ]
    },
    {
     "name": "stdout",
     "output_type": "stream",
     "text": [
      "Collected 256 tweets at 2022-09-18.\n",
      "Running twitter query: \"(#covid) lang:en until:2022-09-20 since:2022-09-19\"\n"
     ]
    },
    {
     "name": "stderr",
     "output_type": "stream",
     "text": [
      "\r",
      " 79%|█████████████████████████████████████████████████████████████                | 952/1201 [3:36:29<57:19, 13.81s/it]"
     ]
    },
    {
     "name": "stdout",
     "output_type": "stream",
     "text": [
      "Collected 256 tweets at 2022-09-19.\n",
      "Running twitter query: \"(#covid) lang:en until:2022-09-21 since:2022-09-20\"\n"
     ]
    },
    {
     "name": "stderr",
     "output_type": "stream",
     "text": [
      "Unavailable user in card on tweet 1572351082184974338\n",
      "User 1551648691429441537 not found in user refs in card on tweet 1572351082184974338\n",
      "Empty user ref object in card on tweet 1572333546492272643\n",
      "User 1259487 not found in user refs in card on tweet 1572333546492272643\n",
      " 79%|█████████████████████████████████████████████████████████████                | 953/1201 [3:36:43<56:47, 13.74s/it]"
     ]
    },
    {
     "name": "stdout",
     "output_type": "stream",
     "text": [
      "Collected 256 tweets at 2022-09-20.\n",
      "Running twitter query: \"(#covid) lang:en until:2022-09-22 since:2022-09-21\"\n"
     ]
    },
    {
     "name": "stderr",
     "output_type": "stream",
     "text": [
      "\r",
      " 79%|█████████████████████████████████████████████████████████████▏               | 954/1201 [3:36:57<57:13, 13.90s/it]"
     ]
    },
    {
     "name": "stdout",
     "output_type": "stream",
     "text": [
      "Collected 256 tweets at 2022-09-21.\n",
      "Running twitter query: \"(#covid) lang:en until:2022-09-23 since:2022-09-22\"\n"
     ]
    },
    {
     "name": "stderr",
     "output_type": "stream",
     "text": [
      "Unavailable user in card on tweet 1573066794088398848\n",
      "Unavailable user in card on tweet 1573066794088398848\n",
      "User 1062915983294300160 not found in user refs in card on tweet 1573066794088398848\n",
      "User 1062915983294300160 not found in user refs in card on tweet 1573066794088398848\n",
      "Empty user ref object in card on tweet 1573049284680884225\n",
      "User 1381232690343649283 not found in user refs in card on tweet 1573049284680884225\n",
      " 80%|█████████████████████████████████████████████████████████████▏               | 955/1201 [3:37:11<56:52, 13.87s/it]"
     ]
    },
    {
     "name": "stdout",
     "output_type": "stream",
     "text": [
      "Collected 256 tweets at 2022-09-22.\n",
      "Running twitter query: \"(#covid) lang:en until:2022-09-24 since:2022-09-23\"\n"
     ]
    },
    {
     "name": "stderr",
     "output_type": "stream",
     "text": [
      "Unavailable user in card on tweet 1573439780104425473\n",
      "User 14204245 not found in user refs in card on tweet 1573439780104425473\n",
      "Unavailable user in card on tweet 1573413695807713281\n",
      "User 1434052940 not found in user refs in card on tweet 1573413695807713281\n",
      " 80%|█████████████████████████████████████████████████████████████▎               | 956/1201 [3:37:24<56:11, 13.76s/it]"
     ]
    },
    {
     "name": "stdout",
     "output_type": "stream",
     "text": [
      "Collected 256 tweets at 2022-09-23.\n",
      "Running twitter query: \"(#covid) lang:en until:2022-09-25 since:2022-09-24\"\n"
     ]
    },
    {
     "name": "stderr",
     "output_type": "stream",
     "text": [
      "Unavailable user in card on tweet 1573809544559468544\n",
      "User 28550209 not found in user refs in card on tweet 1573809544559468544\n",
      " 80%|█████████████████████████████████████████████████████████████▎               | 957/1201 [3:37:39<56:40, 13.94s/it]"
     ]
    },
    {
     "name": "stdout",
     "output_type": "stream",
     "text": [
      "Collected 256 tweets at 2022-09-24.\n",
      "Running twitter query: \"(#covid) lang:en until:2022-09-26 since:2022-09-25\"\n"
     ]
    },
    {
     "name": "stderr",
     "output_type": "stream",
     "text": [
      "Unavailable user in card on tweet 1574123289743613959\n",
      "User 1564805711040692224 not found in user refs in card on tweet 1574123289743613959\n",
      " 80%|█████████████████████████████████████████████████████████████▍               | 958/1201 [3:37:53<57:23, 14.17s/it]"
     ]
    },
    {
     "name": "stdout",
     "output_type": "stream",
     "text": [
      "Collected 256 tweets at 2022-09-25.\n",
      "Running twitter query: \"(#covid) lang:en until:2022-09-27 since:2022-09-26\"\n"
     ]
    },
    {
     "name": "stderr",
     "output_type": "stream",
     "text": [
      "\r",
      " 80%|███████████████████████████████████████████████████████████▉               | 959/1201 [3:38:12<1:03:03, 15.63s/it]"
     ]
    },
    {
     "name": "stdout",
     "output_type": "stream",
     "text": [
      "Collected 256 tweets at 2022-09-26.\n",
      "Running twitter query: \"(#covid) lang:en until:2022-09-28 since:2022-09-27\"\n"
     ]
    },
    {
     "name": "stderr",
     "output_type": "stream",
     "text": [
      "\r",
      " 80%|███████████████████████████████████████████████████████████▉               | 960/1201 [3:38:27<1:01:18, 15.26s/it]"
     ]
    },
    {
     "name": "stdout",
     "output_type": "stream",
     "text": [
      "Collected 256 tweets at 2022-09-27.\n",
      "Running twitter query: \"(#covid) lang:en until:2022-09-29 since:2022-09-28\"\n"
     ]
    },
    {
     "name": "stderr",
     "output_type": "stream",
     "text": [
      "Unavailable user in card on tweet 1575250701097308168\n",
      "User 937038533461544960 not found in user refs in card on tweet 1575250701097308168\n",
      " 80%|█████████████████████████████████████████████████████████████▌               | 961/1201 [3:38:41<59:53, 14.97s/it]"
     ]
    },
    {
     "name": "stdout",
     "output_type": "stream",
     "text": [
      "Collected 256 tweets at 2022-09-28.\n",
      "Running twitter query: \"(#covid) lang:en until:2022-09-30 since:2022-09-29\"\n"
     ]
    },
    {
     "name": "stderr",
     "output_type": "stream",
     "text": [
      "Unavailable user in card on tweet 1575587252100812800\n",
      "User 1343341123251519488 not found in user refs in card on tweet 1575587252100812800\n",
      " 80%|█████████████████████████████████████████████████████████████▋               | 962/1201 [3:38:56<59:42, 14.99s/it]"
     ]
    },
    {
     "name": "stdout",
     "output_type": "stream",
     "text": [
      "Collected 256 tweets at 2022-09-29.\n",
      "Running twitter query: \"(#covid) lang:en until:2022-10-01 since:2022-09-30\"\n"
     ]
    },
    {
     "name": "stderr",
     "output_type": "stream",
     "text": [
      "\r",
      " 80%|████████████████████████████████████████████████████████████▏              | 963/1201 [3:39:14<1:03:10, 15.93s/it]"
     ]
    },
    {
     "name": "stdout",
     "output_type": "stream",
     "text": [
      "Collected 256 tweets at 2022-09-30.\n",
      "Saving 7680 tweets at 2022-09.\n",
      "Running twitter query: \"(#covid) lang:en until:2022-10-02 since:2022-10-01\"\n"
     ]
    },
    {
     "name": "stderr",
     "output_type": "stream",
     "text": [
      "\r",
      " 80%|█████████████████████████████████████████████████████████████▊               | 964/1201 [3:39:28<59:47, 15.14s/it]"
     ]
    },
    {
     "name": "stdout",
     "output_type": "stream",
     "text": [
      "Collected 256 tweets at 2022-10-01.\n",
      "Running twitter query: \"(#covid) lang:en until:2022-10-03 since:2022-10-02\"\n"
     ]
    },
    {
     "name": "stderr",
     "output_type": "stream",
     "text": [
      "\r",
      " 80%|█████████████████████████████████████████████████████████████▊               | 965/1201 [3:39:41<57:01, 14.50s/it]"
     ]
    },
    {
     "name": "stdout",
     "output_type": "stream",
     "text": [
      "Collected 256 tweets at 2022-10-02.\n",
      "Running twitter query: \"(#covid) lang:en until:2022-10-04 since:2022-10-03\"\n"
     ]
    },
    {
     "name": "stderr",
     "output_type": "stream",
     "text": [
      "Unavailable user in card on tweet 1576930716788527105\n",
      "Unavailable user in card on tweet 1576930716788527105\n",
      "User 363577315 not found in user refs in card on tweet 1576930716788527105\n",
      "User 363577315 not found in user refs in card on tweet 1576930716788527105\n",
      " 80%|█████████████████████████████████████████████████████████████▉               | 966/1201 [3:39:52<53:38, 13.69s/it]"
     ]
    },
    {
     "name": "stdout",
     "output_type": "stream",
     "text": [
      "Collected 256 tweets at 2022-10-03.\n",
      "Running twitter query: \"(#covid) lang:en until:2022-10-05 since:2022-10-04\"\n"
     ]
    },
    {
     "name": "stderr",
     "output_type": "stream",
     "text": [
      "Stopping after 20 empty pages\n",
      " 81%|█████████████████████████████████████████████████████████████▉               | 967/1201 [3:40:08<55:49, 14.31s/it]"
     ]
    },
    {
     "name": "stdout",
     "output_type": "stream",
     "text": [
      "Collected 199 tweets at 2022-10-04.\n",
      "Running twitter query: \"(#covid) lang:en until:2022-10-06 since:2022-10-05\"\n"
     ]
    },
    {
     "name": "stderr",
     "output_type": "stream",
     "text": [
      "Unavailable user in card on tweet 1577804332665393155\n",
      "Unavailable user in card on tweet 1577804332665393155\n",
      "User 15843059 not found in user refs in card on tweet 1577804332665393155\n",
      "User 15843059 not found in user refs in card on tweet 1577804332665393155\n",
      " 81%|██████████████████████████████████████████████████████████████               | 968/1201 [3:40:20<52:59, 13.65s/it]"
     ]
    },
    {
     "name": "stdout",
     "output_type": "stream",
     "text": [
      "Collected 256 tweets at 2022-10-05.\n",
      "Running twitter query: \"(#covid) lang:en until:2022-10-07 since:2022-10-06\"\n"
     ]
    },
    {
     "name": "stderr",
     "output_type": "stream",
     "text": [
      "\r",
      " 81%|██████████████████████████████████████████████████████████████▏              | 969/1201 [3:40:33<51:31, 13.32s/it]"
     ]
    },
    {
     "name": "stdout",
     "output_type": "stream",
     "text": [
      "Collected 256 tweets at 2022-10-06.\n",
      "Running twitter query: \"(#covid) lang:en until:2022-10-08 since:2022-10-07\"\n"
     ]
    },
    {
     "name": "stderr",
     "output_type": "stream",
     "text": [
      "Empty user ref object in card on tweet 1578523672372920320\n",
      "Empty user ref object in card on tweet 1578523672372920320\n",
      "User 4503599629184530 not found in user refs in card on tweet 1578523672372920320\n",
      "User 4503599629184530 not found in user refs in card on tweet 1578523672372920320\n",
      "Unavailable user in card on tweet 1578510728939524097\n",
      "User 14204245 not found in user refs in card on tweet 1578510728939524097\n",
      " 81%|██████████████████████████████████████████████████████████████▏              | 970/1201 [3:40:45<50:18, 13.07s/it]"
     ]
    },
    {
     "name": "stdout",
     "output_type": "stream",
     "text": [
      "Collected 256 tweets at 2022-10-07.\n",
      "Running twitter query: \"(#covid) lang:en until:2022-10-09 since:2022-10-08\"\n"
     ]
    },
    {
     "name": "stderr",
     "output_type": "stream",
     "text": [
      "\r",
      " 81%|██████████████████████████████████████████████████████████████▎              | 971/1201 [3:40:58<49:17, 12.86s/it]"
     ]
    },
    {
     "name": "stdout",
     "output_type": "stream",
     "text": [
      "Collected 256 tweets at 2022-10-08.\n",
      "Running twitter query: \"(#covid) lang:en until:2022-10-10 since:2022-10-09\"\n"
     ]
    },
    {
     "name": "stderr",
     "output_type": "stream",
     "text": [
      "\r",
      " 81%|██████████████████████████████████████████████████████████████▎              | 972/1201 [3:41:10<49:06, 12.87s/it]"
     ]
    },
    {
     "name": "stdout",
     "output_type": "stream",
     "text": [
      "Collected 256 tweets at 2022-10-09.\n",
      "Running twitter query: \"(#covid) lang:en until:2022-10-11 since:2022-10-10\"\n"
     ]
    },
    {
     "name": "stderr",
     "output_type": "stream",
     "text": [
      "\r",
      " 81%|██████████████████████████████████████████████████████████████▍              | 973/1201 [3:41:23<48:13, 12.69s/it]"
     ]
    },
    {
     "name": "stdout",
     "output_type": "stream",
     "text": [
      "Collected 256 tweets at 2022-10-10.\n",
      "Running twitter query: \"(#covid) lang:en until:2022-10-12 since:2022-10-11\"\n"
     ]
    },
    {
     "name": "stderr",
     "output_type": "stream",
     "text": [
      "Unavailable user in card on tweet 1579943866429739008\n",
      "Unavailable user in card on tweet 1579943866429739008\n",
      "User 1062915983294300160 not found in user refs in card on tweet 1579943866429739008\n",
      "User 1062915983294300160 not found in user refs in card on tweet 1579943866429739008\n",
      " 81%|██████████████████████████████████████████████████████████████▍              | 974/1201 [3:41:38<51:10, 13.53s/it]"
     ]
    },
    {
     "name": "stdout",
     "output_type": "stream",
     "text": [
      "Collected 256 tweets at 2022-10-11.\n",
      "Running twitter query: \"(#covid) lang:en until:2022-10-13 since:2022-10-12\"\n"
     ]
    },
    {
     "name": "stderr",
     "output_type": "stream",
     "text": [
      "Empty user ref object in card on tweet 1580302644660539392\n",
      "User 899733078641225728 not found in user refs in card on tweet 1580302644660539392\n",
      " 81%|██████████████████████████████████████████████████████████████▌              | 975/1201 [3:41:51<49:56, 13.26s/it]"
     ]
    },
    {
     "name": "stdout",
     "output_type": "stream",
     "text": [
      "Collected 256 tweets at 2022-10-12.\n",
      "Running twitter query: \"(#covid) lang:en until:2022-10-14 since:2022-10-13\"\n"
     ]
    },
    {
     "name": "stderr",
     "output_type": "stream",
     "text": [
      "\r",
      " 81%|██████████████████████████████████████████████████████████████▌              | 976/1201 [3:42:03<48:48, 13.02s/it]"
     ]
    },
    {
     "name": "stdout",
     "output_type": "stream",
     "text": [
      "Collected 256 tweets at 2022-10-13.\n",
      "Running twitter query: \"(#covid) lang:en until:2022-10-15 since:2022-10-14\"\n"
     ]
    },
    {
     "name": "stderr",
     "output_type": "stream",
     "text": [
      "\r",
      " 81%|██████████████████████████████████████████████████████████████▋              | 977/1201 [3:42:17<49:04, 13.14s/it]"
     ]
    },
    {
     "name": "stdout",
     "output_type": "stream",
     "text": [
      "Collected 256 tweets at 2022-10-14.\n",
      "Running twitter query: \"(#covid) lang:en until:2022-10-16 since:2022-10-15\"\n"
     ]
    },
    {
     "name": "stderr",
     "output_type": "stream",
     "text": [
      "Unavailable user in card on tweet 1581376405241110528\n",
      "User 14204245 not found in user refs in card on tweet 1581376405241110528\n",
      " 81%|██████████████████████████████████████████████████████████████▋              | 978/1201 [3:42:30<48:41, 13.10s/it]"
     ]
    },
    {
     "name": "stdout",
     "output_type": "stream",
     "text": [
      "Collected 256 tweets at 2022-10-15.\n",
      "Running twitter query: \"(#covid) lang:en until:2022-10-17 since:2022-10-16\"\n"
     ]
    },
    {
     "name": "stderr",
     "output_type": "stream",
     "text": [
      "Empty user ref object in card on tweet 1581596646387101696\n",
      "Empty user ref object in card on tweet 1581596646387101696\n",
      "User 4503599629184530 not found in user refs in card on tweet 1581596646387101696\n",
      "User 4503599629184530 not found in user refs in card on tweet 1581596646387101696\n",
      " 82%|██████████████████████████████████████████████████████████████▊              | 979/1201 [3:42:43<48:55, 13.22s/it]"
     ]
    },
    {
     "name": "stdout",
     "output_type": "stream",
     "text": [
      "Collected 256 tweets at 2022-10-16.\n",
      "Running twitter query: \"(#covid) lang:en until:2022-10-18 since:2022-10-17\"\n"
     ]
    },
    {
     "name": "stderr",
     "output_type": "stream",
     "text": [
      "\r",
      " 82%|██████████████████████████████████████████████████████████████▊              | 980/1201 [3:42:58<50:31, 13.72s/it]"
     ]
    },
    {
     "name": "stdout",
     "output_type": "stream",
     "text": [
      "Collected 256 tweets at 2022-10-17.\n",
      "Running twitter query: \"(#covid) lang:en until:2022-10-19 since:2022-10-18\"\n"
     ]
    },
    {
     "name": "stderr",
     "output_type": "stream",
     "text": [
      "Unavailable user in card on tweet 1582496469335973888\n",
      "User 14204245 not found in user refs in card on tweet 1582496469335973888\n",
      "Unavailable user in card on tweet 1582462851641356288\n",
      "User 3562471 not found in user refs in card on tweet 1582462851641356288\n",
      " 82%|██████████████████████████████████████████████████████████████▉              | 981/1201 [3:43:11<49:35, 13.52s/it]"
     ]
    },
    {
     "name": "stdout",
     "output_type": "stream",
     "text": [
      "Collected 256 tweets at 2022-10-18.\n",
      "Running twitter query: \"(#covid) lang:en until:2022-10-20 since:2022-10-19\"\n"
     ]
    },
    {
     "name": "stderr",
     "output_type": "stream",
     "text": [
      "Unavailable user in card on tweet 1582872783973134338\n",
      "Unavailable user in card on tweet 1582872783973134338\n",
      "User 1062915983294300160 not found in user refs in card on tweet 1582872783973134338\n",
      "User 1062915983294300160 not found in user refs in card on tweet 1582872783973134338\n",
      " 82%|██████████████████████████████████████████████████████████████▉              | 982/1201 [3:43:24<48:46, 13.36s/it]"
     ]
    },
    {
     "name": "stdout",
     "output_type": "stream",
     "text": [
      "Collected 256 tweets at 2022-10-19.\n",
      "Running twitter query: \"(#covid) lang:en until:2022-10-21 since:2022-10-20\"\n"
     ]
    },
    {
     "name": "stderr",
     "output_type": "stream",
     "text": [
      "\r",
      " 82%|███████████████████████████████████████████████████████████████              | 983/1201 [3:43:37<48:28, 13.34s/it]"
     ]
    },
    {
     "name": "stdout",
     "output_type": "stream",
     "text": [
      "Collected 256 tweets at 2022-10-20.\n",
      "Running twitter query: \"(#covid) lang:en until:2022-10-22 since:2022-10-21\"\n"
     ]
    },
    {
     "name": "stderr",
     "output_type": "stream",
     "text": [
      "\r",
      " 82%|███████████████████████████████████████████████████████████████              | 984/1201 [3:43:51<48:51, 13.51s/it]"
     ]
    },
    {
     "name": "stdout",
     "output_type": "stream",
     "text": [
      "Collected 256 tweets at 2022-10-21.\n",
      "Running twitter query: \"(#covid) lang:en until:2022-10-23 since:2022-10-22\"\n"
     ]
    },
    {
     "name": "stderr",
     "output_type": "stream",
     "text": [
      "\r",
      " 82%|███████████████████████████████████████████████████████████████▏             | 985/1201 [3:44:07<51:23, 14.28s/it]"
     ]
    },
    {
     "name": "stdout",
     "output_type": "stream",
     "text": [
      "Collected 256 tweets at 2022-10-22.\n",
      "Running twitter query: \"(#covid) lang:en until:2022-10-24 since:2022-10-23\"\n"
     ]
    },
    {
     "name": "stderr",
     "output_type": "stream",
     "text": [
      "\r",
      " 82%|███████████████████████████████████████████████████████████████▏             | 986/1201 [3:44:21<50:10, 14.00s/it]"
     ]
    },
    {
     "name": "stdout",
     "output_type": "stream",
     "text": [
      "Collected 256 tweets at 2022-10-23.\n",
      "Running twitter query: \"(#covid) lang:en until:2022-10-25 since:2022-10-24\"\n"
     ]
    },
    {
     "name": "stderr",
     "output_type": "stream",
     "text": [
      "Unavailable user in card on tweet 1584672417498075136\n",
      "Unavailable user in card on tweet 1584672417498075136\n",
      "User 1062915983294300160 not found in user refs in card on tweet 1584672417498075136\n",
      "User 1062915983294300160 not found in user refs in card on tweet 1584672417498075136\n",
      " 82%|███████████████████████████████████████████████████████████████▎             | 987/1201 [3:44:34<49:29, 13.88s/it]"
     ]
    },
    {
     "name": "stdout",
     "output_type": "stream",
     "text": [
      "Collected 256 tweets at 2022-10-24.\n",
      "Running twitter query: \"(#covid) lang:en until:2022-10-26 since:2022-10-25\"\n"
     ]
    },
    {
     "name": "stderr",
     "output_type": "stream",
     "text": [
      "\r",
      " 82%|███████████████████████████████████████████████████████████████▎             | 988/1201 [3:44:49<50:03, 14.10s/it]"
     ]
    },
    {
     "name": "stdout",
     "output_type": "stream",
     "text": [
      "Collected 256 tweets at 2022-10-25.\n",
      "Running twitter query: \"(#covid) lang:en until:2022-10-27 since:2022-10-26\"\n"
     ]
    },
    {
     "name": "stderr",
     "output_type": "stream",
     "text": [
      "Empty user ref object in card on tweet 1585388305642041344\n",
      "Empty user ref object in card on tweet 1585388305642041344\n",
      "User 873939764876943363 not found in user refs in card on tweet 1585388305642041344\n",
      "User 873939764876943363 not found in user refs in card on tweet 1585388305642041344\n",
      "Unavailable user in card on tweet 1585384503287353344\n",
      "User 2829914588 not found in user refs in card on tweet 1585384503287353344\n",
      "Unavailable user in card on tweet 1585367582701457422\n",
      "User 1434052940 not found in user refs in card on tweet 1585367582701457422\n",
      " 82%|███████████████████████████████████████████████████████████████▍             | 989/1201 [3:45:03<50:01, 14.16s/it]"
     ]
    },
    {
     "name": "stdout",
     "output_type": "stream",
     "text": [
      "Collected 256 tweets at 2022-10-26.\n",
      "Running twitter query: \"(#covid) lang:en until:2022-10-28 since:2022-10-27\"\n"
     ]
    },
    {
     "name": "stderr",
     "output_type": "stream",
     "text": [
      "\r",
      " 82%|███████████████████████████████████████████████████████████████▍             | 990/1201 [3:45:18<50:35, 14.39s/it]"
     ]
    },
    {
     "name": "stdout",
     "output_type": "stream",
     "text": [
      "Collected 256 tweets at 2022-10-27.\n",
      "Running twitter query: \"(#covid) lang:en until:2022-10-29 since:2022-10-28\"\n"
     ]
    },
    {
     "name": "stderr",
     "output_type": "stream",
     "text": [
      "\r",
      " 83%|███████████████████████████████████████████████████████████████▌             | 991/1201 [3:45:33<50:29, 14.43s/it]"
     ]
    },
    {
     "name": "stdout",
     "output_type": "stream",
     "text": [
      "Collected 256 tweets at 2022-10-28.\n",
      "Running twitter query: \"(#covid) lang:en until:2022-10-30 since:2022-10-29\"\n"
     ]
    },
    {
     "name": "stderr",
     "output_type": "stream",
     "text": [
      "Unavailable user in card on tweet 1586439808133394432\n",
      "User 4917059115 not found in user refs in card on tweet 1586439808133394432\n",
      " 83%|███████████████████████████████████████████████████████████████▌             | 992/1201 [3:45:48<51:07, 14.68s/it]"
     ]
    },
    {
     "name": "stdout",
     "output_type": "stream",
     "text": [
      "Collected 256 tweets at 2022-10-29.\n",
      "Running twitter query: \"(#covid) lang:en until:2022-10-31 since:2022-10-30\"\n"
     ]
    },
    {
     "name": "stderr",
     "output_type": "stream",
     "text": [
      "\r",
      " 83%|███████████████████████████████████████████████████████████████▋             | 993/1201 [3:46:03<50:49, 14.66s/it]"
     ]
    },
    {
     "name": "stdout",
     "output_type": "stream",
     "text": [
      "Collected 256 tweets at 2022-10-30.\n",
      "Running twitter query: \"(#covid) lang:en until:2022-11-01 since:2022-10-31\"\n"
     ]
    },
    {
     "name": "stderr",
     "output_type": "stream",
     "text": [
      "Unavailable user in card on tweet 1587207826996445184\n",
      "User 1592855252763656192 not found in user refs in card on tweet 1587207826996445184\n",
      "Unavailable user in card on tweet 1587203459698380800\n",
      "User 2446126290 not found in user refs in card on tweet 1587203459698380800\n",
      " 83%|███████████████████████████████████████████████████████████████▋             | 994/1201 [3:46:18<51:16, 14.86s/it]"
     ]
    },
    {
     "name": "stdout",
     "output_type": "stream",
     "text": [
      "Collected 256 tweets at 2022-10-31.\n",
      "Saving 7880 tweets at 2022-10.\n",
      "Running twitter query: \"(#covid) lang:en until:2022-11-02 since:2022-11-01\"\n"
     ]
    },
    {
     "name": "stderr",
     "output_type": "stream",
     "text": [
      "\r",
      " 83%|███████████████████████████████████████████████████████████████▊             | 995/1201 [3:46:30<47:37, 13.87s/it]"
     ]
    },
    {
     "name": "stdout",
     "output_type": "stream",
     "text": [
      "Collected 256 tweets at 2022-11-01.\n",
      "Running twitter query: \"(#covid) lang:en until:2022-11-03 since:2022-11-02\"\n"
     ]
    },
    {
     "name": "stderr",
     "output_type": "stream",
     "text": [
      "Unavailable user in card on tweet 1587932583064530944\n",
      "User 14204245 not found in user refs in card on tweet 1587932583064530944\n",
      " 83%|███████████████████████████████████████████████████████████████▊             | 996/1201 [3:46:42<45:27, 13.31s/it]"
     ]
    },
    {
     "name": "stdout",
     "output_type": "stream",
     "text": [
      "Collected 256 tweets at 2022-11-02.\n",
      "Running twitter query: \"(#covid) lang:en until:2022-11-04 since:2022-11-03\"\n"
     ]
    },
    {
     "name": "stderr",
     "output_type": "stream",
     "text": [
      "Unavailable user in card on tweet 1588261106052497409\n",
      "User 3562471 not found in user refs in card on tweet 1588261106052497409\n",
      " 83%|███████████████████████████████████████████████████████████████▉             | 997/1201 [3:46:54<44:15, 13.02s/it]"
     ]
    },
    {
     "name": "stdout",
     "output_type": "stream",
     "text": [
      "Collected 256 tweets at 2022-11-03.\n",
      "Running twitter query: \"(#covid) lang:en until:2022-11-05 since:2022-11-04\"\n"
     ]
    },
    {
     "name": "stderr",
     "output_type": "stream",
     "text": [
      "Unavailable user in card on tweet 1588681118110228480\n",
      "Unavailable user in card on tweet 1588681118110228480\n",
      "User 15843059 not found in user refs in card on tweet 1588681118110228480\n",
      "User 15843059 not found in user refs in card on tweet 1588681118110228480\n",
      "Stopping after 20 empty pages\n",
      " 83%|███████████████████████████████████████████████████████████████▉             | 998/1201 [3:47:05<42:36, 12.60s/it]"
     ]
    },
    {
     "name": "stdout",
     "output_type": "stream",
     "text": [
      "Collected 24 tweets at 2022-11-04.\n",
      "Running twitter query: \"(#covid) lang:en until:2022-11-06 since:2022-11-05\"\n"
     ]
    },
    {
     "name": "stderr",
     "output_type": "stream",
     "text": [
      "\r",
      " 83%|████████████████████████████████████████████████████████████████             | 999/1201 [3:47:18<42:05, 12.50s/it]"
     ]
    },
    {
     "name": "stdout",
     "output_type": "stream",
     "text": [
      "Collected 256 tweets at 2022-11-05.\n",
      "Running twitter query: \"(#covid) lang:en until:2022-11-07 since:2022-11-06\"\n"
     ]
    },
    {
     "name": "stderr",
     "output_type": "stream",
     "text": [
      "\r",
      " 83%|███████████████████████████████████████████████████████████████▎            | 1000/1201 [3:47:32<43:51, 13.09s/it]"
     ]
    },
    {
     "name": "stdout",
     "output_type": "stream",
     "text": [
      "Collected 256 tweets at 2022-11-06.\n",
      "Running twitter query: \"(#covid) lang:en until:2022-11-08 since:2022-11-07\"\n"
     ]
    },
    {
     "name": "stderr",
     "output_type": "stream",
     "text": [
      "Unavailable user in card on tweet 1589723885427392513\n",
      "User 2446126290 not found in user refs in card on tweet 1589723885427392513\n",
      " 83%|███████████████████████████████████████████████████████████████▎            | 1001/1201 [3:47:46<44:00, 13.20s/it]"
     ]
    },
    {
     "name": "stdout",
     "output_type": "stream",
     "text": [
      "Collected 256 tweets at 2022-11-07.\n",
      "Running twitter query: \"(#covid) lang:en until:2022-11-09 since:2022-11-08\"\n"
     ]
    },
    {
     "name": "stderr",
     "output_type": "stream",
     "text": [
      "\r",
      " 83%|███████████████████████████████████████████████████████████████▍            | 1002/1201 [3:48:00<44:53, 13.54s/it]"
     ]
    },
    {
     "name": "stdout",
     "output_type": "stream",
     "text": [
      "Collected 256 tweets at 2022-11-08.\n",
      "Running twitter query: \"(#covid) lang:en until:2022-11-10 since:2022-11-09\"\n"
     ]
    },
    {
     "name": "stderr",
     "output_type": "stream",
     "text": [
      "\r",
      " 84%|███████████████████████████████████████████████████████████████▍            | 1003/1201 [3:48:13<43:58, 13.33s/it]"
     ]
    },
    {
     "name": "stdout",
     "output_type": "stream",
     "text": [
      "Collected 256 tweets at 2022-11-09.\n",
      "Running twitter query: \"(#covid) lang:en until:2022-11-11 since:2022-11-10\"\n"
     ]
    },
    {
     "name": "stderr",
     "output_type": "stream",
     "text": [
      "\r",
      " 84%|███████████████████████████████████████████████████████████████▌            | 1004/1201 [3:48:30<47:32, 14.48s/it]"
     ]
    },
    {
     "name": "stdout",
     "output_type": "stream",
     "text": [
      "Collected 256 tweets at 2022-11-10.\n",
      "Running twitter query: \"(#covid) lang:en until:2022-11-12 since:2022-11-11\"\n"
     ]
    },
    {
     "name": "stderr",
     "output_type": "stream",
     "text": [
      "\r",
      " 84%|███████████████████████████████████████████████████████████████▌            | 1005/1201 [3:48:44<46:28, 14.23s/it]"
     ]
    },
    {
     "name": "stdout",
     "output_type": "stream",
     "text": [
      "Collected 256 tweets at 2022-11-11.\n",
      "Running twitter query: \"(#covid) lang:en until:2022-11-13 since:2022-11-12\"\n"
     ]
    },
    {
     "name": "stderr",
     "output_type": "stream",
     "text": [
      "Unavailable user in card on tweet 1591556150205480964\n",
      "User 14204245 not found in user refs in card on tweet 1591556150205480964\n",
      " 84%|███████████████████████████████████████████████████████████████▋            | 1006/1201 [3:48:57<45:10, 13.90s/it]"
     ]
    },
    {
     "name": "stdout",
     "output_type": "stream",
     "text": [
      "Collected 256 tweets at 2022-11-12.\n",
      "Running twitter query: \"(#covid) lang:en until:2022-11-14 since:2022-11-13\"\n"
     ]
    },
    {
     "name": "stderr",
     "output_type": "stream",
     "text": [
      "\r",
      " 84%|███████████████████████████████████████████████████████████████▋            | 1007/1201 [3:49:09<43:28, 13.45s/it]"
     ]
    },
    {
     "name": "stdout",
     "output_type": "stream",
     "text": [
      "Collected 256 tweets at 2022-11-13.\n",
      "Running twitter query: \"(#covid) lang:en until:2022-11-15 since:2022-11-14\"\n"
     ]
    },
    {
     "name": "stderr",
     "output_type": "stream",
     "text": [
      "\r",
      " 84%|███████████████████████████████████████████████████████████████▊            | 1008/1201 [3:49:24<44:31, 13.84s/it]"
     ]
    },
    {
     "name": "stdout",
     "output_type": "stream",
     "text": [
      "Collected 256 tweets at 2022-11-14.\n",
      "Running twitter query: \"(#covid) lang:en until:2022-11-16 since:2022-11-15\"\n"
     ]
    },
    {
     "name": "stderr",
     "output_type": "stream",
     "text": [
      "\r",
      " 84%|███████████████████████████████████████████████████████████████▊            | 1009/1201 [3:49:37<43:27, 13.58s/it]"
     ]
    },
    {
     "name": "stdout",
     "output_type": "stream",
     "text": [
      "Collected 256 tweets at 2022-11-15.\n",
      "Running twitter query: \"(#covid) lang:en until:2022-11-17 since:2022-11-16\"\n"
     ]
    },
    {
     "name": "stderr",
     "output_type": "stream",
     "text": [
      "\r",
      " 84%|███████████████████████████████████████████████████████████████▉            | 1010/1201 [3:49:50<42:28, 13.34s/it]"
     ]
    },
    {
     "name": "stdout",
     "output_type": "stream",
     "text": [
      "Collected 256 tweets at 2022-11-16.\n",
      "Running twitter query: \"(#covid) lang:en until:2022-11-18 since:2022-11-17\"\n"
     ]
    },
    {
     "name": "stderr",
     "output_type": "stream",
     "text": [
      "Unavailable user in card on tweet 1593378681908768768\n",
      "User 1434052940 not found in user refs in card on tweet 1593378681908768768\n",
      " 84%|███████████████████████████████████████████████████████████████▉            | 1011/1201 [3:50:03<41:47, 13.20s/it]"
     ]
    },
    {
     "name": "stdout",
     "output_type": "stream",
     "text": [
      "Collected 256 tweets at 2022-11-17.\n",
      "Running twitter query: \"(#covid) lang:en until:2022-11-19 since:2022-11-18\"\n"
     ]
    },
    {
     "name": "stderr",
     "output_type": "stream",
     "text": [
      "Empty user ref object in card on tweet 1593749428120088577\n",
      "Empty user ref object in card on tweet 1593749428120088577\n",
      "User 4503599629184530 not found in user refs in card on tweet 1593749428120088577\n",
      "User 4503599629184530 not found in user refs in card on tweet 1593749428120088577\n",
      " 84%|████████████████████████████████████████████████████████████████            | 1012/1201 [3:50:16<41:24, 13.14s/it]"
     ]
    },
    {
     "name": "stdout",
     "output_type": "stream",
     "text": [
      "Collected 256 tweets at 2022-11-18.\n",
      "Running twitter query: \"(#covid) lang:en until:2022-11-20 since:2022-11-19\"\n"
     ]
    },
    {
     "name": "stderr",
     "output_type": "stream",
     "text": [
      "\r",
      " 84%|████████████████████████████████████████████████████████████████            | 1013/1201 [3:50:29<41:08, 13.13s/it]"
     ]
    },
    {
     "name": "stdout",
     "output_type": "stream",
     "text": [
      "Collected 256 tweets at 2022-11-19.\n",
      "Running twitter query: \"(#covid) lang:en until:2022-11-21 since:2022-11-20\"\n"
     ]
    },
    {
     "name": "stderr",
     "output_type": "stream",
     "text": [
      "\r",
      " 84%|████████████████████████████████████████████████████████████████▏           | 1014/1201 [3:50:41<40:23, 12.96s/it]"
     ]
    },
    {
     "name": "stdout",
     "output_type": "stream",
     "text": [
      "Collected 256 tweets at 2022-11-20.\n",
      "Running twitter query: \"(#covid) lang:en until:2022-11-22 since:2022-11-21\"\n"
     ]
    },
    {
     "name": "stderr",
     "output_type": "stream",
     "text": [
      "\r",
      " 85%|████████████████████████████████████████████████████████████████▏           | 1015/1201 [3:50:54<40:09, 12.95s/it]"
     ]
    },
    {
     "name": "stdout",
     "output_type": "stream",
     "text": [
      "Collected 256 tweets at 2022-11-21.\n",
      "Running twitter query: \"(#covid) lang:en until:2022-11-23 since:2022-11-22\"\n"
     ]
    },
    {
     "name": "stderr",
     "output_type": "stream",
     "text": [
      "Unavailable user in card on tweet 1595158995936825344\n",
      "User 3562471 not found in user refs in card on tweet 1595158995936825344\n",
      "Unavailable user in card on tweet 1595194408223252486\n",
      "User 1343341123251519488 not found in user refs in card on tweet 1595194408223252486\n",
      "Unavailable user in card on tweet 1595177799496744961\n",
      "User 3562471 not found in user refs in card on tweet 1595177799496744961\n",
      " 85%|████████████████████████████████████████████████████████████████▎           | 1016/1201 [3:51:08<40:56, 13.28s/it]"
     ]
    },
    {
     "name": "stdout",
     "output_type": "stream",
     "text": [
      "Collected 256 tweets at 2022-11-22.\n",
      "Running twitter query: \"(#covid) lang:en until:2022-11-24 since:2022-11-23\"\n"
     ]
    },
    {
     "name": "stderr",
     "output_type": "stream",
     "text": [
      "Unavailable user in card on tweet 1595523037595590665\n",
      "User 76227785 not found in user refs in card on tweet 1595523037595590665\n",
      " 85%|████████████████████████████████████████████████████████████████▎           | 1017/1201 [3:51:22<41:20, 13.48s/it]"
     ]
    },
    {
     "name": "stdout",
     "output_type": "stream",
     "text": [
      "Collected 256 tweets at 2022-11-23.\n",
      "Running twitter query: \"(#covid) lang:en until:2022-11-25 since:2022-11-24\"\n"
     ]
    },
    {
     "name": "stderr",
     "output_type": "stream",
     "text": [
      "\r",
      " 85%|████████████████████████████████████████████████████████████████▍           | 1018/1201 [3:51:36<41:21, 13.56s/it]"
     ]
    },
    {
     "name": "stdout",
     "output_type": "stream",
     "text": [
      "Collected 256 tweets at 2022-11-24.\n",
      "Running twitter query: \"(#covid) lang:en until:2022-11-26 since:2022-11-25\"\n"
     ]
    },
    {
     "name": "stderr",
     "output_type": "stream",
     "text": [
      "Unavailable user in card on tweet 1596247378595807232\n",
      "User 3562471 not found in user refs in card on tweet 1596247378595807232\n",
      " 85%|████████████████████████████████████████████████████████████████▍           | 1019/1201 [3:51:50<41:12, 13.59s/it]"
     ]
    },
    {
     "name": "stdout",
     "output_type": "stream",
     "text": [
      "Collected 256 tweets at 2022-11-25.\n",
      "Running twitter query: \"(#covid) lang:en until:2022-11-27 since:2022-11-26\"\n"
     ]
    },
    {
     "name": "stderr",
     "output_type": "stream",
     "text": [
      "Unavailable user in card on tweet 1596625463103086592\n",
      "Unavailable user in card on tweet 1596625463103086592\n",
      "User 1062915983294300160 not found in user refs in card on tweet 1596625463103086592\n",
      "User 1062915983294300160 not found in user refs in card on tweet 1596625463103086592\n",
      " 85%|████████████████████████████████████████████████████████████████▌           | 1020/1201 [3:52:06<43:21, 14.38s/it]"
     ]
    },
    {
     "name": "stdout",
     "output_type": "stream",
     "text": [
      "Collected 256 tweets at 2022-11-26.\n",
      "Running twitter query: \"(#covid) lang:en until:2022-11-28 since:2022-11-27\"\n"
     ]
    },
    {
     "name": "stderr",
     "output_type": "stream",
     "text": [
      "\r",
      " 85%|████████████████████████████████████████████████████████████████▌           | 1021/1201 [3:52:20<43:04, 14.36s/it]"
     ]
    },
    {
     "name": "stdout",
     "output_type": "stream",
     "text": [
      "Collected 256 tweets at 2022-11-27.\n",
      "Running twitter query: \"(#covid) lang:en until:2022-11-29 since:2022-11-28\"\n"
     ]
    },
    {
     "name": "stderr",
     "output_type": "stream",
     "text": [
      "Unavailable user in card on tweet 1597356504222519298\n",
      "User 14204245 not found in user refs in card on tweet 1597356504222519298\n",
      "Unavailable user in card on tweet 1597342808234688512\n",
      "User 1343341123251519488 not found in user refs in card on tweet 1597342808234688512\n",
      " 85%|████████████████████████████████████████████████████████████████▋           | 1022/1201 [3:52:34<42:40, 14.30s/it]"
     ]
    },
    {
     "name": "stdout",
     "output_type": "stream",
     "text": [
      "Collected 256 tweets at 2022-11-28.\n",
      "Running twitter query: \"(#covid) lang:en until:2022-11-30 since:2022-11-29\"\n"
     ]
    },
    {
     "name": "stderr",
     "output_type": "stream",
     "text": [
      "Unavailable user in card on tweet 1597721652066127874\n",
      "Unavailable user in card on tweet 1597721652066127874\n",
      "User 1343341123251519488 not found in user refs in card on tweet 1597721652066127874\n",
      "User 1343341123251519488 not found in user refs in card on tweet 1597721652066127874\n",
      " 85%|████████████████████████████████████████████████████████████████▋           | 1023/1201 [3:52:51<45:01, 15.17s/it]"
     ]
    },
    {
     "name": "stdout",
     "output_type": "stream",
     "text": [
      "Collected 256 tweets at 2022-11-29.\n",
      "Running twitter query: \"(#covid) lang:en until:2022-12-01 since:2022-11-30\"\n"
     ]
    },
    {
     "name": "stderr",
     "output_type": "stream",
     "text": [
      "\r",
      " 85%|████████████████████████████████████████████████████████████████▊           | 1024/1201 [3:53:06<44:08, 14.96s/it]"
     ]
    },
    {
     "name": "stdout",
     "output_type": "stream",
     "text": [
      "Collected 256 tweets at 2022-11-30.\n",
      "Saving 7449 tweets at 2022-11.\n",
      "Running twitter query: \"(#covid) lang:en until:2022-12-02 since:2022-12-01\"\n"
     ]
    },
    {
     "name": "stderr",
     "output_type": "stream",
     "text": [
      "\r",
      " 85%|████████████████████████████████████████████████████████████████▊           | 1025/1201 [3:53:19<41:52, 14.28s/it]"
     ]
    },
    {
     "name": "stdout",
     "output_type": "stream",
     "text": [
      "Collected 256 tweets at 2022-12-01.\n",
      "Running twitter query: \"(#covid) lang:en until:2022-12-03 since:2022-12-02\"\n"
     ]
    },
    {
     "name": "stderr",
     "output_type": "stream",
     "text": [
      "Unavailable user in card on tweet 1598799292965199875\n",
      "User 3562471 not found in user refs in card on tweet 1598799292965199875\n",
      "Unavailable user in card on tweet 1598809126112735238\n",
      "User 14204245 not found in user refs in card on tweet 1598809126112735238\n",
      "Unavailable user in card on tweet 1598781014003879957\n",
      "User 14204245 not found in user refs in card on tweet 1598781014003879957\n",
      " 85%|████████████████████████████████████████████████████████████████▉           | 1026/1201 [3:53:31<39:32, 13.56s/it]"
     ]
    },
    {
     "name": "stdout",
     "output_type": "stream",
     "text": [
      "Collected 256 tweets at 2022-12-02.\n",
      "Running twitter query: \"(#covid) lang:en until:2022-12-04 since:2022-12-03\"\n"
     ]
    },
    {
     "name": "stderr",
     "output_type": "stream",
     "text": [
      "\r",
      " 86%|████████████████████████████████████████████████████████████████▉           | 1027/1201 [3:53:43<38:10, 13.17s/it]"
     ]
    },
    {
     "name": "stdout",
     "output_type": "stream",
     "text": [
      "Collected 256 tweets at 2022-12-03.\n",
      "Running twitter query: \"(#covid) lang:en until:2022-12-05 since:2022-12-04\"\n"
     ]
    },
    {
     "name": "stderr",
     "output_type": "stream",
     "text": [
      "\r",
      " 86%|█████████████████████████████████████████████████████████████████           | 1028/1201 [3:53:55<37:02, 12.85s/it]"
     ]
    },
    {
     "name": "stdout",
     "output_type": "stream",
     "text": [
      "Collected 256 tweets at 2022-12-04.\n",
      "Running twitter query: \"(#covid) lang:en until:2022-12-06 since:2022-12-05\"\n"
     ]
    },
    {
     "name": "stderr",
     "output_type": "stream",
     "text": [
      "\r",
      " 86%|█████████████████████████████████████████████████████████████████           | 1029/1201 [3:54:08<37:17, 13.01s/it]"
     ]
    },
    {
     "name": "stdout",
     "output_type": "stream",
     "text": [
      "Collected 256 tweets at 2022-12-05.\n",
      "Running twitter query: \"(#covid) lang:en until:2022-12-07 since:2022-12-06\"\n"
     ]
    },
    {
     "name": "stderr",
     "output_type": "stream",
     "text": [
      "Unavailable user in card on tweet 1600233071189843968\n",
      "Unavailable user in card on tweet 1600233071189843968\n",
      "User 15843059 not found in user refs in card on tweet 1600233071189843968\n",
      "User 15843059 not found in user refs in card on tweet 1600233071189843968\n",
      " 86%|█████████████████████████████████████████████████████████████████▏          | 1030/1201 [3:54:20<36:25, 12.78s/it]"
     ]
    },
    {
     "name": "stdout",
     "output_type": "stream",
     "text": [
      "Collected 256 tweets at 2022-12-06.\n",
      "Running twitter query: \"(#covid) lang:en until:2022-12-08 since:2022-12-07\"\n"
     ]
    },
    {
     "name": "stderr",
     "output_type": "stream",
     "text": [
      "Empty user ref object in card on tweet 1600617527385772035\n",
      "User 1259487 not found in user refs in card on tweet 1600617527385772035\n",
      "Unavailable user in card on tweet 1600606963259170816\n",
      "Unavailable user in card on tweet 1600606963259170816\n",
      "User 136899830 not found in user refs in card on tweet 1600606963259170816\n",
      "User 136899830 not found in user refs in card on tweet 1600606963259170816\n",
      " 86%|█████████████████████████████████████████████████████████████████▏          | 1031/1201 [3:54:32<35:29, 12.53s/it]"
     ]
    },
    {
     "name": "stdout",
     "output_type": "stream",
     "text": [
      "Collected 256 tweets at 2022-12-07.\n",
      "Running twitter query: \"(#covid) lang:en until:2022-12-09 since:2022-12-08\"\n"
     ]
    },
    {
     "name": "stderr",
     "output_type": "stream",
     "text": [
      "\r",
      " 86%|█████████████████████████████████████████████████████████████████▎          | 1032/1201 [3:54:47<37:23, 13.28s/it]"
     ]
    },
    {
     "name": "stdout",
     "output_type": "stream",
     "text": [
      "Collected 256 tweets at 2022-12-08.\n",
      "Running twitter query: \"(#covid) lang:en until:2022-12-10 since:2022-12-09\"\n"
     ]
    },
    {
     "name": "stderr",
     "output_type": "stream",
     "text": [
      "Unavailable user in card on tweet 1601308750996201472\n",
      "User 14204245 not found in user refs in card on tweet 1601308750996201472\n",
      " 86%|█████████████████████████████████████████████████████████████████▎          | 1033/1201 [3:55:03<39:25, 14.08s/it]"
     ]
    },
    {
     "name": "stdout",
     "output_type": "stream",
     "text": [
      "Collected 256 tweets at 2022-12-09.\n",
      "Running twitter query: \"(#covid) lang:en until:2022-12-11 since:2022-12-10\"\n"
     ]
    },
    {
     "name": "stderr",
     "output_type": "stream",
     "text": [
      "\r",
      " 86%|█████████████████████████████████████████████████████████████████▍          | 1034/1201 [3:55:16<38:01, 13.66s/it]"
     ]
    },
    {
     "name": "stdout",
     "output_type": "stream",
     "text": [
      "Collected 256 tweets at 2022-12-10.\n",
      "Running twitter query: \"(#covid) lang:en until:2022-12-12 since:2022-12-11\"\n"
     ]
    },
    {
     "name": "stderr",
     "output_type": "stream",
     "text": [
      "\r",
      " 86%|█████████████████████████████████████████████████████████████████▍          | 1035/1201 [3:55:29<36:55, 13.35s/it]"
     ]
    },
    {
     "name": "stdout",
     "output_type": "stream",
     "text": [
      "Collected 256 tweets at 2022-12-11.\n",
      "Running twitter query: \"(#covid) lang:en until:2022-12-13 since:2022-12-12\"\n"
     ]
    },
    {
     "name": "stderr",
     "output_type": "stream",
     "text": [
      "Unavailable user in card on tweet 1602434888535252992\n",
      "User 3562471 not found in user refs in card on tweet 1602434888535252992\n",
      " 86%|█████████████████████████████████████████████████████████████████▌          | 1036/1201 [3:55:41<35:40, 12.97s/it]"
     ]
    },
    {
     "name": "stdout",
     "output_type": "stream",
     "text": [
      "Collected 256 tweets at 2022-12-12.\n",
      "Running twitter query: \"(#covid) lang:en until:2022-12-14 since:2022-12-13\"\n"
     ]
    },
    {
     "name": "stderr",
     "output_type": "stream",
     "text": [
      "Unavailable user in card on tweet 1602791895755022336\n",
      "User 14204245 not found in user refs in card on tweet 1602791895755022336\n",
      " 86%|█████████████████████████████████████████████████████████████████▌          | 1037/1201 [3:55:54<35:28, 12.98s/it]"
     ]
    },
    {
     "name": "stdout",
     "output_type": "stream",
     "text": [
      "Collected 256 tweets at 2022-12-13.\n",
      "Running twitter query: \"(#covid) lang:en until:2022-12-15 since:2022-12-14\"\n"
     ]
    },
    {
     "name": "stderr",
     "output_type": "stream",
     "text": [
      "\r",
      " 86%|█████████████████████████████████████████████████████████████████▋          | 1038/1201 [3:56:07<35:01, 12.89s/it]"
     ]
    },
    {
     "name": "stdout",
     "output_type": "stream",
     "text": [
      "Collected 256 tweets at 2022-12-14.\n",
      "Running twitter query: \"(#covid) lang:en until:2022-12-16 since:2022-12-15\"\n"
     ]
    },
    {
     "name": "stderr",
     "output_type": "stream",
     "text": [
      "\r",
      " 87%|█████████████████████████████████████████████████████████████████▋          | 1039/1201 [3:56:19<34:45, 12.87s/it]"
     ]
    },
    {
     "name": "stdout",
     "output_type": "stream",
     "text": [
      "Collected 256 tweets at 2022-12-15.\n",
      "Running twitter query: \"(#covid) lang:en until:2022-12-17 since:2022-12-16\"\n"
     ]
    },
    {
     "name": "stderr",
     "output_type": "stream",
     "text": [
      "\r",
      " 87%|█████████████████████████████████████████████████████████████████▊          | 1040/1201 [3:56:32<34:40, 12.92s/it]"
     ]
    },
    {
     "name": "stdout",
     "output_type": "stream",
     "text": [
      "Collected 256 tweets at 2022-12-16.\n",
      "Running twitter query: \"(#covid) lang:en until:2022-12-18 since:2022-12-17\"\n"
     ]
    },
    {
     "name": "stderr",
     "output_type": "stream",
     "text": [
      "\r",
      " 87%|█████████████████████████████████████████████████████████████████▉          | 1041/1201 [3:56:46<34:54, 13.09s/it]"
     ]
    },
    {
     "name": "stdout",
     "output_type": "stream",
     "text": [
      "Collected 256 tweets at 2022-12-17.\n",
      "Running twitter query: \"(#covid) lang:en until:2022-12-19 since:2022-12-18\"\n"
     ]
    },
    {
     "name": "stderr",
     "output_type": "stream",
     "text": [
      "\r",
      " 87%|█████████████████████████████████████████████████████████████████▉          | 1042/1201 [3:56:59<34:40, 13.08s/it]"
     ]
    },
    {
     "name": "stdout",
     "output_type": "stream",
     "text": [
      "Collected 256 tweets at 2022-12-18.\n",
      "Running twitter query: \"(#covid) lang:en until:2022-12-20 since:2022-12-19\"\n"
     ]
    },
    {
     "name": "stderr",
     "output_type": "stream",
     "text": [
      "Empty user ref object in card on tweet 1604957658410356736\n",
      "User 1259487 not found in user refs in card on tweet 1604957658410356736\n",
      "Empty user ref object in card on tweet 1604957644971823114\n",
      "User 1259487 not found in user refs in card on tweet 1604957644971823114\n",
      "Empty user ref object in card on tweet 1604957640211177473\n",
      "User 1259487 not found in user refs in card on tweet 1604957640211177473\n",
      " 87%|██████████████████████████████████████████████████████████████████          | 1043/1201 [3:57:16<37:14, 14.14s/it]"
     ]
    },
    {
     "name": "stdout",
     "output_type": "stream",
     "text": [
      "Collected 256 tweets at 2022-12-19.\n",
      "Running twitter query: \"(#covid) lang:en until:2022-12-21 since:2022-12-20\"\n"
     ]
    },
    {
     "name": "stderr",
     "output_type": "stream",
     "text": [
      "\r",
      " 87%|██████████████████████████████████████████████████████████████████          | 1044/1201 [3:57:28<36:02, 13.77s/it]"
     ]
    },
    {
     "name": "stdout",
     "output_type": "stream",
     "text": [
      "Collected 256 tweets at 2022-12-20.\n",
      "Running twitter query: \"(#covid) lang:en until:2022-12-22 since:2022-12-21\"\n"
     ]
    },
    {
     "name": "stderr",
     "output_type": "stream",
     "text": [
      "\r",
      " 87%|██████████████████████████████████████████████████████████████████▏         | 1045/1201 [3:57:43<36:18, 13.96s/it]"
     ]
    },
    {
     "name": "stdout",
     "output_type": "stream",
     "text": [
      "Collected 256 tweets at 2022-12-21.\n",
      "Running twitter query: \"(#covid) lang:en until:2022-12-23 since:2022-12-22\"\n"
     ]
    },
    {
     "name": "stderr",
     "output_type": "stream",
     "text": [
      "Unavailable user in card on tweet 1606049601693224962\n",
      "User 1411470135496298499 not found in user refs in card on tweet 1606049601693224962\n",
      " 87%|██████████████████████████████████████████████████████████████████▏         | 1046/1201 [3:57:56<35:04, 13.58s/it]"
     ]
    },
    {
     "name": "stdout",
     "output_type": "stream",
     "text": [
      "Collected 256 tweets at 2022-12-22.\n",
      "Running twitter query: \"(#covid) lang:en until:2022-12-24 since:2022-12-23\"\n"
     ]
    },
    {
     "name": "stderr",
     "output_type": "stream",
     "text": [
      "\r",
      " 87%|██████████████████████████████████████████████████████████████████▎         | 1047/1201 [3:58:09<34:36, 13.48s/it]"
     ]
    },
    {
     "name": "stdout",
     "output_type": "stream",
     "text": [
      "Collected 256 tweets at 2022-12-23.\n",
      "Running twitter query: \"(#covid) lang:en until:2022-12-25 since:2022-12-24\"\n"
     ]
    },
    {
     "name": "stderr",
     "output_type": "stream",
     "text": [
      "\r",
      " 87%|██████████████████████████████████████████████████████████████████▎         | 1048/1201 [3:58:23<34:36, 13.57s/it]"
     ]
    },
    {
     "name": "stdout",
     "output_type": "stream",
     "text": [
      "Collected 256 tweets at 2022-12-24.\n",
      "Running twitter query: \"(#covid) lang:en until:2022-12-26 since:2022-12-25\"\n"
     ]
    },
    {
     "name": "stderr",
     "output_type": "stream",
     "text": [
      "\r",
      " 87%|██████████████████████████████████████████████████████████████████▍         | 1049/1201 [3:58:37<34:47, 13.73s/it]"
     ]
    },
    {
     "name": "stdout",
     "output_type": "stream",
     "text": [
      "Collected 256 tweets at 2022-12-25.\n",
      "Running twitter query: \"(#covid) lang:en until:2022-12-27 since:2022-12-26\"\n"
     ]
    },
    {
     "name": "stderr",
     "output_type": "stream",
     "text": [
      "\r",
      " 87%|██████████████████████████████████████████████████████████████████▍         | 1050/1201 [3:58:51<35:20, 14.04s/it]"
     ]
    },
    {
     "name": "stdout",
     "output_type": "stream",
     "text": [
      "Collected 256 tweets at 2022-12-26.\n",
      "Running twitter query: \"(#covid) lang:en until:2022-12-28 since:2022-12-27\"\n"
     ]
    },
    {
     "name": "stderr",
     "output_type": "stream",
     "text": [
      "\r",
      " 88%|██████████████████████████████████████████████████████████████████▌         | 1051/1201 [3:59:07<36:27, 14.58s/it]"
     ]
    },
    {
     "name": "stdout",
     "output_type": "stream",
     "text": [
      "Collected 256 tweets at 2022-12-27.\n",
      "Running twitter query: \"(#covid) lang:en until:2022-12-29 since:2022-12-28\"\n"
     ]
    },
    {
     "name": "stderr",
     "output_type": "stream",
     "text": [
      "Stopping after 20 empty pages\n",
      " 88%|██████████████████████████████████████████████████████████████████▌         | 1052/1201 [3:59:17<32:29, 13.09s/it]"
     ]
    },
    {
     "name": "stdout",
     "output_type": "stream",
     "text": [
      "Collected 27 tweets at 2022-12-28.\n",
      "Running twitter query: \"(#covid) lang:en until:2022-12-30 since:2022-12-29\"\n"
     ]
    },
    {
     "name": "stderr",
     "output_type": "stream",
     "text": [
      "Stopping after 20 empty pages\n",
      " 88%|██████████████████████████████████████████████████████████████████▋         | 1053/1201 [3:59:30<32:10, 13.04s/it]"
     ]
    },
    {
     "name": "stdout",
     "output_type": "stream",
     "text": [
      "Collected 95 tweets at 2022-12-29.\n",
      "Running twitter query: \"(#covid) lang:en until:2022-12-31 since:2022-12-30\"\n"
     ]
    },
    {
     "name": "stderr",
     "output_type": "stream",
     "text": [
      "Unavailable user in card on tweet 1608971991872319489\n",
      "Unavailable user in card on tweet 1608971991872319489\n",
      "User 15843059 not found in user refs in card on tweet 1608971991872319489\n",
      "User 15843059 not found in user refs in card on tweet 1608971991872319489\n",
      "Unavailable user in card on tweet 1608940776775626752\n",
      "Unavailable user in card on tweet 1608940776775626752\n",
      "User 1547577412111609859 not found in user refs in card on tweet 1608940776775626752\n",
      "User 1547577412111609859 not found in user refs in card on tweet 1608940776775626752\n",
      " 88%|██████████████████████████████████████████████████████████████████▋         | 1054/1201 [3:59:52<38:35, 15.75s/it]"
     ]
    },
    {
     "name": "stdout",
     "output_type": "stream",
     "text": [
      "Collected 256 tweets at 2022-12-30.\n",
      "Running twitter query: \"(#covid) lang:en until:2023-01-01 since:2022-12-31\"\n"
     ]
    },
    {
     "name": "stderr",
     "output_type": "stream",
     "text": [
      "\r",
      " 88%|██████████████████████████████████████████████████████████████████▊         | 1055/1201 [4:00:06<37:14, 15.31s/it]"
     ]
    },
    {
     "name": "stdout",
     "output_type": "stream",
     "text": [
      "Collected 256 tweets at 2022-12-31.\n",
      "Saving 7548 tweets at 2022-12.\n",
      "Running twitter query: \"(#covid) lang:en until:2023-01-02 since:2023-01-01\"\n"
     ]
    },
    {
     "name": "stderr",
     "output_type": "stream",
     "text": [
      "Unavailable user in card on tweet 1609652939198529538\n",
      "Unavailable user in card on tweet 1609652939198529538\n",
      "User 15843059 not found in user refs in card on tweet 1609652939198529538\n",
      "User 15843059 not found in user refs in card on tweet 1609652939198529538\n",
      " 88%|██████████████████████████████████████████████████████████████████▊         | 1056/1201 [4:00:19<34:58, 14.47s/it]"
     ]
    },
    {
     "name": "stdout",
     "output_type": "stream",
     "text": [
      "Collected 256 tweets at 2023-01-01.\n",
      "Running twitter query: \"(#covid) lang:en until:2023-01-03 since:2023-01-02\"\n"
     ]
    },
    {
     "name": "stderr",
     "output_type": "stream",
     "text": [
      "Empty user ref object in card on tweet 1610026907927740416\n",
      "Empty user ref object in card on tweet 1610026907927740416\n",
      "User 873939764876943363 not found in user refs in card on tweet 1610026907927740416\n",
      "User 873939764876943363 not found in user refs in card on tweet 1610026907927740416\n",
      " 88%|██████████████████████████████████████████████████████████████████▉         | 1057/1201 [4:00:31<33:04, 13.78s/it]"
     ]
    },
    {
     "name": "stdout",
     "output_type": "stream",
     "text": [
      "Collected 256 tweets at 2023-01-02.\n",
      "Running twitter query: \"(#covid) lang:en until:2023-01-04 since:2023-01-03\"\n"
     ]
    },
    {
     "name": "stderr",
     "output_type": "stream",
     "text": [
      "\r",
      " 88%|██████████████████████████████████████████████████████████████████▉         | 1058/1201 [4:00:43<31:38, 13.28s/it]"
     ]
    },
    {
     "name": "stdout",
     "output_type": "stream",
     "text": [
      "Collected 256 tweets at 2023-01-03.\n",
      "Running twitter query: \"(#covid) lang:en until:2023-01-05 since:2023-01-04\"\n"
     ]
    },
    {
     "name": "stderr",
     "output_type": "stream",
     "text": [
      "Unavailable user in card on tweet 1610763939863793679\n",
      "User 1434052940 not found in user refs in card on tweet 1610763939863793679\n",
      " 88%|███████████████████████████████████████████████████████████████████         | 1059/1201 [4:00:55<30:52, 13.05s/it]"
     ]
    },
    {
     "name": "stdout",
     "output_type": "stream",
     "text": [
      "Collected 256 tweets at 2023-01-04.\n",
      "Running twitter query: \"(#covid) lang:en until:2023-01-06 since:2023-01-05\"\n"
     ]
    },
    {
     "name": "stderr",
     "output_type": "stream",
     "text": [
      "Unavailable user in card on tweet 1611148740609597440\n",
      "Unavailable user in card on tweet 1611148740609597440\n",
      "User 15843059 not found in user refs in card on tweet 1611148740609597440\n",
      "User 15843059 not found in user refs in card on tweet 1611148740609597440\n",
      " 88%|███████████████████████████████████████████████████████████████████         | 1060/1201 [4:01:08<30:08, 12.83s/it]"
     ]
    },
    {
     "name": "stdout",
     "output_type": "stream",
     "text": [
      "Collected 256 tweets at 2023-01-05.\n",
      "Running twitter query: \"(#covid) lang:en until:2023-01-07 since:2023-01-06\"\n"
     ]
    },
    {
     "name": "stderr",
     "output_type": "stream",
     "text": [
      "Empty user ref object in card on tweet 1611497001191079937\n",
      "Empty user ref object in card on tweet 1611497001191079937\n",
      "User 4503599629184530 not found in user refs in card on tweet 1611497001191079937\n",
      "User 4503599629184530 not found in user refs in card on tweet 1611497001191079937\n",
      " 88%|███████████████████████████████████████████████████████████████████▏        | 1061/1201 [4:01:20<29:22, 12.59s/it]"
     ]
    },
    {
     "name": "stdout",
     "output_type": "stream",
     "text": [
      "Collected 256 tweets at 2023-01-06.\n",
      "Running twitter query: \"(#covid) lang:en until:2023-01-08 since:2023-01-07\"\n"
     ]
    },
    {
     "name": "stderr",
     "output_type": "stream",
     "text": [
      "Empty user ref object in card on tweet 1611456486324187136\n",
      "Empty user ref object in card on tweet 1611456486324187136\n",
      "User 4503599629184530 not found in user refs in card on tweet 1611456486324187136\n",
      "User 4503599629184530 not found in user refs in card on tweet 1611456486324187136\n",
      " 88%|███████████████████████████████████████████████████████████████████▏        | 1062/1201 [4:01:32<28:43, 12.40s/it]"
     ]
    },
    {
     "name": "stdout",
     "output_type": "stream",
     "text": [
      "Collected 256 tweets at 2023-01-07.\n",
      "Running twitter query: \"(#covid) lang:en until:2023-01-09 since:2023-01-08\"\n"
     ]
    },
    {
     "name": "stderr",
     "output_type": "stream",
     "text": [
      "\r",
      " 89%|███████████████████████████████████████████████████████████████████▎        | 1063/1201 [4:01:44<28:43, 12.49s/it]"
     ]
    },
    {
     "name": "stdout",
     "output_type": "stream",
     "text": [
      "Collected 256 tweets at 2023-01-08.\n",
      "Running twitter query: \"(#covid) lang:en until:2023-01-10 since:2023-01-09\"\n"
     ]
    },
    {
     "name": "stderr",
     "output_type": "stream",
     "text": [
      "Unavailable user in card on tweet 1612587928873586704\n",
      "Unavailable user in card on tweet 1612587928873586704\n",
      "User 15843059 not found in user refs in card on tweet 1612587928873586704\n",
      "User 15843059 not found in user refs in card on tweet 1612587928873586704\n",
      "Unavailable user in card on tweet 1612587071553826816\n",
      "User 1434052940 not found in user refs in card on tweet 1612587071553826816\n",
      " 89%|███████████████████████████████████████████████████████████████████▎        | 1064/1201 [4:01:57<28:21, 12.42s/it]"
     ]
    },
    {
     "name": "stdout",
     "output_type": "stream",
     "text": [
      "Collected 256 tweets at 2023-01-09.\n",
      "Running twitter query: \"(#covid) lang:en until:2023-01-11 since:2023-01-10\"\n"
     ]
    },
    {
     "name": "stderr",
     "output_type": "stream",
     "text": [
      "\r",
      " 89%|███████████████████████████████████████████████████████████████████▍        | 1065/1201 [4:02:12<29:54, 13.19s/it]"
     ]
    },
    {
     "name": "stdout",
     "output_type": "stream",
     "text": [
      "Collected 256 tweets at 2023-01-10.\n",
      "Running twitter query: \"(#covid) lang:en until:2023-01-12 since:2023-01-11\"\n"
     ]
    },
    {
     "name": "stderr",
     "output_type": "stream",
     "text": [
      "Unavailable user in card on tweet 1613318023632355328\n",
      "User 14204245 not found in user refs in card on tweet 1613318023632355328\n",
      "Unavailable user in card on tweet 1613302428627271694\n",
      "Unavailable user in card on tweet 1613302428627271694\n",
      "User 1300645273 not found in user refs in card on tweet 1613302428627271694\n",
      "User 1300645273 not found in user refs in card on tweet 1613302428627271694\n",
      "Unavailable user in card on tweet 1613277863100416002\n",
      "Unavailable user in card on tweet 1613277863100416002\n",
      "User 1422427329620439043 not found in user refs in card on tweet 1613277863100416002\n",
      "User 1422427329620439043 not found in user refs in card on tweet 1613277863100416002\n",
      " 89%|███████████████████████████████████████████████████████████████████▍        | 1066/1201 [4:02:24<29:23, 13.06s/it]"
     ]
    },
    {
     "name": "stdout",
     "output_type": "stream",
     "text": [
      "Collected 256 tweets at 2023-01-11.\n",
      "Running twitter query: \"(#covid) lang:en until:2023-01-13 since:2023-01-12\"\n"
     ]
    },
    {
     "name": "stderr",
     "output_type": "stream",
     "text": [
      "\r",
      " 89%|███████████████████████████████████████████████████████████████████▌        | 1067/1201 [4:02:35<27:46, 12.43s/it]"
     ]
    },
    {
     "name": "stdout",
     "output_type": "stream",
     "text": [
      "Collected 256 tweets at 2023-01-12.\n",
      "Running twitter query: \"(#covid) lang:en until:2023-01-14 since:2023-01-13\"\n"
     ]
    },
    {
     "name": "stderr",
     "output_type": "stream",
     "text": [
      "Unavailable user in card on tweet 1614030249649672192\n",
      "User 1300645273 not found in user refs in card on tweet 1614030249649672192\n",
      "Unavailable user in card on tweet 1614010656797216769\n",
      "User 1434052940 not found in user refs in card on tweet 1614010656797216769\n",
      " 89%|███████████████████████████████████████████████████████████████████▌        | 1068/1201 [4:02:48<27:55, 12.59s/it]"
     ]
    },
    {
     "name": "stdout",
     "output_type": "stream",
     "text": [
      "Collected 256 tweets at 2023-01-13.\n",
      "Running twitter query: \"(#covid) lang:en until:2023-01-15 since:2023-01-14\"\n"
     ]
    },
    {
     "name": "stderr",
     "output_type": "stream",
     "text": [
      "\r",
      " 89%|███████████████████████████████████████████████████████████████████▋        | 1069/1201 [4:03:00<27:20, 12.43s/it]"
     ]
    },
    {
     "name": "stdout",
     "output_type": "stream",
     "text": [
      "Collected 256 tweets at 2023-01-14.\n",
      "Running twitter query: \"(#covid) lang:en until:2023-01-16 since:2023-01-15\"\n"
     ]
    },
    {
     "name": "stderr",
     "output_type": "stream",
     "text": [
      "\r",
      " 89%|███████████████████████████████████████████████████████████████████▋        | 1070/1201 [4:03:13<27:30, 12.60s/it]"
     ]
    },
    {
     "name": "stdout",
     "output_type": "stream",
     "text": [
      "Collected 256 tweets at 2023-01-15.\n",
      "Running twitter query: \"(#covid) lang:en until:2023-01-17 since:2023-01-16\"\n"
     ]
    },
    {
     "name": "stderr",
     "output_type": "stream",
     "text": [
      "Unavailable user in card on tweet 1615100484888715265\n",
      "Unavailable user in card on tweet 1615100484888715265\n",
      "User 4698719701 not found in user refs in card on tweet 1615100484888715265\n",
      "User 4698719701 not found in user refs in card on tweet 1615100484888715265\n",
      " 89%|███████████████████████████████████████████████████████████████████▊        | 1071/1201 [4:03:26<27:31, 12.70s/it]"
     ]
    },
    {
     "name": "stdout",
     "output_type": "stream",
     "text": [
      "Collected 256 tweets at 2023-01-16.\n",
      "Running twitter query: \"(#covid) lang:en until:2023-01-18 since:2023-01-17\"\n"
     ]
    },
    {
     "name": "stderr",
     "output_type": "stream",
     "text": [
      "\r",
      " 89%|███████████████████████████████████████████████████████████████████▊        | 1072/1201 [4:03:40<27:54, 12.98s/it]"
     ]
    },
    {
     "name": "stdout",
     "output_type": "stream",
     "text": [
      "Collected 256 tweets at 2023-01-17.\n",
      "Running twitter query: \"(#covid) lang:en until:2023-01-19 since:2023-01-18\"\n"
     ]
    },
    {
     "name": "stderr",
     "output_type": "stream",
     "text": [
      "Empty user ref object in card on tweet 1615829897892569098\n",
      "User 899733078641225728 not found in user refs in card on tweet 1615829897892569098\n",
      " 89%|███████████████████████████████████████████████████████████████████▉        | 1073/1201 [4:03:53<27:44, 13.01s/it]"
     ]
    },
    {
     "name": "stdout",
     "output_type": "stream",
     "text": [
      "Collected 256 tweets at 2023-01-18.\n",
      "Running twitter query: \"(#covid) lang:en until:2023-01-20 since:2023-01-19\"\n"
     ]
    },
    {
     "name": "stderr",
     "output_type": "stream",
     "text": [
      "Unavailable user in card on tweet 1616206690051043328\n",
      "User 1434052940 not found in user refs in card on tweet 1616206690051043328\n",
      " 89%|███████████████████████████████████████████████████████████████████▉        | 1074/1201 [4:04:06<27:36, 13.04s/it]"
     ]
    },
    {
     "name": "stdout",
     "output_type": "stream",
     "text": [
      "Collected 256 tweets at 2023-01-19.\n",
      "Running twitter query: \"(#covid) lang:en until:2023-01-21 since:2023-01-20\"\n"
     ]
    },
    {
     "name": "stderr",
     "output_type": "stream",
     "text": [
      "Unavailable user in card on tweet 1616547333680005121\n",
      "Unavailable user in card on tweet 1616547333680005121\n",
      "User 1062915983294300160 not found in user refs in card on tweet 1616547333680005121\n",
      "User 1062915983294300160 not found in user refs in card on tweet 1616547333680005121\n",
      " 90%|████████████████████████████████████████████████████████████████████        | 1075/1201 [4:04:20<27:45, 13.22s/it]"
     ]
    },
    {
     "name": "stdout",
     "output_type": "stream",
     "text": [
      "Collected 256 tweets at 2023-01-20.\n",
      "Running twitter query: \"(#covid) lang:en until:2023-01-22 since:2023-01-21\"\n"
     ]
    },
    {
     "name": "stderr",
     "output_type": "stream",
     "text": [
      "\r",
      " 90%|████████████████████████████████████████████████████████████████████        | 1076/1201 [4:04:33<27:15, 13.09s/it]"
     ]
    },
    {
     "name": "stdout",
     "output_type": "stream",
     "text": [
      "Collected 256 tweets at 2023-01-21.\n",
      "Running twitter query: \"(#covid) lang:en until:2023-01-23 since:2023-01-22\"\n"
     ]
    },
    {
     "name": "stderr",
     "output_type": "stream",
     "text": [
      "Unavailable user in card on tweet 1617300540106366976\n",
      "User 17493180 not found in user refs in card on tweet 1617300540106366976\n",
      "Unavailable user in card on tweet 1617300374427148288\n",
      "User 17493180 not found in user refs in card on tweet 1617300374427148288\n",
      "Unavailable user in card on tweet 1617299891516235776\n",
      "User 17493180 not found in user refs in card on tweet 1617299891516235776\n",
      "Unavailable user in card on tweet 1617299712142639104\n",
      "User 17493180 not found in user refs in card on tweet 1617299712142639104\n",
      "Unavailable user in card on tweet 1617299396709736449\n",
      "User 17493180 not found in user refs in card on tweet 1617299396709736449\n",
      "Unavailable user in card on tweet 1617299239620542464\n",
      "User 17493180 not found in user refs in card on tweet 1617299239620542464\n",
      "Unavailable user in card on tweet 1617298743128113154\n",
      "User 17493180 not found in user refs in card on tweet 1617298743128113154\n",
      " 90%|████████████████████████████████████████████████████████████████████▏       | 1077/1201 [4:04:48<28:41, 13.88s/it]"
     ]
    },
    {
     "name": "stdout",
     "output_type": "stream",
     "text": [
      "Collected 256 tweets at 2023-01-22.\n",
      "Running twitter query: \"(#covid) lang:en until:2023-01-24 since:2023-01-23\"\n"
     ]
    },
    {
     "name": "stderr",
     "output_type": "stream",
     "text": [
      "Twitter responded with an error: TimeoutError: Timeout: Unspecified, TimeoutError: Timeout: Unspecified, TimeoutError: Timeout: Unspecified, TimeoutError: Timeout: Unspecified, TimeoutError: Timeout: Unspecified, TimeoutError: Timeout: Unspecified, TimeoutError: Timeout: Unspecified, TimeoutError: Timeout: Unspecified, TimeoutError: Timeout: Unspecified, TimeoutError: Timeout: Unspecified, TimeoutError: Timeout: Unspecified, TimeoutError: Timeout: Unspecified, TimeoutError: Timeout: Unspecified, TimeoutError: Timeout: Unspecified\n",
      " 90%|████████████████████████████████████████████████████████████████████▏       | 1078/1201 [4:05:03<29:08, 14.22s/it]"
     ]
    },
    {
     "name": "stdout",
     "output_type": "stream",
     "text": [
      "Collected 256 tweets at 2023-01-23.\n",
      "Running twitter query: \"(#covid) lang:en until:2023-01-25 since:2023-01-24\"\n"
     ]
    },
    {
     "name": "stderr",
     "output_type": "stream",
     "text": [
      "\r",
      " 90%|████████████████████████████████████████████████████████████████████▎       | 1079/1201 [4:05:18<29:08, 14.33s/it]"
     ]
    },
    {
     "name": "stdout",
     "output_type": "stream",
     "text": [
      "Collected 256 tweets at 2023-01-24.\n",
      "Running twitter query: \"(#covid) lang:en until:2023-01-26 since:2023-01-25\"\n"
     ]
    },
    {
     "name": "stderr",
     "output_type": "stream",
     "text": [
      "\r",
      " 90%|████████████████████████████████████████████████████████████████████▎       | 1080/1201 [4:05:32<28:56, 14.35s/it]"
     ]
    },
    {
     "name": "stdout",
     "output_type": "stream",
     "text": [
      "Collected 256 tweets at 2023-01-25.\n",
      "Running twitter query: \"(#covid) lang:en until:2023-01-27 since:2023-01-26\"\n"
     ]
    },
    {
     "name": "stderr",
     "output_type": "stream",
     "text": [
      "\r",
      " 90%|████████████████████████████████████████████████████████████████████▍       | 1081/1201 [4:05:47<28:56, 14.47s/it]"
     ]
    },
    {
     "name": "stdout",
     "output_type": "stream",
     "text": [
      "Collected 256 tweets at 2023-01-26.\n",
      "Running twitter query: \"(#covid) lang:en until:2023-01-28 since:2023-01-27\"\n"
     ]
    },
    {
     "name": "stderr",
     "output_type": "stream",
     "text": [
      "Unavailable user in card on tweet 1619101506413727748\n",
      "User 1434052940 not found in user refs in card on tweet 1619101506413727748\n",
      " 90%|████████████████████████████████████████████████████████████████████▍       | 1082/1201 [4:06:08<32:27, 16.37s/it]"
     ]
    },
    {
     "name": "stdout",
     "output_type": "stream",
     "text": [
      "Collected 256 tweets at 2023-01-27.\n",
      "Running twitter query: \"(#covid) lang:en until:2023-01-29 since:2023-01-28\"\n"
     ]
    },
    {
     "name": "stderr",
     "output_type": "stream",
     "text": [
      "\r",
      " 90%|████████████████████████████████████████████████████████████████████▌       | 1083/1201 [4:06:23<31:25, 15.98s/it]"
     ]
    },
    {
     "name": "stdout",
     "output_type": "stream",
     "text": [
      "Collected 256 tweets at 2023-01-28.\n",
      "Running twitter query: \"(#covid) lang:en until:2023-01-30 since:2023-01-29\"\n"
     ]
    },
    {
     "name": "stderr",
     "output_type": "stream",
     "text": [
      "Unavailable user in card on tweet 1619835663465222145\n",
      "Unavailable user in card on tweet 1619835663465222145\n",
      "User 1062915983294300160 not found in user refs in card on tweet 1619835663465222145\n",
      "User 1062915983294300160 not found in user refs in card on tweet 1619835663465222145\n",
      " 90%|████████████████████████████████████████████████████████████████████▌       | 1084/1201 [4:06:38<30:34, 15.68s/it]"
     ]
    },
    {
     "name": "stdout",
     "output_type": "stream",
     "text": [
      "Collected 256 tweets at 2023-01-29.\n",
      "Running twitter query: \"(#covid) lang:en until:2023-01-31 since:2023-01-30\"\n"
     ]
    },
    {
     "name": "stderr",
     "output_type": "stream",
     "text": [
      "\r",
      " 90%|████████████████████████████████████████████████████████████████████▋       | 1085/1201 [4:06:53<29:53, 15.46s/it]"
     ]
    },
    {
     "name": "stdout",
     "output_type": "stream",
     "text": [
      "Collected 256 tweets at 2023-01-30.\n",
      "Running twitter query: \"(#covid) lang:en until:2023-02-01 since:2023-01-31\"\n"
     ]
    },
    {
     "name": "stderr",
     "output_type": "stream",
     "text": [
      "\r",
      " 90%|████████████████████████████████████████████████████████████████████▋       | 1086/1201 [4:07:08<29:19, 15.30s/it]"
     ]
    },
    {
     "name": "stdout",
     "output_type": "stream",
     "text": [
      "Collected 256 tweets at 2023-01-31.\n",
      "Saving 7936 tweets at 2023-01.\n",
      "Running twitter query: \"(#covid) lang:en until:2023-02-02 since:2023-02-01\"\n"
     ]
    },
    {
     "name": "stderr",
     "output_type": "stream",
     "text": [
      "Unavailable user in card on tweet 1620921714153758720\n",
      "User 3562471 not found in user refs in card on tweet 1620921714153758720\n",
      " 91%|████████████████████████████████████████████████████████████████████▊       | 1087/1201 [4:07:20<27:32, 14.50s/it]"
     ]
    },
    {
     "name": "stdout",
     "output_type": "stream",
     "text": [
      "Collected 256 tweets at 2023-02-01.\n",
      "Running twitter query: \"(#covid) lang:en until:2023-02-03 since:2023-02-02\"\n"
     ]
    },
    {
     "name": "stderr",
     "output_type": "stream",
     "text": [
      "\r",
      " 91%|████████████████████████████████████████████████████████████████████▊       | 1088/1201 [4:07:35<27:24, 14.55s/it]"
     ]
    },
    {
     "name": "stdout",
     "output_type": "stream",
     "text": [
      "Collected 256 tweets at 2023-02-02.\n",
      "Running twitter query: \"(#covid) lang:en until:2023-02-04 since:2023-02-03\"\n"
     ]
    },
    {
     "name": "stderr",
     "output_type": "stream",
     "text": [
      "Unavailable user in card on tweet 1621621160810012677\n",
      "Unavailable user in card on tweet 1621621160810012677\n",
      "User 15843059 not found in user refs in card on tweet 1621621160810012677\n",
      "User 15843059 not found in user refs in card on tweet 1621621160810012677\n",
      "Unavailable user in card on tweet 1621616149300404226\n",
      "User 1434052940 not found in user refs in card on tweet 1621616149300404226\n",
      " 91%|████████████████████████████████████████████████████████████████████▉       | 1089/1201 [4:07:49<26:51, 14.39s/it]"
     ]
    },
    {
     "name": "stdout",
     "output_type": "stream",
     "text": [
      "Collected 256 tweets at 2023-02-03.\n",
      "Running twitter query: \"(#covid) lang:en until:2023-02-05 since:2023-02-04\"\n"
     ]
    },
    {
     "name": "stderr",
     "output_type": "stream",
     "text": [
      "\r",
      " 91%|████████████████████████████████████████████████████████████████████▉       | 1090/1201 [4:08:01<25:24, 13.73s/it]"
     ]
    },
    {
     "name": "stdout",
     "output_type": "stream",
     "text": [
      "Collected 256 tweets at 2023-02-04.\n",
      "Running twitter query: \"(#covid) lang:en until:2023-02-06 since:2023-02-05\"\n"
     ]
    },
    {
     "name": "stderr",
     "output_type": "stream",
     "text": [
      "Unavailable user in card on tweet 1622334909627899905\n",
      "User 1343341123251519488 not found in user refs in card on tweet 1622334909627899905\n",
      " 91%|█████████████████████████████████████████████████████████████████████       | 1091/1201 [4:08:13<24:15, 13.23s/it]"
     ]
    },
    {
     "name": "stdout",
     "output_type": "stream",
     "text": [
      "Collected 256 tweets at 2023-02-05.\n",
      "Running twitter query: \"(#covid) lang:en until:2023-02-07 since:2023-02-06\"\n"
     ]
    },
    {
     "name": "stderr",
     "output_type": "stream",
     "text": [
      "Unavailable user in card on tweet 1622723741187813376\n",
      "User 1240203163 not found in user refs in card on tweet 1622723741187813376\n",
      "Unavailable user in card on tweet 1622723740097294336\n",
      "User 1240203163 not found in user refs in card on tweet 1622723740097294336\n",
      "Unavailable user in card on tweet 1622717018653818885\n",
      "User 1434052940 not found in user refs in card on tweet 1622717018653818885\n",
      " 91%|█████████████████████████████████████████████████████████████████████       | 1092/1201 [4:08:32<26:55, 14.82s/it]"
     ]
    },
    {
     "name": "stdout",
     "output_type": "stream",
     "text": [
      "Collected 256 tweets at 2023-02-06.\n",
      "Running twitter query: \"(#covid) lang:en until:2023-02-08 since:2023-02-07\"\n"
     ]
    },
    {
     "name": "stderr",
     "output_type": "stream",
     "text": [
      "Unavailable user in card on tweet 1623071544544034820\n",
      "Unavailable user in card on tweet 1623071544544034820\n",
      "User 58125662 not found in user refs in card on tweet 1623071544544034820\n",
      "User 58125662 not found in user refs in card on tweet 1623071544544034820\n",
      "Unavailable user in card on tweet 1623064119266930695\n",
      "User 1434052940 not found in user refs in card on tweet 1623064119266930695\n",
      " 91%|█████████████████████████████████████████████████████████████████████▏      | 1093/1201 [4:08:44<25:02, 13.91s/it]"
     ]
    },
    {
     "name": "stdout",
     "output_type": "stream",
     "text": [
      "Collected 256 tweets at 2023-02-07.\n",
      "Running twitter query: \"(#covid) lang:en until:2023-02-09 since:2023-02-08\"\n"
     ]
    },
    {
     "name": "stderr",
     "output_type": "stream",
     "text": [
      "Unavailable user in card on tweet 1623418540626792452\n",
      "Unavailable user in card on tweet 1623418540626792452\n",
      "User 15843059 not found in user refs in card on tweet 1623418540626792452\n",
      "User 15843059 not found in user refs in card on tweet 1623418540626792452\n",
      " 91%|█████████████████████████████████████████████████████████████████████▏      | 1094/1201 [4:08:56<24:03, 13.49s/it]"
     ]
    },
    {
     "name": "stdout",
     "output_type": "stream",
     "text": [
      "Collected 256 tweets at 2023-02-08.\n",
      "Running twitter query: \"(#covid) lang:en until:2023-02-10 since:2023-02-09\"\n"
     ]
    },
    {
     "name": "stderr",
     "output_type": "stream",
     "text": [
      "Unavailable user in card on tweet 1623775583921442818\n",
      "User 1343341123251519488 not found in user refs in card on tweet 1623775583921442818\n",
      " 91%|█████████████████████████████████████████████████████████████████████▎      | 1095/1201 [4:09:08<23:01, 13.03s/it]"
     ]
    },
    {
     "name": "stdout",
     "output_type": "stream",
     "text": [
      "Collected 256 tweets at 2023-02-09.\n",
      "Running twitter query: \"(#covid) lang:en until:2023-02-11 since:2023-02-10\"\n"
     ]
    },
    {
     "name": "stderr",
     "output_type": "stream",
     "text": [
      "Unavailable user in card on tweet 1624163015594545152\n",
      "Unavailable user in card on tweet 1624163015594545152\n",
      "User 15843059 not found in user refs in card on tweet 1624163015594545152\n",
      "User 15843059 not found in user refs in card on tweet 1624163015594545152\n",
      "Could not translate t.co card URL on tweet 1624146899056951298\n",
      " 91%|█████████████████████████████████████████████████████████████████████▎      | 1096/1201 [4:09:20<22:21, 12.78s/it]"
     ]
    },
    {
     "name": "stdout",
     "output_type": "stream",
     "text": [
      "Collected 256 tweets at 2023-02-10.\n",
      "Running twitter query: \"(#covid) lang:en until:2023-02-12 since:2023-02-11\"\n"
     ]
    },
    {
     "name": "stderr",
     "output_type": "stream",
     "text": [
      "Unavailable user in card on tweet 1624498185161826305\n",
      "Unavailable user in card on tweet 1624498185161826305\n",
      "User 1062915983294300160 not found in user refs in card on tweet 1624498185161826305\n",
      "User 1062915983294300160 not found in user refs in card on tweet 1624498185161826305\n",
      " 91%|█████████████████████████████████████████████████████████████████████▍      | 1097/1201 [4:09:33<22:02, 12.72s/it]"
     ]
    },
    {
     "name": "stdout",
     "output_type": "stream",
     "text": [
      "Collected 256 tweets at 2023-02-11.\n",
      "Running twitter query: \"(#covid) lang:en until:2023-02-13 since:2023-02-12\"\n"
     ]
    },
    {
     "name": "stderr",
     "output_type": "stream",
     "text": [
      "\r",
      " 91%|█████████████████████████████████████████████████████████████████████▍      | 1098/1201 [4:09:45<21:40, 12.62s/it]"
     ]
    },
    {
     "name": "stdout",
     "output_type": "stream",
     "text": [
      "Collected 256 tweets at 2023-02-12.\n",
      "Running twitter query: \"(#covid) lang:en until:2023-02-14 since:2023-02-13\"\n"
     ]
    },
    {
     "name": "stderr",
     "output_type": "stream",
     "text": [
      "Could not translate t.co card URL on tweet 1625243310788050945\n",
      " 92%|█████████████████████████████████████████████████████████████████████▌      | 1099/1201 [4:09:58<21:21, 12.56s/it]"
     ]
    },
    {
     "name": "stdout",
     "output_type": "stream",
     "text": [
      "Collected 256 tweets at 2023-02-13.\n",
      "Running twitter query: \"(#covid) lang:en until:2023-02-15 since:2023-02-14\"\n"
     ]
    },
    {
     "name": "stderr",
     "output_type": "stream",
     "text": [
      "\r",
      " 92%|█████████████████████████████████████████████████████████████████████▌      | 1100/1201 [4:10:11<21:28, 12.76s/it]"
     ]
    },
    {
     "name": "stdout",
     "output_type": "stream",
     "text": [
      "Collected 256 tweets at 2023-02-14.\n",
      "Running twitter query: \"(#covid) lang:en until:2023-02-16 since:2023-02-15\"\n"
     ]
    },
    {
     "name": "stderr",
     "output_type": "stream",
     "text": [
      "Unavailable user in card on tweet 1626001568599343104\n",
      "Unavailable user in card on tweet 1626001568599343104\n",
      "User 76227785 not found in user refs in card on tweet 1626001568599343104\n",
      "User 76227785 not found in user refs in card on tweet 1626001568599343104\n",
      " 92%|█████████████████████████████████████████████████████████████████████▋      | 1101/1201 [4:10:26<22:18, 13.38s/it]"
     ]
    },
    {
     "name": "stdout",
     "output_type": "stream",
     "text": [
      "Collected 256 tweets at 2023-02-15.\n",
      "Running twitter query: \"(#covid) lang:en until:2023-02-17 since:2023-02-16\"\n"
     ]
    },
    {
     "name": "stderr",
     "output_type": "stream",
     "text": [
      "Could not translate t.co card URL on tweet 1626333871913459713\n",
      " 92%|█████████████████████████████████████████████████████████████████████▋      | 1102/1201 [4:10:39<21:51, 13.25s/it]"
     ]
    },
    {
     "name": "stdout",
     "output_type": "stream",
     "text": [
      "Collected 256 tweets at 2023-02-16.\n",
      "Running twitter query: \"(#covid) lang:en until:2023-02-18 since:2023-02-17\"\n"
     ]
    },
    {
     "name": "stderr",
     "output_type": "stream",
     "text": [
      "Empty user ref object in card on tweet 1626657009499258880\n",
      "Empty user ref object in card on tweet 1626657009499258880\n",
      "User 4503599629184530 not found in user refs in card on tweet 1626657009499258880\n",
      "User 4503599629184530 not found in user refs in card on tweet 1626657009499258880\n",
      " 92%|█████████████████████████████████████████████████████████████████████▊      | 1103/1201 [4:10:52<21:28, 13.15s/it]"
     ]
    },
    {
     "name": "stdout",
     "output_type": "stream",
     "text": [
      "Collected 256 tweets at 2023-02-17.\n",
      "Running twitter query: \"(#covid) lang:en until:2023-02-19 since:2023-02-18\"\n"
     ]
    },
    {
     "name": "stderr",
     "output_type": "stream",
     "text": [
      "Unavailable user in card on tweet 1627039302369832960\n",
      "Unavailable user in card on tweet 1627039302369832960\n",
      "User 15843059 not found in user refs in card on tweet 1627039302369832960\n",
      "User 15843059 not found in user refs in card on tweet 1627039302369832960\n",
      " 92%|█████████████████████████████████████████████████████████████████████▊      | 1104/1201 [4:11:05<21:12, 13.12s/it]"
     ]
    },
    {
     "name": "stdout",
     "output_type": "stream",
     "text": [
      "Collected 256 tweets at 2023-02-18.\n",
      "Running twitter query: \"(#covid) lang:en until:2023-02-20 since:2023-02-19\"\n"
     ]
    },
    {
     "name": "stderr",
     "output_type": "stream",
     "text": [
      "\r",
      " 92%|█████████████████████████████████████████████████████████████████████▉      | 1105/1201 [4:11:18<20:57, 13.10s/it]"
     ]
    },
    {
     "name": "stdout",
     "output_type": "stream",
     "text": [
      "Collected 256 tweets at 2023-02-19.\n",
      "Running twitter query: \"(#covid) lang:en until:2023-02-21 since:2023-02-20\"\n"
     ]
    },
    {
     "name": "stderr",
     "output_type": "stream",
     "text": [
      "Unavailable user in card on tweet 1627741402716155904\n",
      "User 64459082 not found in user refs in card on tweet 1627741402716155904\n",
      " 92%|█████████████████████████████████████████████████████████████████████▉      | 1106/1201 [4:11:30<20:32, 12.97s/it]"
     ]
    },
    {
     "name": "stdout",
     "output_type": "stream",
     "text": [
      "Collected 256 tweets at 2023-02-20.\n",
      "Running twitter query: \"(#covid) lang:en until:2023-02-22 since:2023-02-21\"\n"
     ]
    },
    {
     "name": "stderr",
     "output_type": "stream",
     "text": [
      "\r",
      " 92%|██████████████████████████████████████████████████████████████████████      | 1107/1201 [4:11:44<20:24, 13.03s/it]"
     ]
    },
    {
     "name": "stdout",
     "output_type": "stream",
     "text": [
      "Collected 256 tweets at 2023-02-21.\n",
      "Running twitter query: \"(#covid) lang:en until:2023-02-23 since:2023-02-22\"\n"
     ]
    },
    {
     "name": "stderr",
     "output_type": "stream",
     "text": [
      "Stopping after 20 empty pages\n",
      " 92%|██████████████████████████████████████████████████████████████████████      | 1108/1201 [4:11:55<19:31, 12.60s/it]"
     ]
    },
    {
     "name": "stdout",
     "output_type": "stream",
     "text": [
      "Collected 82 tweets at 2023-02-22.\n",
      "Running twitter query: \"(#covid) lang:en until:2023-02-24 since:2023-02-23\"\n"
     ]
    },
    {
     "name": "stderr",
     "output_type": "stream",
     "text": [
      "Could not translate t.co card URL on tweet 1628897204747350018\n",
      " 92%|██████████████████████████████████████████████████████████████████████▏     | 1109/1201 [4:12:10<20:22, 13.29s/it]"
     ]
    },
    {
     "name": "stdout",
     "output_type": "stream",
     "text": [
      "Collected 256 tweets at 2023-02-23.\n",
      "Running twitter query: \"(#covid) lang:en until:2023-02-25 since:2023-02-24\"\n"
     ]
    },
    {
     "name": "stderr",
     "output_type": "stream",
     "text": [
      "\r",
      " 92%|██████████████████████████████████████████████████████████████████████▏     | 1110/1201 [4:12:24<20:18, 13.39s/it]"
     ]
    },
    {
     "name": "stdout",
     "output_type": "stream",
     "text": [
      "Collected 256 tweets at 2023-02-24.\n",
      "Running twitter query: \"(#covid) lang:en until:2023-02-26 since:2023-02-25\"\n"
     ]
    },
    {
     "name": "stderr",
     "output_type": "stream",
     "text": [
      "Could not translate t.co card URL on tweet 1629548708512636928\n",
      " 93%|██████████████████████████████████████████████████████████████████████▎     | 1111/1201 [4:12:38<20:21, 13.58s/it]"
     ]
    },
    {
     "name": "stdout",
     "output_type": "stream",
     "text": [
      "Collected 256 tweets at 2023-02-25.\n",
      "Running twitter query: \"(#covid) lang:en until:2023-02-27 since:2023-02-26\"\n"
     ]
    },
    {
     "name": "stderr",
     "output_type": "stream",
     "text": [
      "Unavailable user in card on tweet 1629963093903044608\n",
      "User 14204245 not found in user refs in card on tweet 1629963093903044608\n",
      " 93%|██████████████████████████████████████████████████████████████████████▎     | 1112/1201 [4:12:54<21:21, 14.40s/it]"
     ]
    },
    {
     "name": "stdout",
     "output_type": "stream",
     "text": [
      "Collected 256 tweets at 2023-02-26.\n",
      "Running twitter query: \"(#covid) lang:en until:2023-02-28 since:2023-02-27\"\n"
     ]
    },
    {
     "name": "stderr",
     "output_type": "stream",
     "text": [
      "Unavailable user in card on tweet 1630353343737483265\n",
      "User 3562471 not found in user refs in card on tweet 1630353343737483265\n",
      " 93%|██████████████████████████████████████████████████████████████████████▍     | 1113/1201 [4:13:08<21:06, 14.39s/it]"
     ]
    },
    {
     "name": "stdout",
     "output_type": "stream",
     "text": [
      "Collected 256 tweets at 2023-02-27.\n",
      "Running twitter query: \"(#covid) lang:en until:2023-03-01 since:2023-02-28\"\n"
     ]
    },
    {
     "name": "stderr",
     "output_type": "stream",
     "text": [
      "Could not translate t.co card URL on tweet 1630664431645626368\n",
      " 93%|██████████████████████████████████████████████████████████████████████▍     | 1114/1201 [4:13:23<21:01, 14.50s/it]"
     ]
    },
    {
     "name": "stdout",
     "output_type": "stream",
     "text": [
      "Collected 256 tweets at 2023-02-28.\n",
      "Saving 6995 tweets at 2023-02.\n",
      "Running twitter query: \"(#covid) lang:en until:2023-03-02 since:2023-03-01\"\n"
     ]
    },
    {
     "name": "stderr",
     "output_type": "stream",
     "text": [
      "\r",
      " 93%|██████████████████████████████████████████████████████████████████████▌     | 1115/1201 [4:13:35<19:40, 13.72s/it]"
     ]
    },
    {
     "name": "stdout",
     "output_type": "stream",
     "text": [
      "Collected 256 tweets at 2023-03-01.\n",
      "Running twitter query: \"(#covid) lang:en until:2023-03-03 since:2023-03-02\"\n"
     ]
    },
    {
     "name": "stderr",
     "output_type": "stream",
     "text": [
      "\r",
      " 93%|██████████████████████████████████████████████████████████████████████▌     | 1116/1201 [4:13:47<18:34, 13.11s/it]"
     ]
    },
    {
     "name": "stdout",
     "output_type": "stream",
     "text": [
      "Collected 256 tweets at 2023-03-02.\n",
      "Running twitter query: \"(#covid) lang:en until:2023-03-04 since:2023-03-03\"\n"
     ]
    },
    {
     "name": "stderr",
     "output_type": "stream",
     "text": [
      "Could not translate t.co card URL on tweet 1631781749163188234\n",
      "Unavailable user in card on tweet 1631776897892794369\n",
      "Unavailable user in card on tweet 1631776897892794369\n",
      "User 15843059 not found in user refs in card on tweet 1631776897892794369\n",
      "User 15843059 not found in user refs in card on tweet 1631776897892794369\n",
      " 93%|██████████████████████████████████████████████████████████████████████▋     | 1117/1201 [4:13:58<17:45, 12.69s/it]"
     ]
    },
    {
     "name": "stdout",
     "output_type": "stream",
     "text": [
      "Collected 256 tweets at 2023-03-03.\n",
      "Running twitter query: \"(#covid) lang:en until:2023-03-05 since:2023-03-04\"\n"
     ]
    },
    {
     "name": "stderr",
     "output_type": "stream",
     "text": [
      "Unavailable user in card on tweet 1632130263689101312\n",
      "User 3562471 not found in user refs in card on tweet 1632130263689101312\n",
      " 93%|██████████████████████████████████████████████████████████████████████▋     | 1118/1201 [4:14:11<17:21, 12.55s/it]"
     ]
    },
    {
     "name": "stdout",
     "output_type": "stream",
     "text": [
      "Collected 256 tweets at 2023-03-04.\n",
      "Running twitter query: \"(#covid) lang:en until:2023-03-06 since:2023-03-05\"\n"
     ]
    },
    {
     "name": "stderr",
     "output_type": "stream",
     "text": [
      "Unavailable user in card on tweet 1632509449456812032\n",
      "User 14204245 not found in user refs in card on tweet 1632509449456812032\n",
      "Could not translate t.co card URL on tweet 1632507890593570816\n",
      "Could not translate t.co card URL on tweet 1632416739060334594\n",
      "Unavailable user in card on tweet 1632487723071156227\n",
      "Unavailable user in card on tweet 1632487723071156227\n",
      "User 1062915983294300160 not found in user refs in card on tweet 1632487723071156227\n",
      "User 1062915983294300160 not found in user refs in card on tweet 1632487723071156227\n",
      "Could not translate t.co card URL on tweet 1632481711350222853\n",
      "Could not translate t.co card URL on tweet 1632461546432626689\n",
      " 93%|██████████████████████████████████████████████████████████████████████▊     | 1119/1201 [4:14:23<17:07, 12.52s/it]"
     ]
    },
    {
     "name": "stdout",
     "output_type": "stream",
     "text": [
      "Collected 256 tweets at 2023-03-05.\n",
      "Running twitter query: \"(#covid) lang:en until:2023-03-07 since:2023-03-06\"\n"
     ]
    },
    {
     "name": "stderr",
     "output_type": "stream",
     "text": [
      "Unavailable user in card on tweet 1632857897020301322\n",
      "Unavailable user in card on tweet 1632857897020301322\n",
      "User 15843059 not found in user refs in card on tweet 1632857897020301322\n",
      "User 15843059 not found in user refs in card on tweet 1632857897020301322\n",
      " 93%|██████████████████████████████████████████████████████████████████████▊     | 1120/1201 [4:14:36<16:52, 12.50s/it]"
     ]
    },
    {
     "name": "stdout",
     "output_type": "stream",
     "text": [
      "Collected 256 tweets at 2023-03-06.\n",
      "Running twitter query: \"(#covid) lang:en until:2023-03-08 since:2023-03-07\"\n"
     ]
    },
    {
     "name": "stderr",
     "output_type": "stream",
     "text": [
      "\r",
      " 93%|██████████████████████████████████████████████████████████████████████▉     | 1121/1201 [4:14:48<16:28, 12.36s/it]"
     ]
    },
    {
     "name": "stdout",
     "output_type": "stream",
     "text": [
      "Collected 256 tweets at 2023-03-07.\n",
      "Running twitter query: \"(#covid) lang:en until:2023-03-09 since:2023-03-08\"\n"
     ]
    },
    {
     "name": "stderr",
     "output_type": "stream",
     "text": [
      "Empty user ref object in card on tweet 1633584637665759232\n",
      "Empty user ref object in card on tweet 1633584637665759232\n",
      "User 873939764876943363 not found in user refs in card on tweet 1633584637665759232\n",
      "User 873939764876943363 not found in user refs in card on tweet 1633584637665759232\n",
      " 93%|███████████████████████████████████████████████████████████████████████     | 1122/1201 [4:15:00<16:14, 12.34s/it]"
     ]
    },
    {
     "name": "stdout",
     "output_type": "stream",
     "text": [
      "Collected 256 tweets at 2023-03-08.\n",
      "Running twitter query: \"(#covid) lang:en until:2023-03-10 since:2023-03-09\"\n"
     ]
    },
    {
     "name": "stderr",
     "output_type": "stream",
     "text": [
      "Could not translate t.co card URL on tweet 1633968145101905920\n",
      " 94%|███████████████████████████████████████████████████████████████████████     | 1123/1201 [4:15:17<18:02, 13.88s/it]"
     ]
    },
    {
     "name": "stdout",
     "output_type": "stream",
     "text": [
      "Collected 256 tweets at 2023-03-09.\n",
      "Running twitter query: \"(#covid) lang:en until:2023-03-11 since:2023-03-10\"\n"
     ]
    },
    {
     "name": "stderr",
     "output_type": "stream",
     "text": [
      "Could not translate t.co card URL on tweet 1634293654667038720\n",
      "Unavailable user in card on tweet 1634202478768971778\n",
      "User 28550209 not found in user refs in card on tweet 1634202478768971778\n",
      " 94%|███████████████████████████████████████████████████████████████████████▏    | 1124/1201 [4:15:32<18:06, 14.11s/it]"
     ]
    },
    {
     "name": "stdout",
     "output_type": "stream",
     "text": [
      "Collected 256 tweets at 2023-03-10.\n",
      "Running twitter query: \"(#covid) lang:en until:2023-03-12 since:2023-03-11\"\n"
     ]
    },
    {
     "name": "stderr",
     "output_type": "stream",
     "text": [
      "Could not translate t.co card URL on tweet 1634314581878222849\n",
      "Could not translate t.co card URL on tweet 1634642484079783936\n",
      " 94%|███████████████████████████████████████████████████████████████████████▏    | 1125/1201 [4:15:44<17:01, 13.44s/it]"
     ]
    },
    {
     "name": "stdout",
     "output_type": "stream",
     "text": [
      "Collected 256 tweets at 2023-03-11.\n",
      "Running twitter query: \"(#covid) lang:en until:2023-03-13 since:2023-03-12\"\n"
     ]
    },
    {
     "name": "stderr",
     "output_type": "stream",
     "text": [
      "Could not translate t.co card URL on tweet 1635012915765055489\n",
      " 94%|███████████████████████████████████████████████████████████████████████▎    | 1126/1201 [4:15:56<16:13, 12.99s/it]"
     ]
    },
    {
     "name": "stdout",
     "output_type": "stream",
     "text": [
      "Collected 256 tweets at 2023-03-12.\n",
      "Running twitter query: \"(#covid) lang:en until:2023-03-14 since:2023-03-13\"\n"
     ]
    },
    {
     "name": "stderr",
     "output_type": "stream",
     "text": [
      "Unavailable user in card on tweet 1635364853295755264\n",
      "User 31221522 not found in user refs in card on tweet 1635364853295755264\n",
      " 94%|███████████████████████████████████████████████████████████████████████▎    | 1127/1201 [4:16:08<15:37, 12.67s/it]"
     ]
    },
    {
     "name": "stdout",
     "output_type": "stream",
     "text": [
      "Collected 256 tweets at 2023-03-13.\n",
      "Running twitter query: \"(#covid) lang:en until:2023-03-15 since:2023-03-14\"\n"
     ]
    },
    {
     "name": "stderr",
     "output_type": "stream",
     "text": [
      "Unavailable user in card on tweet 1635744946312581126\n",
      "Unavailable user in card on tweet 1635744946312581126\n",
      "User 15843059 not found in user refs in card on tweet 1635744946312581126\n",
      "User 15843059 not found in user refs in card on tweet 1635744946312581126\n",
      " 94%|███████████████████████████████████████████████████████████████████████▍    | 1128/1201 [4:16:21<15:29, 12.73s/it]"
     ]
    },
    {
     "name": "stdout",
     "output_type": "stream",
     "text": [
      "Collected 256 tweets at 2023-03-14.\n",
      "Running twitter query: \"(#covid) lang:en until:2023-03-16 since:2023-03-15\"\n"
     ]
    },
    {
     "name": "stderr",
     "output_type": "stream",
     "text": [
      "\r",
      " 94%|███████████████████████████████████████████████████████████████████████▍    | 1129/1201 [4:16:33<15:06, 12.59s/it]"
     ]
    },
    {
     "name": "stdout",
     "output_type": "stream",
     "text": [
      "Collected 256 tweets at 2023-03-15.\n",
      "Running twitter query: \"(#covid) lang:en until:2023-03-17 since:2023-03-16\"\n"
     ]
    },
    {
     "name": "stderr",
     "output_type": "stream",
     "text": [
      "Stopping after 20 empty pages\n",
      " 94%|███████████████████████████████████████████████████████████████████████▌    | 1130/1201 [4:16:47<15:31, 13.11s/it]"
     ]
    },
    {
     "name": "stdout",
     "output_type": "stream",
     "text": [
      "Collected 91 tweets at 2023-03-16.\n",
      "Running twitter query: \"(#covid) lang:en until:2023-03-18 since:2023-03-17\"\n"
     ]
    },
    {
     "name": "stderr",
     "output_type": "stream",
     "text": [
      "Unavailable user in card on tweet 1636832548545347590\n",
      "Unavailable user in card on tweet 1636832548545347590\n",
      "User 15843059 not found in user refs in card on tweet 1636832548545347590\n",
      "User 15843059 not found in user refs in card on tweet 1636832548545347590\n",
      " 94%|███████████████████████████████████████████████████████████████████████▌    | 1131/1201 [4:17:01<15:37, 13.39s/it]"
     ]
    },
    {
     "name": "stdout",
     "output_type": "stream",
     "text": [
      "Collected 256 tweets at 2023-03-17.\n",
      "Running twitter query: \"(#covid) lang:en until:2023-03-19 since:2023-03-18\"\n"
     ]
    },
    {
     "name": "stderr",
     "output_type": "stream",
     "text": [
      "\r",
      " 94%|███████████████████████████████████████████████████████████████████████▋    | 1132/1201 [4:17:14<15:03, 13.10s/it]"
     ]
    },
    {
     "name": "stdout",
     "output_type": "stream",
     "text": [
      "Collected 256 tweets at 2023-03-18.\n",
      "Running twitter query: \"(#covid) lang:en until:2023-03-20 since:2023-03-19\"\n"
     ]
    },
    {
     "name": "stderr",
     "output_type": "stream",
     "text": [
      "\r",
      " 94%|███████████████████████████████████████████████████████████████████████▋    | 1133/1201 [4:17:26<14:33, 12.85s/it]"
     ]
    },
    {
     "name": "stdout",
     "output_type": "stream",
     "text": [
      "Collected 256 tweets at 2023-03-19.\n",
      "Running twitter query: \"(#covid) lang:en until:2023-03-21 since:2023-03-20\"\n"
     ]
    },
    {
     "name": "stderr",
     "output_type": "stream",
     "text": [
      "Could not translate t.co card URL on tweet 1637956595194773505\n",
      " 94%|███████████████████████████████████████████████████████████████████████▊    | 1134/1201 [4:17:41<14:58, 13.40s/it]"
     ]
    },
    {
     "name": "stdout",
     "output_type": "stream",
     "text": [
      "Collected 256 tweets at 2023-03-20.\n",
      "Running twitter query: \"(#covid) lang:en until:2023-03-22 since:2023-03-21\"\n"
     ]
    },
    {
     "name": "stderr",
     "output_type": "stream",
     "text": [
      "Empty user ref object in card on tweet 1638288130947309570\n",
      "Empty user ref object in card on tweet 1638288130947309570\n",
      "User 873939764876943363 not found in user refs in card on tweet 1638288130947309570\n",
      "User 873939764876943363 not found in user refs in card on tweet 1638288130947309570\n",
      " 95%|███████████████████████████████████████████████████████████████████████▊    | 1135/1201 [4:17:53<14:27, 13.14s/it]"
     ]
    },
    {
     "name": "stdout",
     "output_type": "stream",
     "text": [
      "Collected 256 tweets at 2023-03-21.\n",
      "Running twitter query: \"(#covid) lang:en until:2023-03-23 since:2023-03-22\"\n"
     ]
    },
    {
     "name": "stderr",
     "output_type": "stream",
     "text": [
      "\r",
      " 95%|███████████████████████████████████████████████████████████████████████▉    | 1136/1201 [4:18:06<14:03, 12.98s/it]"
     ]
    },
    {
     "name": "stdout",
     "output_type": "stream",
     "text": [
      "Collected 256 tweets at 2023-03-22.\n",
      "Running twitter query: \"(#covid) lang:en until:2023-03-24 since:2023-03-23\"\n"
     ]
    },
    {
     "name": "stderr",
     "output_type": "stream",
     "text": [
      "Unavailable user in card on tweet 1638983990815387650\n",
      "User 3562471 not found in user refs in card on tweet 1638983990815387650\n",
      " 95%|███████████████████████████████████████████████████████████████████████▉    | 1137/1201 [4:18:19<13:56, 13.06s/it]"
     ]
    },
    {
     "name": "stdout",
     "output_type": "stream",
     "text": [
      "Collected 256 tweets at 2023-03-23.\n",
      "Running twitter query: \"(#covid) lang:en until:2023-03-25 since:2023-03-24\"\n"
     ]
    },
    {
     "name": "stderr",
     "output_type": "stream",
     "text": [
      "Unavailable user in card on tweet 1639342851858513920\n",
      "Unavailable user in card on tweet 1639342851858513920\n",
      "User 160497158 not found in user refs in card on tweet 1639342851858513920\n",
      "User 160497158 not found in user refs in card on tweet 1639342851858513920\n",
      " 95%|████████████████████████████████████████████████████████████████████████    | 1138/1201 [4:18:34<14:12, 13.53s/it]"
     ]
    },
    {
     "name": "stdout",
     "output_type": "stream",
     "text": [
      "Collected 256 tweets at 2023-03-24.\n",
      "Running twitter query: \"(#covid) lang:en until:2023-03-26 since:2023-03-25\"\n"
     ]
    },
    {
     "name": "stderr",
     "output_type": "stream",
     "text": [
      "Could not translate t.co card URL on tweet 1639703644563185664\n",
      " 95%|████████████████████████████████████████████████████████████████████████    | 1139/1201 [4:18:49<14:23, 13.93s/it]"
     ]
    },
    {
     "name": "stdout",
     "output_type": "stream",
     "text": [
      "Collected 256 tweets at 2023-03-25.\n",
      "Running twitter query: \"(#covid) lang:en until:2023-03-27 since:2023-03-26\"\n"
     ]
    },
    {
     "name": "stderr",
     "output_type": "stream",
     "text": [
      "Stopping after 20 empty pages\n",
      " 95%|████████████████████████████████████████████████████████████████████████▏   | 1140/1201 [4:19:09<16:06, 15.85s/it]"
     ]
    },
    {
     "name": "stdout",
     "output_type": "stream",
     "text": [
      "Collected 224 tweets at 2023-03-26.\n",
      "Running twitter query: \"(#covid) lang:en until:2023-03-28 since:2023-03-27\"\n"
     ]
    },
    {
     "name": "stderr",
     "output_type": "stream",
     "text": [
      "Could not translate t.co card URL on tweet 1640462434405335040\n",
      " 95%|████████████████████████████████████████████████████████████████████████▏   | 1141/1201 [4:19:24<15:30, 15.51s/it]"
     ]
    },
    {
     "name": "stdout",
     "output_type": "stream",
     "text": [
      "Collected 256 tweets at 2023-03-27.\n",
      "Running twitter query: \"(#covid) lang:en until:2023-03-29 since:2023-03-28\"\n"
     ]
    },
    {
     "name": "stderr",
     "output_type": "stream",
     "text": [
      "Could not translate t.co card URL on tweet 1640806876433506304\n",
      " 95%|████████████████████████████████████████████████████████████████████████▎   | 1142/1201 [4:19:38<15:04, 15.33s/it]"
     ]
    },
    {
     "name": "stdout",
     "output_type": "stream",
     "text": [
      "Collected 256 tweets at 2023-03-28.\n",
      "Running twitter query: \"(#covid) lang:en until:2023-03-30 since:2023-03-29\"\n"
     ]
    },
    {
     "name": "stderr",
     "output_type": "stream",
     "text": [
      "\r",
      " 95%|████████████████████████████████████████████████████████████████████████▎   | 1143/1201 [4:19:53<14:26, 14.94s/it]"
     ]
    },
    {
     "name": "stdout",
     "output_type": "stream",
     "text": [
      "Collected 256 tweets at 2023-03-29.\n",
      "Running twitter query: \"(#covid) lang:en until:2023-03-31 since:2023-03-30\"\n"
     ]
    },
    {
     "name": "stderr",
     "output_type": "stream",
     "text": [
      "Could not translate t.co card URL on tweet 1641572422926073856\n",
      " 95%|████████████████████████████████████████████████████████████████████████▍   | 1144/1201 [4:20:08<14:24, 15.16s/it]"
     ]
    },
    {
     "name": "stdout",
     "output_type": "stream",
     "text": [
      "Collected 256 tweets at 2023-03-30.\n",
      "Running twitter query: \"(#covid) lang:en until:2023-04-01 since:2023-03-31\"\n"
     ]
    },
    {
     "name": "stderr",
     "output_type": "stream",
     "text": [
      "Unavailable user in card on tweet 1641872351431122960\n",
      "User 14204245 not found in user refs in card on tweet 1641872351431122960\n",
      "Unavailable user in card on tweet 1641869746990637056\n",
      "User 14204245 not found in user refs in card on tweet 1641869746990637056\n",
      " 95%|████████████████████████████████████████████████████████████████████████▍   | 1145/1201 [4:20:25<14:43, 15.78s/it]"
     ]
    },
    {
     "name": "stdout",
     "output_type": "stream",
     "text": [
      "Collected 256 tweets at 2023-03-31.\n",
      "Saving 7741 tweets at 2023-03.\n",
      "Running twitter query: \"(#covid) lang:en until:2023-04-02 since:2023-04-01\"\n"
     ]
    },
    {
     "name": "stderr",
     "output_type": "stream",
     "text": [
      "Unavailable user in card on tweet 1642220205551091713\n",
      "Unavailable user in card on tweet 1642220205551091713\n",
      "User 3727654401 not found in user refs in card on tweet 1642220205551091713\n",
      "User 3727654401 not found in user refs in card on tweet 1642220205551091713\n",
      "Unavailable user in card on tweet 1642220200140390401\n",
      "Unavailable user in card on tweet 1642220200140390401\n",
      "User 3727654401 not found in user refs in card on tweet 1642220200140390401\n",
      "User 3727654401 not found in user refs in card on tweet 1642220200140390401\n",
      " 95%|████████████████████████████████████████████████████████████████████████▌   | 1146/1201 [4:20:36<13:06, 14.30s/it]"
     ]
    },
    {
     "name": "stdout",
     "output_type": "stream",
     "text": [
      "Collected 256 tweets at 2023-04-01.\n",
      "Running twitter query: \"(#covid) lang:en until:2023-04-03 since:2023-04-02\"\n"
     ]
    },
    {
     "name": "stderr",
     "output_type": "stream",
     "text": [
      "Unavailable user in card on tweet 1642577142885089281\n",
      "User 14204245 not found in user refs in card on tweet 1642577142885089281\n",
      "Unavailable user in card on tweet 1642576625190715393\n",
      "User 14204245 not found in user refs in card on tweet 1642576625190715393\n",
      " 96%|████████████████████████████████████████████████████████████████████████▌   | 1147/1201 [4:20:48<12:09, 13.50s/it]"
     ]
    },
    {
     "name": "stdout",
     "output_type": "stream",
     "text": [
      "Collected 256 tweets at 2023-04-02.\n",
      "Running twitter query: \"(#covid) lang:en until:2023-04-04 since:2023-04-03\"\n"
     ]
    },
    {
     "name": "stderr",
     "output_type": "stream",
     "text": [
      "Could not translate t.co card URL on tweet 1643002079190061056\n",
      "Unavailable user in card on tweet 1642980369635987459\n",
      "User 1434052940 not found in user refs in card on tweet 1642980369635987459\n",
      " 96%|████████████████████████████████████████████████████████████████████████▋   | 1148/1201 [4:21:00<11:27, 12.97s/it]"
     ]
    },
    {
     "name": "stdout",
     "output_type": "stream",
     "text": [
      "Collected 256 tweets at 2023-04-03.\n",
      "Running twitter query: \"(#covid) lang:en until:2023-04-05 since:2023-04-04\"\n"
     ]
    },
    {
     "name": "stderr",
     "output_type": "stream",
     "text": [
      "Unavailable user in card on tweet 1643350272352088066\n",
      "User 1434052940 not found in user refs in card on tweet 1643350272352088066\n",
      " 96%|████████████████████████████████████████████████████████████████████████▋   | 1149/1201 [4:21:11<10:53, 12.58s/it]"
     ]
    },
    {
     "name": "stdout",
     "output_type": "stream",
     "text": [
      "Collected 256 tweets at 2023-04-04.\n",
      "Running twitter query: \"(#covid) lang:en until:2023-04-06 since:2023-04-05\"\n"
     ]
    },
    {
     "name": "stderr",
     "output_type": "stream",
     "text": [
      "\r",
      " 96%|████████████████████████████████████████████████████████████████████████▊   | 1150/1201 [4:21:23<10:25, 12.27s/it]"
     ]
    },
    {
     "name": "stdout",
     "output_type": "stream",
     "text": [
      "Collected 256 tweets at 2023-04-05.\n",
      "Running twitter query: \"(#covid) lang:en until:2023-04-07 since:2023-04-06\"\n"
     ]
    },
    {
     "name": "stderr",
     "output_type": "stream",
     "text": [
      "Unavailable user in card on tweet 1644082612334481411\n",
      "User 1434052940 not found in user refs in card on tweet 1644082612334481411\n",
      " 96%|████████████████████████████████████████████████████████████████████████▊   | 1151/1201 [4:21:34<09:58, 11.98s/it]"
     ]
    },
    {
     "name": "stdout",
     "output_type": "stream",
     "text": [
      "Collected 256 tweets at 2023-04-06.\n",
      "Running twitter query: \"(#covid) lang:en until:2023-04-08 since:2023-04-07\"\n"
     ]
    },
    {
     "name": "stderr",
     "output_type": "stream",
     "text": [
      "\r",
      " 96%|████████████████████████████████████████████████████████████████████████▉   | 1152/1201 [4:21:48<10:12, 12.51s/it]"
     ]
    },
    {
     "name": "stdout",
     "output_type": "stream",
     "text": [
      "Collected 256 tweets at 2023-04-07.\n",
      "Running twitter query: \"(#covid) lang:en until:2023-04-09 since:2023-04-08\"\n"
     ]
    },
    {
     "name": "stderr",
     "output_type": "stream",
     "text": [
      "Empty user ref object in card on tweet 1644835197656121344\n",
      "Empty user ref object in card on tweet 1644835197656121344\n",
      "User 4503599629184530 not found in user refs in card on tweet 1644835197656121344\n",
      "User 4503599629184530 not found in user refs in card on tweet 1644835197656121344\n",
      "Unavailable user in card on tweet 1644726377428533249\n",
      "Unavailable user in card on tweet 1644726377428533249\n",
      "User 1062915983294300160 not found in user refs in card on tweet 1644726377428533249\n",
      "User 1062915983294300160 not found in user refs in card on tweet 1644726377428533249\n",
      "Unavailable user in card on tweet 1644763969251336193\n",
      "User 14204245 not found in user refs in card on tweet 1644763969251336193\n",
      " 96%|████████████████████████████████████████████████████████████████████████▉   | 1153/1201 [4:22:00<09:59, 12.49s/it]"
     ]
    },
    {
     "name": "stdout",
     "output_type": "stream",
     "text": [
      "Collected 256 tweets at 2023-04-08.\n",
      "Running twitter query: \"(#covid) lang:en until:2023-04-10 since:2023-04-09\"\n"
     ]
    },
    {
     "name": "stderr",
     "output_type": "stream",
     "text": [
      "\r",
      " 96%|█████████████████████████████████████████████████████████████████████████   | 1154/1201 [4:22:12<09:39, 12.33s/it]"
     ]
    },
    {
     "name": "stdout",
     "output_type": "stream",
     "text": [
      "Collected 256 tweets at 2023-04-09.\n",
      "Running twitter query: \"(#covid) lang:en until:2023-04-11 since:2023-04-10\"\n"
     ]
    },
    {
     "name": "stderr",
     "output_type": "stream",
     "text": [
      "Unavailable user in card on tweet 1645539710079467520\n",
      "User 1434052940 not found in user refs in card on tweet 1645539710079467520\n",
      " 96%|█████████████████████████████████████████████████████████████████████████   | 1155/1201 [4:22:24<09:22, 12.22s/it]"
     ]
    },
    {
     "name": "stdout",
     "output_type": "stream",
     "text": [
      "Collected 256 tweets at 2023-04-10.\n",
      "Running twitter query: \"(#covid) lang:en until:2023-04-12 since:2023-04-11\"\n"
     ]
    },
    {
     "name": "stderr",
     "output_type": "stream",
     "text": [
      "Empty user ref object in card on tweet 1645918863576510464\n",
      "User 704973380609568768 not found in user refs in card on tweet 1645918863576510464\n",
      " 96%|█████████████████████████████████████████████████████████████████████████▏  | 1156/1201 [4:22:39<09:40, 12.91s/it]"
     ]
    },
    {
     "name": "stdout",
     "output_type": "stream",
     "text": [
      "Collected 256 tweets at 2023-04-11.\n",
      "Running twitter query: \"(#covid) lang:en until:2023-04-13 since:2023-04-12\"\n"
     ]
    },
    {
     "name": "stderr",
     "output_type": "stream",
     "text": [
      "Unavailable user in card on tweet 1646294626104639488\n",
      "User 136899830 not found in user refs in card on tweet 1646294626104639488\n",
      " 96%|█████████████████████████████████████████████████████████████████████████▏  | 1157/1201 [4:22:52<09:28, 12.91s/it]"
     ]
    },
    {
     "name": "stdout",
     "output_type": "stream",
     "text": [
      "Collected 256 tweets at 2023-04-12.\n",
      "Running twitter query: \"(#covid) lang:en until:2023-04-14 since:2023-04-13\"\n"
     ]
    },
    {
     "name": "stderr",
     "output_type": "stream",
     "text": [
      "Unavailable user in card on tweet 1646581588795244545\n",
      "User 1434052940 not found in user refs in card on tweet 1646581588795244545\n",
      " 96%|█████████████████████████████████████████████████████████████████████████▎  | 1158/1201 [4:23:04<09:09, 12.77s/it]"
     ]
    },
    {
     "name": "stdout",
     "output_type": "stream",
     "text": [
      "Collected 256 tweets at 2023-04-13.\n",
      "Running twitter query: \"(#covid) lang:en until:2023-04-15 since:2023-04-14\"\n"
     ]
    },
    {
     "name": "stderr",
     "output_type": "stream",
     "text": [
      "\r",
      " 97%|█████████████████████████████████████████████████████████████████████████▎  | 1159/1201 [4:23:17<08:58, 12.82s/it]"
     ]
    },
    {
     "name": "stdout",
     "output_type": "stream",
     "text": [
      "Collected 256 tweets at 2023-04-14.\n",
      "Running twitter query: \"(#covid) lang:en until:2023-04-16 since:2023-04-15\"\n"
     ]
    },
    {
     "name": "stderr",
     "output_type": "stream",
     "text": [
      "Unavailable user in card on tweet 1647369745438482433\n",
      "User 1062915983294300160 not found in user refs in card on tweet 1647369745438482433\n",
      " 97%|█████████████████████████████████████████████████████████████████████████▍  | 1160/1201 [4:23:30<08:43, 12.77s/it]"
     ]
    },
    {
     "name": "stdout",
     "output_type": "stream",
     "text": [
      "Collected 256 tweets at 2023-04-15.\n",
      "Running twitter query: \"(#covid) lang:en until:2023-04-17 since:2023-04-16\"\n"
     ]
    },
    {
     "name": "stderr",
     "output_type": "stream",
     "text": [
      "Unavailable user in card on tweet 1647728241803956225\n",
      "Unavailable user in card on tweet 1647728241803956225\n",
      "User 1300645273 not found in user refs in card on tweet 1647728241803956225\n",
      "User 1300645273 not found in user refs in card on tweet 1647728241803956225\n",
      " 97%|█████████████████████████████████████████████████████████████████████████▍  | 1161/1201 [4:23:43<08:34, 12.86s/it]"
     ]
    },
    {
     "name": "stdout",
     "output_type": "stream",
     "text": [
      "Collected 256 tweets at 2023-04-16.\n",
      "Running twitter query: \"(#covid) lang:en until:2023-04-18 since:2023-04-17\"\n"
     ]
    },
    {
     "name": "stderr",
     "output_type": "stream",
     "text": [
      "Unavailable user in card on tweet 1648054302433505280\n",
      "User 14204245 not found in user refs in card on tweet 1648054302433505280\n",
      " 97%|█████████████████████████████████████████████████████████████████████████▌  | 1162/1201 [4:23:55<08:12, 12.63s/it]"
     ]
    },
    {
     "name": "stdout",
     "output_type": "stream",
     "text": [
      "Collected 256 tweets at 2023-04-17.\n",
      "Running twitter query: \"(#covid) lang:en until:2023-04-19 since:2023-04-18\"\n"
     ]
    },
    {
     "name": "stderr",
     "output_type": "stream",
     "text": [
      "Unavailable user in card on tweet 1648412380760797185\n",
      "User 1434052940 not found in user refs in card on tweet 1648412380760797185\n",
      "Unavailable user in card on tweet 1648390960957497364\n",
      "Unavailable user in card on tweet 1648390960957497364\n",
      "User 1062915983294300160 not found in user refs in card on tweet 1648390960957497364\n",
      "User 1062915983294300160 not found in user refs in card on tweet 1648390960957497364\n",
      " 97%|█████████████████████████████████████████████████████████████████████████▌  | 1163/1201 [4:24:08<08:06, 12.80s/it]"
     ]
    },
    {
     "name": "stdout",
     "output_type": "stream",
     "text": [
      "Collected 256 tweets at 2023-04-18.\n",
      "Running twitter query: \"(#covid) lang:en until:2023-04-20 since:2023-04-19\"\n"
     ]
    },
    {
     "name": "stderr",
     "output_type": "stream",
     "text": [
      "Unavailable user in card on tweet 1648763051636580354\n",
      "User 1411470135496298499 not found in user refs in card on tweet 1648763051636580354\n",
      " 97%|█████████████████████████████████████████████████████████████████████████▋  | 1164/1201 [4:24:21<07:56, 12.87s/it]"
     ]
    },
    {
     "name": "stdout",
     "output_type": "stream",
     "text": [
      "Collected 256 tweets at 2023-04-19.\n",
      "Running twitter query: \"(#covid) lang:en until:2023-04-21 since:2023-04-20\"\n"
     ]
    },
    {
     "name": "stderr",
     "output_type": "stream",
     "text": [
      "Unavailable user in card on tweet 1649152665018855444\n",
      "Unavailable user in card on tweet 1649152665018855444\n",
      "User 15843059 not found in user refs in card on tweet 1649152665018855444\n",
      "User 15843059 not found in user refs in card on tweet 1649152665018855444\n",
      "Unavailable user in card on tweet 1649134393384923136\n",
      "Unavailable user in card on tweet 1649134393384923136\n",
      "User 15843059 not found in user refs in card on tweet 1649134393384923136\n",
      "User 15843059 not found in user refs in card on tweet 1649134393384923136\n",
      " 97%|█████████████████████████████████████████████████████████████████████████▋  | 1165/1201 [4:24:35<07:49, 13.04s/it]"
     ]
    },
    {
     "name": "stdout",
     "output_type": "stream",
     "text": [
      "Collected 256 tweets at 2023-04-20.\n",
      "Running twitter query: \"(#covid) lang:en until:2023-04-22 since:2023-04-21\"\n"
     ]
    },
    {
     "name": "stderr",
     "output_type": "stream",
     "text": [
      "Unavailable user in card on tweet 1649535640139341824\n",
      "Unavailable user in card on tweet 1649535640139341824\n",
      "User 15843059 not found in user refs in card on tweet 1649535640139341824\n",
      "User 15843059 not found in user refs in card on tweet 1649535640139341824\n",
      "Could not translate t.co card URL on tweet 1649464716366848025\n",
      "Unavailable user in card on tweet 1649424032670924801\n",
      "Unavailable user in card on tweet 1649424032670924801\n",
      "User 1062915983294300160 not found in user refs in card on tweet 1649424032670924801\n",
      "User 1062915983294300160 not found in user refs in card on tweet 1649424032670924801\n",
      " 97%|█████████████████████████████████████████████████████████████████████████▊  | 1166/1201 [4:24:47<07:30, 12.88s/it]"
     ]
    },
    {
     "name": "stdout",
     "output_type": "stream",
     "text": [
      "Collected 256 tweets at 2023-04-21.\n",
      "Running twitter query: \"(#covid) lang:en until:2023-04-23 since:2023-04-22\"\n"
     ]
    },
    {
     "name": "stderr",
     "output_type": "stream",
     "text": [
      "Unavailable user in card on tweet 1649876356014981121\n",
      "User 14204245 not found in user refs in card on tweet 1649876356014981121\n",
      "Unavailable user in card on tweet 1649826040506642436\n",
      "User 14204245 not found in user refs in card on tweet 1649826040506642436\n",
      " 97%|█████████████████████████████████████████████████████████████████████████▊  | 1167/1201 [4:25:01<07:33, 13.33s/it]"
     ]
    },
    {
     "name": "stdout",
     "output_type": "stream",
     "text": [
      "Collected 256 tweets at 2023-04-22.\n",
      "Running twitter query: \"(#covid) lang:en until:2023-04-24 since:2023-04-23\"\n"
     ]
    },
    {
     "name": "stderr",
     "output_type": "stream",
     "text": [
      "\r",
      " 97%|█████████████████████████████████████████████████████████████████████████▉  | 1168/1201 [4:25:18<07:54, 14.39s/it]"
     ]
    },
    {
     "name": "stdout",
     "output_type": "stream",
     "text": [
      "Collected 256 tweets at 2023-04-23.\n",
      "Running twitter query: \"(#covid) lang:en until:2023-04-25 since:2023-04-24\"\n"
     ]
    },
    {
     "name": "stderr",
     "output_type": "stream",
     "text": [
      "Unavailable user in card on tweet 1650606443085676544\n",
      "User 14204245 not found in user refs in card on tweet 1650606443085676544\n",
      "Unavailable user in card on tweet 1650582933751623680\n",
      "User 1434052940 not found in user refs in card on tweet 1650582933751623680\n",
      "Unavailable user in card on tweet 1650556438954094613\n",
      "User 14204245 not found in user refs in card on tweet 1650556438954094613\n",
      " 97%|█████████████████████████████████████████████████████████████████████████▉  | 1169/1201 [4:25:31<07:27, 13.98s/it]"
     ]
    },
    {
     "name": "stdout",
     "output_type": "stream",
     "text": [
      "Collected 256 tweets at 2023-04-24.\n",
      "Running twitter query: \"(#covid) lang:en until:2023-04-26 since:2023-04-25\"\n"
     ]
    },
    {
     "name": "stderr",
     "output_type": "stream",
     "text": [
      "\r",
      " 97%|██████████████████████████████████████████████████████████████████████████  | 1170/1201 [4:25:47<07:25, 14.37s/it]"
     ]
    },
    {
     "name": "stdout",
     "output_type": "stream",
     "text": [
      "Collected 256 tweets at 2023-04-25.\n",
      "Running twitter query: \"(#covid) lang:en until:2023-04-27 since:2023-04-26\"\n"
     ]
    },
    {
     "name": "stderr",
     "output_type": "stream",
     "text": [
      "\r",
      " 98%|██████████████████████████████████████████████████████████████████████████  | 1171/1201 [4:26:01<07:09, 14.31s/it]"
     ]
    },
    {
     "name": "stdout",
     "output_type": "stream",
     "text": [
      "Collected 256 tweets at 2023-04-26.\n",
      "Running twitter query: \"(#covid) lang:en until:2023-04-28 since:2023-04-27\"\n"
     ]
    },
    {
     "name": "stderr",
     "output_type": "stream",
     "text": [
      "Unavailable user in card on tweet 1651695104132874240\n",
      "Unavailable user in card on tweet 1651695104132874240\n",
      "User 15843059 not found in user refs in card on tweet 1651695104132874240\n",
      "User 15843059 not found in user refs in card on tweet 1651695104132874240\n",
      " 98%|██████████████████████████████████████████████████████████████████████████▏ | 1172/1201 [4:26:15<06:51, 14.17s/it]"
     ]
    },
    {
     "name": "stdout",
     "output_type": "stream",
     "text": [
      "Collected 256 tweets at 2023-04-27.\n",
      "Running twitter query: \"(#covid) lang:en until:2023-04-29 since:2023-04-28\"\n"
     ]
    },
    {
     "name": "stderr",
     "output_type": "stream",
     "text": [
      "Unavailable user in card on tweet 1652050444078706691\n",
      "User 1552045956383641600 not found in user refs in card on tweet 1652050444078706691\n",
      " 98%|██████████████████████████████████████████████████████████████████████████▏ | 1173/1201 [4:26:29<06:40, 14.30s/it]"
     ]
    },
    {
     "name": "stdout",
     "output_type": "stream",
     "text": [
      "Collected 256 tweets at 2023-04-28.\n",
      "Running twitter query: \"(#covid) lang:en until:2023-04-30 since:2023-04-29\"\n"
     ]
    },
    {
     "name": "stderr",
     "output_type": "stream",
     "text": [
      "Empty user ref object in card on tweet 1652120292540686336\n",
      "Empty user ref object in card on tweet 1652120292540686336\n",
      "User 4503599629184530 not found in user refs in card on tweet 1652120292540686336\n",
      "User 4503599629184530 not found in user refs in card on tweet 1652120292540686336\n",
      "Unavailable user in card on tweet 1652409962759438341\n",
      "User 1434052940 not found in user refs in card on tweet 1652409962759438341\n",
      " 98%|██████████████████████████████████████████████████████████████████████████▎ | 1174/1201 [4:26:44<06:30, 14.46s/it]"
     ]
    },
    {
     "name": "stdout",
     "output_type": "stream",
     "text": [
      "Collected 256 tweets at 2023-04-29.\n",
      "Running twitter query: \"(#covid) lang:en until:2023-05-01 since:2023-04-30\"\n"
     ]
    },
    {
     "name": "stderr",
     "output_type": "stream",
     "text": [
      "Could not translate t.co card URL on tweet 1652788136475525120\n",
      " 98%|██████████████████████████████████████████████████████████████████████████▎ | 1175/1201 [4:26:59<06:16, 14.49s/it]"
     ]
    },
    {
     "name": "stdout",
     "output_type": "stream",
     "text": [
      "Collected 256 tweets at 2023-04-30.\n",
      "Saving 7680 tweets at 2023-04.\n",
      "Running twitter query: \"(#covid) lang:en until:2023-05-02 since:2023-05-01\"\n"
     ]
    },
    {
     "name": "stderr",
     "output_type": "stream",
     "text": [
      "Unavailable user in card on tweet 1653172508093214721\n",
      "User 1434052940 not found in user refs in card on tweet 1653172508093214721\n",
      "Could not translate t.co card URL on tweet 1653090008562122768\n",
      " 98%|██████████████████████████████████████████████████████████████████████████▍ | 1176/1201 [4:27:11<05:43, 13.76s/it]"
     ]
    },
    {
     "name": "stdout",
     "output_type": "stream",
     "text": [
      "Collected 256 tweets at 2023-05-01.\n",
      "Running twitter query: \"(#covid) lang:en until:2023-05-03 since:2023-05-02\"\n"
     ]
    },
    {
     "name": "stderr",
     "output_type": "stream",
     "text": [
      "\r",
      " 98%|██████████████████████████████████████████████████████████████████████████▍ | 1177/1201 [4:27:22<05:14, 13.09s/it]"
     ]
    },
    {
     "name": "stdout",
     "output_type": "stream",
     "text": [
      "Collected 256 tweets at 2023-05-02.\n",
      "Running twitter query: \"(#covid) lang:en until:2023-05-04 since:2023-05-03\"\n"
     ]
    },
    {
     "name": "stderr",
     "output_type": "stream",
     "text": [
      "Unavailable user in card on tweet 1653814175632850944\n",
      "User 136899830 not found in user refs in card on tweet 1653814175632850944\n",
      " 98%|██████████████████████████████████████████████████████████████████████████▌ | 1178/1201 [4:27:33<04:47, 12.48s/it]"
     ]
    },
    {
     "name": "stdout",
     "output_type": "stream",
     "text": [
      "Collected 256 tweets at 2023-05-03.\n",
      "Running twitter query: \"(#covid) lang:en until:2023-05-05 since:2023-05-04\"\n"
     ]
    },
    {
     "name": "stderr",
     "output_type": "stream",
     "text": [
      "\r",
      " 98%|██████████████████████████████████████████████████████████████████████████▌ | 1179/1201 [4:27:47<04:40, 12.76s/it]"
     ]
    },
    {
     "name": "stdout",
     "output_type": "stream",
     "text": [
      "Collected 256 tweets at 2023-05-04.\n",
      "Running twitter query: \"(#covid) lang:en until:2023-05-06 since:2023-05-05\"\n"
     ]
    },
    {
     "name": "stderr",
     "output_type": "stream",
     "text": [
      "Unavailable user in card on tweet 1654614490867007490\n",
      "User 1434052940 not found in user refs in card on tweet 1654614490867007490\n",
      "Could not translate t.co card URL on tweet 1654603289592496129\n",
      "Unavailable user in card on tweet 1654572306302386176\n",
      "User 1240203163 not found in user refs in card on tweet 1654572306302386176\n",
      " 98%|██████████████████████████████████████████████████████████████████████████▋ | 1180/1201 [4:28:01<04:35, 13.12s/it]"
     ]
    },
    {
     "name": "stdout",
     "output_type": "stream",
     "text": [
      "Collected 256 tweets at 2023-05-05.\n",
      "Running twitter query: \"(#covid) lang:en until:2023-05-07 since:2023-05-06\"\n"
     ]
    },
    {
     "name": "stderr",
     "output_type": "stream",
     "text": [
      "Could not translate t.co card URL on tweet 1654875800544628738\n",
      " 98%|██████████████████████████████████████████████████████████████████████████▋ | 1181/1201 [4:28:13<04:17, 12.88s/it]"
     ]
    },
    {
     "name": "stdout",
     "output_type": "stream",
     "text": [
      "Collected 256 tweets at 2023-05-06.\n",
      "Running twitter query: \"(#covid) lang:en until:2023-05-08 since:2023-05-07\"\n"
     ]
    },
    {
     "name": "stderr",
     "output_type": "stream",
     "text": [
      "\r",
      " 98%|██████████████████████████████████████████████████████████████████████████▊ | 1182/1201 [4:28:25<04:02, 12.74s/it]"
     ]
    },
    {
     "name": "stdout",
     "output_type": "stream",
     "text": [
      "Collected 256 tweets at 2023-05-07.\n",
      "Running twitter query: \"(#covid) lang:en until:2023-05-09 since:2023-05-08\"\n"
     ]
    },
    {
     "name": "stderr",
     "output_type": "stream",
     "text": [
      "Could not translate t.co card URL on tweet 1655674427768447010\n",
      " 99%|██████████████████████████████████████████████████████████████████████████▊ | 1183/1201 [4:28:41<04:06, 13.67s/it]"
     ]
    },
    {
     "name": "stdout",
     "output_type": "stream",
     "text": [
      "Collected 256 tweets at 2023-05-08.\n",
      "Running twitter query: \"(#covid) lang:en until:2023-05-10 since:2023-05-09\"\n"
     ]
    },
    {
     "name": "stderr",
     "output_type": "stream",
     "text": [
      "\r",
      " 99%|██████████████████████████████████████████████████████████████████████████▉ | 1184/1201 [4:28:54<03:47, 13.39s/it]"
     ]
    },
    {
     "name": "stdout",
     "output_type": "stream",
     "text": [
      "Collected 256 tweets at 2023-05-09.\n",
      "Running twitter query: \"(#covid) lang:en until:2023-05-11 since:2023-05-10\"\n"
     ]
    },
    {
     "name": "stderr",
     "output_type": "stream",
     "text": [
      "\r",
      " 99%|██████████████████████████████████████████████████████████████████████████▉ | 1185/1201 [4:29:07<03:30, 13.17s/it]"
     ]
    },
    {
     "name": "stdout",
     "output_type": "stream",
     "text": [
      "Collected 256 tweets at 2023-05-10.\n",
      "Running twitter query: \"(#covid) lang:en until:2023-05-12 since:2023-05-11\"\n"
     ]
    },
    {
     "name": "stderr",
     "output_type": "stream",
     "text": [
      "Unavailable user in card on tweet 1656803066820333568\n",
      "Unavailable user in card on tweet 1656803066820333568\n",
      "User 15843059 not found in user refs in card on tweet 1656803066820333568\n",
      "User 15843059 not found in user refs in card on tweet 1656803066820333568\n",
      " 99%|███████████████████████████████████████████████████████████████████████████ | 1186/1201 [4:29:19<03:12, 12.86s/it]"
     ]
    },
    {
     "name": "stdout",
     "output_type": "stream",
     "text": [
      "Collected 256 tweets at 2023-05-11.\n",
      "Running twitter query: \"(#covid) lang:en until:2023-05-13 since:2023-05-12\"\n"
     ]
    },
    {
     "name": "stderr",
     "output_type": "stream",
     "text": [
      "\r",
      " 99%|███████████████████████████████████████████████████████████████████████████ | 1187/1201 [4:29:31<02:58, 12.76s/it]"
     ]
    },
    {
     "name": "stdout",
     "output_type": "stream",
     "text": [
      "Collected 256 tweets at 2023-05-12.\n",
      "Running twitter query: \"(#covid) lang:en until:2023-05-14 since:2023-05-13\"\n"
     ]
    },
    {
     "name": "stderr",
     "output_type": "stream",
     "text": [
      "Stopping after 20 empty pages\n",
      " 99%|███████████████████████████████████████████████████████████████████████████▏| 1188/1201 [4:29:46<02:53, 13.38s/it]"
     ]
    },
    {
     "name": "stdout",
     "output_type": "stream",
     "text": [
      "Collected 173 tweets at 2023-05-13.\n",
      "Running twitter query: \"(#covid) lang:en until:2023-05-15 since:2023-05-14\"\n"
     ]
    },
    {
     "name": "stderr",
     "output_type": "stream",
     "text": [
      "Could not translate t.co card URL on tweet 1657789248471289857\n",
      "Unavailable user in card on tweet 1657787387387457537\n",
      "Unavailable user in card on tweet 1657787387387457537\n",
      "User 15843059 not found in user refs in card on tweet 1657787387387457537\n",
      "User 15843059 not found in user refs in card on tweet 1657787387387457537\n",
      " 99%|███████████████████████████████████████████████████████████████████████████▏| 1189/1201 [4:29:58<02:36, 13.03s/it]"
     ]
    },
    {
     "name": "stdout",
     "output_type": "stream",
     "text": [
      "Collected 256 tweets at 2023-05-14.\n",
      "Running twitter query: \"(#covid) lang:en until:2023-05-16 since:2023-05-15\"\n"
     ]
    },
    {
     "name": "stderr",
     "output_type": "stream",
     "text": [
      "Unavailable user in card on tweet 1658161508025761793\n",
      "Unavailable user in card on tweet 1658161508025761793\n",
      "User 15843059 not found in user refs in card on tweet 1658161508025761793\n",
      "User 15843059 not found in user refs in card on tweet 1658161508025761793\n",
      " 99%|███████████████████████████████████████████████████████████████████████████▎| 1190/1201 [4:30:12<02:26, 13.36s/it]"
     ]
    },
    {
     "name": "stdout",
     "output_type": "stream",
     "text": [
      "Collected 256 tweets at 2023-05-15.\n",
      "Running twitter query: \"(#covid) lang:en until:2023-05-17 since:2023-05-16\"\n"
     ]
    },
    {
     "name": "stderr",
     "output_type": "stream",
     "text": [
      "\r",
      " 99%|███████████████████████████████████████████████████████████████████████████▎| 1191/1201 [4:30:25<02:12, 13.25s/it]"
     ]
    },
    {
     "name": "stdout",
     "output_type": "stream",
     "text": [
      "Collected 256 tweets at 2023-05-16.\n",
      "Running twitter query: \"(#covid) lang:en until:2023-05-18 since:2023-05-17\"\n"
     ]
    },
    {
     "name": "stderr",
     "output_type": "stream",
     "text": [
      "Stopping after 20 empty pages\n",
      " 99%|███████████████████████████████████████████████████████████████████████████▍| 1192/1201 [4:30:44<02:12, 14.77s/it]"
     ]
    },
    {
     "name": "stdout",
     "output_type": "stream",
     "text": [
      "Collected 225 tweets at 2023-05-17.\n",
      "Running twitter query: \"(#covid) lang:en until:2023-05-19 since:2023-05-18\"\n"
     ]
    },
    {
     "name": "stderr",
     "output_type": "stream",
     "text": [
      "Unavailable user in card on tweet 1659289926855192595\n",
      "Unavailable user in card on tweet 1659289926855192595\n",
      "User 15843059 not found in user refs in card on tweet 1659289926855192595\n",
      "User 15843059 not found in user refs in card on tweet 1659289926855192595\n",
      "Unavailable user in card on tweet 1659253343863152640\n",
      "Unavailable user in card on tweet 1659253343863152640\n",
      "User 1062915983294300160 not found in user refs in card on tweet 1659253343863152640\n",
      "User 1062915983294300160 not found in user refs in card on tweet 1659253343863152640\n",
      " 99%|███████████████████████████████████████████████████████████████████████████▍| 1193/1201 [4:30:58<01:56, 14.59s/it]"
     ]
    },
    {
     "name": "stdout",
     "output_type": "stream",
     "text": [
      "Collected 256 tweets at 2023-05-18.\n",
      "Running twitter query: \"(#covid) lang:en until:2023-05-20 since:2023-05-19\"\n"
     ]
    },
    {
     "name": "stderr",
     "output_type": "stream",
     "text": [
      "Unavailable user in card on tweet 1659670572459081728\n",
      "Unavailable user in card on tweet 1659670572459081728\n",
      "User 15843059 not found in user refs in card on tweet 1659670572459081728\n",
      "User 15843059 not found in user refs in card on tweet 1659670572459081728\n",
      "Unavailable user in card on tweet 1659670482621280261\n",
      "Unavailable user in card on tweet 1659670482621280261\n",
      "User 15843059 not found in user refs in card on tweet 1659670482621280261\n",
      "User 15843059 not found in user refs in card on tweet 1659670482621280261\n",
      "Unavailable user in card on tweet 1659662482590388226\n",
      "User 1434052940 not found in user refs in card on tweet 1659662482590388226\n",
      "Stopping after 20 empty pages\n",
      " 99%|███████████████████████████████████████████████████████████████████████████▌| 1194/1201 [4:31:19<01:56, 16.63s/it]"
     ]
    },
    {
     "name": "stdout",
     "output_type": "stream",
     "text": [
      "Collected 219 tweets at 2023-05-19.\n",
      "Running twitter query: \"(#covid) lang:en until:2023-05-21 since:2023-05-20\"\n"
     ]
    },
    {
     "name": "stderr",
     "output_type": "stream",
     "text": [
      "Unavailable user in card on tweet 1659952123499487232\n",
      "Unavailable user in card on tweet 1659952123499487232\n",
      "User 1062915983294300160 not found in user refs in card on tweet 1659952123499487232\n",
      "User 1062915983294300160 not found in user refs in card on tweet 1659952123499487232\n",
      "Unavailable user in card on tweet 1659970787171012609\n",
      "Unavailable user in card on tweet 1659970787171012609\n",
      "User 15843059 not found in user refs in card on tweet 1659970787171012609\n",
      "User 15843059 not found in user refs in card on tweet 1659970787171012609\n",
      "100%|███████████████████████████████████████████████████████████████████████████▌| 1195/1201 [4:31:33<01:34, 15.67s/it]"
     ]
    },
    {
     "name": "stdout",
     "output_type": "stream",
     "text": [
      "Collected 256 tweets at 2023-05-20.\n",
      "Running twitter query: \"(#covid) lang:en until:2023-05-22 since:2023-05-21\"\n"
     ]
    },
    {
     "name": "stderr",
     "output_type": "stream",
     "text": [
      "Could not translate t.co card URL on tweet 1660304537964498951\n",
      "Unavailable user in card on tweet 1660294051982360576\n",
      "Unavailable user in card on tweet 1660294051982360576\n",
      "User 15843059 not found in user refs in card on tweet 1660294051982360576\n",
      "User 15843059 not found in user refs in card on tweet 1660294051982360576\n",
      "100%|███████████████████████████████████████████████████████████████████████████▋| 1196/1201 [4:31:47<01:16, 15.37s/it]"
     ]
    },
    {
     "name": "stdout",
     "output_type": "stream",
     "text": [
      "Collected 256 tweets at 2023-05-21.\n",
      "Running twitter query: \"(#covid) lang:en until:2023-05-23 since:2023-05-22\"\n"
     ]
    },
    {
     "name": "stderr",
     "output_type": "stream",
     "text": [
      "Could not translate t.co card URL on tweet 1660775038906245120\n",
      "100%|███████████████████████████████████████████████████████████████████████████▋| 1197/1201 [4:32:02<01:00, 15.21s/it]"
     ]
    },
    {
     "name": "stdout",
     "output_type": "stream",
     "text": [
      "Collected 256 tweets at 2023-05-22.\n",
      "Running twitter query: \"(#covid) lang:en until:2023-05-24 since:2023-05-23\"\n"
     ]
    },
    {
     "name": "stderr",
     "output_type": "stream",
     "text": [
      "Unavailable user in card on tweet 1661114114163499012\n",
      "User 14204245 not found in user refs in card on tweet 1661114114163499012\n",
      "Could not translate t.co card URL on tweet 1661104532690968585\n",
      "100%|███████████████████████████████████████████████████████████████████████████▊| 1198/1201 [4:32:19<00:46, 15.55s/it]"
     ]
    },
    {
     "name": "stdout",
     "output_type": "stream",
     "text": [
      "Collected 256 tweets at 2023-05-23.\n",
      "Running twitter query: \"(#covid) lang:en until:2023-05-25 since:2023-05-24\"\n"
     ]
    },
    {
     "name": "stderr",
     "output_type": "stream",
     "text": [
      "\r",
      "100%|███████████████████████████████████████████████████████████████████████████▊| 1199/1201 [4:32:32<00:29, 14.91s/it]"
     ]
    },
    {
     "name": "stdout",
     "output_type": "stream",
     "text": [
      "Collected 256 tweets at 2023-05-24.\n",
      "Running twitter query: \"(#covid) lang:en until:2023-05-26 since:2023-05-25\"\n"
     ]
    },
    {
     "name": "stderr",
     "output_type": "stream",
     "text": [
      "Unavailable user in card on tweet 1661856815557259264\n",
      "User 14204245 not found in user refs in card on tweet 1661856815557259264\n",
      "Unavailable user in card on tweet 1661732575088611330\n",
      "Unavailable user in card on tweet 1661732575088611330\n",
      "User 1062915983294300160 not found in user refs in card on tweet 1661732575088611330\n",
      "User 1062915983294300160 not found in user refs in card on tweet 1661732575088611330\n",
      "100%|███████████████████████████████████████████████████████████████████████████▉| 1200/1201 [4:32:46<00:14, 14.72s/it]"
     ]
    },
    {
     "name": "stdout",
     "output_type": "stream",
     "text": [
      "Collected 256 tweets at 2023-05-25.\n",
      "Running twitter query: \"(#covid) lang:en until:2023-05-27 since:2023-05-26\"\n"
     ]
    },
    {
     "name": "stderr",
     "output_type": "stream",
     "text": [
      "Unavailable user in card on tweet 1662172279051042817\n",
      "Unavailable user in card on tweet 1662172279051042817\n",
      "User 1062915983294300160 not found in user refs in card on tweet 1662172279051042817\n",
      "User 1062915983294300160 not found in user refs in card on tweet 1662172279051042817\n",
      "Unavailable user in card on tweet 1662168127533375488\n",
      "Unavailable user in card on tweet 1662168127533375488\n",
      "User 1062915983294300160 not found in user refs in card on tweet 1662168127533375488\n",
      "User 1062915983294300160 not found in user refs in card on tweet 1662168127533375488\n",
      "Unavailable user in card on tweet 1662148193629659137\n",
      "User 218852667 not found in user refs in card on tweet 1662148193629659137\n",
      "100%|████████████████████████████████████████████████████████████████████████████| 1201/1201 [4:33:01<00:00, 13.64s/it]"
     ]
    },
    {
     "name": "stdout",
     "output_type": "stream",
     "text": [
      "Collected 256 tweets at 2023-05-26.\n",
      "Saving 6508 tweets at 2023-05.\n"
     ]
    },
    {
     "name": "stderr",
     "output_type": "stream",
     "text": [
      "\n"
     ]
    }
   ],
   "source": [
    "# formattable twitter query\n",
    "query = \"(#covid) lang:en until:%s since:%s\"\n",
    "# intialize the dataframe\n",
    "tweets_df = pd.DataFrame()\n",
    "# saved months\n",
    "saved_month = set([query_dates[0][:-3]])\n",
    "# iterate date pairs, and query every day\n",
    "for i in tqdm.tqdm(range(len(query_dates)-1)):\n",
    "    day_query = query % (query_dates[i+1], query_dates[i])\n",
    "    # save DataFrame each month\n",
    "    if query_dates[i][:-3] not in saved_month:\n",
    "        print('Saving %d tweets at %s.' % (tweets_df.shape[0], query_dates[i-1][:-3]))\n",
    "        tweets_df.to_csv('%s.csv' % query_dates[i-1][:-3])\n",
    "        tweets_df = pd.DataFrame()\n",
    "        saved_month.add(query_dates[i][:-3])\n",
    "    print('Running twitter query: \"%s\"' % day_query)\n",
    "    j = 0\n",
    "    for j, tweet in enumerate(sntw.TwitterSearchScraper(day_query).get_items()):\n",
    "        if j >= 256: # hard limit per day\n",
    "            break\n",
    "        # Tweet to DataFrame columns\n",
    "        df_dict = tweet_to_columns(tweet)\n",
    "        # Append to DataFrame\n",
    "        tweets_df = pd.concat([tweets_df, pd.DataFrame(df_dict, index=[0])])\n",
    "        tweets_df = tweets_df.reset_index(drop=True)\n",
    "    print('Collected %d tweets at %s.' % (j, query_dates[i]))\n",
    "\n",
    "print('Saving %d tweets at %s.' % (tweets_df.shape[0], query_dates[-1][:-3]))\n",
    "tweets_df.to_csv('%s.csv' % query_dates[-1][:-3])"
   ]
  },
  {
   "cell_type": "code",
   "execution_count": 5,
   "id": "f8adb5f8",
   "metadata": {},
   "outputs": [
    {
     "data": {
      "text/html": [
       "<div>\n",
       "<style scoped>\n",
       "    .dataframe tbody tr th:only-of-type {\n",
       "        vertical-align: middle;\n",
       "    }\n",
       "\n",
       "    .dataframe tbody tr th {\n",
       "        vertical-align: top;\n",
       "    }\n",
       "\n",
       "    .dataframe thead th {\n",
       "        text-align: right;\n",
       "    }\n",
       "</style>\n",
       "<table border=\"1\" class=\"dataframe\">\n",
       "  <thead>\n",
       "    <tr style=\"text-align: right;\">\n",
       "      <th></th>\n",
       "      <th>id</th>\n",
       "      <th>date</th>\n",
       "      <th>url</th>\n",
       "      <th>lenContent</th>\n",
       "      <th>replyCount</th>\n",
       "      <th>retweetCount</th>\n",
       "      <th>likeCount</th>\n",
       "      <th>quoteCount</th>\n",
       "      <th>lang</th>\n",
       "      <th>hasLinks</th>\n",
       "      <th>...</th>\n",
       "      <th>hasHashtags</th>\n",
       "      <th>userId</th>\n",
       "      <th>displayName</th>\n",
       "      <th>userDescription</th>\n",
       "      <th>verified</th>\n",
       "      <th>createDate</th>\n",
       "      <th>followerCount</th>\n",
       "      <th>friendCount</th>\n",
       "      <th>userLocation</th>\n",
       "      <th>rawContent</th>\n",
       "    </tr>\n",
       "  </thead>\n",
       "  <tbody>\n",
       "    <tr>\n",
       "      <th>5546</th>\n",
       "      <td>1661130151403352064</td>\n",
       "      <td>2023-05-23</td>\n",
       "      <td>https://twitter.com/RenzTom/status/16611301514...</td>\n",
       "      <td>282</td>\n",
       "      <td>49</td>\n",
       "      <td>167</td>\n",
       "      <td>445</td>\n",
       "      <td>8</td>\n",
       "      <td>en</td>\n",
       "      <td>False</td>\n",
       "      <td>...</td>\n",
       "      <td>True</td>\n",
       "      <td>1317304122</td>\n",
       "      <td>Tom Renz</td>\n",
       "      <td>Renz Law (https://t.co/4nm1IA6XmI), https://t....</td>\n",
       "      <td>False</td>\n",
       "      <td>2013-03-30</td>\n",
       "      <td>133888</td>\n",
       "      <td>90</td>\n",
       "      <td>Ohio</td>\n",
       "      <td>Ron DeSantis saw through COVID corruption. Tod...</td>\n",
       "    </tr>\n",
       "    <tr>\n",
       "      <th>4266</th>\n",
       "      <td>1659337576652869632</td>\n",
       "      <td>2023-05-18</td>\n",
       "      <td>https://twitter.com/bradboyqld/status/16593375...</td>\n",
       "      <td>128</td>\n",
       "      <td>0</td>\n",
       "      <td>0</td>\n",
       "      <td>0</td>\n",
       "      <td>0</td>\n",
       "      <td>en</td>\n",
       "      <td>False</td>\n",
       "      <td>...</td>\n",
       "      <td>True</td>\n",
       "      <td>175194959</td>\n",
       "      <td>Parody Freedom-Hater Feldspar Gate Bison 💉</td>\n",
       "      <td>MARIE DAWN CONNORS\\n17.4.1932 - 1.2.2019\\nMy b...</td>\n",
       "      <td>False</td>\n",
       "      <td>2010-08-05</td>\n",
       "      <td>607</td>\n",
       "      <td>114</td>\n",
       "      <td></td>\n",
       "      <td>Even without @qldhealth numbers, it's still a ...</td>\n",
       "    </tr>\n",
       "    <tr>\n",
       "      <th>3285</th>\n",
       "      <td>1657865236559327236</td>\n",
       "      <td>2023-05-14</td>\n",
       "      <td>https://twitter.com/Notlikswehttam/status/1657...</td>\n",
       "      <td>147</td>\n",
       "      <td>0</td>\n",
       "      <td>1</td>\n",
       "      <td>1</td>\n",
       "      <td>0</td>\n",
       "      <td>en</td>\n",
       "      <td>False</td>\n",
       "      <td>...</td>\n",
       "      <td>False</td>\n",
       "      <td>1634235076828381191</td>\n",
       "      <td>Matt Skilton</td>\n",
       "      <td>Family,\\nDog,\\nEngland,\\nMan Utd,\\nWoke to som...</td>\n",
       "      <td>False</td>\n",
       "      <td>2023-03-10</td>\n",
       "      <td>63</td>\n",
       "      <td>822</td>\n",
       "      <td></td>\n",
       "      <td>Well I can honestly say round 4 of #covid suck...</td>\n",
       "    </tr>\n",
       "    <tr>\n",
       "      <th>3668</th>\n",
       "      <td>1658177829077659648</td>\n",
       "      <td>2023-05-15</td>\n",
       "      <td>https://twitter.com/Kathy_Edm/status/165817782...</td>\n",
       "      <td>278</td>\n",
       "      <td>1</td>\n",
       "      <td>0</td>\n",
       "      <td>0</td>\n",
       "      <td>0</td>\n",
       "      <td>en</td>\n",
       "      <td>False</td>\n",
       "      <td>...</td>\n",
       "      <td>True</td>\n",
       "      <td>19360482</td>\n",
       "      <td>Kathy: Mask for good health, Purple ☮️🇨🇦and 🙃</td>\n",
       "      <td>'great spirits have always encountered violent...</td>\n",
       "      <td>False</td>\n",
       "      <td>2009-01-22</td>\n",
       "      <td>1849</td>\n",
       "      <td>2860</td>\n",
       "      <td>Alberta, Canada</td>\n",
       "      <td>#DANIELLESMITH discussing drug used by addicts...</td>\n",
       "    </tr>\n",
       "    <tr>\n",
       "      <th>973</th>\n",
       "      <td>1654182851812761603</td>\n",
       "      <td>2023-05-04</td>\n",
       "      <td>https://twitter.com/jodrell/status/16541828518...</td>\n",
       "      <td>184</td>\n",
       "      <td>0</td>\n",
       "      <td>0</td>\n",
       "      <td>1</td>\n",
       "      <td>0</td>\n",
       "      <td>en</td>\n",
       "      <td>False</td>\n",
       "      <td>...</td>\n",
       "      <td>True</td>\n",
       "      <td>818671</td>\n",
       "      <td>Adam Reynolds</td>\n",
       "      <td>Home Brewer, DBA, geek, golfer &amp; gamer EULA ht...</td>\n",
       "      <td>False</td>\n",
       "      <td>2007-03-07</td>\n",
       "      <td>534</td>\n",
       "      <td>394</td>\n",
       "      <td>The Shadow knows</td>\n",
       "      <td>Bin dun had my 6th Covid jab at lunchtime toda...</td>\n",
       "    </tr>\n",
       "  </tbody>\n",
       "</table>\n",
       "<p>5 rows × 25 columns</p>\n",
       "</div>"
      ],
      "text/plain": [
       "                       id        date  \\\n",
       "5546  1661130151403352064  2023-05-23   \n",
       "4266  1659337576652869632  2023-05-18   \n",
       "3285  1657865236559327236  2023-05-14   \n",
       "3668  1658177829077659648  2023-05-15   \n",
       "973   1654182851812761603  2023-05-04   \n",
       "\n",
       "                                                    url  lenContent  \\\n",
       "5546  https://twitter.com/RenzTom/status/16611301514...         282   \n",
       "4266  https://twitter.com/bradboyqld/status/16593375...         128   \n",
       "3285  https://twitter.com/Notlikswehttam/status/1657...         147   \n",
       "3668  https://twitter.com/Kathy_Edm/status/165817782...         278   \n",
       "973   https://twitter.com/jodrell/status/16541828518...         184   \n",
       "\n",
       "      replyCount  retweetCount  likeCount  quoteCount lang  hasLinks  ...  \\\n",
       "5546          49           167        445           8   en     False  ...   \n",
       "4266           0             0          0           0   en     False  ...   \n",
       "3285           0             1          1           0   en     False  ...   \n",
       "3668           1             0          0           0   en     False  ...   \n",
       "973            0             0          1           0   en     False  ...   \n",
       "\n",
       "      hasHashtags               userId  \\\n",
       "5546         True           1317304122   \n",
       "4266         True            175194959   \n",
       "3285        False  1634235076828381191   \n",
       "3668         True             19360482   \n",
       "973          True               818671   \n",
       "\n",
       "                                        displayName  \\\n",
       "5546                                       Tom Renz   \n",
       "4266     Parody Freedom-Hater Feldspar Gate Bison 💉   \n",
       "3285                                   Matt Skilton   \n",
       "3668  Kathy: Mask for good health, Purple ☮️🇨🇦and 🙃   \n",
       "973                                   Adam Reynolds   \n",
       "\n",
       "                                        userDescription  verified  createDate  \\\n",
       "5546  Renz Law (https://t.co/4nm1IA6XmI), https://t....     False  2013-03-30   \n",
       "4266  MARIE DAWN CONNORS\\n17.4.1932 - 1.2.2019\\nMy b...     False  2010-08-05   \n",
       "3285  Family,\\nDog,\\nEngland,\\nMan Utd,\\nWoke to som...     False  2023-03-10   \n",
       "3668  'great spirits have always encountered violent...     False  2009-01-22   \n",
       "973   Home Brewer, DBA, geek, golfer & gamer EULA ht...     False  2007-03-07   \n",
       "\n",
       "      followerCount friendCount      userLocation  \\\n",
       "5546         133888          90              Ohio   \n",
       "4266            607         114                     \n",
       "3285             63         822                     \n",
       "3668           1849        2860   Alberta, Canada   \n",
       "973             534         394  The Shadow knows   \n",
       "\n",
       "                                             rawContent  \n",
       "5546  Ron DeSantis saw through COVID corruption. Tod...  \n",
       "4266  Even without @qldhealth numbers, it's still a ...  \n",
       "3285  Well I can honestly say round 4 of #covid suck...  \n",
       "3668  #DANIELLESMITH discussing drug used by addicts...  \n",
       "973   Bin dun had my 6th Covid jab at lunchtime toda...  \n",
       "\n",
       "[5 rows x 25 columns]"
      ]
     },
     "execution_count": 5,
     "metadata": {},
     "output_type": "execute_result"
    }
   ],
   "source": [
    "tweets_df.sample(5)"
   ]
  }
 ],
 "metadata": {
  "kernelspec": {
   "display_name": "Python 3 (ipykernel)",
   "language": "python",
   "name": "python3"
  },
  "language_info": {
   "codemirror_mode": {
    "name": "ipython",
    "version": 3
   },
   "file_extension": ".py",
   "mimetype": "text/x-python",
   "name": "python",
   "nbconvert_exporter": "python",
   "pygments_lexer": "ipython3",
   "version": "3.10.9"
  }
 },
 "nbformat": 4,
 "nbformat_minor": 5
}
