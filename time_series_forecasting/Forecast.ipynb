{
 "cells": [
  {
   "cell_type": "code",
   "execution_count": 1,
   "id": "25986acb",
   "metadata": {},
   "outputs": [],
   "source": [
    "# BASE\n",
    "from datetime import datetime, date, timedelta\n",
    "import numpy as np\n",
    "import pandas as pd\n",
    "\n",
    "# VISUALS\n",
    "import matplotlib.pyplot as plt\n",
    "import seaborn as sns\n",
    "\n",
    "# MODELING\n",
    "from hyperopt import hp, tpe, fmin, space_eval, Trials, STATUS_OK, STATUS_FAIL \n",
    "from sklearn.metrics import mean_squared_error\n",
    "\n",
    "# TIME SERIES\n",
    "from statsmodels.tsa.statespace.sarimax import SARIMAX\n",
    "from statsmodels.tsa.arima.model import ARIMA\n",
    "\n",
    "# DEEP LEARNING\n",
    "import tensorflow as tf\n",
    "import keras\n",
    "from keras import layers\n",
    "from keras import backend as K\n",
    "from keras.models import Sequential\n",
    "from keras.optimizers import Adam\n",
    "import keras_tuner as kt\n",
    "\n",
    "RND_SEED = 1234"
   ]
  },
  {
   "cell_type": "markdown",
   "id": "204847ad",
   "metadata": {},
   "source": [
    "## 1. Prepare Data\n",
    "\n",
    "### 1.1 Load Data"
   ]
  },
  {
   "cell_type": "code",
   "execution_count": 2,
   "id": "a8180ad6",
   "metadata": {},
   "outputs": [
    {
     "name": "stdout",
     "output_type": "stream",
     "text": [
      "Tweet Data date range is from 2020-02-11 to 2023-05-24\n"
     ]
    },
    {
     "data": {
      "text/html": [
       "<div>\n",
       "<style scoped>\n",
       "    .dataframe tbody tr th:only-of-type {\n",
       "        vertical-align: middle;\n",
       "    }\n",
       "\n",
       "    .dataframe tbody tr th {\n",
       "        vertical-align: top;\n",
       "    }\n",
       "\n",
       "    .dataframe thead th {\n",
       "        text-align: right;\n",
       "    }\n",
       "</style>\n",
       "<table border=\"1\" class=\"dataframe\">\n",
       "  <thead>\n",
       "    <tr style=\"text-align: right;\">\n",
       "      <th></th>\n",
       "      <th>count_pos_tweets</th>\n",
       "      <th>count_neg_tweets</th>\n",
       "      <th>ratio_pos_tweets</th>\n",
       "      <th>average_lenContent</th>\n",
       "      <th>average_replyCount</th>\n",
       "      <th>average_retweetCount</th>\n",
       "      <th>average_likeCount</th>\n",
       "      <th>average_quoteCount</th>\n",
       "      <th>average_followerCount</th>\n",
       "      <th>average_friendCount</th>\n",
       "      <th>...</th>\n",
       "      <th>average_neu</th>\n",
       "      <th>average_neg</th>\n",
       "      <th>average_compound</th>\n",
       "      <th>count_all</th>\n",
       "      <th>count_hasLinks</th>\n",
       "      <th>count_hasMedia</th>\n",
       "      <th>count_isRetweeted</th>\n",
       "      <th>count_isQuoted</th>\n",
       "      <th>count_hasHashtags</th>\n",
       "      <th>count_verified</th>\n",
       "    </tr>\n",
       "  </thead>\n",
       "  <tbody>\n",
       "    <tr>\n",
       "      <th>2020-03-06</th>\n",
       "      <td>113.0</td>\n",
       "      <td>143.0</td>\n",
       "      <td>0.441406</td>\n",
       "      <td>184.605469</td>\n",
       "      <td>0.613281</td>\n",
       "      <td>2.429688</td>\n",
       "      <td>4.734375</td>\n",
       "      <td>0.253906</td>\n",
       "      <td>13198.480469</td>\n",
       "      <td>2306.441406</td>\n",
       "      <td>...</td>\n",
       "      <td>0.773918</td>\n",
       "      <td>0.098062</td>\n",
       "      <td>0.063131</td>\n",
       "      <td>256.0</td>\n",
       "      <td>100.0</td>\n",
       "      <td>62.0</td>\n",
       "      <td>0.0</td>\n",
       "      <td>48.0</td>\n",
       "      <td>190.0</td>\n",
       "      <td>0.0</td>\n",
       "    </tr>\n",
       "    <tr>\n",
       "      <th>2021-06-15</th>\n",
       "      <td>115.0</td>\n",
       "      <td>141.0</td>\n",
       "      <td>0.449219</td>\n",
       "      <td>192.300781</td>\n",
       "      <td>0.218750</td>\n",
       "      <td>0.632812</td>\n",
       "      <td>1.910156</td>\n",
       "      <td>0.050781</td>\n",
       "      <td>38525.597656</td>\n",
       "      <td>2839.289062</td>\n",
       "      <td>...</td>\n",
       "      <td>0.791219</td>\n",
       "      <td>0.084934</td>\n",
       "      <td>0.091997</td>\n",
       "      <td>256.0</td>\n",
       "      <td>130.0</td>\n",
       "      <td>79.0</td>\n",
       "      <td>0.0</td>\n",
       "      <td>25.0</td>\n",
       "      <td>196.0</td>\n",
       "      <td>0.0</td>\n",
       "    </tr>\n",
       "    <tr>\n",
       "      <th>2022-08-07</th>\n",
       "      <td>102.0</td>\n",
       "      <td>154.0</td>\n",
       "      <td>0.398438</td>\n",
       "      <td>199.554688</td>\n",
       "      <td>0.695312</td>\n",
       "      <td>2.390625</td>\n",
       "      <td>9.742188</td>\n",
       "      <td>0.101562</td>\n",
       "      <td>4815.457031</td>\n",
       "      <td>1817.140625</td>\n",
       "      <td>...</td>\n",
       "      <td>0.771645</td>\n",
       "      <td>0.105105</td>\n",
       "      <td>0.015093</td>\n",
       "      <td>256.0</td>\n",
       "      <td>107.0</td>\n",
       "      <td>71.0</td>\n",
       "      <td>0.0</td>\n",
       "      <td>31.0</td>\n",
       "      <td>209.0</td>\n",
       "      <td>0.0</td>\n",
       "    </tr>\n",
       "    <tr>\n",
       "      <th>2021-09-15</th>\n",
       "      <td>81.0</td>\n",
       "      <td>175.0</td>\n",
       "      <td>0.316406</td>\n",
       "      <td>190.136719</td>\n",
       "      <td>1.109375</td>\n",
       "      <td>1.617188</td>\n",
       "      <td>5.378906</td>\n",
       "      <td>0.425781</td>\n",
       "      <td>43223.187500</td>\n",
       "      <td>2508.042969</td>\n",
       "      <td>...</td>\n",
       "      <td>0.777383</td>\n",
       "      <td>0.120363</td>\n",
       "      <td>-0.064393</td>\n",
       "      <td>256.0</td>\n",
       "      <td>107.0</td>\n",
       "      <td>54.0</td>\n",
       "      <td>0.0</td>\n",
       "      <td>44.0</td>\n",
       "      <td>189.0</td>\n",
       "      <td>0.0</td>\n",
       "    </tr>\n",
       "    <tr>\n",
       "      <th>2022-09-08</th>\n",
       "      <td>114.0</td>\n",
       "      <td>142.0</td>\n",
       "      <td>0.445312</td>\n",
       "      <td>203.945312</td>\n",
       "      <td>2.746094</td>\n",
       "      <td>2.066406</td>\n",
       "      <td>10.015625</td>\n",
       "      <td>0.312500</td>\n",
       "      <td>15208.179688</td>\n",
       "      <td>2248.722656</td>\n",
       "      <td>...</td>\n",
       "      <td>0.767094</td>\n",
       "      <td>0.114590</td>\n",
       "      <td>0.027530</td>\n",
       "      <td>256.0</td>\n",
       "      <td>137.0</td>\n",
       "      <td>62.0</td>\n",
       "      <td>0.0</td>\n",
       "      <td>34.0</td>\n",
       "      <td>204.0</td>\n",
       "      <td>0.0</td>\n",
       "    </tr>\n",
       "  </tbody>\n",
       "</table>\n",
       "<p>5 rows × 21 columns</p>\n",
       "</div>"
      ],
      "text/plain": [
       "            count_pos_tweets  count_neg_tweets  ratio_pos_tweets  \\\n",
       "2020-03-06             113.0             143.0          0.441406   \n",
       "2021-06-15             115.0             141.0          0.449219   \n",
       "2022-08-07             102.0             154.0          0.398438   \n",
       "2021-09-15              81.0             175.0          0.316406   \n",
       "2022-09-08             114.0             142.0          0.445312   \n",
       "\n",
       "            average_lenContent  average_replyCount  average_retweetCount  \\\n",
       "2020-03-06          184.605469            0.613281              2.429688   \n",
       "2021-06-15          192.300781            0.218750              0.632812   \n",
       "2022-08-07          199.554688            0.695312              2.390625   \n",
       "2021-09-15          190.136719            1.109375              1.617188   \n",
       "2022-09-08          203.945312            2.746094              2.066406   \n",
       "\n",
       "            average_likeCount  average_quoteCount  average_followerCount  \\\n",
       "2020-03-06           4.734375            0.253906           13198.480469   \n",
       "2021-06-15           1.910156            0.050781           38525.597656   \n",
       "2022-08-07           9.742188            0.101562            4815.457031   \n",
       "2021-09-15           5.378906            0.425781           43223.187500   \n",
       "2022-09-08          10.015625            0.312500           15208.179688   \n",
       "\n",
       "            average_friendCount  ...  average_neu  average_neg  \\\n",
       "2020-03-06          2306.441406  ...     0.773918     0.098062   \n",
       "2021-06-15          2839.289062  ...     0.791219     0.084934   \n",
       "2022-08-07          1817.140625  ...     0.771645     0.105105   \n",
       "2021-09-15          2508.042969  ...     0.777383     0.120363   \n",
       "2022-09-08          2248.722656  ...     0.767094     0.114590   \n",
       "\n",
       "            average_compound  count_all  count_hasLinks  count_hasMedia  \\\n",
       "2020-03-06          0.063131      256.0           100.0            62.0   \n",
       "2021-06-15          0.091997      256.0           130.0            79.0   \n",
       "2022-08-07          0.015093      256.0           107.0            71.0   \n",
       "2021-09-15         -0.064393      256.0           107.0            54.0   \n",
       "2022-09-08          0.027530      256.0           137.0            62.0   \n",
       "\n",
       "            count_isRetweeted  count_isQuoted  count_hasHashtags  \\\n",
       "2020-03-06                0.0            48.0              190.0   \n",
       "2021-06-15                0.0            25.0              196.0   \n",
       "2022-08-07                0.0            31.0              209.0   \n",
       "2021-09-15                0.0            44.0              189.0   \n",
       "2022-09-08                0.0            34.0              204.0   \n",
       "\n",
       "            count_verified  \n",
       "2020-03-06             0.0  \n",
       "2021-06-15             0.0  \n",
       "2022-08-07             0.0  \n",
       "2021-09-15             0.0  \n",
       "2022-09-08             0.0  \n",
       "\n",
       "[5 rows x 21 columns]"
      ]
     },
     "execution_count": 2,
     "metadata": {},
     "output_type": "execute_result"
    }
   ],
   "source": [
    "df = pd.read_csv('../data_mongo_mapreduce/daily_tweets.csv', index_col=0).sort_index()\n",
    "date_range = list(sorted(df.index))\n",
    "print('Tweet Data date range is from %s to %s' % (date_range[0], date_range[-1]))\n",
    "df.sample(5)"
   ]
  },
  {
   "cell_type": "markdown",
   "id": "cddbc961",
   "metadata": {},
   "source": [
    "### 1.2 Split Data for Validation"
   ]
  },
  {
   "cell_type": "code",
   "execution_count": 3,
   "id": "2068482a",
   "metadata": {},
   "outputs": [
    {
     "data": {
      "text/html": [
       "<div>\n",
       "<style scoped>\n",
       "    .dataframe tbody tr th:only-of-type {\n",
       "        vertical-align: middle;\n",
       "    }\n",
       "\n",
       "    .dataframe tbody tr th {\n",
       "        vertical-align: top;\n",
       "    }\n",
       "\n",
       "    .dataframe thead th {\n",
       "        text-align: right;\n",
       "    }\n",
       "</style>\n",
       "<table border=\"1\" class=\"dataframe\">\n",
       "  <thead>\n",
       "    <tr style=\"text-align: right;\">\n",
       "      <th></th>\n",
       "      <th>count_pos_tweets</th>\n",
       "      <th>count_neg_tweets</th>\n",
       "      <th>ratio_pos_tweets</th>\n",
       "      <th>average_lenContent</th>\n",
       "      <th>average_replyCount</th>\n",
       "      <th>average_retweetCount</th>\n",
       "      <th>average_likeCount</th>\n",
       "      <th>average_quoteCount</th>\n",
       "      <th>average_followerCount</th>\n",
       "      <th>average_friendCount</th>\n",
       "      <th>...</th>\n",
       "      <th>average_neu</th>\n",
       "      <th>average_neg</th>\n",
       "      <th>average_compound</th>\n",
       "      <th>count_all</th>\n",
       "      <th>count_hasLinks</th>\n",
       "      <th>count_hasMedia</th>\n",
       "      <th>count_isRetweeted</th>\n",
       "      <th>count_isQuoted</th>\n",
       "      <th>count_hasHashtags</th>\n",
       "      <th>count_verified</th>\n",
       "    </tr>\n",
       "  </thead>\n",
       "  <tbody>\n",
       "    <tr>\n",
       "      <th>2023-01-27</th>\n",
       "      <td>93.0</td>\n",
       "      <td>163.0</td>\n",
       "      <td>0.363281</td>\n",
       "      <td>202.167969</td>\n",
       "      <td>0.359375</td>\n",
       "      <td>1.199219</td>\n",
       "      <td>4.363281</td>\n",
       "      <td>0.078125</td>\n",
       "      <td>8078.062500</td>\n",
       "      <td>2467.613281</td>\n",
       "      <td>...</td>\n",
       "      <td>0.774086</td>\n",
       "      <td>0.119176</td>\n",
       "      <td>-0.031293</td>\n",
       "      <td>256.0</td>\n",
       "      <td>122.0</td>\n",
       "      <td>76.0</td>\n",
       "      <td>0.0</td>\n",
       "      <td>35.0</td>\n",
       "      <td>203.0</td>\n",
       "      <td>0.0</td>\n",
       "    </tr>\n",
       "    <tr>\n",
       "      <th>2023-01-28</th>\n",
       "      <td>92.0</td>\n",
       "      <td>164.0</td>\n",
       "      <td>0.359375</td>\n",
       "      <td>206.445312</td>\n",
       "      <td>2.578125</td>\n",
       "      <td>2.914062</td>\n",
       "      <td>9.195312</td>\n",
       "      <td>0.203125</td>\n",
       "      <td>40377.000000</td>\n",
       "      <td>3021.480469</td>\n",
       "      <td>...</td>\n",
       "      <td>0.763203</td>\n",
       "      <td>0.121031</td>\n",
       "      <td>-0.040393</td>\n",
       "      <td>256.0</td>\n",
       "      <td>88.0</td>\n",
       "      <td>81.0</td>\n",
       "      <td>0.0</td>\n",
       "      <td>40.0</td>\n",
       "      <td>206.0</td>\n",
       "      <td>0.0</td>\n",
       "    </tr>\n",
       "    <tr>\n",
       "      <th>2023-01-29</th>\n",
       "      <td>91.0</td>\n",
       "      <td>165.0</td>\n",
       "      <td>0.355469</td>\n",
       "      <td>201.675781</td>\n",
       "      <td>0.640625</td>\n",
       "      <td>0.972656</td>\n",
       "      <td>3.617188</td>\n",
       "      <td>0.054688</td>\n",
       "      <td>5670.730469</td>\n",
       "      <td>2750.324219</td>\n",
       "      <td>...</td>\n",
       "      <td>0.754707</td>\n",
       "      <td>0.136195</td>\n",
       "      <td>-0.064421</td>\n",
       "      <td>256.0</td>\n",
       "      <td>113.0</td>\n",
       "      <td>60.0</td>\n",
       "      <td>0.0</td>\n",
       "      <td>35.0</td>\n",
       "      <td>211.0</td>\n",
       "      <td>0.0</td>\n",
       "    </tr>\n",
       "    <tr>\n",
       "      <th>2023-01-30</th>\n",
       "      <td>78.0</td>\n",
       "      <td>178.0</td>\n",
       "      <td>0.304688</td>\n",
       "      <td>201.343750</td>\n",
       "      <td>0.949219</td>\n",
       "      <td>5.066406</td>\n",
       "      <td>14.523438</td>\n",
       "      <td>0.339844</td>\n",
       "      <td>54627.574219</td>\n",
       "      <td>4902.285156</td>\n",
       "      <td>...</td>\n",
       "      <td>0.776246</td>\n",
       "      <td>0.130523</td>\n",
       "      <td>-0.084532</td>\n",
       "      <td>256.0</td>\n",
       "      <td>133.0</td>\n",
       "      <td>72.0</td>\n",
       "      <td>0.0</td>\n",
       "      <td>38.0</td>\n",
       "      <td>201.0</td>\n",
       "      <td>0.0</td>\n",
       "    </tr>\n",
       "    <tr>\n",
       "      <th>2023-01-31</th>\n",
       "      <td>75.0</td>\n",
       "      <td>181.0</td>\n",
       "      <td>0.292969</td>\n",
       "      <td>196.558594</td>\n",
       "      <td>0.566406</td>\n",
       "      <td>1.917969</td>\n",
       "      <td>5.636719</td>\n",
       "      <td>0.160156</td>\n",
       "      <td>10413.304688</td>\n",
       "      <td>2195.242188</td>\n",
       "      <td>...</td>\n",
       "      <td>0.766746</td>\n",
       "      <td>0.128539</td>\n",
       "      <td>-0.092446</td>\n",
       "      <td>256.0</td>\n",
       "      <td>114.0</td>\n",
       "      <td>73.0</td>\n",
       "      <td>0.0</td>\n",
       "      <td>35.0</td>\n",
       "      <td>204.0</td>\n",
       "      <td>0.0</td>\n",
       "    </tr>\n",
       "  </tbody>\n",
       "</table>\n",
       "<p>5 rows × 21 columns</p>\n",
       "</div>"
      ],
      "text/plain": [
       "            count_pos_tweets  count_neg_tweets  ratio_pos_tweets  \\\n",
       "2023-01-27              93.0             163.0          0.363281   \n",
       "2023-01-28              92.0             164.0          0.359375   \n",
       "2023-01-29              91.0             165.0          0.355469   \n",
       "2023-01-30              78.0             178.0          0.304688   \n",
       "2023-01-31              75.0             181.0          0.292969   \n",
       "\n",
       "            average_lenContent  average_replyCount  average_retweetCount  \\\n",
       "2023-01-27          202.167969            0.359375              1.199219   \n",
       "2023-01-28          206.445312            2.578125              2.914062   \n",
       "2023-01-29          201.675781            0.640625              0.972656   \n",
       "2023-01-30          201.343750            0.949219              5.066406   \n",
       "2023-01-31          196.558594            0.566406              1.917969   \n",
       "\n",
       "            average_likeCount  average_quoteCount  average_followerCount  \\\n",
       "2023-01-27           4.363281            0.078125            8078.062500   \n",
       "2023-01-28           9.195312            0.203125           40377.000000   \n",
       "2023-01-29           3.617188            0.054688            5670.730469   \n",
       "2023-01-30          14.523438            0.339844           54627.574219   \n",
       "2023-01-31           5.636719            0.160156           10413.304688   \n",
       "\n",
       "            average_friendCount  ...  average_neu  average_neg  \\\n",
       "2023-01-27          2467.613281  ...     0.774086     0.119176   \n",
       "2023-01-28          3021.480469  ...     0.763203     0.121031   \n",
       "2023-01-29          2750.324219  ...     0.754707     0.136195   \n",
       "2023-01-30          4902.285156  ...     0.776246     0.130523   \n",
       "2023-01-31          2195.242188  ...     0.766746     0.128539   \n",
       "\n",
       "            average_compound  count_all  count_hasLinks  count_hasMedia  \\\n",
       "2023-01-27         -0.031293      256.0           122.0            76.0   \n",
       "2023-01-28         -0.040393      256.0            88.0            81.0   \n",
       "2023-01-29         -0.064421      256.0           113.0            60.0   \n",
       "2023-01-30         -0.084532      256.0           133.0            72.0   \n",
       "2023-01-31         -0.092446      256.0           114.0            73.0   \n",
       "\n",
       "            count_isRetweeted  count_isQuoted  count_hasHashtags  \\\n",
       "2023-01-27                0.0            35.0              203.0   \n",
       "2023-01-28                0.0            40.0              206.0   \n",
       "2023-01-29                0.0            35.0              211.0   \n",
       "2023-01-30                0.0            38.0              201.0   \n",
       "2023-01-31                0.0            35.0              204.0   \n",
       "\n",
       "            count_verified  \n",
       "2023-01-27             0.0  \n",
       "2023-01-28             0.0  \n",
       "2023-01-29             0.0  \n",
       "2023-01-30             0.0  \n",
       "2023-01-31             0.0  \n",
       "\n",
       "[5 rows x 21 columns]"
      ]
     },
     "execution_count": 3,
     "metadata": {},
     "output_type": "execute_result"
    }
   ],
   "source": [
    "# Split dataset for validating model performances\n",
    "train_df = df[df.index < '2023-02-01']\n",
    "test_df = df[df.index >= '2023-02-01']\n",
    "\n",
    "train_df.tail(5)"
   ]
  },
  {
   "cell_type": "markdown",
   "id": "b245a951",
   "metadata": {},
   "source": [
    "### 1.3 Convert to scaled time series"
   ]
  },
  {
   "cell_type": "code",
   "execution_count": 4,
   "id": "1c2ec273",
   "metadata": {},
   "outputs": [
    {
     "data": {
      "text/plain": [
       "count    1199.000000\n",
       "mean       51.372565\n",
       "std         3.285955\n",
       "min        40.978066\n",
       "25%        49.358096\n",
       "50%        51.384824\n",
       "75%        53.552090\n",
       "max        69.885273\n",
       "Name: average_compound, dtype: float64"
      ]
     },
     "execution_count": 4,
     "metadata": {},
     "output_type": "execute_result"
    }
   ],
   "source": [
    "# Create time series data frame for compound sentiment\n",
    "# Scale [-1,1] compound polarity scores to [0,100]\n",
    "#   Unsclaed -1 and scaled 0 are negative\n",
    "#   Unscaled 0 and scaled 50 are neutral\n",
    "#   Unscaled 1 and scaled 100 are positive\n",
    "ts_scale = lambda ts: (1 + ts) * 50\n",
    "ts_unscale = lambda ts: (ts / 50) - 1\n",
    "full = ts_scale(df['average_compound'])\n",
    "train = ts_scale(train_df['average_compound'])\n",
    "test = ts_scale(test_df['average_compound'])\n",
    "full_timestamps = np.array([[datetime.timestamp(datetime.strptime(d, '%Y-%m-%d'))] for d in full.index.values])\n",
    "train_timestamps = np.array([[datetime.timestamp(datetime.strptime(d, '%Y-%m-%d'))] for d in train.index.values])\n",
    "test_timestamps = np.array([[datetime.timestamp(datetime.strptime(d, '%Y-%m-%d'))] for d in test.index.values])\n",
    "full.describe()"
   ]
  },
  {
   "cell_type": "code",
   "execution_count": 5,
   "id": "52f8b76c",
   "metadata": {},
   "outputs": [
    {
     "data": {
      "image/png": "[encoded data removed]",
      "text/plain": [
       "<Figure size 640x480 with 1 Axes>"
      ]
     },
     "metadata": {},
     "output_type": "display_data"
    }
   ],
   "source": [
    "# Show time series over time\n",
    "plt.plot(train, color='black', label='train')\n",
    "plt.plot(test, color='red', label='test')\n",
    "plt.ylabel('Compound sentiment score')\n",
    "plt.xlabel('Date')\n",
    "plt.xticks(list(df.index)[::60], rotation=45)\n",
    "plt.legend()\n",
    "plt.title('Compoung sentiment polarity score over time (daily)')\n",
    "plt.show()"
   ]
  },
  {
   "cell_type": "markdown",
   "id": "0e37143b",
   "metadata": {},
   "source": [
    "## 2. Hyperparameter Optimization for Models"
   ]
  },
  {
   "cell_type": "code",
   "execution_count": 6,
   "id": "4fcfa64a",
   "metadata": {},
   "outputs": [],
   "source": [
    "# Create kwargs from params\n",
    "def params_to_kwargs(params):\n",
    "    named_params = {\n",
    "        'order': (params['order_0'], params['order_1'], params['order_2']),\n",
    "    }\n",
    "    if 'seaosal_0' in params:\n",
    "        named_params['seasonal_order'] = (params['seaosal_0'], params['seaosal_1'], params['seaosal_2'],\n",
    "                                          params['seaosal_3'] + 2)\n",
    "    for p in ['trend', 'measurement_error', 'time_varying_regression', 'mle_regression', 'simple_differencing',\n",
    "              'enforce_stationarity', 'enforce_invertibility', 'hamilton_representation', 'concentrate_scale',\n",
    "              'use_exact_diffuse', 'missing']:\n",
    "        if p in params:\n",
    "            named_params[p] = params[p]\n",
    "    return named_params\n",
    "\n",
    "# Hyperparameter Optimization function creater for given model type\n",
    "def create_test_params(model_type, return_pred_values=False):\n",
    "    # Creates the model, trains on train data and returns RMSE on test data\n",
    "    # Returns predicted values if return_pred_values is True\n",
    "    def test_params(params):\n",
    "        # Create local train and test data, and convert to datetime index\n",
    "        global train, test\n",
    "        local_train = train.copy()\n",
    "        local_train.index = pd.DatetimeIndex(local_train.index.values).to_period('D')\n",
    "        local_test = test.copy()\n",
    "        local_test.index = pd.DatetimeIndex(local_test.index.values).to_period('D')\n",
    "        # Create kwargs from params\n",
    "        named_params = params_to_kwargs(params)\n",
    "        # Some parameters are not compatible with each other, if model fails return very high error\n",
    "        try:\n",
    "            model = model_type(local_train, **named_params).fit()\n",
    "        except Exception as e:\n",
    "            return {'loss': 99999999, 'status': STATUS_FAIL}\n",
    "        # Forecast test dates\n",
    "        pred_df = model.get_forecast(len(local_test.index)).conf_int(alpha=params['conf_alpha'])\n",
    "        pred = model.predict(start=pred_df.index[0], end=pred_df.index[-1])\n",
    "        pred.index = test.index\n",
    "        # Calculate RMSE\n",
    "        rmse = np.sqrt(mean_squared_error(np.nan_to_num(test.values), np.nan_to_num(pred.values)))\n",
    "        # Return pred values with flag, otherwise return loss\n",
    "        if return_pred_values:\n",
    "            return rmse, pred.values\n",
    "        else:\n",
    "            return {'loss': rmse, 'status': STATUS_OK}\n",
    "    return test_params"
   ]
  },
  {
   "cell_type": "code",
   "execution_count": 7,
   "id": "567360d1",
   "metadata": {},
   "outputs": [],
   "source": [
    "# RMSE is not supported loss function in Tensorflow\n",
    "# Defines RMSE loss with tensorflow functions\n",
    "def root_mean_squared_error(y_true, y_pred):\n",
    "    return K.sqrt(K.mean(K.square(y_pred - y_true)))\n",
    "\n",
    "# Hyperparameter Optimization function creater for given model type\n",
    "def create_model_builder(model_type):\n",
    "    # Creates the model for given hyper parameters\n",
    "    def model_builder(hyper_params):\n",
    "        model = Sequential()\n",
    "        model.add(layers.Input(shape=(1, 1)))\n",
    "\n",
    "        # Tune the number of layers\n",
    "        num_layers = hyper_params.Int('num_layers', min_value=1, max_value=3, step=1)\n",
    "\n",
    "        # Tune the number of units in the layers\n",
    "        num_layer_units = [\n",
    "            hyper_params.Int('units1', min_value=16, max_value=256, step=16),\n",
    "            hyper_params.Int('units2', min_value=16, max_value=256, step=16),\n",
    "            hyper_params.Int('units3', min_value=32, max_value=512, step=32),\n",
    "        ]\n",
    "        \n",
    "        # Layer types\n",
    "        layer_models = [model_type for _ in range(num_layers)]\n",
    "        if model_type == 'mixed':\n",
    "            layer_models = []\n",
    "            for i in range(num_layers):\n",
    "                layer_models.append(hyper_params.Choice('layer_%d_model' % (i+1), values=['LSTM', 'GRU', 'RNN']))\n",
    "\n",
    "        # Optimize kwargs\n",
    "        params = {\n",
    "            'activation': hyper_params.Choice('activation', values=['linear', 'tanh', 'sigmoid']),\n",
    "            'use_bias': hyper_params.Boolean('use_bias', default=True),\n",
    "            'kernel_initializer': hyper_params.Choice('kernel_initializer', values=['glorot_uniform', 'orthogonal', 'zeros']),\n",
    "            'recurrent_initializer': hyper_params.Choice('recurrent_initializer', values=['glorot_uniform', 'orthogonal', 'zeros']),\n",
    "            'bias_initializer': hyper_params.Choice('bias_initializer', values=['glorot_uniform', 'orthogonal', 'zeros']),\n",
    "            'dropout': hyper_params.Float('dropout', min_value=0.0, max_value=0.3, step=0.02),\n",
    "        }\n",
    "        if not params['use_bias']:\n",
    "            del params['bias_initializer']\n",
    "        \n",
    "        # Add layers\n",
    "        for i, m in enumerate(layer_models):\n",
    "            if m == 'LSTM':\n",
    "                model.add(layers.LSTM(num_layer_units[i], return_sequences=True, **params))\n",
    "            elif m == 'GRU':\n",
    "                model.add(layers.GRU(num_layer_units[i], return_sequences=True, **params))\n",
    "            elif m == 'RNN':\n",
    "                model.add(layers.SimpleRNN(num_layer_units[i], return_sequences=True, **params))\n",
    "\n",
    "        # Add Output layer\n",
    "        model.add(layers.Dense(1))\n",
    "\n",
    "        # Tune the learning rate for the optimizer\n",
    "        # Choose an optimal value from 0.01, 0.001, or 0.0001\n",
    "        hp_learning_rate = hyper_params.Choice('learning_rate', values=[0.25, 0.1, 0.05, 0.01, 0.001, 0.0001])\n",
    "        adam_optimizer = Adam(learning_rate=hp_learning_rate)\n",
    "\n",
    "        # Compile model\n",
    "        model.compile(loss=root_mean_squared_error, optimizer=adam_optimizer,\n",
    "                      metrics=['log_cosh', 'mean_absolute_error', 'mean_squared_error', 'binary_crossentropy'])\n",
    "\n",
    "        return model\n",
    "    return model_builder"
   ]
  },
  {
   "cell_type": "code",
   "execution_count": 8,
   "id": "7ada82b7",
   "metadata": {},
   "outputs": [
    {
     "data": {
      "text/html": [
       "\n",
       "      <iframe id=\"tensorboard-frame-1e9a3466de28b06\" width=\"100%\" height=\"800\" frameborder=\"0\">\n",
       "      </iframe>\n",
       "      <script>\n",
       "        (function() {\n",
       "          const frame = document.getElementById(\"tensorboard-frame-1e9a3466de28b06\");\n",
       "          const url = new URL(\"/\", window.location);\n",
       "          const port = 6006;\n",
       "          if (port) {\n",
       "            url.port = port;\n",
       "          }\n",
       "          frame.src = url;\n",
       "        })();\n",
       "      </script>\n",
       "    "
      ],
      "text/plain": [
       "<IPython.core.display.HTML object>"
      ]
     },
     "metadata": {},
     "output_type": "display_data"
    }
   ],
   "source": [
    "# Load the TensorBoard notebook extension\n",
    "%load_ext tensorboard\n",
    "\n",
    "log_dir = \"tf_logs/fit/\" + datetime.now().strftime(\"%Y%m%d-%H%M%S\")\n",
    "tensorboard_callback = tf.keras.callbacks.TensorBoard(log_dir=log_dir, histogram_freq=1)\n",
    "\n",
    "%tensorboard --logdir tf_logs/fit --host localhost"
   ]
  },
  {
   "cell_type": "markdown",
   "id": "a43557f9",
   "metadata": {},
   "source": [
    "### 2.1 Autoregressive Moving Average (ARMA)"
   ]
  },
  {
   "cell_type": "code",
   "execution_count": 9,
   "id": "26ab095a",
   "metadata": {},
   "outputs": [
    {
     "name": "stdout",
     "output_type": "stream",
     "text": [
      "\r",
      "  0%|                                                                          | 0/128 [00:00<?, ?trial/s, best loss=?]"
     ]
    },
    {
     "name": "stderr",
     "output_type": "stream",
     "text": [
      "C:\\Users\\Serra\\anaconda3new\\lib\\site-packages\\statsmodels\\tsa\\statespace\\sarimax.py:966: UserWarning: Non-stationary starting autoregressive parameters found. Using zeros as starting parameters.\n",
      "  warn('Non-stationary starting autoregressive parameters'\n",
      "\n",
      "C:\\Users\\Serra\\anaconda3new\\lib\\site-packages\\statsmodels\\tsa\\statespace\\sarimax.py:978: UserWarning: Non-invertible starting MA parameters found. Using zeros as starting parameters.\n",
      "  warn('Non-invertible starting MA parameters found.'\n",
      "\n"
     ]
    },
    {
     "name": "stdout",
     "output_type": "stream",
     "text": [
      "\r",
      "  2%|█▏                                               | 3/128 [00:02<01:54,  1.09trial/s, best loss: 7.654394254643309]"
     ]
    },
    {
     "name": "stderr",
     "output_type": "stream",
     "text": [
      "C:\\Users\\Serra\\anaconda3new\\lib\\site-packages\\statsmodels\\base\\model.py:604: ConvergenceWarning: Maximum Likelihood optimization failed to converge. Check mle_retvals\n",
      "  warnings.warn(\"Maximum Likelihood optimization failed to \"\n",
      "\n"
     ]
    },
    {
     "name": "stdout",
     "output_type": "stream",
     "text": [
      "\r",
      "  5%|██▎                                              | 6/128 [00:04<01:31,  1.33trial/s, best loss: 2.501703313000267]"
     ]
    },
    {
     "name": "stderr",
     "output_type": "stream",
     "text": [
      "C:\\Users\\Serra\\anaconda3new\\lib\\site-packages\\statsmodels\\base\\model.py:604: ConvergenceWarning: Maximum Likelihood optimization failed to converge. Check mle_retvals\n",
      "  warnings.warn(\"Maximum Likelihood optimization failed to \"\n",
      "\n"
     ]
    },
    {
     "name": "stdout",
     "output_type": "stream",
     "text": [
      " 14%|██████▊                                         | 18/128 [00:10<00:51,  2.14trial/s, best loss: 2.501703313000267]"
     ]
    },
    {
     "name": "stderr",
     "output_type": "stream",
     "text": [
      "C:\\Users\\Serra\\anaconda3new\\lib\\site-packages\\statsmodels\\tsa\\statespace\\sarimax.py:978: UserWarning: Non-invertible starting MA parameters found. Using zeros as starting parameters.\n",
      "  warn('Non-invertible starting MA parameters found.'\n",
      "\n"
     ]
    },
    {
     "name": "stdout",
     "output_type": "stream",
     "text": [
      " 22%|██████████▌                                     | 28/128 [00:14<00:41,  2.41trial/s, best loss: 2.501703313000267]"
     ]
    },
    {
     "name": "stderr",
     "output_type": "stream",
     "text": [
      "C:\\Users\\Serra\\anaconda3new\\lib\\site-packages\\statsmodels\\base\\model.py:604: ConvergenceWarning: Maximum Likelihood optimization failed to converge. Check mle_retvals\n",
      "  warnings.warn(\"Maximum Likelihood optimization failed to \"\n",
      "\n"
     ]
    },
    {
     "name": "stdout",
     "output_type": "stream",
     "text": [
      "\r",
      " 23%|███████████▎                                    | 30/128 [00:15<00:47,  2.07trial/s, best loss: 2.482412701727234]"
     ]
    },
    {
     "name": "stderr",
     "output_type": "stream",
     "text": [
      "C:\\Users\\Serra\\anaconda3new\\lib\\site-packages\\statsmodels\\base\\model.py:604: ConvergenceWarning: Maximum Likelihood optimization failed to converge. Check mle_retvals\n",
      "  warnings.warn(\"Maximum Likelihood optimization failed to \"\n",
      "\n"
     ]
    },
    {
     "name": "stdout",
     "output_type": "stream",
     "text": [
      "\r",
      " 24%|███████████▋                                    | 31/128 [00:16<01:02,  1.55trial/s, best loss: 2.482412701727234]"
     ]
    },
    {
     "name": "stderr",
     "output_type": "stream",
     "text": [
      "C:\\Users\\Serra\\anaconda3new\\lib\\site-packages\\statsmodels\\base\\model.py:604: ConvergenceWarning: Maximum Likelihood optimization failed to converge. Check mle_retvals\n",
      "  warnings.warn(\"Maximum Likelihood optimization failed to \"\n",
      "\n"
     ]
    },
    {
     "name": "stdout",
     "output_type": "stream",
     "text": [
      " 26%|████████████▍                                   | 33/128 [00:20<01:44,  1.10s/trial, best loss: 2.482412701727234]"
     ]
    },
    {
     "name": "stderr",
     "output_type": "stream",
     "text": [
      "C:\\Users\\Serra\\anaconda3new\\lib\\site-packages\\statsmodels\\base\\model.py:604: ConvergenceWarning: Maximum Likelihood optimization failed to converge. Check mle_retvals\n",
      "  warnings.warn(\"Maximum Likelihood optimization failed to \"\n",
      "\n"
     ]
    },
    {
     "name": "stdout",
     "output_type": "stream",
     "text": [
      " 29%|█████████████▉                                  | 37/128 [00:24<01:40,  1.10s/trial, best loss: 2.463066566544017]"
     ]
    },
    {
     "name": "stderr",
     "output_type": "stream",
     "text": [
      "C:\\Users\\Serra\\anaconda3new\\lib\\site-packages\\statsmodels\\base\\model.py:604: ConvergenceWarning: Maximum Likelihood optimization failed to converge. Check mle_retvals\n",
      "  warnings.warn(\"Maximum Likelihood optimization failed to \"\n",
      "\n"
     ]
    },
    {
     "name": "stdout",
     "output_type": "stream",
     "text": [
      " 30%|██████████████▋                                 | 39/128 [00:27<02:14,  1.51s/trial, best loss: 2.310354137816852]"
     ]
    },
    {
     "name": "stderr",
     "output_type": "stream",
     "text": [
      "C:\\Users\\Serra\\anaconda3new\\lib\\site-packages\\statsmodels\\base\\model.py:604: ConvergenceWarning: Maximum Likelihood optimization failed to converge. Check mle_retvals\n",
      "  warnings.warn(\"Maximum Likelihood optimization failed to \"\n",
      "\n"
     ]
    },
    {
     "name": "stdout",
     "output_type": "stream",
     "text": [
      " 32%|███████████████▍                                | 41/128 [00:30<02:03,  1.42s/trial, best loss: 2.310354137816852]"
     ]
    },
    {
     "name": "stderr",
     "output_type": "stream",
     "text": [
      "C:\\Users\\Serra\\anaconda3new\\lib\\site-packages\\statsmodels\\base\\model.py:604: ConvergenceWarning: Maximum Likelihood optimization failed to converge. Check mle_retvals\n",
      "  warnings.warn(\"Maximum Likelihood optimization failed to \"\n",
      "\n"
     ]
    },
    {
     "name": "stdout",
     "output_type": "stream",
     "text": [
      " 37%|█████████████████▋                              | 47/128 [00:33<01:02,  1.30trial/s, best loss: 2.310354137816852]"
     ]
    },
    {
     "name": "stderr",
     "output_type": "stream",
     "text": [
      "C:\\Users\\Serra\\anaconda3new\\lib\\site-packages\\statsmodels\\base\\model.py:604: ConvergenceWarning: Maximum Likelihood optimization failed to converge. Check mle_retvals\n",
      "  warnings.warn(\"Maximum Likelihood optimization failed to \"\n",
      "\n"
     ]
    },
    {
     "name": "stdout",
     "output_type": "stream",
     "text": [
      "\r",
      " 38%|██████████████████                              | 48/128 [00:34<01:07,  1.18trial/s, best loss: 2.310354137816852]"
     ]
    },
    {
     "name": "stderr",
     "output_type": "stream",
     "text": [
      "C:\\Users\\Serra\\anaconda3new\\lib\\site-packages\\statsmodels\\base\\model.py:604: ConvergenceWarning: Maximum Likelihood optimization failed to converge. Check mle_retvals\n",
      "  warnings.warn(\"Maximum Likelihood optimization failed to \"\n",
      "\n"
     ]
    },
    {
     "name": "stdout",
     "output_type": "stream",
     "text": [
      " 42%|████████████████████▎                           | 54/128 [00:40<01:04,  1.15trial/s, best loss: 2.310354137816852]"
     ]
    },
    {
     "name": "stderr",
     "output_type": "stream",
     "text": [
      "C:\\Users\\Serra\\anaconda3new\\lib\\site-packages\\statsmodels\\tsa\\statespace\\sarimax.py:966: UserWarning: Non-stationary starting autoregressive parameters found. Using zeros as starting parameters.\n",
      "  warn('Non-stationary starting autoregressive parameters'\n",
      "\n",
      "C:\\Users\\Serra\\anaconda3new\\lib\\site-packages\\statsmodels\\tsa\\statespace\\sarimax.py:978: UserWarning: Non-invertible starting MA parameters found. Using zeros as starting parameters.\n",
      "  warn('Non-invertible starting MA parameters found.'\n",
      "\n"
     ]
    },
    {
     "name": "stdout",
     "output_type": "stream",
     "text": [
      "\r",
      " 44%|█████████████████████                           | 56/128 [00:41<01:02,  1.15trial/s, best loss: 2.310354137816852]"
     ]
    },
    {
     "name": "stderr",
     "output_type": "stream",
     "text": [
      "C:\\Users\\Serra\\anaconda3new\\lib\\site-packages\\statsmodels\\base\\model.py:604: ConvergenceWarning: Maximum Likelihood optimization failed to converge. Check mle_retvals\n",
      "  warnings.warn(\"Maximum Likelihood optimization failed to \"\n",
      "\n",
      "C:\\Users\\Serra\\anaconda3new\\lib\\site-packages\\statsmodels\\tsa\\statespace\\sarimax.py:978: UserWarning: Non-invertible starting MA parameters found. Using zeros as starting parameters.\n",
      "  warn('Non-invertible starting MA parameters found.'\n",
      "\n"
     ]
    },
    {
     "name": "stdout",
     "output_type": "stream",
     "text": [
      " 48%|███████████████████████▎                        | 62/128 [00:43<00:31,  2.11trial/s, best loss: 2.310354137816852]"
     ]
    },
    {
     "name": "stderr",
     "output_type": "stream",
     "text": [
      "C:\\Users\\Serra\\anaconda3new\\lib\\site-packages\\statsmodels\\base\\model.py:604: ConvergenceWarning: Maximum Likelihood optimization failed to converge. Check mle_retvals\n",
      "  warnings.warn(\"Maximum Likelihood optimization failed to \"\n",
      "\n"
     ]
    },
    {
     "name": "stdout",
     "output_type": "stream",
     "text": [
      " 51%|████████████████████████▍                       | 65/128 [00:47<01:00,  1.04trial/s, best loss: 2.310354137816852]"
     ]
    },
    {
     "name": "stderr",
     "output_type": "stream",
     "text": [
      "C:\\Users\\Serra\\anaconda3new\\lib\\site-packages\\statsmodels\\base\\model.py:604: ConvergenceWarning: Maximum Likelihood optimization failed to converge. Check mle_retvals\n",
      "  warnings.warn(\"Maximum Likelihood optimization failed to \"\n",
      "\n"
     ]
    },
    {
     "name": "stdout",
     "output_type": "stream",
     "text": [
      " 58%|███████████████████████████▊                    | 74/128 [00:57<01:03,  1.17s/trial, best loss: 2.310354137816852]"
     ]
    },
    {
     "name": "stderr",
     "output_type": "stream",
     "text": [
      "C:\\Users\\Serra\\anaconda3new\\lib\\site-packages\\statsmodels\\base\\model.py:604: ConvergenceWarning: Maximum Likelihood optimization failed to converge. Check mle_retvals\n",
      "  warnings.warn(\"Maximum Likelihood optimization failed to \"\n",
      "\n"
     ]
    },
    {
     "name": "stdout",
     "output_type": "stream",
     "text": [
      "\r",
      " 59%|████████████████████████████▏                   | 75/128 [00:58<01:09,  1.31s/trial, best loss: 2.310354137816852]"
     ]
    },
    {
     "name": "stderr",
     "output_type": "stream",
     "text": [
      "C:\\Users\\Serra\\anaconda3new\\lib\\site-packages\\statsmodels\\base\\model.py:604: ConvergenceWarning: Maximum Likelihood optimization failed to converge. Check mle_retvals\n",
      "  warnings.warn(\"Maximum Likelihood optimization failed to \"\n",
      "\n"
     ]
    },
    {
     "name": "stdout",
     "output_type": "stream",
     "text": [
      "\r",
      " 59%|████████████████████████████▌                   | 76/128 [00:59<00:55,  1.07s/trial, best loss: 2.310354137816852]"
     ]
    },
    {
     "name": "stderr",
     "output_type": "stream",
     "text": [
      "C:\\Users\\Serra\\anaconda3new\\lib\\site-packages\\statsmodels\\base\\model.py:604: ConvergenceWarning: Maximum Likelihood optimization failed to converge. Check mle_retvals\n",
      "  warnings.warn(\"Maximum Likelihood optimization failed to \"\n",
      "\n"
     ]
    },
    {
     "name": "stdout",
     "output_type": "stream",
     "text": [
      "\r",
      " 61%|█████████████████████████████▎                  | 78/128 [01:00<00:47,  1.05trial/s, best loss: 2.310354137816852]"
     ]
    },
    {
     "name": "stderr",
     "output_type": "stream",
     "text": [
      "C:\\Users\\Serra\\anaconda3new\\lib\\site-packages\\statsmodels\\base\\model.py:604: ConvergenceWarning: Maximum Likelihood optimization failed to converge. Check mle_retvals\n",
      "  warnings.warn(\"Maximum Likelihood optimization failed to \"\n",
      "\n"
     ]
    },
    {
     "name": "stdout",
     "output_type": "stream",
     "text": [
      " 65%|███████████████████████████████▏                | 83/128 [01:02<00:24,  1.86trial/s, best loss: 2.310354137816852]"
     ]
    },
    {
     "name": "stderr",
     "output_type": "stream",
     "text": [
      "C:\\Users\\Serra\\anaconda3new\\lib\\site-packages\\statsmodels\\base\\model.py:604: ConvergenceWarning: Maximum Likelihood optimization failed to converge. Check mle_retvals\n",
      "  warnings.warn(\"Maximum Likelihood optimization failed to \"\n",
      "\n"
     ]
    },
    {
     "name": "stdout",
     "output_type": "stream",
     "text": [
      "\r",
      " 66%|███████████████████████████████▌                | 84/128 [01:03<00:27,  1.60trial/s, best loss: 2.310354137816852]"
     ]
    },
    {
     "name": "stderr",
     "output_type": "stream",
     "text": [
      "C:\\Users\\Serra\\anaconda3new\\lib\\site-packages\\statsmodels\\base\\model.py:604: ConvergenceWarning: Maximum Likelihood optimization failed to converge. Check mle_retvals\n",
      "  warnings.warn(\"Maximum Likelihood optimization failed to \"\n",
      "\n"
     ]
    },
    {
     "name": "stdout",
     "output_type": "stream",
     "text": [
      " 67%|████████████████████████████████▎               | 86/128 [01:06<00:41,  1.01trial/s, best loss: 2.310354137816852]"
     ]
    },
    {
     "name": "stderr",
     "output_type": "stream",
     "text": [
      "C:\\Users\\Serra\\anaconda3new\\lib\\site-packages\\statsmodels\\base\\model.py:604: ConvergenceWarning: Maximum Likelihood optimization failed to converge. Check mle_retvals\n",
      "  warnings.warn(\"Maximum Likelihood optimization failed to \"\n",
      "\n"
     ]
    },
    {
     "name": "stdout",
     "output_type": "stream",
     "text": [
      " 70%|█████████████████████████████████▍              | 89/128 [01:09<00:43,  1.11s/trial, best loss: 2.310354137816852]"
     ]
    },
    {
     "name": "stderr",
     "output_type": "stream",
     "text": [
      "C:\\Users\\Serra\\anaconda3new\\lib\\site-packages\\statsmodels\\base\\model.py:604: ConvergenceWarning: Maximum Likelihood optimization failed to converge. Check mle_retvals\n",
      "  warnings.warn(\"Maximum Likelihood optimization failed to \"\n",
      "\n"
     ]
    },
    {
     "name": "stdout",
     "output_type": "stream",
     "text": [
      "\r",
      " 70%|█████████████████████████████████▊              | 90/128 [01:12<00:54,  1.42s/trial, best loss: 2.310354137816852]"
     ]
    },
    {
     "name": "stderr",
     "output_type": "stream",
     "text": [
      "C:\\Users\\Serra\\anaconda3new\\lib\\site-packages\\statsmodels\\base\\model.py:604: ConvergenceWarning: Maximum Likelihood optimization failed to converge. Check mle_retvals\n",
      "  warnings.warn(\"Maximum Likelihood optimization failed to \"\n",
      "\n"
     ]
    },
    {
     "name": "stdout",
     "output_type": "stream",
     "text": [
      " 73%|██████████████████████████████████▉             | 93/128 [01:14<00:31,  1.11trial/s, best loss: 2.285613040457159]"
     ]
    },
    {
     "name": "stderr",
     "output_type": "stream",
     "text": [
      "C:\\Users\\Serra\\anaconda3new\\lib\\site-packages\\statsmodels\\tsa\\statespace\\sarimax.py:978: UserWarning: Non-invertible starting MA parameters found. Using zeros as starting parameters.\n",
      "  warn('Non-invertible starting MA parameters found.'\n",
      "\n"
     ]
    },
    {
     "name": "stdout",
     "output_type": "stream",
     "text": [
      " 74%|███████████████████████████████████▋            | 95/128 [01:17<00:41,  1.27s/trial, best loss: 2.285613040457159]"
     ]
    },
    {
     "name": "stderr",
     "output_type": "stream",
     "text": [
      "C:\\Users\\Serra\\anaconda3new\\lib\\site-packages\\statsmodels\\base\\model.py:604: ConvergenceWarning: Maximum Likelihood optimization failed to converge. Check mle_retvals\n",
      "  warnings.warn(\"Maximum Likelihood optimization failed to \"\n",
      "\n"
     ]
    },
    {
     "name": "stdout",
     "output_type": "stream",
     "text": [
      " 76%|████████████████████████████████████▍           | 97/128 [01:18<00:33,  1.08s/trial, best loss: 2.285613040457159]"
     ]
    },
    {
     "name": "stderr",
     "output_type": "stream",
     "text": [
      "C:\\Users\\Serra\\anaconda3new\\lib\\site-packages\\statsmodels\\tsa\\statespace\\sarimax.py:966: UserWarning: Non-stationary starting autoregressive parameters found. Using zeros as starting parameters.\n",
      "  warn('Non-stationary starting autoregressive parameters'\n",
      "\n"
     ]
    },
    {
     "name": "stdout",
     "output_type": "stream",
     "text": [
      "\r",
      " 77%|████████████████████████████████████▊           | 98/128 [01:20<00:36,  1.22s/trial, best loss: 2.285613040457159]"
     ]
    },
    {
     "name": "stderr",
     "output_type": "stream",
     "text": [
      "C:\\Users\\Serra\\anaconda3new\\lib\\site-packages\\statsmodels\\base\\model.py:604: ConvergenceWarning: Maximum Likelihood optimization failed to converge. Check mle_retvals\n",
      "  warnings.warn(\"Maximum Likelihood optimization failed to \"\n",
      "\n",
      "C:\\Users\\Serra\\anaconda3new\\lib\\site-packages\\statsmodels\\tsa\\statespace\\sarimax.py:978: UserWarning: Non-invertible starting MA parameters found. Using zeros as starting parameters.\n",
      "  warn('Non-invertible starting MA parameters found.'\n",
      "\n"
     ]
    },
    {
     "name": "stdout",
     "output_type": "stream",
     "text": [
      " 80%|█████████████████████████████████████         | 103/128 [01:23<00:15,  1.61trial/s, best loss: 1.9488069338733198]"
     ]
    },
    {
     "name": "stderr",
     "output_type": "stream",
     "text": [
      "C:\\Users\\Serra\\anaconda3new\\lib\\site-packages\\statsmodels\\base\\model.py:604: ConvergenceWarning: Maximum Likelihood optimization failed to converge. Check mle_retvals\n",
      "  warnings.warn(\"Maximum Likelihood optimization failed to \"\n",
      "\n",
      "C:\\Users\\Serra\\anaconda3new\\lib\\site-packages\\statsmodels\\tsa\\statespace\\sarimax.py:978: UserWarning: Non-invertible starting MA parameters found. Using zeros as starting parameters.\n",
      "  warn('Non-invertible starting MA parameters found.'\n",
      "\n"
     ]
    },
    {
     "name": "stdout",
     "output_type": "stream",
     "text": [
      " 82%|█████████████████████████████████████▋        | 105/128 [01:26<00:23,  1.01s/trial, best loss: 1.9488069338733198]"
     ]
    },
    {
     "name": "stderr",
     "output_type": "stream",
     "text": [
      "C:\\Users\\Serra\\anaconda3new\\lib\\site-packages\\statsmodels\\base\\model.py:604: ConvergenceWarning: Maximum Likelihood optimization failed to converge. Check mle_retvals\n",
      "  warnings.warn(\"Maximum Likelihood optimization failed to \"\n",
      "\n"
     ]
    },
    {
     "name": "stdout",
     "output_type": "stream",
     "text": [
      "\r",
      " 83%|██████████████████████████████████████        | 106/128 [01:27<00:21,  1.04trial/s, best loss: 1.9488069338733198]"
     ]
    },
    {
     "name": "stderr",
     "output_type": "stream",
     "text": [
      "C:\\Users\\Serra\\anaconda3new\\lib\\site-packages\\statsmodels\\base\\model.py:604: ConvergenceWarning: Maximum Likelihood optimization failed to converge. Check mle_retvals\n",
      "  warnings.warn(\"Maximum Likelihood optimization failed to \"\n",
      "\n"
     ]
    },
    {
     "name": "stdout",
     "output_type": "stream",
     "text": [
      "\r",
      " 84%|██████████████████████████████████████▍       | 107/128 [01:27<00:19,  1.07trial/s, best loss: 1.9488069338733198]"
     ]
    },
    {
     "name": "stderr",
     "output_type": "stream",
     "text": [
      "C:\\Users\\Serra\\anaconda3new\\lib\\site-packages\\statsmodels\\base\\model.py:604: ConvergenceWarning: Maximum Likelihood optimization failed to converge. Check mle_retvals\n",
      "  warnings.warn(\"Maximum Likelihood optimization failed to \"\n",
      "\n"
     ]
    },
    {
     "name": "stdout",
     "output_type": "stream",
     "text": [
      "\r",
      " 84%|██████████████████████████████████████▊       | 108/128 [01:29<00:21,  1.08s/trial, best loss: 1.9488069338733198]"
     ]
    },
    {
     "name": "stderr",
     "output_type": "stream",
     "text": [
      "C:\\Users\\Serra\\anaconda3new\\lib\\site-packages\\statsmodels\\base\\model.py:604: ConvergenceWarning: Maximum Likelihood optimization failed to converge. Check mle_retvals\n",
      "  warnings.warn(\"Maximum Likelihood optimization failed to \"\n",
      "\n"
     ]
    },
    {
     "name": "stdout",
     "output_type": "stream",
     "text": [
      "\r",
      " 85%|███████████████████████████████████████▏      | 109/128 [01:30<00:19,  1.01s/trial, best loss: 1.9488069338733198]"
     ]
    },
    {
     "name": "stderr",
     "output_type": "stream",
     "text": [
      "C:\\Users\\Serra\\anaconda3new\\lib\\site-packages\\statsmodels\\base\\model.py:604: ConvergenceWarning: Maximum Likelihood optimization failed to converge. Check mle_retvals\n",
      "  warnings.warn(\"Maximum Likelihood optimization failed to \"\n",
      "\n"
     ]
    },
    {
     "name": "stdout",
     "output_type": "stream",
     "text": [
      "\r",
      " 86%|███████████████████████████████████████▌      | 110/128 [01:30<00:15,  1.16trial/s, best loss: 1.9488056770506839]"
     ]
    },
    {
     "name": "stderr",
     "output_type": "stream",
     "text": [
      "C:\\Users\\Serra\\anaconda3new\\lib\\site-packages\\statsmodels\\tsa\\statespace\\sarimax.py:978: UserWarning: Non-invertible starting MA parameters found. Using zeros as starting parameters.\n",
      "  warn('Non-invertible starting MA parameters found.'\n",
      "\n"
     ]
    },
    {
     "name": "stdout",
     "output_type": "stream",
     "text": [
      "\r",
      " 87%|███████████████████████████████████████▉      | 111/128 [01:32<00:18,  1.08s/trial, best loss: 1.9488056770506839]"
     ]
    },
    {
     "name": "stderr",
     "output_type": "stream",
     "text": [
      "C:\\Users\\Serra\\anaconda3new\\lib\\site-packages\\statsmodels\\base\\model.py:604: ConvergenceWarning: Maximum Likelihood optimization failed to converge. Check mle_retvals\n",
      "  warnings.warn(\"Maximum Likelihood optimization failed to \"\n",
      "\n",
      "C:\\Users\\Serra\\anaconda3new\\lib\\site-packages\\statsmodels\\tsa\\statespace\\sarimax.py:978: UserWarning: Non-invertible starting MA parameters found. Using zeros as starting parameters.\n",
      "  warn('Non-invertible starting MA parameters found.'\n",
      "\n"
     ]
    },
    {
     "name": "stdout",
     "output_type": "stream",
     "text": [
      " 92%|███████████████████████████████████████████▎   | 118/128 [01:36<00:06,  1.59trial/s, best loss: 1.935057847042902]"
     ]
    },
    {
     "name": "stderr",
     "output_type": "stream",
     "text": [
      "C:\\Users\\Serra\\anaconda3new\\lib\\site-packages\\statsmodels\\base\\model.py:604: ConvergenceWarning: Maximum Likelihood optimization failed to converge. Check mle_retvals\n",
      "  warnings.warn(\"Maximum Likelihood optimization failed to \"\n",
      "\n",
      "C:\\Users\\Serra\\anaconda3new\\lib\\site-packages\\statsmodels\\tsa\\statespace\\sarimax.py:978: UserWarning: Non-invertible starting MA parameters found. Using zeros as starting parameters.\n",
      "  warn('Non-invertible starting MA parameters found.'\n",
      "\n"
     ]
    },
    {
     "name": "stdout",
     "output_type": "stream",
     "text": [
      "\r",
      " 93%|███████████████████████████████████████████▋   | 119/128 [01:37<00:06,  1.30trial/s, best loss: 1.935057847042902]"
     ]
    },
    {
     "name": "stderr",
     "output_type": "stream",
     "text": [
      "C:\\Users\\Serra\\anaconda3new\\lib\\site-packages\\statsmodels\\base\\model.py:604: ConvergenceWarning: Maximum Likelihood optimization failed to converge. Check mle_retvals\n",
      "  warnings.warn(\"Maximum Likelihood optimization failed to \"\n",
      "\n",
      "C:\\Users\\Serra\\anaconda3new\\lib\\site-packages\\statsmodels\\tsa\\statespace\\sarimax.py:978: UserWarning: Non-invertible starting MA parameters found. Using zeros as starting parameters.\n",
      "  warn('Non-invertible starting MA parameters found.'\n",
      "\n"
     ]
    },
    {
     "name": "stdout",
     "output_type": "stream",
     "text": [
      " 95%|████████████████████████████████████████████▍  | 121/128 [01:39<00:05,  1.29trial/s, best loss: 1.935057847042902]"
     ]
    },
    {
     "name": "stderr",
     "output_type": "stream",
     "text": [
      "C:\\Users\\Serra\\anaconda3new\\lib\\site-packages\\statsmodels\\base\\model.py:604: ConvergenceWarning: Maximum Likelihood optimization failed to converge. Check mle_retvals\n",
      "  warnings.warn(\"Maximum Likelihood optimization failed to \"\n",
      "\n"
     ]
    },
    {
     "name": "stdout",
     "output_type": "stream",
     "text": [
      "\r",
      " 95%|████████████████████████████████████████████▊  | 122/128 [01:40<00:04,  1.37trial/s, best loss: 1.935057847042902]"
     ]
    },
    {
     "name": "stderr",
     "output_type": "stream",
     "text": [
      "C:\\Users\\Serra\\anaconda3new\\lib\\site-packages\\statsmodels\\base\\model.py:604: ConvergenceWarning: Maximum Likelihood optimization failed to converge. Check mle_retvals\n",
      "  warnings.warn(\"Maximum Likelihood optimization failed to \"\n",
      "\n"
     ]
    },
    {
     "name": "stdout",
     "output_type": "stream",
     "text": [
      "\r",
      " 96%|█████████████████████████████████████████████▏ | 123/128 [01:40<00:03,  1.39trial/s, best loss: 1.935057847042902]"
     ]
    },
    {
     "name": "stderr",
     "output_type": "stream",
     "text": [
      "C:\\Users\\Serra\\anaconda3new\\lib\\site-packages\\statsmodels\\base\\model.py:604: ConvergenceWarning: Maximum Likelihood optimization failed to converge. Check mle_retvals\n",
      "  warnings.warn(\"Maximum Likelihood optimization failed to \"\n",
      "\n"
     ]
    },
    {
     "name": "stdout",
     "output_type": "stream",
     "text": [
      "\r",
      " 97%|█████████████████████████████████████████████▌ | 124/128 [01:42<00:03,  1.02trial/s, best loss: 1.935057847042902]"
     ]
    },
    {
     "name": "stderr",
     "output_type": "stream",
     "text": [
      "C:\\Users\\Serra\\anaconda3new\\lib\\site-packages\\statsmodels\\base\\model.py:604: ConvergenceWarning: Maximum Likelihood optimization failed to converge. Check mle_retvals\n",
      "  warnings.warn(\"Maximum Likelihood optimization failed to \"\n",
      "\n"
     ]
    },
    {
     "name": "stdout",
     "output_type": "stream",
     "text": [
      "\r",
      " 98%|█████████████████████████████████████████████▉ | 125/128 [01:43<00:02,  1.11trial/s, best loss: 1.935057847042902]"
     ]
    },
    {
     "name": "stderr",
     "output_type": "stream",
     "text": [
      "C:\\Users\\Serra\\anaconda3new\\lib\\site-packages\\statsmodels\\base\\model.py:604: ConvergenceWarning: Maximum Likelihood optimization failed to converge. Check mle_retvals\n",
      "  warnings.warn(\"Maximum Likelihood optimization failed to \"\n",
      "\n"
     ]
    },
    {
     "name": "stdout",
     "output_type": "stream",
     "text": [
      "\r",
      " 98%|██████████████████████████████████████████████▎| 126/128 [01:43<00:01,  1.19trial/s, best loss: 1.935057847042902]"
     ]
    },
    {
     "name": "stderr",
     "output_type": "stream",
     "text": [
      "C:\\Users\\Serra\\anaconda3new\\lib\\site-packages\\statsmodels\\base\\model.py:604: ConvergenceWarning: Maximum Likelihood optimization failed to converge. Check mle_retvals\n",
      "  warnings.warn(\"Maximum Likelihood optimization failed to \"\n",
      "\n"
     ]
    },
    {
     "name": "stdout",
     "output_type": "stream",
     "text": [
      "\r",
      " 99%|██████████████████████████████████████████████▋| 127/128 [01:44<00:00,  1.25trial/s, best loss: 1.935057847042902]"
     ]
    },
    {
     "name": "stderr",
     "output_type": "stream",
     "text": [
      "C:\\Users\\Serra\\anaconda3new\\lib\\site-packages\\statsmodels\\base\\model.py:604: ConvergenceWarning: Maximum Likelihood optimization failed to converge. Check mle_retvals\n",
      "  warnings.warn(\"Maximum Likelihood optimization failed to \"\n",
      "\n",
      "C:\\Users\\Serra\\anaconda3new\\lib\\site-packages\\statsmodels\\tsa\\statespace\\sarimax.py:978: UserWarning: Non-invertible starting MA parameters found. Using zeros as starting parameters.\n",
      "  warn('Non-invertible starting MA parameters found.'\n",
      "\n"
     ]
    },
    {
     "name": "stdout",
     "output_type": "stream",
     "text": [
      "100%|███████████████████████████████████████████████| 128/128 [01:45<00:00,  1.22trial/s, best loss: 1.935057847042902]\n",
      "{'concentrate_scale': True, 'conf_alpha': 0.20396526654459302, 'enforce_invertibility': True, 'enforce_stationarity': False, 'hamilton_representation': True, 'measurement_error': True, 'mle_regression': False, 'order_0': 1, 'order_1': 0, 'order_2': 1, 'simple_differencing': True, 'time_varying_regression': True, 'trend': 't', 'use_exact_diffuse': False}\n"
     ]
    }
   ],
   "source": [
    "# Optimize ARMA\n",
    "arma_param_space = {\n",
    "    'order_0': hp.randint('order_0', 5),\n",
    "    'order_1': hp.randint('order_1', 5),\n",
    "    'order_2': hp.randint('order_2', 5),\n",
    "    'trend': hp.choice('trend', [None, 'n', 'c', 't', 'ct']),\n",
    "    'measurement_error': hp.choice('measurement_error', [False, True]),\n",
    "    'time_varying_regression': hp.choice('time_varying_regression', [False, True]),\n",
    "    'mle_regression': hp.choice('mle_regression', [False, True]),\n",
    "    'simple_differencing': hp.choice('simple_differencing', [False, True]),\n",
    "    'enforce_stationarity': hp.choice('enforce_stationarity', [False, True]),\n",
    "    'enforce_invertibility': hp.choice('enforce_invertibility', [False, True]),\n",
    "    'hamilton_representation': hp.choice('hamilton_representation', [False, True]),\n",
    "    'concentrate_scale': hp.choice('concentrate_scale', [False, True]),\n",
    "    'use_exact_diffuse': hp.choice('use_exact_diffuse', [False, True]),\n",
    "    'conf_alpha': hp.uniform('conf_alpha', 0.0, 1.0),\n",
    "}\n",
    "arma_trials = Trials()\n",
    "best_arma_params = fmin(create_test_params(SARIMAX), arma_param_space, algo=tpe.suggest, max_evals=128,\n",
    "                        trials=arma_trials, rstate=np.random.default_rng(RND_SEED))\n",
    "best_arma_params = space_eval(arma_param_space, best_arma_params)\n",
    "arma_loss = [trial['loss'] for trial in arma_trials.results if trial['status'] == STATUS_OK]\n",
    "print(best_arma_params)"
   ]
  },
  {
   "cell_type": "markdown",
   "id": "4ae6fd56",
   "metadata": {},
   "source": [
    "### 2.2 Autoregressive Integrated Moving Average (ARIMA)"
   ]
  },
  {
   "cell_type": "code",
   "execution_count": 10,
   "id": "f526dc82",
   "metadata": {},
   "outputs": [
    {
     "name": "stdout",
     "output_type": "stream",
     "text": [
      "  4%|█▉                                               | 5/128 [00:03<01:22,  1.49trial/s, best loss: 2.399112452089953]"
     ]
    },
    {
     "name": "stderr",
     "output_type": "stream",
     "text": [
      "C:\\Users\\Serra\\anaconda3new\\lib\\site-packages\\statsmodels\\base\\model.py:604: ConvergenceWarning: Maximum Likelihood optimization failed to converge. Check mle_retvals\n",
      "  warnings.warn(\"Maximum Likelihood optimization failed to \"\n",
      "\n"
     ]
    },
    {
     "name": "stdout",
     "output_type": "stream",
     "text": [
      "  6%|███                                              | 8/128 [00:06<01:59,  1.00trial/s, best loss: 2.059484546809178]"
     ]
    },
    {
     "name": "stderr",
     "output_type": "stream",
     "text": [
      "C:\\Users\\Serra\\anaconda3new\\lib\\site-packages\\statsmodels\\base\\model.py:604: ConvergenceWarning: Maximum Likelihood optimization failed to converge. Check mle_retvals\n",
      "  warnings.warn(\"Maximum Likelihood optimization failed to \"\n",
      "\n"
     ]
    },
    {
     "name": "stdout",
     "output_type": "stream",
     "text": [
      "\r",
      "  9%|████▏                                           | 11/128 [00:07<01:22,  1.42trial/s, best loss: 2.059484546809178]"
     ]
    },
    {
     "name": "stderr",
     "output_type": "stream",
     "text": [
      "C:\\Users\\Serra\\anaconda3new\\lib\\site-packages\\statsmodels\\base\\model.py:604: ConvergenceWarning: Maximum Likelihood optimization failed to converge. Check mle_retvals\n",
      "  warnings.warn(\"Maximum Likelihood optimization failed to \"\n",
      "\n"
     ]
    },
    {
     "name": "stdout",
     "output_type": "stream",
     "text": [
      " 14%|██████▊                                         | 18/128 [00:12<01:19,  1.38trial/s, best loss: 2.059484546809178]"
     ]
    },
    {
     "name": "stderr",
     "output_type": "stream",
     "text": [
      "C:\\Users\\Serra\\anaconda3new\\lib\\site-packages\\statsmodels\\tsa\\statespace\\sarimax.py:966: UserWarning: Non-stationary starting autoregressive parameters found. Using zeros as starting parameters.\n",
      "  warn('Non-stationary starting autoregressive parameters'\n",
      "\n"
     ]
    },
    {
     "name": "stdout",
     "output_type": "stream",
     "text": [
      " 16%|███████▌                                        | 20/128 [00:16<02:04,  1.16s/trial, best loss: 2.059484546809178]"
     ]
    },
    {
     "name": "stderr",
     "output_type": "stream",
     "text": [
      "C:\\Users\\Serra\\anaconda3new\\lib\\site-packages\\statsmodels\\base\\model.py:604: ConvergenceWarning: Maximum Likelihood optimization failed to converge. Check mle_retvals\n",
      "  warnings.warn(\"Maximum Likelihood optimization failed to \"\n",
      "\n"
     ]
    },
    {
     "name": "stdout",
     "output_type": "stream",
     "text": [
      "\r",
      " 16%|███████▉                                        | 21/128 [00:17<02:15,  1.27s/trial, best loss: 2.059484546809178]"
     ]
    },
    {
     "name": "stderr",
     "output_type": "stream",
     "text": [
      "C:\\Users\\Serra\\anaconda3new\\lib\\site-packages\\statsmodels\\base\\model.py:604: ConvergenceWarning: Maximum Likelihood optimization failed to converge. Check mle_retvals\n",
      "  warnings.warn(\"Maximum Likelihood optimization failed to \"\n",
      "\n"
     ]
    },
    {
     "name": "stdout",
     "output_type": "stream",
     "text": [
      "\r",
      " 17%|████████▎                                       | 22/128 [00:19<02:23,  1.35s/trial, best loss: 2.059484546809178]"
     ]
    },
    {
     "name": "stderr",
     "output_type": "stream",
     "text": [
      "C:\\Users\\Serra\\anaconda3new\\lib\\site-packages\\statsmodels\\base\\model.py:604: ConvergenceWarning: Maximum Likelihood optimization failed to converge. Check mle_retvals\n",
      "  warnings.warn(\"Maximum Likelihood optimization failed to \"\n",
      "\n"
     ]
    },
    {
     "name": "stdout",
     "output_type": "stream",
     "text": [
      "\r",
      " 18%|████████▋                                       | 23/128 [00:20<02:25,  1.39s/trial, best loss: 2.059484546809178]"
     ]
    },
    {
     "name": "stderr",
     "output_type": "stream",
     "text": [
      "C:\\Users\\Serra\\anaconda3new\\lib\\site-packages\\statsmodels\\base\\model.py:604: ConvergenceWarning: Maximum Likelihood optimization failed to converge. Check mle_retvals\n",
      "  warnings.warn(\"Maximum Likelihood optimization failed to \"\n",
      "\n"
     ]
    },
    {
     "name": "stdout",
     "output_type": "stream",
     "text": [
      " 20%|█████████▊                                      | 26/128 [00:22<01:34,  1.07trial/s, best loss: 2.059484546809178]"
     ]
    },
    {
     "name": "stderr",
     "output_type": "stream",
     "text": [
      "C:\\Users\\Serra\\anaconda3new\\lib\\site-packages\\statsmodels\\base\\model.py:604: ConvergenceWarning: Maximum Likelihood optimization failed to converge. Check mle_retvals\n",
      "  warnings.warn(\"Maximum Likelihood optimization failed to \"\n",
      "\n"
     ]
    },
    {
     "name": "stdout",
     "output_type": "stream",
     "text": [
      "\r",
      " 21%|██████████▏                                     | 27/128 [00:24<01:47,  1.06s/trial, best loss: 2.059484546809178]"
     ]
    },
    {
     "name": "stderr",
     "output_type": "stream",
     "text": [
      "C:\\Users\\Serra\\anaconda3new\\lib\\site-packages\\statsmodels\\base\\model.py:604: ConvergenceWarning: Maximum Likelihood optimization failed to converge. Check mle_retvals\n",
      "  warnings.warn(\"Maximum Likelihood optimization failed to \"\n",
      "\n"
     ]
    },
    {
     "name": "stdout",
     "output_type": "stream",
     "text": [
      " 23%|███████████▎                                    | 30/128 [00:25<01:19,  1.23trial/s, best loss: 2.059484546809178]"
     ]
    },
    {
     "name": "stderr",
     "output_type": "stream",
     "text": [
      "C:\\Users\\Serra\\anaconda3new\\lib\\site-packages\\statsmodels\\base\\model.py:604: ConvergenceWarning: Maximum Likelihood optimization failed to converge. Check mle_retvals\n",
      "  warnings.warn(\"Maximum Likelihood optimization failed to \"\n",
      "\n"
     ]
    },
    {
     "name": "stdout",
     "output_type": "stream",
     "text": [
      "\r",
      " 27%|████████████▊                                   | 34/128 [00:26<00:38,  2.47trial/s, best loss: 2.059484546809178]"
     ]
    },
    {
     "name": "stderr",
     "output_type": "stream",
     "text": [
      "C:\\Users\\Serra\\anaconda3new\\lib\\site-packages\\statsmodels\\base\\model.py:604: ConvergenceWarning: Maximum Likelihood optimization failed to converge. Check mle_retvals\n",
      "  warnings.warn(\"Maximum Likelihood optimization failed to \"\n",
      "\n"
     ]
    },
    {
     "name": "stdout",
     "output_type": "stream",
     "text": [
      " 34%|████████████████▏                               | 43/128 [00:29<00:19,  4.34trial/s, best loss: 2.059484546809178]"
     ]
    },
    {
     "name": "stderr",
     "output_type": "stream",
     "text": [
      "C:\\Users\\Serra\\anaconda3new\\lib\\site-packages\\statsmodels\\tsa\\statespace\\sarimax.py:978: UserWarning: Non-invertible starting MA parameters found. Using zeros as starting parameters.\n",
      "  warn('Non-invertible starting MA parameters found.'\n",
      "\n"
     ]
    },
    {
     "name": "stdout",
     "output_type": "stream",
     "text": [
      " 38%|██████████████████                              | 48/128 [00:31<00:34,  2.32trial/s, best loss: 2.059484546809178]"
     ]
    },
    {
     "name": "stderr",
     "output_type": "stream",
     "text": [
      "C:\\Users\\Serra\\anaconda3new\\lib\\site-packages\\statsmodels\\base\\model.py:604: ConvergenceWarning: Maximum Likelihood optimization failed to converge. Check mle_retvals\n",
      "  warnings.warn(\"Maximum Likelihood optimization failed to \"\n",
      "\n"
     ]
    },
    {
     "name": "stdout",
     "output_type": "stream",
     "text": [
      " 39%|██████████████████▊                             | 50/128 [00:33<01:00,  1.30trial/s, best loss: 2.059484546809178]"
     ]
    },
    {
     "name": "stderr",
     "output_type": "stream",
     "text": [
      "C:\\Users\\Serra\\anaconda3new\\lib\\site-packages\\statsmodels\\base\\model.py:604: ConvergenceWarning: Maximum Likelihood optimization failed to converge. Check mle_retvals\n",
      "  warnings.warn(\"Maximum Likelihood optimization failed to \"\n",
      "\n"
     ]
    },
    {
     "name": "stdout",
     "output_type": "stream",
     "text": [
      " 42%|████████████████████▎                           | 54/128 [00:35<00:38,  1.94trial/s, best loss: 2.059484546809178]"
     ]
    },
    {
     "name": "stderr",
     "output_type": "stream",
     "text": [
      "C:\\Users\\Serra\\anaconda3new\\lib\\site-packages\\statsmodels\\base\\model.py:604: ConvergenceWarning: Maximum Likelihood optimization failed to converge. Check mle_retvals\n",
      "  warnings.warn(\"Maximum Likelihood optimization failed to \"\n",
      "\n"
     ]
    },
    {
     "name": "stdout",
     "output_type": "stream",
     "text": [
      " 70%|█████████████████████████████████▊              | 90/128 [00:56<00:18,  2.06trial/s, best loss: 2.000520504622128]"
     ]
    },
    {
     "name": "stderr",
     "output_type": "stream",
     "text": [
      "C:\\Users\\Serra\\anaconda3new\\lib\\site-packages\\statsmodels\\base\\model.py:604: ConvergenceWarning: Maximum Likelihood optimization failed to converge. Check mle_retvals\n",
      "  warnings.warn(\"Maximum Likelihood optimization failed to \"\n",
      "\n"
     ]
    },
    {
     "name": "stdout",
     "output_type": "stream",
     "text": [
      " 88%|█████████████████████████████████████████▍     | 113/128 [01:08<00:07,  1.94trial/s, best loss: 2.000520504622128]"
     ]
    },
    {
     "name": "stderr",
     "output_type": "stream",
     "text": [
      "C:\\Users\\Serra\\anaconda3new\\lib\\site-packages\\statsmodels\\base\\model.py:604: ConvergenceWarning: Maximum Likelihood optimization failed to converge. Check mle_retvals\n",
      "  warnings.warn(\"Maximum Likelihood optimization failed to \"\n",
      "\n"
     ]
    },
    {
     "name": "stdout",
     "output_type": "stream",
     "text": [
      " 91%|██████████████████████████████████████████▌    | 116/128 [01:11<00:09,  1.28trial/s, best loss: 2.000520504622128]"
     ]
    },
    {
     "name": "stderr",
     "output_type": "stream",
     "text": [
      "C:\\Users\\Serra\\anaconda3new\\lib\\site-packages\\statsmodels\\base\\model.py:604: ConvergenceWarning: Maximum Likelihood optimization failed to converge. Check mle_retvals\n",
      "  warnings.warn(\"Maximum Likelihood optimization failed to \"\n",
      "\n"
     ]
    },
    {
     "name": "stdout",
     "output_type": "stream",
     "text": [
      "\r",
      " 92%|███████████████████████████████████████████▎   | 118/128 [01:12<00:07,  1.39trial/s, best loss: 2.000520504622128]"
     ]
    },
    {
     "name": "stderr",
     "output_type": "stream",
     "text": [
      "C:\\Users\\Serra\\anaconda3new\\lib\\site-packages\\statsmodels\\base\\model.py:604: ConvergenceWarning: Maximum Likelihood optimization failed to converge. Check mle_retvals\n",
      "  warnings.warn(\"Maximum Likelihood optimization failed to \"\n",
      "\n"
     ]
    },
    {
     "name": "stdout",
     "output_type": "stream",
     "text": [
      " 95%|████████████████████████████████████████████▍  | 121/128 [01:14<00:05,  1.29trial/s, best loss: 2.000520504622128]"
     ]
    },
    {
     "name": "stderr",
     "output_type": "stream",
     "text": [
      "C:\\Users\\Serra\\anaconda3new\\lib\\site-packages\\statsmodels\\tsa\\statespace\\sarimax.py:978: UserWarning: Non-invertible starting MA parameters found. Using zeros as starting parameters.\n",
      "  warn('Non-invertible starting MA parameters found.'\n",
      "\n"
     ]
    },
    {
     "name": "stdout",
     "output_type": "stream",
     "text": [
      "100%|███████████████████████████████████████████████| 128/128 [01:18<00:00,  1.64trial/s, best loss: 2.000520504622128]\n",
      "{'concentrate_scale': False, 'conf_alpha': 0.7690228482008833, 'enforce_invertibility': False, 'enforce_stationarity': False, 'missing': 'drop', 'order_0': 1, 'order_1': 0, 'order_2': 2, 'trend': 'ct'}\n"
     ]
    }
   ],
   "source": [
    "# Optimize ARIMA\n",
    "arima_param_space = {\n",
    "    'order_0': hp.randint('order_0', 5),\n",
    "    'order_1': hp.randint('order_1', 5),\n",
    "    'order_2': hp.randint('order_2', 5),\n",
    "    'trend': hp.choice('trend', [None, 'n', 'c', 't', 'ct']),\n",
    "    'enforce_stationarity': hp.choice('enforce_stationarity', [False, True]),\n",
    "    'enforce_invertibility': hp.choice('enforce_invertibility', [False, True]),\n",
    "    'concentrate_scale': hp.choice('concentrate_scale', [False, True]),\n",
    "    'missing': hp.choice('missing', [None, 'drop', 'raise']),\n",
    "    'conf_alpha': hp.uniform('conf_alpha', 0.0, 1.0),\n",
    "}\n",
    "arima_trials = Trials()\n",
    "best_arima_params = fmin(create_test_params(ARIMA), arima_param_space, algo=tpe.suggest, max_evals=128,\n",
    "                         trials=arima_trials, rstate=np.random.default_rng(RND_SEED))\n",
    "best_arima_params = space_eval(arima_param_space, best_arima_params)\n",
    "arima_loss = [trial['loss'] for trial in arima_trials.results if trial['status'] == STATUS_OK]\n",
    "print(best_arima_params)"
   ]
  },
  {
   "cell_type": "markdown",
   "id": "916ef23f",
   "metadata": {},
   "source": [
    "### 2.3 Seasonal ARIMA (SARIMA)"
   ]
  },
  {
   "cell_type": "code",
   "execution_count": 11,
   "id": "c7ee8e5c",
   "metadata": {},
   "outputs": [
    {
     "name": "stdout",
     "output_type": "stream",
     "text": [
      "  1%|▌                                               | 3/256 [00:01<02:17,  1.84trial/s, best loss: 47.814198374981274]"
     ]
    },
    {
     "name": "stderr",
     "output_type": "stream",
     "text": [
      "C:\\Users\\Serra\\anaconda3new\\lib\\site-packages\\statsmodels\\base\\model.py:604: ConvergenceWarning: Maximum Likelihood optimization failed to converge. Check mle_retvals\n",
      "  warnings.warn(\"Maximum Likelihood optimization failed to \"\n",
      "\n"
     ]
    },
    {
     "name": "stdout",
     "output_type": "stream",
     "text": [
      "\r",
      "  2%|█▏                                               | 6/256 [00:02<01:58,  2.11trial/s, best loss: 47.80533565067813]"
     ]
    },
    {
     "name": "stderr",
     "output_type": "stream",
     "text": [
      "C:\\Users\\Serra\\anaconda3new\\lib\\site-packages\\statsmodels\\base\\model.py:604: ConvergenceWarning: Maximum Likelihood optimization failed to converge. Check mle_retvals\n",
      "  warnings.warn(\"Maximum Likelihood optimization failed to \"\n",
      "\n"
     ]
    },
    {
     "name": "stdout",
     "output_type": "stream",
     "text": [
      "  4%|█▉                                              | 10/256 [00:03<01:24,  2.92trial/s, best loss: 47.80429073014452]"
     ]
    },
    {
     "name": "stderr",
     "output_type": "stream",
     "text": [
      "C:\\Users\\Serra\\anaconda3new\\lib\\site-packages\\statsmodels\\tsa\\statespace\\sarimax.py:978: UserWarning: Non-invertible starting MA parameters found. Using zeros as starting parameters.\n",
      "  warn('Non-invertible starting MA parameters found.'\n",
      "\n"
     ]
    },
    {
     "name": "stdout",
     "output_type": "stream",
     "text": [
      "  5%|██▋                                             | 14/256 [00:06<02:08,  1.89trial/s, best loss: 47.80429073014452]"
     ]
    },
    {
     "name": "stderr",
     "output_type": "stream",
     "text": [
      "C:\\Users\\Serra\\anaconda3new\\lib\\site-packages\\statsmodels\\base\\model.py:604: ConvergenceWarning: Maximum Likelihood optimization failed to converge. Check mle_retvals\n",
      "  warnings.warn(\"Maximum Likelihood optimization failed to \"\n",
      "\n",
      "C:\\Users\\Serra\\anaconda3new\\lib\\site-packages\\statsmodels\\tsa\\statespace\\sarimax.py:966: UserWarning: Non-stationary starting autoregressive parameters found. Using zeros as starting parameters.\n",
      "  warn('Non-stationary starting autoregressive parameters'\n",
      "\n"
     ]
    },
    {
     "name": "stdout",
     "output_type": "stream",
     "text": [
      "\r",
      "  6%|██▊                                            | 15/256 [00:07<02:39,  1.51trial/s, best loss: 3.8304258209911586]"
     ]
    },
    {
     "name": "stderr",
     "output_type": "stream",
     "text": [
      "C:\\Users\\Serra\\anaconda3new\\lib\\site-packages\\statsmodels\\base\\model.py:604: ConvergenceWarning: Maximum Likelihood optimization failed to converge. Check mle_retvals\n",
      "  warnings.warn(\"Maximum Likelihood optimization failed to \"\n",
      "\n"
     ]
    },
    {
     "name": "stdout",
     "output_type": "stream",
     "text": [
      "\r",
      "  6%|███                                             | 16/256 [00:08<03:05,  1.30trial/s, best loss: 2.502946418068033]"
     ]
    },
    {
     "name": "stderr",
     "output_type": "stream",
     "text": [
      "C:\\Users\\Serra\\anaconda3new\\lib\\site-packages\\statsmodels\\base\\model.py:604: ConvergenceWarning: Maximum Likelihood optimization failed to converge. Check mle_retvals\n",
      "  warnings.warn(\"Maximum Likelihood optimization failed to \"\n",
      "\n"
     ]
    },
    {
     "name": "stdout",
     "output_type": "stream",
     "text": [
      "\r",
      "  7%|███                                            | 17/256 [00:09<02:50,  1.40trial/s, best loss: 2.1872180118205584]"
     ]
    },
    {
     "name": "stderr",
     "output_type": "stream",
     "text": [
      "C:\\Users\\Serra\\anaconda3new\\lib\\site-packages\\statsmodels\\base\\model.py:604: ConvergenceWarning: Maximum Likelihood optimization failed to converge. Check mle_retvals\n",
      "  warnings.warn(\"Maximum Likelihood optimization failed to \"\n",
      "\n"
     ]
    },
    {
     "name": "stdout",
     "output_type": "stream",
     "text": [
      "  8%|███▊                                           | 21/256 [00:11<02:12,  1.77trial/s, best loss: 2.1872180118205584]"
     ]
    },
    {
     "name": "stderr",
     "output_type": "stream",
     "text": [
      "C:\\Users\\Serra\\anaconda3new\\lib\\site-packages\\statsmodels\\base\\model.py:604: ConvergenceWarning: Maximum Likelihood optimization failed to converge. Check mle_retvals\n",
      "  warnings.warn(\"Maximum Likelihood optimization failed to \"\n",
      "\n"
     ]
    },
    {
     "name": "stdout",
     "output_type": "stream",
     "text": [
      "  9%|████▏                                          | 23/256 [00:12<02:25,  1.60trial/s, best loss: 2.1872180118205584]"
     ]
    },
    {
     "name": "stderr",
     "output_type": "stream",
     "text": [
      "C:\\Users\\Serra\\anaconda3new\\lib\\site-packages\\statsmodels\\base\\model.py:604: ConvergenceWarning: Maximum Likelihood optimization failed to converge. Check mle_retvals\n",
      "  warnings.warn(\"Maximum Likelihood optimization failed to \"\n",
      "\n"
     ]
    },
    {
     "name": "stdout",
     "output_type": "stream",
     "text": [
      " 12%|█████▌                                         | 30/256 [00:18<02:15,  1.66trial/s, best loss: 2.1872180118205584]"
     ]
    },
    {
     "name": "stderr",
     "output_type": "stream",
     "text": [
      "C:\\Users\\Serra\\anaconda3new\\lib\\site-packages\\statsmodels\\base\\model.py:604: ConvergenceWarning: Maximum Likelihood optimization failed to converge. Check mle_retvals\n",
      "  warnings.warn(\"Maximum Likelihood optimization failed to \"\n",
      "\n"
     ]
    },
    {
     "name": "stdout",
     "output_type": "stream",
     "text": [
      "\r",
      " 12%|█████▉                                         | 32/256 [00:21<03:17,  1.13trial/s, best loss: 2.1872180118205584]"
     ]
    },
    {
     "name": "stderr",
     "output_type": "stream",
     "text": [
      "C:\\Users\\Serra\\anaconda3new\\lib\\site-packages\\statsmodels\\base\\model.py:604: ConvergenceWarning: Maximum Likelihood optimization failed to converge. Check mle_retvals\n",
      "  warnings.warn(\"Maximum Likelihood optimization failed to \"\n",
      "\n"
     ]
    },
    {
     "name": "stdout",
     "output_type": "stream",
     "text": [
      " 14%|██████▍                                        | 35/256 [00:22<02:08,  1.72trial/s, best loss: 2.1872180118205584]"
     ]
    },
    {
     "name": "stderr",
     "output_type": "stream",
     "text": [
      "C:\\Users\\Serra\\anaconda3new\\lib\\site-packages\\statsmodels\\base\\model.py:604: ConvergenceWarning: Maximum Likelihood optimization failed to converge. Check mle_retvals\n",
      "  warnings.warn(\"Maximum Likelihood optimization failed to \"\n",
      "\n"
     ]
    },
    {
     "name": "stdout",
     "output_type": "stream",
     "text": [
      " 15%|██████▉                                        | 38/256 [00:23<01:29,  2.43trial/s, best loss: 2.1872180118205584]"
     ]
    },
    {
     "name": "stderr",
     "output_type": "stream",
     "text": [
      "C:\\Users\\Serra\\anaconda3new\\lib\\site-packages\\statsmodels\\tsa\\statespace\\sarimax.py:978: UserWarning: Non-invertible starting MA parameters found. Using zeros as starting parameters.\n",
      "  warn('Non-invertible starting MA parameters found.'\n",
      "\n"
     ]
    },
    {
     "name": "stdout",
     "output_type": "stream",
     "text": [
      " 16%|███████▎                                       | 40/256 [00:25<02:48,  1.28trial/s, best loss: 2.1872180118205584]"
     ]
    },
    {
     "name": "stderr",
     "output_type": "stream",
     "text": [
      "C:\\Users\\Serra\\anaconda3new\\lib\\site-packages\\statsmodels\\base\\model.py:604: ConvergenceWarning: Maximum Likelihood optimization failed to converge. Check mle_retvals\n",
      "  warnings.warn(\"Maximum Likelihood optimization failed to \"\n",
      "\n"
     ]
    },
    {
     "name": "stdout",
     "output_type": "stream",
     "text": [
      " 17%|████████                                       | 44/256 [00:27<01:56,  1.82trial/s, best loss: 1.9383494704655224]"
     ]
    },
    {
     "name": "stderr",
     "output_type": "stream",
     "text": [
      "C:\\Users\\Serra\\anaconda3new\\lib\\site-packages\\statsmodels\\base\\model.py:604: ConvergenceWarning: Maximum Likelihood optimization failed to converge. Check mle_retvals\n",
      "  warnings.warn(\"Maximum Likelihood optimization failed to \"\n",
      "\n"
     ]
    },
    {
     "name": "stdout",
     "output_type": "stream",
     "text": [
      " 18%|████████▍                                      | 46/256 [00:28<01:44,  2.02trial/s, best loss: 1.9383494704655224]"
     ]
    },
    {
     "name": "stderr",
     "output_type": "stream",
     "text": [
      "C:\\Users\\Serra\\anaconda3new\\lib\\site-packages\\statsmodels\\base\\model.py:604: ConvergenceWarning: Maximum Likelihood optimization failed to converge. Check mle_retvals\n",
      "  warnings.warn(\"Maximum Likelihood optimization failed to \"\n",
      "\n"
     ]
    },
    {
     "name": "stdout",
     "output_type": "stream",
     "text": [
      "\r",
      " 18%|████████▋                                      | 47/256 [00:29<02:31,  1.38trial/s, best loss: 1.9383494704655224]"
     ]
    },
    {
     "name": "stderr",
     "output_type": "stream",
     "text": [
      "C:\\Users\\Serra\\anaconda3new\\lib\\site-packages\\statsmodels\\base\\model.py:604: ConvergenceWarning: Maximum Likelihood optimization failed to converge. Check mle_retvals\n",
      "  warnings.warn(\"Maximum Likelihood optimization failed to \"\n",
      "\n"
     ]
    },
    {
     "name": "stdout",
     "output_type": "stream",
     "text": [
      "\r",
      " 19%|████████▊                                      | 48/256 [00:30<02:27,  1.41trial/s, best loss: 1.9383494704655224]"
     ]
    },
    {
     "name": "stderr",
     "output_type": "stream",
     "text": [
      "C:\\Users\\Serra\\anaconda3new\\lib\\site-packages\\statsmodels\\base\\model.py:604: ConvergenceWarning: Maximum Likelihood optimization failed to converge. Check mle_retvals\n",
      "  warnings.warn(\"Maximum Likelihood optimization failed to \"\n",
      "\n"
     ]
    },
    {
     "name": "stdout",
     "output_type": "stream",
     "text": [
      " 20%|█████████▎                                     | 51/256 [00:32<03:03,  1.12trial/s, best loss: 1.9383494704655224]"
     ]
    },
    {
     "name": "stderr",
     "output_type": "stream",
     "text": [
      "C:\\Users\\Serra\\anaconda3new\\lib\\site-packages\\statsmodels\\base\\model.py:604: ConvergenceWarning: Maximum Likelihood optimization failed to converge. Check mle_retvals\n",
      "  warnings.warn(\"Maximum Likelihood optimization failed to \"\n",
      "\n"
     ]
    },
    {
     "name": "stdout",
     "output_type": "stream",
     "text": [
      " 25%|███████████▊                                   | 64/256 [00:45<03:04,  1.04trial/s, best loss: 1.9383494704655224]"
     ]
    },
    {
     "name": "stderr",
     "output_type": "stream",
     "text": [
      "C:\\Users\\Serra\\anaconda3new\\lib\\site-packages\\statsmodels\\base\\model.py:604: ConvergenceWarning: Maximum Likelihood optimization failed to converge. Check mle_retvals\n",
      "  warnings.warn(\"Maximum Likelihood optimization failed to \"\n",
      "\n"
     ]
    },
    {
     "name": "stdout",
     "output_type": "stream",
     "text": [
      " 28%|█████████████                                  | 71/256 [00:47<01:09,  2.67trial/s, best loss: 1.9383494704655224]"
     ]
    },
    {
     "name": "stderr",
     "output_type": "stream",
     "text": [
      "C:\\Users\\Serra\\anaconda3new\\lib\\site-packages\\statsmodels\\tsa\\statespace\\sarimax.py:966: UserWarning: Non-stationary starting autoregressive parameters found. Using zeros as starting parameters.\n",
      "  warn('Non-stationary starting autoregressive parameters'\n",
      "\n"
     ]
    },
    {
     "name": "stdout",
     "output_type": "stream",
     "text": [
      "\r",
      " 28%|█████████████▏                                 | 72/256 [00:49<02:28,  1.24trial/s, best loss: 1.9383494704655224]"
     ]
    },
    {
     "name": "stderr",
     "output_type": "stream",
     "text": [
      "C:\\Users\\Serra\\anaconda3new\\lib\\site-packages\\statsmodels\\base\\model.py:604: ConvergenceWarning: Maximum Likelihood optimization failed to converge. Check mle_retvals\n",
      "  warnings.warn(\"Maximum Likelihood optimization failed to \"\n",
      "\n"
     ]
    },
    {
     "name": "stdout",
     "output_type": "stream",
     "text": [
      " 29%|█████████████▌                                 | 74/256 [00:50<02:12,  1.38trial/s, best loss: 1.9383494704655224]"
     ]
    },
    {
     "name": "stderr",
     "output_type": "stream",
     "text": [
      "C:\\Users\\Serra\\anaconda3new\\lib\\site-packages\\statsmodels\\tsa\\statespace\\sarimax.py:966: UserWarning: Non-stationary starting autoregressive parameters found. Using zeros as starting parameters.\n",
      "  warn('Non-stationary starting autoregressive parameters'\n",
      "\n"
     ]
    },
    {
     "name": "stdout",
     "output_type": "stream",
     "text": [
      "\r",
      " 29%|█████████████▊                                 | 75/256 [00:51<02:38,  1.14trial/s, best loss: 1.9383494704655224]"
     ]
    },
    {
     "name": "stderr",
     "output_type": "stream",
     "text": [
      "C:\\Users\\Serra\\anaconda3new\\lib\\site-packages\\statsmodels\\base\\model.py:604: ConvergenceWarning: Maximum Likelihood optimization failed to converge. Check mle_retvals\n",
      "  warnings.warn(\"Maximum Likelihood optimization failed to \"\n",
      "\n"
     ]
    },
    {
     "name": "stdout",
     "output_type": "stream",
     "text": [
      " 32%|███████████████▏                               | 83/256 [00:58<01:40,  1.73trial/s, best loss: 1.9383494704655224]"
     ]
    },
    {
     "name": "stderr",
     "output_type": "stream",
     "text": [
      "C:\\Users\\Serra\\anaconda3new\\lib\\site-packages\\statsmodels\\base\\model.py:604: ConvergenceWarning: Maximum Likelihood optimization failed to converge. Check mle_retvals\n",
      "  warnings.warn(\"Maximum Likelihood optimization failed to \"\n",
      "\n"
     ]
    },
    {
     "name": "stdout",
     "output_type": "stream",
     "text": [
      "\r",
      " 33%|███████████████▍                               | 84/256 [00:58<01:39,  1.72trial/s, best loss: 1.9383494704655224]"
     ]
    },
    {
     "name": "stderr",
     "output_type": "stream",
     "text": [
      "C:\\Users\\Serra\\anaconda3new\\lib\\site-packages\\statsmodels\\base\\model.py:604: ConvergenceWarning: Maximum Likelihood optimization failed to converge. Check mle_retvals\n",
      "  warnings.warn(\"Maximum Likelihood optimization failed to \"\n",
      "\n"
     ]
    },
    {
     "name": "stdout",
     "output_type": "stream",
     "text": [
      "\r",
      " 33%|███████████████▌                               | 85/256 [01:01<03:07,  1.09s/trial, best loss: 1.9383494704655224]"
     ]
    },
    {
     "name": "stderr",
     "output_type": "stream",
     "text": [
      "C:\\Users\\Serra\\anaconda3new\\lib\\site-packages\\statsmodels\\base\\model.py:604: ConvergenceWarning: Maximum Likelihood optimization failed to converge. Check mle_retvals\n",
      "  warnings.warn(\"Maximum Likelihood optimization failed to \"\n",
      "\n"
     ]
    },
    {
     "name": "stdout",
     "output_type": "stream",
     "text": [
      " 36%|████████████████▉                              | 92/256 [01:04<01:38,  1.67trial/s, best loss: 1.9383494704655224]"
     ]
    },
    {
     "name": "stderr",
     "output_type": "stream",
     "text": [
      "C:\\Users\\Serra\\anaconda3new\\lib\\site-packages\\statsmodels\\base\\model.py:604: ConvergenceWarning: Maximum Likelihood optimization failed to converge. Check mle_retvals\n",
      "  warnings.warn(\"Maximum Likelihood optimization failed to \"\n",
      "\n"
     ]
    },
    {
     "name": "stdout",
     "output_type": "stream",
     "text": [
      " 38%|█████████████████▋                             | 96/256 [01:06<01:27,  1.83trial/s, best loss: 1.9383494704655224]"
     ]
    },
    {
     "name": "stderr",
     "output_type": "stream",
     "text": [
      "C:\\Users\\Serra\\anaconda3new\\lib\\site-packages\\statsmodels\\base\\model.py:604: ConvergenceWarning: Maximum Likelihood optimization failed to converge. Check mle_retvals\n",
      "  warnings.warn(\"Maximum Likelihood optimization failed to \"\n",
      "\n"
     ]
    },
    {
     "name": "stdout",
     "output_type": "stream",
     "text": [
      " 38%|█████████████████▉                             | 98/256 [01:09<02:23,  1.10trial/s, best loss: 1.9383494704655224]"
     ]
    },
    {
     "name": "stderr",
     "output_type": "stream",
     "text": [
      "C:\\Users\\Serra\\anaconda3new\\lib\\site-packages\\statsmodels\\base\\model.py:604: ConvergenceWarning: Maximum Likelihood optimization failed to converge. Check mle_retvals\n",
      "  warnings.warn(\"Maximum Likelihood optimization failed to \"\n",
      "\n",
      "C:\\Users\\Serra\\anaconda3new\\lib\\site-packages\\statsmodels\\tsa\\statespace\\sarimax.py:966: UserWarning: Non-stationary starting autoregressive parameters found. Using zeros as starting parameters.\n",
      "  warn('Non-stationary starting autoregressive parameters'\n",
      "\n"
     ]
    },
    {
     "name": "stdout",
     "output_type": "stream",
     "text": [
      " 39%|██████████████████▏                           | 101/256 [01:11<01:51,  1.39trial/s, best loss: 1.9383494704655224]"
     ]
    },
    {
     "name": "stderr",
     "output_type": "stream",
     "text": [
      "C:\\Users\\Serra\\anaconda3new\\lib\\site-packages\\statsmodels\\base\\model.py:604: ConvergenceWarning: Maximum Likelihood optimization failed to converge. Check mle_retvals\n",
      "  warnings.warn(\"Maximum Likelihood optimization failed to \"\n",
      "\n"
     ]
    },
    {
     "name": "stdout",
     "output_type": "stream",
     "text": [
      " 41%|██████████████████▋                           | 104/256 [01:13<01:47,  1.42trial/s, best loss: 1.9383494704655224]"
     ]
    },
    {
     "name": "stderr",
     "output_type": "stream",
     "text": [
      "C:\\Users\\Serra\\anaconda3new\\lib\\site-packages\\statsmodels\\tsa\\statespace\\sarimax.py:966: UserWarning: Non-stationary starting autoregressive parameters found. Using zeros as starting parameters.\n",
      "  warn('Non-stationary starting autoregressive parameters'\n",
      "\n"
     ]
    },
    {
     "name": "stdout",
     "output_type": "stream",
     "text": [
      "\r",
      " 41%|███████████████████                           | 106/256 [01:15<01:52,  1.33trial/s, best loss: 1.9383494704655224]"
     ]
    },
    {
     "name": "stderr",
     "output_type": "stream",
     "text": [
      "C:\\Users\\Serra\\anaconda3new\\lib\\site-packages\\statsmodels\\base\\model.py:604: ConvergenceWarning: Maximum Likelihood optimization failed to converge. Check mle_retvals\n",
      "  warnings.warn(\"Maximum Likelihood optimization failed to \"\n",
      "\n",
      "C:\\Users\\Serra\\anaconda3new\\lib\\site-packages\\statsmodels\\tsa\\statespace\\sarimax.py:978: UserWarning: Non-invertible starting MA parameters found. Using zeros as starting parameters.\n",
      "  warn('Non-invertible starting MA parameters found.'\n",
      "\n"
     ]
    },
    {
     "name": "stdout",
     "output_type": "stream",
     "text": [
      " 44%|████████████████████▎                         | 113/256 [01:19<01:30,  1.57trial/s, best loss: 1.9383494704655224]"
     ]
    },
    {
     "name": "stderr",
     "output_type": "stream",
     "text": [
      "C:\\Users\\Serra\\anaconda3new\\lib\\site-packages\\statsmodels\\base\\model.py:604: ConvergenceWarning: Maximum Likelihood optimization failed to converge. Check mle_retvals\n",
      "  warnings.warn(\"Maximum Likelihood optimization failed to \"\n",
      "\n"
     ]
    },
    {
     "name": "stdout",
     "output_type": "stream",
     "text": [
      " 45%|████████████████████▋                         | 115/256 [01:22<02:18,  1.01trial/s, best loss: 1.9383494704655224]"
     ]
    },
    {
     "name": "stderr",
     "output_type": "stream",
     "text": [
      "C:\\Users\\Serra\\anaconda3new\\lib\\site-packages\\statsmodels\\base\\model.py:604: ConvergenceWarning: Maximum Likelihood optimization failed to converge. Check mle_retvals\n",
      "  warnings.warn(\"Maximum Likelihood optimization failed to \"\n",
      "\n"
     ]
    },
    {
     "name": "stdout",
     "output_type": "stream",
     "text": [
      " 46%|█████████████████████▏                        | 118/256 [01:23<01:34,  1.47trial/s, best loss: 1.9383494704655224]"
     ]
    },
    {
     "name": "stderr",
     "output_type": "stream",
     "text": [
      "C:\\Users\\Serra\\anaconda3new\\lib\\site-packages\\statsmodels\\base\\model.py:604: ConvergenceWarning: Maximum Likelihood optimization failed to converge. Check mle_retvals\n",
      "  warnings.warn(\"Maximum Likelihood optimization failed to \"\n",
      "\n"
     ]
    },
    {
     "name": "stdout",
     "output_type": "stream",
     "text": [
      " 48%|█████████████████████▉                        | 122/256 [01:25<01:07,  1.97trial/s, best loss: 1.9383494704655224]"
     ]
    },
    {
     "name": "stderr",
     "output_type": "stream",
     "text": [
      "C:\\Users\\Serra\\anaconda3new\\lib\\site-packages\\statsmodels\\tsa\\statespace\\sarimax.py:966: UserWarning: Non-stationary starting autoregressive parameters found. Using zeros as starting parameters.\n",
      "  warn('Non-stationary starting autoregressive parameters'\n",
      "\n"
     ]
    },
    {
     "name": "stdout",
     "output_type": "stream",
     "text": [
      "\r",
      " 48%|██████████████████████                        | 123/256 [01:27<01:26,  1.54trial/s, best loss: 1.9383494704655224]"
     ]
    },
    {
     "name": "stderr",
     "output_type": "stream",
     "text": [
      "C:\\Users\\Serra\\anaconda3new\\lib\\site-packages\\statsmodels\\base\\model.py:604: ConvergenceWarning: Maximum Likelihood optimization failed to converge. Check mle_retvals\n",
      "  warnings.warn(\"Maximum Likelihood optimization failed to \"\n",
      "\n"
     ]
    },
    {
     "name": "stdout",
     "output_type": "stream",
     "text": [
      " 50%|███████████████████████                       | 128/256 [01:30<01:26,  1.48trial/s, best loss: 1.9383494704655224]"
     ]
    },
    {
     "name": "stderr",
     "output_type": "stream",
     "text": [
      "C:\\Users\\Serra\\anaconda3new\\lib\\site-packages\\statsmodels\\base\\model.py:604: ConvergenceWarning: Maximum Likelihood optimization failed to converge. Check mle_retvals\n",
      "  warnings.warn(\"Maximum Likelihood optimization failed to \"\n",
      "\n"
     ]
    },
    {
     "name": "stdout",
     "output_type": "stream",
     "text": [
      " 52%|███████████████████████▋                      | 132/256 [01:33<01:13,  1.70trial/s, best loss: 1.9383494704655224]"
     ]
    },
    {
     "name": "stderr",
     "output_type": "stream",
     "text": [
      "C:\\Users\\Serra\\anaconda3new\\lib\\site-packages\\statsmodels\\base\\model.py:604: ConvergenceWarning: Maximum Likelihood optimization failed to converge. Check mle_retvals\n",
      "  warnings.warn(\"Maximum Likelihood optimization failed to \"\n",
      "\n"
     ]
    },
    {
     "name": "stdout",
     "output_type": "stream",
     "text": [
      " 52%|████████████████████████                      | 134/256 [01:35<01:34,  1.29trial/s, best loss: 1.9383494704655224]"
     ]
    },
    {
     "name": "stderr",
     "output_type": "stream",
     "text": [
      "C:\\Users\\Serra\\anaconda3new\\lib\\site-packages\\statsmodels\\base\\model.py:604: ConvergenceWarning: Maximum Likelihood optimization failed to converge. Check mle_retvals\n",
      "  warnings.warn(\"Maximum Likelihood optimization failed to \"\n",
      "\n"
     ]
    },
    {
     "name": "stdout",
     "output_type": "stream",
     "text": [
      " 54%|████████████████████████▊                     | 138/256 [01:38<01:17,  1.53trial/s, best loss: 1.9383494704655224]"
     ]
    },
    {
     "name": "stderr",
     "output_type": "stream",
     "text": [
      "C:\\Users\\Serra\\anaconda3new\\lib\\site-packages\\statsmodels\\tsa\\statespace\\sarimax.py:966: UserWarning: Non-stationary starting autoregressive parameters found. Using zeros as starting parameters.\n",
      "  warn('Non-stationary starting autoregressive parameters'\n",
      "\n"
     ]
    },
    {
     "name": "stdout",
     "output_type": "stream",
     "text": [
      "\r",
      " 54%|████████████████████████▉                     | 139/256 [01:40<01:43,  1.14trial/s, best loss: 1.9383494704655224]"
     ]
    },
    {
     "name": "stderr",
     "output_type": "stream",
     "text": [
      "C:\\Users\\Serra\\anaconda3new\\lib\\site-packages\\statsmodels\\base\\model.py:604: ConvergenceWarning: Maximum Likelihood optimization failed to converge. Check mle_retvals\n",
      "  warnings.warn(\"Maximum Likelihood optimization failed to \"\n",
      "\n"
     ]
    },
    {
     "name": "stdout",
     "output_type": "stream",
     "text": [
      " 57%|██████████████████████████                    | 145/256 [01:46<01:43,  1.07trial/s, best loss: 1.9383494704655224]"
     ]
    },
    {
     "name": "stderr",
     "output_type": "stream",
     "text": [
      "C:\\Users\\Serra\\anaconda3new\\lib\\site-packages\\statsmodels\\base\\model.py:604: ConvergenceWarning: Maximum Likelihood optimization failed to converge. Check mle_retvals\n",
      "  warnings.warn(\"Maximum Likelihood optimization failed to \"\n",
      "\n"
     ]
    },
    {
     "name": "stdout",
     "output_type": "stream",
     "text": [
      " 60%|███████████████████████████▋                  | 154/256 [01:49<00:45,  2.23trial/s, best loss: 1.9383494704655224]"
     ]
    },
    {
     "name": "stderr",
     "output_type": "stream",
     "text": [
      "C:\\Users\\Serra\\anaconda3new\\lib\\site-packages\\statsmodels\\base\\model.py:604: ConvergenceWarning: Maximum Likelihood optimization failed to converge. Check mle_retvals\n",
      "  warnings.warn(\"Maximum Likelihood optimization failed to \"\n",
      "\n"
     ]
    },
    {
     "name": "stdout",
     "output_type": "stream",
     "text": [
      "\r",
      " 61%|███████████████████████████▊                  | 155/256 [01:50<00:51,  1.97trial/s, best loss: 1.9383494704655224]"
     ]
    },
    {
     "name": "stderr",
     "output_type": "stream",
     "text": [
      "C:\\Users\\Serra\\anaconda3new\\lib\\site-packages\\statsmodels\\base\\model.py:604: ConvergenceWarning: Maximum Likelihood optimization failed to converge. Check mle_retvals\n",
      "  warnings.warn(\"Maximum Likelihood optimization failed to \"\n",
      "\n"
     ]
    },
    {
     "name": "stdout",
     "output_type": "stream",
     "text": [
      "\r",
      " 61%|████████████████████████████                  | 156/256 [01:51<00:55,  1.80trial/s, best loss: 1.9383494704655224]"
     ]
    },
    {
     "name": "stderr",
     "output_type": "stream",
     "text": [
      "C:\\Users\\Serra\\anaconda3new\\lib\\site-packages\\statsmodels\\base\\model.py:604: ConvergenceWarning: Maximum Likelihood optimization failed to converge. Check mle_retvals\n",
      "  warnings.warn(\"Maximum Likelihood optimization failed to \"\n",
      "\n"
     ]
    },
    {
     "name": "stdout",
     "output_type": "stream",
     "text": [
      "\r",
      " 61%|████████████████████████████▏                 | 157/256 [01:51<00:57,  1.72trial/s, best loss: 1.9383494704655224]"
     ]
    },
    {
     "name": "stderr",
     "output_type": "stream",
     "text": [
      "C:\\Users\\Serra\\anaconda3new\\lib\\site-packages\\statsmodels\\base\\model.py:604: ConvergenceWarning: Maximum Likelihood optimization failed to converge. Check mle_retvals\n",
      "  warnings.warn(\"Maximum Likelihood optimization failed to \"\n",
      "\n"
     ]
    },
    {
     "name": "stdout",
     "output_type": "stream",
     "text": [
      "\r",
      " 62%|████████████████████████████▍                 | 158/256 [01:52<00:58,  1.67trial/s, best loss: 1.9383494704655224]"
     ]
    },
    {
     "name": "stderr",
     "output_type": "stream",
     "text": [
      "C:\\Users\\Serra\\anaconda3new\\lib\\site-packages\\statsmodels\\base\\model.py:604: ConvergenceWarning: Maximum Likelihood optimization failed to converge. Check mle_retvals\n",
      "  warnings.warn(\"Maximum Likelihood optimization failed to \"\n",
      "\n"
     ]
    },
    {
     "name": "stdout",
     "output_type": "stream",
     "text": [
      " 63%|████████████████████████████▉                 | 161/256 [01:55<01:27,  1.08trial/s, best loss: 1.9383494704655224]"
     ]
    },
    {
     "name": "stderr",
     "output_type": "stream",
     "text": [
      "C:\\Users\\Serra\\anaconda3new\\lib\\site-packages\\statsmodels\\base\\model.py:604: ConvergenceWarning: Maximum Likelihood optimization failed to converge. Check mle_retvals\n",
      "  warnings.warn(\"Maximum Likelihood optimization failed to \"\n",
      "\n"
     ]
    },
    {
     "name": "stdout",
     "output_type": "stream",
     "text": [
      " 64%|█████████████████████████████▎                | 163/256 [01:57<01:25,  1.08trial/s, best loss: 1.9383494704655224]"
     ]
    },
    {
     "name": "stderr",
     "output_type": "stream",
     "text": [
      "C:\\Users\\Serra\\anaconda3new\\lib\\site-packages\\statsmodels\\base\\model.py:604: ConvergenceWarning: Maximum Likelihood optimization failed to converge. Check mle_retvals\n",
      "  warnings.warn(\"Maximum Likelihood optimization failed to \"\n",
      "\n"
     ]
    },
    {
     "name": "stdout",
     "output_type": "stream",
     "text": [
      "\r",
      " 64%|█████████████████████████████▋                | 165/256 [01:57<00:52,  1.73trial/s, best loss: 1.9383494704655224]"
     ]
    },
    {
     "name": "stderr",
     "output_type": "stream",
     "text": [
      "C:\\Users\\Serra\\anaconda3new\\lib\\site-packages\\statsmodels\\base\\model.py:604: ConvergenceWarning: Maximum Likelihood optimization failed to converge. Check mle_retvals\n",
      "  warnings.warn(\"Maximum Likelihood optimization failed to \"\n",
      "\n"
     ]
    },
    {
     "name": "stdout",
     "output_type": "stream",
     "text": [
      " 65%|██████████████████████████████                | 167/256 [01:59<01:02,  1.44trial/s, best loss: 1.9383494704655224]"
     ]
    },
    {
     "name": "stderr",
     "output_type": "stream",
     "text": [
      "C:\\Users\\Serra\\anaconda3new\\lib\\site-packages\\statsmodels\\base\\model.py:604: ConvergenceWarning: Maximum Likelihood optimization failed to converge. Check mle_retvals\n",
      "  warnings.warn(\"Maximum Likelihood optimization failed to \"\n",
      "\n",
      "C:\\Users\\Serra\\anaconda3new\\lib\\site-packages\\statsmodels\\tsa\\statespace\\sarimax.py:978: UserWarning: Non-invertible starting MA parameters found. Using zeros as starting parameters.\n",
      "  warn('Non-invertible starting MA parameters found.'\n",
      "\n"
     ]
    },
    {
     "name": "stdout",
     "output_type": "stream",
     "text": [
      "\r",
      " 66%|██████████████████████████████▌               | 170/256 [02:00<00:47,  1.79trial/s, best loss: 1.9383494704655224]"
     ]
    },
    {
     "name": "stderr",
     "output_type": "stream",
     "text": [
      "C:\\Users\\Serra\\anaconda3new\\lib\\site-packages\\statsmodels\\base\\model.py:604: ConvergenceWarning: Maximum Likelihood optimization failed to converge. Check mle_retvals\n",
      "  warnings.warn(\"Maximum Likelihood optimization failed to \"\n",
      "\n"
     ]
    },
    {
     "name": "stdout",
     "output_type": "stream",
     "text": [
      " 68%|███████████████████████████████               | 173/256 [02:03<01:11,  1.16trial/s, best loss: 1.9383494704655224]"
     ]
    },
    {
     "name": "stderr",
     "output_type": "stream",
     "text": [
      "C:\\Users\\Serra\\anaconda3new\\lib\\site-packages\\statsmodels\\base\\model.py:604: ConvergenceWarning: Maximum Likelihood optimization failed to converge. Check mle_retvals\n",
      "  warnings.warn(\"Maximum Likelihood optimization failed to \"\n",
      "\n"
     ]
    },
    {
     "name": "stdout",
     "output_type": "stream",
     "text": [
      "\r",
      " 68%|███████████████████████████████▎              | 174/256 [02:03<00:57,  1.43trial/s, best loss: 1.9383494704655224]"
     ]
    },
    {
     "name": "stderr",
     "output_type": "stream",
     "text": [
      "C:\\Users\\Serra\\anaconda3new\\lib\\site-packages\\statsmodels\\tsa\\statespace\\sarimax.py:966: UserWarning: Non-stationary starting autoregressive parameters found. Using zeros as starting parameters.\n",
      "  warn('Non-stationary starting autoregressive parameters'\n",
      "\n"
     ]
    },
    {
     "name": "stdout",
     "output_type": "stream",
     "text": [
      "\r",
      " 69%|███████████████████████████████▋              | 176/256 [02:05<00:51,  1.56trial/s, best loss: 1.9383494704655224]"
     ]
    },
    {
     "name": "stderr",
     "output_type": "stream",
     "text": [
      "C:\\Users\\Serra\\anaconda3new\\lib\\site-packages\\statsmodels\\base\\model.py:604: ConvergenceWarning: Maximum Likelihood optimization failed to converge. Check mle_retvals\n",
      "  warnings.warn(\"Maximum Likelihood optimization failed to \"\n",
      "\n"
     ]
    },
    {
     "name": "stdout",
     "output_type": "stream",
     "text": [
      " 70%|███████████████████████████████▉              | 178/256 [02:06<00:49,  1.59trial/s, best loss: 1.9383494704655224]"
     ]
    },
    {
     "name": "stderr",
     "output_type": "stream",
     "text": [
      "C:\\Users\\Serra\\anaconda3new\\lib\\site-packages\\statsmodels\\base\\model.py:604: ConvergenceWarning: Maximum Likelihood optimization failed to converge. Check mle_retvals\n",
      "  warnings.warn(\"Maximum Likelihood optimization failed to \"\n",
      "\n"
     ]
    },
    {
     "name": "stdout",
     "output_type": "stream",
     "text": [
      " 71%|████████████████████████████████▋             | 182/256 [02:07<00:30,  2.46trial/s, best loss: 1.9383494704655224]"
     ]
    },
    {
     "name": "stderr",
     "output_type": "stream",
     "text": [
      "C:\\Users\\Serra\\anaconda3new\\lib\\site-packages\\statsmodels\\base\\model.py:604: ConvergenceWarning: Maximum Likelihood optimization failed to converge. Check mle_retvals\n",
      "  warnings.warn(\"Maximum Likelihood optimization failed to \"\n",
      "\n"
     ]
    },
    {
     "name": "stdout",
     "output_type": "stream",
     "text": [
      " 72%|█████████████████████████████████             | 184/256 [02:08<00:27,  2.61trial/s, best loss: 1.9383494704655224]"
     ]
    },
    {
     "name": "stderr",
     "output_type": "stream",
     "text": [
      "C:\\Users\\Serra\\anaconda3new\\lib\\site-packages\\statsmodels\\tsa\\statespace\\sarimax.py:966: UserWarning: Non-stationary starting autoregressive parameters found. Using zeros as starting parameters.\n",
      "  warn('Non-stationary starting autoregressive parameters'\n",
      "\n"
     ]
    },
    {
     "name": "stdout",
     "output_type": "stream",
     "text": [
      " 79%|████████████████████████████████████▍         | 203/256 [02:16<00:20,  2.54trial/s, best loss: 1.9337349277431595]"
     ]
    },
    {
     "name": "stderr",
     "output_type": "stream",
     "text": [
      "C:\\Users\\Serra\\anaconda3new\\lib\\site-packages\\statsmodels\\base\\model.py:604: ConvergenceWarning: Maximum Likelihood optimization failed to converge. Check mle_retvals\n",
      "  warnings.warn(\"Maximum Likelihood optimization failed to \"\n",
      "\n"
     ]
    },
    {
     "name": "stdout",
     "output_type": "stream",
     "text": [
      " 82%|█████████████████████████████████████▋        | 210/256 [02:19<00:20,  2.25trial/s, best loss: 1.9337349277431595]"
     ]
    },
    {
     "name": "stderr",
     "output_type": "stream",
     "text": [
      "C:\\Users\\Serra\\anaconda3new\\lib\\site-packages\\statsmodels\\base\\model.py:604: ConvergenceWarning: Maximum Likelihood optimization failed to converge. Check mle_retvals\n",
      "  warnings.warn(\"Maximum Likelihood optimization failed to \"\n",
      "\n"
     ]
    },
    {
     "name": "stdout",
     "output_type": "stream",
     "text": [
      "\r",
      " 82%|█████████████████████████████████████▉        | 211/256 [02:19<00:22,  1.97trial/s, best loss: 1.9337349277431595]"
     ]
    },
    {
     "name": "stderr",
     "output_type": "stream",
     "text": [
      "C:\\Users\\Serra\\anaconda3new\\lib\\site-packages\\statsmodels\\base\\model.py:604: ConvergenceWarning: Maximum Likelihood optimization failed to converge. Check mle_retvals\n",
      "  warnings.warn(\"Maximum Likelihood optimization failed to \"\n",
      "\n"
     ]
    },
    {
     "name": "stdout",
     "output_type": "stream",
     "text": [
      " 86%|███████████████████████████████████████▎      | 219/256 [02:21<00:11,  3.22trial/s, best loss: 1.9337349277431595]"
     ]
    },
    {
     "name": "stderr",
     "output_type": "stream",
     "text": [
      "C:\\Users\\Serra\\anaconda3new\\lib\\site-packages\\statsmodels\\base\\model.py:604: ConvergenceWarning: Maximum Likelihood optimization failed to converge. Check mle_retvals\n",
      "  warnings.warn(\"Maximum Likelihood optimization failed to \"\n",
      "\n"
     ]
    },
    {
     "name": "stdout",
     "output_type": "stream",
     "text": [
      " 87%|████████████████████████████████████████      | 223/256 [02:23<00:12,  2.65trial/s, best loss: 1.9337349277431595]"
     ]
    },
    {
     "name": "stderr",
     "output_type": "stream",
     "text": [
      "C:\\Users\\Serra\\anaconda3new\\lib\\site-packages\\statsmodels\\base\\model.py:604: ConvergenceWarning: Maximum Likelihood optimization failed to converge. Check mle_retvals\n",
      "  warnings.warn(\"Maximum Likelihood optimization failed to \"\n",
      "\n"
     ]
    },
    {
     "name": "stdout",
     "output_type": "stream",
     "text": [
      " 91%|█████████████████████████████████████████▋    | 232/256 [02:27<00:10,  2.29trial/s, best loss: 1.9337349277431595]"
     ]
    },
    {
     "name": "stderr",
     "output_type": "stream",
     "text": [
      "C:\\Users\\Serra\\anaconda3new\\lib\\site-packages\\statsmodels\\tsa\\statespace\\sarimax.py:966: UserWarning: Non-stationary starting autoregressive parameters found. Using zeros as starting parameters.\n",
      "  warn('Non-stationary starting autoregressive parameters'\n",
      "\n"
     ]
    },
    {
     "name": "stdout",
     "output_type": "stream",
     "text": [
      " 93%|██████████████████████████████████████████▉   | 239/256 [02:30<00:06,  2.45trial/s, best loss: 1.9337349277431595]"
     ]
    },
    {
     "name": "stderr",
     "output_type": "stream",
     "text": [
      "C:\\Users\\Serra\\anaconda3new\\lib\\site-packages\\statsmodels\\base\\model.py:604: ConvergenceWarning: Maximum Likelihood optimization failed to converge. Check mle_retvals\n",
      "  warnings.warn(\"Maximum Likelihood optimization failed to \"\n",
      "\n"
     ]
    },
    {
     "name": "stdout",
     "output_type": "stream",
     "text": [
      "100%|██████████████████████████████████████████████| 256/256 [02:34<00:00,  1.66trial/s, best loss: 1.9337349277431595]\n",
      "{'concentrate_scale': True, 'conf_alpha': 0.4081143078160746, 'enforce_invertibility': False, 'enforce_stationarity': True, 'hamilton_representation': True, 'measurement_error': True, 'mle_regression': True, 'order_0': 1, 'order_1': 0, 'order_2': 1, 'seasonal_0': 4, 'seasonal_1': 2, 'seasonal_2': 1, 'seasonal_3': 1, 'simple_differencing': False, 'time_varying_regression': False, 'trend': 't', 'use_exact_diffuse': False}\n"
     ]
    }
   ],
   "source": [
    "# Optimize SARIMA\n",
    "sarima_param_space = {\n",
    "    'order_0': hp.randint('order_0', 5),\n",
    "    'order_1': hp.randint('order_1', 5),\n",
    "    'order_2': hp.randint('order_2', 5),\n",
    "    'seasonal_0': hp.randint('seasonal_0', 5),\n",
    "    'seasonal_1': hp.randint('seasonal_1', 5),\n",
    "    'seasonal_2': hp.randint('seasonal_2', 5),\n",
    "    'seasonal_3': hp.randint('seasonal_3', 5),\n",
    "    'trend': hp.choice('trend', [None, 'n', 'c', 't', 'ct']),\n",
    "    'measurement_error': hp.choice('measurement_error', [False, True]),\n",
    "    'time_varying_regression': hp.choice('time_varying_regression', [False, True]),\n",
    "    'mle_regression': hp.choice('mle_regression', [False, True]),\n",
    "    'simple_differencing': hp.choice('simple_differencing', [False, True]),\n",
    "    'enforce_stationarity': hp.choice('enforce_stationarity', [False, True]),\n",
    "    'enforce_invertibility': hp.choice('enforce_invertibility', [False, True]),\n",
    "    'hamilton_representation': hp.choice('hamilton_representation', [False, True]),\n",
    "    'concentrate_scale': hp.choice('concentrate_scale', [False, True]),\n",
    "    'use_exact_diffuse': hp.choice('use_exact_diffuse', [False, True]),\n",
    "    'conf_alpha': hp.uniform('conf_alpha', 0.0, 1.0),\n",
    "}\n",
    "sarima_trials = Trials()\n",
    "best_sarima_params = fmin(create_test_params(SARIMAX), sarima_param_space, algo=tpe.suggest, max_evals=256,\n",
    "                          trials=sarima_trials, rstate=np.random.default_rng(RND_SEED))\n",
    "best_sarima_params = space_eval(sarima_param_space, best_sarima_params)\n",
    "sarima_loss = [trial['loss'] for trial in sarima_trials.results if trial['status'] == STATUS_OK]\n",
    "print(best_sarima_params)"
   ]
  },
  {
   "cell_type": "markdown",
   "id": "71847a2a",
   "metadata": {},
   "source": [
    "### 2.4 Neural Network with Long short-term memory (LSTM) layer"
   ]
  },
  {
   "cell_type": "code",
   "execution_count": 12,
   "id": "52aebfad",
   "metadata": {},
   "outputs": [
    {
     "name": "stdout",
     "output_type": "stream",
     "text": [
      "Trial 73 Complete [00h 00m 04s]\n",
      "loss: 1050379.75\n",
      "\n",
      "Best loss So Far: 3.1198883056640625\n",
      "Total elapsed time: 00h 05m 38s\n",
      "INFO:tensorflow:Oracle triggered exit\n"
     ]
    }
   ],
   "source": [
    "tuner = kt.Hyperband(create_model_builder('LSTM'), objective='loss', max_epochs=50, factor=3,\n",
    "                     directory='tf_logs', project_name='lstm_tuner', seed=RND_SEED)\n",
    "stop_early = tf.keras.callbacks.EarlyStopping(monitor='loss', patience=5, min_delta=0.0001, mode='min')\n",
    "tuner.search(train_timestamps, train, epochs=100, callbacks=[tensorboard_callback, stop_early])\n",
    "\n",
    "best_lstm_hps = tuner.get_best_hyperparameters(num_trials=1)[0]"
   ]
  },
  {
   "cell_type": "markdown",
   "id": "58da14a0",
   "metadata": {},
   "source": [
    "### 2.5 Neural Network with Gated recurrent unit (GRU) layer"
   ]
  },
  {
   "cell_type": "code",
   "execution_count": 13,
   "id": "5b8ee540",
   "metadata": {},
   "outputs": [
    {
     "name": "stdout",
     "output_type": "stream",
     "text": [
      "Trial 90 Complete [00h 00m 06s]\n",
      "loss: 1763630.625\n",
      "\n",
      "Best loss So Far: 3.107151985168457\n",
      "Total elapsed time: 00h 07m 52s\n",
      "INFO:tensorflow:Oracle triggered exit\n"
     ]
    }
   ],
   "source": [
    "tuner = kt.Hyperband(create_model_builder('GRU'), objective='loss', max_epochs=50, factor=3,\n",
    "                     directory='tf_logs', project_name='gru_tuner', seed=RND_SEED)\n",
    "stop_early = tf.keras.callbacks.EarlyStopping(monitor='loss', patience=5, min_delta=0.0001, mode='min')\n",
    "tuner.search(train_timestamps, train, epochs=100, callbacks=[tensorboard_callback, stop_early])\n",
    "\n",
    "best_gru_hps = tuner.get_best_hyperparameters(num_trials=1)[0]"
   ]
  },
  {
   "cell_type": "markdown",
   "id": "a9d43e57",
   "metadata": {},
   "source": [
    "### 2.6 Neural Network with Recurrent Neural Network (RNN) layer"
   ]
  },
  {
   "cell_type": "code",
   "execution_count": 14,
   "id": "cd1dab14",
   "metadata": {},
   "outputs": [
    {
     "name": "stdout",
     "output_type": "stream",
     "text": [
      "Trial 73 Complete [00h 00m 03s]\n",
      "loss: 11040462.0\n",
      "\n",
      "Best loss So Far: 3.1194145679473877\n",
      "Total elapsed time: 00h 03m 47s\n",
      "INFO:tensorflow:Oracle triggered exit\n"
     ]
    }
   ],
   "source": [
    "tuner = kt.Hyperband(create_model_builder('RNN'), objective='loss', max_epochs=50, factor=3,\n",
    "                     directory='tf_logs', project_name='rnn_tuner', seed=RND_SEED)\n",
    "stop_early = tf.keras.callbacks.EarlyStopping(monitor='loss', patience=5, min_delta=0.0001, mode='min')\n",
    "tuner.search(train_timestamps, train, epochs=100, callbacks=[tensorboard_callback, stop_early])\n",
    "\n",
    "best_rnn_hps = tuner.get_best_hyperparameters(num_trials=1)[0]"
   ]
  },
  {
   "cell_type": "markdown",
   "id": "ca07ab5f",
   "metadata": {},
   "source": [
    "### 2.7 Neural Network with mixed layers"
   ]
  },
  {
   "cell_type": "code",
   "execution_count": 15,
   "id": "e39ab5a0",
   "metadata": {},
   "outputs": [
    {
     "name": "stdout",
     "output_type": "stream",
     "text": [
      "Trial 72 Complete [00h 00m 00s]\n",
      "\n",
      "Best loss So Far: 3.110696315765381\n",
      "Total elapsed time: 00h 04m 03s\n",
      "INFO:tensorflow:Oracle triggered exit\n"
     ]
    }
   ],
   "source": [
    "tuner = kt.Hyperband(create_model_builder('mixed'), objective='loss', max_epochs=50, factor=3,\n",
    "                     directory='tf_logs', project_name='mixed_tuner', seed=RND_SEED)\n",
    "stop_early = tf.keras.callbacks.EarlyStopping(monitor='loss', patience=5, min_delta=0.0001, mode='min')\n",
    "tuner.search(train_timestamps, train, epochs=100, callbacks=[tensorboard_callback, stop_early])\n",
    "\n",
    "best_mixed_hps = tuner.get_best_hyperparameters(num_trials=1)[0]"
   ]
  },
  {
   "cell_type": "markdown",
   "id": "a74bdbf8",
   "metadata": {},
   "source": [
    "## 3. Visualization of tuned model predictions"
   ]
  },
  {
   "cell_type": "code",
   "execution_count": 16,
   "id": "778c969a",
   "metadata": {},
   "outputs": [
    {
     "name": "stderr",
     "output_type": "stream",
     "text": [
      "C:\\Users\\Serra\\anaconda3new\\lib\\site-packages\\statsmodels\\base\\model.py:604: ConvergenceWarning: Maximum Likelihood optimization failed to converge. Check mle_retvals\n",
      "  warnings.warn(\"Maximum Likelihood optimization failed to \"\n"
     ]
    },
    {
     "name": "stdout",
     "output_type": "stream",
     "text": [
      "ARMA RMSE: 1.935057847042902\n",
      "ARIMA RMSE: 2.000520504622128\n",
      "SARIMA RMSE: 1.9337349277431595\n"
     ]
    }
   ],
   "source": [
    "# Training best models on train data\n",
    "arma_rmse, arma_pred = create_test_params(SARIMAX, return_pred_values=True)(best_arma_params)\n",
    "print('ARMA RMSE:', arma_rmse)\n",
    "\n",
    "arima_rmse, arima_pred = create_test_params(ARIMA, return_pred_values=True)(best_arima_params)\n",
    "print('ARIMA RMSE:', arima_rmse)\n",
    "\n",
    "sarima_rmse, sarima_pred = create_test_params(SARIMAX, return_pred_values=True)(best_sarima_params)\n",
    "print('SARIMA RMSE:', sarima_rmse)"
   ]
  },
  {
   "cell_type": "code",
   "execution_count": 17,
   "id": "f88ea793",
   "metadata": {},
   "outputs": [
    {
     "name": "stdout",
     "output_type": "stream",
     "text": [
      "Model: \"sequential_1\"\n",
      "_________________________________________________________________\n",
      " Layer (type)                Output Shape              Param #   \n",
      "=================================================================\n",
      " lstm_1 (LSTM)               (None, 1, 240)            231360    \n",
      "                                                                 \n",
      " dense (Dense)               (None, 1, 1)              241       \n",
      "                                                                 \n",
      "=================================================================\n",
      "Total params: 231,601\n",
      "Trainable params: 231,601\n",
      "Non-trainable params: 0\n",
      "_________________________________________________________________\n",
      "Epoch 1/100\n",
      "34/34 [==============================] - 1s 9ms/step - loss: 41.6241 - log_cosh: 40.8092 - mean_absolute_error: 41.5024 - mean_squared_error: 1771.5310 - binary_crossentropy: -703.3198\n",
      "Epoch 2/100\n",
      "34/34 [==============================] - 0s 7ms/step - loss: 20.4004 - log_cosh: 19.4350 - mean_absolute_error: 20.1280 - mean_squared_error: 453.8957 - binary_crossentropy: -773.8644\n",
      "Epoch 3/100\n",
      "34/34 [==============================] - 0s 7ms/step - loss: 4.6314 - log_cosh: 3.2542 - mean_absolute_error: 3.8657 - mean_squared_error: 25.6115 - binary_crossentropy: -773.8644\n",
      "Epoch 4/100\n",
      "34/34 [==============================] - 0s 7ms/step - loss: 3.1398 - log_cosh: 1.8711 - mean_absolute_error: 2.4597 - mean_squared_error: 10.1364 - binary_crossentropy: -773.8644\n",
      "Epoch 5/100\n",
      "34/34 [==============================] - 0s 7ms/step - loss: 3.1409 - log_cosh: 1.8639 - mean_absolute_error: 2.4510 - mean_squared_error: 10.1033 - binary_crossentropy: -773.8645\n",
      "Epoch 6/100\n",
      "34/34 [==============================] - 0s 7ms/step - loss: 3.1384 - log_cosh: 1.8569 - mean_absolute_error: 2.4441 - mean_squared_error: 10.0569 - binary_crossentropy: -773.8645\n",
      "Epoch 7/100\n",
      "34/34 [==============================] - 0s 7ms/step - loss: 3.1316 - log_cosh: 1.8532 - mean_absolute_error: 2.4379 - mean_squared_error: 10.0533 - binary_crossentropy: -773.8644\n",
      "Epoch 8/100\n",
      "34/34 [==============================] - 0s 7ms/step - loss: 3.1452 - log_cosh: 1.8611 - mean_absolute_error: 2.4454 - mean_squared_error: 10.1034 - binary_crossentropy: -773.8644\n",
      "Epoch 9/100\n",
      "34/34 [==============================] - 0s 9ms/step - loss: 3.1271 - log_cosh: 1.8524 - mean_absolute_error: 2.4374 - mean_squared_error: 10.0411 - binary_crossentropy: -773.8644\n",
      "Epoch 10/100\n",
      "34/34 [==============================] - 0s 8ms/step - loss: 3.1338 - log_cosh: 1.8572 - mean_absolute_error: 2.4427 - mean_squared_error: 10.1046 - binary_crossentropy: -773.8646\n",
      "Epoch 11/100\n",
      "34/34 [==============================] - 0s 8ms/step - loss: 3.1337 - log_cosh: 1.8573 - mean_absolute_error: 2.4402 - mean_squared_error: 10.0778 - binary_crossentropy: -773.8645\n",
      "Epoch 12/100\n",
      "34/34 [==============================] - 0s 8ms/step - loss: 3.1469 - log_cosh: 1.8649 - mean_absolute_error: 2.4529 - mean_squared_error: 10.0959 - binary_crossentropy: -773.8644\n",
      "Epoch 13/100\n",
      "34/34 [==============================] - 0s 8ms/step - loss: 3.1432 - log_cosh: 1.8630 - mean_absolute_error: 2.4494 - mean_squared_error: 10.1110 - binary_crossentropy: -773.8646\n",
      "Epoch 14/100\n",
      "34/34 [==============================] - 0s 8ms/step - loss: 3.1251 - log_cosh: 1.8540 - mean_absolute_error: 2.4381 - mean_squared_error: 10.0872 - binary_crossentropy: -773.8644\n",
      "Epoch 15/100\n",
      "34/34 [==============================] - 0s 7ms/step - loss: 3.1387 - log_cosh: 1.8535 - mean_absolute_error: 2.4370 - mean_squared_error: 10.0465 - binary_crossentropy: -773.8644\n",
      "Epoch 16/100\n",
      "34/34 [==============================] - 0s 7ms/step - loss: 3.1457 - log_cosh: 1.8583 - mean_absolute_error: 2.4451 - mean_squared_error: 10.0954 - binary_crossentropy: -773.8645\n",
      "Epoch 17/100\n",
      "34/34 [==============================] - 0s 7ms/step - loss: 3.0992 - log_cosh: 1.8455 - mean_absolute_error: 2.4303 - mean_squared_error: 10.0127 - binary_crossentropy: -773.8644\n",
      "Epoch 18/100\n",
      "34/34 [==============================] - 0s 7ms/step - loss: 3.1461 - log_cosh: 1.8652 - mean_absolute_error: 2.4521 - mean_squared_error: 10.1065 - binary_crossentropy: -773.8645\n",
      "Epoch 19/100\n",
      "34/34 [==============================] - 0s 7ms/step - loss: 3.1335 - log_cosh: 1.8627 - mean_absolute_error: 2.4526 - mean_squared_error: 10.0387 - binary_crossentropy: -773.8644\n",
      "Epoch 20/100\n",
      "34/34 [==============================] - 0s 7ms/step - loss: 3.1751 - log_cosh: 1.8915 - mean_absolute_error: 2.4787 - mean_squared_error: 10.3116 - binary_crossentropy: -773.8645\n",
      "Epoch 21/100\n",
      "34/34 [==============================] - 0s 7ms/step - loss: 3.1274 - log_cosh: 1.8558 - mean_absolute_error: 2.4391 - mean_squared_error: 10.0745 - binary_crossentropy: -773.8644\n",
      "Epoch 22/100\n",
      "34/34 [==============================] - 0s 7ms/step - loss: 3.1443 - log_cosh: 1.8754 - mean_absolute_error: 2.4586 - mean_squared_error: 10.2102 - binary_crossentropy: -773.8645\n",
      "Epoch 23/100\n",
      "34/34 [==============================] - 0s 7ms/step - loss: 3.1547 - log_cosh: 1.8732 - mean_absolute_error: 2.4608 - mean_squared_error: 10.1990 - binary_crossentropy: -773.8646\n",
      "Epoch 24/100\n",
      "34/34 [==============================] - 0s 7ms/step - loss: 3.1448 - log_cosh: 1.8716 - mean_absolute_error: 2.4568 - mean_squared_error: 10.1745 - binary_crossentropy: -773.8644\n",
      "Epoch 25/100\n",
      "34/34 [==============================] - 0s 7ms/step - loss: 3.1165 - log_cosh: 1.8590 - mean_absolute_error: 2.4443 - mean_squared_error: 10.1047 - binary_crossentropy: -773.8645\n",
      "Epoch 26/100\n",
      "34/34 [==============================] - 0s 7ms/step - loss: 3.1232 - log_cosh: 1.8536 - mean_absolute_error: 2.4348 - mean_squared_error: 10.0593 - binary_crossentropy: -773.8644\n",
      "Epoch 27/100\n",
      "34/34 [==============================] - 0s 7ms/step - loss: 3.1488 - log_cosh: 1.8632 - mean_absolute_error: 2.4486 - mean_squared_error: 10.1018 - binary_crossentropy: -773.8644\n",
      "Epoch 28/100\n",
      "34/34 [==============================] - 0s 7ms/step - loss: 3.1407 - log_cosh: 1.8514 - mean_absolute_error: 2.4365 - mean_squared_error: 10.0330 - binary_crossentropy: -773.8644\n",
      "Epoch 29/100\n",
      "34/34 [==============================] - 0s 7ms/step - loss: 3.1352 - log_cosh: 1.8591 - mean_absolute_error: 2.4460 - mean_squared_error: 10.0867 - binary_crossentropy: -773.8644\n",
      "Epoch 30/100\n",
      "34/34 [==============================] - 0s 7ms/step - loss: 3.1297 - log_cosh: 1.8647 - mean_absolute_error: 2.4524 - mean_squared_error: 10.1397 - binary_crossentropy: -773.8644\n",
      "Epoch 31/100\n",
      "34/34 [==============================] - 0s 7ms/step - loss: 3.1367 - log_cosh: 1.8631 - mean_absolute_error: 2.4479 - mean_squared_error: 10.0625 - binary_crossentropy: -773.8644\n",
      "Epoch 32/100\n",
      "34/34 [==============================] - 0s 7ms/step - loss: 3.1642 - log_cosh: 1.8760 - mean_absolute_error: 2.4635 - mean_squared_error: 10.1798 - binary_crossentropy: -773.8644\n",
      "Epoch 33/100\n",
      "34/34 [==============================] - 0s 7ms/step - loss: 3.1607 - log_cosh: 1.8780 - mean_absolute_error: 2.4626 - mean_squared_error: 10.1916 - binary_crossentropy: -773.8646\n",
      "Epoch 34/100\n",
      "34/34 [==============================] - 0s 7ms/step - loss: 3.1735 - log_cosh: 1.8808 - mean_absolute_error: 2.4648 - mean_squared_error: 10.2618 - binary_crossentropy: -773.8646\n",
      "Epoch 35/100\n",
      "34/34 [==============================] - 0s 7ms/step - loss: 3.1369 - log_cosh: 1.8549 - mean_absolute_error: 2.4379 - mean_squared_error: 10.0815 - binary_crossentropy: -773.8645\n",
      "Epoch 36/100\n",
      "34/34 [==============================] - 0s 8ms/step - loss: 3.1269 - log_cosh: 1.8551 - mean_absolute_error: 2.4384 - mean_squared_error: 10.0903 - binary_crossentropy: -773.8644\n",
      "Epoch 37/100\n",
      "34/34 [==============================] - 0s 8ms/step - loss: 3.1411 - log_cosh: 1.8580 - mean_absolute_error: 2.4441 - mean_squared_error: 10.0958 - binary_crossentropy: -773.8644\n",
      "Epoch 38/100\n",
      "34/34 [==============================] - 0s 8ms/step - loss: 3.1478 - log_cosh: 1.8698 - mean_absolute_error: 2.4586 - mean_squared_error: 10.1690 - binary_crossentropy: -773.8644\n",
      "Epoch 39/100\n"
     ]
    },
    {
     "name": "stdout",
     "output_type": "stream",
     "text": [
      "34/34 [==============================] - 0s 8ms/step - loss: 3.1386 - log_cosh: 1.8537 - mean_absolute_error: 2.4363 - mean_squared_error: 10.0845 - binary_crossentropy: -773.8645\n",
      "Epoch 40/100\n",
      "34/34 [==============================] - 0s 7ms/step - loss: 3.1474 - log_cosh: 1.8718 - mean_absolute_error: 2.4542 - mean_squared_error: 10.2017 - binary_crossentropy: -773.8644\n",
      "Epoch 41/100\n",
      "34/34 [==============================] - 0s 7ms/step - loss: 3.1484 - log_cosh: 1.8605 - mean_absolute_error: 2.4448 - mean_squared_error: 10.0584 - binary_crossentropy: -773.8646\n",
      "Epoch 42/100\n",
      "34/34 [==============================] - 0s 7ms/step - loss: 3.1540 - log_cosh: 1.8611 - mean_absolute_error: 2.4461 - mean_squared_error: 10.1343 - binary_crossentropy: -773.8644\n",
      "Epoch 43/100\n",
      "34/34 [==============================] - 0s 7ms/step - loss: 3.1395 - log_cosh: 1.8612 - mean_absolute_error: 2.4472 - mean_squared_error: 10.1056 - binary_crossentropy: -773.8645\n",
      "Epoch 44/100\n",
      "34/34 [==============================] - 0s 7ms/step - loss: 3.1951 - log_cosh: 1.8910 - mean_absolute_error: 2.4730 - mean_squared_error: 10.4373 - binary_crossentropy: -773.8644\n",
      "Epoch 45/100\n",
      "34/34 [==============================] - 0s 7ms/step - loss: 3.1532 - log_cosh: 1.8663 - mean_absolute_error: 2.4479 - mean_squared_error: 10.1926 - binary_crossentropy: -773.8645\n",
      "Epoch 46/100\n",
      "34/34 [==============================] - 0s 7ms/step - loss: 3.1606 - log_cosh: 1.8837 - mean_absolute_error: 2.4747 - mean_squared_error: 10.1707 - binary_crossentropy: -773.8644\n",
      "Epoch 47/100\n",
      "34/34 [==============================] - 0s 7ms/step - loss: 3.1728 - log_cosh: 1.8876 - mean_absolute_error: 2.4673 - mean_squared_error: 10.3142 - binary_crossentropy: -773.8644\n",
      "Epoch 48/100\n",
      "34/34 [==============================] - 0s 7ms/step - loss: 3.1260 - log_cosh: 1.8585 - mean_absolute_error: 2.4427 - mean_squared_error: 10.0716 - binary_crossentropy: -773.8644\n",
      "Epoch 49/100\n",
      "34/34 [==============================] - 0s 7ms/step - loss: 3.1473 - log_cosh: 1.8832 - mean_absolute_error: 2.4696 - mean_squared_error: 10.3238 - binary_crossentropy: -773.8644\n",
      "Epoch 50/100\n",
      "34/34 [==============================] - 0s 7ms/step - loss: 3.1741 - log_cosh: 1.8798 - mean_absolute_error: 2.4664 - mean_squared_error: 10.3099 - binary_crossentropy: -773.8646\n",
      "Epoch 51/100\n",
      "34/34 [==============================] - 0s 7ms/step - loss: 3.1311 - log_cosh: 1.8590 - mean_absolute_error: 2.4420 - mean_squared_error: 10.0842 - binary_crossentropy: -773.8644\n",
      "Epoch 52/100\n",
      "34/34 [==============================] - 0s 7ms/step - loss: 3.1330 - log_cosh: 1.8634 - mean_absolute_error: 2.4474 - mean_squared_error: 10.0923 - binary_crossentropy: -773.8646\n",
      "Epoch 53/100\n",
      "34/34 [==============================] - 0s 7ms/step - loss: 3.1344 - log_cosh: 1.8617 - mean_absolute_error: 2.4463 - mean_squared_error: 10.1053 - binary_crossentropy: -773.8645\n",
      "Epoch 54/100\n",
      "34/34 [==============================] - 0s 7ms/step - loss: 3.1489 - log_cosh: 1.8641 - mean_absolute_error: 2.4481 - mean_squared_error: 10.1270 - binary_crossentropy: -773.8645\n",
      "Epoch 55/100\n",
      "34/34 [==============================] - 0s 7ms/step - loss: 3.1479 - log_cosh: 1.8676 - mean_absolute_error: 2.4524 - mean_squared_error: 10.1430 - binary_crossentropy: -773.8645\n",
      "Epoch 56/100\n",
      "34/34 [==============================] - 0s 7ms/step - loss: 3.1485 - log_cosh: 1.8578 - mean_absolute_error: 2.4385 - mean_squared_error: 10.1267 - binary_crossentropy: -773.8644\n",
      "Epoch 57/100\n",
      "34/34 [==============================] - 0s 7ms/step - loss: 3.1281 - log_cosh: 1.8592 - mean_absolute_error: 2.4440 - mean_squared_error: 10.0801 - binary_crossentropy: -773.8644\n",
      "Epoch 58/100\n",
      "34/34 [==============================] - 0s 7ms/step - loss: 3.1609 - log_cosh: 1.8707 - mean_absolute_error: 2.4560 - mean_squared_error: 10.2577 - binary_crossentropy: -773.8645\n",
      "Epoch 59/100\n",
      "34/34 [==============================] - 0s 7ms/step - loss: 3.1895 - log_cosh: 1.9100 - mean_absolute_error: 2.5006 - mean_squared_error: 10.4948 - binary_crossentropy: -773.8644\n",
      "Epoch 60/100\n",
      "34/34 [==============================] - 0s 7ms/step - loss: 3.1243 - log_cosh: 1.8581 - mean_absolute_error: 2.4424 - mean_squared_error: 10.1042 - binary_crossentropy: -773.8644\n",
      "Epoch 61/100\n",
      "34/34 [==============================] - 0s 7ms/step - loss: 3.1526 - log_cosh: 1.8756 - mean_absolute_error: 2.4624 - mean_squared_error: 10.2273 - binary_crossentropy: -773.8644\n",
      "Epoch 62/100\n",
      "34/34 [==============================] - 0s 7ms/step - loss: 3.1317 - log_cosh: 1.8792 - mean_absolute_error: 2.4675 - mean_squared_error: 10.1520 - binary_crossentropy: -773.8644\n",
      "Epoch 63/100\n",
      "34/34 [==============================] - 0s 8ms/step - loss: 3.1261 - log_cosh: 1.8617 - mean_absolute_error: 2.4491 - mean_squared_error: 10.0855 - binary_crossentropy: -773.8646\n",
      "Epoch 64/100\n",
      "34/34 [==============================] - 0s 8ms/step - loss: 3.1387 - log_cosh: 1.8689 - mean_absolute_error: 2.4574 - mean_squared_error: 10.0615 - binary_crossentropy: -773.8644\n",
      "Epoch 65/100\n",
      "34/34 [==============================] - 0s 8ms/step - loss: 3.1453 - log_cosh: 1.8598 - mean_absolute_error: 2.4470 - mean_squared_error: 10.1186 - binary_crossentropy: -773.8644\n",
      "Epoch 66/100\n",
      "34/34 [==============================] - 0s 8ms/step - loss: 3.1470 - log_cosh: 1.8621 - mean_absolute_error: 2.4501 - mean_squared_error: 10.1208 - binary_crossentropy: -773.8646\n",
      "Epoch 67/100\n",
      "34/34 [==============================] - 0s 7ms/step - loss: 3.1590 - log_cosh: 1.8645 - mean_absolute_error: 2.4479 - mean_squared_error: 10.1445 - binary_crossentropy: -773.8645\n",
      "Epoch 68/100\n",
      "34/34 [==============================] - 0s 7ms/step - loss: 3.1387 - log_cosh: 1.8546 - mean_absolute_error: 2.4374 - mean_squared_error: 10.0576 - binary_crossentropy: -773.8645\n",
      "Epoch 69/100\n",
      "34/34 [==============================] - 0s 7ms/step - loss: 3.1518 - log_cosh: 1.8684 - mean_absolute_error: 2.4482 - mean_squared_error: 10.2243 - binary_crossentropy: -773.8645\n",
      "Epoch 70/100\n",
      "34/34 [==============================] - 0s 7ms/step - loss: 3.1289 - log_cosh: 1.8639 - mean_absolute_error: 2.4476 - mean_squared_error: 10.1230 - binary_crossentropy: -773.8644\n",
      "Epoch 71/100\n",
      "34/34 [==============================] - 0s 7ms/step - loss: 3.1355 - log_cosh: 1.8553 - mean_absolute_error: 2.4403 - mean_squared_error: 10.0463 - binary_crossentropy: -773.8644\n",
      "Epoch 72/100\n",
      "34/34 [==============================] - 0s 7ms/step - loss: 3.1406 - log_cosh: 1.8690 - mean_absolute_error: 2.4540 - mean_squared_error: 10.1651 - binary_crossentropy: -773.8644\n",
      "Epoch 73/100\n",
      "34/34 [==============================] - 0s 7ms/step - loss: 3.1579 - log_cosh: 1.8746 - mean_absolute_error: 2.4556 - mean_squared_error: 10.2876 - binary_crossentropy: -773.8644\n",
      "Epoch 74/100\n",
      "34/34 [==============================] - 0s 7ms/step - loss: 3.1562 - log_cosh: 1.8724 - mean_absolute_error: 2.4570 - mean_squared_error: 10.2116 - binary_crossentropy: -773.8644\n",
      "Epoch 75/100\n",
      "34/34 [==============================] - 0s 7ms/step - loss: 3.1729 - log_cosh: 1.8908 - mean_absolute_error: 2.4753 - mean_squared_error: 10.3237 - binary_crossentropy: -773.8644\n",
      "Epoch 76/100\n",
      "34/34 [==============================] - 0s 7ms/step - loss: 3.1495 - log_cosh: 1.8728 - mean_absolute_error: 2.4599 - mean_squared_error: 10.1402 - binary_crossentropy: -773.8645\n",
      "Epoch 77/100\n",
      "34/34 [==============================] - 0s 7ms/step - loss: 3.1536 - log_cosh: 1.8834 - mean_absolute_error: 2.4721 - mean_squared_error: 10.2520 - binary_crossentropy: -773.8645\n",
      "Epoch 78/100\n",
      "34/34 [==============================] - 0s 7ms/step - loss: 3.1335 - log_cosh: 1.8699 - mean_absolute_error: 2.4567 - mean_squared_error: 10.0942 - binary_crossentropy: -773.8644\n",
      "Epoch 79/100\n",
      "34/34 [==============================] - 0s 7ms/step - loss: 3.1531 - log_cosh: 1.8605 - mean_absolute_error: 2.4477 - mean_squared_error: 10.0909 - binary_crossentropy: -773.8645\n",
      "Epoch 80/100\n",
      "34/34 [==============================] - 0s 7ms/step - loss: 3.1313 - log_cosh: 1.8458 - mean_absolute_error: 2.4279 - mean_squared_error: 10.0500 - binary_crossentropy: -773.8644\n",
      "Epoch 81/100\n"
     ]
    },
    {
     "name": "stdout",
     "output_type": "stream",
     "text": [
      "34/34 [==============================] - 0s 7ms/step - loss: 3.1407 - log_cosh: 1.8743 - mean_absolute_error: 2.4587 - mean_squared_error: 10.2014 - binary_crossentropy: -773.8645\n",
      "Epoch 82/100\n",
      "34/34 [==============================] - 0s 7ms/step - loss: 3.1540 - log_cosh: 1.8662 - mean_absolute_error: 2.4490 - mean_squared_error: 10.1675 - binary_crossentropy: -773.8645\n",
      "Epoch 83/100\n",
      "34/34 [==============================] - 0s 7ms/step - loss: 3.1440 - log_cosh: 1.8696 - mean_absolute_error: 2.4548 - mean_squared_error: 10.1557 - binary_crossentropy: -773.8644\n",
      "Epoch 84/100\n",
      "34/34 [==============================] - 0s 7ms/step - loss: 3.1633 - log_cosh: 1.8907 - mean_absolute_error: 2.4783 - mean_squared_error: 10.2515 - binary_crossentropy: -773.8644\n",
      "Epoch 85/100\n",
      "34/34 [==============================] - 0s 7ms/step - loss: 3.1347 - log_cosh: 1.8529 - mean_absolute_error: 2.4303 - mean_squared_error: 10.0801 - binary_crossentropy: -773.8644\n",
      "Epoch 86/100\n",
      "34/34 [==============================] - 0s 7ms/step - loss: 3.1391 - log_cosh: 1.8562 - mean_absolute_error: 2.4386 - mean_squared_error: 10.0650 - binary_crossentropy: -773.8645\n",
      "Epoch 87/100\n",
      "34/34 [==============================] - 0s 7ms/step - loss: 3.1630 - log_cosh: 1.8863 - mean_absolute_error: 2.4762 - mean_squared_error: 10.2449 - binary_crossentropy: -773.8645\n",
      "Epoch 88/100\n",
      "34/34 [==============================] - 0s 7ms/step - loss: 3.1622 - log_cosh: 1.8737 - mean_absolute_error: 2.4634 - mean_squared_error: 10.1850 - binary_crossentropy: -773.8646\n",
      "Epoch 89/100\n",
      "34/34 [==============================] - 0s 7ms/step - loss: 3.1243 - log_cosh: 1.8603 - mean_absolute_error: 2.4446 - mean_squared_error: 10.0665 - binary_crossentropy: -773.8644\n",
      "Epoch 90/100\n",
      "34/34 [==============================] - 0s 8ms/step - loss: 3.1516 - log_cosh: 1.8678 - mean_absolute_error: 2.4582 - mean_squared_error: 10.1422 - binary_crossentropy: -773.8644\n",
      "Epoch 91/100\n",
      "34/34 [==============================] - 0s 8ms/step - loss: 3.1366 - log_cosh: 1.8593 - mean_absolute_error: 2.4431 - mean_squared_error: 10.0851 - binary_crossentropy: -773.8645\n",
      "Epoch 92/100\n",
      "34/34 [==============================] - 0s 8ms/step - loss: 3.1288 - log_cosh: 1.8584 - mean_absolute_error: 2.4446 - mean_squared_error: 10.0758 - binary_crossentropy: -773.8645\n",
      "Epoch 93/100\n",
      "34/34 [==============================] - 0s 8ms/step - loss: 3.1183 - log_cosh: 1.8658 - mean_absolute_error: 2.4512 - mean_squared_error: 10.0784 - binary_crossentropy: -773.8646\n",
      "Epoch 94/100\n",
      "34/34 [==============================] - 0s 8ms/step - loss: 3.1599 - log_cosh: 1.8652 - mean_absolute_error: 2.4488 - mean_squared_error: 10.1714 - binary_crossentropy: -773.8644\n",
      "Epoch 95/100\n",
      "34/34 [==============================] - 0s 7ms/step - loss: 3.1344 - log_cosh: 1.8666 - mean_absolute_error: 2.4519 - mean_squared_error: 10.1525 - binary_crossentropy: -773.8645\n",
      "Epoch 96/100\n",
      "34/34 [==============================] - 0s 7ms/step - loss: 3.1425 - log_cosh: 1.8695 - mean_absolute_error: 2.4557 - mean_squared_error: 10.1382 - binary_crossentropy: -773.8645\n",
      "Epoch 97/100\n",
      "34/34 [==============================] - 0s 6ms/step - loss: 3.1549 - log_cosh: 1.8818 - mean_absolute_error: 2.4705 - mean_squared_error: 10.2482 - binary_crossentropy: -773.8644\n",
      "Epoch 98/100\n",
      "34/34 [==============================] - 0s 7ms/step - loss: 3.1522 - log_cosh: 1.8688 - mean_absolute_error: 2.4554 - mean_squared_error: 10.1640 - binary_crossentropy: -773.8644\n",
      "Epoch 99/100\n",
      "34/34 [==============================] - 0s 7ms/step - loss: 3.1260 - log_cosh: 1.8610 - mean_absolute_error: 2.4476 - mean_squared_error: 10.0532 - binary_crossentropy: -773.8644\n",
      "Epoch 100/100\n",
      "34/34 [==============================] - 0s 7ms/step - loss: 3.1278 - log_cosh: 1.8627 - mean_absolute_error: 2.4469 - mean_squared_error: 10.1093 - binary_crossentropy: -773.8644\n",
      "4/4 [==============================] - 0s 2ms/step\n",
      "LSTM RMSE: 4.489790559989157\n"
     ]
    }
   ],
   "source": [
    "lstm_model = create_model_builder('LSTM')(best_lstm_hps)\n",
    "lstm_model.summary()\n",
    "early_stop = keras.callbacks.EarlyStopping(monitor='loss', patience=5, min_delta=0.0001, mode='min')\n",
    "lstm_model.fit(train_timestamps, train, epochs=100, callbacks=[tensorboard_callback])\n",
    "\n",
    "lstm_pred = lstm_model.predict(test_timestamps).flatten()\n",
    "lstm_rmse = np.sqrt(mean_squared_error(test.values, lstm_pred))\n",
    "print('LSTM RMSE:', lstm_rmse)"
   ]
  },
  {
   "cell_type": "code",
   "execution_count": 18,
   "id": "a2e47781",
   "metadata": {},
   "outputs": [
    {
     "name": "stdout",
     "output_type": "stream",
     "text": [
      "Model: \"sequential_2\"\n",
      "_________________________________________________________________\n",
      " Layer (type)                Output Shape              Param #   \n",
      "=================================================================\n",
      " gru (GRU)                   (None, 1, 224)            152544    \n",
      "                                                                 \n",
      " gru_1 (GRU)                 (None, 1, 176)            212256    \n",
      "                                                                 \n",
      " gru_2 (GRU)                 (None, 1, 32)             20160     \n",
      "                                                                 \n",
      " dense_1 (Dense)             (None, 1, 1)              33        \n",
      "                                                                 \n",
      "=================================================================\n",
      "Total params: 384,993\n",
      "Trainable params: 384,993\n",
      "Non-trainable params: 0\n",
      "_________________________________________________________________\n",
      "Epoch 1/100\n",
      "34/34 [==============================] - 5s 13ms/step - loss: 48.1908 - log_cosh: 47.3570 - mean_absolute_error: 48.0501 - mean_squared_error: 2325.8843 - binary_crossentropy: -548.6751\n",
      "Epoch 2/100\n",
      "34/34 [==============================] - 0s 12ms/step - loss: 43.6872 - log_cosh: 42.8736 - mean_absolute_error: 43.5667 - mean_squared_error: 1909.7472 - binary_crossentropy: -773.8644\n",
      "Epoch 3/100\n",
      "34/34 [==============================] - 0s 12ms/step - loss: 41.6906 - log_cosh: 40.8805 - mean_absolute_error: 41.5737 - mean_squared_error: 1738.5990 - binary_crossentropy: -773.8644\n",
      "Epoch 4/100\n",
      "34/34 [==============================] - 0s 12ms/step - loss: 40.3385 - log_cosh: 39.5246 - mean_absolute_error: 40.2178 - mean_squared_error: 1627.6692 - binary_crossentropy: -773.8644\n",
      "Epoch 5/100\n",
      "34/34 [==============================] - 0s 12ms/step - loss: 39.0730 - log_cosh: 38.2552 - mean_absolute_error: 38.9483 - mean_squared_error: 1527.0905 - binary_crossentropy: -773.8645\n",
      "Epoch 6/100\n",
      "34/34 [==============================] - 0s 12ms/step - loss: 37.8465 - log_cosh: 37.0248 - mean_absolute_error: 37.7179 - mean_squared_error: 1432.8124 - binary_crossentropy: -773.8644\n",
      "Epoch 7/100\n",
      "34/34 [==============================] - 0s 13ms/step - loss: 36.6435 - log_cosh: 35.8172 - mean_absolute_error: 36.5103 - mean_squared_error: 1343.0999 - binary_crossentropy: -773.8647\n",
      "Epoch 8/100\n",
      "34/34 [==============================] - 0s 12ms/step - loss: 35.4548 - log_cosh: 34.6247 - mean_absolute_error: 35.3179 - mean_squared_error: 1257.4332 - binary_crossentropy: -773.8644\n",
      "Epoch 9/100\n",
      "34/34 [==============================] - 0s 12ms/step - loss: 34.2805 - log_cosh: 33.4437 - mean_absolute_error: 34.1368 - mean_squared_error: 1175.4969 - binary_crossentropy: -773.8645\n",
      "Epoch 10/100\n",
      "34/34 [==============================] - 0s 12ms/step - loss: 33.1121 - log_cosh: 32.2709 - mean_absolute_error: 32.9640 - mean_squared_error: 1096.7122 - binary_crossentropy: -773.8644\n",
      "Epoch 11/100\n",
      "34/34 [==============================] - 0s 14ms/step - loss: 31.9501 - log_cosh: 31.1047 - mean_absolute_error: 31.7979 - mean_squared_error: 1021.2043 - binary_crossentropy: -773.8645\n",
      "Epoch 12/100\n",
      "34/34 [==============================] - 0s 14ms/step - loss: 30.7953 - log_cosh: 29.9442 - mean_absolute_error: 30.6373 - mean_squared_error: 948.8138 - binary_crossentropy: -773.8644\n",
      "Epoch 13/100\n",
      "34/34 [==============================] - 0s 13ms/step - loss: 29.6455 - log_cosh: 28.7880 - mean_absolute_error: 29.4811 - mean_squared_error: 879.1461 - binary_crossentropy: -773.8644\n",
      "Epoch 14/100\n",
      "34/34 [==============================] - 0s 12ms/step - loss: 28.4984 - log_cosh: 27.6354 - mean_absolute_error: 28.3286 - mean_squared_error: 812.6364 - binary_crossentropy: -773.8644\n",
      "Epoch 15/100\n",
      "34/34 [==============================] - 0s 12ms/step - loss: 27.3574 - log_cosh: 26.4866 - mean_absolute_error: 27.1797 - mean_squared_error: 748.7920 - binary_crossentropy: -773.8645\n",
      "Epoch 16/100\n",
      "34/34 [==============================] - 0s 12ms/step - loss: 26.2191 - log_cosh: 25.3402 - mean_absolute_error: 26.0333 - mean_squared_error: 687.8357 - binary_crossentropy: -773.8644\n",
      "Epoch 17/100\n",
      "34/34 [==============================] - 0s 12ms/step - loss: 25.0845 - log_cosh: 24.1965 - mean_absolute_error: 24.8896 - mean_squared_error: 629.6723 - binary_crossentropy: -773.8644\n",
      "Epoch 18/100\n",
      "34/34 [==============================] - 0s 12ms/step - loss: 23.9488 - log_cosh: 23.0553 - mean_absolute_error: 23.7485 - mean_squared_error: 574.2136 - binary_crossentropy: -773.8645\n",
      "Epoch 19/100\n",
      "34/34 [==============================] - 0s 12ms/step - loss: 22.8231 - log_cosh: 21.9162 - mean_absolute_error: 22.6094 - mean_squared_error: 521.3886 - binary_crossentropy: -773.8646\n",
      "Epoch 20/100\n",
      "34/34 [==============================] - 0s 12ms/step - loss: 21.6980 - log_cosh: 20.7796 - mean_absolute_error: 21.4728 - mean_squared_error: 471.1845 - binary_crossentropy: -773.8644\n",
      "Epoch 21/100\n",
      "34/34 [==============================] - 0s 12ms/step - loss: 20.5756 - log_cosh: 19.6456 - mean_absolute_error: 20.3387 - mean_squared_error: 423.7351 - binary_crossentropy: -773.8645\n",
      "Epoch 22/100\n",
      "34/34 [==============================] - 0s 12ms/step - loss: 19.4562 - log_cosh: 18.5127 - mean_absolute_error: 19.2059 - mean_squared_error: 378.9256 - binary_crossentropy: -773.8646\n",
      "Epoch 23/100\n",
      "34/34 [==============================] - 0s 13ms/step - loss: 18.3389 - log_cosh: 17.3827 - mean_absolute_error: 18.0758 - mean_squared_error: 336.8745 - binary_crossentropy: -773.8644\n",
      "Epoch 24/100\n",
      "34/34 [==============================] - 0s 12ms/step - loss: 17.2320 - log_cosh: 16.2548 - mean_absolute_error: 16.9479 - mean_squared_error: 297.4423 - binary_crossentropy: -773.8644\n",
      "Epoch 25/100\n",
      "34/34 [==============================] - 0s 13ms/step - loss: 16.1235 - log_cosh: 15.1294 - mean_absolute_error: 15.8225 - mean_squared_error: 260.5081 - binary_crossentropy: -773.8645\n",
      "Epoch 26/100\n",
      "34/34 [==============================] - 0s 14ms/step - loss: 15.0246 - log_cosh: 14.0066 - mean_absolute_error: 14.6998 - mean_squared_error: 226.0654 - binary_crossentropy: -773.8644\n",
      "Epoch 27/100\n",
      "34/34 [==============================] - 0s 14ms/step - loss: 13.9334 - log_cosh: 12.8882 - mean_absolute_error: 13.5813 - mean_squared_error: 194.5235 - binary_crossentropy: -773.8644\n",
      "Epoch 28/100\n",
      "34/34 [==============================] - 0s 12ms/step - loss: 12.8519 - log_cosh: 11.7734 - mean_absolute_error: 12.4665 - mean_squared_error: 165.4858 - binary_crossentropy: -773.8644\n",
      "Epoch 29/100\n",
      "34/34 [==============================] - 0s 12ms/step - loss: 11.7802 - log_cosh: 10.6641 - mean_absolute_error: 11.3565 - mean_squared_error: 139.0452 - binary_crossentropy: -773.8644\n",
      "Epoch 30/100\n",
      "34/34 [==============================] - 0s 12ms/step - loss: 10.7157 - log_cosh: 9.5638 - mean_absolute_error: 10.2550 - mean_squared_error: 115.1342 - binary_crossentropy: -773.8646\n",
      "Epoch 31/100\n",
      "34/34 [==============================] - 0s 12ms/step - loss: 9.6693 - log_cosh: 8.4733 - mean_absolute_error: 9.1646 - mean_squared_error: 93.8967 - binary_crossentropy: -773.8645\n",
      "Epoch 32/100\n",
      "34/34 [==============================] - 0s 12ms/step - loss: 8.6587 - log_cosh: 7.4030 - mean_absolute_error: 8.0906 - mean_squared_error: 75.1954 - binary_crossentropy: -773.8644\n",
      "Epoch 33/100\n",
      "34/34 [==============================] - 0s 12ms/step - loss: 7.6622 - log_cosh: 6.3662 - mean_absolute_error: 7.0475 - mean_squared_error: 59.1687 - binary_crossentropy: -773.8646\n",
      "Epoch 34/100\n",
      "34/34 [==============================] - 0s 12ms/step - loss: 6.7222 - log_cosh: 5.3813 - mean_absolute_error: 6.0551 - mean_squared_error: 45.5381 - binary_crossentropy: -773.8645\n",
      "Epoch 35/100\n",
      "34/34 [==============================] - 0s 12ms/step - loss: 5.8418 - log_cosh: 4.4795 - mean_absolute_error: 5.1469 - mean_squared_error: 34.5220 - binary_crossentropy: -773.8646\n",
      "Epoch 36/100\n",
      "34/34 [==============================] - 0s 12ms/step - loss: 5.0424 - log_cosh: 3.6768 - mean_absolute_error: 4.3332 - mean_squared_error: 25.8474 - binary_crossentropy: -773.8644\n",
      "Epoch 37/100\n"
     ]
    },
    {
     "name": "stdout",
     "output_type": "stream",
     "text": [
      "34/34 [==============================] - 0s 12ms/step - loss: 4.3707 - log_cosh: 3.0184 - mean_absolute_error: 3.6578 - mean_squared_error: 19.4940 - binary_crossentropy: -773.8645\n",
      "Epoch 38/100\n",
      "34/34 [==============================] - 0s 12ms/step - loss: 3.8534 - log_cosh: 2.5185 - mean_absolute_error: 3.1312 - mean_squared_error: 15.1799 - binary_crossentropy: -773.8644\n",
      "Epoch 39/100\n",
      "34/34 [==============================] - 0s 12ms/step - loss: 3.5186 - log_cosh: 2.1906 - mean_absolute_error: 2.7904 - mean_squared_error: 12.5958 - binary_crossentropy: -773.8645\n",
      "Epoch 40/100\n",
      "34/34 [==============================] - 0s 13ms/step - loss: 3.2945 - log_cosh: 2.0078 - mean_absolute_error: 2.5910 - mean_squared_error: 11.1835 - binary_crossentropy: -773.8645\n",
      "Epoch 41/100\n",
      "34/34 [==============================] - 0s 14ms/step - loss: 3.1926 - log_cosh: 1.9203 - mean_absolute_error: 2.5043 - mean_squared_error: 10.5136 - binary_crossentropy: -773.8646\n",
      "Epoch 42/100\n",
      "34/34 [==============================] - 0s 14ms/step - loss: 3.1432 - log_cosh: 1.8776 - mean_absolute_error: 2.4607 - mean_squared_error: 10.2112 - binary_crossentropy: -773.8645\n",
      "Epoch 43/100\n",
      "34/34 [==============================] - 0s 12ms/step - loss: 3.1463 - log_cosh: 1.8594 - mean_absolute_error: 2.4433 - mean_squared_error: 10.0833 - binary_crossentropy: -773.8644\n",
      "Epoch 44/100\n",
      "34/34 [==============================] - 0s 12ms/step - loss: 3.1302 - log_cosh: 1.8536 - mean_absolute_error: 2.4379 - mean_squared_error: 10.0355 - binary_crossentropy: -773.8644\n",
      "Epoch 45/100\n",
      "34/34 [==============================] - 0s 12ms/step - loss: 3.1255 - log_cosh: 1.8507 - mean_absolute_error: 2.4358 - mean_squared_error: 10.0177 - binary_crossentropy: -773.8645\n",
      "Epoch 46/100\n",
      "34/34 [==============================] - 0s 12ms/step - loss: 3.1199 - log_cosh: 1.8502 - mean_absolute_error: 2.4352 - mean_squared_error: 10.0131 - binary_crossentropy: -773.8644\n",
      "Epoch 47/100\n",
      "34/34 [==============================] - 0s 12ms/step - loss: 3.1247 - log_cosh: 1.8494 - mean_absolute_error: 2.4344 - mean_squared_error: 10.0087 - binary_crossentropy: -773.8645\n",
      "Epoch 48/100\n",
      "34/34 [==============================] - 0s 12ms/step - loss: 3.1322 - log_cosh: 1.8493 - mean_absolute_error: 2.4342 - mean_squared_error: 10.0087 - binary_crossentropy: -773.8644\n",
      "Epoch 49/100\n",
      "34/34 [==============================] - 0s 12ms/step - loss: 3.1089 - log_cosh: 1.8492 - mean_absolute_error: 2.4341 - mean_squared_error: 10.0085 - binary_crossentropy: -773.8645\n",
      "Epoch 50/100\n",
      "34/34 [==============================] - 0s 12ms/step - loss: 3.1204 - log_cosh: 1.8491 - mean_absolute_error: 2.4342 - mean_squared_error: 10.0086 - binary_crossentropy: -773.8644\n",
      "Epoch 51/100\n",
      "34/34 [==============================] - 0s 12ms/step - loss: 3.1274 - log_cosh: 1.8492 - mean_absolute_error: 2.4342 - mean_squared_error: 10.0086 - binary_crossentropy: -773.8646\n",
      "Epoch 52/100\n",
      "34/34 [==============================] - 0s 13ms/step - loss: 3.1271 - log_cosh: 1.8492 - mean_absolute_error: 2.4343 - mean_squared_error: 10.0103 - binary_crossentropy: -773.8644\n",
      "Epoch 53/100\n",
      "34/34 [==============================] - 0s 12ms/step - loss: 3.1294 - log_cosh: 1.8490 - mean_absolute_error: 2.4340 - mean_squared_error: 10.0094 - binary_crossentropy: -773.8645\n",
      "Epoch 54/100\n",
      "34/34 [==============================] - 0s 13ms/step - loss: 3.1191 - log_cosh: 1.8492 - mean_absolute_error: 2.4342 - mean_squared_error: 10.0107 - binary_crossentropy: -773.8644\n",
      "Epoch 55/100\n",
      "34/34 [==============================] - 0s 14ms/step - loss: 3.1090 - log_cosh: 1.8495 - mean_absolute_error: 2.4347 - mean_squared_error: 10.0123 - binary_crossentropy: -773.8644\n",
      "Epoch 56/100\n",
      "34/34 [==============================] - 0s 14ms/step - loss: 3.1287 - log_cosh: 1.8494 - mean_absolute_error: 2.4345 - mean_squared_error: 10.0092 - binary_crossentropy: -773.8644\n",
      "Epoch 57/100\n",
      "34/34 [==============================] - 0s 13ms/step - loss: 3.1307 - log_cosh: 1.8493 - mean_absolute_error: 2.4343 - mean_squared_error: 10.0102 - binary_crossentropy: -773.8646\n",
      "Epoch 58/100\n",
      "34/34 [==============================] - 0s 12ms/step - loss: 3.1132 - log_cosh: 1.8491 - mean_absolute_error: 2.4341 - mean_squared_error: 10.0088 - binary_crossentropy: -773.8646\n",
      "Epoch 59/100\n",
      "34/34 [==============================] - 0s 12ms/step - loss: 3.1226 - log_cosh: 1.8493 - mean_absolute_error: 2.4342 - mean_squared_error: 10.0089 - binary_crossentropy: -773.8646\n",
      "Epoch 60/100\n",
      "34/34 [==============================] - 0s 12ms/step - loss: 3.1163 - log_cosh: 1.8490 - mean_absolute_error: 2.4340 - mean_squared_error: 10.0100 - binary_crossentropy: -773.8644\n",
      "Epoch 61/100\n",
      "34/34 [==============================] - 0s 12ms/step - loss: 3.1304 - log_cosh: 1.8489 - mean_absolute_error: 2.4338 - mean_squared_error: 10.0076 - binary_crossentropy: -773.8645\n",
      "Epoch 62/100\n",
      "34/34 [==============================] - 0s 12ms/step - loss: 3.1185 - log_cosh: 1.8494 - mean_absolute_error: 2.4344 - mean_squared_error: 10.0103 - binary_crossentropy: -773.8644\n",
      "Epoch 63/100\n",
      "34/34 [==============================] - 0s 12ms/step - loss: 3.1210 - log_cosh: 1.8492 - mean_absolute_error: 2.4342 - mean_squared_error: 10.0090 - binary_crossentropy: -773.8644\n",
      "Epoch 64/100\n",
      "34/34 [==============================] - 0s 12ms/step - loss: 3.1236 - log_cosh: 1.8493 - mean_absolute_error: 2.4345 - mean_squared_error: 10.0104 - binary_crossentropy: -773.8644\n",
      "Epoch 65/100\n",
      "34/34 [==============================] - 0s 12ms/step - loss: 3.1229 - log_cosh: 1.8492 - mean_absolute_error: 2.4343 - mean_squared_error: 10.0106 - binary_crossentropy: -773.8645\n",
      "Epoch 66/100\n",
      "34/34 [==============================] - 0s 12ms/step - loss: 3.1158 - log_cosh: 1.8498 - mean_absolute_error: 2.4348 - mean_squared_error: 10.0133 - binary_crossentropy: -773.8645\n",
      "Epoch 67/100\n",
      "34/34 [==============================] - 0s 12ms/step - loss: 3.1246 - log_cosh: 1.8497 - mean_absolute_error: 2.4346 - mean_squared_error: 10.0123 - binary_crossentropy: -773.8644\n",
      "Epoch 68/100\n",
      "34/34 [==============================] - 0s 12ms/step - loss: 3.1297 - log_cosh: 1.8499 - mean_absolute_error: 2.4351 - mean_squared_error: 10.0134 - binary_crossentropy: -773.8645\n",
      "Epoch 69/100\n",
      "34/34 [==============================] - 0s 13ms/step - loss: 3.1218 - log_cosh: 1.8491 - mean_absolute_error: 2.4341 - mean_squared_error: 10.0080 - binary_crossentropy: -773.8646\n",
      "Epoch 70/100\n",
      "34/34 [==============================] - 0s 14ms/step - loss: 3.1221 - log_cosh: 1.8496 - mean_absolute_error: 2.4344 - mean_squared_error: 10.0117 - binary_crossentropy: -773.8644\n",
      "Epoch 71/100\n",
      "34/34 [==============================] - 0s 14ms/step - loss: 3.1239 - log_cosh: 1.8494 - mean_absolute_error: 2.4343 - mean_squared_error: 10.0092 - binary_crossentropy: -773.8644\n",
      "Epoch 72/100\n",
      "34/34 [==============================] - 0s 13ms/step - loss: 3.1315 - log_cosh: 1.8491 - mean_absolute_error: 2.4342 - mean_squared_error: 10.0097 - binary_crossentropy: -773.8644\n",
      "Epoch 73/100\n",
      "34/34 [==============================] - 0s 12ms/step - loss: 3.1243 - log_cosh: 1.8492 - mean_absolute_error: 2.4343 - mean_squared_error: 10.0095 - binary_crossentropy: -773.8644\n",
      "Epoch 74/100\n",
      "34/34 [==============================] - 0s 12ms/step - loss: 3.1253 - log_cosh: 1.8492 - mean_absolute_error: 2.4341 - mean_squared_error: 10.0095 - binary_crossentropy: -773.8646\n",
      "Epoch 75/100\n",
      "34/34 [==============================] - 0s 12ms/step - loss: 3.1295 - log_cosh: 1.8493 - mean_absolute_error: 2.4343 - mean_squared_error: 10.0095 - binary_crossentropy: -773.8644\n",
      "Epoch 76/100\n",
      "34/34 [==============================] - 0s 12ms/step - loss: 3.1280 - log_cosh: 1.8493 - mean_absolute_error: 2.4343 - mean_squared_error: 10.0093 - binary_crossentropy: -773.8644\n",
      "Epoch 77/100\n",
      "34/34 [==============================] - 0s 12ms/step - loss: 3.1306 - log_cosh: 1.8494 - mean_absolute_error: 2.4344 - mean_squared_error: 10.0104 - binary_crossentropy: -773.8644\n",
      "Epoch 78/100\n",
      "34/34 [==============================] - 0s 12ms/step - loss: 3.1417 - log_cosh: 1.8491 - mean_absolute_error: 2.4343 - mean_squared_error: 10.0107 - binary_crossentropy: -773.8644\n",
      "Epoch 79/100\n"
     ]
    },
    {
     "name": "stdout",
     "output_type": "stream",
     "text": [
      "34/34 [==============================] - 0s 12ms/step - loss: 3.1193 - log_cosh: 1.8490 - mean_absolute_error: 2.4339 - mean_squared_error: 10.0090 - binary_crossentropy: -773.8645\n",
      "Epoch 80/100\n",
      "34/34 [==============================] - 0s 12ms/step - loss: 3.1223 - log_cosh: 1.8497 - mean_absolute_error: 2.4347 - mean_squared_error: 10.0111 - binary_crossentropy: -773.8646\n",
      "Epoch 81/100\n",
      "34/34 [==============================] - 0s 12ms/step - loss: 3.1243 - log_cosh: 1.8499 - mean_absolute_error: 2.4350 - mean_squared_error: 10.0139 - binary_crossentropy: -773.8645\n",
      "Epoch 82/100\n",
      "34/34 [==============================] - 0s 12ms/step - loss: 3.1024 - log_cosh: 1.8497 - mean_absolute_error: 2.4347 - mean_squared_error: 10.0113 - binary_crossentropy: -773.8645\n",
      "Epoch 83/100\n",
      "34/34 [==============================] - 0s 12ms/step - loss: 3.1223 - log_cosh: 1.8502 - mean_absolute_error: 2.4350 - mean_squared_error: 10.0144 - binary_crossentropy: -773.8645\n",
      "Epoch 84/100\n",
      "34/34 [==============================] - 0s 13ms/step - loss: 3.1219 - log_cosh: 1.8498 - mean_absolute_error: 2.4348 - mean_squared_error: 10.0129 - binary_crossentropy: -773.8644\n",
      "Epoch 85/100\n",
      "34/34 [==============================] - 0s 14ms/step - loss: 3.1153 - log_cosh: 1.8494 - mean_absolute_error: 2.4344 - mean_squared_error: 10.0108 - binary_crossentropy: -773.8646\n",
      "Epoch 86/100\n",
      "34/34 [==============================] - 0s 14ms/step - loss: 3.1107 - log_cosh: 1.8491 - mean_absolute_error: 2.4341 - mean_squared_error: 10.0091 - binary_crossentropy: -773.8646\n",
      "Epoch 87/100\n",
      "34/34 [==============================] - 0s 12ms/step - loss: 3.1234 - log_cosh: 1.8493 - mean_absolute_error: 2.4343 - mean_squared_error: 10.0101 - binary_crossentropy: -773.8644\n",
      "Epoch 88/100\n",
      "34/34 [==============================] - 0s 12ms/step - loss: 3.1229 - log_cosh: 1.8496 - mean_absolute_error: 2.4348 - mean_squared_error: 10.0116 - binary_crossentropy: -773.8644\n",
      "Epoch 89/100\n",
      "34/34 [==============================] - 0s 12ms/step - loss: 3.1258 - log_cosh: 1.8493 - mean_absolute_error: 2.4342 - mean_squared_error: 10.0121 - binary_crossentropy: -773.8645\n",
      "Epoch 90/100\n",
      "34/34 [==============================] - 0s 12ms/step - loss: 3.1308 - log_cosh: 1.8498 - mean_absolute_error: 2.4349 - mean_squared_error: 10.0137 - binary_crossentropy: -773.8645\n",
      "Epoch 91/100\n",
      "34/34 [==============================] - 0s 12ms/step - loss: 3.1367 - log_cosh: 1.8504 - mean_absolute_error: 2.4357 - mean_squared_error: 10.0155 - binary_crossentropy: -773.8643\n",
      "Epoch 92/100\n",
      "34/34 [==============================] - 0s 12ms/step - loss: 3.1316 - log_cosh: 1.8506 - mean_absolute_error: 2.4355 - mean_squared_error: 10.0174 - binary_crossentropy: -773.8644\n",
      "Epoch 93/100\n",
      "34/34 [==============================] - 0s 12ms/step - loss: 3.1270 - log_cosh: 1.8497 - mean_absolute_error: 2.4345 - mean_squared_error: 10.0142 - binary_crossentropy: -773.8645\n",
      "Epoch 94/100\n",
      "34/34 [==============================] - 0s 12ms/step - loss: 3.1165 - log_cosh: 1.8496 - mean_absolute_error: 2.4348 - mean_squared_error: 10.0126 - binary_crossentropy: -773.8645\n",
      "Epoch 95/100\n",
      "34/34 [==============================] - 0s 12ms/step - loss: 3.1157 - log_cosh: 1.8490 - mean_absolute_error: 2.4340 - mean_squared_error: 10.0131 - binary_crossentropy: -773.8644\n",
      "Epoch 96/100\n",
      "34/34 [==============================] - 0s 12ms/step - loss: 3.1306 - log_cosh: 1.8500 - mean_absolute_error: 2.4352 - mean_squared_error: 10.0157 - binary_crossentropy: -773.8644\n",
      "Epoch 97/100\n",
      "34/34 [==============================] - 0s 12ms/step - loss: 3.1264 - log_cosh: 1.8496 - mean_absolute_error: 2.4345 - mean_squared_error: 10.0108 - binary_crossentropy: -773.8644\n",
      "Epoch 98/100\n",
      "34/34 [==============================] - 0s 12ms/step - loss: 3.1241 - log_cosh: 1.8494 - mean_absolute_error: 2.4344 - mean_squared_error: 10.0105 - binary_crossentropy: -773.8644\n",
      "Epoch 99/100\n",
      "34/34 [==============================] - 0s 14ms/step - loss: 3.1148 - log_cosh: 1.8496 - mean_absolute_error: 2.4346 - mean_squared_error: 10.0108 - binary_crossentropy: -773.8644\n",
      "Epoch 100/100\n",
      "34/34 [==============================] - 0s 14ms/step - loss: 3.1078 - log_cosh: 1.8496 - mean_absolute_error: 2.4347 - mean_squared_error: 10.0110 - binary_crossentropy: -773.8645\n",
      "4/4 [==============================] - 1s 3ms/step\n",
      "GRU RMSE: 4.445066095998375\n"
     ]
    }
   ],
   "source": [
    "gru_model = create_model_builder('GRU')(best_gru_hps)\n",
    "gru_model.summary()\n",
    "early_stop = keras.callbacks.EarlyStopping(monitor='loss', patience=5, min_delta=0.0001, mode='min')\n",
    "gru_model.fit(train_timestamps, train, epochs=100, callbacks=[tensorboard_callback])\n",
    "\n",
    "gru_pred = gru_model.predict(test_timestamps).flatten()\n",
    "gru_rmse = np.sqrt(mean_squared_error(test.values, gru_pred))\n",
    "print('GRU RMSE:', gru_rmse)"
   ]
  },
  {
   "cell_type": "code",
   "execution_count": 19,
   "id": "353027bb",
   "metadata": {},
   "outputs": [
    {
     "name": "stdout",
     "output_type": "stream",
     "text": [
      "Model: \"sequential_3\"\n",
      "_________________________________________________________________\n",
      " Layer (type)                Output Shape              Param #   \n",
      "=================================================================\n",
      " simple_rnn (SimpleRNN)      (None, 1, 224)            50624     \n",
      "                                                                 \n",
      " simple_rnn_1 (SimpleRNN)    (None, 1, 176)            70576     \n",
      "                                                                 \n",
      " simple_rnn_2 (SimpleRNN)    (None, 1, 32)             6688      \n",
      "                                                                 \n",
      " dense_2 (Dense)             (None, 1, 1)              33        \n",
      "                                                                 \n",
      "=================================================================\n",
      "Total params: 127,921\n",
      "Trainable params: 127,921\n",
      "Non-trainable params: 0\n",
      "_________________________________________________________________\n",
      "Epoch 1/100\n",
      "34/34 [==============================] - 2s 7ms/step - loss: 47.1884 - log_cosh: 46.3485 - mean_absolute_error: 47.0416 - mean_squared_error: 2229.3259 - binary_crossentropy: -638.6061\n",
      "Epoch 2/100\n",
      "34/34 [==============================] - 0s 7ms/step - loss: 44.5890 - log_cosh: 43.7826 - mean_absolute_error: 44.4758 - mean_squared_error: 1989.3524 - binary_crossentropy: -773.8644\n",
      "Epoch 3/100\n",
      "34/34 [==============================] - 0s 7ms/step - loss: 42.9237 - log_cosh: 42.1180 - mean_absolute_error: 42.8111 - mean_squared_error: 1842.8896 - binary_crossentropy: -773.8644\n",
      "Epoch 4/100\n",
      "34/34 [==============================] - 0s 7ms/step - loss: 41.6544 - log_cosh: 40.8464 - mean_absolute_error: 41.5395 - mean_squared_error: 1735.6455 - binary_crossentropy: -773.8645\n",
      "Epoch 5/100\n",
      "34/34 [==============================] - 0s 7ms/step - loss: 40.4404 - log_cosh: 39.6269 - mean_absolute_error: 40.3200 - mean_squared_error: 1635.7554 - binary_crossentropy: -773.8644\n",
      "Epoch 6/100\n",
      "34/34 [==============================] - 0s 7ms/step - loss: 39.2490 - log_cosh: 38.4316 - mean_absolute_error: 39.1248 - mean_squared_error: 1540.8900 - binary_crossentropy: -773.8644\n",
      "Epoch 7/100\n",
      "34/34 [==============================] - 0s 7ms/step - loss: 38.0743 - log_cosh: 37.2525 - mean_absolute_error: 37.9457 - mean_squared_error: 1449.9030 - binary_crossentropy: -773.8645\n",
      "Epoch 8/100\n",
      "34/34 [==============================] - 0s 7ms/step - loss: 36.9086 - log_cosh: 36.0838 - mean_absolute_error: 36.7770 - mean_squared_error: 1362.6815 - binary_crossentropy: -773.8644\n",
      "Epoch 9/100\n",
      "34/34 [==============================] - 0s 8ms/step - loss: 35.7507 - log_cosh: 34.9219 - mean_absolute_error: 35.6151 - mean_squared_error: 1278.5687 - binary_crossentropy: -773.8644\n",
      "Epoch 10/100\n",
      "34/34 [==============================] - 0s 8ms/step - loss: 34.6000 - log_cosh: 33.7658 - mean_absolute_error: 34.4590 - mean_squared_error: 1197.4557 - binary_crossentropy: -773.8644\n",
      "Epoch 11/100\n",
      "34/34 [==============================] - 0s 8ms/step - loss: 33.4517 - log_cosh: 32.6139 - mean_absolute_error: 33.3071 - mean_squared_error: 1119.4946 - binary_crossentropy: -773.8644\n",
      "Epoch 12/100\n",
      "34/34 [==============================] - 0s 8ms/step - loss: 32.3105 - log_cosh: 31.4656 - mean_absolute_error: 32.1587 - mean_squared_error: 1044.2517 - binary_crossentropy: -773.8645\n",
      "Epoch 13/100\n",
      "34/34 [==============================] - 0s 7ms/step - loss: 31.1708 - log_cosh: 30.3205 - mean_absolute_error: 31.0136 - mean_squared_error: 971.8901 - binary_crossentropy: -773.8646\n",
      "Epoch 14/100\n",
      "34/34 [==============================] - 0s 7ms/step - loss: 30.0334 - log_cosh: 29.1782 - mean_absolute_error: 29.8714 - mean_squared_error: 902.4493 - binary_crossentropy: -773.8645\n",
      "Epoch 15/100\n",
      "34/34 [==============================] - 0s 7ms/step - loss: 28.9010 - log_cosh: 28.0383 - mean_absolute_error: 28.7315 - mean_squared_error: 835.6435 - binary_crossentropy: -773.8644\n",
      "Epoch 16/100\n",
      "34/34 [==============================] - 0s 7ms/step - loss: 27.7678 - log_cosh: 26.9001 - mean_absolute_error: 27.5932 - mean_squared_error: 771.5218 - binary_crossentropy: -773.8645\n",
      "Epoch 17/100\n",
      "34/34 [==============================] - 0s 7ms/step - loss: 26.6399 - log_cosh: 25.7638 - mean_absolute_error: 26.4569 - mean_squared_error: 710.1083 - binary_crossentropy: -773.8644\n",
      "Epoch 18/100\n",
      "34/34 [==============================] - 0s 7ms/step - loss: 25.5164 - log_cosh: 24.6297 - mean_absolute_error: 25.3229 - mean_squared_error: 651.3080 - binary_crossentropy: -773.8644\n",
      "Epoch 19/100\n",
      "34/34 [==============================] - 0s 7ms/step - loss: 24.3904 - log_cosh: 23.4964 - mean_absolute_error: 24.1896 - mean_squared_error: 595.2976 - binary_crossentropy: -773.8646\n",
      "Epoch 20/100\n",
      "34/34 [==============================] - 0s 7ms/step - loss: 23.2701 - log_cosh: 22.3654 - mean_absolute_error: 23.0585 - mean_squared_error: 541.7673 - binary_crossentropy: -773.8644\n",
      "Epoch 21/100\n",
      "34/34 [==============================] - 0s 7ms/step - loss: 22.1488 - log_cosh: 21.2354 - mean_absolute_error: 21.9286 - mean_squared_error: 490.9328 - binary_crossentropy: -773.8644\n",
      "Epoch 22/100\n",
      "34/34 [==============================] - 0s 7ms/step - loss: 21.0344 - log_cosh: 20.1067 - mean_absolute_error: 20.7999 - mean_squared_error: 442.7959 - binary_crossentropy: -773.8644\n",
      "Epoch 23/100\n",
      "34/34 [==============================] - 0s 7ms/step - loss: 19.9210 - log_cosh: 18.9806 - mean_absolute_error: 19.6738 - mean_squared_error: 397.2875 - binary_crossentropy: -773.8646\n",
      "Epoch 24/100\n",
      "34/34 [==============================] - 0s 7ms/step - loss: 18.8089 - log_cosh: 17.8560 - mean_absolute_error: 18.5492 - mean_squared_error: 354.1757 - binary_crossentropy: -773.8646\n",
      "Epoch 25/100\n",
      "34/34 [==============================] - 0s 7ms/step - loss: 17.7062 - log_cosh: 16.7328 - mean_absolute_error: 17.4260 - mean_squared_error: 313.7448 - binary_crossentropy: -773.8645\n",
      "Epoch 26/100\n",
      "34/34 [==============================] - 0s 7ms/step - loss: 16.5983 - log_cosh: 15.6121 - mean_absolute_error: 16.3052 - mean_squared_error: 275.9938 - binary_crossentropy: -773.8644\n",
      "Epoch 27/100\n",
      "34/34 [==============================] - 0s 7ms/step - loss: 15.5049 - log_cosh: 14.4937 - mean_absolute_error: 15.1869 - mean_squared_error: 240.7320 - binary_crossentropy: -773.8643\n",
      "Epoch 28/100\n",
      "34/34 [==============================] - 0s 7ms/step - loss: 14.4117 - log_cosh: 13.3775 - mean_absolute_error: 14.0707 - mean_squared_error: 208.0621 - binary_crossentropy: -773.8645\n",
      "Epoch 29/100\n",
      "34/34 [==============================] - 0s 7ms/step - loss: 13.3302 - log_cosh: 12.2657 - mean_absolute_error: 12.9588 - mean_squared_error: 178.0278 - binary_crossentropy: -773.8644\n",
      "Epoch 30/100\n",
      "34/34 [==============================] - 0s 7ms/step - loss: 12.2492 - log_cosh: 11.1577 - mean_absolute_error: 11.8507 - mean_squared_error: 150.5950 - binary_crossentropy: -773.8644\n",
      "Epoch 31/100\n",
      "34/34 [==============================] - 0s 7ms/step - loss: 11.1962 - log_cosh: 10.0559 - mean_absolute_error: 10.7476 - mean_squared_error: 125.5958 - binary_crossentropy: -773.8645\n",
      "Epoch 32/100\n",
      "34/34 [==============================] - 0s 7ms/step - loss: 10.1485 - log_cosh: 8.9674 - mean_absolute_error: 9.6591 - mean_squared_error: 103.3778 - binary_crossentropy: -773.8645\n",
      "Epoch 33/100\n",
      "34/34 [==============================] - 0s 7ms/step - loss: 9.1163 - log_cosh: 7.8903 - mean_absolute_error: 8.5806 - mean_squared_error: 83.4624 - binary_crossentropy: -773.8645\n",
      "Epoch 34/100\n",
      "34/34 [==============================] - 0s 7ms/step - loss: 8.1205 - log_cosh: 6.8399 - mean_absolute_error: 7.5236 - mean_squared_error: 66.2713 - binary_crossentropy: -773.8644\n",
      "Epoch 35/100\n",
      "34/34 [==============================] - 0s 8ms/step - loss: 7.1450 - log_cosh: 5.8295 - mean_absolute_error: 6.5056 - mean_squared_error: 51.5299 - binary_crossentropy: -773.8644\n",
      "Epoch 36/100\n",
      "34/34 [==============================] - 0s 8ms/step - loss: 6.2431 - log_cosh: 4.8939 - mean_absolute_error: 5.5652 - mean_squared_error: 39.2917 - binary_crossentropy: -773.8644\n",
      "Epoch 37/100\n"
     ]
    },
    {
     "name": "stdout",
     "output_type": "stream",
     "text": [
      "34/34 [==============================] - 0s 8ms/step - loss: 5.4146 - log_cosh: 4.0432 - mean_absolute_error: 4.7066 - mean_squared_error: 29.5796 - binary_crossentropy: -773.8646\n",
      "Epoch 38/100\n",
      "34/34 [==============================] - 0s 8ms/step - loss: 4.6783 - log_cosh: 3.3116 - mean_absolute_error: 3.9615 - mean_squared_error: 22.2001 - binary_crossentropy: -773.8644\n",
      "Epoch 39/100\n",
      "34/34 [==============================] - 0s 7ms/step - loss: 4.0839 - log_cosh: 2.7411 - mean_absolute_error: 3.3666 - mean_squared_error: 17.0410 - binary_crossentropy: -773.8645\n",
      "Epoch 40/100\n",
      "34/34 [==============================] - 0s 7ms/step - loss: 3.6689 - log_cosh: 2.3284 - mean_absolute_error: 2.9328 - mean_squared_error: 13.6299 - binary_crossentropy: -773.8644\n",
      "Epoch 41/100\n",
      "34/34 [==============================] - 0s 7ms/step - loss: 3.3920 - log_cosh: 2.0817 - mean_absolute_error: 2.6709 - mean_squared_error: 11.7281 - binary_crossentropy: -773.8645\n",
      "Epoch 42/100\n",
      "34/34 [==============================] - 0s 7ms/step - loss: 3.2559 - log_cosh: 1.9544 - mean_absolute_error: 2.5369 - mean_squared_error: 10.7678 - binary_crossentropy: -773.8645\n",
      "Epoch 43/100\n",
      "34/34 [==============================] - 0s 7ms/step - loss: 3.1600 - log_cosh: 1.8936 - mean_absolute_error: 2.4768 - mean_squared_error: 10.3194 - binary_crossentropy: -773.8644\n",
      "Epoch 44/100\n",
      "34/34 [==============================] - 0s 7ms/step - loss: 3.1372 - log_cosh: 1.8675 - mean_absolute_error: 2.4518 - mean_squared_error: 10.1356 - binary_crossentropy: -773.8643\n",
      "Epoch 45/100\n",
      "34/34 [==============================] - 0s 7ms/step - loss: 3.1322 - log_cosh: 1.8572 - mean_absolute_error: 2.4413 - mean_squared_error: 10.0613 - binary_crossentropy: -773.8644\n",
      "Epoch 46/100\n",
      "34/34 [==============================] - 0s 7ms/step - loss: 3.1322 - log_cosh: 1.8520 - mean_absolute_error: 2.4366 - mean_squared_error: 10.0252 - binary_crossentropy: -773.8644\n",
      "Epoch 47/100\n",
      "34/34 [==============================] - 0s 7ms/step - loss: 3.1343 - log_cosh: 1.8503 - mean_absolute_error: 2.4355 - mean_squared_error: 10.0138 - binary_crossentropy: -773.8644\n",
      "Epoch 48/100\n",
      "34/34 [==============================] - 0s 7ms/step - loss: 3.1277 - log_cosh: 1.8495 - mean_absolute_error: 2.4344 - mean_squared_error: 10.0097 - binary_crossentropy: -773.8645\n",
      "Epoch 49/100\n",
      "34/34 [==============================] - 0s 7ms/step - loss: 3.1302 - log_cosh: 1.8498 - mean_absolute_error: 2.4348 - mean_squared_error: 10.0116 - binary_crossentropy: -773.8644\n",
      "Epoch 50/100\n",
      "34/34 [==============================] - 0s 7ms/step - loss: 3.1375 - log_cosh: 1.8497 - mean_absolute_error: 2.4348 - mean_squared_error: 10.0137 - binary_crossentropy: -773.8645\n",
      "Epoch 51/100\n",
      "34/34 [==============================] - 0s 7ms/step - loss: 3.1323 - log_cosh: 1.8492 - mean_absolute_error: 2.4342 - mean_squared_error: 10.0080 - binary_crossentropy: -773.8644\n",
      "Epoch 52/100\n",
      "34/34 [==============================] - 0s 7ms/step - loss: 3.1291 - log_cosh: 1.8492 - mean_absolute_error: 2.4342 - mean_squared_error: 10.0114 - binary_crossentropy: -773.8645\n",
      "Epoch 53/100\n",
      "34/34 [==============================] - 0s 7ms/step - loss: 3.1259 - log_cosh: 1.8492 - mean_absolute_error: 2.4342 - mean_squared_error: 10.0103 - binary_crossentropy: -773.8644\n",
      "Epoch 54/100\n",
      "34/34 [==============================] - 0s 7ms/step - loss: 3.1290 - log_cosh: 1.8498 - mean_absolute_error: 2.4349 - mean_squared_error: 10.0129 - binary_crossentropy: -773.8645\n",
      "Epoch 55/100\n",
      "34/34 [==============================] - 0s 7ms/step - loss: 3.1199 - log_cosh: 1.8492 - mean_absolute_error: 2.4342 - mean_squared_error: 10.0093 - binary_crossentropy: -773.8646\n",
      "Epoch 56/100\n",
      "34/34 [==============================] - 0s 7ms/step - loss: 3.1229 - log_cosh: 1.8493 - mean_absolute_error: 2.4343 - mean_squared_error: 10.0104 - binary_crossentropy: -773.8644\n",
      "Epoch 57/100\n",
      "34/34 [==============================] - 0s 7ms/step - loss: 3.1330 - log_cosh: 1.8493 - mean_absolute_error: 2.4343 - mean_squared_error: 10.0096 - binary_crossentropy: -773.8645\n",
      "Epoch 58/100\n",
      "34/34 [==============================] - 0s 7ms/step - loss: 3.1257 - log_cosh: 1.8492 - mean_absolute_error: 2.4341 - mean_squared_error: 10.0094 - binary_crossentropy: -773.8646\n",
      "Epoch 59/100\n",
      "34/34 [==============================] - 0s 7ms/step - loss: 3.1227 - log_cosh: 1.8497 - mean_absolute_error: 2.4346 - mean_squared_error: 10.0162 - binary_crossentropy: -773.8644\n",
      "Epoch 60/100\n",
      "34/34 [==============================] - 0s 7ms/step - loss: 3.1279 - log_cosh: 1.8491 - mean_absolute_error: 2.4342 - mean_squared_error: 10.0104 - binary_crossentropy: -773.8644\n",
      "Epoch 61/100\n",
      "34/34 [==============================] - 0s 8ms/step - loss: 3.1173 - log_cosh: 1.8495 - mean_absolute_error: 2.4345 - mean_squared_error: 10.0110 - binary_crossentropy: -773.8644\n",
      "Epoch 62/100\n",
      "34/34 [==============================] - 0s 8ms/step - loss: 3.1198 - log_cosh: 1.8499 - mean_absolute_error: 2.4348 - mean_squared_error: 10.0132 - binary_crossentropy: -773.8645\n",
      "Epoch 63/100\n",
      "34/34 [==============================] - 0s 8ms/step - loss: 3.1233 - log_cosh: 1.8491 - mean_absolute_error: 2.4341 - mean_squared_error: 10.0087 - binary_crossentropy: -773.8644\n",
      "Epoch 64/100\n",
      "34/34 [==============================] - 0s 7ms/step - loss: 3.1346 - log_cosh: 1.8499 - mean_absolute_error: 2.4351 - mean_squared_error: 10.0128 - binary_crossentropy: -773.8644\n",
      "Epoch 65/100\n",
      "34/34 [==============================] - 0s 7ms/step - loss: 3.1254 - log_cosh: 1.8498 - mean_absolute_error: 2.4348 - mean_squared_error: 10.0160 - binary_crossentropy: -773.8646\n",
      "Epoch 66/100\n",
      "34/34 [==============================] - 0s 7ms/step - loss: 3.1365 - log_cosh: 1.8491 - mean_absolute_error: 2.4342 - mean_squared_error: 10.0082 - binary_crossentropy: -773.8645\n",
      "Epoch 67/100\n",
      "34/34 [==============================] - 0s 7ms/step - loss: 3.1273 - log_cosh: 1.8494 - mean_absolute_error: 2.4344 - mean_squared_error: 10.0128 - binary_crossentropy: -773.8644\n",
      "Epoch 68/100\n",
      "34/34 [==============================] - 0s 7ms/step - loss: 3.1258 - log_cosh: 1.8494 - mean_absolute_error: 2.4344 - mean_squared_error: 10.0105 - binary_crossentropy: -773.8646\n",
      "Epoch 69/100\n",
      "34/34 [==============================] - 0s 7ms/step - loss: 3.1175 - log_cosh: 1.8491 - mean_absolute_error: 2.4341 - mean_squared_error: 10.0082 - binary_crossentropy: -773.8644\n",
      "Epoch 70/100\n",
      "34/34 [==============================] - 0s 7ms/step - loss: 3.1188 - log_cosh: 1.8492 - mean_absolute_error: 2.4342 - mean_squared_error: 10.0101 - binary_crossentropy: -773.8644\n",
      "Epoch 71/100\n",
      "34/34 [==============================] - 0s 7ms/step - loss: 3.1208 - log_cosh: 1.8498 - mean_absolute_error: 2.4349 - mean_squared_error: 10.0114 - binary_crossentropy: -773.8644\n",
      "Epoch 72/100\n",
      "34/34 [==============================] - 0s 7ms/step - loss: 3.1225 - log_cosh: 1.8493 - mean_absolute_error: 2.4344 - mean_squared_error: 10.0103 - binary_crossentropy: -773.8644\n",
      "Epoch 73/100\n",
      "34/34 [==============================] - 0s 7ms/step - loss: 3.1212 - log_cosh: 1.8491 - mean_absolute_error: 2.4341 - mean_squared_error: 10.0093 - binary_crossentropy: -773.8644\n",
      "Epoch 74/100\n",
      "34/34 [==============================] - 0s 7ms/step - loss: 3.1234 - log_cosh: 1.8492 - mean_absolute_error: 2.4343 - mean_squared_error: 10.0092 - binary_crossentropy: -773.8645\n",
      "Epoch 75/100\n",
      "34/34 [==============================] - 0s 7ms/step - loss: 3.1330 - log_cosh: 1.8492 - mean_absolute_error: 2.4339 - mean_squared_error: 10.0119 - binary_crossentropy: -773.8645\n",
      "Epoch 76/100\n",
      "34/34 [==============================] - 0s 7ms/step - loss: 3.1172 - log_cosh: 1.8491 - mean_absolute_error: 2.4343 - mean_squared_error: 10.0089 - binary_crossentropy: -773.8645\n",
      "Epoch 77/100\n",
      "34/34 [==============================] - 0s 7ms/step - loss: 3.1156 - log_cosh: 1.8492 - mean_absolute_error: 2.4344 - mean_squared_error: 10.0120 - binary_crossentropy: -773.8646\n",
      "Epoch 78/100\n",
      "34/34 [==============================] - 0s 7ms/step - loss: 3.1280 - log_cosh: 1.8501 - mean_absolute_error: 2.4350 - mean_squared_error: 10.0132 - binary_crossentropy: -773.8643\n",
      "Epoch 79/100\n"
     ]
    },
    {
     "name": "stdout",
     "output_type": "stream",
     "text": [
      "34/34 [==============================] - 0s 7ms/step - loss: 3.1183 - log_cosh: 1.8497 - mean_absolute_error: 2.4349 - mean_squared_error: 10.0115 - binary_crossentropy: -773.8644\n",
      "Epoch 80/100\n",
      "34/34 [==============================] - 0s 7ms/step - loss: 3.1331 - log_cosh: 1.8502 - mean_absolute_error: 2.4354 - mean_squared_error: 10.0139 - binary_crossentropy: -773.8645\n",
      "Epoch 81/100\n",
      "34/34 [==============================] - 0s 7ms/step - loss: 3.1161 - log_cosh: 1.8495 - mean_absolute_error: 2.4348 - mean_squared_error: 10.0134 - binary_crossentropy: -773.8644\n",
      "Epoch 82/100\n",
      "34/34 [==============================] - 0s 7ms/step - loss: 3.1262 - log_cosh: 1.8492 - mean_absolute_error: 2.4343 - mean_squared_error: 10.0095 - binary_crossentropy: -773.8644\n",
      "Epoch 83/100\n",
      "34/34 [==============================] - 0s 7ms/step - loss: 3.1164 - log_cosh: 1.8503 - mean_absolute_error: 2.4355 - mean_squared_error: 10.0161 - binary_crossentropy: -773.8644\n",
      "Epoch 84/100\n",
      "34/34 [==============================] - 0s 7ms/step - loss: 3.1289 - log_cosh: 1.8495 - mean_absolute_error: 2.4347 - mean_squared_error: 10.0131 - binary_crossentropy: -773.8644\n",
      "Epoch 85/100\n",
      "34/34 [==============================] - 0s 7ms/step - loss: 3.1144 - log_cosh: 1.8495 - mean_absolute_error: 2.4345 - mean_squared_error: 10.0129 - binary_crossentropy: -773.8645\n",
      "Epoch 86/100\n",
      "34/34 [==============================] - 0s 8ms/step - loss: 3.1224 - log_cosh: 1.8494 - mean_absolute_error: 2.4345 - mean_squared_error: 10.0114 - binary_crossentropy: -773.8644\n",
      "Epoch 87/100\n",
      "34/34 [==============================] - 0s 8ms/step - loss: 3.1096 - log_cosh: 1.8494 - mean_absolute_error: 2.4342 - mean_squared_error: 10.0123 - binary_crossentropy: -773.8645\n",
      "Epoch 88/100\n",
      "34/34 [==============================] - 0s 8ms/step - loss: 3.1405 - log_cosh: 1.8491 - mean_absolute_error: 2.4340 - mean_squared_error: 10.0097 - binary_crossentropy: -773.8644\n",
      "Epoch 89/100\n",
      "34/34 [==============================] - 0s 8ms/step - loss: 3.1232 - log_cosh: 1.8493 - mean_absolute_error: 2.4344 - mean_squared_error: 10.0102 - binary_crossentropy: -773.8644\n",
      "Epoch 90/100\n",
      "34/34 [==============================] - 0s 7ms/step - loss: 3.1067 - log_cosh: 1.8492 - mean_absolute_error: 2.4342 - mean_squared_error: 10.0103 - binary_crossentropy: -773.8644\n",
      "Epoch 91/100\n",
      "34/34 [==============================] - 0s 7ms/step - loss: 3.1437 - log_cosh: 1.8497 - mean_absolute_error: 2.4349 - mean_squared_error: 10.0126 - binary_crossentropy: -773.8644\n",
      "Epoch 92/100\n",
      "34/34 [==============================] - 0s 7ms/step - loss: 3.1162 - log_cosh: 1.8492 - mean_absolute_error: 2.4341 - mean_squared_error: 10.0112 - binary_crossentropy: -773.8644\n",
      "Epoch 93/100\n",
      "34/34 [==============================] - 0s 7ms/step - loss: 3.1195 - log_cosh: 1.8491 - mean_absolute_error: 2.4342 - mean_squared_error: 10.0094 - binary_crossentropy: -773.8644\n",
      "Epoch 94/100\n",
      "34/34 [==============================] - 0s 7ms/step - loss: 3.1078 - log_cosh: 1.8492 - mean_absolute_error: 2.4342 - mean_squared_error: 10.0089 - binary_crossentropy: -773.8644\n",
      "Epoch 95/100\n",
      "34/34 [==============================] - 0s 7ms/step - loss: 3.1239 - log_cosh: 1.8494 - mean_absolute_error: 2.4346 - mean_squared_error: 10.0120 - binary_crossentropy: -773.8644\n",
      "Epoch 96/100\n",
      "34/34 [==============================] - 0s 7ms/step - loss: 3.1269 - log_cosh: 1.8495 - mean_absolute_error: 2.4346 - mean_squared_error: 10.0110 - binary_crossentropy: -773.8646\n",
      "Epoch 97/100\n",
      "34/34 [==============================] - 0s 7ms/step - loss: 3.1213 - log_cosh: 1.8492 - mean_absolute_error: 2.4342 - mean_squared_error: 10.0137 - binary_crossentropy: -773.8646\n",
      "Epoch 98/100\n",
      "34/34 [==============================] - 0s 7ms/step - loss: 3.1258 - log_cosh: 1.8504 - mean_absolute_error: 2.4353 - mean_squared_error: 10.0159 - binary_crossentropy: -773.8644\n",
      "Epoch 99/100\n",
      "34/34 [==============================] - 0s 7ms/step - loss: 3.0909 - log_cosh: 1.8495 - mean_absolute_error: 2.4345 - mean_squared_error: 10.0119 - binary_crossentropy: -773.8644\n",
      "Epoch 100/100\n",
      "34/34 [==============================] - 0s 7ms/step - loss: 3.1174 - log_cosh: 1.8503 - mean_absolute_error: 2.4355 - mean_squared_error: 10.0156 - binary_crossentropy: -773.8644\n",
      "4/4 [==============================] - 0s 2ms/step\n",
      "RNN RMSE: 4.489790559989157\n"
     ]
    }
   ],
   "source": [
    "rnn_model = create_model_builder('RNN')(best_rnn_hps)\n",
    "rnn_model.summary()\n",
    "early_stop = keras.callbacks.EarlyStopping(monitor='loss', patience=5, min_delta=0.0001, mode='min')\n",
    "rnn_model.fit(train_timestamps, train, epochs=100, callbacks=[tensorboard_callback])\n",
    "\n",
    "rnn_pred = lstm_model.predict(test_timestamps).flatten()\n",
    "rnn_rmse = np.sqrt(mean_squared_error(test.values, rnn_pred))\n",
    "print('RNN RMSE:', rnn_rmse)"
   ]
  },
  {
   "cell_type": "code",
   "execution_count": 20,
   "id": "bea41e05",
   "metadata": {},
   "outputs": [
    {
     "name": "stdout",
     "output_type": "stream",
     "text": [
      "Model: \"sequential_4\"\n",
      "_________________________________________________________________\n",
      " Layer (type)                Output Shape              Param #   \n",
      "=================================================================\n",
      " simple_rnn_3 (SimpleRNN)    (None, 1, 160)            25760     \n",
      "                                                                 \n",
      " gru_3 (GRU)                 (None, 1, 16)             8448      \n",
      "                                                                 \n",
      " gru_4 (GRU)                 (None, 1, 320)            322560    \n",
      "                                                                 \n",
      " dense_3 (Dense)             (None, 1, 1)              321       \n",
      "                                                                 \n",
      "=================================================================\n",
      "Total params: 357,089\n",
      "Trainable params: 357,089\n",
      "Non-trainable params: 0\n",
      "_________________________________________________________________\n",
      "Epoch 1/100\n",
      "34/34 [==============================] - 3s 10ms/step - loss: 47.7317 - log_cosh: 46.9374 - mean_absolute_error: 47.6306 - mean_squared_error: 2284.6396 - binary_crossentropy: -658.8974\n",
      "Epoch 2/100\n",
      "34/34 [==============================] - 0s 10ms/step - loss: 39.2551 - log_cosh: 38.4390 - mean_absolute_error: 39.1321 - mean_squared_error: 1547.5720 - binary_crossentropy: -773.8644\n",
      "Epoch 3/100\n",
      "34/34 [==============================] - 0s 10ms/step - loss: 30.8003 - log_cosh: 29.9467 - mean_absolute_error: 30.6398 - mean_squared_error: 955.1765 - binary_crossentropy: -773.8644\n",
      "Epoch 4/100\n",
      "34/34 [==============================] - 0s 10ms/step - loss: 22.3836 - log_cosh: 21.4678 - mean_absolute_error: 22.1609 - mean_squared_error: 507.1874 - binary_crossentropy: -773.8644\n",
      "Epoch 5/100\n",
      "34/34 [==============================] - 0s 11ms/step - loss: 14.0834 - log_cosh: 13.0393 - mean_absolute_error: 13.7320 - mean_squared_error: 204.8721 - binary_crossentropy: -773.8646\n",
      "Epoch 6/100\n",
      "34/34 [==============================] - 0s 10ms/step - loss: 6.4661 - log_cosh: 5.1320 - mean_absolute_error: 5.7967 - mean_squared_error: 45.2674 - binary_crossentropy: -773.8645\n",
      "Epoch 7/100\n",
      "34/34 [==============================] - 0s 10ms/step - loss: 3.1721 - log_cosh: 1.9020 - mean_absolute_error: 2.4897 - mean_squared_error: 10.4282 - binary_crossentropy: -773.8645\n",
      "Epoch 8/100\n",
      "34/34 [==============================] - 0s 10ms/step - loss: 3.1306 - log_cosh: 1.8511 - mean_absolute_error: 2.4367 - mean_squared_error: 10.0421 - binary_crossentropy: -773.8646\n",
      "Epoch 9/100\n",
      "34/34 [==============================] - 0s 10ms/step - loss: 3.1139 - log_cosh: 1.8512 - mean_absolute_error: 2.4363 - mean_squared_error: 10.0184 - binary_crossentropy: -773.8644\n",
      "Epoch 10/100\n",
      "34/34 [==============================] - 0s 10ms/step - loss: 3.1421 - log_cosh: 1.8514 - mean_absolute_error: 2.4364 - mean_squared_error: 10.0374 - binary_crossentropy: -773.8644\n",
      "Epoch 11/100\n",
      "34/34 [==============================] - 0s 10ms/step - loss: 3.1378 - log_cosh: 1.8580 - mean_absolute_error: 2.4431 - mean_squared_error: 10.0817 - binary_crossentropy: -773.8646\n",
      "Epoch 12/100\n",
      "34/34 [==============================] - 0s 10ms/step - loss: 3.1318 - log_cosh: 1.8553 - mean_absolute_error: 2.4417 - mean_squared_error: 10.0729 - binary_crossentropy: -773.8644\n",
      "Epoch 13/100\n",
      "34/34 [==============================] - 0s 10ms/step - loss: 3.1055 - log_cosh: 1.8499 - mean_absolute_error: 2.4355 - mean_squared_error: 10.0253 - binary_crossentropy: -773.8644\n",
      "Epoch 14/100\n",
      "34/34 [==============================] - 0s 10ms/step - loss: 3.1395 - log_cosh: 1.8539 - mean_absolute_error: 2.4400 - mean_squared_error: 10.0549 - binary_crossentropy: -773.8644\n",
      "Epoch 15/100\n",
      "34/34 [==============================] - 0s 10ms/step - loss: 3.1291 - log_cosh: 1.8527 - mean_absolute_error: 2.4373 - mean_squared_error: 10.0390 - binary_crossentropy: -773.8644\n",
      "Epoch 16/100\n",
      "34/34 [==============================] - 0s 12ms/step - loss: 3.1297 - log_cosh: 1.8493 - mean_absolute_error: 2.4338 - mean_squared_error: 10.0115 - binary_crossentropy: -773.8644\n",
      "Epoch 17/100\n",
      "34/34 [==============================] - 0s 12ms/step - loss: 3.1212 - log_cosh: 1.8531 - mean_absolute_error: 2.4390 - mean_squared_error: 10.0407 - binary_crossentropy: -773.8644\n",
      "Epoch 18/100\n",
      "34/34 [==============================] - 0s 12ms/step - loss: 3.1169 - log_cosh: 1.8539 - mean_absolute_error: 2.4395 - mean_squared_error: 10.0404 - binary_crossentropy: -773.8645\n",
      "Epoch 19/100\n",
      "34/34 [==============================] - 0s 10ms/step - loss: 3.1272 - log_cosh: 1.8513 - mean_absolute_error: 2.4367 - mean_squared_error: 10.0307 - binary_crossentropy: -773.8644\n",
      "Epoch 20/100\n",
      "34/34 [==============================] - 0s 10ms/step - loss: 3.1243 - log_cosh: 1.8507 - mean_absolute_error: 2.4350 - mean_squared_error: 10.0214 - binary_crossentropy: -773.8645\n",
      "Epoch 21/100\n",
      "34/34 [==============================] - 0s 10ms/step - loss: 3.1255 - log_cosh: 1.8528 - mean_absolute_error: 2.4390 - mean_squared_error: 10.0343 - binary_crossentropy: -773.8645\n",
      "Epoch 22/100\n",
      "34/34 [==============================] - 0s 10ms/step - loss: 3.1250 - log_cosh: 1.8476 - mean_absolute_error: 2.4292 - mean_squared_error: 10.0320 - binary_crossentropy: -773.8645\n",
      "Epoch 23/100\n",
      "34/34 [==============================] - 0s 10ms/step - loss: 3.1087 - log_cosh: 1.8498 - mean_absolute_error: 2.4350 - mean_squared_error: 10.0220 - binary_crossentropy: -773.8646\n",
      "Epoch 24/100\n",
      "34/34 [==============================] - 0s 10ms/step - loss: 3.1240 - log_cosh: 1.8531 - mean_absolute_error: 2.4391 - mean_squared_error: 10.0632 - binary_crossentropy: -773.8644\n",
      "Epoch 25/100\n",
      "34/34 [==============================] - 0s 10ms/step - loss: 3.1342 - log_cosh: 1.8510 - mean_absolute_error: 2.4363 - mean_squared_error: 10.0299 - binary_crossentropy: -773.8644\n",
      "Epoch 26/100\n",
      "34/34 [==============================] - 0s 10ms/step - loss: 3.1373 - log_cosh: 1.8532 - mean_absolute_error: 2.4387 - mean_squared_error: 10.0415 - binary_crossentropy: -773.8644\n",
      "Epoch 27/100\n",
      "34/34 [==============================] - 0s 10ms/step - loss: 3.1249 - log_cosh: 1.8514 - mean_absolute_error: 2.4373 - mean_squared_error: 10.0328 - binary_crossentropy: -773.8644\n",
      "Epoch 28/100\n",
      "34/34 [==============================] - 0s 10ms/step - loss: 3.1126 - log_cosh: 1.8534 - mean_absolute_error: 2.4399 - mean_squared_error: 10.0428 - binary_crossentropy: -773.8644\n",
      "Epoch 29/100\n",
      "34/34 [==============================] - 0s 10ms/step - loss: 3.1352 - log_cosh: 1.8535 - mean_absolute_error: 2.4386 - mean_squared_error: 10.0309 - binary_crossentropy: -773.8645\n",
      "Epoch 30/100\n",
      "34/34 [==============================] - 0s 10ms/step - loss: 3.1337 - log_cosh: 1.8504 - mean_absolute_error: 2.4332 - mean_squared_error: 10.0091 - binary_crossentropy: -773.8645\n",
      "Epoch 31/100\n",
      "34/34 [==============================] - 0s 10ms/step - loss: 3.1287 - log_cosh: 1.8524 - mean_absolute_error: 2.4380 - mean_squared_error: 10.0495 - binary_crossentropy: -773.8644\n",
      "Epoch 32/100\n",
      "34/34 [==============================] - 0s 10ms/step - loss: 3.1154 - log_cosh: 1.8552 - mean_absolute_error: 2.4411 - mean_squared_error: 10.0600 - binary_crossentropy: -773.8644\n",
      "Epoch 33/100\n",
      "34/34 [==============================] - 0s 10ms/step - loss: 3.1126 - log_cosh: 1.8560 - mean_absolute_error: 2.4420 - mean_squared_error: 10.0460 - binary_crossentropy: -773.8645\n",
      "Epoch 34/100\n",
      "34/34 [==============================] - 0s 11ms/step - loss: 3.1289 - log_cosh: 1.8551 - mean_absolute_error: 2.4411 - mean_squared_error: 10.0391 - binary_crossentropy: -773.8644\n",
      "Epoch 35/100\n",
      "34/34 [==============================] - 0s 12ms/step - loss: 3.1318 - log_cosh: 1.8515 - mean_absolute_error: 2.4370 - mean_squared_error: 10.0315 - binary_crossentropy: -773.8645\n",
      "Epoch 36/100\n",
      "34/34 [==============================] - 0s 12ms/step - loss: 3.1220 - log_cosh: 1.8525 - mean_absolute_error: 2.4374 - mean_squared_error: 10.0419 - binary_crossentropy: -773.8644\n",
      "Epoch 37/100\n",
      "34/34 [==============================] - 0s 11ms/step - loss: 3.1271 - log_cosh: 1.8581 - mean_absolute_error: 2.4452 - mean_squared_error: 10.0666 - binary_crossentropy: -773.8645\n",
      "Epoch 38/100\n"
     ]
    },
    {
     "name": "stdout",
     "output_type": "stream",
     "text": [
      "34/34 [==============================] - 0s 10ms/step - loss: 3.1548 - log_cosh: 1.8667 - mean_absolute_error: 2.4540 - mean_squared_error: 10.1356 - binary_crossentropy: -773.8644\n",
      "Epoch 39/100\n",
      "34/34 [==============================] - 0s 10ms/step - loss: 3.1281 - log_cosh: 1.8556 - mean_absolute_error: 2.4397 - mean_squared_error: 10.0783 - binary_crossentropy: -773.8646\n",
      "Epoch 40/100\n",
      "34/34 [==============================] - 0s 10ms/step - loss: 3.1507 - log_cosh: 1.8715 - mean_absolute_error: 2.4578 - mean_squared_error: 10.1659 - binary_crossentropy: -773.8645\n",
      "Epoch 41/100\n",
      "34/34 [==============================] - 0s 10ms/step - loss: 3.1431 - log_cosh: 1.8659 - mean_absolute_error: 2.4532 - mean_squared_error: 10.1252 - binary_crossentropy: -773.8644\n",
      "Epoch 42/100\n",
      "34/34 [==============================] - 0s 10ms/step - loss: 3.1303 - log_cosh: 1.8499 - mean_absolute_error: 2.4356 - mean_squared_error: 10.0160 - binary_crossentropy: -773.8644\n",
      "Epoch 43/100\n",
      "34/34 [==============================] - 0s 10ms/step - loss: 3.1261 - log_cosh: 1.8520 - mean_absolute_error: 2.4372 - mean_squared_error: 10.0431 - binary_crossentropy: -773.8644\n",
      "Epoch 44/100\n",
      "34/34 [==============================] - 0s 10ms/step - loss: 3.1398 - log_cosh: 1.8508 - mean_absolute_error: 2.4343 - mean_squared_error: 10.0843 - binary_crossentropy: -773.8644\n",
      "Epoch 45/100\n",
      "34/34 [==============================] - 0s 10ms/step - loss: 3.1309 - log_cosh: 1.8519 - mean_absolute_error: 2.4382 - mean_squared_error: 10.0322 - binary_crossentropy: -773.8645\n",
      "Epoch 46/100\n",
      "34/34 [==============================] - 0s 10ms/step - loss: 3.1265 - log_cosh: 1.8541 - mean_absolute_error: 2.4384 - mean_squared_error: 10.0431 - binary_crossentropy: -773.8646\n",
      "Epoch 47/100\n",
      "34/34 [==============================] - 0s 10ms/step - loss: 3.1535 - log_cosh: 1.8663 - mean_absolute_error: 2.4545 - mean_squared_error: 10.1561 - binary_crossentropy: -773.8646\n",
      "Epoch 48/100\n",
      "34/34 [==============================] - 0s 10ms/step - loss: 3.1325 - log_cosh: 1.8625 - mean_absolute_error: 2.4498 - mean_squared_error: 10.1490 - binary_crossentropy: -773.8645\n",
      "Epoch 49/100\n",
      "34/34 [==============================] - 0s 10ms/step - loss: 3.1196 - log_cosh: 1.8532 - mean_absolute_error: 2.4381 - mean_squared_error: 10.0404 - binary_crossentropy: -773.8644\n",
      "Epoch 50/100\n",
      "34/34 [==============================] - 0s 10ms/step - loss: 3.1454 - log_cosh: 1.8602 - mean_absolute_error: 2.4460 - mean_squared_error: 10.0777 - binary_crossentropy: -773.8644\n",
      "Epoch 51/100\n",
      "34/34 [==============================] - 0s 10ms/step - loss: 3.1529 - log_cosh: 1.8745 - mean_absolute_error: 2.4633 - mean_squared_error: 10.1675 - binary_crossentropy: -773.8644\n",
      "Epoch 52/100\n",
      "34/34 [==============================] - 0s 10ms/step - loss: 3.1383 - log_cosh: 1.8716 - mean_absolute_error: 2.4609 - mean_squared_error: 10.2152 - binary_crossentropy: -773.8645\n",
      "Epoch 53/100\n",
      "34/34 [==============================] - 0s 12ms/step - loss: 3.1406 - log_cosh: 1.8520 - mean_absolute_error: 2.4383 - mean_squared_error: 10.0385 - binary_crossentropy: -773.8644\n",
      "Epoch 54/100\n",
      "34/34 [==============================] - 0s 12ms/step - loss: 3.1304 - log_cosh: 1.8534 - mean_absolute_error: 2.4373 - mean_squared_error: 10.0302 - binary_crossentropy: -773.8645\n",
      "Epoch 55/100\n",
      "34/34 [==============================] - 0s 12ms/step - loss: 3.1326 - log_cosh: 1.8678 - mean_absolute_error: 2.4526 - mean_squared_error: 10.1525 - binary_crossentropy: -773.8644\n",
      "Epoch 56/100\n",
      "34/34 [==============================] - 0s 10ms/step - loss: 3.1483 - log_cosh: 1.8559 - mean_absolute_error: 2.4421 - mean_squared_error: 10.0602 - binary_crossentropy: -773.8644\n",
      "Epoch 57/100\n",
      "34/34 [==============================] - 0s 10ms/step - loss: 3.1305 - log_cosh: 1.8511 - mean_absolute_error: 2.4354 - mean_squared_error: 10.0667 - binary_crossentropy: -773.8644\n",
      "Epoch 58/100\n",
      "34/34 [==============================] - 0s 10ms/step - loss: 3.1299 - log_cosh: 1.8510 - mean_absolute_error: 2.4374 - mean_squared_error: 10.0348 - binary_crossentropy: -773.8644\n",
      "Epoch 59/100\n",
      "34/34 [==============================] - 0s 10ms/step - loss: 3.1313 - log_cosh: 1.8511 - mean_absolute_error: 2.4398 - mean_squared_error: 10.0242 - binary_crossentropy: -773.8644\n",
      "Epoch 60/100\n",
      "34/34 [==============================] - 0s 10ms/step - loss: 3.1279 - log_cosh: 1.8517 - mean_absolute_error: 2.4362 - mean_squared_error: 10.0325 - binary_crossentropy: -773.8644\n",
      "Epoch 61/100\n",
      "34/34 [==============================] - 0s 10ms/step - loss: 3.1334 - log_cosh: 1.8507 - mean_absolute_error: 2.4341 - mean_squared_error: 10.0523 - binary_crossentropy: -773.8644\n",
      "Epoch 62/100\n",
      "34/34 [==============================] - 0s 10ms/step - loss: 3.1246 - log_cosh: 1.8505 - mean_absolute_error: 2.4387 - mean_squared_error: 10.0127 - binary_crossentropy: -773.8644\n",
      "Epoch 63/100\n",
      "34/34 [==============================] - 0s 10ms/step - loss: 3.1002 - log_cosh: 1.8541 - mean_absolute_error: 2.4387 - mean_squared_error: 10.0297 - binary_crossentropy: -773.8644\n",
      "Epoch 64/100\n",
      "34/34 [==============================] - 0s 10ms/step - loss: 3.1106 - log_cosh: 1.8557 - mean_absolute_error: 2.4414 - mean_squared_error: 10.0658 - binary_crossentropy: -773.8646\n",
      "Epoch 65/100\n",
      "34/34 [==============================] - 0s 10ms/step - loss: 3.1282 - log_cosh: 1.8581 - mean_absolute_error: 2.4440 - mean_squared_error: 10.0579 - binary_crossentropy: -773.8644\n",
      "Epoch 66/100\n",
      "34/34 [==============================] - 0s 10ms/step - loss: 3.1373 - log_cosh: 1.8556 - mean_absolute_error: 2.4395 - mean_squared_error: 10.0620 - binary_crossentropy: -773.8645\n",
      "Epoch 67/100\n",
      "34/34 [==============================] - 0s 10ms/step - loss: 3.1359 - log_cosh: 1.8514 - mean_absolute_error: 2.4369 - mean_squared_error: 10.0330 - binary_crossentropy: -773.8645\n",
      "Epoch 68/100\n",
      "34/34 [==============================] - 0s 10ms/step - loss: 3.1522 - log_cosh: 1.8607 - mean_absolute_error: 2.4462 - mean_squared_error: 10.1277 - binary_crossentropy: -773.8644\n",
      "Epoch 69/100\n",
      "34/34 [==============================] - 0s 10ms/step - loss: 3.1390 - log_cosh: 1.8595 - mean_absolute_error: 2.4441 - mean_squared_error: 10.0740 - binary_crossentropy: -773.8644\n",
      "Epoch 70/100\n",
      "34/34 [==============================] - 0s 10ms/step - loss: 3.1457 - log_cosh: 1.8655 - mean_absolute_error: 2.4486 - mean_squared_error: 10.1401 - binary_crossentropy: -773.8644\n",
      "Epoch 71/100\n",
      "34/34 [==============================] - 0s 11ms/step - loss: 3.1446 - log_cosh: 1.8547 - mean_absolute_error: 2.4376 - mean_squared_error: 10.0725 - binary_crossentropy: -773.8644\n",
      "Epoch 72/100\n",
      "34/34 [==============================] - 0s 12ms/step - loss: 3.1278 - log_cosh: 1.8596 - mean_absolute_error: 2.4464 - mean_squared_error: 10.0821 - binary_crossentropy: -773.8644\n",
      "Epoch 73/100\n",
      "34/34 [==============================] - 0s 12ms/step - loss: 3.1444 - log_cosh: 1.8740 - mean_absolute_error: 2.4604 - mean_squared_error: 10.2175 - binary_crossentropy: -773.8645\n",
      "Epoch 74/100\n",
      "34/34 [==============================] - 0s 12ms/step - loss: 3.1335 - log_cosh: 1.8667 - mean_absolute_error: 2.4561 - mean_squared_error: 10.1207 - binary_crossentropy: -773.8645\n",
      "Epoch 75/100\n",
      "34/34 [==============================] - 0s 10ms/step - loss: 3.1312 - log_cosh: 1.8518 - mean_absolute_error: 2.4366 - mean_squared_error: 10.0294 - binary_crossentropy: -773.8644\n",
      "Epoch 76/100\n",
      "34/34 [==============================] - 0s 10ms/step - loss: 3.1387 - log_cosh: 1.8621 - mean_absolute_error: 2.4486 - mean_squared_error: 10.1058 - binary_crossentropy: -773.8645\n",
      "Epoch 77/100\n",
      "34/34 [==============================] - 0s 10ms/step - loss: 3.1144 - log_cosh: 1.8533 - mean_absolute_error: 2.4396 - mean_squared_error: 10.0447 - binary_crossentropy: -773.8644\n",
      "Epoch 78/100\n",
      "34/34 [==============================] - 0s 10ms/step - loss: 3.1314 - log_cosh: 1.8529 - mean_absolute_error: 2.4413 - mean_squared_error: 10.0320 - binary_crossentropy: -773.8644\n",
      "Epoch 79/100\n",
      "34/34 [==============================] - 0s 10ms/step - loss: 3.1240 - log_cosh: 1.8584 - mean_absolute_error: 2.4418 - mean_squared_error: 10.0820 - binary_crossentropy: -773.8645\n",
      "Epoch 80/100\n"
     ]
    },
    {
     "name": "stdout",
     "output_type": "stream",
     "text": [
      "34/34 [==============================] - 0s 10ms/step - loss: 3.1326 - log_cosh: 1.8523 - mean_absolute_error: 2.4353 - mean_squared_error: 10.0595 - binary_crossentropy: -773.8644\n",
      "Epoch 81/100\n",
      "34/34 [==============================] - 0s 10ms/step - loss: 3.1600 - log_cosh: 1.8643 - mean_absolute_error: 2.4532 - mean_squared_error: 10.1587 - binary_crossentropy: -773.8644\n",
      "Epoch 82/100\n",
      "34/34 [==============================] - 0s 10ms/step - loss: 3.1410 - log_cosh: 1.8607 - mean_absolute_error: 2.4483 - mean_squared_error: 10.0867 - binary_crossentropy: -773.8645\n",
      "Epoch 83/100\n",
      "34/34 [==============================] - 0s 10ms/step - loss: 3.1361 - log_cosh: 1.8542 - mean_absolute_error: 2.4375 - mean_squared_error: 10.0743 - binary_crossentropy: -773.8644\n",
      "Epoch 84/100\n",
      "34/34 [==============================] - 0s 10ms/step - loss: 3.1375 - log_cosh: 1.8553 - mean_absolute_error: 2.4407 - mean_squared_error: 10.0561 - binary_crossentropy: -773.8644\n",
      "Epoch 85/100\n",
      "34/34 [==============================] - 0s 10ms/step - loss: 3.1336 - log_cosh: 1.8585 - mean_absolute_error: 2.4445 - mean_squared_error: 10.0821 - binary_crossentropy: -773.8644\n",
      "Epoch 86/100\n",
      "34/34 [==============================] - 0s 10ms/step - loss: 3.1277 - log_cosh: 1.8515 - mean_absolute_error: 2.4280 - mean_squared_error: 10.0516 - binary_crossentropy: -773.8644\n",
      "Epoch 87/100\n",
      "34/34 [==============================] - 0s 10ms/step - loss: 3.1265 - log_cosh: 1.8657 - mean_absolute_error: 2.4508 - mean_squared_error: 10.1624 - binary_crossentropy: -773.8644\n",
      "Epoch 88/100\n",
      "34/34 [==============================] - 0s 10ms/step - loss: 3.1373 - log_cosh: 1.8601 - mean_absolute_error: 2.4491 - mean_squared_error: 10.1083 - binary_crossentropy: -773.8644\n",
      "Epoch 89/100\n",
      "34/34 [==============================] - 0s 10ms/step - loss: 3.1325 - log_cosh: 1.8524 - mean_absolute_error: 2.4395 - mean_squared_error: 10.0116 - binary_crossentropy: -773.8645\n",
      "Epoch 90/100\n",
      "34/34 [==============================] - 0s 12ms/step - loss: 3.1490 - log_cosh: 1.8604 - mean_absolute_error: 2.4459 - mean_squared_error: 10.1007 - binary_crossentropy: -773.8646\n",
      "Epoch 91/100\n",
      "34/34 [==============================] - 0s 12ms/step - loss: 3.1219 - log_cosh: 1.8507 - mean_absolute_error: 2.4354 - mean_squared_error: 10.0247 - binary_crossentropy: -773.8645\n",
      "Epoch 92/100\n",
      "34/34 [==============================] - 0s 12ms/step - loss: 3.1383 - log_cosh: 1.8594 - mean_absolute_error: 2.4432 - mean_squared_error: 10.0791 - binary_crossentropy: -773.8646\n",
      "Epoch 93/100\n",
      "34/34 [==============================] - 0s 10ms/step - loss: 3.1384 - log_cosh: 1.8597 - mean_absolute_error: 2.4470 - mean_squared_error: 10.0894 - binary_crossentropy: -773.8644\n",
      "Epoch 94/100\n",
      "34/34 [==============================] - 0s 11ms/step - loss: 3.1268 - log_cosh: 1.8608 - mean_absolute_error: 2.4466 - mean_squared_error: 10.0731 - binary_crossentropy: -773.8646\n",
      "Epoch 95/100\n",
      "34/34 [==============================] - 0s 10ms/step - loss: 3.1560 - log_cosh: 1.8693 - mean_absolute_error: 2.4557 - mean_squared_error: 10.1877 - binary_crossentropy: -773.8644\n",
      "Epoch 96/100\n",
      "34/34 [==============================] - 0s 10ms/step - loss: 3.1434 - log_cosh: 1.8621 - mean_absolute_error: 2.4492 - mean_squared_error: 10.0922 - binary_crossentropy: -773.8645\n",
      "Epoch 97/100\n",
      "34/34 [==============================] - 0s 10ms/step - loss: 3.1224 - log_cosh: 1.8530 - mean_absolute_error: 2.4394 - mean_squared_error: 10.0679 - binary_crossentropy: -773.8644\n",
      "Epoch 98/100\n",
      "34/34 [==============================] - 0s 10ms/step - loss: 3.1436 - log_cosh: 1.8626 - mean_absolute_error: 2.4471 - mean_squared_error: 10.1164 - binary_crossentropy: -773.8644\n",
      "Epoch 99/100\n",
      "34/34 [==============================] - 0s 10ms/step - loss: 3.1340 - log_cosh: 1.8522 - mean_absolute_error: 2.4399 - mean_squared_error: 10.0457 - binary_crossentropy: -773.8644\n",
      "Epoch 100/100\n",
      "34/34 [==============================] - 0s 10ms/step - loss: 3.1265 - log_cosh: 1.8594 - mean_absolute_error: 2.4458 - mean_squared_error: 10.0497 - binary_crossentropy: -773.8645\n",
      "4/4 [==============================] - 0s 3ms/step\n",
      "Mixed-RNN RMSE: 4.446619069283562\n"
     ]
    }
   ],
   "source": [
    "mixed_model = create_model_builder('mixed')(best_mixed_hps)\n",
    "mixed_model.summary()\n",
    "early_stop = keras.callbacks.EarlyStopping(monitor='loss', patience=5, min_delta=0.0001, mode='min')\n",
    "mixed_model.fit(train_timestamps, train, epochs=100, callbacks=[tensorboard_callback])\n",
    "\n",
    "mixed_pred = mixed_model.predict(test_timestamps).flatten()\n",
    "mixed_rmse = np.sqrt(mean_squared_error(test.values, mixed_pred))\n",
    "print('Mixed-RNN RMSE:', mixed_rmse)"
   ]
  },
  {
   "cell_type": "code",
   "execution_count": 21,
   "id": "82dc24e3",
   "metadata": {},
   "outputs": [
    {
     "data": {
      "image/png": "[encoded data removed]",
      "text/plain": [
       "<Figure size 640x480 with 1 Axes>"
      ]
     },
     "metadata": {},
     "output_type": "display_data"
    }
   ],
   "source": [
    "# Compare predictions for test dates\n",
    "plt.plot(test, color='blue', label='test')\n",
    "plt.plot(arma_pred, label='test_arma')\n",
    "plt.plot(arima_pred, label='test_arima')\n",
    "plt.plot(sarima_pred, label='test_sarima')\n",
    "plt.plot(lstm_pred, label='test_lstm')\n",
    "plt.plot(gru_pred, label='test_gru')\n",
    "plt.plot(rnn_pred, label='test_rnn')\n",
    "plt.plot(mixed_pred, label='test_mixed')\n",
    "plt.ylabel('Compound sentiment score')\n",
    "plt.xlabel('Date')\n",
    "plt.xticks(list(test.index)[::5], rotation=45)\n",
    "plt.legend()\n",
    "plt.title('Compare actual values and predicted values')\n",
    "plt.show()"
   ]
  },
  {
   "cell_type": "markdown",
   "id": "aafef602",
   "metadata": {},
   "source": [
    "### 4. Forecasting future"
   ]
  },
  {
   "cell_type": "code",
   "execution_count": 22,
   "id": "fbe2f7f6",
   "metadata": {},
   "outputs": [
    {
     "name": "stdout",
     "output_type": "stream",
     "text": [
      "Query will start from 2023-05-25 to 2023-11-20\n"
     ]
    }
   ],
   "source": [
    "# create future date list\n",
    "future_dates = []\n",
    "future_timestamps = []\n",
    "start_date = datetime.strptime(date_range[-1], '%Y-%m-%d')\n",
    "for i in range(6*30):\n",
    "    iter_date = start_date + timedelta(i+1)\n",
    "    future_dates.append(iter_date.strftime(\"%Y-%m-%d\"))\n",
    "    future_timestamps.append([datetime.timestamp(iter_date)])\n",
    "    \n",
    "future_timestamps = np.array(future_timestamps)\n",
    "print('Query will start from %s to %s' % (future_dates[0], future_dates[-1]))"
   ]
  },
  {
   "cell_type": "code",
   "execution_count": 23,
   "id": "b43e4766",
   "metadata": {},
   "outputs": [],
   "source": [
    "def print_forecasts(ts_pred):\n",
    "    global future_dates\n",
    "    \n",
    "    print('Next week (%s): %f' % (future_dates[6], ts_pred[6]))\n",
    "    print('Next month (%s): %f' % (future_dates[29], ts_pred[29]))\n",
    "    print('Next 3rdmonth (%s): %f' % (future_dates[89], ts_pred[89]))"
   ]
  },
  {
   "cell_type": "code",
   "execution_count": 24,
   "id": "aab48bd9",
   "metadata": {},
   "outputs": [
    {
     "name": "stdout",
     "output_type": "stream",
     "text": [
      "Autoregressive Moving Average (ARMA)\n",
      "------------------------------------------------\n",
      "{'concentrate_scale': True, 'conf_alpha': 0.20396526654459302, 'enforce_invertibility': True, 'enforce_stationarity': False, 'hamilton_representation': True, 'measurement_error': True, 'mle_regression': False, 'order_0': 1, 'order_1': 0, 'order_2': 1, 'simple_differencing': True, 'time_varying_regression': True, 'trend': 't', 'use_exact_diffuse': False}\n",
      "------------------------------------------------\n",
      "Next week (2023-05-31): -0.010315\n",
      "Next month (2023-06-23): 0.004327\n",
      "Next 3rdmonth (2023-08-22): 0.042998\n"
     ]
    },
    {
     "name": "stderr",
     "output_type": "stream",
     "text": [
      "C:\\Users\\Serra\\anaconda3new\\lib\\site-packages\\statsmodels\\base\\model.py:604: ConvergenceWarning: Maximum Likelihood optimization failed to converge. Check mle_retvals\n",
      "  warnings.warn(\"Maximum Likelihood optimization failed to \"\n"
     ]
    }
   ],
   "source": [
    "# Train ARMA with full data\n",
    "full_train = full.copy()\n",
    "full_train.index = pd.DatetimeIndex(full_train.index.values).to_period('D')\n",
    "\n",
    "# Create and train the Model\n",
    "named_params = params_to_kwargs(best_arma_params)\n",
    "arma_model = SARIMAX(full_train, **named_params).fit()\n",
    "\n",
    "# Forecast\n",
    "arma_pred_df = arma_model.get_forecast(len(future_timestamps)).conf_int(alpha=best_arma_params['conf_alpha'])\n",
    "arma_pred = arma_model.predict(start=arma_pred_df.index[0], end=arma_pred_df.index[-1])\n",
    "arma_pred.index = arma_pred_df.index\n",
    "    \n",
    "# Scale back to [-1, 1]\n",
    "arma_pred = ts_unscale(arma_pred)\n",
    "\n",
    "print('Autoregressive Moving Average (ARMA)')\n",
    "print('------------------------------------------------')\n",
    "print(best_arma_params)\n",
    "print('------------------------------------------------')\n",
    "print_forecasts(arma_pred)"
   ]
  },
  {
   "cell_type": "code",
   "execution_count": 25,
   "id": "7bc0d79e",
   "metadata": {},
   "outputs": [
    {
     "name": "stdout",
     "output_type": "stream",
     "text": [
      "Autoregressive Integrated Moving Average (ARIMA)\n",
      "------------------------------------------------\n",
      "{'concentrate_scale': False, 'conf_alpha': 0.7690228482008833, 'enforce_invertibility': False, 'enforce_stationarity': False, 'missing': 'drop', 'order_0': 1, 'order_1': 0, 'order_2': 2, 'trend': 'ct'}\n",
      "------------------------------------------------\n",
      "Next week (2023-05-31): -0.021574\n",
      "Next month (2023-06-23): -0.014340\n",
      "Next 3rdmonth (2023-08-22): -0.000707\n"
     ]
    }
   ],
   "source": [
    "# Train ARIMA with full data\n",
    "full_train = full.copy()\n",
    "full_train.index = pd.DatetimeIndex(full_train.index.values).to_period('D')\n",
    "\n",
    "# Create and train the Model\n",
    "named_params = params_to_kwargs(best_arima_params)\n",
    "arima_model = ARIMA(full_train, **named_params).fit()\n",
    "\n",
    "# Forecast\n",
    "arima_pred_df = arima_model.get_forecast(len(future_timestamps)).conf_int(alpha=best_arima_params['conf_alpha'])\n",
    "arima_pred = arima_model.predict(start=arima_pred_df.index[0], end=arima_pred_df.index[-1])\n",
    "arima_pred.index = arima_pred_df.index\n",
    "    \n",
    "# Scale back to [-1, 1]\n",
    "arima_pred = ts_unscale(arima_pred)\n",
    "\n",
    "print('Autoregressive Integrated Moving Average (ARIMA)')\n",
    "print('------------------------------------------------')\n",
    "print(best_arima_params)\n",
    "print('------------------------------------------------')\n",
    "print_forecasts(arima_pred)"
   ]
  },
  {
   "cell_type": "code",
   "execution_count": 26,
   "id": "5b7b51ac",
   "metadata": {},
   "outputs": [
    {
     "name": "stdout",
     "output_type": "stream",
     "text": [
      "Seasonal ARIMA (SARIMA)\n",
      "------------------------------------------------\n",
      "{'concentrate_scale': True, 'conf_alpha': 0.4081143078160746, 'enforce_invertibility': False, 'enforce_stationarity': True, 'hamilton_representation': True, 'measurement_error': True, 'mle_regression': True, 'order_0': 1, 'order_1': 0, 'order_2': 1, 'seasonal_0': 4, 'seasonal_1': 2, 'seasonal_2': 1, 'seasonal_3': 1, 'simple_differencing': False, 'time_varying_regression': False, 'trend': 't', 'use_exact_diffuse': False}\n",
      "------------------------------------------------\n",
      "Next week (2023-05-31): -0.010485\n",
      "Next month (2023-06-23): 0.003758\n",
      "Next 3rdmonth (2023-08-22): 0.041429\n"
     ]
    }
   ],
   "source": [
    "# Train SARIMA with full data\n",
    "full_train = full.copy()\n",
    "full_train.index = pd.DatetimeIndex(full_train.index.values).to_period('D')\n",
    "\n",
    "# Create and train the Model\n",
    "named_params = params_to_kwargs(best_sarima_params)\n",
    "sarima_model = SARIMAX(full_train, **named_params).fit()\n",
    "\n",
    "# Forecast\n",
    "sarima_pred_df = sarima_model.get_forecast(len(future_timestamps)).conf_int(alpha=best_sarima_params['conf_alpha'])\n",
    "sarima_pred = sarima_model.predict(start=sarima_pred_df.index[0], end=sarima_pred_df.index[-1])\n",
    "sarima_pred.index = sarima_pred_df.index\n",
    "    \n",
    "# Scale back to [-1, 1]\n",
    "sarima_pred = ts_unscale(sarima_pred)\n",
    "\n",
    "print('Seasonal ARIMA (SARIMA)')\n",
    "print('------------------------------------------------')\n",
    "print(best_sarima_params)\n",
    "print('------------------------------------------------')\n",
    "print_forecasts(sarima_pred)"
   ]
  },
  {
   "cell_type": "code",
   "execution_count": 27,
   "id": "c67db8ab",
   "metadata": {},
   "outputs": [
    {
     "name": "stdout",
     "output_type": "stream",
     "text": [
      "Epoch 1/100\n",
      "38/38 [==============================] - 1s 8ms/step - loss: 39.1091 - log_cosh: 38.2771 - mean_absolute_error: 38.9703 - mean_squared_error: 1576.2826 - binary_crossentropy: -750.1815\n",
      "Epoch 2/100\n",
      "38/38 [==============================] - 0s 6ms/step - loss: 15.4681 - log_cosh: 14.3482 - mean_absolute_error: 15.0354 - mean_squared_error: 281.9485 - binary_crossentropy: -768.1434\n",
      "Epoch 3/100\n",
      "38/38 [==============================] - 0s 6ms/step - loss: 3.5490 - log_cosh: 2.2220 - mean_absolute_error: 2.8232 - mean_squared_error: 12.9110 - binary_crossentropy: -768.1432\n",
      "Epoch 4/100\n",
      "38/38 [==============================] - 0s 6ms/step - loss: 3.2756 - log_cosh: 1.9999 - mean_absolute_error: 2.5945 - mean_squared_error: 10.9513 - binary_crossentropy: -768.1431\n",
      "Epoch 5/100\n",
      "38/38 [==============================] - 0s 6ms/step - loss: 3.2664 - log_cosh: 1.9876 - mean_absolute_error: 2.5763 - mean_squared_error: 10.9354 - binary_crossentropy: -768.1433\n",
      "Epoch 6/100\n",
      "38/38 [==============================] - 0s 6ms/step - loss: 3.2560 - log_cosh: 1.9743 - mean_absolute_error: 2.5636 - mean_squared_error: 10.8395 - binary_crossentropy: -768.1433\n",
      "Epoch 7/100\n",
      "38/38 [==============================] - 0s 6ms/step - loss: 3.2668 - log_cosh: 1.9829 - mean_absolute_error: 2.5746 - mean_squared_error: 10.8897 - binary_crossentropy: -768.1432\n",
      "Epoch 8/100\n",
      "38/38 [==============================] - 0s 6ms/step - loss: 3.2639 - log_cosh: 1.9972 - mean_absolute_error: 2.5860 - mean_squared_error: 10.9953 - binary_crossentropy: -768.1431\n",
      "Epoch 9/100\n",
      "38/38 [==============================] - 0s 6ms/step - loss: 3.2430 - log_cosh: 1.9787 - mean_absolute_error: 2.5665 - mean_squared_error: 10.8474 - binary_crossentropy: -768.1434\n",
      "Epoch 10/100\n",
      "38/38 [==============================] - 0s 6ms/step - loss: 3.2515 - log_cosh: 1.9728 - mean_absolute_error: 2.5595 - mean_squared_error: 10.8026 - binary_crossentropy: -768.1431\n",
      "Epoch 11/100\n",
      "38/38 [==============================] - 0s 6ms/step - loss: 3.2621 - log_cosh: 1.9875 - mean_absolute_error: 2.5789 - mean_squared_error: 10.8850 - binary_crossentropy: -768.1432\n",
      "Epoch 12/100\n",
      "38/38 [==============================] - 0s 6ms/step - loss: 3.2741 - log_cosh: 1.9861 - mean_absolute_error: 2.5735 - mean_squared_error: 10.9412 - binary_crossentropy: -768.1433\n",
      "Epoch 13/100\n",
      "38/38 [==============================] - 0s 6ms/step - loss: 3.2696 - log_cosh: 2.0008 - mean_absolute_error: 2.5888 - mean_squared_error: 10.8994 - binary_crossentropy: -768.1432\n",
      "Epoch 14/100\n",
      "38/38 [==============================] - 0s 6ms/step - loss: 3.2523 - log_cosh: 1.9847 - mean_absolute_error: 2.5761 - mean_squared_error: 10.8725 - binary_crossentropy: -768.1432\n",
      "Epoch 15/100\n",
      "38/38 [==============================] - 0s 6ms/step - loss: 3.2484 - log_cosh: 1.9811 - mean_absolute_error: 2.5711 - mean_squared_error: 10.8523 - binary_crossentropy: -768.1432\n",
      "Epoch 16/100\n",
      "38/38 [==============================] - 0s 6ms/step - loss: 3.2522 - log_cosh: 1.9861 - mean_absolute_error: 2.5720 - mean_squared_error: 10.9129 - binary_crossentropy: -768.1431\n",
      "Epoch 17/100\n",
      "38/38 [==============================] - 0s 6ms/step - loss: 3.2647 - log_cosh: 1.9942 - mean_absolute_error: 2.5884 - mean_squared_error: 10.9245 - binary_crossentropy: -768.1432\n",
      "Epoch 18/100\n",
      "38/38 [==============================] - 0s 6ms/step - loss: 3.2743 - log_cosh: 2.0018 - mean_absolute_error: 2.5960 - mean_squared_error: 10.9837 - binary_crossentropy: -768.1433\n",
      "Epoch 19/100\n",
      "38/38 [==============================] - 0s 7ms/step - loss: 3.2581 - log_cosh: 1.9912 - mean_absolute_error: 2.5810 - mean_squared_error: 10.9492 - binary_crossentropy: -768.1432\n",
      "Epoch 20/100\n",
      "38/38 [==============================] - 0s 7ms/step - loss: 3.2710 - log_cosh: 1.9839 - mean_absolute_error: 2.5752 - mean_squared_error: 10.9351 - binary_crossentropy: -768.1432\n",
      "Epoch 21/100\n",
      "38/38 [==============================] - 0s 7ms/step - loss: 3.2655 - log_cosh: 1.9919 - mean_absolute_error: 2.5824 - mean_squared_error: 10.9693 - binary_crossentropy: -768.1432\n",
      "Epoch 22/100\n",
      "38/38 [==============================] - 0s 7ms/step - loss: 3.2749 - log_cosh: 1.9962 - mean_absolute_error: 2.5898 - mean_squared_error: 10.9280 - binary_crossentropy: -768.1431\n",
      "Epoch 23/100\n",
      "38/38 [==============================] - 0s 7ms/step - loss: 3.2807 - log_cosh: 1.9851 - mean_absolute_error: 2.5740 - mean_squared_error: 10.9300 - binary_crossentropy: -768.1432\n",
      "Epoch 24/100\n",
      "38/38 [==============================] - 0s 6ms/step - loss: 3.2561 - log_cosh: 1.9799 - mean_absolute_error: 2.5725 - mean_squared_error: 10.8422 - binary_crossentropy: -768.1432\n",
      "Epoch 25/100\n",
      "38/38 [==============================] - 0s 6ms/step - loss: 3.2543 - log_cosh: 1.9817 - mean_absolute_error: 2.5722 - mean_squared_error: 10.8940 - binary_crossentropy: -768.1431\n",
      "Epoch 26/100\n",
      "38/38 [==============================] - 0s 6ms/step - loss: 3.2787 - log_cosh: 1.9996 - mean_absolute_error: 2.5903 - mean_squared_error: 10.9573 - binary_crossentropy: -768.1431\n",
      "Epoch 27/100\n",
      "38/38 [==============================] - 0s 6ms/step - loss: 3.2476 - log_cosh: 1.9754 - mean_absolute_error: 2.5660 - mean_squared_error: 10.8526 - binary_crossentropy: -768.1432\n",
      "Epoch 28/100\n",
      "38/38 [==============================] - 0s 6ms/step - loss: 3.2756 - log_cosh: 1.9929 - mean_absolute_error: 2.5815 - mean_squared_error: 11.0193 - binary_crossentropy: -768.1432\n",
      "Epoch 29/100\n",
      "38/38 [==============================] - 0s 6ms/step - loss: 3.2680 - log_cosh: 1.9971 - mean_absolute_error: 2.5826 - mean_squared_error: 10.9336 - binary_crossentropy: -768.1432\n",
      "Epoch 30/100\n",
      "38/38 [==============================] - 0s 6ms/step - loss: 3.2765 - log_cosh: 2.0063 - mean_absolute_error: 2.5961 - mean_squared_error: 10.9949 - binary_crossentropy: -768.1432\n",
      "Epoch 31/100\n",
      "38/38 [==============================] - 0s 6ms/step - loss: 3.2668 - log_cosh: 1.9905 - mean_absolute_error: 2.5829 - mean_squared_error: 10.8970 - binary_crossentropy: -768.1432\n",
      "Epoch 32/100\n",
      "38/38 [==============================] - 0s 6ms/step - loss: 3.2645 - log_cosh: 1.9866 - mean_absolute_error: 2.5783 - mean_squared_error: 10.9178 - binary_crossentropy: -768.1432\n",
      "Epoch 33/100\n",
      "38/38 [==============================] - 0s 6ms/step - loss: 3.2718 - log_cosh: 1.9836 - mean_absolute_error: 2.5703 - mean_squared_error: 10.8963 - binary_crossentropy: -768.1432\n",
      "Epoch 34/100\n",
      "38/38 [==============================] - 0s 6ms/step - loss: 3.2709 - log_cosh: 1.9927 - mean_absolute_error: 2.5820 - mean_squared_error: 11.0139 - binary_crossentropy: -768.1432\n",
      "Epoch 35/100\n",
      "38/38 [==============================] - 0s 6ms/step - loss: 3.2775 - log_cosh: 1.9958 - mean_absolute_error: 2.5881 - mean_squared_error: 10.9878 - binary_crossentropy: -768.1431\n",
      "Epoch 36/100\n",
      "38/38 [==============================] - 0s 6ms/step - loss: 3.2953 - log_cosh: 2.0089 - mean_absolute_error: 2.5967 - mean_squared_error: 11.1003 - binary_crossentropy: -768.1432\n",
      "Epoch 37/100\n",
      "38/38 [==============================] - 0s 6ms/step - loss: 3.2586 - log_cosh: 1.9915 - mean_absolute_error: 2.5800 - mean_squared_error: 10.9501 - binary_crossentropy: -768.1432\n",
      "Epoch 38/100\n",
      "38/38 [==============================] - 0s 6ms/step - loss: 3.2720 - log_cosh: 1.9929 - mean_absolute_error: 2.5781 - mean_squared_error: 10.9781 - binary_crossentropy: -768.1431\n",
      "Epoch 39/100\n",
      "38/38 [==============================] - 0s 6ms/step - loss: 3.2621 - log_cosh: 1.9776 - mean_absolute_error: 2.5667 - mean_squared_error: 10.8055 - binary_crossentropy: -768.1432\n",
      "Epoch 40/100\n",
      "38/38 [==============================] - 0s 6ms/step - loss: 3.2807 - log_cosh: 2.0098 - mean_absolute_error: 2.6024 - mean_squared_error: 11.0907 - binary_crossentropy: -768.1433\n",
      "Epoch 41/100\n",
      "38/38 [==============================] - 0s 7ms/step - loss: 3.2680 - log_cosh: 1.9843 - mean_absolute_error: 2.5717 - mean_squared_error: 10.9145 - binary_crossentropy: -768.1432\n",
      "Epoch 42/100\n",
      "38/38 [==============================] - 0s 6ms/step - loss: 3.2606 - log_cosh: 1.9819 - mean_absolute_error: 2.5736 - mean_squared_error: 10.8786 - binary_crossentropy: -768.1431\n",
      "Epoch 43/100\n"
     ]
    },
    {
     "name": "stdout",
     "output_type": "stream",
     "text": [
      "38/38 [==============================] - 0s 6ms/step - loss: 3.2910 - log_cosh: 2.0007 - mean_absolute_error: 2.5888 - mean_squared_error: 11.1084 - binary_crossentropy: -768.1431\n",
      "Epoch 44/100\n",
      "38/38 [==============================] - 0s 6ms/step - loss: 3.2567 - log_cosh: 1.9940 - mean_absolute_error: 2.5847 - mean_squared_error: 10.9757 - binary_crossentropy: -768.1434\n",
      "Epoch 45/100\n",
      "38/38 [==============================] - 0s 6ms/step - loss: 3.2816 - log_cosh: 2.0012 - mean_absolute_error: 2.5902 - mean_squared_error: 11.0307 - binary_crossentropy: -768.1433\n",
      "Epoch 46/100\n",
      "38/38 [==============================] - 0s 7ms/step - loss: 3.2495 - log_cosh: 1.9810 - mean_absolute_error: 2.5704 - mean_squared_error: 10.8470 - binary_crossentropy: -768.1432\n",
      "Epoch 47/100\n",
      "38/38 [==============================] - 0s 7ms/step - loss: 3.2447 - log_cosh: 1.9725 - mean_absolute_error: 2.5653 - mean_squared_error: 10.7581 - binary_crossentropy: -768.1430\n",
      "Epoch 48/100\n",
      "38/38 [==============================] - 0s 7ms/step - loss: 3.2757 - log_cosh: 1.9997 - mean_absolute_error: 2.5914 - mean_squared_error: 10.9848 - binary_crossentropy: -768.1433\n",
      "Epoch 49/100\n",
      "38/38 [==============================] - 0s 7ms/step - loss: 3.2667 - log_cosh: 1.9976 - mean_absolute_error: 2.5896 - mean_squared_error: 10.9688 - binary_crossentropy: -768.1431\n",
      "Epoch 50/100\n",
      "38/38 [==============================] - 0s 7ms/step - loss: 3.2642 - log_cosh: 1.9825 - mean_absolute_error: 2.5716 - mean_squared_error: 10.9054 - binary_crossentropy: -768.1432\n",
      "Epoch 51/100\n",
      "38/38 [==============================] - 0s 6ms/step - loss: 3.2632 - log_cosh: 1.9944 - mean_absolute_error: 2.5857 - mean_squared_error: 10.9537 - binary_crossentropy: -768.1434\n",
      "Epoch 52/100\n",
      "38/38 [==============================] - 0s 6ms/step - loss: 3.2790 - log_cosh: 1.9904 - mean_absolute_error: 2.5799 - mean_squared_error: 11.0225 - binary_crossentropy: -768.1432\n",
      "Epoch 53/100\n",
      "38/38 [==============================] - 0s 6ms/step - loss: 3.2990 - log_cosh: 2.0057 - mean_absolute_error: 2.5970 - mean_squared_error: 11.0425 - binary_crossentropy: -768.1432\n",
      "Epoch 54/100\n",
      "38/38 [==============================] - 0s 6ms/step - loss: 3.2814 - log_cosh: 1.9914 - mean_absolute_error: 2.5820 - mean_squared_error: 10.9799 - binary_crossentropy: -768.1431\n",
      "Epoch 55/100\n",
      "38/38 [==============================] - 0s 6ms/step - loss: 3.2699 - log_cosh: 1.9847 - mean_absolute_error: 2.5787 - mean_squared_error: 10.8784 - binary_crossentropy: -768.1432\n",
      "Epoch 56/100\n",
      "38/38 [==============================] - 0s 6ms/step - loss: 3.2776 - log_cosh: 1.9896 - mean_absolute_error: 2.5812 - mean_squared_error: 10.9088 - binary_crossentropy: -768.1433\n",
      "Epoch 57/100\n",
      "38/38 [==============================] - 0s 6ms/step - loss: 3.2670 - log_cosh: 1.9857 - mean_absolute_error: 2.5758 - mean_squared_error: 10.9239 - binary_crossentropy: -768.1431\n",
      "Epoch 58/100\n",
      "38/38 [==============================] - 0s 6ms/step - loss: 3.2615 - log_cosh: 1.9818 - mean_absolute_error: 2.5751 - mean_squared_error: 10.8576 - binary_crossentropy: -768.1433\n",
      "Epoch 59/100\n",
      "38/38 [==============================] - 0s 6ms/step - loss: 3.3233 - log_cosh: 2.0205 - mean_absolute_error: 2.6106 - mean_squared_error: 11.2726 - binary_crossentropy: -768.1434\n",
      "Epoch 60/100\n",
      "38/38 [==============================] - 0s 6ms/step - loss: 3.2674 - log_cosh: 1.9838 - mean_absolute_error: 2.5733 - mean_squared_error: 10.8743 - binary_crossentropy: -768.1433\n",
      "Epoch 61/100\n",
      "38/38 [==============================] - 0s 6ms/step - loss: 3.2724 - log_cosh: 2.0062 - mean_absolute_error: 2.5972 - mean_squared_error: 11.0121 - binary_crossentropy: -768.1433\n",
      "Epoch 62/100\n",
      "38/38 [==============================] - 0s 6ms/step - loss: 3.2475 - log_cosh: 1.9863 - mean_absolute_error: 2.5765 - mean_squared_error: 10.8901 - binary_crossentropy: -768.1432\n",
      "Epoch 63/100\n",
      "38/38 [==============================] - 0s 6ms/step - loss: 3.2684 - log_cosh: 1.9832 - mean_absolute_error: 2.5723 - mean_squared_error: 10.9036 - binary_crossentropy: -768.1432\n",
      "Epoch 64/100\n",
      "38/38 [==============================] - 0s 6ms/step - loss: 3.3088 - log_cosh: 2.0193 - mean_absolute_error: 2.6079 - mean_squared_error: 11.1918 - binary_crossentropy: -768.1434\n",
      "Epoch 65/100\n",
      "38/38 [==============================] - 0s 6ms/step - loss: 3.2838 - log_cosh: 1.9958 - mean_absolute_error: 2.5872 - mean_squared_error: 11.0107 - binary_crossentropy: -768.1432\n",
      "Epoch 66/100\n",
      "38/38 [==============================] - 0s 6ms/step - loss: 3.2717 - log_cosh: 2.0011 - mean_absolute_error: 2.5925 - mean_squared_error: 10.9886 - binary_crossentropy: -768.1433\n",
      "Epoch 67/100\n",
      "38/38 [==============================] - 0s 6ms/step - loss: 3.2563 - log_cosh: 1.9841 - mean_absolute_error: 2.5734 - mean_squared_error: 10.8771 - binary_crossentropy: -768.1434\n",
      "Epoch 68/100\n",
      "38/38 [==============================] - 0s 6ms/step - loss: 3.2836 - log_cosh: 2.0018 - mean_absolute_error: 2.5941 - mean_squared_error: 11.0270 - binary_crossentropy: -768.1432\n",
      "Epoch 69/100\n",
      "38/38 [==============================] - 0s 6ms/step - loss: 3.2589 - log_cosh: 1.9828 - mean_absolute_error: 2.5733 - mean_squared_error: 10.8614 - binary_crossentropy: -768.1433\n",
      "Epoch 70/100\n",
      "38/38 [==============================] - 0s 6ms/step - loss: 3.2554 - log_cosh: 1.9818 - mean_absolute_error: 2.5717 - mean_squared_error: 10.8634 - binary_crossentropy: -768.1434\n",
      "Epoch 71/100\n",
      "38/38 [==============================] - 0s 6ms/step - loss: 3.2516 - log_cosh: 1.9825 - mean_absolute_error: 2.5721 - mean_squared_error: 10.8538 - binary_crossentropy: -768.1432\n",
      "Epoch 72/100\n",
      "38/38 [==============================] - 0s 6ms/step - loss: 3.2720 - log_cosh: 1.9962 - mean_absolute_error: 2.5887 - mean_squared_error: 10.9432 - binary_crossentropy: -768.1432\n",
      "Epoch 73/100\n",
      "38/38 [==============================] - 0s 7ms/step - loss: 3.2707 - log_cosh: 1.9843 - mean_absolute_error: 2.5737 - mean_squared_error: 10.8991 - binary_crossentropy: -768.1431\n",
      "Epoch 74/100\n",
      "38/38 [==============================] - 0s 7ms/step - loss: 3.2887 - log_cosh: 2.0042 - mean_absolute_error: 2.5986 - mean_squared_error: 11.0435 - binary_crossentropy: -768.1432\n",
      "Epoch 75/100\n",
      "38/38 [==============================] - 0s 7ms/step - loss: 3.2647 - log_cosh: 1.9872 - mean_absolute_error: 2.5791 - mean_squared_error: 10.8809 - binary_crossentropy: -768.1432\n",
      "Epoch 76/100\n",
      "38/38 [==============================] - 0s 7ms/step - loss: 3.2562 - log_cosh: 1.9831 - mean_absolute_error: 2.5733 - mean_squared_error: 10.8774 - binary_crossentropy: -768.1433\n",
      "Epoch 77/100\n",
      "38/38 [==============================] - 0s 7ms/step - loss: 3.2730 - log_cosh: 1.9871 - mean_absolute_error: 2.5741 - mean_squared_error: 10.9141 - binary_crossentropy: -768.1432\n",
      "Epoch 78/100\n",
      "38/38 [==============================] - 0s 6ms/step - loss: 3.2793 - log_cosh: 1.9889 - mean_absolute_error: 2.5762 - mean_squared_error: 10.9538 - binary_crossentropy: -768.1434\n",
      "Epoch 79/100\n",
      "38/38 [==============================] - 0s 6ms/step - loss: 3.2437 - log_cosh: 1.9748 - mean_absolute_error: 2.5649 - mean_squared_error: 10.8672 - binary_crossentropy: -768.1432\n",
      "Epoch 80/100\n",
      "38/38 [==============================] - 0s 6ms/step - loss: 3.2715 - log_cosh: 1.9910 - mean_absolute_error: 2.5836 - mean_squared_error: 10.9170 - binary_crossentropy: -768.1434\n",
      "Epoch 81/100\n",
      "38/38 [==============================] - 0s 6ms/step - loss: 3.2616 - log_cosh: 1.9905 - mean_absolute_error: 2.5824 - mean_squared_error: 10.9264 - binary_crossentropy: -768.1432\n",
      "Epoch 82/100\n",
      "38/38 [==============================] - 0s 6ms/step - loss: 3.2501 - log_cosh: 1.9784 - mean_absolute_error: 2.5701 - mean_squared_error: 10.8290 - binary_crossentropy: -768.1434\n",
      "Epoch 83/100\n",
      "38/38 [==============================] - 0s 6ms/step - loss: 3.2750 - log_cosh: 2.0039 - mean_absolute_error: 2.5980 - mean_squared_error: 10.9538 - binary_crossentropy: -768.1432\n",
      "Epoch 84/100\n",
      "38/38 [==============================] - 0s 6ms/step - loss: 3.2722 - log_cosh: 1.9957 - mean_absolute_error: 2.5825 - mean_squared_error: 10.9668 - binary_crossentropy: -768.1433\n",
      "Epoch 85/100\n"
     ]
    },
    {
     "name": "stdout",
     "output_type": "stream",
     "text": [
      "38/38 [==============================] - 0s 6ms/step - loss: 3.2796 - log_cosh: 2.0128 - mean_absolute_error: 2.6063 - mean_squared_error: 11.1068 - binary_crossentropy: -768.1432\n",
      "Epoch 86/100\n",
      "38/38 [==============================] - 0s 6ms/step - loss: 3.2646 - log_cosh: 1.9940 - mean_absolute_error: 2.5853 - mean_squared_error: 10.9299 - binary_crossentropy: -768.1432\n",
      "Epoch 87/100\n",
      "38/38 [==============================] - 0s 6ms/step - loss: 3.2557 - log_cosh: 1.9793 - mean_absolute_error: 2.5694 - mean_squared_error: 10.8243 - binary_crossentropy: -768.1431\n",
      "Epoch 88/100\n",
      "38/38 [==============================] - 0s 6ms/step - loss: 3.2922 - log_cosh: 2.0057 - mean_absolute_error: 2.5984 - mean_squared_error: 11.1034 - binary_crossentropy: -768.1432\n",
      "Epoch 89/100\n",
      "38/38 [==============================] - 0s 6ms/step - loss: 3.2850 - log_cosh: 2.0027 - mean_absolute_error: 2.5928 - mean_squared_error: 11.0164 - binary_crossentropy: -768.1432\n",
      "Epoch 90/100\n",
      "38/38 [==============================] - 0s 6ms/step - loss: 3.2725 - log_cosh: 2.0026 - mean_absolute_error: 2.5981 - mean_squared_error: 10.9625 - binary_crossentropy: -768.1432\n",
      "Epoch 91/100\n",
      "38/38 [==============================] - 0s 6ms/step - loss: 3.2896 - log_cosh: 1.9902 - mean_absolute_error: 2.5750 - mean_squared_error: 11.0131 - binary_crossentropy: -768.1434\n",
      "Epoch 92/100\n",
      "38/38 [==============================] - 0s 6ms/step - loss: 3.2655 - log_cosh: 1.9875 - mean_absolute_error: 2.5769 - mean_squared_error: 10.9371 - binary_crossentropy: -768.1432\n",
      "Epoch 93/100\n",
      "38/38 [==============================] - 0s 6ms/step - loss: 3.2633 - log_cosh: 2.0009 - mean_absolute_error: 2.5944 - mean_squared_error: 10.8875 - binary_crossentropy: -768.1433\n",
      "Epoch 94/100\n",
      "38/38 [==============================] - 0s 6ms/step - loss: 3.2563 - log_cosh: 1.9962 - mean_absolute_error: 2.5882 - mean_squared_error: 10.9299 - binary_crossentropy: -768.1434\n",
      "Epoch 95/100\n",
      "38/38 [==============================] - 0s 6ms/step - loss: 3.2740 - log_cosh: 1.9957 - mean_absolute_error: 2.5867 - mean_squared_error: 10.9444 - binary_crossentropy: -768.1432\n",
      "Epoch 96/100\n",
      "38/38 [==============================] - 0s 6ms/step - loss: 3.2835 - log_cosh: 1.9956 - mean_absolute_error: 2.5863 - mean_squared_error: 10.9844 - binary_crossentropy: -768.1431\n",
      "Epoch 97/100\n",
      "38/38 [==============================] - 0s 6ms/step - loss: 3.2766 - log_cosh: 1.9978 - mean_absolute_error: 2.5860 - mean_squared_error: 10.9893 - binary_crossentropy: -768.1432\n",
      "Epoch 98/100\n",
      "38/38 [==============================] - 0s 6ms/step - loss: 3.2719 - log_cosh: 1.9924 - mean_absolute_error: 2.5797 - mean_squared_error: 10.9812 - binary_crossentropy: -768.1434\n",
      "Epoch 99/100\n",
      "38/38 [==============================] - 0s 6ms/step - loss: 3.2695 - log_cosh: 1.9863 - mean_absolute_error: 2.5754 - mean_squared_error: 10.8930 - binary_crossentropy: -768.1432\n",
      "Epoch 100/100\n",
      "38/38 [==============================] - 0s 7ms/step - loss: 3.2652 - log_cosh: 1.9903 - mean_absolute_error: 2.5818 - mean_squared_error: 10.8692 - binary_crossentropy: -768.1432\n"
     ]
    },
    {
     "data": {
      "text/plain": [
       "<keras.callbacks.History at 0x1ad80273f40>"
      ]
     },
     "execution_count": 27,
     "metadata": {},
     "output_type": "execute_result"
    }
   ],
   "source": [
    "# Train LSTM with full data\n",
    "full_train = full.copy()\n",
    "full_train.index = pd.DatetimeIndex(full_train.index.values).to_period('D')\n",
    "\n",
    "# Create and train the Model\n",
    "lstm_model = create_model_builder('LSTM')(best_lstm_hps)\n",
    "early_stop = keras.callbacks.EarlyStopping(monitor='loss', patience=5, min_delta=0.0001, mode='min')\n",
    "lstm_model.fit(full_timestamps, full_train, epochs=100, callbacks=[tensorboard_callback])"
   ]
  },
  {
   "cell_type": "code",
   "execution_count": 28,
   "id": "8fecd76d",
   "metadata": {},
   "outputs": [
    {
     "name": "stdout",
     "output_type": "stream",
     "text": [
      "6/6 [==============================] - 0s 3ms/step\n",
      "Neural Network with Long short-term memory (LSTM) layer\n",
      "------------------------------------------------\n",
      "Model: \"sequential_5\"\n",
      "_________________________________________________________________\n",
      " Layer (type)                Output Shape              Param #   \n",
      "=================================================================\n",
      " lstm_2 (LSTM)               (None, 1, 240)            231360    \n",
      "                                                                 \n",
      " dense_4 (Dense)             (None, 1, 1)              241       \n",
      "                                                                 \n",
      "=================================================================\n",
      "Total params: 231,601\n",
      "Trainable params: 231,601\n",
      "Non-trainable params: 0\n",
      "_________________________________________________________________\n",
      "------------------------------------------------\n",
      "Next week (2023-05-31): 0.020617\n",
      "Next month (2023-06-23): 0.020617\n",
      "Next 3rdmonth (2023-08-22): 0.020617\n"
     ]
    }
   ],
   "source": [
    "# LSTM continued\n",
    "\n",
    "# Forecast\n",
    "lstm_pred = lstm_model.predict(future_timestamps).flatten()\n",
    "lstm_pred = pd.Series(lstm_pred, index=future_dates)\n",
    "    \n",
    "# Scale back to [-1, 1]\n",
    "lstm_pred = ts_unscale(lstm_pred)\n",
    "\n",
    "print('Neural Network with Long short-term memory (LSTM) layer')\n",
    "print('------------------------------------------------')\n",
    "lstm_model.summary()\n",
    "print('------------------------------------------------')\n",
    "print_forecasts(lstm_pred)"
   ]
  },
  {
   "cell_type": "code",
   "execution_count": 29,
   "id": "5c38c043",
   "metadata": {},
   "outputs": [],
   "source": [
    "# Skip GRU and RNN models, since they are also predicting a static value"
   ]
  },
  {
   "cell_type": "code",
   "execution_count": 30,
   "id": "ea96c418",
   "metadata": {},
   "outputs": [
    {
     "name": "stdout",
     "output_type": "stream",
     "text": [
      "Epoch 1/100\n",
      "38/38 [==============================] - 3s 10ms/step - loss: 46.9238 - log_cosh: 46.1199 - mean_absolute_error: 46.8131 - mean_squared_error: 2209.5217 - binary_crossentropy: -665.4393\n",
      "Epoch 2/100\n",
      "38/38 [==============================] - 0s 9ms/step - loss: 37.4551 - log_cosh: 36.6222 - mean_absolute_error: 37.3154 - mean_squared_error: 1409.4961 - binary_crossentropy: -768.1433\n",
      "Epoch 3/100\n",
      "38/38 [==============================] - 0s 9ms/step - loss: 28.0173 - log_cosh: 27.1344 - mean_absolute_error: 27.8276 - mean_squared_error: 792.6404 - binary_crossentropy: -768.1432\n",
      "Epoch 4/100\n",
      "38/38 [==============================] - 0s 9ms/step - loss: 18.6513 - log_cosh: 17.6736 - mean_absolute_error: 18.3668 - mean_squared_error: 355.2374 - binary_crossentropy: -768.1432\n",
      "Epoch 5/100\n",
      "38/38 [==============================] - 0s 9ms/step - loss: 9.6445 - log_cosh: 8.3839 - mean_absolute_error: 9.0673 - mean_squared_error: 99.2005 - binary_crossentropy: -768.1432\n",
      "Epoch 6/100\n",
      "38/38 [==============================] - 0s 9ms/step - loss: 3.7194 - log_cosh: 2.3972 - mean_absolute_error: 3.0039 - mean_squared_error: 14.4457 - binary_crossentropy: -768.1433\n",
      "Epoch 7/100\n",
      "38/38 [==============================] - 0s 10ms/step - loss: 3.2609 - log_cosh: 1.9789 - mean_absolute_error: 2.5704 - mean_squared_error: 10.8341 - binary_crossentropy: -768.1433\n",
      "Epoch 8/100\n",
      "38/38 [==============================] - 0s 11ms/step - loss: 3.2604 - log_cosh: 1.9745 - mean_absolute_error: 2.5621 - mean_squared_error: 10.8144 - binary_crossentropy: -768.1431\n",
      "Epoch 9/100\n",
      "38/38 [==============================] - 0s 11ms/step - loss: 3.2484 - log_cosh: 1.9744 - mean_absolute_error: 2.5651 - mean_squared_error: 10.8031 - binary_crossentropy: -768.1431\n",
      "Epoch 10/100\n",
      "38/38 [==============================] - 0s 11ms/step - loss: 3.2456 - log_cosh: 1.9736 - mean_absolute_error: 2.5643 - mean_squared_error: 10.8020 - binary_crossentropy: -768.1432\n",
      "Epoch 11/100\n",
      "38/38 [==============================] - 0s 9ms/step - loss: 3.2480 - log_cosh: 1.9728 - mean_absolute_error: 2.5634 - mean_squared_error: 10.7927 - binary_crossentropy: -768.1433\n",
      "Epoch 12/100\n",
      "38/38 [==============================] - 0s 9ms/step - loss: 3.2541 - log_cosh: 1.9764 - mean_absolute_error: 2.5683 - mean_squared_error: 10.8177 - binary_crossentropy: -768.1432\n",
      "Epoch 13/100\n",
      "38/38 [==============================] - 0s 9ms/step - loss: 3.2428 - log_cosh: 1.9753 - mean_absolute_error: 2.5664 - mean_squared_error: 10.8131 - binary_crossentropy: -768.1431\n",
      "Epoch 14/100\n",
      "38/38 [==============================] - 0s 9ms/step - loss: 3.2567 - log_cosh: 1.9727 - mean_absolute_error: 2.5642 - mean_squared_error: 10.7996 - binary_crossentropy: -768.1432\n",
      "Epoch 15/100\n",
      "38/38 [==============================] - 0s 9ms/step - loss: 3.2458 - log_cosh: 1.9763 - mean_absolute_error: 2.5668 - mean_squared_error: 10.8171 - binary_crossentropy: -768.1434\n",
      "Epoch 16/100\n",
      "38/38 [==============================] - 0s 9ms/step - loss: 3.2518 - log_cosh: 1.9750 - mean_absolute_error: 2.5656 - mean_squared_error: 10.8041 - binary_crossentropy: -768.1432\n",
      "Epoch 17/100\n",
      "38/38 [==============================] - 0s 9ms/step - loss: 3.2553 - log_cosh: 1.9751 - mean_absolute_error: 2.5632 - mean_squared_error: 10.8264 - binary_crossentropy: -768.1432\n",
      "Epoch 18/100\n",
      "38/38 [==============================] - 0s 9ms/step - loss: 3.2596 - log_cosh: 1.9799 - mean_absolute_error: 2.5714 - mean_squared_error: 10.8401 - binary_crossentropy: -768.1434\n",
      "Epoch 19/100\n",
      "38/38 [==============================] - 0s 9ms/step - loss: 3.2406 - log_cosh: 1.9742 - mean_absolute_error: 2.5642 - mean_squared_error: 10.8097 - binary_crossentropy: -768.1432\n",
      "Epoch 20/100\n",
      "38/38 [==============================] - 0s 9ms/step - loss: 3.2629 - log_cosh: 1.9745 - mean_absolute_error: 2.5663 - mean_squared_error: 10.8009 - binary_crossentropy: -768.1434\n",
      "Epoch 21/100\n",
      "38/38 [==============================] - 0s 9ms/step - loss: 3.2631 - log_cosh: 1.9777 - mean_absolute_error: 2.5670 - mean_squared_error: 10.8233 - binary_crossentropy: -768.1432\n",
      "Epoch 22/100\n",
      "38/38 [==============================] - 0s 9ms/step - loss: 3.2446 - log_cosh: 1.9762 - mean_absolute_error: 2.5673 - mean_squared_error: 10.8288 - binary_crossentropy: -768.1432\n",
      "Epoch 23/100\n",
      "38/38 [==============================] - 0s 9ms/step - loss: 3.2666 - log_cosh: 1.9790 - mean_absolute_error: 2.5706 - mean_squared_error: 10.8297 - binary_crossentropy: -768.1433\n",
      "Epoch 24/100\n",
      "38/38 [==============================] - 0s 9ms/step - loss: 3.2611 - log_cosh: 1.9801 - mean_absolute_error: 2.5719 - mean_squared_error: 10.8375 - binary_crossentropy: -768.1431\n",
      "Epoch 25/100\n",
      "38/38 [==============================] - 0s 11ms/step - loss: 3.2557 - log_cosh: 1.9776 - mean_absolute_error: 2.5695 - mean_squared_error: 10.8161 - binary_crossentropy: -768.1434\n",
      "Epoch 26/100\n",
      "38/38 [==============================] - 0s 12ms/step - loss: 3.2562 - log_cosh: 1.9783 - mean_absolute_error: 2.5678 - mean_squared_error: 10.8465 - binary_crossentropy: -768.1433\n",
      "Epoch 27/100\n",
      "38/38 [==============================] - 0s 11ms/step - loss: 3.2570 - log_cosh: 1.9749 - mean_absolute_error: 2.5661 - mean_squared_error: 10.8117 - binary_crossentropy: -768.1432\n",
      "Epoch 28/100\n",
      "38/38 [==============================] - 0s 10ms/step - loss: 3.2562 - log_cosh: 1.9736 - mean_absolute_error: 2.5642 - mean_squared_error: 10.7930 - binary_crossentropy: -768.1432\n",
      "Epoch 29/100\n",
      "38/38 [==============================] - 0s 9ms/step - loss: 3.2423 - log_cosh: 1.9822 - mean_absolute_error: 2.5737 - mean_squared_error: 10.8425 - binary_crossentropy: -768.1433\n",
      "Epoch 30/100\n",
      "38/38 [==============================] - 0s 9ms/step - loss: 3.2437 - log_cosh: 1.9681 - mean_absolute_error: 2.5579 - mean_squared_error: 10.7645 - binary_crossentropy: -768.1432\n",
      "Epoch 31/100\n",
      "38/38 [==============================] - 0s 9ms/step - loss: 3.2429 - log_cosh: 1.9718 - mean_absolute_error: 2.5620 - mean_squared_error: 10.7938 - binary_crossentropy: -768.1433\n",
      "Epoch 32/100\n",
      "38/38 [==============================] - 0s 9ms/step - loss: 3.2613 - log_cosh: 1.9795 - mean_absolute_error: 2.5705 - mean_squared_error: 10.8170 - binary_crossentropy: -768.1433\n",
      "Epoch 33/100\n",
      "38/38 [==============================] - 0s 9ms/step - loss: 3.2615 - log_cosh: 1.9750 - mean_absolute_error: 2.5649 - mean_squared_error: 10.8095 - binary_crossentropy: -768.1431\n",
      "Epoch 34/100\n",
      "38/38 [==============================] - 0s 9ms/step - loss: 3.2570 - log_cosh: 1.9763 - mean_absolute_error: 2.5688 - mean_squared_error: 10.8250 - binary_crossentropy: -768.1432\n",
      "Epoch 35/100\n",
      "38/38 [==============================] - 0s 9ms/step - loss: 3.2491 - log_cosh: 1.9729 - mean_absolute_error: 2.5640 - mean_squared_error: 10.8016 - binary_crossentropy: -768.1431\n",
      "Epoch 36/100\n",
      "38/38 [==============================] - 0s 9ms/step - loss: 3.2703 - log_cosh: 1.9893 - mean_absolute_error: 2.5785 - mean_squared_error: 10.9036 - binary_crossentropy: -768.1432\n",
      "Epoch 37/100\n",
      "38/38 [==============================] - 0s 9ms/step - loss: 3.2579 - log_cosh: 1.9866 - mean_absolute_error: 2.5801 - mean_squared_error: 10.8851 - binary_crossentropy: -768.1431\n",
      "Epoch 38/100\n",
      "38/38 [==============================] - 0s 9ms/step - loss: 3.2564 - log_cosh: 1.9790 - mean_absolute_error: 2.5693 - mean_squared_error: 10.8428 - binary_crossentropy: -768.1433\n",
      "Epoch 39/100\n",
      "38/38 [==============================] - 0s 9ms/step - loss: 3.2679 - log_cosh: 1.9845 - mean_absolute_error: 2.5763 - mean_squared_error: 10.8446 - binary_crossentropy: -768.1431\n",
      "Epoch 40/100\n",
      "38/38 [==============================] - 0s 9ms/step - loss: 3.2383 - log_cosh: 1.9766 - mean_absolute_error: 2.5680 - mean_squared_error: 10.8323 - binary_crossentropy: -768.1431\n",
      "Epoch 41/100\n",
      "38/38 [==============================] - 0s 10ms/step - loss: 3.2611 - log_cosh: 1.9945 - mean_absolute_error: 2.5859 - mean_squared_error: 10.9353 - binary_crossentropy: -768.1433\n",
      "Epoch 42/100\n",
      "38/38 [==============================] - 0s 10ms/step - loss: 3.2480 - log_cosh: 1.9761 - mean_absolute_error: 2.5661 - mean_squared_error: 10.8266 - binary_crossentropy: -768.1432\n",
      "Epoch 43/100\n"
     ]
    },
    {
     "name": "stdout",
     "output_type": "stream",
     "text": [
      "38/38 [==============================] - 0s 11ms/step - loss: 3.2557 - log_cosh: 1.9747 - mean_absolute_error: 2.5667 - mean_squared_error: 10.8230 - binary_crossentropy: -768.1431\n",
      "Epoch 44/100\n",
      "38/38 [==============================] - 0s 11ms/step - loss: 3.2579 - log_cosh: 1.9789 - mean_absolute_error: 2.5661 - mean_squared_error: 10.8300 - binary_crossentropy: -768.1432\n",
      "Epoch 45/100\n",
      "38/38 [==============================] - 0s 11ms/step - loss: 3.2565 - log_cosh: 1.9820 - mean_absolute_error: 2.5723 - mean_squared_error: 10.8646 - binary_crossentropy: -768.1433\n",
      "Epoch 46/100\n",
      "38/38 [==============================] - 0s 9ms/step - loss: 3.2620 - log_cosh: 1.9715 - mean_absolute_error: 2.5631 - mean_squared_error: 10.7986 - binary_crossentropy: -768.1433\n",
      "Epoch 47/100\n",
      "38/38 [==============================] - 0s 9ms/step - loss: 3.2456 - log_cosh: 1.9832 - mean_absolute_error: 2.5738 - mean_squared_error: 10.8182 - binary_crossentropy: -768.1431\n",
      "Epoch 48/100\n",
      "38/38 [==============================] - 0s 9ms/step - loss: 3.2620 - log_cosh: 1.9751 - mean_absolute_error: 2.5666 - mean_squared_error: 10.8194 - binary_crossentropy: -768.1432\n",
      "Epoch 49/100\n",
      "38/38 [==============================] - 0s 9ms/step - loss: 3.2496 - log_cosh: 1.9775 - mean_absolute_error: 2.5676 - mean_squared_error: 10.8305 - binary_crossentropy: -768.1434\n",
      "Epoch 50/100\n",
      "38/38 [==============================] - 0s 9ms/step - loss: 3.2583 - log_cosh: 1.9764 - mean_absolute_error: 2.5661 - mean_squared_error: 10.8081 - binary_crossentropy: -768.1432\n",
      "Epoch 51/100\n",
      "38/38 [==============================] - 0s 9ms/step - loss: 3.2582 - log_cosh: 1.9843 - mean_absolute_error: 2.5746 - mean_squared_error: 10.8792 - binary_crossentropy: -768.1432\n",
      "Epoch 52/100\n",
      "38/38 [==============================] - 0s 9ms/step - loss: 3.2606 - log_cosh: 1.9827 - mean_absolute_error: 2.5731 - mean_squared_error: 10.8929 - binary_crossentropy: -768.1431\n",
      "Epoch 53/100\n",
      "38/38 [==============================] - 0s 9ms/step - loss: 3.2484 - log_cosh: 1.9757 - mean_absolute_error: 2.5663 - mean_squared_error: 10.8042 - binary_crossentropy: -768.1432\n",
      "Epoch 54/100\n",
      "38/38 [==============================] - 0s 9ms/step - loss: 3.2435 - log_cosh: 1.9700 - mean_absolute_error: 2.5602 - mean_squared_error: 10.8025 - binary_crossentropy: -768.1433\n",
      "Epoch 55/100\n",
      "38/38 [==============================] - 0s 9ms/step - loss: 3.2599 - log_cosh: 1.9762 - mean_absolute_error: 2.5666 - mean_squared_error: 10.8751 - binary_crossentropy: -768.1433\n",
      "Epoch 56/100\n",
      "38/38 [==============================] - 0s 9ms/step - loss: 3.2514 - log_cosh: 1.9748 - mean_absolute_error: 2.5630 - mean_squared_error: 10.8244 - binary_crossentropy: -768.1432\n",
      "Epoch 57/100\n",
      "38/38 [==============================] - 0s 9ms/step - loss: 3.2488 - log_cosh: 1.9734 - mean_absolute_error: 2.5644 - mean_squared_error: 10.7911 - binary_crossentropy: -768.1432\n",
      "Epoch 58/100\n",
      "38/38 [==============================] - 0s 9ms/step - loss: 3.2656 - log_cosh: 1.9799 - mean_absolute_error: 2.5704 - mean_squared_error: 10.8940 - binary_crossentropy: -768.1432\n",
      "Epoch 59/100\n",
      "38/38 [==============================] - 0s 9ms/step - loss: 3.2503 - log_cosh: 1.9770 - mean_absolute_error: 2.5659 - mean_squared_error: 10.8419 - binary_crossentropy: -768.1432\n",
      "Epoch 60/100\n",
      "38/38 [==============================] - 0s 10ms/step - loss: 3.2520 - log_cosh: 1.9773 - mean_absolute_error: 2.5674 - mean_squared_error: 10.8374 - binary_crossentropy: -768.1432\n",
      "Epoch 61/100\n",
      "38/38 [==============================] - 0s 11ms/step - loss: 3.2548 - log_cosh: 1.9833 - mean_absolute_error: 2.5748 - mean_squared_error: 10.8298 - binary_crossentropy: -768.1432\n",
      "Epoch 62/100\n",
      "38/38 [==============================] - 0s 11ms/step - loss: 3.2676 - log_cosh: 1.9873 - mean_absolute_error: 2.5801 - mean_squared_error: 10.8646 - binary_crossentropy: -768.1431\n",
      "Epoch 63/100\n",
      "38/38 [==============================] - 0s 11ms/step - loss: 3.2644 - log_cosh: 1.9895 - mean_absolute_error: 2.5816 - mean_squared_error: 10.9112 - binary_crossentropy: -768.1432\n",
      "Epoch 64/100\n",
      "38/38 [==============================] - 0s 9ms/step - loss: 3.2586 - log_cosh: 1.9753 - mean_absolute_error: 2.5639 - mean_squared_error: 10.8212 - binary_crossentropy: -768.1432\n",
      "Epoch 65/100\n",
      "38/38 [==============================] - 0s 9ms/step - loss: 3.2553 - log_cosh: 1.9796 - mean_absolute_error: 2.5704 - mean_squared_error: 10.8288 - binary_crossentropy: -768.1432\n",
      "Epoch 66/100\n",
      "38/38 [==============================] - 0s 9ms/step - loss: 3.2639 - log_cosh: 1.9815 - mean_absolute_error: 2.5733 - mean_squared_error: 10.8594 - binary_crossentropy: -768.1432\n",
      "Epoch 67/100\n",
      "38/38 [==============================] - 0s 9ms/step - loss: 3.2601 - log_cosh: 1.9757 - mean_absolute_error: 2.5631 - mean_squared_error: 10.8351 - binary_crossentropy: -768.1433\n",
      "Epoch 68/100\n",
      "38/38 [==============================] - 0s 9ms/step - loss: 3.2530 - log_cosh: 1.9770 - mean_absolute_error: 2.5675 - mean_squared_error: 10.8292 - binary_crossentropy: -768.1432\n",
      "Epoch 69/100\n",
      "38/38 [==============================] - 0s 9ms/step - loss: 3.2530 - log_cosh: 1.9698 - mean_absolute_error: 2.5607 - mean_squared_error: 10.7926 - binary_crossentropy: -768.1432\n",
      "Epoch 70/100\n",
      "38/38 [==============================] - 0s 9ms/step - loss: 3.2827 - log_cosh: 1.9993 - mean_absolute_error: 2.5931 - mean_squared_error: 10.9343 - binary_crossentropy: -768.1431\n",
      "Epoch 71/100\n",
      "38/38 [==============================] - 0s 9ms/step - loss: 3.2474 - log_cosh: 1.9735 - mean_absolute_error: 2.5630 - mean_squared_error: 10.8204 - binary_crossentropy: -768.1433\n",
      "Epoch 72/100\n",
      "38/38 [==============================] - 0s 9ms/step - loss: 3.2523 - log_cosh: 1.9804 - mean_absolute_error: 2.5703 - mean_squared_error: 10.8463 - binary_crossentropy: -768.1432\n",
      "Epoch 73/100\n",
      "38/38 [==============================] - 0s 9ms/step - loss: 3.2553 - log_cosh: 1.9752 - mean_absolute_error: 2.5665 - mean_squared_error: 10.7990 - binary_crossentropy: -768.1432\n",
      "Epoch 74/100\n",
      "38/38 [==============================] - 0s 9ms/step - loss: 3.2452 - log_cosh: 1.9720 - mean_absolute_error: 2.5610 - mean_squared_error: 10.8123 - binary_crossentropy: -768.1432\n",
      "Epoch 75/100\n",
      "38/38 [==============================] - 0s 9ms/step - loss: 3.2489 - log_cosh: 1.9735 - mean_absolute_error: 2.5637 - mean_squared_error: 10.8074 - binary_crossentropy: -768.1432\n",
      "Epoch 76/100\n",
      "38/38 [==============================] - 0s 9ms/step - loss: 3.2536 - log_cosh: 1.9785 - mean_absolute_error: 2.5651 - mean_squared_error: 10.8537 - binary_crossentropy: -768.1432\n",
      "Epoch 77/100\n",
      "38/38 [==============================] - 0s 9ms/step - loss: 3.2404 - log_cosh: 1.9784 - mean_absolute_error: 2.5692 - mean_squared_error: 10.8236 - binary_crossentropy: -768.1433\n",
      "Epoch 78/100\n",
      "38/38 [==============================] - 0s 11ms/step - loss: 3.2651 - log_cosh: 1.9877 - mean_absolute_error: 2.5770 - mean_squared_error: 10.8966 - binary_crossentropy: -768.1432\n",
      "Epoch 79/100\n",
      "38/38 [==============================] - 0s 11ms/step - loss: 3.2613 - log_cosh: 1.9766 - mean_absolute_error: 2.5653 - mean_squared_error: 10.8383 - binary_crossentropy: -768.1432\n",
      "Epoch 80/100\n",
      "38/38 [==============================] - 0s 11ms/step - loss: 3.2629 - log_cosh: 1.9762 - mean_absolute_error: 2.5648 - mean_squared_error: 10.8503 - binary_crossentropy: -768.1433\n",
      "Epoch 81/100\n",
      "38/38 [==============================] - 0s 10ms/step - loss: 3.2541 - log_cosh: 1.9851 - mean_absolute_error: 2.5754 - mean_squared_error: 10.8784 - binary_crossentropy: -768.1432\n",
      "Epoch 82/100\n",
      "38/38 [==============================] - 0s 9ms/step - loss: 3.2566 - log_cosh: 1.9739 - mean_absolute_error: 2.5657 - mean_squared_error: 10.8021 - binary_crossentropy: -768.1431\n",
      "Epoch 83/100\n",
      "38/38 [==============================] - 0s 9ms/step - loss: 3.2531 - log_cosh: 1.9775 - mean_absolute_error: 2.5678 - mean_squared_error: 10.8468 - binary_crossentropy: -768.1432\n",
      "Epoch 84/100\n",
      "38/38 [==============================] - 0s 9ms/step - loss: 3.2515 - log_cosh: 1.9702 - mean_absolute_error: 2.5621 - mean_squared_error: 10.8205 - binary_crossentropy: -768.1434\n",
      "Epoch 85/100\n"
     ]
    },
    {
     "name": "stdout",
     "output_type": "stream",
     "text": [
      "38/38 [==============================] - 0s 9ms/step - loss: 3.2649 - log_cosh: 1.9732 - mean_absolute_error: 2.5630 - mean_squared_error: 10.8357 - binary_crossentropy: -768.1432\n",
      "Epoch 86/100\n",
      "38/38 [==============================] - 0s 9ms/step - loss: 3.2570 - log_cosh: 1.9813 - mean_absolute_error: 2.5741 - mean_squared_error: 10.8434 - binary_crossentropy: -768.1432\n",
      "Epoch 87/100\n",
      "38/38 [==============================] - 0s 9ms/step - loss: 3.2476 - log_cosh: 1.9775 - mean_absolute_error: 2.5682 - mean_squared_error: 10.8244 - binary_crossentropy: -768.1432\n",
      "Epoch 88/100\n",
      "38/38 [==============================] - 0s 9ms/step - loss: 3.2502 - log_cosh: 1.9739 - mean_absolute_error: 2.5638 - mean_squared_error: 10.7926 - binary_crossentropy: -768.1433\n",
      "Epoch 89/100\n",
      "38/38 [==============================] - 0s 9ms/step - loss: 3.2654 - log_cosh: 1.9807 - mean_absolute_error: 2.5733 - mean_squared_error: 10.8271 - binary_crossentropy: -768.1433\n",
      "Epoch 90/100\n",
      "38/38 [==============================] - 0s 9ms/step - loss: 3.2456 - log_cosh: 1.9743 - mean_absolute_error: 2.5634 - mean_squared_error: 10.8102 - binary_crossentropy: -768.1433\n",
      "Epoch 91/100\n",
      "38/38 [==============================] - 0s 9ms/step - loss: 3.2554 - log_cosh: 1.9738 - mean_absolute_error: 2.5652 - mean_squared_error: 10.8590 - binary_crossentropy: -768.1431\n",
      "Epoch 92/100\n",
      "38/38 [==============================] - 0s 9ms/step - loss: 3.2669 - log_cosh: 1.9761 - mean_absolute_error: 2.5634 - mean_squared_error: 10.8523 - binary_crossentropy: -768.1431\n",
      "Epoch 93/100\n",
      "38/38 [==============================] - 0s 9ms/step - loss: 3.2433 - log_cosh: 1.9801 - mean_absolute_error: 2.5711 - mean_squared_error: 10.8514 - binary_crossentropy: -768.1431\n",
      "Epoch 94/100\n",
      "38/38 [==============================] - 0s 9ms/step - loss: 3.2472 - log_cosh: 1.9733 - mean_absolute_error: 2.5641 - mean_squared_error: 10.8186 - binary_crossentropy: -768.1431\n",
      "Epoch 95/100\n",
      "38/38 [==============================] - 0s 9ms/step - loss: 3.2699 - log_cosh: 1.9912 - mean_absolute_error: 2.5819 - mean_squared_error: 10.9547 - binary_crossentropy: -768.1432\n",
      "Epoch 96/100\n",
      "38/38 [==============================] - 0s 11ms/step - loss: 3.2551 - log_cosh: 1.9791 - mean_absolute_error: 2.5696 - mean_squared_error: 10.8372 - binary_crossentropy: -768.1432\n",
      "Epoch 97/100\n",
      "38/38 [==============================] - 0s 11ms/step - loss: 3.2481 - log_cosh: 1.9748 - mean_absolute_error: 2.5655 - mean_squared_error: 10.7897 - binary_crossentropy: -768.1432\n",
      "Epoch 98/100\n",
      "38/38 [==============================] - 0s 11ms/step - loss: 3.2558 - log_cosh: 1.9869 - mean_absolute_error: 2.5799 - mean_squared_error: 10.8649 - binary_crossentropy: -768.1434\n",
      "Epoch 99/100\n",
      "38/38 [==============================] - 0s 10ms/step - loss: 3.2594 - log_cosh: 1.9824 - mean_absolute_error: 2.5703 - mean_squared_error: 10.9087 - binary_crossentropy: -768.1432\n",
      "Epoch 100/100\n",
      "38/38 [==============================] - 0s 9ms/step - loss: 3.2814 - log_cosh: 1.9956 - mean_absolute_error: 2.5884 - mean_squared_error: 11.0506 - binary_crossentropy: -768.1432\n"
     ]
    },
    {
     "data": {
      "text/plain": [
       "<keras.callbacks.History at 0x1ad817f6710>"
      ]
     },
     "execution_count": 30,
     "metadata": {},
     "output_type": "execute_result"
    }
   ],
   "source": [
    "# Train LSTM with full data\n",
    "full_train = full.copy()\n",
    "full_train.index = pd.DatetimeIndex(full_train.index.values).to_period('D')\n",
    "\n",
    "# Create and train the Model\n",
    "mixed_model = create_model_builder('mixed')(best_mixed_hps)\n",
    "early_stop = keras.callbacks.EarlyStopping(monitor='loss', patience=5, min_delta=0.0001, mode='min')\n",
    "mixed_model.fit(full_timestamps, full_train, epochs=100, callbacks=[tensorboard_callback])"
   ]
  },
  {
   "cell_type": "code",
   "execution_count": 31,
   "id": "3168eddf",
   "metadata": {},
   "outputs": [
    {
     "name": "stdout",
     "output_type": "stream",
     "text": [
      "6/6 [==============================] - 0s 3ms/step\n",
      "Neural Network with mixed layers\n",
      "------------------------------------------------\n",
      "Model: \"sequential_6\"\n",
      "_________________________________________________________________\n",
      " Layer (type)                Output Shape              Param #   \n",
      "=================================================================\n",
      " simple_rnn_4 (SimpleRNN)    (None, 1, 160)            25760     \n",
      "                                                                 \n",
      " gru_5 (GRU)                 (None, 1, 16)             8448      \n",
      "                                                                 \n",
      " gru_6 (GRU)                 (None, 1, 320)            322560    \n",
      "                                                                 \n",
      " dense_5 (Dense)             (None, 1, 1)              321       \n",
      "                                                                 \n",
      "=================================================================\n",
      "Total params: 357,089\n",
      "Trainable params: 357,089\n",
      "Non-trainable params: 0\n",
      "_________________________________________________________________\n",
      "------------------------------------------------\n",
      "Next week (2023-05-31): 0.025071\n",
      "Next month (2023-06-23): 0.025071\n",
      "Next 3rdmonth (2023-08-22): 0.025071\n"
     ]
    }
   ],
   "source": [
    "# Mixed-RNN continued\n",
    "\n",
    "# Forecast\n",
    "mixed_pred = mixed_model.predict(future_timestamps).flatten()\n",
    "mixed_pred = pd.Series(mixed_pred, index=future_dates)\n",
    "    \n",
    "# Scale back to [-1, 1]\n",
    "mixed_pred = ts_unscale(mixed_pred)\n",
    "\n",
    "print('Neural Network with mixed layers')\n",
    "print('------------------------------------------------')\n",
    "mixed_model.summary()\n",
    "print('------------------------------------------------')\n",
    "print_forecasts(mixed_pred)"
   ]
  },
  {
   "cell_type": "markdown",
   "id": "5b3880f2",
   "metadata": {},
   "source": [
    "### 5. Visualize future forecast"
   ]
  },
  {
   "cell_type": "code",
   "execution_count": 32,
   "id": "8a77eedd",
   "metadata": {},
   "outputs": [
    {
     "data": {
      "image/png": "[encoded data removed]",
      "text/plain": [
       "<Figure size 640x480 with 1 Axes>"
      ]
     },
     "metadata": {},
     "output_type": "display_data"
    }
   ],
   "source": [
    "# Compare predictions for test dates\n",
    "unscaled_full = ts_unscale(full)\n",
    "plt.plot(unscaled_full, color='black', label='real')\n",
    "arma_pred.index = future_dates\n",
    "plt.plot(arma_pred, label='arma_forecast')\n",
    "arima_pred.index = future_dates\n",
    "plt.plot(arima_pred, label='arima_forecast')\n",
    "sarima_pred.index = future_dates\n",
    "plt.plot(sarima_pred, label='sarima_forecast')\n",
    "plt.plot(lstm_pred, label='lstm_forecast')\n",
    "plt.plot(mixed_pred, label='mixed_forecast')\n",
    "plt.ylabel('Compound sentiment score')\n",
    "plt.xlabel('Date')\n",
    "all_indices = list(unscaled_full.index) + future_dates\n",
    "plt.xticks(all_indices[::60], rotation=45)\n",
    "plt.legend()\n",
    "plt.title('Compare historical and forecasted values')\n",
    "plt.show()"
   ]
  }
 ],
 "metadata": {
  "kernelspec": {
   "display_name": "Python 3 (ipykernel)",
   "language": "python",
   "name": "python3"
  },
  "language_info": {
   "codemirror_mode": {
    "name": "ipython",
    "version": 3
   },
   "file_extension": ".py",
   "mimetype": "text/x-python",
   "name": "python",
   "nbconvert_exporter": "python",
   "pygments_lexer": "ipython3",
   "version": "3.10.9"
  }
 },
 "nbformat": 4,
 "nbformat_minor": 5
}
